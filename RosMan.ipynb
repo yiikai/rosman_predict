{
 "cells": [
  {
   "cell_type": "code",
   "execution_count": 1,
   "metadata": {},
   "outputs": [],
   "source": [
    "import numpy as np\n",
    "import pandas as pd\n",
    "import matplotlib.pyplot as plt\n",
    "from sklearn.preprocessing import OneHotEncoder,LabelEncoder,MinMaxScaler\n",
    "import xgboost as xgb\n",
    "import os\n",
    "os.environ['KMP_DUPLICATE_LIB_OK']='True'"
   ]
  },
  {
   "cell_type": "code",
   "execution_count": 2,
   "metadata": {},
   "outputs": [],
   "source": [
    "Dataset_dir = [\"./train.csv\", \"./store.csv\",\"./test.csv\"]\n",
    "pd.options.display.max_columns = None"
   ]
  },
  {
   "cell_type": "code",
   "execution_count": 3,
   "metadata": {},
   "outputs": [],
   "source": [
    "def load_data(dir):\n",
    "    data = pd.read_csv(dir[0],parse_dates=[2])\n",
    "    store = pd.read_csv(dir[1])\n",
    "    test = pd.read_csv(dir[2],parse_dates=[3])\n",
    "    return data,store,test"
   ]
  },
  {
   "cell_type": "code",
   "execution_count": 4,
   "metadata": {},
   "outputs": [
    {
     "name": "stderr",
     "output_type": "stream",
     "text": [
      "D:\\AnaconDA\\lib\\site-packages\\IPython\\core\\interactiveshell.py:3185: DtypeWarning: Columns (7) have mixed types. Specify dtype option on import or set low_memory=False.\n",
      "  if (yield from self.run_code(code, result)):\n"
     ]
    },
    {
     "name": "stdout",
     "output_type": "stream",
     "text": [
      "Index(['Store', 'DayOfWeek', 'Date', 'Sales', 'Customers', 'Open', 'Promo',\n",
      "       'StateHoliday', 'SchoolHoliday', 'StoreType', 'Assortment',\n",
      "       'CompetitionDistance', 'CompetitionOpenSinceMonth',\n",
      "       'CompetitionOpenSinceYear', 'Promo2', 'Promo2SinceWeek',\n",
      "       'Promo2SinceYear', 'PromoInterval'],\n",
      "      dtype='object')\n",
      "Index(['Id', 'Store', 'DayOfWeek', 'Date', 'Open', 'Promo', 'StateHoliday',\n",
      "       'SchoolHoliday', 'StoreType', 'Assortment', 'CompetitionDistance',\n",
      "       'CompetitionOpenSinceMonth', 'CompetitionOpenSinceYear', 'Promo2',\n",
      "       'Promo2SinceWeek', 'Promo2SinceYear', 'PromoInterval'],\n",
      "      dtype='object')\n"
     ]
    }
   ],
   "source": [
    "train,store,test = load_data(Dataset_dir)\n",
    "train = train[train['Open'] != 0]\n",
    "train = pd.merge(train, store, on='Store')\n",
    "test = pd.merge(test, store, on='Store')\n",
    "print(train.columns)\n",
    "print(test.columns)"
   ]
  },
  {
   "cell_type": "code",
   "execution_count": 5,
   "metadata": {},
   "outputs": [],
   "source": [
    "#对时间序列进行分析\n",
    "#总的销售趋势2013-2015年\n",
    "# train['date'] = pd.to_datetime(train.Date)\n",
    "# data = train.loc[:,['Sales']]\n",
    "# data = data.set_index(train.date)\n",
    "# data.plot()\n",
    "\n",
    "# weekly = data.resample('W').sum()\n",
    "# weekly.plot()\n",
    "\n",
    "# dayily = data.resample('D').sum()\n",
    "# dayily.plot()"
   ]
  },
  {
   "cell_type": "code",
   "execution_count": 6,
   "metadata": {},
   "outputs": [],
   "source": [
    "TESTID = test['Id']"
   ]
  },
  {
   "cell_type": "code",
   "execution_count": 7,
   "metadata": {
    "scrolled": true
   },
   "outputs": [
    {
     "data": {
      "image/png": "[encoded data removed]",
      "text/plain": [
       "<Figure size 432x288 with 1 Axes>"
      ]
     },
     "metadata": {
      "needs_background": "light"
     },
     "output_type": "display_data"
    },
    {
     "data": {
      "image/png": "[encoded data removed]",
      "text/plain": [
       "<Figure size 432x288 with 1 Axes>"
      ]
     },
     "metadata": {
      "needs_background": "light"
     },
     "output_type": "display_data"
    }
   ],
   "source": [
    "train.Customers.plot(kind='box')\n",
    "plt.show()\n",
    "train.CompetitionDistance.plot(kind='box')\n",
    "plt.show()"
   ]
  },
  {
   "cell_type": "code",
   "execution_count": 8,
   "metadata": {},
   "outputs": [
    {
     "data": {
      "image/png": "[encoded data removed]",
      "text/plain": [
       "<Figure size 432x288 with 1 Axes>"
      ]
     },
     "metadata": {
      "needs_background": "light"
     },
     "output_type": "display_data"
    },
    {
     "data": {
      "image/png": "[encoded data removed]",
      "text/plain": [
       "<Figure size 432x288 with 1 Axes>"
      ]
     },
     "metadata": {
      "needs_background": "light"
     },
     "output_type": "display_data"
    }
   ],
   "source": [
    "sales_mean = train.groupby('Store')['Sales'].mean()\n",
    "plt.hist(sales_mean)\n",
    "plt.show()\n",
    "plt.hist(np.log1p(sales_mean))\n",
    "plt.show()"
   ]
  },
  {
   "cell_type": "code",
   "execution_count": 9,
   "metadata": {},
   "outputs": [],
   "source": [
    "Store_DaysWeek = train.groupby(['Store','DayOfWeek'])\n",
    "sw_mean = Store_DaysWeek[\"Sales\"].mean()"
   ]
  },
  {
   "cell_type": "code",
   "execution_count": 10,
   "metadata": {},
   "outputs": [],
   "source": [
    "def build_feature(data,istrain):\n",
    "    mappings = {'0':0, 'a':1, 'b':2, 'c':3, 'd':4}\n",
    "    data.StoreType.replace(mappings, inplace=True)\n",
    "    data.Assortment.replace(mappings, inplace=True)\n",
    "    data.StateHoliday.replace(mappings, inplace=True)\n",
    "    \n",
    "    #CART回归树不需要预处理数据和NAn值\n",
    "#     distance_max = max(data.CompetitionDistance)\n",
    "#     data.CompetitionDistance.mask(data.CompetitionDistance.isna(),other=distance_max,inplace=True)\n",
    "#     print(data.CompetitionDistance.isnull().any())\n",
    "#     min_max_scaler = MinMaxScaler()\n",
    "#     scaledata = min_max_scaler.fit_transform(data[['CompetitionDistance']])\n",
    "#     data.drop(\"CompetitionDistance\",axis=1)\n",
    "#     data['CompetitionDistance'] = scaledata\n",
    "    #时间序列问题 需要考虑进时间的因素\n",
    "    data['Year'] = data.Date.dt.year\n",
    "    print(data['Year'].dtype)\n",
    "    data['Month'] = data.Date.dt.month\n",
    "    data['Day'] = data.Date.dt.day\n",
    "    \n",
    "    if istrain:\n",
    "        data.drop(['Store','Open','Date','Customers','PromoInterval',],axis=1,inplace=True)\n",
    "        #data.drop(['Store','Open','Date','Customers','PromoInterval','SchoolHoliday','Promo2','StateHoliday','Promo2SinceWeek'],axis=1,inplace=True)\n",
    "    else:\n",
    "        data.drop(['Id','Store','Open','Date','PromoInterval',],axis=1,inplace=True)\n",
    "        #data.drop(['Id','Store','Open','Date','PromoInterval','SchoolHoliday','Promo2','StateHoliday','Promo2SinceWeek'],axis=1,inplace=True)\n",
    "    print(data.columns)"
   ]
  },
  {
   "cell_type": "code",
   "execution_count": 11,
   "metadata": {},
   "outputs": [
    {
     "name": "stdout",
     "output_type": "stream",
     "text": [
      "int64\n",
      "Index(['DayOfWeek', 'Sales', 'Promo', 'StateHoliday', 'SchoolHoliday',\n",
      "       'StoreType', 'Assortment', 'CompetitionDistance',\n",
      "       'CompetitionOpenSinceMonth', 'CompetitionOpenSinceYear', 'Promo2',\n",
      "       'Promo2SinceWeek', 'Promo2SinceYear', 'Year', 'Month', 'Day'],\n",
      "      dtype='object')\n",
      "int64\n",
      "Index(['DayOfWeek', 'Promo', 'StateHoliday', 'SchoolHoliday', 'StoreType',\n",
      "       'Assortment', 'CompetitionDistance', 'CompetitionOpenSinceMonth',\n",
      "       'CompetitionOpenSinceYear', 'Promo2', 'Promo2SinceWeek',\n",
      "       'Promo2SinceYear', 'Year', 'Month', 'Day'],\n",
      "      dtype='object')\n"
     ]
    }
   ],
   "source": [
    "#build train data\n",
    "build_feature(train,True)\n",
    "#build test data\n",
    "build_feature(test,False)"
   ]
  },
  {
   "cell_type": "code",
   "execution_count": 12,
   "metadata": {},
   "outputs": [
    {
     "data": {
      "image/png": "[encoded data removed]",
      "text/plain": [
       "<Figure size 432x288 with 1 Axes>"
      ]
     },
     "metadata": {
      "needs_background": "light"
     },
     "output_type": "display_data"
    },
    {
     "data": {
      "image/png": "[encoded data removed]",
      "text/plain": [
       "<Figure size 432x288 with 1 Axes>"
      ]
     },
     "metadata": {
      "needs_background": "light"
     },
     "output_type": "display_data"
    },
    {
     "data": {
      "image/png": "[encoded data removed]",
      "text/plain": [
       "<Figure size 432x288 with 1 Axes>"
      ]
     },
     "metadata": {
      "needs_background": "light"
     },
     "output_type": "display_data"
    },
    {
     "data": {
      "image/png": "[encoded data removed]",
      "text/plain": [
       "<Figure size 432x288 with 1 Axes>"
      ]
     },
     "metadata": {
      "needs_background": "light"
     },
     "output_type": "display_data"
    }
   ],
   "source": [
    "ST_gp = train.groupby('StoreType')['Sales'].agg('mean')\n",
    "import seaborn as sns\n",
    "sns.barplot(ST_gp.index,ST_gp.values)\n",
    "plt.show()\n",
    "\n",
    "As_gp = train.groupby('Assortment')['Sales'].agg('mean')\n",
    "sns.barplot(As_gp.index,As_gp.values)\n",
    "plt.show()\n",
    "Dayweek_gp = train.groupby(['StoreType','DayOfWeek'])['Sales'].agg('mean')\n",
    "ax = sns.barplot(Dayweek_gp.index,Dayweek_gp.values)\n",
    "ax.set_xticklabels(ax.get_xticklabels(), rotation=90, ha=\"right\")\n",
    "plt.tight_layout()\n",
    "plt.show()\n",
    "\n",
    "#每年销售额的趋势\n",
    "YearS_gp = train.groupby(['Year'])['Sales'].agg(\"mean\")\n",
    "ax2 = sns.lineplot(YearS_gp.index,YearS_gp.values)\n",
    "plt.tight_layout()\n",
    "plt.show()"
   ]
  },
  {
   "cell_type": "code",
   "execution_count": 13,
   "metadata": {},
   "outputs": [
    {
     "name": "stdout",
     "output_type": "stream",
     "text": [
      "(834259, 16)\n",
      "(10133, 16)\n"
     ]
    },
    {
     "name": "stderr",
     "output_type": "stream",
     "text": [
      "D:\\AnaconDA\\lib\\site-packages\\pandas\\core\\frame.py:3697: SettingWithCopyWarning: \n",
      "A value is trying to be set on a copy of a slice from a DataFrame\n",
      "\n",
      "See the caveats in the documentation: http://pandas.pydata.org/pandas-docs/stable/indexing.html#indexing-view-versus-copy\n",
      "  errors=errors)\n"
     ]
    }
   ],
   "source": [
    "#split train vaild data\n",
    "from sklearn.model_selection import train_test_split\n",
    "X_train, X_valid = train_test_split(train, test_size=0.012, random_state=10)\n",
    "print(X_train.shape)\n",
    "print(X_valid.shape)\n",
    "Y_train = X_train[\"Sales\"]\n",
    "Y_valid = X_valid[\"Sales\"]\n",
    "X_train.drop(\"Sales\",axis=1,inplace=True)\n",
    "X_valid.drop(\"Sales\",axis=1,inplace=True)"
   ]
  },
  {
   "cell_type": "code",
   "execution_count": 14,
   "metadata": {},
   "outputs": [
    {
     "data": {
      "image/png": "[encoded data removed]",
      "text/plain": [
       "<Figure size 432x288 with 1 Axes>"
      ]
     },
     "metadata": {
      "needs_background": "light"
     },
     "output_type": "display_data"
    }
   ],
   "source": [
    "plt.boxplot([Y_train,Y_valid])\n",
    "plt.show()"
   ]
  },
  {
   "cell_type": "code",
   "execution_count": 15,
   "metadata": {},
   "outputs": [
    {
     "data": {
      "image/png": "[encoded data removed]",
      "text/plain": [
       "<Figure size 432x288 with 1 Axes>"
      ]
     },
     "metadata": {
      "needs_background": "light"
     },
     "output_type": "display_data"
    }
   ],
   "source": [
    "Y_train = np.log1p(Y_train)\n",
    "Y_valid = np.log1p(Y_valid)\n",
    "plt.boxplot([Y_train,Y_valid])\n",
    "plt.show()"
   ]
  },
  {
   "cell_type": "code",
   "execution_count": 16,
   "metadata": {},
   "outputs": [],
   "source": [
    "def ToWeight(y):\n",
    "    w = np.zeros(y.shape, dtype=float)\n",
    "    ind = y != 0\n",
    "    w[ind] = 1./(y[ind]**2)\n",
    "    return w\n",
    "\n",
    "def rmspe(yhat, y):\n",
    "    w = ToWeight(y)\n",
    "    rmspe = np.sqrt(np.mean( w * (y - yhat)**2 ))\n",
    "    return rmspe\n",
    "\n",
    "def rmspe_xg(yhat, y):\n",
    "    # y = y.values\n",
    "    y = y.get_label()\n",
    "    y = np.exp(y) - 1\n",
    "    yhat = np.exp(yhat) - 1\n",
    "    w = ToWeight(y)\n",
    "    rmspe = np.sqrt(np.mean(w * (y - yhat)**2))\n",
    "    return \"rmspe\", rmspe"
   ]
  },
  {
   "cell_type": "code",
   "execution_count": 17,
   "metadata": {},
   "outputs": [
    {
     "name": "stderr",
     "output_type": "stream",
     "text": [
      "D:\\AnaconDA\\lib\\site-packages\\xgboost\\core.py:587: FutureWarning: Series.base is deprecated and will be removed in a future version\n",
      "  if getattr(data, 'base', None) is not None and \\\n"
     ]
    },
    {
     "name": "stdout",
     "output_type": "stream",
     "text": [
      "[0]\tvalidation_0-rmse:7.44317\tvalidation_1-rmse:7.43873\tvalidation_0-rmspe:0.999496\tvalidation_1-rmspe:0.999477\n",
      "Multiple eval metrics have been passed: 'validation_1-rmspe' will be used for early stopping.\n",
      "\n",
      "Will train until validation_1-rmspe hasn't improved in 20 rounds.\n",
      "[1]\tvalidation_0-rmse:6.70068\tvalidation_1-rmse:6.69677\tvalidation_0-rmspe:0.998793\tvalidation_1-rmspe:0.998771\n",
      "[2]\tvalidation_0-rmse:6.03251\tvalidation_1-rmse:6.02901\tvalidation_0-rmspe:0.997524\tvalidation_1-rmspe:0.997498\n",
      "[3]\tvalidation_0-rmse:5.43118\tvalidation_1-rmse:5.42795\tvalidation_0-rmspe:0.99539\tvalidation_1-rmspe:0.99536\n",
      "[4]\tvalidation_0-rmse:4.89003\tvalidation_1-rmse:4.88712\tvalidation_0-rmspe:0.99202\tvalidation_1-rmspe:0.991984\n",
      "[5]\tvalidation_0-rmse:4.40306\tvalidation_1-rmse:4.40039\tvalidation_0-rmspe:0.986986\tvalidation_1-rmspe:0.986942\n",
      "[6]\tvalidation_0-rmse:3.96507\tvalidation_1-rmse:3.96277\tvalidation_0-rmspe:0.979815\tvalidation_1-rmspe:0.979764\n",
      "[7]\tvalidation_0-rmse:3.57084\tvalidation_1-rmse:3.56869\tvalidation_0-rmspe:0.970107\tvalidation_1-rmspe:0.970043\n",
      "[8]\tvalidation_0-rmse:3.2162\tvalidation_1-rmse:3.21436\tvalidation_0-rmspe:0.957449\tvalidation_1-rmspe:0.957373\n",
      "[9]\tvalidation_0-rmse:2.89741\tvalidation_1-rmse:2.89583\tvalidation_0-rmspe:0.941537\tvalidation_1-rmspe:0.94145\n",
      "[10]\tvalidation_0-rmse:2.61066\tvalidation_1-rmse:2.60929\tvalidation_0-rmspe:0.922231\tvalidation_1-rmspe:0.922126\n",
      "[11]\tvalidation_0-rmse:2.35283\tvalidation_1-rmse:2.35161\tvalidation_0-rmspe:0.89952\tvalidation_1-rmspe:0.899377\n",
      "[12]\tvalidation_0-rmse:2.12079\tvalidation_1-rmse:2.11971\tvalidation_0-rmspe:0.873577\tvalidation_1-rmspe:0.873377\n",
      "[13]\tvalidation_0-rmse:1.91246\tvalidation_1-rmse:1.9115\tvalidation_0-rmspe:0.84452\tvalidation_1-rmspe:0.84423\n",
      "[14]\tvalidation_0-rmse:1.72535\tvalidation_1-rmse:1.72438\tvalidation_0-rmspe:0.812775\tvalidation_1-rmspe:0.812326\n",
      "[15]\tvalidation_0-rmse:1.55732\tvalidation_1-rmse:1.55649\tvalidation_0-rmspe:0.778835\tvalidation_1-rmspe:0.778184\n",
      "[16]\tvalidation_0-rmse:1.40633\tvalidation_1-rmse:1.40559\tvalidation_0-rmspe:0.743271\tvalidation_1-rmspe:0.742356\n",
      "[17]\tvalidation_0-rmse:1.27091\tvalidation_1-rmse:1.27016\tvalidation_0-rmspe:0.706545\tvalidation_1-rmspe:0.705268\n",
      "[18]\tvalidation_0-rmse:1.14937\tvalidation_1-rmse:1.14877\tvalidation_0-rmspe:0.669338\tvalidation_1-rmspe:0.667628\n",
      "[19]\tvalidation_0-rmse:1.0405\tvalidation_1-rmse:1.04004\tvalidation_0-rmspe:0.631974\tvalidation_1-rmspe:0.629788\n",
      "[20]\tvalidation_0-rmse:0.942919\tvalidation_1-rmse:0.942808\tvalidation_0-rmspe:0.595194\tvalidation_1-rmspe:0.59241\n",
      "[21]\tvalidation_0-rmse:0.855583\tvalidation_1-rmse:0.855642\tvalidation_0-rmspe:0.559364\tvalidation_1-rmspe:0.555831\n",
      "[22]\tvalidation_0-rmse:0.777429\tvalidation_1-rmse:0.777541\tvalidation_0-rmspe:0.524982\tvalidation_1-rmspe:0.520381\n",
      "[23]\tvalidation_0-rmse:0.708105\tvalidation_1-rmse:0.708451\tvalidation_0-rmspe:0.49221\tvalidation_1-rmspe:0.48654\n",
      "[24]\tvalidation_0-rmse:0.645125\tvalidation_1-rmse:0.645608\tvalidation_0-rmspe:0.461212\tvalidation_1-rmspe:0.454343\n",
      "[25]\tvalidation_0-rmse:0.590025\tvalidation_1-rmse:0.590865\tvalidation_0-rmspe:0.4322\tvalidation_1-rmspe:0.424349\n",
      "[26]\tvalidation_0-rmse:0.541419\tvalidation_1-rmse:0.542534\tvalidation_0-rmspe:0.404635\tvalidation_1-rmspe:0.396604\n",
      "[27]\tvalidation_0-rmse:0.496537\tvalidation_1-rmse:0.497956\tvalidation_0-rmspe:0.379988\tvalidation_1-rmspe:0.370438\n",
      "[28]\tvalidation_0-rmse:0.455934\tvalidation_1-rmse:0.457704\tvalidation_0-rmspe:0.357102\tvalidation_1-rmspe:0.346069\n",
      "[29]\tvalidation_0-rmse:0.421906\tvalidation_1-rmse:0.42404\tvalidation_0-rmspe:0.337313\tvalidation_1-rmspe:0.324771\n",
      "[30]\tvalidation_0-rmse:0.392345\tvalidation_1-rmse:0.394886\tvalidation_0-rmspe:0.320077\tvalidation_1-rmspe:0.305968\n",
      "[31]\tvalidation_0-rmse:0.36593\tvalidation_1-rmse:0.368672\tvalidation_0-rmspe:0.304904\tvalidation_1-rmspe:0.289042\n",
      "[32]\tvalidation_0-rmse:0.341723\tvalidation_1-rmse:0.344905\tvalidation_0-rmspe:0.291107\tvalidation_1-rmspe:0.273458\n",
      "[33]\tvalidation_0-rmse:0.320828\tvalidation_1-rmse:0.324363\tvalidation_0-rmspe:0.279026\tvalidation_1-rmspe:0.259786\n",
      "[34]\tvalidation_0-rmse:0.303156\tvalidation_1-rmse:0.307078\tvalidation_0-rmspe:0.269133\tvalidation_1-rmspe:0.248405\n",
      "[35]\tvalidation_0-rmse:0.288434\tvalidation_1-rmse:0.292749\tvalidation_0-rmspe:0.261175\tvalidation_1-rmspe:0.23921\n",
      "[36]\tvalidation_0-rmse:0.275963\tvalidation_1-rmse:0.280778\tvalidation_0-rmspe:0.254964\tvalidation_1-rmspe:0.2318\n",
      "[37]\tvalidation_0-rmse:0.264458\tvalidation_1-rmse:0.269552\tvalidation_0-rmspe:0.249263\tvalidation_1-rmspe:0.224824\n",
      "[38]\tvalidation_0-rmse:0.255434\tvalidation_1-rmse:0.260899\tvalidation_0-rmspe:0.245448\tvalidation_1-rmspe:0.219896\n",
      "[39]\tvalidation_0-rmse:0.245418\tvalidation_1-rmse:0.251173\tvalidation_0-rmspe:0.240375\tvalidation_1-rmspe:0.213534\n",
      "[40]\tvalidation_0-rmse:0.237355\tvalidation_1-rmse:0.243356\tvalidation_0-rmspe:0.236963\tvalidation_1-rmspe:0.208869\n",
      "[41]\tvalidation_0-rmse:0.230487\tvalidation_1-rmse:0.236934\tvalidation_0-rmspe:0.233943\tvalidation_1-rmspe:0.205201\n",
      "[42]\tvalidation_0-rmse:0.225328\tvalidation_1-rmse:0.232204\tvalidation_0-rmspe:0.232264\tvalidation_1-rmspe:0.20295\n",
      "[43]\tvalidation_0-rmse:0.220251\tvalidation_1-rmse:0.22765\tvalidation_0-rmspe:0.230249\tvalidation_1-rmspe:0.200551\n",
      "[44]\tvalidation_0-rmse:0.215515\tvalidation_1-rmse:0.223299\tvalidation_0-rmspe:0.228544\tvalidation_1-rmspe:0.19809\n",
      "[45]\tvalidation_0-rmse:0.209898\tvalidation_1-rmse:0.217933\tvalidation_0-rmspe:0.225847\tvalidation_1-rmspe:0.194646\n",
      "[46]\tvalidation_0-rmse:0.206892\tvalidation_1-rmse:0.215164\tvalidation_0-rmspe:0.225111\tvalidation_1-rmspe:0.193517\n",
      "[47]\tvalidation_0-rmse:0.204596\tvalidation_1-rmse:0.213224\tvalidation_0-rmspe:0.224659\tvalidation_1-rmspe:0.19304\n",
      "[48]\tvalidation_0-rmse:0.20153\tvalidation_1-rmse:0.21036\tvalidation_0-rmspe:0.223868\tvalidation_1-rmspe:0.191531\n",
      "[49]\tvalidation_0-rmse:0.199093\tvalidation_1-rmse:0.208043\tvalidation_0-rmspe:0.223582\tvalidation_1-rmspe:0.190366\n",
      "[50]\tvalidation_0-rmse:0.197216\tvalidation_1-rmse:0.206619\tvalidation_0-rmspe:0.222828\tvalidation_1-rmspe:0.18992\n",
      "[51]\tvalidation_0-rmse:0.193931\tvalidation_1-rmse:0.203604\tvalidation_0-rmspe:0.22106\tvalidation_1-rmspe:0.187711\n",
      "[52]\tvalidation_0-rmse:0.192675\tvalidation_1-rmse:0.202599\tvalidation_0-rmspe:0.220899\tvalidation_1-rmspe:0.187564\n",
      "[53]\tvalidation_0-rmse:0.189951\tvalidation_1-rmse:0.200071\tvalidation_0-rmspe:0.219489\tvalidation_1-rmspe:0.185807\n",
      "[54]\tvalidation_0-rmse:0.18835\tvalidation_1-rmse:0.198607\tvalidation_0-rmspe:0.217704\tvalidation_1-rmspe:0.184781\n",
      "[55]\tvalidation_0-rmse:0.185286\tvalidation_1-rmse:0.195853\tvalidation_0-rmspe:0.215129\tvalidation_1-rmspe:0.182123\n",
      "[56]\tvalidation_0-rmse:0.184296\tvalidation_1-rmse:0.194969\tvalidation_0-rmspe:0.214842\tvalidation_1-rmspe:0.181668\n",
      "[57]\tvalidation_0-rmse:0.180629\tvalidation_1-rmse:0.191762\tvalidation_0-rmspe:0.212112\tvalidation_1-rmspe:0.178691\n",
      "[58]\tvalidation_0-rmse:0.180105\tvalidation_1-rmse:0.19136\tvalidation_0-rmspe:0.212161\tvalidation_1-rmspe:0.178733\n",
      "[59]\tvalidation_0-rmse:0.17758\tvalidation_1-rmse:0.189119\tvalidation_0-rmspe:0.210294\tvalidation_1-rmspe:0.176597\n",
      "[60]\tvalidation_0-rmse:0.17429\tvalidation_1-rmse:0.185965\tvalidation_0-rmspe:0.207416\tvalidation_1-rmspe:0.173067\n",
      "[61]\tvalidation_0-rmse:0.172354\tvalidation_1-rmse:0.184235\tvalidation_0-rmspe:0.206254\tvalidation_1-rmspe:0.17159\n",
      "[62]\tvalidation_0-rmse:0.171623\tvalidation_1-rmse:0.18369\tvalidation_0-rmspe:0.20578\tvalidation_1-rmspe:0.171302\n",
      "[63]\tvalidation_0-rmse:0.170897\tvalidation_1-rmse:0.183111\tvalidation_0-rmspe:0.204737\tvalidation_1-rmspe:0.170844\n",
      "[64]\tvalidation_0-rmse:0.169143\tvalidation_1-rmse:0.181507\tvalidation_0-rmspe:0.203427\tvalidation_1-rmspe:0.169271\n",
      "[65]\tvalidation_0-rmse:0.167584\tvalidation_1-rmse:0.180092\tvalidation_0-rmspe:0.202258\tvalidation_1-rmspe:0.16795\n",
      "[66]\tvalidation_0-rmse:0.164824\tvalidation_1-rmse:0.177575\tvalidation_0-rmspe:0.199731\tvalidation_1-rmspe:0.165145\n",
      "[67]\tvalidation_0-rmse:0.163818\tvalidation_1-rmse:0.176804\tvalidation_0-rmspe:0.19901\tvalidation_1-rmspe:0.164439\n",
      "[68]\tvalidation_0-rmse:0.163042\tvalidation_1-rmse:0.176204\tvalidation_0-rmspe:0.198318\tvalidation_1-rmspe:0.163885\n",
      "[69]\tvalidation_0-rmse:0.162556\tvalidation_1-rmse:0.175786\tvalidation_0-rmspe:0.198144\tvalidation_1-rmspe:0.163501\n",
      "[70]\tvalidation_0-rmse:0.161389\tvalidation_1-rmse:0.174674\tvalidation_0-rmspe:0.197251\tvalidation_1-rmspe:0.162387\n"
     ]
    },
    {
     "name": "stdout",
     "output_type": "stream",
     "text": [
      "[71]\tvalidation_0-rmse:0.160647\tvalidation_1-rmse:0.174181\tvalidation_0-rmspe:0.196863\tvalidation_1-rmspe:0.161892\n",
      "[72]\tvalidation_0-rmse:0.160275\tvalidation_1-rmse:0.17384\tvalidation_0-rmspe:0.196565\tvalidation_1-rmspe:0.161605\n",
      "[73]\tvalidation_0-rmse:0.159788\tvalidation_1-rmse:0.173575\tvalidation_0-rmspe:0.196263\tvalidation_1-rmspe:0.161416\n",
      "[74]\tvalidation_0-rmse:0.159538\tvalidation_1-rmse:0.173343\tvalidation_0-rmspe:0.196107\tvalidation_1-rmspe:0.161217\n",
      "[75]\tvalidation_0-rmse:0.158533\tvalidation_1-rmse:0.172468\tvalidation_0-rmspe:0.19533\tvalidation_1-rmspe:0.160309\n",
      "[76]\tvalidation_0-rmse:0.15641\tvalidation_1-rmse:0.170589\tvalidation_0-rmspe:0.193435\tvalidation_1-rmspe:0.158296\n",
      "[77]\tvalidation_0-rmse:0.155816\tvalidation_1-rmse:0.170088\tvalidation_0-rmspe:0.192655\tvalidation_1-rmspe:0.157722\n",
      "[78]\tvalidation_0-rmse:0.155612\tvalidation_1-rmse:0.169916\tvalidation_0-rmspe:0.192748\tvalidation_1-rmspe:0.157572\n",
      "[79]\tvalidation_0-rmse:0.155105\tvalidation_1-rmse:0.169386\tvalidation_0-rmspe:0.19212\tvalidation_1-rmspe:0.156824\n",
      "[80]\tvalidation_0-rmse:0.154084\tvalidation_1-rmse:0.168443\tvalidation_0-rmspe:0.191267\tvalidation_1-rmspe:0.155808\n",
      "[81]\tvalidation_0-rmse:0.153545\tvalidation_1-rmse:0.168073\tvalidation_0-rmspe:0.190268\tvalidation_1-rmspe:0.155325\n",
      "[82]\tvalidation_0-rmse:0.15207\tvalidation_1-rmse:0.166932\tvalidation_0-rmspe:0.189098\tvalidation_1-rmspe:0.154006\n",
      "[83]\tvalidation_0-rmse:0.151212\tvalidation_1-rmse:0.16622\tvalidation_0-rmspe:0.188429\tvalidation_1-rmspe:0.153269\n",
      "[84]\tvalidation_0-rmse:0.150489\tvalidation_1-rmse:0.165669\tvalidation_0-rmspe:0.18244\tvalidation_1-rmspe:0.152594\n",
      "[85]\tvalidation_0-rmse:0.149781\tvalidation_1-rmse:0.165184\tvalidation_0-rmspe:0.180043\tvalidation_1-rmspe:0.152178\n",
      "[86]\tvalidation_0-rmse:0.149223\tvalidation_1-rmse:0.164791\tvalidation_0-rmspe:0.179463\tvalidation_1-rmspe:0.15172\n",
      "[87]\tvalidation_0-rmse:0.148771\tvalidation_1-rmse:0.164434\tvalidation_0-rmspe:0.179021\tvalidation_1-rmspe:0.151324\n",
      "[88]\tvalidation_0-rmse:0.147453\tvalidation_1-rmse:0.16344\tvalidation_0-rmspe:0.175446\tvalidation_1-rmspe:0.150161\n",
      "[89]\tvalidation_0-rmse:0.146824\tvalidation_1-rmse:0.163174\tvalidation_0-rmspe:0.171234\tvalidation_1-rmspe:0.149869\n",
      "[90]\tvalidation_0-rmse:0.145751\tvalidation_1-rmse:0.162328\tvalidation_0-rmspe:0.169801\tvalidation_1-rmspe:0.148841\n",
      "[91]\tvalidation_0-rmse:0.144448\tvalidation_1-rmse:0.161202\tvalidation_0-rmspe:0.168551\tvalidation_1-rmspe:0.14746\n",
      "[92]\tvalidation_0-rmse:0.143864\tvalidation_1-rmse:0.160854\tvalidation_0-rmspe:0.168\tvalidation_1-rmspe:0.147017\n",
      "[93]\tvalidation_0-rmse:0.142781\tvalidation_1-rmse:0.16005\tvalidation_0-rmspe:0.166976\tvalidation_1-rmspe:0.145995\n",
      "[94]\tvalidation_0-rmse:0.142167\tvalidation_1-rmse:0.159582\tvalidation_0-rmspe:0.166277\tvalidation_1-rmspe:0.14548\n",
      "[95]\tvalidation_0-rmse:0.141606\tvalidation_1-rmse:0.159117\tvalidation_0-rmspe:0.165785\tvalidation_1-rmspe:0.145041\n",
      "[96]\tvalidation_0-rmse:0.141022\tvalidation_1-rmse:0.158623\tvalidation_0-rmspe:0.16538\tvalidation_1-rmspe:0.144439\n",
      "[97]\tvalidation_0-rmse:0.140618\tvalidation_1-rmse:0.158388\tvalidation_0-rmspe:0.16494\tvalidation_1-rmspe:0.144099\n",
      "[98]\tvalidation_0-rmse:0.139104\tvalidation_1-rmse:0.157191\tvalidation_0-rmspe:0.163271\tvalidation_1-rmspe:0.142636\n",
      "[99]\tvalidation_0-rmse:0.138466\tvalidation_1-rmse:0.156705\tvalidation_0-rmspe:0.16271\tvalidation_1-rmspe:0.142055\n",
      "[100]\tvalidation_0-rmse:0.138359\tvalidation_1-rmse:0.156645\tvalidation_0-rmspe:0.162626\tvalidation_1-rmspe:0.142005\n",
      "[101]\tvalidation_0-rmse:0.137065\tvalidation_1-rmse:0.155752\tvalidation_0-rmspe:0.16143\tvalidation_1-rmspe:0.140853\n",
      "[102]\tvalidation_0-rmse:0.137003\tvalidation_1-rmse:0.1557\tvalidation_0-rmspe:0.161387\tvalidation_1-rmspe:0.140819\n",
      "[103]\tvalidation_0-rmse:0.136399\tvalidation_1-rmse:0.155274\tvalidation_0-rmspe:0.160688\tvalidation_1-rmspe:0.140256\n",
      "[104]\tvalidation_0-rmse:0.13588\tvalidation_1-rmse:0.154845\tvalidation_0-rmspe:0.157997\tvalidation_1-rmspe:0.13964\n",
      "[105]\tvalidation_0-rmse:0.134808\tvalidation_1-rmse:0.153961\tvalidation_0-rmspe:0.156943\tvalidation_1-rmspe:0.13857\n",
      "[106]\tvalidation_0-rmse:0.134435\tvalidation_1-rmse:0.153728\tvalidation_0-rmspe:0.156519\tvalidation_1-rmspe:0.138263\n",
      "[107]\tvalidation_0-rmse:0.134011\tvalidation_1-rmse:0.153385\tvalidation_0-rmspe:0.156133\tvalidation_1-rmspe:0.137888\n",
      "[108]\tvalidation_0-rmse:0.133009\tvalidation_1-rmse:0.152606\tvalidation_0-rmspe:0.155203\tvalidation_1-rmspe:0.136967\n",
      "[109]\tvalidation_0-rmse:0.132016\tvalidation_1-rmse:0.151951\tvalidation_0-rmspe:0.154161\tvalidation_1-rmspe:0.136055\n",
      "[110]\tvalidation_0-rmse:0.131588\tvalidation_1-rmse:0.15168\tvalidation_0-rmspe:0.153638\tvalidation_1-rmspe:0.135696\n",
      "[111]\tvalidation_0-rmse:0.13085\tvalidation_1-rmse:0.151135\tvalidation_0-rmspe:0.15291\tvalidation_1-rmspe:0.135001\n",
      "[112]\tvalidation_0-rmse:0.130034\tvalidation_1-rmse:0.150503\tvalidation_0-rmspe:0.152138\tvalidation_1-rmspe:0.134213\n",
      "[113]\tvalidation_0-rmse:0.129444\tvalidation_1-rmse:0.150107\tvalidation_0-rmspe:0.15154\tvalidation_1-rmspe:0.133745\n",
      "[114]\tvalidation_0-rmse:0.129044\tvalidation_1-rmse:0.149939\tvalidation_0-rmspe:0.151216\tvalidation_1-rmspe:0.133558\n",
      "[115]\tvalidation_0-rmse:0.128498\tvalidation_1-rmse:0.149481\tvalidation_0-rmspe:0.150727\tvalidation_1-rmspe:0.13308\n",
      "[116]\tvalidation_0-rmse:0.128225\tvalidation_1-rmse:0.149348\tvalidation_0-rmspe:0.150535\tvalidation_1-rmspe:0.132911\n",
      "[117]\tvalidation_0-rmse:0.127757\tvalidation_1-rmse:0.149\tvalidation_0-rmspe:0.150088\tvalidation_1-rmspe:0.132501\n",
      "[118]\tvalidation_0-rmse:0.127108\tvalidation_1-rmse:0.148493\tvalidation_0-rmspe:0.149489\tvalidation_1-rmspe:0.131939\n",
      "[119]\tvalidation_0-rmse:0.126498\tvalidation_1-rmse:0.14834\tvalidation_0-rmspe:0.148671\tvalidation_1-rmspe:0.131793\n",
      "[120]\tvalidation_0-rmse:0.126387\tvalidation_1-rmse:0.148274\tvalidation_0-rmspe:0.148558\tvalidation_1-rmspe:0.131744\n",
      "[121]\tvalidation_0-rmse:0.125972\tvalidation_1-rmse:0.148017\tvalidation_0-rmspe:0.147894\tvalidation_1-rmspe:0.131421\n",
      "[122]\tvalidation_0-rmse:0.124868\tvalidation_1-rmse:0.147067\tvalidation_0-rmspe:0.146808\tvalidation_1-rmspe:0.130292\n",
      "[123]\tvalidation_0-rmse:0.124616\tvalidation_1-rmse:0.146885\tvalidation_0-rmspe:0.146832\tvalidation_1-rmspe:0.129996\n",
      "[124]\tvalidation_0-rmse:0.124554\tvalidation_1-rmse:0.146844\tvalidation_0-rmspe:0.146768\tvalidation_1-rmspe:0.129968\n",
      "[125]\tvalidation_0-rmse:0.124079\tvalidation_1-rmse:0.146515\tvalidation_0-rmspe:0.14624\tvalidation_1-rmspe:0.129579\n",
      "[126]\tvalidation_0-rmse:0.123741\tvalidation_1-rmse:0.146336\tvalidation_0-rmspe:0.143387\tvalidation_1-rmspe:0.129419\n",
      "[127]\tvalidation_0-rmse:0.123004\tvalidation_1-rmse:0.145867\tvalidation_0-rmspe:0.142874\tvalidation_1-rmspe:0.128932\n",
      "[128]\tvalidation_0-rmse:0.122395\tvalidation_1-rmse:0.145429\tvalidation_0-rmspe:0.142299\tvalidation_1-rmspe:0.128187\n",
      "[129]\tvalidation_0-rmse:0.122314\tvalidation_1-rmse:0.145369\tvalidation_0-rmspe:0.140366\tvalidation_1-rmspe:0.128096\n",
      "[130]\tvalidation_0-rmse:0.121676\tvalidation_1-rmse:0.145022\tvalidation_0-rmspe:0.139831\tvalidation_1-rmspe:0.127693\n",
      "[131]\tvalidation_0-rmse:0.121289\tvalidation_1-rmse:0.144759\tvalidation_0-rmspe:0.139449\tvalidation_1-rmspe:0.127351\n",
      "[132]\tvalidation_0-rmse:0.120728\tvalidation_1-rmse:0.144388\tvalidation_0-rmspe:0.138752\tvalidation_1-rmspe:0.126961\n",
      "[133]\tvalidation_0-rmse:0.120444\tvalidation_1-rmse:0.144263\tvalidation_0-rmspe:0.1384\tvalidation_1-rmspe:0.126813\n",
      "[134]\tvalidation_0-rmse:0.120345\tvalidation_1-rmse:0.144184\tvalidation_0-rmspe:0.138318\tvalidation_1-rmspe:0.126727\n",
      "[135]\tvalidation_0-rmse:0.120019\tvalidation_1-rmse:0.144017\tvalidation_0-rmspe:0.1376\tvalidation_1-rmspe:0.126525\n",
      "[136]\tvalidation_0-rmse:0.119805\tvalidation_1-rmse:0.143871\tvalidation_0-rmspe:0.137391\tvalidation_1-rmspe:0.126495\n",
      "[137]\tvalidation_0-rmse:0.119418\tvalidation_1-rmse:0.143658\tvalidation_0-rmspe:0.137016\tvalidation_1-rmspe:0.12626\n",
      "[138]\tvalidation_0-rmse:0.119065\tvalidation_1-rmse:0.143379\tvalidation_0-rmspe:0.136565\tvalidation_1-rmspe:0.125959\n",
      "[139]\tvalidation_0-rmse:0.118751\tvalidation_1-rmse:0.143132\tvalidation_0-rmspe:0.136301\tvalidation_1-rmspe:0.125612\n",
      "[140]\tvalidation_0-rmse:0.118424\tvalidation_1-rmse:0.142961\tvalidation_0-rmspe:0.135947\tvalidation_1-rmspe:0.125373\n",
      "[141]\tvalidation_0-rmse:0.118044\tvalidation_1-rmse:0.142785\tvalidation_0-rmspe:0.135646\tvalidation_1-rmspe:0.125148\n",
      "[142]\tvalidation_0-rmse:0.117866\tvalidation_1-rmse:0.142673\tvalidation_0-rmspe:0.135679\tvalidation_1-rmspe:0.124974\n"
     ]
    },
    {
     "name": "stdout",
     "output_type": "stream",
     "text": [
      "[143]\tvalidation_0-rmse:0.117504\tvalidation_1-rmse:0.142439\tvalidation_0-rmspe:0.135417\tvalidation_1-rmspe:0.124681\n",
      "[144]\tvalidation_0-rmse:0.117193\tvalidation_1-rmse:0.142316\tvalidation_0-rmspe:0.135157\tvalidation_1-rmspe:0.124529\n",
      "[145]\tvalidation_0-rmse:0.116586\tvalidation_1-rmse:0.141903\tvalidation_0-rmspe:0.134657\tvalidation_1-rmspe:0.12406\n",
      "[146]\tvalidation_0-rmse:0.116281\tvalidation_1-rmse:0.141728\tvalidation_0-rmspe:0.134429\tvalidation_1-rmspe:0.123815\n",
      "[147]\tvalidation_0-rmse:0.115944\tvalidation_1-rmse:0.14148\tvalidation_0-rmspe:0.134101\tvalidation_1-rmspe:0.12351\n",
      "[148]\tvalidation_0-rmse:0.115712\tvalidation_1-rmse:0.141379\tvalidation_0-rmspe:0.133915\tvalidation_1-rmspe:0.123401\n",
      "[149]\tvalidation_0-rmse:0.115453\tvalidation_1-rmse:0.141215\tvalidation_0-rmspe:0.133646\tvalidation_1-rmspe:0.123187\n",
      "[150]\tvalidation_0-rmse:0.115134\tvalidation_1-rmse:0.140984\tvalidation_0-rmspe:0.133444\tvalidation_1-rmspe:0.122985\n",
      "[151]\tvalidation_0-rmse:0.11494\tvalidation_1-rmse:0.14089\tvalidation_0-rmspe:0.133264\tvalidation_1-rmspe:0.122871\n",
      "[152]\tvalidation_0-rmse:0.114623\tvalidation_1-rmse:0.140607\tvalidation_0-rmspe:0.132996\tvalidation_1-rmspe:0.122586\n",
      "[153]\tvalidation_0-rmse:0.114465\tvalidation_1-rmse:0.140542\tvalidation_0-rmspe:0.132863\tvalidation_1-rmspe:0.122511\n",
      "[154]\tvalidation_0-rmse:0.114275\tvalidation_1-rmse:0.140409\tvalidation_0-rmspe:0.13264\tvalidation_1-rmspe:0.122395\n",
      "[155]\tvalidation_0-rmse:0.113961\tvalidation_1-rmse:0.140291\tvalidation_0-rmspe:0.132429\tvalidation_1-rmspe:0.122237\n",
      "[156]\tvalidation_0-rmse:0.11369\tvalidation_1-rmse:0.140147\tvalidation_0-rmspe:0.13217\tvalidation_1-rmspe:0.122053\n",
      "[157]\tvalidation_0-rmse:0.113486\tvalidation_1-rmse:0.140045\tvalidation_0-rmspe:0.131993\tvalidation_1-rmspe:0.12192\n",
      "[158]\tvalidation_0-rmse:0.112967\tvalidation_1-rmse:0.139786\tvalidation_0-rmspe:0.13161\tvalidation_1-rmspe:0.121635\n",
      "[159]\tvalidation_0-rmse:0.112823\tvalidation_1-rmse:0.139719\tvalidation_0-rmspe:0.13153\tvalidation_1-rmspe:0.121581\n",
      "[160]\tvalidation_0-rmse:0.112546\tvalidation_1-rmse:0.139569\tvalidation_0-rmspe:0.131324\tvalidation_1-rmspe:0.121412\n",
      "[161]\tvalidation_0-rmse:0.112264\tvalidation_1-rmse:0.139315\tvalidation_0-rmspe:0.130992\tvalidation_1-rmspe:0.121136\n",
      "[162]\tvalidation_0-rmse:0.112103\tvalidation_1-rmse:0.13923\tvalidation_0-rmspe:0.131068\tvalidation_1-rmspe:0.121086\n",
      "[163]\tvalidation_0-rmse:0.111758\tvalidation_1-rmse:0.139061\tvalidation_0-rmspe:0.130819\tvalidation_1-rmspe:0.120918\n",
      "[164]\tvalidation_0-rmse:0.111255\tvalidation_1-rmse:0.138762\tvalidation_0-rmspe:0.130197\tvalidation_1-rmspe:0.120525\n",
      "[165]\tvalidation_0-rmse:0.110967\tvalidation_1-rmse:0.138682\tvalidation_0-rmspe:0.130016\tvalidation_1-rmspe:0.120448\n",
      "[166]\tvalidation_0-rmse:0.110935\tvalidation_1-rmse:0.138657\tvalidation_0-rmspe:0.129964\tvalidation_1-rmspe:0.120409\n",
      "[167]\tvalidation_0-rmse:0.110514\tvalidation_1-rmse:0.138396\tvalidation_0-rmspe:0.129618\tvalidation_1-rmspe:0.120095\n",
      "[168]\tvalidation_0-rmse:0.110302\tvalidation_1-rmse:0.138309\tvalidation_0-rmspe:0.12948\tvalidation_1-rmspe:0.120013\n",
      "[169]\tvalidation_0-rmse:0.110137\tvalidation_1-rmse:0.138218\tvalidation_0-rmspe:0.129313\tvalidation_1-rmspe:0.119921\n",
      "[170]\tvalidation_0-rmse:0.109728\tvalidation_1-rmse:0.138032\tvalidation_0-rmspe:0.128841\tvalidation_1-rmspe:0.119669\n",
      "[171]\tvalidation_0-rmse:0.109308\tvalidation_1-rmse:0.137929\tvalidation_0-rmspe:0.124816\tvalidation_1-rmspe:0.119545\n",
      "[172]\tvalidation_0-rmse:0.109158\tvalidation_1-rmse:0.137839\tvalidation_0-rmspe:0.124656\tvalidation_1-rmspe:0.119425\n",
      "[173]\tvalidation_0-rmse:0.109102\tvalidation_1-rmse:0.137807\tvalidation_0-rmspe:0.1246\tvalidation_1-rmspe:0.119386\n",
      "[174]\tvalidation_0-rmse:0.108894\tvalidation_1-rmse:0.137666\tvalidation_0-rmspe:0.124368\tvalidation_1-rmspe:0.119225\n",
      "[175]\tvalidation_0-rmse:0.108601\tvalidation_1-rmse:0.137571\tvalidation_0-rmspe:0.124141\tvalidation_1-rmspe:0.119191\n",
      "[176]\tvalidation_0-rmse:0.108433\tvalidation_1-rmse:0.137496\tvalidation_0-rmspe:0.123988\tvalidation_1-rmspe:0.1191\n",
      "[177]\tvalidation_0-rmse:0.108334\tvalidation_1-rmse:0.13745\tvalidation_0-rmspe:0.123892\tvalidation_1-rmspe:0.119054\n",
      "[178]\tvalidation_0-rmse:0.108124\tvalidation_1-rmse:0.137306\tvalidation_0-rmspe:0.123681\tvalidation_1-rmspe:0.118905\n",
      "[179]\tvalidation_0-rmse:0.107989\tvalidation_1-rmse:0.137247\tvalidation_0-rmspe:0.121085\tvalidation_1-rmspe:0.118822\n",
      "[180]\tvalidation_0-rmse:0.10766\tvalidation_1-rmse:0.137127\tvalidation_0-rmspe:0.119206\tvalidation_1-rmspe:0.118683\n",
      "[181]\tvalidation_0-rmse:0.107401\tvalidation_1-rmse:0.136994\tvalidation_0-rmspe:0.119\tvalidation_1-rmspe:0.118513\n",
      "[182]\tvalidation_0-rmse:0.107159\tvalidation_1-rmse:0.136896\tvalidation_0-rmspe:0.11885\tvalidation_1-rmspe:0.118381\n",
      "[183]\tvalidation_0-rmse:0.10699\tvalidation_1-rmse:0.136859\tvalidation_0-rmspe:0.118377\tvalidation_1-rmspe:0.118314\n",
      "[184]\tvalidation_0-rmse:0.106684\tvalidation_1-rmse:0.136727\tvalidation_0-rmspe:0.11818\tvalidation_1-rmspe:0.118143\n",
      "[185]\tvalidation_0-rmse:0.106549\tvalidation_1-rmse:0.136657\tvalidation_0-rmspe:0.118061\tvalidation_1-rmspe:0.118146\n",
      "[186]\tvalidation_0-rmse:0.106202\tvalidation_1-rmse:0.136525\tvalidation_0-rmspe:0.117595\tvalidation_1-rmspe:0.117996\n",
      "[187]\tvalidation_0-rmse:0.106074\tvalidation_1-rmse:0.136463\tvalidation_0-rmspe:0.117438\tvalidation_1-rmspe:0.117918\n",
      "[188]\tvalidation_0-rmse:0.106035\tvalidation_1-rmse:0.136451\tvalidation_0-rmspe:0.117401\tvalidation_1-rmspe:0.117912\n",
      "[189]\tvalidation_0-rmse:0.10598\tvalidation_1-rmse:0.136431\tvalidation_0-rmspe:0.11735\tvalidation_1-rmspe:0.117866\n",
      "[190]\tvalidation_0-rmse:0.1057\tvalidation_1-rmse:0.136346\tvalidation_0-rmspe:0.117172\tvalidation_1-rmspe:0.117831\n",
      "[191]\tvalidation_0-rmse:0.105472\tvalidation_1-rmse:0.13618\tvalidation_0-rmspe:0.116961\tvalidation_1-rmspe:0.117646\n",
      "[192]\tvalidation_0-rmse:0.105383\tvalidation_1-rmse:0.136133\tvalidation_0-rmspe:0.116875\tvalidation_1-rmspe:0.117586\n",
      "[193]\tvalidation_0-rmse:0.105252\tvalidation_1-rmse:0.136087\tvalidation_0-rmspe:0.11674\tvalidation_1-rmspe:0.11763\n",
      "[194]\tvalidation_0-rmse:0.105007\tvalidation_1-rmse:0.135888\tvalidation_0-rmspe:0.116487\tvalidation_1-rmspe:0.117429\n",
      "[195]\tvalidation_0-rmse:0.104755\tvalidation_1-rmse:0.135776\tvalidation_0-rmspe:0.116317\tvalidation_1-rmspe:0.11729\n",
      "[196]\tvalidation_0-rmse:0.104579\tvalidation_1-rmse:0.135733\tvalidation_0-rmspe:0.116168\tvalidation_1-rmspe:0.11723\n",
      "[197]\tvalidation_0-rmse:0.104314\tvalidation_1-rmse:0.135694\tvalidation_0-rmspe:0.116021\tvalidation_1-rmspe:0.11717\n",
      "[198]\tvalidation_0-rmse:0.104209\tvalidation_1-rmse:0.135622\tvalidation_0-rmspe:0.115904\tvalidation_1-rmspe:0.117088\n",
      "[199]\tvalidation_0-rmse:0.103847\tvalidation_1-rmse:0.135568\tvalidation_0-rmspe:0.115583\tvalidation_1-rmspe:0.11701\n",
      "[200]\tvalidation_0-rmse:0.103703\tvalidation_1-rmse:0.135446\tvalidation_0-rmspe:0.115449\tvalidation_1-rmspe:0.116918\n",
      "[201]\tvalidation_0-rmse:0.103553\tvalidation_1-rmse:0.135322\tvalidation_0-rmspe:0.115287\tvalidation_1-rmspe:0.116775\n",
      "[202]\tvalidation_0-rmse:0.103436\tvalidation_1-rmse:0.135278\tvalidation_0-rmspe:0.115247\tvalidation_1-rmspe:0.116735\n",
      "[203]\tvalidation_0-rmse:0.103272\tvalidation_1-rmse:0.13521\tvalidation_0-rmspe:0.115091\tvalidation_1-rmspe:0.11664\n",
      "[204]\tvalidation_0-rmse:0.103036\tvalidation_1-rmse:0.135136\tvalidation_0-rmspe:0.114761\tvalidation_1-rmspe:0.116536\n",
      "[205]\tvalidation_0-rmse:0.102909\tvalidation_1-rmse:0.135073\tvalidation_0-rmspe:0.114608\tvalidation_1-rmspe:0.116455\n",
      "[206]\tvalidation_0-rmse:0.102777\tvalidation_1-rmse:0.135036\tvalidation_0-rmspe:0.114503\tvalidation_1-rmspe:0.116449\n",
      "[207]\tvalidation_0-rmse:0.10258\tvalidation_1-rmse:0.134998\tvalidation_0-rmspe:0.113897\tvalidation_1-rmspe:0.116403\n",
      "[208]\tvalidation_0-rmse:0.102459\tvalidation_1-rmse:0.134951\tvalidation_0-rmspe:0.113611\tvalidation_1-rmspe:0.11638\n",
      "[209]\tvalidation_0-rmse:0.102356\tvalidation_1-rmse:0.134891\tvalidation_0-rmspe:0.113501\tvalidation_1-rmspe:0.116311\n",
      "[210]\tvalidation_0-rmse:0.102221\tvalidation_1-rmse:0.134836\tvalidation_0-rmspe:0.113387\tvalidation_1-rmspe:0.116313\n",
      "[211]\tvalidation_0-rmse:0.101978\tvalidation_1-rmse:0.134772\tvalidation_0-rmspe:0.113176\tvalidation_1-rmspe:0.116242\n",
      "[212]\tvalidation_0-rmse:0.101709\tvalidation_1-rmse:0.134621\tvalidation_0-rmspe:0.112935\tvalidation_1-rmspe:0.116046\n",
      "[213]\tvalidation_0-rmse:0.101505\tvalidation_1-rmse:0.134506\tvalidation_0-rmspe:0.112713\tvalidation_1-rmspe:0.115896\n"
     ]
    },
    {
     "name": "stdout",
     "output_type": "stream",
     "text": [
      "[214]\tvalidation_0-rmse:0.101289\tvalidation_1-rmse:0.134425\tvalidation_0-rmspe:0.112569\tvalidation_1-rmspe:0.115824\n",
      "[215]\tvalidation_0-rmse:0.101038\tvalidation_1-rmse:0.134363\tvalidation_0-rmspe:0.112423\tvalidation_1-rmspe:0.115742\n",
      "[216]\tvalidation_0-rmse:0.100863\tvalidation_1-rmse:0.134284\tvalidation_0-rmspe:0.112239\tvalidation_1-rmspe:0.115466\n",
      "[217]\tvalidation_0-rmse:0.100568\tvalidation_1-rmse:0.134246\tvalidation_0-rmspe:0.11205\tvalidation_1-rmspe:0.11541\n",
      "[218]\tvalidation_0-rmse:0.100394\tvalidation_1-rmse:0.134163\tvalidation_0-rmspe:0.111899\tvalidation_1-rmspe:0.115276\n",
      "[219]\tvalidation_0-rmse:0.100281\tvalidation_1-rmse:0.134117\tvalidation_0-rmspe:0.111798\tvalidation_1-rmspe:0.11523\n",
      "[220]\tvalidation_0-rmse:0.100243\tvalidation_1-rmse:0.1341\tvalidation_0-rmspe:0.111769\tvalidation_1-rmspe:0.115245\n",
      "[221]\tvalidation_0-rmse:0.100125\tvalidation_1-rmse:0.134041\tvalidation_0-rmspe:0.111647\tvalidation_1-rmspe:0.115168\n",
      "[222]\tvalidation_0-rmse:0.099928\tvalidation_1-rmse:0.133949\tvalidation_0-rmspe:0.111503\tvalidation_1-rmspe:0.115071\n",
      "[223]\tvalidation_0-rmse:0.099815\tvalidation_1-rmse:0.133912\tvalidation_0-rmspe:0.11143\tvalidation_1-rmspe:0.115029\n",
      "[224]\tvalidation_0-rmse:0.099674\tvalidation_1-rmse:0.133877\tvalidation_0-rmspe:0.111312\tvalidation_1-rmspe:0.114969\n",
      "[225]\tvalidation_0-rmse:0.099539\tvalidation_1-rmse:0.133816\tvalidation_0-rmspe:0.111184\tvalidation_1-rmspe:0.114895\n",
      "[226]\tvalidation_0-rmse:0.099345\tvalidation_1-rmse:0.13373\tvalidation_0-rmspe:0.111031\tvalidation_1-rmspe:0.11482\n",
      "[227]\tvalidation_0-rmse:0.099153\tvalidation_1-rmse:0.133705\tvalidation_0-rmspe:0.11085\tvalidation_1-rmspe:0.114762\n",
      "[228]\tvalidation_0-rmse:0.099093\tvalidation_1-rmse:0.133682\tvalidation_0-rmspe:0.110767\tvalidation_1-rmspe:0.114721\n",
      "[229]\tvalidation_0-rmse:0.098893\tvalidation_1-rmse:0.133614\tvalidation_0-rmspe:0.110608\tvalidation_1-rmspe:0.114634\n",
      "[230]\tvalidation_0-rmse:0.098774\tvalidation_1-rmse:0.133592\tvalidation_0-rmspe:0.109315\tvalidation_1-rmspe:0.114598\n",
      "[231]\tvalidation_0-rmse:0.098564\tvalidation_1-rmse:0.133596\tvalidation_0-rmspe:0.109163\tvalidation_1-rmspe:0.114556\n",
      "[232]\tvalidation_0-rmse:0.09831\tvalidation_1-rmse:0.133533\tvalidation_0-rmspe:0.108476\tvalidation_1-rmspe:0.114537\n",
      "[233]\tvalidation_0-rmse:0.09819\tvalidation_1-rmse:0.133456\tvalidation_0-rmspe:0.108323\tvalidation_1-rmspe:0.114443\n",
      "[234]\tvalidation_0-rmse:0.098088\tvalidation_1-rmse:0.133384\tvalidation_0-rmspe:0.108201\tvalidation_1-rmspe:0.114355\n",
      "[235]\tvalidation_0-rmse:0.097967\tvalidation_1-rmse:0.13333\tvalidation_0-rmspe:0.108101\tvalidation_1-rmspe:0.11429\n",
      "[236]\tvalidation_0-rmse:0.097872\tvalidation_1-rmse:0.133289\tvalidation_0-rmspe:0.108031\tvalidation_1-rmspe:0.114244\n",
      "[237]\tvalidation_0-rmse:0.097714\tvalidation_1-rmse:0.13329\tvalidation_0-rmspe:0.107876\tvalidation_1-rmspe:0.114217\n",
      "[238]\tvalidation_0-rmse:0.097543\tvalidation_1-rmse:0.133225\tvalidation_0-rmspe:0.10774\tvalidation_1-rmspe:0.11417\n",
      "[239]\tvalidation_0-rmse:0.097437\tvalidation_1-rmse:0.133201\tvalidation_0-rmspe:0.107502\tvalidation_1-rmspe:0.114132\n",
      "[240]\tvalidation_0-rmse:0.097312\tvalidation_1-rmse:0.133146\tvalidation_0-rmspe:0.107378\tvalidation_1-rmspe:0.114058\n",
      "[241]\tvalidation_0-rmse:0.097201\tvalidation_1-rmse:0.133117\tvalidation_0-rmspe:0.107258\tvalidation_1-rmspe:0.11402\n",
      "[242]\tvalidation_0-rmse:0.097052\tvalidation_1-rmse:0.133034\tvalidation_0-rmspe:0.107117\tvalidation_1-rmspe:0.113928\n",
      "[243]\tvalidation_0-rmse:0.096814\tvalidation_1-rmse:0.133008\tvalidation_0-rmspe:0.106952\tvalidation_1-rmspe:0.113915\n",
      "[244]\tvalidation_0-rmse:0.096751\tvalidation_1-rmse:0.132986\tvalidation_0-rmspe:0.106875\tvalidation_1-rmspe:0.11391\n",
      "[245]\tvalidation_0-rmse:0.096549\tvalidation_1-rmse:0.132969\tvalidation_0-rmspe:0.106728\tvalidation_1-rmspe:0.113896\n",
      "[246]\tvalidation_0-rmse:0.096338\tvalidation_1-rmse:0.132931\tvalidation_0-rmspe:0.106628\tvalidation_1-rmspe:0.113866\n",
      "[247]\tvalidation_0-rmse:0.096221\tvalidation_1-rmse:0.132864\tvalidation_0-rmspe:0.106502\tvalidation_1-rmspe:0.113801\n",
      "[248]\tvalidation_0-rmse:0.096096\tvalidation_1-rmse:0.132868\tvalidation_0-rmspe:0.10626\tvalidation_1-rmspe:0.113818\n",
      "[249]\tvalidation_0-rmse:0.095988\tvalidation_1-rmse:0.132841\tvalidation_0-rmspe:0.106166\tvalidation_1-rmspe:0.113762\n",
      "[250]\tvalidation_0-rmse:0.095869\tvalidation_1-rmse:0.132773\tvalidation_0-rmspe:0.106012\tvalidation_1-rmspe:0.113695\n",
      "[251]\tvalidation_0-rmse:0.095806\tvalidation_1-rmse:0.132751\tvalidation_0-rmspe:0.105689\tvalidation_1-rmspe:0.11367\n",
      "[252]\tvalidation_0-rmse:0.095629\tvalidation_1-rmse:0.132716\tvalidation_0-rmspe:0.10557\tvalidation_1-rmspe:0.113639\n",
      "[253]\tvalidation_0-rmse:0.095551\tvalidation_1-rmse:0.132713\tvalidation_0-rmspe:0.105509\tvalidation_1-rmspe:0.113641\n",
      "[254]\tvalidation_0-rmse:0.095495\tvalidation_1-rmse:0.132681\tvalidation_0-rmspe:0.105412\tvalidation_1-rmspe:0.1136\n",
      "[255]\tvalidation_0-rmse:0.095212\tvalidation_1-rmse:0.132659\tvalidation_0-rmspe:0.102818\tvalidation_1-rmspe:0.113538\n",
      "[256]\tvalidation_0-rmse:0.095073\tvalidation_1-rmse:0.13257\tvalidation_0-rmspe:0.102692\tvalidation_1-rmspe:0.113437\n",
      "[257]\tvalidation_0-rmse:0.09498\tvalidation_1-rmse:0.132556\tvalidation_0-rmspe:0.102484\tvalidation_1-rmspe:0.113579\n",
      "[258]\tvalidation_0-rmse:0.094741\tvalidation_1-rmse:0.132519\tvalidation_0-rmspe:0.102314\tvalidation_1-rmspe:0.113578\n",
      "[259]\tvalidation_0-rmse:0.094557\tvalidation_1-rmse:0.132447\tvalidation_0-rmspe:0.101663\tvalidation_1-rmspe:0.113512\n",
      "[260]\tvalidation_0-rmse:0.094379\tvalidation_1-rmse:0.13243\tvalidation_0-rmspe:0.101161\tvalidation_1-rmspe:0.113459\n",
      "[261]\tvalidation_0-rmse:0.094315\tvalidation_1-rmse:0.132397\tvalidation_0-rmspe:0.100204\tvalidation_1-rmspe:0.113382\n",
      "[262]\tvalidation_0-rmse:0.094164\tvalidation_1-rmse:0.132384\tvalidation_0-rmspe:0.100049\tvalidation_1-rmspe:0.113164\n",
      "[263]\tvalidation_0-rmse:0.093915\tvalidation_1-rmse:0.132293\tvalidation_0-rmspe:0.099811\tvalidation_1-rmspe:0.112908\n",
      "[264]\tvalidation_0-rmse:0.093852\tvalidation_1-rmse:0.132252\tvalidation_0-rmspe:0.099742\tvalidation_1-rmspe:0.112848\n",
      "[265]\tvalidation_0-rmse:0.093699\tvalidation_1-rmse:0.132135\tvalidation_0-rmspe:0.099598\tvalidation_1-rmspe:0.112775\n",
      "[266]\tvalidation_0-rmse:0.09354\tvalidation_1-rmse:0.132106\tvalidation_0-rmspe:0.09952\tvalidation_1-rmspe:0.112741\n",
      "[267]\tvalidation_0-rmse:0.093296\tvalidation_1-rmse:0.131989\tvalidation_0-rmspe:0.099369\tvalidation_1-rmspe:0.112625\n",
      "[268]\tvalidation_0-rmse:0.093235\tvalidation_1-rmse:0.131966\tvalidation_0-rmspe:0.099295\tvalidation_1-rmspe:0.112584\n",
      "[269]\tvalidation_0-rmse:0.093122\tvalidation_1-rmse:0.131853\tvalidation_0-rmspe:0.099212\tvalidation_1-rmspe:0.112501\n",
      "[270]\tvalidation_0-rmse:0.092892\tvalidation_1-rmse:0.132055\tvalidation_0-rmspe:0.099045\tvalidation_1-rmspe:0.112384\n",
      "[271]\tvalidation_0-rmse:0.092795\tvalidation_1-rmse:0.132049\tvalidation_0-rmspe:0.09891\tvalidation_1-rmspe:0.112338\n",
      "[272]\tvalidation_0-rmse:0.092535\tvalidation_1-rmse:0.132002\tvalidation_0-rmspe:0.098695\tvalidation_1-rmspe:0.112197\n",
      "[273]\tvalidation_0-rmse:0.092355\tvalidation_1-rmse:0.131963\tvalidation_0-rmspe:0.098597\tvalidation_1-rmspe:0.112155\n",
      "[274]\tvalidation_0-rmse:0.092143\tvalidation_1-rmse:0.131928\tvalidation_0-rmspe:0.098425\tvalidation_1-rmspe:0.112037\n",
      "[275]\tvalidation_0-rmse:0.091972\tvalidation_1-rmse:0.131918\tvalidation_0-rmspe:0.098182\tvalidation_1-rmspe:0.11202\n",
      "[276]\tvalidation_0-rmse:0.091901\tvalidation_1-rmse:0.131858\tvalidation_0-rmspe:0.09811\tvalidation_1-rmspe:0.111826\n",
      "[277]\tvalidation_0-rmse:0.091686\tvalidation_1-rmse:0.131745\tvalidation_0-rmspe:0.097951\tvalidation_1-rmspe:0.111695\n",
      "[278]\tvalidation_0-rmse:0.091566\tvalidation_1-rmse:0.13174\tvalidation_0-rmspe:0.097844\tvalidation_1-rmspe:0.111653\n",
      "[279]\tvalidation_0-rmse:0.091411\tvalidation_1-rmse:0.131674\tvalidation_0-rmspe:0.09775\tvalidation_1-rmspe:0.111622\n",
      "[280]\tvalidation_0-rmse:0.091286\tvalidation_1-rmse:0.13163\tvalidation_0-rmspe:0.097608\tvalidation_1-rmspe:0.111566\n",
      "[281]\tvalidation_0-rmse:0.091226\tvalidation_1-rmse:0.131595\tvalidation_0-rmspe:0.097523\tvalidation_1-rmspe:0.111514\n",
      "[282]\tvalidation_0-rmse:0.091128\tvalidation_1-rmse:0.131547\tvalidation_0-rmspe:0.09742\tvalidation_1-rmspe:0.11145\n",
      "[283]\tvalidation_0-rmse:0.091025\tvalidation_1-rmse:0.131512\tvalidation_0-rmspe:0.097125\tvalidation_1-rmspe:0.111412\n",
      "[284]\tvalidation_0-rmse:0.090927\tvalidation_1-rmse:0.131524\tvalidation_0-rmspe:0.097032\tvalidation_1-rmspe:0.111407\n"
     ]
    },
    {
     "name": "stdout",
     "output_type": "stream",
     "text": [
      "[285]\tvalidation_0-rmse:0.090888\tvalidation_1-rmse:0.131521\tvalidation_0-rmspe:0.096991\tvalidation_1-rmspe:0.111398\n",
      "[286]\tvalidation_0-rmse:0.09065\tvalidation_1-rmse:0.131477\tvalidation_0-rmspe:0.096619\tvalidation_1-rmspe:0.111328\n",
      "[287]\tvalidation_0-rmse:0.090534\tvalidation_1-rmse:0.13145\tvalidation_0-rmspe:0.096523\tvalidation_1-rmspe:0.111292\n",
      "[288]\tvalidation_0-rmse:0.090327\tvalidation_1-rmse:0.131426\tvalidation_0-rmspe:0.096372\tvalidation_1-rmspe:0.111244\n",
      "[289]\tvalidation_0-rmse:0.090257\tvalidation_1-rmse:0.131381\tvalidation_0-rmspe:0.096313\tvalidation_1-rmspe:0.111191\n",
      "[290]\tvalidation_0-rmse:0.090036\tvalidation_1-rmse:0.131298\tvalidation_0-rmspe:0.095084\tvalidation_1-rmspe:0.110922\n",
      "[291]\tvalidation_0-rmse:0.089894\tvalidation_1-rmse:0.131251\tvalidation_0-rmspe:0.09498\tvalidation_1-rmspe:0.110869\n",
      "[292]\tvalidation_0-rmse:0.089753\tvalidation_1-rmse:0.131217\tvalidation_0-rmspe:0.094893\tvalidation_1-rmspe:0.110858\n",
      "[293]\tvalidation_0-rmse:0.089677\tvalidation_1-rmse:0.131157\tvalidation_0-rmspe:0.094802\tvalidation_1-rmspe:0.110782\n",
      "[294]\tvalidation_0-rmse:0.089591\tvalidation_1-rmse:0.131134\tvalidation_0-rmspe:0.094696\tvalidation_1-rmspe:0.110762\n",
      "[295]\tvalidation_0-rmse:0.089417\tvalidation_1-rmse:0.131089\tvalidation_0-rmspe:0.094556\tvalidation_1-rmspe:0.110624\n",
      "[296]\tvalidation_0-rmse:0.089287\tvalidation_1-rmse:0.131062\tvalidation_0-rmspe:0.09391\tvalidation_1-rmspe:0.110588\n",
      "[297]\tvalidation_0-rmse:0.089213\tvalidation_1-rmse:0.131013\tvalidation_0-rmspe:0.093855\tvalidation_1-rmspe:0.110529\n",
      "[298]\tvalidation_0-rmse:0.089143\tvalidation_1-rmse:0.13097\tvalidation_0-rmspe:0.093795\tvalidation_1-rmspe:0.109989\n",
      "[299]\tvalidation_0-rmse:0.088989\tvalidation_1-rmse:0.130997\tvalidation_0-rmspe:0.093622\tvalidation_1-rmspe:0.110016\n",
      "[300]\tvalidation_0-rmse:0.088851\tvalidation_1-rmse:0.130994\tvalidation_0-rmspe:0.093492\tvalidation_1-rmspe:0.109986\n",
      "[301]\tvalidation_0-rmse:0.088681\tvalidation_1-rmse:0.130964\tvalidation_0-rmspe:0.093145\tvalidation_1-rmspe:0.10992\n",
      "[302]\tvalidation_0-rmse:0.088556\tvalidation_1-rmse:0.130943\tvalidation_0-rmspe:0.093019\tvalidation_1-rmspe:0.109879\n",
      "[303]\tvalidation_0-rmse:0.088492\tvalidation_1-rmse:0.13091\tvalidation_0-rmspe:0.09295\tvalidation_1-rmspe:0.109837\n",
      "[304]\tvalidation_0-rmse:0.088415\tvalidation_1-rmse:0.130893\tvalidation_0-rmspe:0.092903\tvalidation_1-rmspe:0.109848\n",
      "[305]\tvalidation_0-rmse:0.088321\tvalidation_1-rmse:0.130903\tvalidation_0-rmspe:0.092661\tvalidation_1-rmspe:0.10985\n",
      "[306]\tvalidation_0-rmse:0.088158\tvalidation_1-rmse:0.13089\tvalidation_0-rmspe:0.092565\tvalidation_1-rmspe:0.10984\n",
      "[307]\tvalidation_0-rmse:0.088045\tvalidation_1-rmse:0.130869\tvalidation_0-rmspe:0.092456\tvalidation_1-rmspe:0.109792\n",
      "[308]\tvalidation_0-rmse:0.087952\tvalidation_1-rmse:0.130852\tvalidation_0-rmspe:0.092349\tvalidation_1-rmspe:0.109751\n",
      "[309]\tvalidation_0-rmse:0.087832\tvalidation_1-rmse:0.130839\tvalidation_0-rmspe:0.092284\tvalidation_1-rmspe:0.109783\n",
      "[310]\tvalidation_0-rmse:0.087781\tvalidation_1-rmse:0.130871\tvalidation_0-rmspe:0.092208\tvalidation_1-rmspe:0.109811\n",
      "[311]\tvalidation_0-rmse:0.087716\tvalidation_1-rmse:0.130872\tvalidation_0-rmspe:0.092133\tvalidation_1-rmspe:0.109801\n",
      "[312]\tvalidation_0-rmse:0.087621\tvalidation_1-rmse:0.130848\tvalidation_0-rmspe:0.092043\tvalidation_1-rmspe:0.109724\n",
      "[313]\tvalidation_0-rmse:0.087578\tvalidation_1-rmse:0.130824\tvalidation_0-rmspe:0.091994\tvalidation_1-rmspe:0.10969\n",
      "[314]\tvalidation_0-rmse:0.087418\tvalidation_1-rmse:0.130808\tvalidation_0-rmspe:0.09188\tvalidation_1-rmspe:0.109669\n",
      "[315]\tvalidation_0-rmse:0.087346\tvalidation_1-rmse:0.130767\tvalidation_0-rmspe:0.091637\tvalidation_1-rmspe:0.109597\n",
      "[316]\tvalidation_0-rmse:0.087086\tvalidation_1-rmse:0.13073\tvalidation_0-rmspe:0.091513\tvalidation_1-rmspe:0.109532\n",
      "[317]\tvalidation_0-rmse:0.087029\tvalidation_1-rmse:0.130742\tvalidation_0-rmspe:0.091443\tvalidation_1-rmspe:0.10953\n",
      "[318]\tvalidation_0-rmse:0.086901\tvalidation_1-rmse:0.130711\tvalidation_0-rmspe:0.091349\tvalidation_1-rmspe:0.109482\n",
      "[319]\tvalidation_0-rmse:0.086803\tvalidation_1-rmse:0.130667\tvalidation_0-rmspe:0.091263\tvalidation_1-rmspe:0.109405\n",
      "[320]\tvalidation_0-rmse:0.086732\tvalidation_1-rmse:0.130681\tvalidation_0-rmspe:0.09117\tvalidation_1-rmspe:0.109412\n",
      "[321]\tvalidation_0-rmse:0.086599\tvalidation_1-rmse:0.130687\tvalidation_0-rmspe:0.091081\tvalidation_1-rmspe:0.1094\n",
      "[322]\tvalidation_0-rmse:0.086529\tvalidation_1-rmse:0.130706\tvalidation_0-rmspe:0.090965\tvalidation_1-rmspe:0.109383\n",
      "[323]\tvalidation_0-rmse:0.086462\tvalidation_1-rmse:0.130684\tvalidation_0-rmspe:0.090884\tvalidation_1-rmspe:0.109385\n",
      "[324]\tvalidation_0-rmse:0.086362\tvalidation_1-rmse:0.130766\tvalidation_0-rmspe:0.089482\tvalidation_1-rmspe:0.109423\n",
      "[325]\tvalidation_0-rmse:0.086249\tvalidation_1-rmse:0.130743\tvalidation_0-rmspe:0.089359\tvalidation_1-rmspe:0.109414\n",
      "[326]\tvalidation_0-rmse:0.086187\tvalidation_1-rmse:0.130723\tvalidation_0-rmspe:0.089282\tvalidation_1-rmspe:0.109392\n",
      "[327]\tvalidation_0-rmse:0.08607\tvalidation_1-rmse:0.130712\tvalidation_0-rmspe:0.088618\tvalidation_1-rmspe:0.109387\n",
      "[328]\tvalidation_0-rmse:0.086012\tvalidation_1-rmse:0.13069\tvalidation_0-rmspe:0.088564\tvalidation_1-rmspe:0.109347\n",
      "[329]\tvalidation_0-rmse:0.085903\tvalidation_1-rmse:0.13066\tvalidation_0-rmspe:0.088495\tvalidation_1-rmspe:0.109311\n",
      "[330]\tvalidation_0-rmse:0.085831\tvalidation_1-rmse:0.130635\tvalidation_0-rmspe:0.088414\tvalidation_1-rmspe:0.109279\n",
      "[331]\tvalidation_0-rmse:0.085708\tvalidation_1-rmse:0.130602\tvalidation_0-rmspe:0.088305\tvalidation_1-rmspe:0.109228\n",
      "[332]\tvalidation_0-rmse:0.08558\tvalidation_1-rmse:0.13062\tvalidation_0-rmspe:0.088193\tvalidation_1-rmspe:0.109267\n",
      "[333]\tvalidation_0-rmse:0.085485\tvalidation_1-rmse:0.130586\tvalidation_0-rmspe:0.088042\tvalidation_1-rmspe:0.109261\n",
      "[334]\tvalidation_0-rmse:0.085411\tvalidation_1-rmse:0.130564\tvalidation_0-rmspe:0.087976\tvalidation_1-rmspe:0.10925\n",
      "[335]\tvalidation_0-rmse:0.08534\tvalidation_1-rmse:0.130543\tvalidation_0-rmspe:0.087868\tvalidation_1-rmspe:0.109182\n",
      "[336]\tvalidation_0-rmse:0.08529\tvalidation_1-rmse:0.130554\tvalidation_0-rmspe:0.087831\tvalidation_1-rmspe:0.109203\n",
      "[337]\tvalidation_0-rmse:0.085206\tvalidation_1-rmse:0.130547\tvalidation_0-rmspe:0.087742\tvalidation_1-rmspe:0.109211\n",
      "[338]\tvalidation_0-rmse:0.085127\tvalidation_1-rmse:0.130529\tvalidation_0-rmspe:0.087679\tvalidation_1-rmspe:0.109188\n",
      "[339]\tvalidation_0-rmse:0.085015\tvalidation_1-rmse:0.130471\tvalidation_0-rmspe:0.087584\tvalidation_1-rmspe:0.109132\n",
      "[340]\tvalidation_0-rmse:0.084901\tvalidation_1-rmse:0.130437\tvalidation_0-rmspe:0.087486\tvalidation_1-rmspe:0.109103\n",
      "[341]\tvalidation_0-rmse:0.084849\tvalidation_1-rmse:0.130426\tvalidation_0-rmspe:0.087411\tvalidation_1-rmspe:0.109086\n",
      "[342]\tvalidation_0-rmse:0.084768\tvalidation_1-rmse:0.13044\tvalidation_0-rmspe:0.087271\tvalidation_1-rmspe:0.109081\n",
      "[343]\tvalidation_0-rmse:0.084704\tvalidation_1-rmse:0.130396\tvalidation_0-rmspe:0.087213\tvalidation_1-rmspe:0.109038\n",
      "[344]\tvalidation_0-rmse:0.084608\tvalidation_1-rmse:0.130366\tvalidation_0-rmspe:0.08708\tvalidation_1-rmspe:0.109008\n",
      "[345]\tvalidation_0-rmse:0.084516\tvalidation_1-rmse:0.130355\tvalidation_0-rmspe:0.086995\tvalidation_1-rmspe:0.109005\n",
      "[346]\tvalidation_0-rmse:0.08434\tvalidation_1-rmse:0.130347\tvalidation_0-rmspe:0.086895\tvalidation_1-rmspe:0.108958\n",
      "[347]\tvalidation_0-rmse:0.084292\tvalidation_1-rmse:0.130343\tvalidation_0-rmspe:0.086865\tvalidation_1-rmspe:0.108953\n",
      "[348]\tvalidation_0-rmse:0.08424\tvalidation_1-rmse:0.130319\tvalidation_0-rmspe:0.086715\tvalidation_1-rmspe:0.10892\n",
      "[349]\tvalidation_0-rmse:0.084116\tvalidation_1-rmse:0.130291\tvalidation_0-rmspe:0.086504\tvalidation_1-rmspe:0.108909\n",
      "[350]\tvalidation_0-rmse:0.084077\tvalidation_1-rmse:0.130309\tvalidation_0-rmspe:0.086479\tvalidation_1-rmspe:0.108913\n",
      "[351]\tvalidation_0-rmse:0.083913\tvalidation_1-rmse:0.130277\tvalidation_0-rmspe:0.086397\tvalidation_1-rmspe:0.108906\n",
      "[352]\tvalidation_0-rmse:0.083775\tvalidation_1-rmse:0.130234\tvalidation_0-rmspe:0.086301\tvalidation_1-rmspe:0.10886\n",
      "[353]\tvalidation_0-rmse:0.083644\tvalidation_1-rmse:0.130159\tvalidation_0-rmspe:0.086071\tvalidation_1-rmspe:0.10888\n",
      "[354]\tvalidation_0-rmse:0.083549\tvalidation_1-rmse:0.13011\tvalidation_0-rmspe:0.085973\tvalidation_1-rmspe:0.108854\n",
      "[355]\tvalidation_0-rmse:0.083457\tvalidation_1-rmse:0.130111\tvalidation_0-rmspe:0.085876\tvalidation_1-rmspe:0.108878\n"
     ]
    },
    {
     "name": "stdout",
     "output_type": "stream",
     "text": [
      "[356]\tvalidation_0-rmse:0.083428\tvalidation_1-rmse:0.130114\tvalidation_0-rmspe:0.085687\tvalidation_1-rmspe:0.108887\n",
      "[357]\tvalidation_0-rmse:0.083362\tvalidation_1-rmse:0.130104\tvalidation_0-rmspe:0.085588\tvalidation_1-rmspe:0.108877\n",
      "[358]\tvalidation_0-rmse:0.083294\tvalidation_1-rmse:0.130132\tvalidation_0-rmspe:0.085524\tvalidation_1-rmspe:0.108922\n",
      "[359]\tvalidation_0-rmse:0.083227\tvalidation_1-rmse:0.130104\tvalidation_0-rmspe:0.085394\tvalidation_1-rmspe:0.108902\n",
      "[360]\tvalidation_0-rmse:0.083165\tvalidation_1-rmse:0.130103\tvalidation_0-rmspe:0.08533\tvalidation_1-rmspe:0.108889\n",
      "[361]\tvalidation_0-rmse:0.083074\tvalidation_1-rmse:0.130119\tvalidation_0-rmspe:0.08526\tvalidation_1-rmspe:0.10883\n",
      "[362]\tvalidation_0-rmse:0.082994\tvalidation_1-rmse:0.130114\tvalidation_0-rmspe:0.085091\tvalidation_1-rmspe:0.108821\n",
      "[363]\tvalidation_0-rmse:0.082839\tvalidation_1-rmse:0.130134\tvalidation_0-rmspe:0.085002\tvalidation_1-rmspe:0.108855\n",
      "[364]\tvalidation_0-rmse:0.082728\tvalidation_1-rmse:0.130103\tvalidation_0-rmspe:0.084702\tvalidation_1-rmspe:0.108836\n",
      "[365]\tvalidation_0-rmse:0.082655\tvalidation_1-rmse:0.130063\tvalidation_0-rmspe:0.08464\tvalidation_1-rmspe:0.108825\n",
      "[366]\tvalidation_0-rmse:0.082573\tvalidation_1-rmse:0.13006\tvalidation_0-rmspe:0.084569\tvalidation_1-rmspe:0.108819\n",
      "[367]\tvalidation_0-rmse:0.082502\tvalidation_1-rmse:0.130068\tvalidation_0-rmspe:0.084496\tvalidation_1-rmspe:0.108795\n",
      "[368]\tvalidation_0-rmse:0.082398\tvalidation_1-rmse:0.130057\tvalidation_0-rmspe:0.084443\tvalidation_1-rmspe:0.108794\n",
      "[369]\tvalidation_0-rmse:0.082292\tvalidation_1-rmse:0.130044\tvalidation_0-rmspe:0.084386\tvalidation_1-rmspe:0.108839\n",
      "[370]\tvalidation_0-rmse:0.082192\tvalidation_1-rmse:0.130028\tvalidation_0-rmspe:0.084316\tvalidation_1-rmspe:0.108838\n",
      "[371]\tvalidation_0-rmse:0.082102\tvalidation_1-rmse:0.129998\tvalidation_0-rmspe:0.084235\tvalidation_1-rmspe:0.108739\n",
      "[372]\tvalidation_0-rmse:0.081986\tvalidation_1-rmse:0.130056\tvalidation_0-rmspe:0.084145\tvalidation_1-rmspe:0.108753\n",
      "[373]\tvalidation_0-rmse:0.081926\tvalidation_1-rmse:0.130027\tvalidation_0-rmspe:0.084085\tvalidation_1-rmspe:0.10871\n",
      "[374]\tvalidation_0-rmse:0.081811\tvalidation_1-rmse:0.130013\tvalidation_0-rmspe:0.083899\tvalidation_1-rmspe:0.108687\n",
      "[375]\tvalidation_0-rmse:0.081704\tvalidation_1-rmse:0.129991\tvalidation_0-rmspe:0.083818\tvalidation_1-rmspe:0.108369\n",
      "[376]\tvalidation_0-rmse:0.081661\tvalidation_1-rmse:0.129974\tvalidation_0-rmspe:0.083768\tvalidation_1-rmspe:0.108328\n",
      "[377]\tvalidation_0-rmse:0.081556\tvalidation_1-rmse:0.129957\tvalidation_0-rmspe:0.083664\tvalidation_1-rmspe:0.108303\n",
      "[378]\tvalidation_0-rmse:0.081524\tvalidation_1-rmse:0.129959\tvalidation_0-rmspe:0.083645\tvalidation_1-rmspe:0.108302\n",
      "[379]\tvalidation_0-rmse:0.081478\tvalidation_1-rmse:0.129936\tvalidation_0-rmspe:0.083577\tvalidation_1-rmspe:0.108286\n",
      "[380]\tvalidation_0-rmse:0.081385\tvalidation_1-rmse:0.129921\tvalidation_0-rmspe:0.083492\tvalidation_1-rmspe:0.108263\n",
      "[381]\tvalidation_0-rmse:0.08134\tvalidation_1-rmse:0.129904\tvalidation_0-rmspe:0.083209\tvalidation_1-rmspe:0.108232\n",
      "[382]\tvalidation_0-rmse:0.081194\tvalidation_1-rmse:0.129878\tvalidation_0-rmspe:0.083127\tvalidation_1-rmspe:0.108167\n",
      "[383]\tvalidation_0-rmse:0.081141\tvalidation_1-rmse:0.129973\tvalidation_0-rmspe:0.083061\tvalidation_1-rmspe:0.108162\n",
      "[384]\tvalidation_0-rmse:0.081015\tvalidation_1-rmse:0.129955\tvalidation_0-rmspe:0.082981\tvalidation_1-rmspe:0.108237\n",
      "[385]\tvalidation_0-rmse:0.080932\tvalidation_1-rmse:0.129942\tvalidation_0-rmspe:0.082908\tvalidation_1-rmspe:0.108246\n",
      "[386]\tvalidation_0-rmse:0.080829\tvalidation_1-rmse:0.129959\tvalidation_0-rmspe:0.08284\tvalidation_1-rmspe:0.108242\n",
      "[387]\tvalidation_0-rmse:0.080735\tvalidation_1-rmse:0.129946\tvalidation_0-rmspe:0.082747\tvalidation_1-rmspe:0.108214\n",
      "[388]\tvalidation_0-rmse:0.08065\tvalidation_1-rmse:0.129962\tvalidation_0-rmspe:0.08272\tvalidation_1-rmspe:0.108237\n",
      "[389]\tvalidation_0-rmse:0.0806\tvalidation_1-rmse:0.12999\tvalidation_0-rmspe:0.082661\tvalidation_1-rmspe:0.108285\n",
      "[390]\tvalidation_0-rmse:0.080558\tvalidation_1-rmse:0.129968\tvalidation_0-rmspe:0.082615\tvalidation_1-rmspe:0.108269\n",
      "[391]\tvalidation_0-rmse:0.080482\tvalidation_1-rmse:0.129962\tvalidation_0-rmspe:0.082549\tvalidation_1-rmspe:0.108261\n",
      "[392]\tvalidation_0-rmse:0.080392\tvalidation_1-rmse:0.129978\tvalidation_0-rmspe:0.082483\tvalidation_1-rmspe:0.108302\n",
      "[393]\tvalidation_0-rmse:0.080261\tvalidation_1-rmse:0.130011\tvalidation_0-rmspe:0.082379\tvalidation_1-rmspe:0.108344\n",
      "[394]\tvalidation_0-rmse:0.080119\tvalidation_1-rmse:0.12998\tvalidation_0-rmspe:0.08227\tvalidation_1-rmspe:0.108272\n",
      "[395]\tvalidation_0-rmse:0.080013\tvalidation_1-rmse:0.129958\tvalidation_0-rmspe:0.08212\tvalidation_1-rmspe:0.108262\n",
      "[396]\tvalidation_0-rmse:0.07988\tvalidation_1-rmse:0.129911\tvalidation_0-rmspe:0.082024\tvalidation_1-rmspe:0.108202\n",
      "[397]\tvalidation_0-rmse:0.079793\tvalidation_1-rmse:0.129901\tvalidation_0-rmspe:0.08196\tvalidation_1-rmspe:0.108195\n",
      "[398]\tvalidation_0-rmse:0.07973\tvalidation_1-rmse:0.129889\tvalidation_0-rmspe:0.081879\tvalidation_1-rmspe:0.108176\n",
      "[399]\tvalidation_0-rmse:0.079678\tvalidation_1-rmse:0.129821\tvalidation_0-rmspe:0.081827\tvalidation_1-rmspe:0.108165\n",
      "[400]\tvalidation_0-rmse:0.079605\tvalidation_1-rmse:0.129844\tvalidation_0-rmspe:0.08176\tvalidation_1-rmspe:0.10818\n",
      "[401]\tvalidation_0-rmse:0.079532\tvalidation_1-rmse:0.129819\tvalidation_0-rmspe:0.081685\tvalidation_1-rmspe:0.108139\n",
      "[402]\tvalidation_0-rmse:0.079449\tvalidation_1-rmse:0.129801\tvalidation_0-rmspe:0.081629\tvalidation_1-rmspe:0.108091\n",
      "[403]\tvalidation_0-rmse:0.079374\tvalidation_1-rmse:0.129804\tvalidation_0-rmspe:0.081568\tvalidation_1-rmspe:0.108095\n",
      "[404]\tvalidation_0-rmse:0.079358\tvalidation_1-rmse:0.129812\tvalidation_0-rmspe:0.081535\tvalidation_1-rmspe:0.108105\n",
      "[405]\tvalidation_0-rmse:0.079276\tvalidation_1-rmse:0.129813\tvalidation_0-rmspe:0.081458\tvalidation_1-rmspe:0.108069\n",
      "[406]\tvalidation_0-rmse:0.079204\tvalidation_1-rmse:0.129793\tvalidation_0-rmspe:0.081378\tvalidation_1-rmspe:0.10803\n",
      "[407]\tvalidation_0-rmse:0.079128\tvalidation_1-rmse:0.129758\tvalidation_0-rmspe:0.081319\tvalidation_1-rmspe:0.107972\n",
      "[408]\tvalidation_0-rmse:0.07908\tvalidation_1-rmse:0.129756\tvalidation_0-rmspe:0.081264\tvalidation_1-rmspe:0.107975\n",
      "[409]\tvalidation_0-rmse:0.078986\tvalidation_1-rmse:0.129751\tvalidation_0-rmspe:0.081164\tvalidation_1-rmspe:0.108029\n",
      "[410]\tvalidation_0-rmse:0.078914\tvalidation_1-rmse:0.129687\tvalidation_0-rmspe:0.081084\tvalidation_1-rmspe:0.107895\n",
      "[411]\tvalidation_0-rmse:0.078871\tvalidation_1-rmse:0.129706\tvalidation_0-rmspe:0.081029\tvalidation_1-rmspe:0.107848\n",
      "[412]\tvalidation_0-rmse:0.078834\tvalidation_1-rmse:0.129692\tvalidation_0-rmspe:0.080991\tvalidation_1-rmspe:0.107824\n",
      "[413]\tvalidation_0-rmse:0.078657\tvalidation_1-rmse:0.129692\tvalidation_0-rmspe:0.080857\tvalidation_1-rmspe:0.107821\n",
      "[414]\tvalidation_0-rmse:0.078632\tvalidation_1-rmse:0.12969\tvalidation_0-rmspe:0.080824\tvalidation_1-rmspe:0.107804\n",
      "[415]\tvalidation_0-rmse:0.078582\tvalidation_1-rmse:0.129696\tvalidation_0-rmspe:0.080793\tvalidation_1-rmspe:0.107822\n",
      "[416]\tvalidation_0-rmse:0.078519\tvalidation_1-rmse:0.129687\tvalidation_0-rmspe:0.080732\tvalidation_1-rmspe:0.107803\n",
      "[417]\tvalidation_0-rmse:0.078318\tvalidation_1-rmse:0.129682\tvalidation_0-rmspe:0.080633\tvalidation_1-rmspe:0.107755\n",
      "[418]\tvalidation_0-rmse:0.078278\tvalidation_1-rmse:0.129655\tvalidation_0-rmspe:0.0805\tvalidation_1-rmspe:0.107723\n",
      "[419]\tvalidation_0-rmse:0.07822\tvalidation_1-rmse:0.129651\tvalidation_0-rmspe:0.080464\tvalidation_1-rmspe:0.107753\n",
      "[420]\tvalidation_0-rmse:0.078181\tvalidation_1-rmse:0.129664\tvalidation_0-rmspe:0.080306\tvalidation_1-rmspe:0.10776\n",
      "[421]\tvalidation_0-rmse:0.078092\tvalidation_1-rmse:0.129668\tvalidation_0-rmspe:0.080218\tvalidation_1-rmspe:0.107761\n",
      "[422]\tvalidation_0-rmse:0.078047\tvalidation_1-rmse:0.129657\tvalidation_0-rmspe:0.080174\tvalidation_1-rmspe:0.107731\n",
      "[423]\tvalidation_0-rmse:0.077984\tvalidation_1-rmse:0.129643\tvalidation_0-rmspe:0.080124\tvalidation_1-rmspe:0.107722\n",
      "[424]\tvalidation_0-rmse:0.077911\tvalidation_1-rmse:0.129669\tvalidation_0-rmspe:0.08004\tvalidation_1-rmspe:0.107703\n",
      "[425]\tvalidation_0-rmse:0.077803\tvalidation_1-rmse:0.129656\tvalidation_0-rmspe:0.079881\tvalidation_1-rmspe:0.107692\n",
      "[426]\tvalidation_0-rmse:0.07774\tvalidation_1-rmse:0.129635\tvalidation_0-rmspe:0.079842\tvalidation_1-rmspe:0.107651\n"
     ]
    },
    {
     "name": "stdout",
     "output_type": "stream",
     "text": [
      "[427]\tvalidation_0-rmse:0.077641\tvalidation_1-rmse:0.129618\tvalidation_0-rmspe:0.079764\tvalidation_1-rmspe:0.107627\n",
      "[428]\tvalidation_0-rmse:0.077587\tvalidation_1-rmse:0.129628\tvalidation_0-rmspe:0.079722\tvalidation_1-rmspe:0.107655\n",
      "[429]\tvalidation_0-rmse:0.077546\tvalidation_1-rmse:0.129598\tvalidation_0-rmspe:0.079702\tvalidation_1-rmspe:0.107669\n",
      "[430]\tvalidation_0-rmse:0.077483\tvalidation_1-rmse:0.129589\tvalidation_0-rmspe:0.079629\tvalidation_1-rmspe:0.107661\n",
      "[431]\tvalidation_0-rmse:0.077438\tvalidation_1-rmse:0.129593\tvalidation_0-rmspe:0.079559\tvalidation_1-rmspe:0.107571\n",
      "[432]\tvalidation_0-rmse:0.077372\tvalidation_1-rmse:0.129576\tvalidation_0-rmspe:0.079482\tvalidation_1-rmspe:0.107576\n",
      "[433]\tvalidation_0-rmse:0.077328\tvalidation_1-rmse:0.129561\tvalidation_0-rmspe:0.079435\tvalidation_1-rmspe:0.107564\n",
      "[434]\tvalidation_0-rmse:0.077251\tvalidation_1-rmse:0.129525\tvalidation_0-rmspe:0.079396\tvalidation_1-rmspe:0.107486\n",
      "[435]\tvalidation_0-rmse:0.077218\tvalidation_1-rmse:0.129527\tvalidation_0-rmspe:0.079364\tvalidation_1-rmspe:0.10747\n",
      "[436]\tvalidation_0-rmse:0.077199\tvalidation_1-rmse:0.129518\tvalidation_0-rmspe:0.079344\tvalidation_1-rmspe:0.10745\n",
      "[437]\tvalidation_0-rmse:0.077152\tvalidation_1-rmse:0.12951\tvalidation_0-rmspe:0.079261\tvalidation_1-rmspe:0.107379\n",
      "[438]\tvalidation_0-rmse:0.077096\tvalidation_1-rmse:0.129516\tvalidation_0-rmspe:0.079211\tvalidation_1-rmspe:0.107403\n",
      "[439]\tvalidation_0-rmse:0.07703\tvalidation_1-rmse:0.129449\tvalidation_0-rmspe:0.079111\tvalidation_1-rmspe:0.107032\n",
      "[440]\tvalidation_0-rmse:0.076926\tvalidation_1-rmse:0.12943\tvalidation_0-rmspe:0.079038\tvalidation_1-rmspe:0.107017\n",
      "[441]\tvalidation_0-rmse:0.076833\tvalidation_1-rmse:0.129391\tvalidation_0-rmspe:0.078913\tvalidation_1-rmspe:0.106896\n",
      "[442]\tvalidation_0-rmse:0.07677\tvalidation_1-rmse:0.129378\tvalidation_0-rmspe:0.07888\tvalidation_1-rmspe:0.106787\n",
      "[443]\tvalidation_0-rmse:0.07675\tvalidation_1-rmse:0.129391\tvalidation_0-rmspe:0.078866\tvalidation_1-rmspe:0.10682\n",
      "[444]\tvalidation_0-rmse:0.076695\tvalidation_1-rmse:0.129382\tvalidation_0-rmspe:0.078807\tvalidation_1-rmspe:0.10681\n",
      "[445]\tvalidation_0-rmse:0.076595\tvalidation_1-rmse:0.129378\tvalidation_0-rmspe:0.078731\tvalidation_1-rmspe:0.106774\n",
      "[446]\tvalidation_0-rmse:0.07654\tvalidation_1-rmse:0.129368\tvalidation_0-rmspe:0.078287\tvalidation_1-rmspe:0.10676\n",
      "[447]\tvalidation_0-rmse:0.076467\tvalidation_1-rmse:0.12933\tvalidation_0-rmspe:0.078204\tvalidation_1-rmspe:0.106694\n",
      "[448]\tvalidation_0-rmse:0.076446\tvalidation_1-rmse:0.12932\tvalidation_0-rmspe:0.078175\tvalidation_1-rmspe:0.106691\n",
      "[449]\tvalidation_0-rmse:0.07641\tvalidation_1-rmse:0.129322\tvalidation_0-rmspe:0.078143\tvalidation_1-rmspe:0.106691\n",
      "[450]\tvalidation_0-rmse:0.076341\tvalidation_1-rmse:0.129327\tvalidation_0-rmspe:0.078108\tvalidation_1-rmspe:0.10673\n",
      "[451]\tvalidation_0-rmse:0.076255\tvalidation_1-rmse:0.129297\tvalidation_0-rmspe:0.078046\tvalidation_1-rmspe:0.106672\n",
      "[452]\tvalidation_0-rmse:0.076187\tvalidation_1-rmse:0.129292\tvalidation_0-rmspe:0.077993\tvalidation_1-rmspe:0.106694\n",
      "[453]\tvalidation_0-rmse:0.076098\tvalidation_1-rmse:0.129272\tvalidation_0-rmspe:0.077913\tvalidation_1-rmspe:0.106676\n",
      "[454]\tvalidation_0-rmse:0.076052\tvalidation_1-rmse:0.129335\tvalidation_0-rmspe:0.077858\tvalidation_1-rmspe:0.106643\n",
      "[455]\tvalidation_0-rmse:0.075975\tvalidation_1-rmse:0.129294\tvalidation_0-rmspe:0.077623\tvalidation_1-rmspe:0.106565\n",
      "[456]\tvalidation_0-rmse:0.075921\tvalidation_1-rmse:0.129285\tvalidation_0-rmspe:0.07758\tvalidation_1-rmspe:0.106543\n",
      "[457]\tvalidation_0-rmse:0.07585\tvalidation_1-rmse:0.129246\tvalidation_0-rmspe:0.077522\tvalidation_1-rmspe:0.106491\n",
      "[458]\tvalidation_0-rmse:0.075745\tvalidation_1-rmse:0.129241\tvalidation_0-rmspe:0.077425\tvalidation_1-rmspe:0.106494\n",
      "[459]\tvalidation_0-rmse:0.0757\tvalidation_1-rmse:0.129258\tvalidation_0-rmspe:0.077356\tvalidation_1-rmspe:0.1065\n",
      "[460]\tvalidation_0-rmse:0.075628\tvalidation_1-rmse:0.129264\tvalidation_0-rmspe:0.077285\tvalidation_1-rmspe:0.106488\n",
      "[461]\tvalidation_0-rmse:0.07557\tvalidation_1-rmse:0.129235\tvalidation_0-rmspe:0.077243\tvalidation_1-rmspe:0.106424\n",
      "[462]\tvalidation_0-rmse:0.075539\tvalidation_1-rmse:0.129225\tvalidation_0-rmspe:0.077219\tvalidation_1-rmspe:0.10643\n",
      "[463]\tvalidation_0-rmse:0.075488\tvalidation_1-rmse:0.129204\tvalidation_0-rmspe:0.077171\tvalidation_1-rmspe:0.106422\n",
      "[464]\tvalidation_0-rmse:0.075435\tvalidation_1-rmse:0.129175\tvalidation_0-rmspe:0.077108\tvalidation_1-rmspe:0.1064\n",
      "[465]\tvalidation_0-rmse:0.075367\tvalidation_1-rmse:0.129166\tvalidation_0-rmspe:0.077052\tvalidation_1-rmspe:0.106395\n",
      "[466]\tvalidation_0-rmse:0.075269\tvalidation_1-rmse:0.129178\tvalidation_0-rmspe:0.076978\tvalidation_1-rmspe:0.106392\n",
      "[467]\tvalidation_0-rmse:0.075192\tvalidation_1-rmse:0.129175\tvalidation_0-rmspe:0.076906\tvalidation_1-rmspe:0.106419\n",
      "[468]\tvalidation_0-rmse:0.075122\tvalidation_1-rmse:0.129151\tvalidation_0-rmspe:0.076774\tvalidation_1-rmspe:0.106422\n",
      "[469]\tvalidation_0-rmse:0.075046\tvalidation_1-rmse:0.129132\tvalidation_0-rmspe:0.076676\tvalidation_1-rmspe:0.106371\n",
      "[470]\tvalidation_0-rmse:0.074999\tvalidation_1-rmse:0.129153\tvalidation_0-rmspe:0.076622\tvalidation_1-rmspe:0.106393\n",
      "[471]\tvalidation_0-rmse:0.074946\tvalidation_1-rmse:0.129165\tvalidation_0-rmspe:0.076566\tvalidation_1-rmspe:0.106391\n",
      "[472]\tvalidation_0-rmse:0.07487\tvalidation_1-rmse:0.129171\tvalidation_0-rmspe:0.076507\tvalidation_1-rmspe:0.106397\n",
      "[473]\tvalidation_0-rmse:0.074811\tvalidation_1-rmse:0.129196\tvalidation_0-rmspe:0.076443\tvalidation_1-rmspe:0.106426\n",
      "[474]\tvalidation_0-rmse:0.074769\tvalidation_1-rmse:0.129212\tvalidation_0-rmspe:0.076245\tvalidation_1-rmspe:0.106438\n",
      "[475]\tvalidation_0-rmse:0.074747\tvalidation_1-rmse:0.129211\tvalidation_0-rmspe:0.07623\tvalidation_1-rmspe:0.10646\n",
      "[476]\tvalidation_0-rmse:0.074705\tvalidation_1-rmse:0.129199\tvalidation_0-rmspe:0.076141\tvalidation_1-rmspe:0.10643\n",
      "[477]\tvalidation_0-rmse:0.074646\tvalidation_1-rmse:0.129197\tvalidation_0-rmspe:0.076084\tvalidation_1-rmspe:0.10643\n",
      "[478]\tvalidation_0-rmse:0.074602\tvalidation_1-rmse:0.129202\tvalidation_0-rmspe:0.076028\tvalidation_1-rmspe:0.106397\n",
      "[479]\tvalidation_0-rmse:0.074518\tvalidation_1-rmse:0.129216\tvalidation_0-rmspe:0.076005\tvalidation_1-rmspe:0.106403\n",
      "[480]\tvalidation_0-rmse:0.074476\tvalidation_1-rmse:0.12919\tvalidation_0-rmspe:0.075964\tvalidation_1-rmspe:0.106361\n",
      "[481]\tvalidation_0-rmse:0.074394\tvalidation_1-rmse:0.129214\tvalidation_0-rmspe:0.075891\tvalidation_1-rmspe:0.106355\n",
      "[482]\tvalidation_0-rmse:0.074341\tvalidation_1-rmse:0.129216\tvalidation_0-rmspe:0.075835\tvalidation_1-rmspe:0.106352\n",
      "[483]\tvalidation_0-rmse:0.074263\tvalidation_1-rmse:0.129201\tvalidation_0-rmspe:0.075777\tvalidation_1-rmspe:0.106325\n",
      "[484]\tvalidation_0-rmse:0.074157\tvalidation_1-rmse:0.129193\tvalidation_0-rmspe:0.075704\tvalidation_1-rmspe:0.106288\n",
      "[485]\tvalidation_0-rmse:0.074079\tvalidation_1-rmse:0.1292\tvalidation_0-rmspe:0.075588\tvalidation_1-rmspe:0.106294\n",
      "[486]\tvalidation_0-rmse:0.074059\tvalidation_1-rmse:0.129197\tvalidation_0-rmspe:0.075582\tvalidation_1-rmspe:0.106289\n",
      "[487]\tvalidation_0-rmse:0.074018\tvalidation_1-rmse:0.129193\tvalidation_0-rmspe:0.07554\tvalidation_1-rmspe:0.106281\n",
      "[488]\tvalidation_0-rmse:0.073887\tvalidation_1-rmse:0.129228\tvalidation_0-rmspe:0.075465\tvalidation_1-rmspe:0.106311\n",
      "[489]\tvalidation_0-rmse:0.073815\tvalidation_1-rmse:0.129236\tvalidation_0-rmspe:0.075358\tvalidation_1-rmspe:0.106289\n",
      "[490]\tvalidation_0-rmse:0.073752\tvalidation_1-rmse:0.129232\tvalidation_0-rmspe:0.075294\tvalidation_1-rmspe:0.106264\n",
      "[491]\tvalidation_0-rmse:0.073708\tvalidation_1-rmse:0.12923\tvalidation_0-rmspe:0.075279\tvalidation_1-rmspe:0.106252\n",
      "[492]\tvalidation_0-rmse:0.07362\tvalidation_1-rmse:0.129202\tvalidation_0-rmspe:0.07522\tvalidation_1-rmspe:0.106235\n",
      "[493]\tvalidation_0-rmse:0.073544\tvalidation_1-rmse:0.129252\tvalidation_0-rmspe:0.07516\tvalidation_1-rmspe:0.106516\n",
      "[494]\tvalidation_0-rmse:0.073481\tvalidation_1-rmse:0.129271\tvalidation_0-rmspe:0.075118\tvalidation_1-rmspe:0.106564\n",
      "[495]\tvalidation_0-rmse:0.0734\tvalidation_1-rmse:0.129265\tvalidation_0-rmspe:0.075066\tvalidation_1-rmspe:0.106536\n",
      "[496]\tvalidation_0-rmse:0.073347\tvalidation_1-rmse:0.129267\tvalidation_0-rmspe:0.074994\tvalidation_1-rmspe:0.10654\n",
      "[497]\tvalidation_0-rmse:0.073313\tvalidation_1-rmse:0.129268\tvalidation_0-rmspe:0.074958\tvalidation_1-rmspe:0.106539\n"
     ]
    },
    {
     "name": "stdout",
     "output_type": "stream",
     "text": [
      "[498]\tvalidation_0-rmse:0.073234\tvalidation_1-rmse:0.129268\tvalidation_0-rmspe:0.074881\tvalidation_1-rmspe:0.106554\n",
      "[499]\tvalidation_0-rmse:0.073165\tvalidation_1-rmse:0.129251\tvalidation_0-rmspe:0.074831\tvalidation_1-rmspe:0.106545\n",
      "[500]\tvalidation_0-rmse:0.073116\tvalidation_1-rmse:0.129235\tvalidation_0-rmspe:0.074788\tvalidation_1-rmspe:0.106517\n",
      "[501]\tvalidation_0-rmse:0.073064\tvalidation_1-rmse:0.129227\tvalidation_0-rmspe:0.074757\tvalidation_1-rmspe:0.106489\n",
      "[502]\tvalidation_0-rmse:0.073033\tvalidation_1-rmse:0.129249\tvalidation_0-rmspe:0.07457\tvalidation_1-rmspe:0.106535\n",
      "[503]\tvalidation_0-rmse:0.072979\tvalidation_1-rmse:0.129247\tvalidation_0-rmspe:0.074501\tvalidation_1-rmspe:0.106505\n",
      "[504]\tvalidation_0-rmse:0.07294\tvalidation_1-rmse:0.129248\tvalidation_0-rmspe:0.074448\tvalidation_1-rmspe:0.106505\n",
      "[505]\tvalidation_0-rmse:0.072907\tvalidation_1-rmse:0.129262\tvalidation_0-rmspe:0.074414\tvalidation_1-rmspe:0.10651\n",
      "[506]\tvalidation_0-rmse:0.072839\tvalidation_1-rmse:0.129261\tvalidation_0-rmspe:0.074372\tvalidation_1-rmspe:0.106511\n",
      "[507]\tvalidation_0-rmse:0.07277\tvalidation_1-rmse:0.129269\tvalidation_0-rmspe:0.074301\tvalidation_1-rmspe:0.106565\n",
      "[508]\tvalidation_0-rmse:0.072755\tvalidation_1-rmse:0.12927\tvalidation_0-rmspe:0.074271\tvalidation_1-rmspe:0.106572\n",
      "[509]\tvalidation_0-rmse:0.072685\tvalidation_1-rmse:0.129273\tvalidation_0-rmspe:0.074217\tvalidation_1-rmspe:0.106577\n",
      "[510]\tvalidation_0-rmse:0.072586\tvalidation_1-rmse:0.129256\tvalidation_0-rmspe:0.074135\tvalidation_1-rmspe:0.10663\n",
      "[511]\tvalidation_0-rmse:0.072525\tvalidation_1-rmse:0.129278\tvalidation_0-rmspe:0.073915\tvalidation_1-rmspe:0.106661\n",
      "[512]\tvalidation_0-rmse:0.072491\tvalidation_1-rmse:0.12927\tvalidation_0-rmspe:0.073872\tvalidation_1-rmspe:0.106648\n",
      "Stopping. Best iteration:\n",
      "[492]\tvalidation_0-rmse:0.07362\tvalidation_1-rmse:0.129202\tvalidation_0-rmspe:0.07522\tvalidation_1-rmspe:0.106235\n",
      "\n",
      "Train use time: 845.7364797592163\n"
     ]
    }
   ],
   "source": [
    "params = {\"objective\": \"reg:linear\",\n",
    "          \"eta\": 0.1,\n",
    "          \"max_depth\": 12,\n",
    "          \"min_child_weight\":1,\n",
    "          \"gamma\" :0,\n",
    "          \"subsample\": 0.7,\n",
    "          \"colsample_bytree\": 0.7,\n",
    "          \"silent\": 1\n",
    "          }\n",
    "num_trees = 1000\n",
    "\n",
    "# dtrain = xgb.DMatrix(X_train, Y_train)\n",
    "# dvalid = xgb.DMatrix(X_valid, Y_valid)\n",
    "# dtest = xgb.DMatrix(test)\n",
    "eval_set= [(X_train, Y_train),(X_valid, Y_valid)]\n",
    "#watchlist = [(dvalid, 'eval'), (dtrain, 'train')]\n",
    "ret = {}\n",
    "import time\n",
    "start = time.time()\n",
    "estimator = xgb.XGBRegressor(max_depth=12,learning_rate =0.1,n_jobs =4, n_estimators=num_trees,subsample=0.8,colsample_bytree=0.8,nthread=4,scale_pos_weight=1)\n",
    "estimator.fit(X_train, Y_train,eval_metric=rmspe_xg, eval_set=eval_set, verbose=True,early_stopping_rounds=20)\n",
    "#gbm = xgb.train(params, dtrain, num_trees, evals=watchlist, early_stopping_rounds=50,evals_result =ret, feval=rmspe_xg, verbose_eval=True)\n",
    "end = time.time()\n",
    "print(\"Train use time:\",end-start)"
   ]
  },
  {
   "cell_type": "code",
   "execution_count": 18,
   "metadata": {},
   "outputs": [
    {
     "data": {
      "image/png": "[encoded data removed]",
      "text/plain": [
       "<Figure size 432x288 with 1 Axes>"
      ]
     },
     "metadata": {
      "needs_background": "light"
     },
     "output_type": "display_data"
    }
   ],
   "source": [
    "from matplotlib import pyplot\n",
    "results = estimator.evals_result()\n",
    "epochs = len(results['validation_0']['rmspe'])\n",
    "x_axis = range(0, epochs)\n",
    "# plot log loss\n",
    "fig, ax = pyplot.subplots()\n",
    "ax.plot(x_axis, results['validation_0']['rmspe'], label='Train')\n",
    "ax.plot(x_axis, results['validation_1']['rmspe'], label='Test')\n",
    "ax.legend()\n",
    "pyplot.ylabel('Rmspe Loss')\n",
    "pyplot.title('XGBoost Rmspe Loss')\n",
    "pyplot.show()"
   ]
  },
  {
   "cell_type": "code",
   "execution_count": null,
   "metadata": {},
   "outputs": [
    {
     "name": "stdout",
     "output_type": "stream",
     "text": [
      "Fitting 3 folds for each of 60 candidates, totalling 180 fits\n",
      "[CV] learning_rate=0.08, max_depth=10, subsample=0.6 .................\n"
     ]
    },
    {
     "name": "stderr",
     "output_type": "stream",
     "text": [
      "[Parallel(n_jobs=1)]: Using backend SequentialBackend with 1 concurrent workers.\n"
     ]
    },
    {
     "name": "stdout",
     "output_type": "stream",
     "text": [
      "[CV] .. learning_rate=0.08, max_depth=10, subsample=0.6, total= 5.8min\n",
      "[CV] learning_rate=0.08, max_depth=10, subsample=0.6 .................\n"
     ]
    },
    {
     "name": "stderr",
     "output_type": "stream",
     "text": [
      "[Parallel(n_jobs=1)]: Done   1 out of   1 | elapsed:  6.1min remaining:    0.0s\n"
     ]
    },
    {
     "name": "stdout",
     "output_type": "stream",
     "text": [
      "[CV] .. learning_rate=0.08, max_depth=10, subsample=0.6, total= 5.8min\n",
      "[CV] learning_rate=0.08, max_depth=10, subsample=0.6 .................\n",
      "[CV] .. learning_rate=0.08, max_depth=10, subsample=0.6, total= 5.5min\n",
      "[CV] learning_rate=0.08, max_depth=10, subsample=0.7 .................\n",
      "[CV] .. learning_rate=0.08, max_depth=10, subsample=0.7, total= 5.9min\n",
      "[CV] learning_rate=0.08, max_depth=10, subsample=0.7 .................\n",
      "[CV] .. learning_rate=0.08, max_depth=10, subsample=0.7, total= 5.8min\n",
      "[CV] learning_rate=0.08, max_depth=10, subsample=0.7 .................\n",
      "[CV] .. learning_rate=0.08, max_depth=10, subsample=0.7, total= 5.8min\n",
      "[CV] learning_rate=0.08, max_depth=10, subsample=0.8 .................\n",
      "[CV] .. learning_rate=0.08, max_depth=10, subsample=0.8, total= 5.4min\n",
      "[CV] learning_rate=0.08, max_depth=10, subsample=0.8 .................\n",
      "[CV] .. learning_rate=0.08, max_depth=10, subsample=0.8, total= 5.1min\n",
      "[CV] learning_rate=0.08, max_depth=10, subsample=0.8 .................\n",
      "[CV] .. learning_rate=0.08, max_depth=10, subsample=0.8, total= 5.1min\n",
      "[CV] learning_rate=0.08, max_depth=10, subsample=0.9 .................\n",
      "[CV] .. learning_rate=0.08, max_depth=10, subsample=0.9, total= 4.9min\n",
      "[CV] learning_rate=0.08, max_depth=10, subsample=0.9 .................\n",
      "[CV] .. learning_rate=0.08, max_depth=10, subsample=0.9, total= 5.0min\n",
      "[CV] learning_rate=0.08, max_depth=10, subsample=0.9 .................\n",
      "[CV] .. learning_rate=0.08, max_depth=10, subsample=0.9, total= 5.0min\n",
      "[CV] learning_rate=0.08, max_depth=11, subsample=0.6 .................\n",
      "[CV] .. learning_rate=0.08, max_depth=11, subsample=0.6, total= 6.0min\n",
      "[CV] learning_rate=0.08, max_depth=11, subsample=0.6 .................\n",
      "[CV] .. learning_rate=0.08, max_depth=11, subsample=0.6, total= 6.0min\n",
      "[CV] learning_rate=0.08, max_depth=11, subsample=0.6 .................\n",
      "[CV] .. learning_rate=0.08, max_depth=11, subsample=0.6, total= 6.0min\n",
      "[CV] learning_rate=0.08, max_depth=11, subsample=0.7 .................\n",
      "[CV] .. learning_rate=0.08, max_depth=11, subsample=0.7, total= 5.8min\n",
      "[CV] learning_rate=0.08, max_depth=11, subsample=0.7 .................\n",
      "[CV] .. learning_rate=0.08, max_depth=11, subsample=0.7, total= 5.9min\n",
      "[CV] learning_rate=0.08, max_depth=11, subsample=0.7 .................\n",
      "[CV] .. learning_rate=0.08, max_depth=11, subsample=0.7, total= 5.9min\n",
      "[CV] learning_rate=0.08, max_depth=11, subsample=0.8 .................\n",
      "[CV] .. learning_rate=0.08, max_depth=11, subsample=0.8, total= 5.8min\n",
      "[CV] learning_rate=0.08, max_depth=11, subsample=0.8 .................\n",
      "[CV] .. learning_rate=0.08, max_depth=11, subsample=0.8, total= 6.0min\n",
      "[CV] learning_rate=0.08, max_depth=11, subsample=0.8 .................\n",
      "[CV] .. learning_rate=0.08, max_depth=11, subsample=0.8, total= 6.2min\n",
      "[CV] learning_rate=0.08, max_depth=11, subsample=0.9 .................\n",
      "[CV] .. learning_rate=0.08, max_depth=11, subsample=0.9, total= 5.6min\n",
      "[CV] learning_rate=0.08, max_depth=11, subsample=0.9 .................\n",
      "[CV] .. learning_rate=0.08, max_depth=11, subsample=0.9, total= 5.8min\n",
      "[CV] learning_rate=0.08, max_depth=11, subsample=0.9 .................\n",
      "[CV] .. learning_rate=0.08, max_depth=11, subsample=0.9, total= 5.8min\n",
      "[CV] learning_rate=0.08, max_depth=12, subsample=0.6 .................\n",
      "[CV] .. learning_rate=0.08, max_depth=12, subsample=0.6, total= 6.7min\n",
      "[CV] learning_rate=0.08, max_depth=12, subsample=0.6 .................\n",
      "[CV] .. learning_rate=0.08, max_depth=12, subsample=0.6, total= 6.6min\n",
      "[CV] learning_rate=0.08, max_depth=12, subsample=0.6 .................\n",
      "[CV] .. learning_rate=0.08, max_depth=12, subsample=0.6, total= 7.1min\n",
      "[CV] learning_rate=0.08, max_depth=12, subsample=0.7 .................\n",
      "[CV] .. learning_rate=0.08, max_depth=12, subsample=0.7, total= 7.1min\n",
      "[CV] learning_rate=0.08, max_depth=12, subsample=0.7 .................\n",
      "[CV] .. learning_rate=0.08, max_depth=12, subsample=0.7, total= 7.0min\n",
      "[CV] learning_rate=0.08, max_depth=12, subsample=0.7 .................\n",
      "[CV] .. learning_rate=0.08, max_depth=12, subsample=0.7, total= 6.7min\n",
      "[CV] learning_rate=0.08, max_depth=12, subsample=0.8 .................\n",
      "[CV] .. learning_rate=0.08, max_depth=12, subsample=0.8, total=10.5min\n",
      "[CV] learning_rate=0.08, max_depth=12, subsample=0.8 .................\n",
      "[CV] .. learning_rate=0.08, max_depth=12, subsample=0.8, total=13.3min\n",
      "[CV] learning_rate=0.08, max_depth=12, subsample=0.8 .................\n",
      "[CV] .. learning_rate=0.08, max_depth=12, subsample=0.8, total=12.6min\n",
      "[CV] learning_rate=0.08, max_depth=12, subsample=0.9 .................\n",
      "[CV] .. learning_rate=0.08, max_depth=12, subsample=0.9, total=12.0min\n",
      "[CV] learning_rate=0.08, max_depth=12, subsample=0.9 .................\n",
      "[CV] .. learning_rate=0.08, max_depth=12, subsample=0.9, total=12.4min\n",
      "[CV] learning_rate=0.08, max_depth=12, subsample=0.9 .................\n",
      "[CV] .. learning_rate=0.08, max_depth=12, subsample=0.9, total=15.5min\n",
      "[CV] learning_rate=0.1, max_depth=10, subsample=0.6 ..................\n",
      "[CV] ... learning_rate=0.1, max_depth=10, subsample=0.6, total=14.7min\n",
      "[CV] learning_rate=0.1, max_depth=10, subsample=0.6 ..................\n",
      "[CV] ... learning_rate=0.1, max_depth=10, subsample=0.6, total=19.1min\n",
      "[CV] learning_rate=0.1, max_depth=10, subsample=0.6 ..................\n",
      "[CV] ... learning_rate=0.1, max_depth=10, subsample=0.6, total=12.1min\n",
      "[CV] learning_rate=0.1, max_depth=10, subsample=0.7 ..................\n",
      "[CV] ... learning_rate=0.1, max_depth=10, subsample=0.7, total=10.8min\n",
      "[CV] learning_rate=0.1, max_depth=10, subsample=0.7 ..................\n",
      "[CV] ... learning_rate=0.1, max_depth=10, subsample=0.7, total=10.3min\n",
      "[CV] learning_rate=0.1, max_depth=10, subsample=0.7 ..................\n",
      "[CV] ... learning_rate=0.1, max_depth=10, subsample=0.7, total= 9.9min\n",
      "[CV] learning_rate=0.1, max_depth=10, subsample=0.8 ..................\n",
      "[CV] ... learning_rate=0.1, max_depth=10, subsample=0.8, total=10.2min\n",
      "[CV] learning_rate=0.1, max_depth=10, subsample=0.8 ..................\n",
      "[CV] ... learning_rate=0.1, max_depth=10, subsample=0.8, total= 9.9min\n",
      "[CV] learning_rate=0.1, max_depth=10, subsample=0.8 ..................\n",
      "[CV] ... learning_rate=0.1, max_depth=10, subsample=0.8, total= 9.7min\n",
      "[CV] learning_rate=0.1, max_depth=10, subsample=0.9 ..................\n",
      "[CV] ... learning_rate=0.1, max_depth=10, subsample=0.9, total= 9.6min\n",
      "[CV] learning_rate=0.1, max_depth=10, subsample=0.9 ..................\n",
      "[CV] ... learning_rate=0.1, max_depth=10, subsample=0.9, total=10.7min\n",
      "[CV] learning_rate=0.1, max_depth=10, subsample=0.9 ..................\n"
     ]
    }
   ],
   "source": [
    "from sklearn.model_selection import GridSearchCV\n",
    "from sklearn.metrics import mean_squared_error\n",
    "from sklearn.metrics import make_scorer\n",
    "\n",
    "def customer_rmspe_xg(yhat, y):\n",
    "    # y = y.values\n",
    "    y = np.exp(y) - 1\n",
    "    yhat = np.exp(yhat) - 1\n",
    "    w = ToWeight(y)\n",
    "    rmspe = np.sqrt(np.mean(w * (y - yhat)**2))\n",
    "    return rmspe\n",
    "\n",
    "param_test1 = {\n",
    " 'max_depth':range(10,13,1),\n",
    " 'subsample': [0.6,0.7,0.8,0.9],\n",
    " 'learning_rate': [0.08,0.1,0.11,0.12,0.13]\n",
    "}\n",
    "nums_round = 492\n",
    "gsearch1 = GridSearchCV(estimator = xgb.XGBRegressor(max_depth=12,learning_rate =0.1,n_jobs =4, n_estimators=nums_round,subsample=0.8,colsample_bytree=0.8,nthread=4,scale_pos_weight=1),\n",
    "                        param_grid = param_test1,cv=3,verbose=2,scoring=make_scorer(customer_rmspe_xg,greater_is_better=False))\n",
    "gsearch1.fit(X_train, Y_train)"
   ]
  },
  {
   "cell_type": "code",
   "execution_count": 26,
   "metadata": {},
   "outputs": [
    {
     "name": "stdout",
     "output_type": "stream",
     "text": [
      "{'max_depth': 10}\n",
      "-0.20115284889529902\n"
     ]
    }
   ],
   "source": [
    "print(gsearch1.best_params_)\n",
    "print(gsearch1.best_score_)"
   ]
  },
  {
   "cell_type": "markdown",
   "metadata": {},
   "source": [
    "param_test2 = {\n",
    " 'gamma':[i/10.0 for i in range(0,5)]\n",
    "}\n",
    "gsearch2 = GridSearchCV(estimator = xgb.XGBRegressor(max_depth=9,learning_rate =0.1, n_estimators=36,min_child_weight=3, gamma=0,verbose = 10,subsample=0.8,colsample_bytree=0.8,nthread=4,scale_pos_weight=1),\n",
    "                        param_grid = param_test2,scoring ='neg_mean_squared_error',cv=5)\n",
    "\n",
    "gsearch2.fit(X_train, Y_train)\n"
   ]
  },
  {
   "cell_type": "code",
   "execution_count": 27,
   "metadata": {},
   "outputs": [
    {
     "name": "stdout",
     "output_type": "stream",
     "text": [
      "{'gamma': 0.1}\n"
     ]
    }
   ],
   "source": [
    "print(gsearch2.best_params_)"
   ]
  },
  {
   "cell_type": "code",
   "execution_count": 73,
   "metadata": {},
   "outputs": [
    {
     "name": "stdout",
     "output_type": "stream",
     "text": [
      "[0]\teval-rmse:6.61459\ttrain-rmse:6.61894\teval-rmspe:0.998646\ttrain-rmspe:0.998669\n",
      "Multiple eval metrics have been passed: 'train-rmspe' will be used for early stopping.\n",
      "\n",
      "Will train until train-rmspe hasn't improved in 50 rounds.\n",
      "[1]\teval-rmse:5.29584\ttrain-rmse:5.29992\teval-rmspe:0.994636\ttrain-rmspe:0.994675\n",
      "[2]\teval-rmse:4.24143\ttrain-rmse:4.24475\teval-rmspe:0.984512\ttrain-rmspe:0.984574\n",
      "[3]\teval-rmse:3.39884\ttrain-rmse:3.40132\teval-rmspe:0.96411\ttrain-rmspe:0.964207\n",
      "[4]\teval-rmse:2.72533\ttrain-rmse:2.72748\teval-rmspe:0.929864\ttrain-rmspe:0.930031\n",
      "[5]\teval-rmse:2.18715\ttrain-rmse:2.18856\teval-rmspe:0.880713\ttrain-rmspe:0.880935\n",
      "[6]\teval-rmse:1.75839\ttrain-rmse:1.75941\teval-rmspe:0.817425\ttrain-rmspe:0.817879\n",
      "[7]\teval-rmse:1.41743\ttrain-rmse:1.41803\teval-rmspe:0.743716\ttrain-rmspe:0.744687\n",
      "[8]\teval-rmse:1.1459\ttrain-rmse:1.1466\teval-rmspe:0.664653\ttrain-rmspe:0.666665\n",
      "[9]\teval-rmse:0.931714\ttrain-rmse:0.932273\teval-rmspe:0.585377\ttrain-rmspe:0.589114\n",
      "[10]\teval-rmse:0.756586\ttrain-rmse:0.756927\teval-rmspe:0.510045\ttrain-rmspe:0.516309\n",
      "[11]\teval-rmse:0.623839\ttrain-rmse:0.62378\teval-rmspe:0.441878\ttrain-rmspe:0.451437\n",
      "[12]\teval-rmse:0.518687\ttrain-rmse:0.518125\teval-rmspe:0.382467\ttrain-rmspe:0.396053\n",
      "[13]\teval-rmse:0.439355\ttrain-rmse:0.438042\teval-rmspe:0.333806\ttrain-rmspe:0.352079\n",
      "[14]\teval-rmse:0.379455\ttrain-rmse:0.377436\teval-rmspe:0.295716\ttrain-rmspe:0.319407\n",
      "[15]\teval-rmse:0.331541\ttrain-rmse:0.329016\teval-rmspe:0.264409\ttrain-rmspe:0.293193\n",
      "[16]\teval-rmse:0.295032\ttrain-rmse:0.292192\teval-rmspe:0.240569\ttrain-rmspe:0.275175\n",
      "[17]\teval-rmse:0.270894\ttrain-rmse:0.267224\teval-rmspe:0.225729\ttrain-rmspe:0.264625\n",
      "[18]\teval-rmse:0.252648\ttrain-rmse:0.248007\teval-rmspe:0.215049\ttrain-rmspe:0.256723\n",
      "[19]\teval-rmse:0.237101\ttrain-rmse:0.232298\teval-rmspe:0.20566\ttrain-rmspe:0.250517\n",
      "[20]\teval-rmse:0.225996\ttrain-rmse:0.220795\teval-rmspe:0.199021\ttrain-rmspe:0.246934\n",
      "[21]\teval-rmse:0.219521\ttrain-rmse:0.214\teval-rmspe:0.196321\ttrain-rmspe:0.246997\n",
      "[22]\teval-rmse:0.209697\ttrain-rmse:0.203868\teval-rmspe:0.189237\ttrain-rmspe:0.241278\n",
      "[23]\teval-rmse:0.203259\ttrain-rmse:0.196836\teval-rmspe:0.184212\ttrain-rmspe:0.23688\n",
      "[24]\teval-rmse:0.199062\ttrain-rmse:0.192066\teval-rmspe:0.181864\ttrain-rmspe:0.233939\n",
      "[25]\teval-rmse:0.194479\ttrain-rmse:0.187435\teval-rmspe:0.178472\ttrain-rmspe:0.231813\n",
      "[26]\teval-rmse:0.192876\ttrain-rmse:0.185319\teval-rmspe:0.178105\ttrain-rmspe:0.231428\n",
      "[27]\teval-rmse:0.191456\ttrain-rmse:0.183543\teval-rmspe:0.177583\ttrain-rmspe:0.229765\n",
      "[28]\teval-rmse:0.187622\ttrain-rmse:0.179431\teval-rmspe:0.17416\ttrain-rmspe:0.226983\n",
      "[29]\teval-rmse:0.186353\ttrain-rmse:0.17795\teval-rmspe:0.173491\ttrain-rmspe:0.224986\n",
      "[30]\teval-rmse:0.183392\ttrain-rmse:0.174513\teval-rmspe:0.170514\ttrain-rmspe:0.221731\n",
      "[31]\teval-rmse:0.181734\ttrain-rmse:0.172662\teval-rmspe:0.169159\ttrain-rmspe:0.220653\n",
      "[32]\teval-rmse:0.179849\ttrain-rmse:0.170341\teval-rmspe:0.167091\ttrain-rmspe:0.217786\n",
      "[33]\teval-rmse:0.179234\ttrain-rmse:0.169601\teval-rmspe:0.166618\ttrain-rmspe:0.217433\n",
      "[34]\teval-rmse:0.17701\ttrain-rmse:0.167059\teval-rmspe:0.164233\ttrain-rmspe:0.21552\n",
      "[35]\teval-rmse:0.175183\ttrain-rmse:0.165131\teval-rmspe:0.162063\ttrain-rmspe:0.213526\n",
      "[36]\teval-rmse:0.174531\ttrain-rmse:0.164107\teval-rmspe:0.161476\ttrain-rmspe:0.212739\n",
      "[37]\teval-rmse:0.174113\ttrain-rmse:0.163451\teval-rmspe:0.161088\ttrain-rmspe:0.212337\n",
      "[38]\teval-rmse:0.171694\ttrain-rmse:0.160851\teval-rmspe:0.158682\ttrain-rmspe:0.210371\n",
      "[39]\teval-rmse:0.168813\ttrain-rmse:0.157764\teval-rmspe:0.155219\ttrain-rmspe:0.207715\n",
      "[40]\teval-rmse:0.166753\ttrain-rmse:0.155458\teval-rmspe:0.15285\ttrain-rmspe:0.205819\n",
      "[41]\teval-rmse:0.166454\ttrain-rmse:0.154958\teval-rmspe:0.152504\ttrain-rmspe:0.205825\n",
      "[42]\teval-rmse:0.166203\ttrain-rmse:0.154389\teval-rmspe:0.152104\ttrain-rmspe:0.20516\n",
      "[43]\teval-rmse:0.165257\ttrain-rmse:0.153264\teval-rmspe:0.150841\ttrain-rmspe:0.204022\n",
      "[44]\teval-rmse:0.163863\ttrain-rmse:0.151699\teval-rmspe:0.149159\ttrain-rmspe:0.201037\n",
      "[45]\teval-rmse:0.162762\ttrain-rmse:0.150348\teval-rmspe:0.147918\ttrain-rmspe:0.199904\n",
      "[46]\teval-rmse:0.1625\ttrain-rmse:0.150104\teval-rmspe:0.147626\ttrain-rmspe:0.199394\n",
      "[47]\teval-rmse:0.161565\ttrain-rmse:0.148956\teval-rmspe:0.146575\ttrain-rmspe:0.198423\n",
      "[48]\teval-rmse:0.160498\ttrain-rmse:0.147778\teval-rmspe:0.145201\ttrain-rmspe:0.195958\n",
      "[49]\teval-rmse:0.159796\ttrain-rmse:0.14665\teval-rmspe:0.14425\ttrain-rmspe:0.194594\n",
      "[50]\teval-rmse:0.158459\ttrain-rmse:0.145142\teval-rmspe:0.142587\ttrain-rmspe:0.193201\n",
      "[51]\teval-rmse:0.158091\ttrain-rmse:0.144524\teval-rmspe:0.142112\ttrain-rmspe:0.192427\n",
      "[52]\teval-rmse:0.157011\ttrain-rmse:0.142962\teval-rmspe:0.140785\ttrain-rmspe:0.190893\n",
      "[53]\teval-rmse:0.156693\ttrain-rmse:0.142551\teval-rmspe:0.140283\ttrain-rmspe:0.190182\n",
      "[54]\teval-rmse:0.154595\ttrain-rmse:0.140252\teval-rmspe:0.137774\ttrain-rmspe:0.188232\n",
      "[55]\teval-rmse:0.154202\ttrain-rmse:0.139662\teval-rmspe:0.137378\ttrain-rmspe:0.187309\n",
      "[56]\teval-rmse:0.153735\ttrain-rmse:0.139011\teval-rmspe:0.136774\ttrain-rmspe:0.186653\n",
      "[57]\teval-rmse:0.151837\ttrain-rmse:0.136912\teval-rmspe:0.134363\ttrain-rmspe:0.184924\n",
      "[58]\teval-rmse:0.151359\ttrain-rmse:0.136359\teval-rmspe:0.13401\ttrain-rmspe:0.184465\n",
      "[59]\teval-rmse:0.151195\ttrain-rmse:0.135972\teval-rmspe:0.133836\ttrain-rmspe:0.18408\n",
      "[60]\teval-rmse:0.149748\ttrain-rmse:0.134349\teval-rmspe:0.132404\ttrain-rmspe:0.182793\n",
      "[61]\teval-rmse:0.149556\ttrain-rmse:0.134112\teval-rmspe:0.132206\ttrain-rmspe:0.182537\n",
      "[62]\teval-rmse:0.148943\ttrain-rmse:0.133199\teval-rmspe:0.131409\ttrain-rmspe:0.181406\n",
      "[63]\teval-rmse:0.148449\ttrain-rmse:0.13253\teval-rmspe:0.130874\ttrain-rmspe:0.180876\n",
      "[64]\teval-rmse:0.148056\ttrain-rmse:0.131967\teval-rmspe:0.130337\ttrain-rmspe:0.180553\n",
      "[65]\teval-rmse:0.147268\ttrain-rmse:0.131026\teval-rmspe:0.129477\ttrain-rmspe:0.17982\n",
      "[66]\teval-rmse:0.147033\ttrain-rmse:0.130657\teval-rmspe:0.129224\ttrain-rmspe:0.179696\n",
      "[67]\teval-rmse:0.146907\ttrain-rmse:0.130547\teval-rmspe:0.129064\ttrain-rmspe:0.179595\n",
      "[68]\teval-rmse:0.146528\ttrain-rmse:0.129933\teval-rmspe:0.128615\ttrain-rmspe:0.178385\n",
      "[69]\teval-rmse:0.145986\ttrain-rmse:0.12933\teval-rmspe:0.128087\ttrain-rmspe:0.175952\n",
      "[70]\teval-rmse:0.145641\ttrain-rmse:0.128976\teval-rmspe:0.127703\ttrain-rmspe:0.174791\n",
      "[71]\teval-rmse:0.144878\ttrain-rmse:0.128103\teval-rmspe:0.126761\ttrain-rmspe:0.17409\n",
      "[72]\teval-rmse:0.144003\ttrain-rmse:0.127286\teval-rmspe:0.125933\ttrain-rmspe:0.173399\n",
      "[73]\teval-rmse:0.143306\ttrain-rmse:0.126501\teval-rmspe:0.124953\ttrain-rmspe:0.172829\n",
      "[74]\teval-rmse:0.1432\ttrain-rmse:0.126254\teval-rmspe:0.124816\ttrain-rmspe:0.172462\n",
      "[75]\teval-rmse:0.143095\ttrain-rmse:0.125987\teval-rmspe:0.124774\ttrain-rmspe:0.172342\n",
      "[76]\teval-rmse:0.142907\ttrain-rmse:0.125768\teval-rmspe:0.124571\ttrain-rmspe:0.172164\n",
      "[77]\teval-rmse:0.14269\ttrain-rmse:0.125422\teval-rmspe:0.124471\ttrain-rmspe:0.171549\n",
      "[78]\teval-rmse:0.142545\ttrain-rmse:0.125088\teval-rmspe:0.124332\ttrain-rmspe:0.171096\n",
      "[79]\teval-rmse:0.142405\ttrain-rmse:0.124935\teval-rmspe:0.12415\ttrain-rmspe:0.170789\n",
      "[80]\teval-rmse:0.142196\ttrain-rmse:0.124664\teval-rmspe:0.123951\ttrain-rmspe:0.170437\n",
      "[81]\teval-rmse:0.142117\ttrain-rmse:0.124509\teval-rmspe:0.123874\ttrain-rmspe:0.170318\n",
      "[82]\teval-rmse:0.142022\ttrain-rmse:0.124253\teval-rmspe:0.123764\ttrain-rmspe:0.170156\n",
      "[83]\teval-rmse:0.141486\ttrain-rmse:0.123646\teval-rmspe:0.123201\ttrain-rmspe:0.169589\n",
      "[84]\teval-rmse:0.141265\ttrain-rmse:0.1233\teval-rmspe:0.122985\ttrain-rmspe:0.169611\n",
      "[85]\teval-rmse:0.14123\ttrain-rmse:0.122943\teval-rmspe:0.123016\ttrain-rmspe:0.169133\n",
      "[86]\teval-rmse:0.141135\ttrain-rmse:0.122606\teval-rmspe:0.122832\ttrain-rmspe:0.168279\n",
      "[87]\teval-rmse:0.140809\ttrain-rmse:0.122093\teval-rmspe:0.122446\ttrain-rmspe:0.167782\n",
      "[88]\teval-rmse:0.140601\ttrain-rmse:0.121803\teval-rmspe:0.12241\ttrain-rmspe:0.168468\n",
      "[89]\teval-rmse:0.140476\ttrain-rmse:0.12154\teval-rmspe:0.12229\ttrain-rmspe:0.168275\n",
      "[90]\teval-rmse:0.140087\ttrain-rmse:0.121048\teval-rmspe:0.121846\ttrain-rmspe:0.167837\n",
      "[91]\teval-rmse:0.139985\ttrain-rmse:0.120799\teval-rmspe:0.121719\ttrain-rmspe:0.167718\n",
      "[92]\teval-rmse:0.139744\ttrain-rmse:0.120514\teval-rmspe:0.121357\ttrain-rmspe:0.167388\n",
      "[93]\teval-rmse:0.139618\ttrain-rmse:0.120093\teval-rmspe:0.121529\ttrain-rmspe:0.167203\n",
      "[94]\teval-rmse:0.139336\ttrain-rmse:0.119638\teval-rmspe:0.121055\ttrain-rmspe:0.163798\n",
      "[95]\teval-rmse:0.139168\ttrain-rmse:0.119307\teval-rmspe:0.12087\ttrain-rmspe:0.163532\n"
     ]
    },
    {
     "name": "stdout",
     "output_type": "stream",
     "text": [
      "[96]\teval-rmse:0.138973\ttrain-rmse:0.119073\teval-rmspe:0.120678\ttrain-rmspe:0.163384\n",
      "[97]\teval-rmse:0.13894\ttrain-rmse:0.118893\teval-rmspe:0.120613\ttrain-rmspe:0.163226\n",
      "[98]\teval-rmse:0.138951\ttrain-rmse:0.118786\teval-rmspe:0.120606\ttrain-rmspe:0.163189\n",
      "[99]\teval-rmse:0.138824\ttrain-rmse:0.118624\teval-rmspe:0.120402\ttrain-rmspe:0.163015\n",
      "[100]\teval-rmse:0.138793\ttrain-rmse:0.118578\teval-rmspe:0.120377\ttrain-rmspe:0.163249\n",
      "[101]\teval-rmse:0.138611\ttrain-rmse:0.118318\teval-rmspe:0.120166\ttrain-rmspe:0.162939\n",
      "[102]\teval-rmse:0.138572\ttrain-rmse:0.118088\teval-rmspe:0.120133\ttrain-rmspe:0.162868\n",
      "[103]\teval-rmse:0.138488\ttrain-rmse:0.117889\teval-rmspe:0.120042\ttrain-rmspe:0.162703\n",
      "[104]\teval-rmse:0.138099\ttrain-rmse:0.117389\teval-rmspe:0.11954\ttrain-rmspe:0.162056\n",
      "[105]\teval-rmse:0.137963\ttrain-rmse:0.11713\teval-rmspe:0.119516\ttrain-rmspe:0.161778\n",
      "[106]\teval-rmse:0.137835\ttrain-rmse:0.116971\teval-rmspe:0.119292\ttrain-rmspe:0.159993\n",
      "[107]\teval-rmse:0.137734\ttrain-rmse:0.11683\teval-rmspe:0.119201\ttrain-rmspe:0.159609\n",
      "[108]\teval-rmse:0.137569\ttrain-rmse:0.11652\teval-rmspe:0.119002\ttrain-rmspe:0.159413\n",
      "[109]\teval-rmse:0.137489\ttrain-rmse:0.116326\teval-rmspe:0.118862\ttrain-rmspe:0.159146\n",
      "[110]\teval-rmse:0.137465\ttrain-rmse:0.116121\teval-rmspe:0.118804\ttrain-rmspe:0.159054\n",
      "[111]\teval-rmse:0.13745\ttrain-rmse:0.115919\teval-rmspe:0.11879\ttrain-rmspe:0.158846\n",
      "[112]\teval-rmse:0.137443\ttrain-rmse:0.115882\teval-rmspe:0.11878\ttrain-rmspe:0.15883\n",
      "[113]\teval-rmse:0.137362\ttrain-rmse:0.115666\teval-rmspe:0.118694\ttrain-rmspe:0.158605\n",
      "[114]\teval-rmse:0.137214\ttrain-rmse:0.11537\teval-rmspe:0.118501\ttrain-rmspe:0.156554\n",
      "[115]\teval-rmse:0.137162\ttrain-rmse:0.115186\teval-rmspe:0.118399\ttrain-rmspe:0.156418\n",
      "[116]\teval-rmse:0.137098\ttrain-rmse:0.115073\teval-rmspe:0.118332\ttrain-rmspe:0.156273\n",
      "[117]\teval-rmse:0.137075\ttrain-rmse:0.114934\teval-rmspe:0.118301\ttrain-rmspe:0.156237\n",
      "[118]\teval-rmse:0.136984\ttrain-rmse:0.114756\teval-rmspe:0.118117\ttrain-rmspe:0.155401\n",
      "[119]\teval-rmse:0.136914\ttrain-rmse:0.11452\teval-rmspe:0.11802\ttrain-rmspe:0.155115\n",
      "[120]\teval-rmse:0.136842\ttrain-rmse:0.114297\teval-rmspe:0.118014\ttrain-rmspe:0.154831\n",
      "[121]\teval-rmse:0.136805\ttrain-rmse:0.114243\teval-rmspe:0.117973\ttrain-rmspe:0.154793\n",
      "[122]\teval-rmse:0.13679\ttrain-rmse:0.114127\teval-rmspe:0.117949\ttrain-rmspe:0.154785\n",
      "[123]\teval-rmse:0.136752\ttrain-rmse:0.114071\teval-rmspe:0.117888\ttrain-rmspe:0.154724\n",
      "[124]\teval-rmse:0.136727\ttrain-rmse:0.113792\teval-rmspe:0.117825\ttrain-rmspe:0.154232\n",
      "[125]\teval-rmse:0.136634\ttrain-rmse:0.113714\teval-rmspe:0.117699\ttrain-rmspe:0.154177\n",
      "[126]\teval-rmse:0.136624\ttrain-rmse:0.113494\teval-rmspe:0.117681\ttrain-rmspe:0.154074\n",
      "[127]\teval-rmse:0.136524\ttrain-rmse:0.11333\teval-rmspe:0.117558\ttrain-rmspe:0.154428\n",
      "[128]\teval-rmse:0.136487\ttrain-rmse:0.113272\teval-rmspe:0.117513\ttrain-rmspe:0.154376\n",
      "[129]\teval-rmse:0.136506\ttrain-rmse:0.11319\teval-rmspe:0.117464\ttrain-rmspe:0.154327\n",
      "[130]\teval-rmse:0.136494\ttrain-rmse:0.11311\teval-rmspe:0.117462\ttrain-rmspe:0.154281\n",
      "[131]\teval-rmse:0.136385\ttrain-rmse:0.11293\teval-rmspe:0.117246\ttrain-rmspe:0.152672\n",
      "[132]\teval-rmse:0.136356\ttrain-rmse:0.112785\teval-rmspe:0.117212\ttrain-rmspe:0.152535\n",
      "[133]\teval-rmse:0.136285\ttrain-rmse:0.112478\teval-rmspe:0.117122\ttrain-rmspe:0.152419\n",
      "[134]\teval-rmse:0.136264\ttrain-rmse:0.112368\teval-rmspe:0.117109\ttrain-rmspe:0.152339\n",
      "[135]\teval-rmse:0.136177\ttrain-rmse:0.112128\teval-rmspe:0.117023\ttrain-rmspe:0.152267\n",
      "[136]\teval-rmse:0.136002\ttrain-rmse:0.111838\teval-rmspe:0.116856\ttrain-rmspe:0.152073\n",
      "[137]\teval-rmse:0.135979\ttrain-rmse:0.111754\teval-rmspe:0.116805\ttrain-rmspe:0.152027\n",
      "[138]\teval-rmse:0.135956\ttrain-rmse:0.11159\teval-rmspe:0.116775\ttrain-rmspe:0.151942\n",
      "[139]\teval-rmse:0.135951\ttrain-rmse:0.111543\teval-rmspe:0.116798\ttrain-rmspe:0.151669\n",
      "[140]\teval-rmse:0.135872\ttrain-rmse:0.111368\teval-rmspe:0.116689\ttrain-rmspe:0.151522\n",
      "[141]\teval-rmse:0.135917\ttrain-rmse:0.111165\teval-rmspe:0.116662\ttrain-rmspe:0.15141\n",
      "[142]\teval-rmse:0.135912\ttrain-rmse:0.111041\teval-rmspe:0.116646\ttrain-rmspe:0.151378\n",
      "[143]\teval-rmse:0.135888\ttrain-rmse:0.110893\teval-rmspe:0.116627\ttrain-rmspe:0.151284\n",
      "[144]\teval-rmse:0.135826\ttrain-rmse:0.110754\teval-rmspe:0.116587\ttrain-rmspe:0.151184\n",
      "[145]\teval-rmse:0.135813\ttrain-rmse:0.11071\teval-rmspe:0.116567\ttrain-rmspe:0.151143\n",
      "[146]\teval-rmse:0.135742\ttrain-rmse:0.110591\teval-rmspe:0.116518\ttrain-rmspe:0.151085\n",
      "[147]\teval-rmse:0.135673\ttrain-rmse:0.110479\teval-rmspe:0.116431\ttrain-rmspe:0.151019\n",
      "[148]\teval-rmse:0.135694\ttrain-rmse:0.11038\teval-rmspe:0.116443\ttrain-rmspe:0.150945\n",
      "[149]\teval-rmse:0.135601\ttrain-rmse:0.110281\teval-rmspe:0.11634\ttrain-rmspe:0.150703\n",
      "[150]\teval-rmse:0.135537\ttrain-rmse:0.109984\teval-rmspe:0.116148\ttrain-rmspe:0.150477\n",
      "[151]\teval-rmse:0.135459\ttrain-rmse:0.109867\teval-rmspe:0.116045\ttrain-rmspe:0.150407\n",
      "[152]\teval-rmse:0.135444\ttrain-rmse:0.109828\teval-rmspe:0.116044\ttrain-rmspe:0.150382\n",
      "[153]\teval-rmse:0.13543\ttrain-rmse:0.10975\teval-rmspe:0.116115\ttrain-rmspe:0.150289\n",
      "[154]\teval-rmse:0.135425\ttrain-rmse:0.109712\teval-rmspe:0.116089\ttrain-rmspe:0.150285\n",
      "[155]\teval-rmse:0.135415\ttrain-rmse:0.109651\teval-rmspe:0.116079\ttrain-rmspe:0.150267\n",
      "[156]\teval-rmse:0.135396\ttrain-rmse:0.109537\teval-rmspe:0.116072\ttrain-rmspe:0.150217\n",
      "[157]\teval-rmse:0.135371\ttrain-rmse:0.109493\teval-rmspe:0.116028\ttrain-rmspe:0.150171\n",
      "[158]\teval-rmse:0.135379\ttrain-rmse:0.109419\teval-rmspe:0.116053\ttrain-rmspe:0.150128\n",
      "[159]\teval-rmse:0.135353\ttrain-rmse:0.109377\teval-rmspe:0.116045\ttrain-rmspe:0.150078\n",
      "[160]\teval-rmse:0.135449\ttrain-rmse:0.109332\teval-rmspe:0.116126\ttrain-rmspe:0.150096\n",
      "[161]\teval-rmse:0.135701\ttrain-rmse:0.109231\teval-rmspe:0.116101\ttrain-rmspe:0.150021\n",
      "[162]\teval-rmse:0.13565\ttrain-rmse:0.109148\teval-rmspe:0.116044\ttrain-rmspe:0.149954\n",
      "[163]\teval-rmse:0.135688\ttrain-rmse:0.109043\teval-rmspe:0.116208\ttrain-rmspe:0.1499\n",
      "[164]\teval-rmse:0.135638\ttrain-rmse:0.108957\teval-rmspe:0.11617\ttrain-rmspe:0.149839\n",
      "[165]\teval-rmse:0.135579\ttrain-rmse:0.108878\teval-rmspe:0.116086\ttrain-rmspe:0.149696\n",
      "[166]\teval-rmse:0.135578\ttrain-rmse:0.108712\teval-rmspe:0.115997\ttrain-rmspe:0.14936\n",
      "[167]\teval-rmse:0.135651\ttrain-rmse:0.108673\teval-rmspe:0.11605\ttrain-rmspe:0.14933\n",
      "[168]\teval-rmse:0.135496\ttrain-rmse:0.108495\teval-rmspe:0.115898\ttrain-rmspe:0.149042\n",
      "[169]\teval-rmse:0.135503\ttrain-rmse:0.10844\teval-rmspe:0.115886\ttrain-rmspe:0.149003\n",
      "[170]\teval-rmse:0.135504\ttrain-rmse:0.10841\teval-rmspe:0.115892\ttrain-rmspe:0.149015\n",
      "[171]\teval-rmse:0.13545\ttrain-rmse:0.108278\teval-rmspe:0.115768\ttrain-rmspe:0.14894\n",
      "[172]\teval-rmse:0.135463\ttrain-rmse:0.108222\teval-rmspe:0.115774\ttrain-rmspe:0.148936\n",
      "[173]\teval-rmse:0.135432\ttrain-rmse:0.107985\teval-rmspe:0.115854\ttrain-rmspe:0.148819\n",
      "[174]\teval-rmse:0.135377\ttrain-rmse:0.107875\teval-rmspe:0.115793\ttrain-rmspe:0.148617\n",
      "[175]\teval-rmse:0.135361\ttrain-rmse:0.107852\teval-rmspe:0.115792\ttrain-rmspe:0.148593\n",
      "[176]\teval-rmse:0.135363\ttrain-rmse:0.107781\teval-rmspe:0.115811\ttrain-rmspe:0.148601\n",
      "[177]\teval-rmse:0.13531\ttrain-rmse:0.107692\teval-rmspe:0.115726\ttrain-rmspe:0.148576\n",
      "[178]\teval-rmse:0.135185\ttrain-rmse:0.107502\teval-rmspe:0.115567\ttrain-rmspe:0.148499\n",
      "[179]\teval-rmse:0.135157\ttrain-rmse:0.107445\teval-rmspe:0.115539\ttrain-rmspe:0.148475\n",
      "[180]\teval-rmse:0.135035\ttrain-rmse:0.107304\teval-rmspe:0.115458\ttrain-rmspe:0.14835\n",
      "[181]\teval-rmse:0.135035\ttrain-rmse:0.107271\teval-rmspe:0.115449\ttrain-rmspe:0.148226\n",
      "[182]\teval-rmse:0.13502\ttrain-rmse:0.107117\teval-rmspe:0.115426\ttrain-rmspe:0.148146\n",
      "[183]\teval-rmse:0.134998\ttrain-rmse:0.107045\teval-rmspe:0.115402\ttrain-rmspe:0.14813\n",
      "[184]\teval-rmse:0.134978\ttrain-rmse:0.106981\teval-rmspe:0.115413\ttrain-rmspe:0.148099\n",
      "[185]\teval-rmse:0.134908\ttrain-rmse:0.106923\teval-rmspe:0.115417\ttrain-rmspe:0.148071\n",
      "[186]\teval-rmse:0.134907\ttrain-rmse:0.106922\teval-rmspe:0.11544\ttrain-rmspe:0.148079\n",
      "[187]\teval-rmse:0.134885\ttrain-rmse:0.106863\teval-rmspe:0.115436\ttrain-rmspe:0.148052\n",
      "[188]\teval-rmse:0.134877\ttrain-rmse:0.106806\teval-rmspe:0.115414\ttrain-rmspe:0.14804\n",
      "[189]\teval-rmse:0.134799\ttrain-rmse:0.106705\teval-rmspe:0.115325\ttrain-rmspe:0.147281\n",
      "[190]\teval-rmse:0.135215\ttrain-rmse:0.106616\teval-rmspe:0.115345\ttrain-rmspe:0.14638\n",
      "[191]\teval-rmse:0.135219\ttrain-rmse:0.106521\teval-rmspe:0.115334\ttrain-rmspe:0.13933\n"
     ]
    },
    {
     "name": "stdout",
     "output_type": "stream",
     "text": [
      "[192]\teval-rmse:0.135173\ttrain-rmse:0.106415\teval-rmspe:0.115288\ttrain-rmspe:0.139224\n",
      "[193]\teval-rmse:0.135154\ttrain-rmse:0.106376\teval-rmspe:0.115269\ttrain-rmspe:0.13919\n",
      "[194]\teval-rmse:0.135199\ttrain-rmse:0.106334\teval-rmspe:0.11531\ttrain-rmspe:0.139096\n",
      "[195]\teval-rmse:0.13519\ttrain-rmse:0.106204\teval-rmspe:0.115289\ttrain-rmspe:0.138995\n",
      "[196]\teval-rmse:0.13518\ttrain-rmse:0.106161\teval-rmspe:0.11532\ttrain-rmspe:0.138973\n",
      "[197]\teval-rmse:0.135215\ttrain-rmse:0.106067\teval-rmspe:0.115315\ttrain-rmspe:0.138863\n",
      "[198]\teval-rmse:0.135236\ttrain-rmse:0.105979\teval-rmspe:0.115259\ttrain-rmspe:0.138828\n",
      "[199]\teval-rmse:0.135158\ttrain-rmse:0.105902\teval-rmspe:0.115175\ttrain-rmspe:0.138672\n",
      "[200]\teval-rmse:0.135142\ttrain-rmse:0.105749\teval-rmspe:0.115118\ttrain-rmspe:0.138476\n",
      "[201]\teval-rmse:0.135125\ttrain-rmse:0.105727\teval-rmspe:0.115094\ttrain-rmspe:0.138458\n",
      "[202]\teval-rmse:0.135147\ttrain-rmse:0.105644\teval-rmspe:0.115\ttrain-rmspe:0.136487\n",
      "[203]\teval-rmse:0.13521\ttrain-rmse:0.105466\teval-rmspe:0.115137\ttrain-rmspe:0.136432\n",
      "[204]\teval-rmse:0.135196\ttrain-rmse:0.105383\teval-rmspe:0.115131\ttrain-rmspe:0.136178\n",
      "[205]\teval-rmse:0.135206\ttrain-rmse:0.105233\teval-rmspe:0.115197\ttrain-rmspe:0.136086\n",
      "[206]\teval-rmse:0.135192\ttrain-rmse:0.105196\teval-rmspe:0.115177\ttrain-rmspe:0.135748\n",
      "[207]\teval-rmse:0.135191\ttrain-rmse:0.105006\teval-rmspe:0.11516\ttrain-rmspe:0.131116\n",
      "[208]\teval-rmse:0.135191\ttrain-rmse:0.104933\teval-rmspe:0.115156\ttrain-rmspe:0.13109\n",
      "[209]\teval-rmse:0.135164\ttrain-rmse:0.104871\teval-rmspe:0.115148\ttrain-rmspe:0.13102\n",
      "[210]\teval-rmse:0.135152\ttrain-rmse:0.104825\teval-rmspe:0.115126\ttrain-rmspe:0.130962\n",
      "[211]\teval-rmse:0.135133\ttrain-rmse:0.104777\teval-rmspe:0.115113\ttrain-rmspe:0.130939\n",
      "[212]\teval-rmse:0.135106\ttrain-rmse:0.104733\teval-rmspe:0.11505\ttrain-rmspe:0.129665\n",
      "[213]\teval-rmse:0.135103\ttrain-rmse:0.104699\teval-rmspe:0.115022\ttrain-rmspe:0.129623\n",
      "[214]\teval-rmse:0.13511\ttrain-rmse:0.104675\teval-rmspe:0.115026\ttrain-rmspe:0.129598\n",
      "[215]\teval-rmse:0.13508\ttrain-rmse:0.104624\teval-rmspe:0.114987\ttrain-rmspe:0.128668\n",
      "[216]\teval-rmse:0.135103\ttrain-rmse:0.104553\teval-rmspe:0.115048\ttrain-rmspe:0.128664\n",
      "[217]\teval-rmse:0.135119\ttrain-rmse:0.104532\teval-rmspe:0.115029\ttrain-rmspe:0.128602\n",
      "[218]\teval-rmse:0.13509\ttrain-rmse:0.104498\teval-rmspe:0.114994\ttrain-rmspe:0.128561\n",
      "[219]\teval-rmse:0.135014\ttrain-rmse:0.10441\teval-rmspe:0.114828\ttrain-rmspe:0.128388\n",
      "[220]\teval-rmse:0.135009\ttrain-rmse:0.104348\teval-rmspe:0.114852\ttrain-rmspe:0.128229\n",
      "[221]\teval-rmse:0.135052\ttrain-rmse:0.104321\teval-rmspe:0.11488\ttrain-rmspe:0.128219\n",
      "[222]\teval-rmse:0.135044\ttrain-rmse:0.104254\teval-rmspe:0.114887\ttrain-rmspe:0.128151\n",
      "[223]\teval-rmse:0.135058\ttrain-rmse:0.104164\teval-rmspe:0.114917\ttrain-rmspe:0.128438\n",
      "[224]\teval-rmse:0.135063\ttrain-rmse:0.10414\teval-rmspe:0.114914\ttrain-rmspe:0.128666\n",
      "[225]\teval-rmse:0.135048\ttrain-rmse:0.104038\teval-rmspe:0.114915\ttrain-rmspe:0.12814\n",
      "[226]\teval-rmse:0.135035\ttrain-rmse:0.104016\teval-rmspe:0.114894\ttrain-rmspe:0.128137\n",
      "[227]\teval-rmse:0.135039\ttrain-rmse:0.10399\teval-rmspe:0.114876\ttrain-rmspe:0.12812\n",
      "[228]\teval-rmse:0.135052\ttrain-rmse:0.103916\teval-rmspe:0.114869\ttrain-rmspe:0.128095\n",
      "[229]\teval-rmse:0.135032\ttrain-rmse:0.103792\teval-rmspe:0.114841\ttrain-rmspe:0.128071\n",
      "[230]\teval-rmse:0.135094\ttrain-rmse:0.103675\teval-rmspe:0.114847\ttrain-rmspe:0.127981\n",
      "[231]\teval-rmse:0.13506\ttrain-rmse:0.103631\teval-rmspe:0.114827\ttrain-rmspe:0.125056\n",
      "[232]\teval-rmse:0.135075\ttrain-rmse:0.103559\teval-rmspe:0.114808\ttrain-rmspe:0.124331\n",
      "[233]\teval-rmse:0.135042\ttrain-rmse:0.103433\teval-rmspe:0.114727\ttrain-rmspe:0.12426\n",
      "[234]\teval-rmse:0.135062\ttrain-rmse:0.103321\teval-rmspe:0.114811\ttrain-rmspe:0.123247\n",
      "[235]\teval-rmse:0.135041\ttrain-rmse:0.103282\teval-rmspe:0.114779\ttrain-rmspe:0.12322\n",
      "[236]\teval-rmse:0.135018\ttrain-rmse:0.103179\teval-rmspe:0.114711\ttrain-rmspe:0.123169\n",
      "[237]\teval-rmse:0.134974\ttrain-rmse:0.103099\teval-rmspe:0.114664\ttrain-rmspe:0.122899\n",
      "[238]\teval-rmse:0.134971\ttrain-rmse:0.103066\teval-rmspe:0.114671\ttrain-rmspe:0.122885\n",
      "[239]\teval-rmse:0.13496\ttrain-rmse:0.10305\teval-rmspe:0.11465\ttrain-rmspe:0.122851\n",
      "[240]\teval-rmse:0.134938\ttrain-rmse:0.103003\teval-rmspe:0.114641\ttrain-rmspe:0.122747\n",
      "[241]\teval-rmse:0.134914\ttrain-rmse:0.10296\teval-rmspe:0.114631\ttrain-rmspe:0.122733\n",
      "[242]\teval-rmse:0.134877\ttrain-rmse:0.102881\teval-rmspe:0.114542\ttrain-rmspe:0.12268\n",
      "[243]\teval-rmse:0.134848\ttrain-rmse:0.102866\teval-rmspe:0.114531\ttrain-rmspe:0.122671\n",
      "[244]\teval-rmse:0.134833\ttrain-rmse:0.102836\teval-rmspe:0.114503\ttrain-rmspe:0.122656\n",
      "[245]\teval-rmse:0.134805\ttrain-rmse:0.102747\teval-rmspe:0.11456\ttrain-rmspe:0.122632\n",
      "[246]\teval-rmse:0.134789\ttrain-rmse:0.102718\teval-rmspe:0.11455\ttrain-rmspe:0.122652\n",
      "[247]\teval-rmse:0.134809\ttrain-rmse:0.102624\teval-rmspe:0.114495\ttrain-rmspe:0.122618\n",
      "[248]\teval-rmse:0.134788\ttrain-rmse:0.102552\teval-rmspe:0.114494\ttrain-rmspe:0.122642\n",
      "[249]\teval-rmse:0.134776\ttrain-rmse:0.102503\teval-rmspe:0.114477\ttrain-rmspe:0.122603\n",
      "[250]\teval-rmse:0.13477\ttrain-rmse:0.102445\teval-rmspe:0.114455\ttrain-rmspe:0.122573\n",
      "[251]\teval-rmse:0.134682\ttrain-rmse:0.102376\teval-rmspe:0.114421\ttrain-rmspe:0.122537\n",
      "[252]\teval-rmse:0.134651\ttrain-rmse:0.102318\teval-rmspe:0.114383\ttrain-rmspe:0.122434\n",
      "[253]\teval-rmse:0.134622\ttrain-rmse:0.102271\teval-rmspe:0.114279\ttrain-rmspe:0.1224\n",
      "[254]\teval-rmse:0.134622\ttrain-rmse:0.102269\teval-rmspe:0.114283\ttrain-rmspe:0.122404\n",
      "[255]\teval-rmse:0.134598\ttrain-rmse:0.102201\teval-rmspe:0.11428\ttrain-rmspe:0.122353\n",
      "[256]\teval-rmse:0.134601\ttrain-rmse:0.10218\teval-rmspe:0.114292\ttrain-rmspe:0.122304\n",
      "[257]\teval-rmse:0.134568\ttrain-rmse:0.102157\teval-rmspe:0.114074\ttrain-rmspe:0.122288\n",
      "[258]\teval-rmse:0.134559\ttrain-rmse:0.102144\teval-rmspe:0.114056\ttrain-rmspe:0.122273\n",
      "[259]\teval-rmse:0.134611\ttrain-rmse:0.102107\teval-rmspe:0.114105\ttrain-rmspe:0.122262\n",
      "[260]\teval-rmse:0.134582\ttrain-rmse:0.102022\teval-rmspe:0.114103\ttrain-rmspe:0.122222\n",
      "[261]\teval-rmse:0.13457\ttrain-rmse:0.101962\teval-rmspe:0.114097\ttrain-rmspe:0.122169\n",
      "[262]\teval-rmse:0.134538\ttrain-rmse:0.101941\teval-rmspe:0.113909\ttrain-rmspe:0.122147\n",
      "[263]\teval-rmse:0.134516\ttrain-rmse:0.101814\teval-rmspe:0.113912\ttrain-rmspe:0.122136\n",
      "[264]\teval-rmse:0.134555\ttrain-rmse:0.101794\teval-rmspe:0.11393\ttrain-rmspe:0.122088\n",
      "[265]\teval-rmse:0.134539\ttrain-rmse:0.101674\teval-rmspe:0.113899\ttrain-rmspe:0.122033\n",
      "[266]\teval-rmse:0.134508\ttrain-rmse:0.101627\teval-rmspe:0.113843\ttrain-rmspe:0.122017\n",
      "[267]\teval-rmse:0.134505\ttrain-rmse:0.101621\teval-rmspe:0.113845\ttrain-rmspe:0.122008\n",
      "[268]\teval-rmse:0.13448\ttrain-rmse:0.101592\teval-rmspe:0.113824\ttrain-rmspe:0.121984\n",
      "[269]\teval-rmse:0.134481\ttrain-rmse:0.101568\teval-rmspe:0.113764\ttrain-rmspe:0.121962\n",
      "[270]\teval-rmse:0.13449\ttrain-rmse:0.101494\teval-rmspe:0.113761\ttrain-rmspe:0.121885\n",
      "[271]\teval-rmse:0.134502\ttrain-rmse:0.101467\teval-rmspe:0.113825\ttrain-rmspe:0.121878\n",
      "[272]\teval-rmse:0.1345\ttrain-rmse:0.101447\teval-rmspe:0.113827\ttrain-rmspe:0.121862\n",
      "[273]\teval-rmse:0.134451\ttrain-rmse:0.101369\teval-rmspe:0.113796\ttrain-rmspe:0.121792\n",
      "[274]\teval-rmse:0.134445\ttrain-rmse:0.101334\teval-rmspe:0.113786\ttrain-rmspe:0.121746\n",
      "[275]\teval-rmse:0.1346\ttrain-rmse:0.101283\teval-rmspe:0.113884\ttrain-rmspe:0.121713\n",
      "[276]\teval-rmse:0.134604\ttrain-rmse:0.101235\teval-rmspe:0.113921\ttrain-rmspe:0.121634\n",
      "[277]\teval-rmse:0.134584\ttrain-rmse:0.101214\teval-rmspe:0.113982\ttrain-rmspe:0.12161\n",
      "[278]\teval-rmse:0.134566\ttrain-rmse:0.101201\teval-rmspe:0.113971\ttrain-rmspe:0.1216\n",
      "[279]\teval-rmse:0.134544\ttrain-rmse:0.101189\teval-rmspe:0.113935\ttrain-rmspe:0.121586\n",
      "[280]\teval-rmse:0.134545\ttrain-rmse:0.101152\teval-rmspe:0.113904\ttrain-rmspe:0.121547\n",
      "[281]\teval-rmse:0.134536\ttrain-rmse:0.101128\teval-rmspe:0.113884\ttrain-rmspe:0.121498\n",
      "[282]\teval-rmse:0.134537\ttrain-rmse:0.101067\teval-rmspe:0.113907\ttrain-rmspe:0.12194\n",
      "[283]\teval-rmse:0.13454\ttrain-rmse:0.101061\teval-rmspe:0.113911\ttrain-rmspe:0.121936\n",
      "[284]\teval-rmse:0.134528\ttrain-rmse:0.100982\teval-rmspe:0.113892\ttrain-rmspe:0.121892\n",
      "[285]\teval-rmse:0.134536\ttrain-rmse:0.100959\teval-rmspe:0.11391\ttrain-rmspe:0.12189\n",
      "[286]\teval-rmse:0.134505\ttrain-rmse:0.100952\teval-rmspe:0.113876\ttrain-rmspe:0.121886\n",
      "[287]\teval-rmse:0.134519\ttrain-rmse:0.100936\teval-rmspe:0.113909\ttrain-rmspe:0.119891\n"
     ]
    },
    {
     "name": "stdout",
     "output_type": "stream",
     "text": [
      "[288]\teval-rmse:0.134483\ttrain-rmse:0.100809\teval-rmspe:0.113863\ttrain-rmspe:0.119834\n",
      "[289]\teval-rmse:0.134439\ttrain-rmse:0.100769\teval-rmspe:0.113919\ttrain-rmspe:0.119824\n",
      "[290]\teval-rmse:0.134457\ttrain-rmse:0.100701\teval-rmspe:0.113937\ttrain-rmspe:0.118022\n",
      "[291]\teval-rmse:0.134466\ttrain-rmse:0.100681\teval-rmspe:0.113932\ttrain-rmspe:0.118017\n",
      "[292]\teval-rmse:0.134534\ttrain-rmse:0.100664\teval-rmspe:0.113923\ttrain-rmspe:0.118024\n",
      "[293]\teval-rmse:0.134551\ttrain-rmse:0.100593\teval-rmspe:0.113928\ttrain-rmspe:0.117536\n",
      "[294]\teval-rmse:0.134557\ttrain-rmse:0.100542\teval-rmspe:0.113933\ttrain-rmspe:0.117418\n",
      "[295]\teval-rmse:0.134564\ttrain-rmse:0.100514\teval-rmspe:0.113984\ttrain-rmspe:0.117758\n",
      "[296]\teval-rmse:0.134566\ttrain-rmse:0.10048\teval-rmspe:0.113986\ttrain-rmspe:0.117724\n",
      "[297]\teval-rmse:0.134556\ttrain-rmse:0.100438\teval-rmspe:0.113956\ttrain-rmspe:0.11769\n",
      "[298]\teval-rmse:0.134565\ttrain-rmse:0.100426\teval-rmspe:0.113962\ttrain-rmspe:0.117684\n",
      "[299]\teval-rmse:0.134562\ttrain-rmse:0.100412\teval-rmspe:0.113961\ttrain-rmspe:0.11768\n"
     ]
    }
   ],
   "source": [
    "params2 = {\"objective\": \"reg:linear\",\n",
    "          \"eta\": 0.2,\n",
    "          \"max_depth\": 12,\n",
    "          \"min_child_weight\":4,\n",
    "          \"gamma\" :0.1,\n",
    "          \"subsample\": 0.7,\n",
    "          \"colsample_bytree\": 0.7,\n",
    "          \"silent\": 1\n",
    "          }\n",
    "\n",
    "start = time.time()\n",
    "gbm2 = xgb.train(params2, dtrain, 300, evals=watchlist, early_stopping_rounds=50,evals_result =ret, feval=rmspe_xg, verbose_eval=True)\n",
    "end = time.time()"
   ]
  },
  {
   "cell_type": "code",
   "execution_count": 74,
   "metadata": {},
   "outputs": [
    {
     "data": {
      "image/png": "[encoded data removed]",
      "text/plain": [
       "<Figure size 432x288 with 1 Axes>"
      ]
     },
     "metadata": {
      "needs_background": "light"
     },
     "output_type": "display_data"
    },
    {
     "data": {
      "text/plain": [
       "<matplotlib.axes._subplots.AxesSubplot at 0x1a1afe0860>"
      ]
     },
     "execution_count": 74,
     "metadata": {},
     "output_type": "execute_result"
    },
    {
     "data": {
      "image/png": "[encoded data removed]",
      "text/plain": [
       "<Figure size 432x288 with 1 Axes>"
      ]
     },
     "metadata": {
      "needs_background": "light"
     },
     "output_type": "display_data"
    }
   ],
   "source": [
    "#从最终的训练importnace中看果然是时间序列影响比较大\n",
    "evaldata = ret['eval']['rmspe'][0:num_trees:10]\n",
    "traindata = ret['train']['rmspe'][0:num_trees:10]\n",
    "plt.plot(range(0,num_trees,10),evaldata,color='red',label=\"eval\")\n",
    "plt.plot(range(0,num_trees,10),traindata,color='blue',label=\"train\")\n",
    "plt.legend(loc='best')\n",
    "y_tick = np.arange(0,1,0.1)\n",
    "plt.yticks(y_tick)\n",
    "plt.show()\n",
    "xgb.plot_importance(gbm2)"
   ]
  },
  {
   "cell_type": "code",
   "execution_count": 75,
   "metadata": {},
   "outputs": [
    {
     "name": "stdout",
     "output_type": "stream",
     "text": [
      "[  544   677   841 ... 40230 40231 40232]\n"
     ]
    }
   ],
   "source": [
    "#预测测试数据\n",
    "regetTest = pd.read_csv(\"./test.csv\")\n",
    "replaceID = regetTest[regetTest.Open == 0.0]['Id']\n",
    "print(replaceID.values)\n",
    "test_probs = gbm2.predict(dtest)\n",
    "result = pd.DataFrame({\"Id\": TESTID , 'Sales': np.exp(test_probs)})\n",
    "result.loc[result['Id'].isin(replaceID.values),'Sales'] = 0"
   ]
  },
  {
   "cell_type": "code",
   "execution_count": 76,
   "metadata": {},
   "outputs": [],
   "source": [
    "#预测测试数据输出\n",
    "result.to_csv(\"xgboost_submission.csv\", index=False)"
   ]
  },
  {
   "cell_type": "code",
   "execution_count": null,
   "metadata": {},
   "outputs": [],
   "source": []
  },
  {
   "cell_type": "code",
   "execution_count": null,
   "metadata": {},
   "outputs": [],
   "source": []
  },
  {
   "cell_type": "code",
   "execution_count": null,
   "metadata": {},
   "outputs": [],
   "source": []
  },
  {
   "cell_type": "code",
   "execution_count": null,
   "metadata": {},
   "outputs": [],
   "source": []
  },
  {
   "cell_type": "code",
   "execution_count": null,
   "metadata": {},
   "outputs": [],
   "source": []
  },
  {
   "cell_type": "code",
   "execution_count": null,
   "metadata": {},
   "outputs": [],
   "source": []
  },
  {
   "cell_type": "code",
   "execution_count": null,
   "metadata": {},
   "outputs": [],
   "source": []
  },
  {
   "cell_type": "code",
   "execution_count": null,
   "metadata": {},
   "outputs": [],
   "source": []
  },
  {
   "cell_type": "code",
   "execution_count": null,
   "metadata": {},
   "outputs": [],
   "source": []
  },
  {
   "cell_type": "code",
   "execution_count": null,
   "metadata": {},
   "outputs": [],
   "source": []
  },
  {
   "cell_type": "code",
   "execution_count": null,
   "metadata": {},
   "outputs": [],
   "source": []
  },
  {
   "cell_type": "code",
   "execution_count": null,
   "metadata": {},
   "outputs": [],
   "source": []
  },
  {
   "cell_type": "code",
   "execution_count": null,
   "metadata": {},
   "outputs": [],
   "source": []
  },
  {
   "cell_type": "code",
   "execution_count": null,
   "metadata": {},
   "outputs": [],
   "source": []
  },
  {
   "cell_type": "code",
   "execution_count": null,
   "metadata": {},
   "outputs": [],
   "source": []
  },
  {
   "cell_type": "code",
   "execution_count": null,
   "metadata": {},
   "outputs": [],
   "source": []
  },
  {
   "cell_type": "code",
   "execution_count": null,
   "metadata": {},
   "outputs": [],
   "source": []
  }
 ],
 "metadata": {
  "kernelspec": {
   "display_name": "Python 3",
   "language": "python",
   "name": "python3"
  },
  "language_info": {
   "codemirror_mode": {
    "name": "ipython",
    "version": 3
   },
   "file_extension": ".py",
   "mimetype": "text/x-python",
   "name": "python",
   "nbconvert_exporter": "python",
   "pygments_lexer": "ipython3",
   "version": "3.7.1"
  }
 },
 "nbformat": 4,
 "nbformat_minor": 2
}
