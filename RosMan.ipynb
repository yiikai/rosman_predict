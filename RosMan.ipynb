{
 "cells": [
  {
   "cell_type": "code",
   "execution_count": 1,
   "metadata": {},
   "outputs": [],
   "source": [
    "import numpy as np\n",
    "import pandas as pd\n",
    "import matplotlib.pyplot as plt\n",
    "from sklearn.preprocessing import OneHotEncoder,LabelEncoder,MinMaxScaler"
   ]
  },
  {
   "cell_type": "code",
   "execution_count": 2,
   "metadata": {},
   "outputs": [],
   "source": [
    "Dataset_dir = [\"./train.csv\", \"./store.csv\",\"./test.csv\"]\n",
    "pd.options.display.max_columns = None"
   ]
  },
  {
   "cell_type": "code",
   "execution_count": 3,
   "metadata": {},
   "outputs": [],
   "source": [
    "def load_data(dir):\n",
    "    data = pd.read_csv(dir[0],parse_dates=[2])\n",
    "    store = pd.read_csv(dir[1])\n",
    "    test = pd.read_csv(dir[2],parse_dates=[3])\n",
    "    return data,store,test"
   ]
  },
  {
   "cell_type": "code",
   "execution_count": 4,
   "metadata": {},
   "outputs": [
    {
     "name": "stderr",
     "output_type": "stream",
     "text": [
      "D:\\AnaconDA\\lib\\site-packages\\IPython\\core\\interactiveshell.py:3185: DtypeWarning: Columns (7) have mixed types. Specify dtype option on import or set low_memory=False.\n",
      "  if (yield from self.run_code(code, result)):\n"
     ]
    },
    {
     "name": "stdout",
     "output_type": "stream",
     "text": [
      "Index(['Store', 'DayOfWeek', 'Date', 'Sales', 'Customers', 'Open', 'Promo',\n",
      "       'StateHoliday', 'SchoolHoliday', 'StoreType', 'Assortment',\n",
      "       'CompetitionDistance', 'CompetitionOpenSinceMonth',\n",
      "       'CompetitionOpenSinceYear', 'Promo2', 'Promo2SinceWeek',\n",
      "       'Promo2SinceYear', 'PromoInterval'],\n",
      "      dtype='object')\n",
      "Index(['Id', 'Store', 'DayOfWeek', 'Date', 'Open', 'Promo', 'StateHoliday',\n",
      "       'SchoolHoliday', 'StoreType', 'Assortment', 'CompetitionDistance',\n",
      "       'CompetitionOpenSinceMonth', 'CompetitionOpenSinceYear', 'Promo2',\n",
      "       'Promo2SinceWeek', 'Promo2SinceYear', 'PromoInterval'],\n",
      "      dtype='object')\n"
     ]
    }
   ],
   "source": [
    "train,store,test = load_data(Dataset_dir)\n",
    "train = train[train['Open'] != 0]\n",
    "test = test[test['Open'] != 0]\n",
    "train = pd.merge(train, store, on='Store')\n",
    "test = pd.merge(test, store, on='Store')\n",
    "print(train.columns)\n",
    "print(test.columns)"
   ]
  },
  {
   "cell_type": "code",
   "execution_count": 5,
   "metadata": {},
   "outputs": [],
   "source": [
    "def build_feature(data,istrain):\n",
    "    mappings = {'0':0, 'a':1, 'b':2, 'c':3, 'd':4}\n",
    "    data.StoreType.replace(mappings, inplace=True)\n",
    "    data.Assortment.replace(mappings, inplace=True)\n",
    "    data.StateHoliday.replace(mappings, inplace=True)\n",
    "    \n",
    "    min_max_scaler = MinMaxScaler()\n",
    "    scaledata = min_max_scaler.fit_transform(data[['CompetitionDistance']])\n",
    "    data.drop(\"CompetitionDistance\",axis=1)\n",
    "    data['CompetitionDistance'] = scaledata\n",
    "\n",
    "#     scaledata = min_max_scaler.fit_transform(data[['Customers']])\n",
    "#     data.drop(\"Customers\",axis=1)\n",
    "#     data['Customers'] = scaledata\n",
    "    \n",
    "    if istrain:\n",
    "        data.drop(['Store','Date','Customers','CompetitionOpenSinceMonth','CompetitionOpenSinceYear','Promo2SinceWeek','Promo2SinceYear'],axis=1,inplace=True)\n",
    "    else:\n",
    "        data.drop(['Id','Store','Date','CompetitionOpenSinceMonth','CompetitionOpenSinceYear','Promo2SinceWeek','Promo2SinceYear'],axis=1,inplace=True)\n",
    "    print(data.columns)"
   ]
  },
  {
   "cell_type": "code",
   "execution_count": 6,
   "metadata": {},
   "outputs": [
    {
     "name": "stdout",
     "output_type": "stream",
     "text": [
      "Index(['DayOfWeek', 'Sales', 'Open', 'Promo', 'StateHoliday', 'SchoolHoliday',\n",
      "       'StoreType', 'Assortment', 'CompetitionDistance', 'Promo2',\n",
      "       'PromoInterval'],\n",
      "      dtype='object')\n",
      "Index(['DayOfWeek', 'Open', 'Promo', 'StateHoliday', 'SchoolHoliday',\n",
      "       'StoreType', 'Assortment', 'CompetitionDistance', 'Promo2',\n",
      "       'PromoInterval'],\n",
      "      dtype='object')\n"
     ]
    }
   ],
   "source": [
    "#build train data\n",
    "build_feature(train,True)\n",
    "#build test data\n",
    "build_feature(test,False)"
   ]
  },
  {
   "cell_type": "code",
   "execution_count": 7,
   "metadata": {},
   "outputs": [],
   "source": [
    "from sklearn.ensemble import GradientBoostingRegressor"
   ]
  },
  {
   "cell_type": "code",
   "execution_count": 8,
   "metadata": {},
   "outputs": [
    {
     "name": "stderr",
     "output_type": "stream",
     "text": [
      "D:\\AnaconDA\\lib\\site-packages\\pandas\\core\\frame.py:3697: SettingWithCopyWarning: \n",
      "A value is trying to be set on a copy of a slice from a DataFrame\n",
      "\n",
      "See the caveats in the documentation: http://pandas.pydata.org/pandas-docs/stable/indexing.html#indexing-view-versus-copy\n",
      "  errors=errors)\n"
     ]
    }
   ],
   "source": [
    "#split train vaild data\n",
    "from sklearn.model_selection import train_test_split\n",
    "X_train, X_valid = train_test_split(train, test_size=0.012, random_state=10)\n",
    "Y_train = X_train[\"Sales\"]\n",
    "Y_valid = X_valid[\"Sales\"]\n",
    "X_train.drop(\"Sales\",axis=1,inplace=True)\n",
    "X_valid.drop(\"Sales\",axis=1,inplace=True)"
   ]
  },
  {
   "cell_type": "code",
   "execution_count": 9,
   "metadata": {},
   "outputs": [
    {
     "data": {
      "image/png": "[encoded data removed]",
      "text/plain": [
       "<Figure size 432x288 with 1 Axes>"
      ]
     },
     "metadata": {
      "needs_background": "light"
     },
     "output_type": "display_data"
    }
   ],
   "source": [
    "plt.boxplot([Y_train,Y_valid])\n",
    "plt.show()"
   ]
  },
  {
   "cell_type": "code",
   "execution_count": 10,
   "metadata": {},
   "outputs": [
    {
     "data": {
      "image/png": "[encoded data removed]",
      "text/plain": [
       "<Figure size 432x288 with 1 Axes>"
      ]
     },
     "metadata": {
      "needs_background": "light"
     },
     "output_type": "display_data"
    }
   ],
   "source": [
    "Y_train = np.log1p(Y_train)\n",
    "Y_valid = np.log1p(Y_valid)\n",
    "plt.boxplot([Y_train,Y_valid])\n",
    "plt.show()"
   ]
  },
  {
   "cell_type": "code",
   "execution_count": null,
   "metadata": {},
   "outputs": [],
   "source": []
  }
 ],
 "metadata": {
  "kernelspec": {
   "display_name": "Python 3",
   "language": "python",
   "name": "python3"
  },
  "language_info": {
   "codemirror_mode": {
    "name": "ipython",
    "version": 3
   },
   "file_extension": ".py",
   "mimetype": "text/x-python",
   "name": "python",
   "nbconvert_exporter": "python",
   "pygments_lexer": "ipython3",
   "version": "3.7.1"
  }
 },
 "nbformat": 4,
 "nbformat_minor": 2
}
