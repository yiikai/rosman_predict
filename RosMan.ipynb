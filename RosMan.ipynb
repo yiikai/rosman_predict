{
 "cells": [
  {
   "cell_type": "code",
   "execution_count": 49,
   "metadata": {},
   "outputs": [],
   "source": [
    "import numpy as np\n",
    "import pandas as pd\n",
    "import matplotlib.pyplot as plt\n",
    "from sklearn.preprocessing import OneHotEncoder,LabelEncoder,MinMaxScaler\n",
    "import xgboost as xgb\n",
    "import os\n",
    "os.environ['KMP_DUPLICATE_LIB_OK']='True'"
   ]
  },
  {
   "cell_type": "code",
   "execution_count": 50,
   "metadata": {},
   "outputs": [],
   "source": [
    "Dataset_dir = [\"./train.csv\", \"./store.csv\",\"./test.csv\"]\n",
    "pd.options.display.max_columns = None"
   ]
  },
  {
   "cell_type": "code",
   "execution_count": 51,
   "metadata": {},
   "outputs": [],
   "source": [
    "def load_data(dir):\n",
    "    data = pd.read_csv(dir[0],parse_dates=[2])\n",
    "    store = pd.read_csv(dir[1])\n",
    "    test = pd.read_csv(dir[2],parse_dates=[3])\n",
    "    return data,store,test"
   ]
  },
  {
   "cell_type": "code",
   "execution_count": 52,
   "metadata": {},
   "outputs": [
    {
     "name": "stdout",
     "output_type": "stream",
     "text": [
      "Index(['Store', 'DayOfWeek', 'Date', 'Sales', 'Customers', 'Open', 'Promo',\n",
      "       'StateHoliday', 'SchoolHoliday', 'StoreType', 'Assortment',\n",
      "       'CompetitionDistance', 'CompetitionOpenSinceMonth',\n",
      "       'CompetitionOpenSinceYear', 'Promo2', 'Promo2SinceWeek',\n",
      "       'Promo2SinceYear', 'PromoInterval'],\n",
      "      dtype='object')\n",
      "Index(['Id', 'Store', 'DayOfWeek', 'Date', 'Open', 'Promo', 'StateHoliday',\n",
      "       'SchoolHoliday', 'StoreType', 'Assortment', 'CompetitionDistance',\n",
      "       'CompetitionOpenSinceMonth', 'CompetitionOpenSinceYear', 'Promo2',\n",
      "       'Promo2SinceWeek', 'Promo2SinceYear', 'PromoInterval'],\n",
      "      dtype='object')\n"
     ]
    }
   ],
   "source": [
    "train,store,test = load_data(Dataset_dir)\n",
    "train = train[train['Open'] != 0]\n",
    "train = pd.merge(train, store, on='Store')\n",
    "test = pd.merge(test, store, on='Store')\n",
    "print(train.columns)\n",
    "print(test.columns)"
   ]
  },
  {
   "cell_type": "code",
   "execution_count": 53,
   "metadata": {},
   "outputs": [],
   "source": [
    "#对时间序列进行分析\n",
    "#总的销售趋势2013-2015年\n",
    "# train['date'] = pd.to_datetime(train.Date)\n",
    "# data = train.loc[:,['Sales']]\n",
    "# data = data.set_index(train.date)\n",
    "# data.plot()\n",
    "\n",
    "# weekly = data.resample('W').sum()\n",
    "# weekly.plot()\n",
    "\n",
    "# dayily = data.resample('D').sum()\n",
    "# dayily.plot()"
   ]
  },
  {
   "cell_type": "code",
   "execution_count": 54,
   "metadata": {},
   "outputs": [],
   "source": [
    "TESTID = test['Id']"
   ]
  },
  {
   "cell_type": "code",
   "execution_count": 55,
   "metadata": {},
   "outputs": [
    {
     "data": {
      "image/png": "[encoded data removed]",
      "text/plain": [
       "<Figure size 432x288 with 1 Axes>"
      ]
     },
     "metadata": {
      "needs_background": "light"
     },
     "output_type": "display_data"
    },
    {
     "data": {
      "image/png": "[encoded data removed]",
      "text/plain": [
       "<Figure size 432x288 with 1 Axes>"
      ]
     },
     "metadata": {
      "needs_background": "light"
     },
     "output_type": "display_data"
    }
   ],
   "source": [
    "train.Customers.plot(kind='box')\n",
    "plt.show()\n",
    "train.CompetitionDistance.plot(kind='box')\n",
    "plt.show()"
   ]
  },
  {
   "cell_type": "code",
   "execution_count": 56,
   "metadata": {},
   "outputs": [
    {
     "data": {
      "image/png": "[encoded data removed]",
      "text/plain": [
       "<Figure size 432x288 with 1 Axes>"
      ]
     },
     "metadata": {
      "needs_background": "light"
     },
     "output_type": "display_data"
    },
    {
     "data": {
      "image/png": "[encoded data removed]",
      "text/plain": [
       "<Figure size 432x288 with 1 Axes>"
      ]
     },
     "metadata": {
      "needs_background": "light"
     },
     "output_type": "display_data"
    }
   ],
   "source": [
    "sales_mean = train.groupby('Store')['Sales'].mean()\n",
    "plt.hist(sales_mean)\n",
    "plt.show()\n",
    "plt.hist(np.log1p(sales_mean))\n",
    "plt.show()"
   ]
  },
  {
   "cell_type": "code",
   "execution_count": 57,
   "metadata": {},
   "outputs": [],
   "source": [
    "Store_DaysWeek = train.groupby(['Store','DayOfWeek'])\n",
    "sw_mean = Store_DaysWeek[\"Sales\"].mean()"
   ]
  },
  {
   "cell_type": "code",
   "execution_count": 58,
   "metadata": {},
   "outputs": [],
   "source": [
    "def build_feature(data,istrain):\n",
    "    mappings = {'0':0, 'a':1, 'b':2, 'c':3, 'd':4}\n",
    "    data.StoreType.replace(mappings, inplace=True)\n",
    "    data.Assortment.replace(mappings, inplace=True)\n",
    "    data.StateHoliday.replace(mappings, inplace=True)\n",
    "    \n",
    "    #CART回归树不需要预处理数据和NAn值\n",
    "#     distance_max = max(data.CompetitionDistance)\n",
    "#     data.CompetitionDistance.mask(data.CompetitionDistance.isna(),other=distance_max,inplace=True)\n",
    "#     print(data.CompetitionDistance.isnull().any())\n",
    "#     min_max_scaler = MinMaxScaler()\n",
    "#     scaledata = min_max_scaler.fit_transform(data[['CompetitionDistance']])\n",
    "#     data.drop(\"CompetitionDistance\",axis=1)\n",
    "#     data['CompetitionDistance'] = scaledata\n",
    "    #时间序列问题 需要考虑进时间的因素\n",
    "    data['Year'] = data.Date.dt.year\n",
    "    print(data['Year'].dtype)\n",
    "    data['Month'] = data.Date.dt.month\n",
    "    data['Day'] = data.Date.dt.day\n",
    "    \n",
    "    if istrain:\n",
    "        data.drop(['Store','Open','Date','Customers','PromoInterval',],axis=1,inplace=True)\n",
    "        #data.drop(['Store','Open','Date','Customers','PromoInterval','SchoolHoliday','Promo2','StateHoliday','Promo2SinceWeek'],axis=1,inplace=True)\n",
    "    else:\n",
    "        data.drop(['Id','Store','Open','Date','PromoInterval',],axis=1,inplace=True)\n",
    "        #data.drop(['Id','Store','Open','Date','PromoInterval','SchoolHoliday','Promo2','StateHoliday','Promo2SinceWeek'],axis=1,inplace=True)\n",
    "    print(data.columns)"
   ]
  },
  {
   "cell_type": "code",
   "execution_count": 59,
   "metadata": {},
   "outputs": [
    {
     "name": "stdout",
     "output_type": "stream",
     "text": [
      "int64\n",
      "Index(['DayOfWeek', 'Sales', 'Promo', 'StateHoliday', 'SchoolHoliday',\n",
      "       'StoreType', 'Assortment', 'CompetitionDistance',\n",
      "       'CompetitionOpenSinceMonth', 'CompetitionOpenSinceYear', 'Promo2',\n",
      "       'Promo2SinceWeek', 'Promo2SinceYear', 'Year', 'Month', 'Day'],\n",
      "      dtype='object')\n",
      "int64\n",
      "Index(['DayOfWeek', 'Promo', 'StateHoliday', 'SchoolHoliday', 'StoreType',\n",
      "       'Assortment', 'CompetitionDistance', 'CompetitionOpenSinceMonth',\n",
      "       'CompetitionOpenSinceYear', 'Promo2', 'Promo2SinceWeek',\n",
      "       'Promo2SinceYear', 'Year', 'Month', 'Day'],\n",
      "      dtype='object')\n"
     ]
    }
   ],
   "source": [
    "#build train data\n",
    "build_feature(train,True)\n",
    "#build test data\n",
    "build_feature(test,False)"
   ]
  },
  {
   "cell_type": "code",
   "execution_count": 60,
   "metadata": {},
   "outputs": [
    {
     "data": {
      "image/png": "[encoded data removed]",
      "text/plain": [
       "<Figure size 432x288 with 1 Axes>"
      ]
     },
     "metadata": {
      "needs_background": "light"
     },
     "output_type": "display_data"
    },
    {
     "data": {
      "image/png": "[encoded data removed]",
      "text/plain": [
       "<Figure size 432x288 with 1 Axes>"
      ]
     },
     "metadata": {
      "needs_background": "light"
     },
     "output_type": "display_data"
    },
    {
     "data": {
      "image/png": "[encoded data removed]",
      "text/plain": [
       "<Figure size 432x288 with 1 Axes>"
      ]
     },
     "metadata": {
      "needs_background": "light"
     },
     "output_type": "display_data"
    },
    {
     "data": {
      "image/png": "[encoded data removed]",
      "text/plain": [
       "<Figure size 432x288 with 1 Axes>"
      ]
     },
     "metadata": {
      "needs_background": "light"
     },
     "output_type": "display_data"
    }
   ],
   "source": [
    "ST_gp = train.groupby('StoreType')['Sales'].agg('mean')\n",
    "import seaborn as sns\n",
    "sns.barplot(ST_gp.index,ST_gp.values)\n",
    "plt.show()\n",
    "\n",
    "As_gp = train.groupby('Assortment')['Sales'].agg('mean')\n",
    "sns.barplot(As_gp.index,As_gp.values)\n",
    "plt.show()\n",
    "Dayweek_gp = train.groupby(['StoreType','DayOfWeek'])['Sales'].agg('mean')\n",
    "ax = sns.barplot(Dayweek_gp.index,Dayweek_gp.values)\n",
    "ax.set_xticklabels(ax.get_xticklabels(), rotation=90, ha=\"right\")\n",
    "plt.tight_layout()\n",
    "plt.show()\n",
    "\n",
    "#每年销售额的趋势\n",
    "YearS_gp = train.groupby(['Year'])['Sales'].agg(\"mean\")\n",
    "ax2 = sns.lineplot(YearS_gp.index,YearS_gp.values)\n",
    "plt.tight_layout()\n",
    "plt.show()"
   ]
  },
  {
   "cell_type": "code",
   "execution_count": 61,
   "metadata": {},
   "outputs": [
    {
     "name": "stdout",
     "output_type": "stream",
     "text": [
      "(834259, 16)\n",
      "(10133, 16)\n"
     ]
    },
    {
     "name": "stderr",
     "output_type": "stream",
     "text": [
      "/anaconda3/lib/python3.7/site-packages/pandas/core/frame.py:3697: SettingWithCopyWarning: \n",
      "A value is trying to be set on a copy of a slice from a DataFrame\n",
      "\n",
      "See the caveats in the documentation: http://pandas.pydata.org/pandas-docs/stable/indexing.html#indexing-view-versus-copy\n",
      "  errors=errors)\n"
     ]
    }
   ],
   "source": [
    "#split train vaild data\n",
    "from sklearn.model_selection import train_test_split\n",
    "X_train, X_valid = train_test_split(train, test_size=0.012, random_state=10)\n",
    "print(X_train.shape)\n",
    "print(X_valid.shape)\n",
    "Y_train = X_train[\"Sales\"]\n",
    "Y_valid = X_valid[\"Sales\"]\n",
    "X_train.drop(\"Sales\",axis=1,inplace=True)\n",
    "X_valid.drop(\"Sales\",axis=1,inplace=True)"
   ]
  },
  {
   "cell_type": "code",
   "execution_count": 62,
   "metadata": {},
   "outputs": [
    {
     "data": {
      "image/png": "[encoded data removed]",
      "text/plain": [
       "<Figure size 432x288 with 1 Axes>"
      ]
     },
     "metadata": {
      "needs_background": "light"
     },
     "output_type": "display_data"
    }
   ],
   "source": [
    "plt.boxplot([Y_train,Y_valid])\n",
    "plt.show()"
   ]
  },
  {
   "cell_type": "code",
   "execution_count": 63,
   "metadata": {},
   "outputs": [
    {
     "data": {
      "image/png": "[encoded data removed]",
      "text/plain": [
       "<Figure size 432x288 with 1 Axes>"
      ]
     },
     "metadata": {
      "needs_background": "light"
     },
     "output_type": "display_data"
    }
   ],
   "source": [
    "Y_train = np.log1p(Y_train)\n",
    "Y_valid = np.log1p(Y_valid)\n",
    "plt.boxplot([Y_train,Y_valid])\n",
    "plt.show()"
   ]
  },
  {
   "cell_type": "code",
   "execution_count": 64,
   "metadata": {},
   "outputs": [],
   "source": [
    "def ToWeight(y):\n",
    "    w = np.zeros(y.shape, dtype=float)\n",
    "    ind = y != 0\n",
    "    w[ind] = 1./(y[ind]**2)\n",
    "    return w\n",
    "\n",
    "def rmspe(yhat, y):\n",
    "    w = ToWeight(y)\n",
    "    rmspe = np.sqrt(np.mean( w * (y - yhat)**2 ))\n",
    "    return rmspe\n",
    "\n",
    "def rmspe_xg(yhat, y):\n",
    "    # y = y.values\n",
    "    y = y.get_label()\n",
    "    y = np.exp(y) - 1\n",
    "    yhat = np.exp(yhat) - 1\n",
    "    w = ToWeight(y)\n",
    "    rmspe = np.sqrt(np.mean(w * (y - yhat)**2))\n",
    "    return \"rmspe\", rmspe"
   ]
  },
  {
   "cell_type": "code",
   "execution_count": 66,
   "metadata": {},
   "outputs": [
    {
     "name": "stdout",
     "output_type": "stream",
     "text": [
      "[0]\teval-rmse:7.43899\ttrain-rmse:7.44358\teval-rmspe:0.999474\ttrain-rmspe:0.999494\n",
      "Multiple eval metrics have been passed: 'train-rmspe' will be used for early stopping.\n",
      "\n",
      "Will train until train-rmspe hasn't improved in 50 rounds.\n",
      "[1]\teval-rmse:6.69698\ttrain-rmse:6.70133\teval-rmspe:0.998764\ttrain-rmspe:0.998787\n",
      "[2]\teval-rmse:6.02906\ttrain-rmse:6.03313\teval-rmspe:0.997486\ttrain-rmspe:0.997514\n",
      "[3]\teval-rmse:5.42804\ttrain-rmse:5.43176\teval-rmspe:0.995341\ttrain-rmspe:0.995374\n",
      "[4]\teval-rmse:4.88742\ttrain-rmse:4.89086\teval-rmspe:0.991941\ttrain-rmspe:0.991983\n",
      "[5]\teval-rmse:4.40084\ttrain-rmse:4.40383\teval-rmspe:0.986886\ttrain-rmspe:0.986934\n",
      "[6]\teval-rmse:3.96318\ttrain-rmse:3.96587\teval-rmspe:0.97969\ttrain-rmspe:0.979745\n",
      "[7]\teval-rmse:3.56962\ttrain-rmse:3.572\teval-rmspe:0.969894\ttrain-rmspe:0.969961\n",
      "[8]\teval-rmse:3.21531\ttrain-rmse:3.21778\teval-rmspe:0.957116\ttrain-rmspe:0.957216\n",
      "[9]\teval-rmse:2.89711\ttrain-rmse:2.89925\teval-rmspe:0.941072\ttrain-rmspe:0.941196\n",
      "[10]\teval-rmse:2.61006\ttrain-rmse:2.61198\teval-rmspe:0.921794\ttrain-rmspe:0.921953\n",
      "[11]\teval-rmse:2.35264\ttrain-rmse:2.35433\teval-rmspe:0.898925\ttrain-rmspe:0.899137\n",
      "[12]\teval-rmse:2.12127\ttrain-rmse:2.12269\teval-rmspe:0.872806\ttrain-rmspe:0.873083\n",
      "[13]\teval-rmse:1.91359\ttrain-rmse:1.91483\teval-rmspe:0.843533\ttrain-rmspe:0.843906\n",
      "[14]\teval-rmse:1.72675\ttrain-rmse:1.72784\teval-rmspe:0.811595\ttrain-rmspe:0.812118\n",
      "[15]\teval-rmse:1.55841\ttrain-rmse:1.55919\teval-rmspe:0.777681\ttrain-rmspe:0.778375\n",
      "[16]\teval-rmse:1.40693\ttrain-rmse:1.40755\teval-rmspe:0.742044\ttrain-rmspe:0.742974\n",
      "[17]\teval-rmse:1.27163\ttrain-rmse:1.27223\teval-rmspe:0.704971\ttrain-rmspe:0.706287\n",
      "[18]\teval-rmse:1.14985\ttrain-rmse:1.15019\teval-rmspe:0.66749\ttrain-rmspe:0.66923\n",
      "[19]\teval-rmse:1.03973\ttrain-rmse:1.03995\teval-rmspe:0.629876\ttrain-rmspe:0.632148\n",
      "[20]\teval-rmse:0.94227\ttrain-rmse:0.942489\teval-rmspe:0.592401\ttrain-rmspe:0.595433\n",
      "[21]\teval-rmse:0.855332\ttrain-rmse:0.855304\teval-rmspe:0.555812\ttrain-rmspe:0.559575\n",
      "[22]\teval-rmse:0.776263\ttrain-rmse:0.775858\teval-rmspe:0.520451\ttrain-rmspe:0.525077\n",
      "[23]\teval-rmse:0.70644\ttrain-rmse:0.705883\teval-rmspe:0.486464\ttrain-rmspe:0.49219\n",
      "[24]\teval-rmse:0.643568\ttrain-rmse:0.643\teval-rmspe:0.45405\ttrain-rmspe:0.461207\n",
      "[25]\teval-rmse:0.588147\ttrain-rmse:0.587349\teval-rmspe:0.423714\ttrain-rmspe:0.432313\n",
      "[26]\teval-rmse:0.539357\ttrain-rmse:0.538259\teval-rmspe:0.395634\ttrain-rmspe:0.405709\n",
      "[27]\teval-rmse:0.496137\ttrain-rmse:0.494802\teval-rmspe:0.369793\ttrain-rmspe:0.381562\n",
      "[28]\teval-rmse:0.45715\ttrain-rmse:0.455516\teval-rmspe:0.345888\ttrain-rmspe:0.359415\n",
      "[29]\teval-rmse:0.423642\ttrain-rmse:0.421704\teval-rmspe:0.32463\ttrain-rmspe:0.3384\n",
      "[30]\teval-rmse:0.393629\ttrain-rmse:0.391452\teval-rmspe:0.305388\ttrain-rmspe:0.320982\n",
      "[31]\teval-rmse:0.366663\ttrain-rmse:0.364204\teval-rmspe:0.287824\ttrain-rmspe:0.305508\n",
      "[32]\teval-rmse:0.34361\ttrain-rmse:0.340845\teval-rmspe:0.272527\ttrain-rmspe:0.291988\n",
      "[33]\teval-rmse:0.324247\ttrain-rmse:0.321148\teval-rmspe:0.259799\ttrain-rmspe:0.281179\n",
      "[34]\teval-rmse:0.307397\ttrain-rmse:0.303884\teval-rmspe:0.248876\ttrain-rmspe:0.271073\n",
      "[35]\teval-rmse:0.291695\ttrain-rmse:0.287852\teval-rmspe:0.238697\ttrain-rmspe:0.262474\n",
      "[36]\teval-rmse:0.279223\ttrain-rmse:0.274962\teval-rmspe:0.230898\ttrain-rmspe:0.256104\n",
      "[37]\teval-rmse:0.268902\ttrain-rmse:0.26422\teval-rmspe:0.224697\ttrain-rmspe:0.251252\n",
      "[38]\teval-rmse:0.25817\ttrain-rmse:0.253027\teval-rmspe:0.217616\ttrain-rmspe:0.245547\n",
      "[39]\teval-rmse:0.24895\ttrain-rmse:0.243522\teval-rmspe:0.211562\ttrain-rmspe:0.24089\n",
      "[40]\teval-rmse:0.241737\ttrain-rmse:0.235973\teval-rmspe:0.207373\ttrain-rmspe:0.237828\n",
      "[41]\teval-rmse:0.235254\ttrain-rmse:0.229181\teval-rmspe:0.203669\ttrain-rmspe:0.235128\n",
      "[42]\teval-rmse:0.230777\ttrain-rmse:0.22441\teval-rmspe:0.20161\ttrain-rmspe:0.234079\n",
      "[43]\teval-rmse:0.226363\ttrain-rmse:0.21981\teval-rmspe:0.199407\ttrain-rmspe:0.232428\n",
      "[44]\teval-rmse:0.222812\ttrain-rmse:0.21599\teval-rmspe:0.197964\ttrain-rmspe:0.230867\n",
      "[45]\teval-rmse:0.219259\ttrain-rmse:0.212055\teval-rmspe:0.196443\ttrain-rmspe:0.229428\n",
      "[46]\teval-rmse:0.212285\ttrain-rmse:0.204733\teval-rmspe:0.190635\ttrain-rmspe:0.224657\n",
      "[47]\teval-rmse:0.208281\ttrain-rmse:0.20039\teval-rmspe:0.187824\ttrain-rmspe:0.222397\n",
      "[48]\teval-rmse:0.204974\ttrain-rmse:0.196728\teval-rmspe:0.185529\ttrain-rmspe:0.220474\n",
      "[49]\teval-rmse:0.202968\ttrain-rmse:0.194528\teval-rmspe:0.184449\ttrain-rmspe:0.219885\n",
      "[50]\teval-rmse:0.200859\ttrain-rmse:0.192056\teval-rmspe:0.183218\ttrain-rmspe:0.218891\n",
      "[51]\teval-rmse:0.199648\ttrain-rmse:0.190612\teval-rmspe:0.182864\ttrain-rmspe:0.218474\n",
      "[52]\teval-rmse:0.19699\ttrain-rmse:0.187772\teval-rmspe:0.180909\ttrain-rmspe:0.217022\n",
      "[53]\teval-rmse:0.196072\ttrain-rmse:0.186722\teval-rmspe:0.18065\ttrain-rmspe:0.216644\n",
      "[54]\teval-rmse:0.194504\ttrain-rmse:0.185097\teval-rmspe:0.17961\ttrain-rmspe:0.216019\n",
      "[55]\teval-rmse:0.192919\ttrain-rmse:0.183446\teval-rmspe:0.178513\ttrain-rmspe:0.215182\n",
      "[56]\teval-rmse:0.19179\ttrain-rmse:0.182163\teval-rmspe:0.177709\ttrain-rmspe:0.213878\n",
      "[57]\teval-rmse:0.190727\ttrain-rmse:0.180943\teval-rmspe:0.177001\ttrain-rmspe:0.213334\n",
      "[58]\teval-rmse:0.190156\ttrain-rmse:0.180219\teval-rmspe:0.176789\ttrain-rmspe:0.213244\n",
      "[59]\teval-rmse:0.189673\ttrain-rmse:0.179543\teval-rmspe:0.176653\ttrain-rmspe:0.213028\n",
      "[60]\teval-rmse:0.188494\ttrain-rmse:0.178223\teval-rmspe:0.175649\ttrain-rmspe:0.21231\n",
      "[61]\teval-rmse:0.186078\ttrain-rmse:0.175533\teval-rmspe:0.173348\ttrain-rmspe:0.210164\n",
      "[62]\teval-rmse:0.183767\ttrain-rmse:0.17311\teval-rmspe:0.171009\ttrain-rmspe:0.208202\n",
      "[63]\teval-rmse:0.182849\ttrain-rmse:0.172241\teval-rmspe:0.170383\ttrain-rmspe:0.20755\n",
      "[64]\teval-rmse:0.182301\ttrain-rmse:0.171573\teval-rmspe:0.170052\ttrain-rmspe:0.207009\n",
      "[65]\teval-rmse:0.181043\ttrain-rmse:0.170192\teval-rmspe:0.168901\ttrain-rmspe:0.206055\n",
      "[66]\teval-rmse:0.180473\ttrain-rmse:0.16943\teval-rmspe:0.16848\ttrain-rmspe:0.205816\n",
      "[67]\teval-rmse:0.179818\ttrain-rmse:0.168722\teval-rmspe:0.167878\ttrain-rmspe:0.205382\n",
      "[68]\teval-rmse:0.17807\ttrain-rmse:0.166763\teval-rmspe:0.165883\ttrain-rmspe:0.203566\n",
      "[69]\teval-rmse:0.177444\ttrain-rmse:0.166041\teval-rmspe:0.165307\ttrain-rmspe:0.202921\n",
      "[70]\teval-rmse:0.177089\ttrain-rmse:0.165642\teval-rmspe:0.164954\ttrain-rmspe:0.202549\n",
      "[71]\teval-rmse:0.175152\ttrain-rmse:0.163505\teval-rmspe:0.162813\ttrain-rmspe:0.20072\n",
      "[72]\teval-rmse:0.172989\ttrain-rmse:0.16117\teval-rmspe:0.16026\ttrain-rmspe:0.198453\n",
      "[73]\teval-rmse:0.171677\ttrain-rmse:0.159754\teval-rmspe:0.158622\ttrain-rmspe:0.197244\n",
      "[74]\teval-rmse:0.171468\ttrain-rmse:0.159428\teval-rmspe:0.15842\ttrain-rmspe:0.196785\n",
      "[75]\teval-rmse:0.17116\ttrain-rmse:0.159004\teval-rmspe:0.15811\ttrain-rmspe:0.196542\n",
      "[76]\teval-rmse:0.169688\ttrain-rmse:0.157522\teval-rmspe:0.156331\ttrain-rmspe:0.195271\n",
      "[77]\teval-rmse:0.169083\ttrain-rmse:0.156863\teval-rmspe:0.15565\ttrain-rmspe:0.194681\n",
      "[78]\teval-rmse:0.168695\ttrain-rmse:0.156245\teval-rmspe:0.155186\ttrain-rmspe:0.194324\n",
      "[79]\teval-rmse:0.167934\ttrain-rmse:0.155445\teval-rmspe:0.154325\ttrain-rmspe:0.193633\n",
      "[80]\teval-rmse:0.167653\ttrain-rmse:0.155044\teval-rmspe:0.154038\ttrain-rmspe:0.19337\n",
      "[81]\teval-rmse:0.167415\ttrain-rmse:0.154612\teval-rmspe:0.153816\ttrain-rmspe:0.192848\n",
      "[82]\teval-rmse:0.166058\ttrain-rmse:0.152974\teval-rmspe:0.152243\ttrain-rmspe:0.191428\n",
      "[83]\teval-rmse:0.165842\ttrain-rmse:0.152739\teval-rmspe:0.152001\ttrain-rmspe:0.191386\n",
      "[84]\teval-rmse:0.164706\ttrain-rmse:0.151476\teval-rmspe:0.150748\ttrain-rmspe:0.190349\n",
      "[85]\teval-rmse:0.164167\ttrain-rmse:0.150879\teval-rmspe:0.150178\ttrain-rmspe:0.189876\n",
      "[86]\teval-rmse:0.163992\ttrain-rmse:0.15062\teval-rmspe:0.149943\ttrain-rmspe:0.189535\n",
      "[87]\teval-rmse:0.162822\ttrain-rmse:0.149218\teval-rmspe:0.148614\ttrain-rmspe:0.188259\n",
      "[88]\teval-rmse:0.162181\ttrain-rmse:0.14846\teval-rmspe:0.147835\ttrain-rmspe:0.187586\n",
      "[89]\teval-rmse:0.161871\ttrain-rmse:0.148046\teval-rmspe:0.147451\ttrain-rmspe:0.18371\n",
      "[90]\teval-rmse:0.161435\ttrain-rmse:0.147449\teval-rmspe:0.146975\ttrain-rmspe:0.183147\n",
      "[91]\teval-rmse:0.160549\ttrain-rmse:0.14637\teval-rmspe:0.145893\ttrain-rmspe:0.182077\n",
      "[92]\teval-rmse:0.159882\ttrain-rmse:0.145618\teval-rmspe:0.144995\ttrain-rmspe:0.181553\n",
      "[93]\teval-rmse:0.159357\ttrain-rmse:0.144972\teval-rmspe:0.144357\ttrain-rmspe:0.180931\n",
      "[94]\teval-rmse:0.158641\ttrain-rmse:0.144054\teval-rmspe:0.143477\ttrain-rmspe:0.180055\n",
      "[95]\teval-rmse:0.15797\ttrain-rmse:0.143131\teval-rmspe:0.14269\ttrain-rmspe:0.17939\n"
     ]
    },
    {
     "name": "stdout",
     "output_type": "stream",
     "text": [
      "[96]\teval-rmse:0.157418\ttrain-rmse:0.142517\teval-rmspe:0.14182\ttrain-rmspe:0.176557\n",
      "[97]\teval-rmse:0.157105\ttrain-rmse:0.142131\teval-rmspe:0.141521\ttrain-rmspe:0.176364\n",
      "[98]\teval-rmse:0.156974\ttrain-rmse:0.141862\teval-rmspe:0.14134\ttrain-rmspe:0.176399\n",
      "[99]\teval-rmse:0.156741\ttrain-rmse:0.141576\teval-rmspe:0.141167\ttrain-rmspe:0.176178\n",
      "[100]\teval-rmse:0.156364\ttrain-rmse:0.141102\teval-rmspe:0.140667\ttrain-rmspe:0.17595\n",
      "[101]\teval-rmse:0.155617\ttrain-rmse:0.140196\teval-rmspe:0.139744\ttrain-rmspe:0.175179\n",
      "[102]\teval-rmse:0.15499\ttrain-rmse:0.139453\teval-rmspe:0.138968\ttrain-rmspe:0.174633\n",
      "[103]\teval-rmse:0.154694\ttrain-rmse:0.139046\teval-rmspe:0.13861\ttrain-rmspe:0.174217\n",
      "[104]\teval-rmse:0.153965\ttrain-rmse:0.138072\teval-rmspe:0.13773\ttrain-rmspe:0.173498\n",
      "[105]\teval-rmse:0.153306\ttrain-rmse:0.137331\teval-rmspe:0.136945\ttrain-rmspe:0.172598\n",
      "[106]\teval-rmse:0.152644\ttrain-rmse:0.13654\teval-rmspe:0.13616\ttrain-rmspe:0.171913\n",
      "[107]\teval-rmse:0.15256\ttrain-rmse:0.136387\teval-rmspe:0.136072\ttrain-rmspe:0.171812\n",
      "[108]\teval-rmse:0.152088\ttrain-rmse:0.135744\teval-rmspe:0.135522\ttrain-rmspe:0.171112\n",
      "[109]\teval-rmse:0.151864\ttrain-rmse:0.135412\teval-rmspe:0.135116\ttrain-rmspe:0.170812\n",
      "[110]\teval-rmse:0.151439\ttrain-rmse:0.134832\teval-rmspe:0.134572\ttrain-rmspe:0.17031\n",
      "[111]\teval-rmse:0.151147\ttrain-rmse:0.13431\teval-rmspe:0.134189\ttrain-rmspe:0.16995\n",
      "[112]\teval-rmse:0.150975\ttrain-rmse:0.134118\teval-rmspe:0.134078\ttrain-rmspe:0.16985\n",
      "[113]\teval-rmse:0.150397\ttrain-rmse:0.133442\teval-rmspe:0.133383\ttrain-rmspe:0.169223\n",
      "[114]\teval-rmse:0.149868\ttrain-rmse:0.132794\teval-rmspe:0.132828\ttrain-rmspe:0.168689\n",
      "[115]\teval-rmse:0.149782\ttrain-rmse:0.132684\teval-rmspe:0.132723\ttrain-rmspe:0.168796\n",
      "[116]\teval-rmse:0.149465\ttrain-rmse:0.132287\teval-rmspe:0.132402\ttrain-rmspe:0.168473\n",
      "[117]\teval-rmse:0.149348\ttrain-rmse:0.131996\teval-rmspe:0.132284\ttrain-rmspe:0.168268\n",
      "[118]\teval-rmse:0.14915\ttrain-rmse:0.13161\teval-rmspe:0.132032\ttrain-rmspe:0.167978\n",
      "[119]\teval-rmse:0.148943\ttrain-rmse:0.131328\teval-rmspe:0.131765\ttrain-rmspe:0.167681\n",
      "[120]\teval-rmse:0.148543\ttrain-rmse:0.130781\teval-rmspe:0.131192\ttrain-rmspe:0.167152\n",
      "[121]\teval-rmse:0.148268\ttrain-rmse:0.130412\teval-rmspe:0.130838\ttrain-rmspe:0.165599\n",
      "[122]\teval-rmse:0.147989\ttrain-rmse:0.130061\teval-rmspe:0.130524\ttrain-rmspe:0.165372\n",
      "[123]\teval-rmse:0.147694\ttrain-rmse:0.12974\teval-rmspe:0.130174\ttrain-rmspe:0.165101\n",
      "[124]\teval-rmse:0.147072\ttrain-rmse:0.129002\teval-rmspe:0.129422\ttrain-rmspe:0.16428\n",
      "[125]\teval-rmse:0.146816\ttrain-rmse:0.12871\teval-rmspe:0.129101\ttrain-rmspe:0.164002\n",
      "[126]\teval-rmse:0.146705\ttrain-rmse:0.128399\teval-rmspe:0.129044\ttrain-rmspe:0.160091\n",
      "[127]\teval-rmse:0.146337\ttrain-rmse:0.127975\teval-rmspe:0.128595\ttrain-rmspe:0.159725\n",
      "[128]\teval-rmse:0.14623\ttrain-rmse:0.127823\teval-rmspe:0.128454\ttrain-rmspe:0.159514\n",
      "[129]\teval-rmse:0.146072\ttrain-rmse:0.127575\teval-rmspe:0.128241\ttrain-rmspe:0.159304\n",
      "[130]\teval-rmse:0.146017\ttrain-rmse:0.127259\teval-rmspe:0.128127\ttrain-rmspe:0.159168\n",
      "[131]\teval-rmse:0.145876\ttrain-rmse:0.126871\teval-rmspe:0.127851\ttrain-rmspe:0.158685\n",
      "[132]\teval-rmse:0.145611\ttrain-rmse:0.126539\teval-rmspe:0.127524\ttrain-rmspe:0.15832\n",
      "[133]\teval-rmse:0.145193\ttrain-rmse:0.125953\teval-rmspe:0.126973\ttrain-rmspe:0.157864\n",
      "[134]\teval-rmse:0.145137\ttrain-rmse:0.125713\teval-rmspe:0.126916\ttrain-rmspe:0.157725\n",
      "[135]\teval-rmse:0.144947\ttrain-rmse:0.12544\teval-rmspe:0.12668\ttrain-rmspe:0.15736\n",
      "[136]\teval-rmse:0.144655\ttrain-rmse:0.125032\teval-rmspe:0.126318\ttrain-rmspe:0.157013\n",
      "[137]\teval-rmse:0.144578\ttrain-rmse:0.124889\teval-rmspe:0.126228\ttrain-rmspe:0.15686\n",
      "[138]\teval-rmse:0.144362\ttrain-rmse:0.124416\teval-rmspe:0.12593\ttrain-rmspe:0.15653\n",
      "[139]\teval-rmse:0.144187\ttrain-rmse:0.124146\teval-rmspe:0.125793\ttrain-rmspe:0.156324\n",
      "[140]\teval-rmse:0.143885\ttrain-rmse:0.123695\teval-rmspe:0.125404\ttrain-rmspe:0.155715\n",
      "[141]\teval-rmse:0.143569\ttrain-rmse:0.123191\teval-rmspe:0.125012\ttrain-rmspe:0.155273\n",
      "[142]\teval-rmse:0.143482\ttrain-rmse:0.122891\teval-rmspe:0.124977\ttrain-rmspe:0.155162\n",
      "[143]\teval-rmse:0.143143\ttrain-rmse:0.122444\teval-rmspe:0.124607\ttrain-rmspe:0.154788\n",
      "[144]\teval-rmse:0.14288\ttrain-rmse:0.122068\teval-rmspe:0.124304\ttrain-rmspe:0.154673\n",
      "[145]\teval-rmse:0.142741\ttrain-rmse:0.121899\teval-rmspe:0.124129\ttrain-rmspe:0.154389\n",
      "[146]\teval-rmse:0.142566\ttrain-rmse:0.121573\teval-rmspe:0.123905\ttrain-rmspe:0.153786\n",
      "[147]\teval-rmse:0.142249\ttrain-rmse:0.121162\teval-rmspe:0.123507\ttrain-rmspe:0.153429\n",
      "[148]\teval-rmse:0.142184\ttrain-rmse:0.121009\teval-rmspe:0.123463\ttrain-rmspe:0.153285\n",
      "[149]\teval-rmse:0.141995\ttrain-rmse:0.12076\teval-rmspe:0.123243\ttrain-rmspe:0.152645\n",
      "[150]\teval-rmse:0.141683\ttrain-rmse:0.120359\teval-rmspe:0.122826\ttrain-rmspe:0.15223\n",
      "[151]\teval-rmse:0.141508\ttrain-rmse:0.120031\teval-rmspe:0.122585\ttrain-rmspe:0.151945\n",
      "[152]\teval-rmse:0.141321\ttrain-rmse:0.119837\teval-rmspe:0.122408\ttrain-rmspe:0.151816\n",
      "[153]\teval-rmse:0.141111\ttrain-rmse:0.119507\teval-rmspe:0.122184\ttrain-rmspe:0.15156\n",
      "[154]\teval-rmse:0.141024\ttrain-rmse:0.119338\teval-rmspe:0.122062\ttrain-rmspe:0.151412\n",
      "[155]\teval-rmse:0.140985\ttrain-rmse:0.119231\teval-rmspe:0.122029\ttrain-rmspe:0.151269\n",
      "[156]\teval-rmse:0.140879\ttrain-rmse:0.119062\teval-rmspe:0.121909\ttrain-rmspe:0.151147\n",
      "[157]\teval-rmse:0.140814\ttrain-rmse:0.118923\teval-rmspe:0.121837\ttrain-rmspe:0.15098\n",
      "[158]\teval-rmse:0.140653\ttrain-rmse:0.11869\teval-rmspe:0.121652\ttrain-rmspe:0.150757\n",
      "[159]\teval-rmse:0.140575\ttrain-rmse:0.118447\teval-rmspe:0.12156\ttrain-rmspe:0.150621\n",
      "[160]\teval-rmse:0.140463\ttrain-rmse:0.118242\teval-rmspe:0.121445\ttrain-rmspe:0.150415\n",
      "[161]\teval-rmse:0.140286\ttrain-rmse:0.118011\teval-rmspe:0.12129\ttrain-rmspe:0.150204\n",
      "[162]\teval-rmse:0.1401\ttrain-rmse:0.117781\teval-rmspe:0.121114\ttrain-rmspe:0.150141\n",
      "[163]\teval-rmse:0.139833\ttrain-rmse:0.117468\teval-rmspe:0.120765\ttrain-rmspe:0.149889\n",
      "[164]\teval-rmse:0.139734\ttrain-rmse:0.117305\teval-rmspe:0.12067\ttrain-rmspe:0.149908\n",
      "[165]\teval-rmse:0.13967\ttrain-rmse:0.116959\teval-rmspe:0.120585\ttrain-rmspe:0.148302\n",
      "[166]\teval-rmse:0.139627\ttrain-rmse:0.116839\teval-rmspe:0.120569\ttrain-rmspe:0.148207\n",
      "[167]\teval-rmse:0.139562\ttrain-rmse:0.116748\teval-rmspe:0.120538\ttrain-rmspe:0.148112\n",
      "[168]\teval-rmse:0.139435\ttrain-rmse:0.116583\teval-rmspe:0.12039\ttrain-rmspe:0.147903\n",
      "[169]\teval-rmse:0.139335\ttrain-rmse:0.116385\teval-rmspe:0.120287\ttrain-rmspe:0.147784\n",
      "[170]\teval-rmse:0.139216\ttrain-rmse:0.116233\teval-rmspe:0.120148\ttrain-rmspe:0.147656\n",
      "[171]\teval-rmse:0.139148\ttrain-rmse:0.116094\teval-rmspe:0.120042\ttrain-rmspe:0.147513\n",
      "[172]\teval-rmse:0.139092\ttrain-rmse:0.11597\teval-rmspe:0.120011\ttrain-rmspe:0.147433\n",
      "[173]\teval-rmse:0.138888\ttrain-rmse:0.115649\teval-rmspe:0.119764\ttrain-rmspe:0.147212\n",
      "[174]\teval-rmse:0.138837\ttrain-rmse:0.115465\teval-rmspe:0.119683\ttrain-rmspe:0.147058\n",
      "[175]\teval-rmse:0.138814\ttrain-rmse:0.11538\teval-rmspe:0.11968\ttrain-rmspe:0.147025\n",
      "[176]\teval-rmse:0.138754\ttrain-rmse:0.115204\teval-rmspe:0.11959\ttrain-rmspe:0.146911\n",
      "[177]\teval-rmse:0.138506\ttrain-rmse:0.114836\teval-rmspe:0.119276\ttrain-rmspe:0.146617\n",
      "[178]\teval-rmse:0.138177\ttrain-rmse:0.114379\teval-rmspe:0.118874\ttrain-rmspe:0.146249\n",
      "[179]\teval-rmse:0.138099\ttrain-rmse:0.114241\teval-rmspe:0.118788\ttrain-rmspe:0.146104\n",
      "[180]\teval-rmse:0.137837\ttrain-rmse:0.113827\teval-rmspe:0.118474\ttrain-rmspe:0.145757\n",
      "[181]\teval-rmse:0.137803\ttrain-rmse:0.113739\teval-rmspe:0.118442\ttrain-rmspe:0.145689\n",
      "[182]\teval-rmse:0.137652\ttrain-rmse:0.113378\teval-rmspe:0.118272\ttrain-rmspe:0.145482\n",
      "[183]\teval-rmse:0.137603\ttrain-rmse:0.113103\teval-rmspe:0.118211\ttrain-rmspe:0.145302\n",
      "[184]\teval-rmse:0.137553\ttrain-rmse:0.112879\teval-rmspe:0.118166\ttrain-rmspe:0.145163\n",
      "[185]\teval-rmse:0.137456\ttrain-rmse:0.112739\teval-rmspe:0.118039\ttrain-rmspe:0.143924\n",
      "[186]\teval-rmse:0.13741\ttrain-rmse:0.11269\teval-rmspe:0.117985\ttrain-rmspe:0.143876\n",
      "[187]\teval-rmse:0.137363\ttrain-rmse:0.112463\teval-rmspe:0.117926\ttrain-rmspe:0.143674\n",
      "[188]\teval-rmse:0.137304\ttrain-rmse:0.112337\teval-rmspe:0.117851\ttrain-rmspe:0.143456\n",
      "[189]\teval-rmse:0.137092\ttrain-rmse:0.112048\teval-rmspe:0.117578\ttrain-rmspe:0.143221\n",
      "[190]\teval-rmse:0.137016\ttrain-rmse:0.111854\teval-rmspe:0.11746\ttrain-rmspe:0.143073\n",
      "[191]\teval-rmse:0.136977\ttrain-rmse:0.111595\teval-rmspe:0.117409\ttrain-rmspe:0.142875\n"
     ]
    },
    {
     "name": "stdout",
     "output_type": "stream",
     "text": [
      "[192]\teval-rmse:0.136918\ttrain-rmse:0.111369\teval-rmspe:0.117341\ttrain-rmspe:0.14281\n",
      "[193]\teval-rmse:0.136869\ttrain-rmse:0.111242\teval-rmspe:0.117283\ttrain-rmspe:0.142681\n",
      "[194]\teval-rmse:0.136828\ttrain-rmse:0.111104\teval-rmspe:0.117225\ttrain-rmspe:0.14248\n",
      "[195]\teval-rmse:0.136736\ttrain-rmse:0.110921\teval-rmspe:0.117112\ttrain-rmspe:0.142192\n",
      "[196]\teval-rmse:0.13665\ttrain-rmse:0.110807\teval-rmspe:0.117024\ttrain-rmspe:0.142063\n",
      "[197]\teval-rmse:0.136562\ttrain-rmse:0.110612\teval-rmspe:0.116903\ttrain-rmspe:0.141494\n",
      "[198]\teval-rmse:0.136465\ttrain-rmse:0.11045\teval-rmspe:0.11681\ttrain-rmspe:0.141352\n",
      "[199]\teval-rmse:0.136411\ttrain-rmse:0.110294\teval-rmspe:0.116729\ttrain-rmspe:0.141215\n",
      "[200]\teval-rmse:0.136247\ttrain-rmse:0.110015\teval-rmspe:0.116506\ttrain-rmspe:0.140842\n",
      "[201]\teval-rmse:0.136207\ttrain-rmse:0.109956\teval-rmspe:0.11645\ttrain-rmspe:0.140781\n",
      "[202]\teval-rmse:0.136195\ttrain-rmse:0.109827\teval-rmspe:0.116559\ttrain-rmspe:0.14059\n",
      "[203]\teval-rmse:0.136036\ttrain-rmse:0.109504\teval-rmspe:0.116398\ttrain-rmspe:0.14041\n",
      "[204]\teval-rmse:0.135926\ttrain-rmse:0.109157\teval-rmspe:0.116303\ttrain-rmspe:0.139522\n",
      "[205]\teval-rmse:0.135818\ttrain-rmse:0.10899\teval-rmspe:0.116158\ttrain-rmspe:0.139327\n",
      "[206]\teval-rmse:0.135781\ttrain-rmse:0.108884\teval-rmspe:0.116107\ttrain-rmspe:0.139198\n",
      "[207]\teval-rmse:0.135699\ttrain-rmse:0.10854\teval-rmspe:0.116007\ttrain-rmspe:0.138942\n",
      "[208]\teval-rmse:0.135665\ttrain-rmse:0.108375\teval-rmspe:0.115992\ttrain-rmspe:0.138882\n",
      "[209]\teval-rmse:0.135625\ttrain-rmse:0.108221\teval-rmspe:0.115963\ttrain-rmspe:0.138728\n",
      "[210]\teval-rmse:0.135513\ttrain-rmse:0.107951\teval-rmspe:0.115859\ttrain-rmspe:0.138559\n",
      "[211]\teval-rmse:0.135267\ttrain-rmse:0.107596\teval-rmspe:0.115536\ttrain-rmspe:0.138228\n",
      "[212]\teval-rmse:0.13503\ttrain-rmse:0.107251\teval-rmspe:0.115259\ttrain-rmspe:0.137926\n",
      "[213]\teval-rmse:0.134917\ttrain-rmse:0.107075\teval-rmspe:0.1151\ttrain-rmspe:0.13777\n",
      "[214]\teval-rmse:0.134893\ttrain-rmse:0.106972\teval-rmspe:0.115068\ttrain-rmspe:0.137722\n",
      "[215]\teval-rmse:0.134805\ttrain-rmse:0.106766\teval-rmspe:0.114958\ttrain-rmspe:0.137533\n",
      "[216]\teval-rmse:0.134636\ttrain-rmse:0.106523\teval-rmspe:0.114729\ttrain-rmspe:0.137352\n",
      "[217]\teval-rmse:0.134623\ttrain-rmse:0.106479\teval-rmspe:0.114721\ttrain-rmspe:0.13733\n",
      "[218]\teval-rmse:0.134587\ttrain-rmse:0.106423\teval-rmspe:0.114681\ttrain-rmspe:0.13729\n",
      "[219]\teval-rmse:0.13458\ttrain-rmse:0.106252\teval-rmspe:0.114921\ttrain-rmspe:0.134065\n",
      "[220]\teval-rmse:0.134398\ttrain-rmse:0.105989\teval-rmspe:0.114703\ttrain-rmspe:0.133664\n",
      "[221]\teval-rmse:0.134317\ttrain-rmse:0.105825\teval-rmspe:0.114622\ttrain-rmspe:0.133559\n",
      "[222]\teval-rmse:0.134246\ttrain-rmse:0.105699\teval-rmspe:0.114577\ttrain-rmspe:0.13338\n",
      "[223]\teval-rmse:0.134194\ttrain-rmse:0.105519\teval-rmspe:0.114529\ttrain-rmspe:0.133175\n",
      "[224]\teval-rmse:0.134054\ttrain-rmse:0.105253\teval-rmspe:0.114317\ttrain-rmspe:0.132957\n",
      "[225]\teval-rmse:0.134015\ttrain-rmse:0.105136\teval-rmspe:0.114288\ttrain-rmspe:0.132864\n",
      "[226]\teval-rmse:0.133965\ttrain-rmse:0.104939\teval-rmspe:0.114215\ttrain-rmspe:0.13265\n",
      "[227]\teval-rmse:0.133911\ttrain-rmse:0.104845\teval-rmspe:0.114175\ttrain-rmspe:0.132556\n",
      "[228]\teval-rmse:0.133809\ttrain-rmse:0.10468\teval-rmspe:0.114084\ttrain-rmspe:0.132358\n",
      "[229]\teval-rmse:0.133771\ttrain-rmse:0.104545\teval-rmspe:0.11404\ttrain-rmspe:0.132282\n",
      "[230]\teval-rmse:0.133688\ttrain-rmse:0.104305\teval-rmspe:0.113946\ttrain-rmspe:0.132142\n",
      "[231]\teval-rmse:0.133628\ttrain-rmse:0.104194\teval-rmspe:0.113738\ttrain-rmspe:0.132003\n",
      "[232]\teval-rmse:0.133534\ttrain-rmse:0.103991\teval-rmspe:0.113599\ttrain-rmspe:0.131837\n",
      "[233]\teval-rmse:0.133374\ttrain-rmse:0.103735\teval-rmspe:0.113397\ttrain-rmspe:0.131612\n",
      "[234]\teval-rmse:0.133318\ttrain-rmse:0.103651\teval-rmspe:0.113329\ttrain-rmspe:0.131536\n",
      "[235]\teval-rmse:0.133285\ttrain-rmse:0.103559\teval-rmspe:0.113313\ttrain-rmspe:0.131461\n",
      "[236]\teval-rmse:0.133211\ttrain-rmse:0.103441\teval-rmspe:0.113203\ttrain-rmspe:0.131357\n",
      "[237]\teval-rmse:0.133174\ttrain-rmse:0.103322\teval-rmspe:0.113155\ttrain-rmspe:0.131112\n",
      "[238]\teval-rmse:0.133128\ttrain-rmse:0.103235\teval-rmspe:0.113104\ttrain-rmspe:0.131054\n",
      "[239]\teval-rmse:0.133113\ttrain-rmse:0.10317\teval-rmspe:0.113038\ttrain-rmspe:0.130997\n",
      "[240]\teval-rmse:0.133186\ttrain-rmse:0.102898\teval-rmspe:0.112953\ttrain-rmspe:0.130799\n",
      "[241]\teval-rmse:0.133159\ttrain-rmse:0.10276\teval-rmspe:0.112943\ttrain-rmspe:0.130725\n",
      "[242]\teval-rmse:0.133131\ttrain-rmse:0.102645\teval-rmspe:0.112924\ttrain-rmspe:0.12709\n",
      "[243]\teval-rmse:0.133082\ttrain-rmse:0.102492\teval-rmspe:0.112866\ttrain-rmspe:0.12694\n",
      "[244]\teval-rmse:0.133051\ttrain-rmse:0.102394\teval-rmspe:0.112865\ttrain-rmspe:0.126812\n",
      "[245]\teval-rmse:0.132965\ttrain-rmse:0.102203\teval-rmspe:0.112741\ttrain-rmspe:0.126672\n",
      "[246]\teval-rmse:0.132863\ttrain-rmse:0.102081\teval-rmspe:0.112268\ttrain-rmspe:0.126756\n",
      "[247]\teval-rmse:0.132764\ttrain-rmse:0.101905\teval-rmspe:0.112151\ttrain-rmspe:0.126594\n",
      "[248]\teval-rmse:0.132733\ttrain-rmse:0.101757\teval-rmspe:0.112096\ttrain-rmspe:0.126485\n",
      "[249]\teval-rmse:0.132702\ttrain-rmse:0.101661\teval-rmspe:0.112068\ttrain-rmspe:0.126392\n",
      "[250]\teval-rmse:0.132576\ttrain-rmse:0.101499\teval-rmspe:0.111751\ttrain-rmspe:0.126269\n",
      "[251]\teval-rmse:0.132532\ttrain-rmse:0.101345\teval-rmspe:0.111688\ttrain-rmspe:0.126064\n",
      "[252]\teval-rmse:0.132431\ttrain-rmse:0.101198\teval-rmspe:0.11154\ttrain-rmspe:0.125899\n",
      "[253]\teval-rmse:0.132402\ttrain-rmse:0.100991\teval-rmspe:0.111516\ttrain-rmspe:0.125791\n",
      "[254]\teval-rmse:0.132376\ttrain-rmse:0.100959\teval-rmspe:0.111488\ttrain-rmspe:0.125767\n",
      "[255]\teval-rmse:0.132358\ttrain-rmse:0.100792\teval-rmspe:0.111465\ttrain-rmspe:0.125647\n",
      "[256]\teval-rmse:0.132333\ttrain-rmse:0.100632\teval-rmspe:0.111416\ttrain-rmspe:0.125499\n",
      "[257]\teval-rmse:0.132299\ttrain-rmse:0.100515\teval-rmspe:0.1114\ttrain-rmspe:0.125426\n",
      "[258]\teval-rmse:0.132249\ttrain-rmse:0.100442\teval-rmspe:0.111385\ttrain-rmspe:0.125377\n",
      "[259]\teval-rmse:0.132238\ttrain-rmse:0.1003\teval-rmspe:0.111376\ttrain-rmspe:0.125308\n",
      "[260]\teval-rmse:0.132229\ttrain-rmse:0.100167\teval-rmspe:0.111334\ttrain-rmspe:0.125223\n",
      "[261]\teval-rmse:0.132168\ttrain-rmse:0.099945\teval-rmspe:0.111278\ttrain-rmspe:0.125082\n",
      "[262]\teval-rmse:0.132148\ttrain-rmse:0.099818\teval-rmspe:0.111253\ttrain-rmspe:0.124992\n",
      "[263]\teval-rmse:0.132136\ttrain-rmse:0.099626\teval-rmspe:0.111237\ttrain-rmspe:0.124882\n",
      "[264]\teval-rmse:0.132105\ttrain-rmse:0.099523\teval-rmspe:0.111203\ttrain-rmspe:0.124753\n",
      "[265]\teval-rmse:0.132001\ttrain-rmse:0.099224\teval-rmspe:0.111074\ttrain-rmspe:0.124584\n",
      "[266]\teval-rmse:0.131988\ttrain-rmse:0.099143\teval-rmspe:0.111112\ttrain-rmspe:0.124561\n",
      "[267]\teval-rmse:0.131974\ttrain-rmse:0.099111\teval-rmspe:0.1111\ttrain-rmspe:0.124534\n",
      "[268]\teval-rmse:0.131952\ttrain-rmse:0.098983\teval-rmspe:0.111075\ttrain-rmspe:0.12412\n",
      "[269]\teval-rmse:0.131931\ttrain-rmse:0.098894\teval-rmspe:0.111032\ttrain-rmspe:0.123774\n",
      "[270]\teval-rmse:0.1319\ttrain-rmse:0.098718\teval-rmspe:0.110919\ttrain-rmspe:0.123631\n",
      "[271]\teval-rmse:0.131834\ttrain-rmse:0.098485\teval-rmspe:0.110592\ttrain-rmspe:0.123508\n",
      "[272]\teval-rmse:0.131828\ttrain-rmse:0.098366\teval-rmspe:0.110584\ttrain-rmspe:0.123503\n",
      "[273]\teval-rmse:0.131835\ttrain-rmse:0.098268\teval-rmspe:0.110568\ttrain-rmspe:0.123408\n",
      "[274]\teval-rmse:0.131825\ttrain-rmse:0.098169\teval-rmspe:0.110531\ttrain-rmspe:0.123326\n",
      "[275]\teval-rmse:0.131858\ttrain-rmse:0.098059\teval-rmspe:0.11057\ttrain-rmspe:0.123238\n",
      "[276]\teval-rmse:0.131833\ttrain-rmse:0.097946\teval-rmspe:0.110534\ttrain-rmspe:0.123093\n",
      "[277]\teval-rmse:0.131812\ttrain-rmse:0.097872\teval-rmspe:0.110543\ttrain-rmspe:0.123031\n",
      "[278]\teval-rmse:0.131763\ttrain-rmse:0.097806\teval-rmspe:0.110491\ttrain-rmspe:0.122968\n",
      "[279]\teval-rmse:0.131707\ttrain-rmse:0.097724\teval-rmspe:0.110428\ttrain-rmspe:0.122905\n",
      "[280]\teval-rmse:0.131699\ttrain-rmse:0.097618\teval-rmspe:0.110393\ttrain-rmspe:0.122837\n",
      "[281]\teval-rmse:0.1316\ttrain-rmse:0.097414\teval-rmspe:0.11031\ttrain-rmspe:0.122695\n",
      "[282]\teval-rmse:0.131582\ttrain-rmse:0.097338\teval-rmspe:0.110283\ttrain-rmspe:0.121846\n",
      "[283]\teval-rmse:0.131593\ttrain-rmse:0.097319\teval-rmspe:0.11029\ttrain-rmspe:0.121829\n",
      "[284]\teval-rmse:0.131642\ttrain-rmse:0.097135\teval-rmspe:0.110327\ttrain-rmspe:0.121724\n",
      "[285]\teval-rmse:0.131584\ttrain-rmse:0.097038\teval-rmspe:0.110317\ttrain-rmspe:0.121256\n",
      "[286]\teval-rmse:0.131565\ttrain-rmse:0.096998\teval-rmspe:0.110291\ttrain-rmspe:0.121223\n",
      "[287]\teval-rmse:0.131571\ttrain-rmse:0.096975\teval-rmspe:0.1103\ttrain-rmspe:0.12118\n"
     ]
    },
    {
     "name": "stdout",
     "output_type": "stream",
     "text": [
      "[288]\teval-rmse:0.131508\ttrain-rmse:0.096789\teval-rmspe:0.110224\ttrain-rmspe:0.121042\n",
      "[289]\teval-rmse:0.131442\ttrain-rmse:0.096675\teval-rmspe:0.110156\ttrain-rmspe:0.120894\n",
      "[290]\teval-rmse:0.131392\ttrain-rmse:0.096564\teval-rmspe:0.110083\ttrain-rmspe:0.120829\n",
      "[291]\teval-rmse:0.131322\ttrain-rmse:0.096467\teval-rmspe:0.109986\ttrain-rmspe:0.12071\n",
      "[292]\teval-rmse:0.131314\ttrain-rmse:0.096425\teval-rmspe:0.109981\ttrain-rmspe:0.120038\n",
      "[293]\teval-rmse:0.131345\ttrain-rmse:0.096276\teval-rmspe:0.110032\ttrain-rmspe:0.119898\n",
      "[294]\teval-rmse:0.131245\ttrain-rmse:0.096039\teval-rmspe:0.109885\ttrain-rmspe:0.119596\n",
      "[295]\teval-rmse:0.131321\ttrain-rmse:0.095971\teval-rmspe:0.11001\ttrain-rmspe:0.119755\n",
      "[296]\teval-rmse:0.131286\ttrain-rmse:0.095815\teval-rmspe:0.109983\ttrain-rmspe:0.11907\n",
      "[297]\teval-rmse:0.131311\ttrain-rmse:0.095698\teval-rmspe:0.10995\ttrain-rmspe:0.118977\n",
      "[298]\teval-rmse:0.13126\ttrain-rmse:0.09561\teval-rmspe:0.10989\ttrain-rmspe:0.118847\n",
      "[299]\teval-rmse:0.131227\ttrain-rmse:0.095545\teval-rmspe:0.109846\ttrain-rmspe:0.118794\n",
      "Train use time: 353.2428710460663\n"
     ]
    }
   ],
   "source": [
    "params = {\"objective\": \"reg:linear\",\n",
    "          \"eta\": 0.1,\n",
    "          \"max_depth\": 12,\n",
    "          \"min_child_weight\":1,\n",
    "          \"gamma\" :0,\n",
    "          \"subsample\": 0.7,\n",
    "          \"colsample_bytree\": 0.7,\n",
    "          \"silent\": 1\n",
    "          }\n",
    "num_trees = 300\n",
    "\n",
    "dtrain = xgb.DMatrix(X_train, Y_train)\n",
    "dvalid = xgb.DMatrix(X_valid, Y_valid)\n",
    "dtest = xgb.DMatrix(test)\n",
    "watchlist = [(dvalid, 'eval'), (dtrain, 'train')]\n",
    "ret = {}\n",
    "import time\n",
    "start = time.time()\n",
    "gbm = xgb.train(params, dtrain, num_trees, evals=watchlist, early_stopping_rounds=50,evals_result =ret, feval=rmspe_xg, verbose_eval=True)\n",
    "end = time.time()\n",
    "print(\"Train use time:\",end-start)"
   ]
  },
  {
   "cell_type": "code",
   "execution_count": 69,
   "metadata": {},
   "outputs": [
    {
     "data": {
      "image/png": "[encoded data removed]",
      "text/plain": [
       "<Figure size 432x288 with 1 Axes>"
      ]
     },
     "metadata": {
      "needs_background": "light"
     },
     "output_type": "display_data"
    }
   ],
   "source": [
    "evaldata = ret['eval']['rmspe'][0:num_trees:10]\n",
    "traindata = ret['train']['rmspe'][0:num_trees:10]\n",
    "plt.plot(range(0,num_trees,10),evaldata,color='red',label=\"eval\")\n",
    "plt.plot(range(0,num_trees,10),traindata,color='blue',label=\"train\")\n",
    "plt.legend(loc='best')\n",
    "y_tick = np.arange(0,1,0.1)\n",
    "plt.yticks(y_tick)\n",
    "plt.show()"
   ]
  },
  {
   "cell_type": "code",
   "execution_count": 70,
   "metadata": {},
   "outputs": [
    {
     "data": {
      "text/plain": [
       "GridSearchCV(cv=5, error_score='raise-deprecating',\n",
       "       estimator=XGBRegressor(base_score=0.5, booster='gbtree', colsample_bylevel=1,\n",
       "       colsample_bytree=0.8, gamma=0, learning_rate=0.1, max_delta_step=0,\n",
       "       max_depth=5, min_child_weight=1, missing=None, n_estimators=300,\n",
       "       n_jobs=1, nthread=4, objective='reg:linear', random_state=0,\n",
       "       reg_alpha=0, reg_lambda=1, scale_pos_weight=1, seed=None,\n",
       "       silent=True, subsample=0.8, verbose=10),\n",
       "       fit_params=None, iid='warn', n_jobs=None,\n",
       "       param_grid={'max_depth': range(10, 13), 'min_child_weight': range(4, 6, 2)},\n",
       "       pre_dispatch='2*n_jobs', refit=True, return_train_score='warn',\n",
       "       scoring='neg_mean_squared_error', verbose=0)"
      ]
     },
     "execution_count": 70,
     "metadata": {},
     "output_type": "execute_result"
    }
   ],
   "source": [
    "from sklearn.model_selection import GridSearchCV\n",
    "from sklearn.metrics import mean_squared_error\n",
    "param_test1 = {\n",
    " 'max_depth':range(10,13,1),\n",
    " 'min_child_weight':range(4,6,2)\n",
    "}\n",
    "gsearch1 = GridSearchCV(estimator = xgb.XGBRegressor(max_depth=5,learning_rate =0.1, n_estimators=num_trees,min_child_weight=1, gamma=0,verbose = 10,subsample=0.8,colsample_bytree=0.8,nthread=4,scale_pos_weight=1),\n",
    "                        param_grid = param_test1,scoring ='neg_mean_squared_error',cv=5)\n",
    "gsearch1.fit(X_train, Y_train)"
   ]
  },
  {
   "cell_type": "code",
   "execution_count": 71,
   "metadata": {},
   "outputs": [
    {
     "name": "stdout",
     "output_type": "stream",
     "text": [
      "{'max_depth': 12, 'min_child_weight': 4}\n"
     ]
    }
   ],
   "source": [
    "print(gsearch1.best_params_)"
   ]
  },
  {
   "cell_type": "code",
   "execution_count": 26,
   "metadata": {},
   "outputs": [
    {
     "data": {
      "text/plain": [
       "GridSearchCV(cv=5, error_score='raise-deprecating',\n",
       "       estimator=XGBRegressor(base_score=0.5, booster='gbtree', colsample_bylevel=1,\n",
       "       colsample_bytree=0.8, gamma=0, learning_rate=0.1, max_delta_step=0,\n",
       "       max_depth=9, min_child_weight=3, missing=None, n_estimators=36,\n",
       "       n_jobs=1, nthread=4, objective='reg:linear', random_state=0,\n",
       "       reg_alpha=0, reg_lambda=1, scale_pos_weight=1, seed=None,\n",
       "       silent=True, subsample=0.8, verbose=10),\n",
       "       fit_params=None, iid='warn', n_jobs=None,\n",
       "       param_grid={'gamma': [0.0, 0.1, 0.2, 0.3, 0.4]},\n",
       "       pre_dispatch='2*n_jobs', refit=True, return_train_score='warn',\n",
       "       scoring='neg_mean_squared_error', verbose=0)"
      ]
     },
     "execution_count": 26,
     "metadata": {},
     "output_type": "execute_result"
    }
   ],
   "source": [
    "param_test2 = {\n",
    " 'gamma':[i/10.0 for i in range(0,5)]\n",
    "}\n",
    "gsearch2 = GridSearchCV(estimator = xgb.XGBRegressor(max_depth=9,learning_rate =0.1, n_estimators=36,min_child_weight=3, gamma=0,verbose = 10,subsample=0.8,colsample_bytree=0.8,nthread=4,scale_pos_weight=1),\n",
    "                        param_grid = param_test2,scoring ='neg_mean_squared_error',cv=5)\n",
    "\n",
    "gsearch2.fit(X_train, Y_train)\n"
   ]
  },
  {
   "cell_type": "code",
   "execution_count": 27,
   "metadata": {},
   "outputs": [
    {
     "name": "stdout",
     "output_type": "stream",
     "text": [
      "{'gamma': 0.1}\n"
     ]
    }
   ],
   "source": [
    "print(gsearch2.best_params_)"
   ]
  },
  {
   "cell_type": "code",
   "execution_count": 73,
   "metadata": {},
   "outputs": [
    {
     "name": "stdout",
     "output_type": "stream",
     "text": [
      "[0]\teval-rmse:6.61459\ttrain-rmse:6.61894\teval-rmspe:0.998646\ttrain-rmspe:0.998669\n",
      "Multiple eval metrics have been passed: 'train-rmspe' will be used for early stopping.\n",
      "\n",
      "Will train until train-rmspe hasn't improved in 50 rounds.\n",
      "[1]\teval-rmse:5.29584\ttrain-rmse:5.29992\teval-rmspe:0.994636\ttrain-rmspe:0.994675\n",
      "[2]\teval-rmse:4.24143\ttrain-rmse:4.24475\teval-rmspe:0.984512\ttrain-rmspe:0.984574\n",
      "[3]\teval-rmse:3.39884\ttrain-rmse:3.40132\teval-rmspe:0.96411\ttrain-rmspe:0.964207\n",
      "[4]\teval-rmse:2.72533\ttrain-rmse:2.72748\teval-rmspe:0.929864\ttrain-rmspe:0.930031\n",
      "[5]\teval-rmse:2.18715\ttrain-rmse:2.18856\teval-rmspe:0.880713\ttrain-rmspe:0.880935\n",
      "[6]\teval-rmse:1.75839\ttrain-rmse:1.75941\teval-rmspe:0.817425\ttrain-rmspe:0.817879\n",
      "[7]\teval-rmse:1.41743\ttrain-rmse:1.41803\teval-rmspe:0.743716\ttrain-rmspe:0.744687\n",
      "[8]\teval-rmse:1.1459\ttrain-rmse:1.1466\teval-rmspe:0.664653\ttrain-rmspe:0.666665\n",
      "[9]\teval-rmse:0.931714\ttrain-rmse:0.932273\teval-rmspe:0.585377\ttrain-rmspe:0.589114\n",
      "[10]\teval-rmse:0.756586\ttrain-rmse:0.756927\teval-rmspe:0.510045\ttrain-rmspe:0.516309\n",
      "[11]\teval-rmse:0.623839\ttrain-rmse:0.62378\teval-rmspe:0.441878\ttrain-rmspe:0.451437\n",
      "[12]\teval-rmse:0.518687\ttrain-rmse:0.518125\teval-rmspe:0.382467\ttrain-rmspe:0.396053\n",
      "[13]\teval-rmse:0.439355\ttrain-rmse:0.438042\teval-rmspe:0.333806\ttrain-rmspe:0.352079\n",
      "[14]\teval-rmse:0.379455\ttrain-rmse:0.377436\teval-rmspe:0.295716\ttrain-rmspe:0.319407\n",
      "[15]\teval-rmse:0.331541\ttrain-rmse:0.329016\teval-rmspe:0.264409\ttrain-rmspe:0.293193\n",
      "[16]\teval-rmse:0.295032\ttrain-rmse:0.292192\teval-rmspe:0.240569\ttrain-rmspe:0.275175\n",
      "[17]\teval-rmse:0.270894\ttrain-rmse:0.267224\teval-rmspe:0.225729\ttrain-rmspe:0.264625\n",
      "[18]\teval-rmse:0.252648\ttrain-rmse:0.248007\teval-rmspe:0.215049\ttrain-rmspe:0.256723\n",
      "[19]\teval-rmse:0.237101\ttrain-rmse:0.232298\teval-rmspe:0.20566\ttrain-rmspe:0.250517\n",
      "[20]\teval-rmse:0.225996\ttrain-rmse:0.220795\teval-rmspe:0.199021\ttrain-rmspe:0.246934\n",
      "[21]\teval-rmse:0.219521\ttrain-rmse:0.214\teval-rmspe:0.196321\ttrain-rmspe:0.246997\n",
      "[22]\teval-rmse:0.209697\ttrain-rmse:0.203868\teval-rmspe:0.189237\ttrain-rmspe:0.241278\n",
      "[23]\teval-rmse:0.203259\ttrain-rmse:0.196836\teval-rmspe:0.184212\ttrain-rmspe:0.23688\n",
      "[24]\teval-rmse:0.199062\ttrain-rmse:0.192066\teval-rmspe:0.181864\ttrain-rmspe:0.233939\n",
      "[25]\teval-rmse:0.194479\ttrain-rmse:0.187435\teval-rmspe:0.178472\ttrain-rmspe:0.231813\n",
      "[26]\teval-rmse:0.192876\ttrain-rmse:0.185319\teval-rmspe:0.178105\ttrain-rmspe:0.231428\n",
      "[27]\teval-rmse:0.191456\ttrain-rmse:0.183543\teval-rmspe:0.177583\ttrain-rmspe:0.229765\n",
      "[28]\teval-rmse:0.187622\ttrain-rmse:0.179431\teval-rmspe:0.17416\ttrain-rmspe:0.226983\n",
      "[29]\teval-rmse:0.186353\ttrain-rmse:0.17795\teval-rmspe:0.173491\ttrain-rmspe:0.224986\n",
      "[30]\teval-rmse:0.183392\ttrain-rmse:0.174513\teval-rmspe:0.170514\ttrain-rmspe:0.221731\n",
      "[31]\teval-rmse:0.181734\ttrain-rmse:0.172662\teval-rmspe:0.169159\ttrain-rmspe:0.220653\n",
      "[32]\teval-rmse:0.179849\ttrain-rmse:0.170341\teval-rmspe:0.167091\ttrain-rmspe:0.217786\n",
      "[33]\teval-rmse:0.179234\ttrain-rmse:0.169601\teval-rmspe:0.166618\ttrain-rmspe:0.217433\n",
      "[34]\teval-rmse:0.17701\ttrain-rmse:0.167059\teval-rmspe:0.164233\ttrain-rmspe:0.21552\n",
      "[35]\teval-rmse:0.175183\ttrain-rmse:0.165131\teval-rmspe:0.162063\ttrain-rmspe:0.213526\n",
      "[36]\teval-rmse:0.174531\ttrain-rmse:0.164107\teval-rmspe:0.161476\ttrain-rmspe:0.212739\n",
      "[37]\teval-rmse:0.174113\ttrain-rmse:0.163451\teval-rmspe:0.161088\ttrain-rmspe:0.212337\n",
      "[38]\teval-rmse:0.171694\ttrain-rmse:0.160851\teval-rmspe:0.158682\ttrain-rmspe:0.210371\n",
      "[39]\teval-rmse:0.168813\ttrain-rmse:0.157764\teval-rmspe:0.155219\ttrain-rmspe:0.207715\n",
      "[40]\teval-rmse:0.166753\ttrain-rmse:0.155458\teval-rmspe:0.15285\ttrain-rmspe:0.205819\n",
      "[41]\teval-rmse:0.166454\ttrain-rmse:0.154958\teval-rmspe:0.152504\ttrain-rmspe:0.205825\n",
      "[42]\teval-rmse:0.166203\ttrain-rmse:0.154389\teval-rmspe:0.152104\ttrain-rmspe:0.20516\n",
      "[43]\teval-rmse:0.165257\ttrain-rmse:0.153264\teval-rmspe:0.150841\ttrain-rmspe:0.204022\n",
      "[44]\teval-rmse:0.163863\ttrain-rmse:0.151699\teval-rmspe:0.149159\ttrain-rmspe:0.201037\n",
      "[45]\teval-rmse:0.162762\ttrain-rmse:0.150348\teval-rmspe:0.147918\ttrain-rmspe:0.199904\n",
      "[46]\teval-rmse:0.1625\ttrain-rmse:0.150104\teval-rmspe:0.147626\ttrain-rmspe:0.199394\n",
      "[47]\teval-rmse:0.161565\ttrain-rmse:0.148956\teval-rmspe:0.146575\ttrain-rmspe:0.198423\n",
      "[48]\teval-rmse:0.160498\ttrain-rmse:0.147778\teval-rmspe:0.145201\ttrain-rmspe:0.195958\n",
      "[49]\teval-rmse:0.159796\ttrain-rmse:0.14665\teval-rmspe:0.14425\ttrain-rmspe:0.194594\n",
      "[50]\teval-rmse:0.158459\ttrain-rmse:0.145142\teval-rmspe:0.142587\ttrain-rmspe:0.193201\n",
      "[51]\teval-rmse:0.158091\ttrain-rmse:0.144524\teval-rmspe:0.142112\ttrain-rmspe:0.192427\n",
      "[52]\teval-rmse:0.157011\ttrain-rmse:0.142962\teval-rmspe:0.140785\ttrain-rmspe:0.190893\n",
      "[53]\teval-rmse:0.156693\ttrain-rmse:0.142551\teval-rmspe:0.140283\ttrain-rmspe:0.190182\n",
      "[54]\teval-rmse:0.154595\ttrain-rmse:0.140252\teval-rmspe:0.137774\ttrain-rmspe:0.188232\n",
      "[55]\teval-rmse:0.154202\ttrain-rmse:0.139662\teval-rmspe:0.137378\ttrain-rmspe:0.187309\n",
      "[56]\teval-rmse:0.153735\ttrain-rmse:0.139011\teval-rmspe:0.136774\ttrain-rmspe:0.186653\n",
      "[57]\teval-rmse:0.151837\ttrain-rmse:0.136912\teval-rmspe:0.134363\ttrain-rmspe:0.184924\n",
      "[58]\teval-rmse:0.151359\ttrain-rmse:0.136359\teval-rmspe:0.13401\ttrain-rmspe:0.184465\n",
      "[59]\teval-rmse:0.151195\ttrain-rmse:0.135972\teval-rmspe:0.133836\ttrain-rmspe:0.18408\n",
      "[60]\teval-rmse:0.149748\ttrain-rmse:0.134349\teval-rmspe:0.132404\ttrain-rmspe:0.182793\n",
      "[61]\teval-rmse:0.149556\ttrain-rmse:0.134112\teval-rmspe:0.132206\ttrain-rmspe:0.182537\n",
      "[62]\teval-rmse:0.148943\ttrain-rmse:0.133199\teval-rmspe:0.131409\ttrain-rmspe:0.181406\n",
      "[63]\teval-rmse:0.148449\ttrain-rmse:0.13253\teval-rmspe:0.130874\ttrain-rmspe:0.180876\n",
      "[64]\teval-rmse:0.148056\ttrain-rmse:0.131967\teval-rmspe:0.130337\ttrain-rmspe:0.180553\n",
      "[65]\teval-rmse:0.147268\ttrain-rmse:0.131026\teval-rmspe:0.129477\ttrain-rmspe:0.17982\n",
      "[66]\teval-rmse:0.147033\ttrain-rmse:0.130657\teval-rmspe:0.129224\ttrain-rmspe:0.179696\n",
      "[67]\teval-rmse:0.146907\ttrain-rmse:0.130547\teval-rmspe:0.129064\ttrain-rmspe:0.179595\n",
      "[68]\teval-rmse:0.146528\ttrain-rmse:0.129933\teval-rmspe:0.128615\ttrain-rmspe:0.178385\n",
      "[69]\teval-rmse:0.145986\ttrain-rmse:0.12933\teval-rmspe:0.128087\ttrain-rmspe:0.175952\n",
      "[70]\teval-rmse:0.145641\ttrain-rmse:0.128976\teval-rmspe:0.127703\ttrain-rmspe:0.174791\n",
      "[71]\teval-rmse:0.144878\ttrain-rmse:0.128103\teval-rmspe:0.126761\ttrain-rmspe:0.17409\n",
      "[72]\teval-rmse:0.144003\ttrain-rmse:0.127286\teval-rmspe:0.125933\ttrain-rmspe:0.173399\n",
      "[73]\teval-rmse:0.143306\ttrain-rmse:0.126501\teval-rmspe:0.124953\ttrain-rmspe:0.172829\n",
      "[74]\teval-rmse:0.1432\ttrain-rmse:0.126254\teval-rmspe:0.124816\ttrain-rmspe:0.172462\n",
      "[75]\teval-rmse:0.143095\ttrain-rmse:0.125987\teval-rmspe:0.124774\ttrain-rmspe:0.172342\n",
      "[76]\teval-rmse:0.142907\ttrain-rmse:0.125768\teval-rmspe:0.124571\ttrain-rmspe:0.172164\n",
      "[77]\teval-rmse:0.14269\ttrain-rmse:0.125422\teval-rmspe:0.124471\ttrain-rmspe:0.171549\n",
      "[78]\teval-rmse:0.142545\ttrain-rmse:0.125088\teval-rmspe:0.124332\ttrain-rmspe:0.171096\n",
      "[79]\teval-rmse:0.142405\ttrain-rmse:0.124935\teval-rmspe:0.12415\ttrain-rmspe:0.170789\n",
      "[80]\teval-rmse:0.142196\ttrain-rmse:0.124664\teval-rmspe:0.123951\ttrain-rmspe:0.170437\n",
      "[81]\teval-rmse:0.142117\ttrain-rmse:0.124509\teval-rmspe:0.123874\ttrain-rmspe:0.170318\n",
      "[82]\teval-rmse:0.142022\ttrain-rmse:0.124253\teval-rmspe:0.123764\ttrain-rmspe:0.170156\n",
      "[83]\teval-rmse:0.141486\ttrain-rmse:0.123646\teval-rmspe:0.123201\ttrain-rmspe:0.169589\n",
      "[84]\teval-rmse:0.141265\ttrain-rmse:0.1233\teval-rmspe:0.122985\ttrain-rmspe:0.169611\n",
      "[85]\teval-rmse:0.14123\ttrain-rmse:0.122943\teval-rmspe:0.123016\ttrain-rmspe:0.169133\n",
      "[86]\teval-rmse:0.141135\ttrain-rmse:0.122606\teval-rmspe:0.122832\ttrain-rmspe:0.168279\n",
      "[87]\teval-rmse:0.140809\ttrain-rmse:0.122093\teval-rmspe:0.122446\ttrain-rmspe:0.167782\n",
      "[88]\teval-rmse:0.140601\ttrain-rmse:0.121803\teval-rmspe:0.12241\ttrain-rmspe:0.168468\n",
      "[89]\teval-rmse:0.140476\ttrain-rmse:0.12154\teval-rmspe:0.12229\ttrain-rmspe:0.168275\n",
      "[90]\teval-rmse:0.140087\ttrain-rmse:0.121048\teval-rmspe:0.121846\ttrain-rmspe:0.167837\n",
      "[91]\teval-rmse:0.139985\ttrain-rmse:0.120799\teval-rmspe:0.121719\ttrain-rmspe:0.167718\n",
      "[92]\teval-rmse:0.139744\ttrain-rmse:0.120514\teval-rmspe:0.121357\ttrain-rmspe:0.167388\n",
      "[93]\teval-rmse:0.139618\ttrain-rmse:0.120093\teval-rmspe:0.121529\ttrain-rmspe:0.167203\n",
      "[94]\teval-rmse:0.139336\ttrain-rmse:0.119638\teval-rmspe:0.121055\ttrain-rmspe:0.163798\n",
      "[95]\teval-rmse:0.139168\ttrain-rmse:0.119307\teval-rmspe:0.12087\ttrain-rmspe:0.163532\n"
     ]
    },
    {
     "name": "stdout",
     "output_type": "stream",
     "text": [
      "[96]\teval-rmse:0.138973\ttrain-rmse:0.119073\teval-rmspe:0.120678\ttrain-rmspe:0.163384\n",
      "[97]\teval-rmse:0.13894\ttrain-rmse:0.118893\teval-rmspe:0.120613\ttrain-rmspe:0.163226\n",
      "[98]\teval-rmse:0.138951\ttrain-rmse:0.118786\teval-rmspe:0.120606\ttrain-rmspe:0.163189\n",
      "[99]\teval-rmse:0.138824\ttrain-rmse:0.118624\teval-rmspe:0.120402\ttrain-rmspe:0.163015\n",
      "[100]\teval-rmse:0.138793\ttrain-rmse:0.118578\teval-rmspe:0.120377\ttrain-rmspe:0.163249\n",
      "[101]\teval-rmse:0.138611\ttrain-rmse:0.118318\teval-rmspe:0.120166\ttrain-rmspe:0.162939\n",
      "[102]\teval-rmse:0.138572\ttrain-rmse:0.118088\teval-rmspe:0.120133\ttrain-rmspe:0.162868\n",
      "[103]\teval-rmse:0.138488\ttrain-rmse:0.117889\teval-rmspe:0.120042\ttrain-rmspe:0.162703\n",
      "[104]\teval-rmse:0.138099\ttrain-rmse:0.117389\teval-rmspe:0.11954\ttrain-rmspe:0.162056\n",
      "[105]\teval-rmse:0.137963\ttrain-rmse:0.11713\teval-rmspe:0.119516\ttrain-rmspe:0.161778\n",
      "[106]\teval-rmse:0.137835\ttrain-rmse:0.116971\teval-rmspe:0.119292\ttrain-rmspe:0.159993\n",
      "[107]\teval-rmse:0.137734\ttrain-rmse:0.11683\teval-rmspe:0.119201\ttrain-rmspe:0.159609\n",
      "[108]\teval-rmse:0.137569\ttrain-rmse:0.11652\teval-rmspe:0.119002\ttrain-rmspe:0.159413\n",
      "[109]\teval-rmse:0.137489\ttrain-rmse:0.116326\teval-rmspe:0.118862\ttrain-rmspe:0.159146\n",
      "[110]\teval-rmse:0.137465\ttrain-rmse:0.116121\teval-rmspe:0.118804\ttrain-rmspe:0.159054\n",
      "[111]\teval-rmse:0.13745\ttrain-rmse:0.115919\teval-rmspe:0.11879\ttrain-rmspe:0.158846\n",
      "[112]\teval-rmse:0.137443\ttrain-rmse:0.115882\teval-rmspe:0.11878\ttrain-rmspe:0.15883\n",
      "[113]\teval-rmse:0.137362\ttrain-rmse:0.115666\teval-rmspe:0.118694\ttrain-rmspe:0.158605\n",
      "[114]\teval-rmse:0.137214\ttrain-rmse:0.11537\teval-rmspe:0.118501\ttrain-rmspe:0.156554\n",
      "[115]\teval-rmse:0.137162\ttrain-rmse:0.115186\teval-rmspe:0.118399\ttrain-rmspe:0.156418\n",
      "[116]\teval-rmse:0.137098\ttrain-rmse:0.115073\teval-rmspe:0.118332\ttrain-rmspe:0.156273\n",
      "[117]\teval-rmse:0.137075\ttrain-rmse:0.114934\teval-rmspe:0.118301\ttrain-rmspe:0.156237\n",
      "[118]\teval-rmse:0.136984\ttrain-rmse:0.114756\teval-rmspe:0.118117\ttrain-rmspe:0.155401\n",
      "[119]\teval-rmse:0.136914\ttrain-rmse:0.11452\teval-rmspe:0.11802\ttrain-rmspe:0.155115\n",
      "[120]\teval-rmse:0.136842\ttrain-rmse:0.114297\teval-rmspe:0.118014\ttrain-rmspe:0.154831\n",
      "[121]\teval-rmse:0.136805\ttrain-rmse:0.114243\teval-rmspe:0.117973\ttrain-rmspe:0.154793\n",
      "[122]\teval-rmse:0.13679\ttrain-rmse:0.114127\teval-rmspe:0.117949\ttrain-rmspe:0.154785\n",
      "[123]\teval-rmse:0.136752\ttrain-rmse:0.114071\teval-rmspe:0.117888\ttrain-rmspe:0.154724\n",
      "[124]\teval-rmse:0.136727\ttrain-rmse:0.113792\teval-rmspe:0.117825\ttrain-rmspe:0.154232\n",
      "[125]\teval-rmse:0.136634\ttrain-rmse:0.113714\teval-rmspe:0.117699\ttrain-rmspe:0.154177\n",
      "[126]\teval-rmse:0.136624\ttrain-rmse:0.113494\teval-rmspe:0.117681\ttrain-rmspe:0.154074\n",
      "[127]\teval-rmse:0.136524\ttrain-rmse:0.11333\teval-rmspe:0.117558\ttrain-rmspe:0.154428\n",
      "[128]\teval-rmse:0.136487\ttrain-rmse:0.113272\teval-rmspe:0.117513\ttrain-rmspe:0.154376\n",
      "[129]\teval-rmse:0.136506\ttrain-rmse:0.11319\teval-rmspe:0.117464\ttrain-rmspe:0.154327\n",
      "[130]\teval-rmse:0.136494\ttrain-rmse:0.11311\teval-rmspe:0.117462\ttrain-rmspe:0.154281\n",
      "[131]\teval-rmse:0.136385\ttrain-rmse:0.11293\teval-rmspe:0.117246\ttrain-rmspe:0.152672\n",
      "[132]\teval-rmse:0.136356\ttrain-rmse:0.112785\teval-rmspe:0.117212\ttrain-rmspe:0.152535\n",
      "[133]\teval-rmse:0.136285\ttrain-rmse:0.112478\teval-rmspe:0.117122\ttrain-rmspe:0.152419\n",
      "[134]\teval-rmse:0.136264\ttrain-rmse:0.112368\teval-rmspe:0.117109\ttrain-rmspe:0.152339\n",
      "[135]\teval-rmse:0.136177\ttrain-rmse:0.112128\teval-rmspe:0.117023\ttrain-rmspe:0.152267\n",
      "[136]\teval-rmse:0.136002\ttrain-rmse:0.111838\teval-rmspe:0.116856\ttrain-rmspe:0.152073\n",
      "[137]\teval-rmse:0.135979\ttrain-rmse:0.111754\teval-rmspe:0.116805\ttrain-rmspe:0.152027\n",
      "[138]\teval-rmse:0.135956\ttrain-rmse:0.11159\teval-rmspe:0.116775\ttrain-rmspe:0.151942\n",
      "[139]\teval-rmse:0.135951\ttrain-rmse:0.111543\teval-rmspe:0.116798\ttrain-rmspe:0.151669\n",
      "[140]\teval-rmse:0.135872\ttrain-rmse:0.111368\teval-rmspe:0.116689\ttrain-rmspe:0.151522\n",
      "[141]\teval-rmse:0.135917\ttrain-rmse:0.111165\teval-rmspe:0.116662\ttrain-rmspe:0.15141\n",
      "[142]\teval-rmse:0.135912\ttrain-rmse:0.111041\teval-rmspe:0.116646\ttrain-rmspe:0.151378\n",
      "[143]\teval-rmse:0.135888\ttrain-rmse:0.110893\teval-rmspe:0.116627\ttrain-rmspe:0.151284\n",
      "[144]\teval-rmse:0.135826\ttrain-rmse:0.110754\teval-rmspe:0.116587\ttrain-rmspe:0.151184\n",
      "[145]\teval-rmse:0.135813\ttrain-rmse:0.11071\teval-rmspe:0.116567\ttrain-rmspe:0.151143\n",
      "[146]\teval-rmse:0.135742\ttrain-rmse:0.110591\teval-rmspe:0.116518\ttrain-rmspe:0.151085\n",
      "[147]\teval-rmse:0.135673\ttrain-rmse:0.110479\teval-rmspe:0.116431\ttrain-rmspe:0.151019\n",
      "[148]\teval-rmse:0.135694\ttrain-rmse:0.11038\teval-rmspe:0.116443\ttrain-rmspe:0.150945\n",
      "[149]\teval-rmse:0.135601\ttrain-rmse:0.110281\teval-rmspe:0.11634\ttrain-rmspe:0.150703\n",
      "[150]\teval-rmse:0.135537\ttrain-rmse:0.109984\teval-rmspe:0.116148\ttrain-rmspe:0.150477\n",
      "[151]\teval-rmse:0.135459\ttrain-rmse:0.109867\teval-rmspe:0.116045\ttrain-rmspe:0.150407\n",
      "[152]\teval-rmse:0.135444\ttrain-rmse:0.109828\teval-rmspe:0.116044\ttrain-rmspe:0.150382\n",
      "[153]\teval-rmse:0.13543\ttrain-rmse:0.10975\teval-rmspe:0.116115\ttrain-rmspe:0.150289\n",
      "[154]\teval-rmse:0.135425\ttrain-rmse:0.109712\teval-rmspe:0.116089\ttrain-rmspe:0.150285\n",
      "[155]\teval-rmse:0.135415\ttrain-rmse:0.109651\teval-rmspe:0.116079\ttrain-rmspe:0.150267\n",
      "[156]\teval-rmse:0.135396\ttrain-rmse:0.109537\teval-rmspe:0.116072\ttrain-rmspe:0.150217\n",
      "[157]\teval-rmse:0.135371\ttrain-rmse:0.109493\teval-rmspe:0.116028\ttrain-rmspe:0.150171\n",
      "[158]\teval-rmse:0.135379\ttrain-rmse:0.109419\teval-rmspe:0.116053\ttrain-rmspe:0.150128\n",
      "[159]\teval-rmse:0.135353\ttrain-rmse:0.109377\teval-rmspe:0.116045\ttrain-rmspe:0.150078\n",
      "[160]\teval-rmse:0.135449\ttrain-rmse:0.109332\teval-rmspe:0.116126\ttrain-rmspe:0.150096\n",
      "[161]\teval-rmse:0.135701\ttrain-rmse:0.109231\teval-rmspe:0.116101\ttrain-rmspe:0.150021\n",
      "[162]\teval-rmse:0.13565\ttrain-rmse:0.109148\teval-rmspe:0.116044\ttrain-rmspe:0.149954\n",
      "[163]\teval-rmse:0.135688\ttrain-rmse:0.109043\teval-rmspe:0.116208\ttrain-rmspe:0.1499\n",
      "[164]\teval-rmse:0.135638\ttrain-rmse:0.108957\teval-rmspe:0.11617\ttrain-rmspe:0.149839\n",
      "[165]\teval-rmse:0.135579\ttrain-rmse:0.108878\teval-rmspe:0.116086\ttrain-rmspe:0.149696\n",
      "[166]\teval-rmse:0.135578\ttrain-rmse:0.108712\teval-rmspe:0.115997\ttrain-rmspe:0.14936\n",
      "[167]\teval-rmse:0.135651\ttrain-rmse:0.108673\teval-rmspe:0.11605\ttrain-rmspe:0.14933\n",
      "[168]\teval-rmse:0.135496\ttrain-rmse:0.108495\teval-rmspe:0.115898\ttrain-rmspe:0.149042\n",
      "[169]\teval-rmse:0.135503\ttrain-rmse:0.10844\teval-rmspe:0.115886\ttrain-rmspe:0.149003\n",
      "[170]\teval-rmse:0.135504\ttrain-rmse:0.10841\teval-rmspe:0.115892\ttrain-rmspe:0.149015\n",
      "[171]\teval-rmse:0.13545\ttrain-rmse:0.108278\teval-rmspe:0.115768\ttrain-rmspe:0.14894\n",
      "[172]\teval-rmse:0.135463\ttrain-rmse:0.108222\teval-rmspe:0.115774\ttrain-rmspe:0.148936\n",
      "[173]\teval-rmse:0.135432\ttrain-rmse:0.107985\teval-rmspe:0.115854\ttrain-rmspe:0.148819\n",
      "[174]\teval-rmse:0.135377\ttrain-rmse:0.107875\teval-rmspe:0.115793\ttrain-rmspe:0.148617\n",
      "[175]\teval-rmse:0.135361\ttrain-rmse:0.107852\teval-rmspe:0.115792\ttrain-rmspe:0.148593\n",
      "[176]\teval-rmse:0.135363\ttrain-rmse:0.107781\teval-rmspe:0.115811\ttrain-rmspe:0.148601\n",
      "[177]\teval-rmse:0.13531\ttrain-rmse:0.107692\teval-rmspe:0.115726\ttrain-rmspe:0.148576\n",
      "[178]\teval-rmse:0.135185\ttrain-rmse:0.107502\teval-rmspe:0.115567\ttrain-rmspe:0.148499\n",
      "[179]\teval-rmse:0.135157\ttrain-rmse:0.107445\teval-rmspe:0.115539\ttrain-rmspe:0.148475\n",
      "[180]\teval-rmse:0.135035\ttrain-rmse:0.107304\teval-rmspe:0.115458\ttrain-rmspe:0.14835\n",
      "[181]\teval-rmse:0.135035\ttrain-rmse:0.107271\teval-rmspe:0.115449\ttrain-rmspe:0.148226\n",
      "[182]\teval-rmse:0.13502\ttrain-rmse:0.107117\teval-rmspe:0.115426\ttrain-rmspe:0.148146\n",
      "[183]\teval-rmse:0.134998\ttrain-rmse:0.107045\teval-rmspe:0.115402\ttrain-rmspe:0.14813\n",
      "[184]\teval-rmse:0.134978\ttrain-rmse:0.106981\teval-rmspe:0.115413\ttrain-rmspe:0.148099\n",
      "[185]\teval-rmse:0.134908\ttrain-rmse:0.106923\teval-rmspe:0.115417\ttrain-rmspe:0.148071\n",
      "[186]\teval-rmse:0.134907\ttrain-rmse:0.106922\teval-rmspe:0.11544\ttrain-rmspe:0.148079\n",
      "[187]\teval-rmse:0.134885\ttrain-rmse:0.106863\teval-rmspe:0.115436\ttrain-rmspe:0.148052\n",
      "[188]\teval-rmse:0.134877\ttrain-rmse:0.106806\teval-rmspe:0.115414\ttrain-rmspe:0.14804\n",
      "[189]\teval-rmse:0.134799\ttrain-rmse:0.106705\teval-rmspe:0.115325\ttrain-rmspe:0.147281\n",
      "[190]\teval-rmse:0.135215\ttrain-rmse:0.106616\teval-rmspe:0.115345\ttrain-rmspe:0.14638\n",
      "[191]\teval-rmse:0.135219\ttrain-rmse:0.106521\teval-rmspe:0.115334\ttrain-rmspe:0.13933\n"
     ]
    },
    {
     "name": "stdout",
     "output_type": "stream",
     "text": [
      "[192]\teval-rmse:0.135173\ttrain-rmse:0.106415\teval-rmspe:0.115288\ttrain-rmspe:0.139224\n",
      "[193]\teval-rmse:0.135154\ttrain-rmse:0.106376\teval-rmspe:0.115269\ttrain-rmspe:0.13919\n",
      "[194]\teval-rmse:0.135199\ttrain-rmse:0.106334\teval-rmspe:0.11531\ttrain-rmspe:0.139096\n",
      "[195]\teval-rmse:0.13519\ttrain-rmse:0.106204\teval-rmspe:0.115289\ttrain-rmspe:0.138995\n",
      "[196]\teval-rmse:0.13518\ttrain-rmse:0.106161\teval-rmspe:0.11532\ttrain-rmspe:0.138973\n",
      "[197]\teval-rmse:0.135215\ttrain-rmse:0.106067\teval-rmspe:0.115315\ttrain-rmspe:0.138863\n",
      "[198]\teval-rmse:0.135236\ttrain-rmse:0.105979\teval-rmspe:0.115259\ttrain-rmspe:0.138828\n",
      "[199]\teval-rmse:0.135158\ttrain-rmse:0.105902\teval-rmspe:0.115175\ttrain-rmspe:0.138672\n",
      "[200]\teval-rmse:0.135142\ttrain-rmse:0.105749\teval-rmspe:0.115118\ttrain-rmspe:0.138476\n",
      "[201]\teval-rmse:0.135125\ttrain-rmse:0.105727\teval-rmspe:0.115094\ttrain-rmspe:0.138458\n",
      "[202]\teval-rmse:0.135147\ttrain-rmse:0.105644\teval-rmspe:0.115\ttrain-rmspe:0.136487\n",
      "[203]\teval-rmse:0.13521\ttrain-rmse:0.105466\teval-rmspe:0.115137\ttrain-rmspe:0.136432\n",
      "[204]\teval-rmse:0.135196\ttrain-rmse:0.105383\teval-rmspe:0.115131\ttrain-rmspe:0.136178\n",
      "[205]\teval-rmse:0.135206\ttrain-rmse:0.105233\teval-rmspe:0.115197\ttrain-rmspe:0.136086\n",
      "[206]\teval-rmse:0.135192\ttrain-rmse:0.105196\teval-rmspe:0.115177\ttrain-rmspe:0.135748\n",
      "[207]\teval-rmse:0.135191\ttrain-rmse:0.105006\teval-rmspe:0.11516\ttrain-rmspe:0.131116\n",
      "[208]\teval-rmse:0.135191\ttrain-rmse:0.104933\teval-rmspe:0.115156\ttrain-rmspe:0.13109\n",
      "[209]\teval-rmse:0.135164\ttrain-rmse:0.104871\teval-rmspe:0.115148\ttrain-rmspe:0.13102\n",
      "[210]\teval-rmse:0.135152\ttrain-rmse:0.104825\teval-rmspe:0.115126\ttrain-rmspe:0.130962\n",
      "[211]\teval-rmse:0.135133\ttrain-rmse:0.104777\teval-rmspe:0.115113\ttrain-rmspe:0.130939\n",
      "[212]\teval-rmse:0.135106\ttrain-rmse:0.104733\teval-rmspe:0.11505\ttrain-rmspe:0.129665\n",
      "[213]\teval-rmse:0.135103\ttrain-rmse:0.104699\teval-rmspe:0.115022\ttrain-rmspe:0.129623\n",
      "[214]\teval-rmse:0.13511\ttrain-rmse:0.104675\teval-rmspe:0.115026\ttrain-rmspe:0.129598\n",
      "[215]\teval-rmse:0.13508\ttrain-rmse:0.104624\teval-rmspe:0.114987\ttrain-rmspe:0.128668\n",
      "[216]\teval-rmse:0.135103\ttrain-rmse:0.104553\teval-rmspe:0.115048\ttrain-rmspe:0.128664\n",
      "[217]\teval-rmse:0.135119\ttrain-rmse:0.104532\teval-rmspe:0.115029\ttrain-rmspe:0.128602\n",
      "[218]\teval-rmse:0.13509\ttrain-rmse:0.104498\teval-rmspe:0.114994\ttrain-rmspe:0.128561\n",
      "[219]\teval-rmse:0.135014\ttrain-rmse:0.10441\teval-rmspe:0.114828\ttrain-rmspe:0.128388\n",
      "[220]\teval-rmse:0.135009\ttrain-rmse:0.104348\teval-rmspe:0.114852\ttrain-rmspe:0.128229\n",
      "[221]\teval-rmse:0.135052\ttrain-rmse:0.104321\teval-rmspe:0.11488\ttrain-rmspe:0.128219\n",
      "[222]\teval-rmse:0.135044\ttrain-rmse:0.104254\teval-rmspe:0.114887\ttrain-rmspe:0.128151\n",
      "[223]\teval-rmse:0.135058\ttrain-rmse:0.104164\teval-rmspe:0.114917\ttrain-rmspe:0.128438\n",
      "[224]\teval-rmse:0.135063\ttrain-rmse:0.10414\teval-rmspe:0.114914\ttrain-rmspe:0.128666\n",
      "[225]\teval-rmse:0.135048\ttrain-rmse:0.104038\teval-rmspe:0.114915\ttrain-rmspe:0.12814\n",
      "[226]\teval-rmse:0.135035\ttrain-rmse:0.104016\teval-rmspe:0.114894\ttrain-rmspe:0.128137\n",
      "[227]\teval-rmse:0.135039\ttrain-rmse:0.10399\teval-rmspe:0.114876\ttrain-rmspe:0.12812\n",
      "[228]\teval-rmse:0.135052\ttrain-rmse:0.103916\teval-rmspe:0.114869\ttrain-rmspe:0.128095\n",
      "[229]\teval-rmse:0.135032\ttrain-rmse:0.103792\teval-rmspe:0.114841\ttrain-rmspe:0.128071\n",
      "[230]\teval-rmse:0.135094\ttrain-rmse:0.103675\teval-rmspe:0.114847\ttrain-rmspe:0.127981\n",
      "[231]\teval-rmse:0.13506\ttrain-rmse:0.103631\teval-rmspe:0.114827\ttrain-rmspe:0.125056\n",
      "[232]\teval-rmse:0.135075\ttrain-rmse:0.103559\teval-rmspe:0.114808\ttrain-rmspe:0.124331\n",
      "[233]\teval-rmse:0.135042\ttrain-rmse:0.103433\teval-rmspe:0.114727\ttrain-rmspe:0.12426\n",
      "[234]\teval-rmse:0.135062\ttrain-rmse:0.103321\teval-rmspe:0.114811\ttrain-rmspe:0.123247\n",
      "[235]\teval-rmse:0.135041\ttrain-rmse:0.103282\teval-rmspe:0.114779\ttrain-rmspe:0.12322\n",
      "[236]\teval-rmse:0.135018\ttrain-rmse:0.103179\teval-rmspe:0.114711\ttrain-rmspe:0.123169\n",
      "[237]\teval-rmse:0.134974\ttrain-rmse:0.103099\teval-rmspe:0.114664\ttrain-rmspe:0.122899\n",
      "[238]\teval-rmse:0.134971\ttrain-rmse:0.103066\teval-rmspe:0.114671\ttrain-rmspe:0.122885\n",
      "[239]\teval-rmse:0.13496\ttrain-rmse:0.10305\teval-rmspe:0.11465\ttrain-rmspe:0.122851\n",
      "[240]\teval-rmse:0.134938\ttrain-rmse:0.103003\teval-rmspe:0.114641\ttrain-rmspe:0.122747\n",
      "[241]\teval-rmse:0.134914\ttrain-rmse:0.10296\teval-rmspe:0.114631\ttrain-rmspe:0.122733\n",
      "[242]\teval-rmse:0.134877\ttrain-rmse:0.102881\teval-rmspe:0.114542\ttrain-rmspe:0.12268\n",
      "[243]\teval-rmse:0.134848\ttrain-rmse:0.102866\teval-rmspe:0.114531\ttrain-rmspe:0.122671\n",
      "[244]\teval-rmse:0.134833\ttrain-rmse:0.102836\teval-rmspe:0.114503\ttrain-rmspe:0.122656\n",
      "[245]\teval-rmse:0.134805\ttrain-rmse:0.102747\teval-rmspe:0.11456\ttrain-rmspe:0.122632\n",
      "[246]\teval-rmse:0.134789\ttrain-rmse:0.102718\teval-rmspe:0.11455\ttrain-rmspe:0.122652\n",
      "[247]\teval-rmse:0.134809\ttrain-rmse:0.102624\teval-rmspe:0.114495\ttrain-rmspe:0.122618\n",
      "[248]\teval-rmse:0.134788\ttrain-rmse:0.102552\teval-rmspe:0.114494\ttrain-rmspe:0.122642\n",
      "[249]\teval-rmse:0.134776\ttrain-rmse:0.102503\teval-rmspe:0.114477\ttrain-rmspe:0.122603\n",
      "[250]\teval-rmse:0.13477\ttrain-rmse:0.102445\teval-rmspe:0.114455\ttrain-rmspe:0.122573\n",
      "[251]\teval-rmse:0.134682\ttrain-rmse:0.102376\teval-rmspe:0.114421\ttrain-rmspe:0.122537\n",
      "[252]\teval-rmse:0.134651\ttrain-rmse:0.102318\teval-rmspe:0.114383\ttrain-rmspe:0.122434\n",
      "[253]\teval-rmse:0.134622\ttrain-rmse:0.102271\teval-rmspe:0.114279\ttrain-rmspe:0.1224\n",
      "[254]\teval-rmse:0.134622\ttrain-rmse:0.102269\teval-rmspe:0.114283\ttrain-rmspe:0.122404\n",
      "[255]\teval-rmse:0.134598\ttrain-rmse:0.102201\teval-rmspe:0.11428\ttrain-rmspe:0.122353\n",
      "[256]\teval-rmse:0.134601\ttrain-rmse:0.10218\teval-rmspe:0.114292\ttrain-rmspe:0.122304\n",
      "[257]\teval-rmse:0.134568\ttrain-rmse:0.102157\teval-rmspe:0.114074\ttrain-rmspe:0.122288\n",
      "[258]\teval-rmse:0.134559\ttrain-rmse:0.102144\teval-rmspe:0.114056\ttrain-rmspe:0.122273\n",
      "[259]\teval-rmse:0.134611\ttrain-rmse:0.102107\teval-rmspe:0.114105\ttrain-rmspe:0.122262\n",
      "[260]\teval-rmse:0.134582\ttrain-rmse:0.102022\teval-rmspe:0.114103\ttrain-rmspe:0.122222\n",
      "[261]\teval-rmse:0.13457\ttrain-rmse:0.101962\teval-rmspe:0.114097\ttrain-rmspe:0.122169\n",
      "[262]\teval-rmse:0.134538\ttrain-rmse:0.101941\teval-rmspe:0.113909\ttrain-rmspe:0.122147\n",
      "[263]\teval-rmse:0.134516\ttrain-rmse:0.101814\teval-rmspe:0.113912\ttrain-rmspe:0.122136\n",
      "[264]\teval-rmse:0.134555\ttrain-rmse:0.101794\teval-rmspe:0.11393\ttrain-rmspe:0.122088\n",
      "[265]\teval-rmse:0.134539\ttrain-rmse:0.101674\teval-rmspe:0.113899\ttrain-rmspe:0.122033\n",
      "[266]\teval-rmse:0.134508\ttrain-rmse:0.101627\teval-rmspe:0.113843\ttrain-rmspe:0.122017\n",
      "[267]\teval-rmse:0.134505\ttrain-rmse:0.101621\teval-rmspe:0.113845\ttrain-rmspe:0.122008\n",
      "[268]\teval-rmse:0.13448\ttrain-rmse:0.101592\teval-rmspe:0.113824\ttrain-rmspe:0.121984\n",
      "[269]\teval-rmse:0.134481\ttrain-rmse:0.101568\teval-rmspe:0.113764\ttrain-rmspe:0.121962\n",
      "[270]\teval-rmse:0.13449\ttrain-rmse:0.101494\teval-rmspe:0.113761\ttrain-rmspe:0.121885\n",
      "[271]\teval-rmse:0.134502\ttrain-rmse:0.101467\teval-rmspe:0.113825\ttrain-rmspe:0.121878\n",
      "[272]\teval-rmse:0.1345\ttrain-rmse:0.101447\teval-rmspe:0.113827\ttrain-rmspe:0.121862\n",
      "[273]\teval-rmse:0.134451\ttrain-rmse:0.101369\teval-rmspe:0.113796\ttrain-rmspe:0.121792\n",
      "[274]\teval-rmse:0.134445\ttrain-rmse:0.101334\teval-rmspe:0.113786\ttrain-rmspe:0.121746\n",
      "[275]\teval-rmse:0.1346\ttrain-rmse:0.101283\teval-rmspe:0.113884\ttrain-rmspe:0.121713\n",
      "[276]\teval-rmse:0.134604\ttrain-rmse:0.101235\teval-rmspe:0.113921\ttrain-rmspe:0.121634\n",
      "[277]\teval-rmse:0.134584\ttrain-rmse:0.101214\teval-rmspe:0.113982\ttrain-rmspe:0.12161\n",
      "[278]\teval-rmse:0.134566\ttrain-rmse:0.101201\teval-rmspe:0.113971\ttrain-rmspe:0.1216\n",
      "[279]\teval-rmse:0.134544\ttrain-rmse:0.101189\teval-rmspe:0.113935\ttrain-rmspe:0.121586\n",
      "[280]\teval-rmse:0.134545\ttrain-rmse:0.101152\teval-rmspe:0.113904\ttrain-rmspe:0.121547\n",
      "[281]\teval-rmse:0.134536\ttrain-rmse:0.101128\teval-rmspe:0.113884\ttrain-rmspe:0.121498\n",
      "[282]\teval-rmse:0.134537\ttrain-rmse:0.101067\teval-rmspe:0.113907\ttrain-rmspe:0.12194\n",
      "[283]\teval-rmse:0.13454\ttrain-rmse:0.101061\teval-rmspe:0.113911\ttrain-rmspe:0.121936\n",
      "[284]\teval-rmse:0.134528\ttrain-rmse:0.100982\teval-rmspe:0.113892\ttrain-rmspe:0.121892\n",
      "[285]\teval-rmse:0.134536\ttrain-rmse:0.100959\teval-rmspe:0.11391\ttrain-rmspe:0.12189\n",
      "[286]\teval-rmse:0.134505\ttrain-rmse:0.100952\teval-rmspe:0.113876\ttrain-rmspe:0.121886\n",
      "[287]\teval-rmse:0.134519\ttrain-rmse:0.100936\teval-rmspe:0.113909\ttrain-rmspe:0.119891\n"
     ]
    },
    {
     "name": "stdout",
     "output_type": "stream",
     "text": [
      "[288]\teval-rmse:0.134483\ttrain-rmse:0.100809\teval-rmspe:0.113863\ttrain-rmspe:0.119834\n",
      "[289]\teval-rmse:0.134439\ttrain-rmse:0.100769\teval-rmspe:0.113919\ttrain-rmspe:0.119824\n",
      "[290]\teval-rmse:0.134457\ttrain-rmse:0.100701\teval-rmspe:0.113937\ttrain-rmspe:0.118022\n",
      "[291]\teval-rmse:0.134466\ttrain-rmse:0.100681\teval-rmspe:0.113932\ttrain-rmspe:0.118017\n",
      "[292]\teval-rmse:0.134534\ttrain-rmse:0.100664\teval-rmspe:0.113923\ttrain-rmspe:0.118024\n",
      "[293]\teval-rmse:0.134551\ttrain-rmse:0.100593\teval-rmspe:0.113928\ttrain-rmspe:0.117536\n",
      "[294]\teval-rmse:0.134557\ttrain-rmse:0.100542\teval-rmspe:0.113933\ttrain-rmspe:0.117418\n",
      "[295]\teval-rmse:0.134564\ttrain-rmse:0.100514\teval-rmspe:0.113984\ttrain-rmspe:0.117758\n",
      "[296]\teval-rmse:0.134566\ttrain-rmse:0.10048\teval-rmspe:0.113986\ttrain-rmspe:0.117724\n",
      "[297]\teval-rmse:0.134556\ttrain-rmse:0.100438\teval-rmspe:0.113956\ttrain-rmspe:0.11769\n",
      "[298]\teval-rmse:0.134565\ttrain-rmse:0.100426\teval-rmspe:0.113962\ttrain-rmspe:0.117684\n",
      "[299]\teval-rmse:0.134562\ttrain-rmse:0.100412\teval-rmspe:0.113961\ttrain-rmspe:0.11768\n"
     ]
    }
   ],
   "source": [
    "params2 = {\"objective\": \"reg:linear\",\n",
    "          \"eta\": 0.2,\n",
    "          \"max_depth\": 12,\n",
    "          \"min_child_weight\":4,\n",
    "          \"gamma\" :0.1,\n",
    "          \"subsample\": 0.7,\n",
    "          \"colsample_bytree\": 0.7,\n",
    "          \"silent\": 1\n",
    "          }\n",
    "\n",
    "start = time.time()\n",
    "gbm2 = xgb.train(params2, dtrain, 300, evals=watchlist, early_stopping_rounds=50,evals_result =ret, feval=rmspe_xg, verbose_eval=True)\n",
    "end = time.time()"
   ]
  },
  {
   "cell_type": "code",
   "execution_count": 74,
   "metadata": {},
   "outputs": [
    {
     "data": {
      "image/png": "[encoded data removed]",
      "text/plain": [
       "<Figure size 432x288 with 1 Axes>"
      ]
     },
     "metadata": {
      "needs_background": "light"
     },
     "output_type": "display_data"
    },
    {
     "data": {
      "text/plain": [
       "<matplotlib.axes._subplots.AxesSubplot at 0x1a1afe0860>"
      ]
     },
     "execution_count": 74,
     "metadata": {},
     "output_type": "execute_result"
    },
    {
     "data": {
      "image/png": "[encoded data removed]",
      "text/plain": [
       "<Figure size 432x288 with 1 Axes>"
      ]
     },
     "metadata": {
      "needs_background": "light"
     },
     "output_type": "display_data"
    }
   ],
   "source": [
    "#从最终的训练importnace中看果然是时间序列影响比较大\n",
    "evaldata = ret['eval']['rmspe'][0:num_trees:10]\n",
    "traindata = ret['train']['rmspe'][0:num_trees:10]\n",
    "plt.plot(range(0,num_trees,10),evaldata,color='red',label=\"eval\")\n",
    "plt.plot(range(0,num_trees,10),traindata,color='blue',label=\"train\")\n",
    "plt.legend(loc='best')\n",
    "y_tick = np.arange(0,1,0.1)\n",
    "plt.yticks(y_tick)\n",
    "plt.show()\n",
    "xgb.plot_importance(gbm2)"
   ]
  },
  {
   "cell_type": "code",
   "execution_count": 75,
   "metadata": {},
   "outputs": [
    {
     "name": "stdout",
     "output_type": "stream",
     "text": [
      "[  544   677   841 ... 40230 40231 40232]\n"
     ]
    }
   ],
   "source": [
    "#预测测试数据\n",
    "regetTest = pd.read_csv(\"./test.csv\")\n",
    "replaceID = regetTest[regetTest.Open == 0.0]['Id']\n",
    "print(replaceID.values)\n",
    "test_probs = gbm2.predict(dtest)\n",
    "result = pd.DataFrame({\"Id\": TESTID , 'Sales': np.exp(test_probs)})\n",
    "result.loc[result['Id'].isin(replaceID.values),'Sales'] = 0"
   ]
  },
  {
   "cell_type": "code",
   "execution_count": 76,
   "metadata": {},
   "outputs": [],
   "source": [
    "#预测测试数据输出\n",
    "result.to_csv(\"xgboost_submission.csv\", index=False)"
   ]
  },
  {
   "cell_type": "code",
   "execution_count": null,
   "metadata": {},
   "outputs": [],
   "source": []
  },
  {
   "cell_type": "code",
   "execution_count": null,
   "metadata": {},
   "outputs": [],
   "source": []
  },
  {
   "cell_type": "code",
   "execution_count": null,
   "metadata": {},
   "outputs": [],
   "source": []
  },
  {
   "cell_type": "code",
   "execution_count": null,
   "metadata": {},
   "outputs": [],
   "source": []
  },
  {
   "cell_type": "code",
   "execution_count": null,
   "metadata": {},
   "outputs": [],
   "source": []
  },
  {
   "cell_type": "code",
   "execution_count": null,
   "metadata": {},
   "outputs": [],
   "source": []
  },
  {
   "cell_type": "code",
   "execution_count": null,
   "metadata": {},
   "outputs": [],
   "source": []
  },
  {
   "cell_type": "code",
   "execution_count": null,
   "metadata": {},
   "outputs": [],
   "source": []
  },
  {
   "cell_type": "code",
   "execution_count": null,
   "metadata": {},
   "outputs": [],
   "source": []
  },
  {
   "cell_type": "code",
   "execution_count": null,
   "metadata": {},
   "outputs": [],
   "source": []
  },
  {
   "cell_type": "code",
   "execution_count": null,
   "metadata": {},
   "outputs": [],
   "source": []
  },
  {
   "cell_type": "code",
   "execution_count": null,
   "metadata": {},
   "outputs": [],
   "source": []
  },
  {
   "cell_type": "code",
   "execution_count": null,
   "metadata": {},
   "outputs": [],
   "source": []
  },
  {
   "cell_type": "code",
   "execution_count": null,
   "metadata": {},
   "outputs": [],
   "source": []
  },
  {
   "cell_type": "code",
   "execution_count": null,
   "metadata": {},
   "outputs": [],
   "source": []
  },
  {
   "cell_type": "code",
   "execution_count": null,
   "metadata": {},
   "outputs": [],
   "source": []
  },
  {
   "cell_type": "code",
   "execution_count": null,
   "metadata": {},
   "outputs": [],
   "source": []
  }
 ],
 "metadata": {
  "kernelspec": {
   "display_name": "Python 3",
   "language": "python",
   "name": "python3"
  },
  "language_info": {
   "codemirror_mode": {
    "name": "ipython",
    "version": 3
   },
   "file_extension": ".py",
   "mimetype": "text/x-python",
   "name": "python",
   "nbconvert_exporter": "python",
   "pygments_lexer": "ipython3",
   "version": "3.7.1"
  }
 },
 "nbformat": 4,
 "nbformat_minor": 2
}
