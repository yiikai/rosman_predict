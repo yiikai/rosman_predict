{
 "cells": [
  {
   "cell_type": "code",
   "execution_count": 1,
   "metadata": {},
   "outputs": [],
   "source": [
    "import numpy as np\n",
    "import pandas as pd\n",
    "import matplotlib.pyplot as plt\n",
    "from sklearn.preprocessing import OneHotEncoder,LabelEncoder,MinMaxScaler\n",
    "import xgboost as xgb\n",
    "import os\n",
    "os.environ['KMP_DUPLICATE_LIB_OK']='True'"
   ]
  },
  {
   "cell_type": "code",
   "execution_count": 2,
   "metadata": {},
   "outputs": [],
   "source": [
    "Dataset_dir = [\"./train.csv\", \"./store.csv\",\"./test.csv\"]\n",
    "pd.options.display.max_columns = None"
   ]
  },
  {
   "cell_type": "code",
   "execution_count": 3,
   "metadata": {},
   "outputs": [],
   "source": [
    "def load_data(dir):\n",
    "    data = pd.read_csv(dir[0],parse_dates=[2])\n",
    "    store = pd.read_csv(dir[1])\n",
    "    test = pd.read_csv(dir[2],parse_dates=[3])\n",
    "    return data,store,test"
   ]
  },
  {
   "cell_type": "code",
   "execution_count": 4,
   "metadata": {},
   "outputs": [
    {
     "name": "stderr",
     "output_type": "stream",
     "text": [
      "D:\\AnaconDA\\lib\\site-packages\\IPython\\core\\interactiveshell.py:3185: DtypeWarning: Columns (7) have mixed types. Specify dtype option on import or set low_memory=False.\n",
      "  if (yield from self.run_code(code, result)):\n"
     ]
    },
    {
     "name": "stdout",
     "output_type": "stream",
     "text": [
      "Index(['Store', 'DayOfWeek', 'Date', 'Sales', 'Customers', 'Open', 'Promo',\n",
      "       'StateHoliday', 'SchoolHoliday', 'StoreType', 'Assortment',\n",
      "       'CompetitionDistance', 'CompetitionOpenSinceMonth',\n",
      "       'CompetitionOpenSinceYear', 'Promo2', 'Promo2SinceWeek',\n",
      "       'Promo2SinceYear', 'PromoInterval'],\n",
      "      dtype='object')\n",
      "Index(['Id', 'Store', 'DayOfWeek', 'Date', 'Open', 'Promo', 'StateHoliday',\n",
      "       'SchoolHoliday', 'StoreType', 'Assortment', 'CompetitionDistance',\n",
      "       'CompetitionOpenSinceMonth', 'CompetitionOpenSinceYear', 'Promo2',\n",
      "       'Promo2SinceWeek', 'Promo2SinceYear', 'PromoInterval'],\n",
      "      dtype='object')\n"
     ]
    }
   ],
   "source": [
    "train,store,test = load_data(Dataset_dir)\n",
    "train = train[train['Open'] != 0]\n",
    "train = pd.merge(train, store, on='Store')\n",
    "test = pd.merge(test, store, on='Store')\n",
    "print(train.columns)\n",
    "print(test.columns)"
   ]
  },
  {
   "cell_type": "code",
   "execution_count": 5,
   "metadata": {},
   "outputs": [],
   "source": [
    "#对时间序列进行分析\n",
    "#总的销售趋势2013-2015年\n",
    "# train['date'] = pd.to_datetime(train.Date)\n",
    "# data = train.loc[:,['Sales']]\n",
    "# data = data.set_index(train.date)\n",
    "# data.plot()\n",
    "\n",
    "# weekly = data.resample('W').sum()\n",
    "# weekly.plot()\n",
    "\n",
    "# dayily = data.resample('D').sum()\n",
    "# dayily.plot()"
   ]
  },
  {
   "cell_type": "code",
   "execution_count": 6,
   "metadata": {},
   "outputs": [],
   "source": [
    "TESTID = test['Id']"
   ]
  },
  {
   "cell_type": "code",
   "execution_count": 7,
   "metadata": {},
   "outputs": [
    {
     "data": {
      "image/png": "[encoded data removed]",
      "text/plain": [
       "<Figure size 432x288 with 1 Axes>"
      ]
     },
     "metadata": {
      "needs_background": "light"
     },
     "output_type": "display_data"
    },
    {
     "data": {
      "image/png": "[encoded data removed]",
      "text/plain": [
       "<Figure size 432x288 with 1 Axes>"
      ]
     },
     "metadata": {
      "needs_background": "light"
     },
     "output_type": "display_data"
    }
   ],
   "source": [
    "train.Customers.plot(kind='box')\n",
    "plt.show()\n",
    "train.CompetitionDistance.plot(kind='box')\n",
    "plt.show()"
   ]
  },
  {
   "cell_type": "code",
   "execution_count": 8,
   "metadata": {},
   "outputs": [
    {
     "data": {
      "image/png": "[encoded data removed]",
      "text/plain": [
       "<Figure size 432x288 with 1 Axes>"
      ]
     },
     "metadata": {
      "needs_background": "light"
     },
     "output_type": "display_data"
    },
    {
     "data": {
      "image/png": "[encoded data removed]",
      "text/plain": [
       "<Figure size 432x288 with 1 Axes>"
      ]
     },
     "metadata": {
      "needs_background": "light"
     },
     "output_type": "display_data"
    }
   ],
   "source": [
    "sales_mean = train.groupby('Store')['Sales'].mean()\n",
    "plt.hist(sales_mean)\n",
    "plt.show()\n",
    "plt.hist(np.log1p(sales_mean))\n",
    "plt.show()"
   ]
  },
  {
   "cell_type": "code",
   "execution_count": 9,
   "metadata": {},
   "outputs": [],
   "source": [
    "Store_DaysWeek = train.groupby(['Store','DayOfWeek'])\n",
    "sw_mean = Store_DaysWeek[\"Sales\"].mean()"
   ]
  },
  {
   "cell_type": "code",
   "execution_count": 10,
   "metadata": {},
   "outputs": [],
   "source": [
    "def build_feature(data,istrain):\n",
    "    mappings = {'0':0, 'a':1, 'b':2, 'c':3, 'd':4}\n",
    "    data.StoreType.replace(mappings, inplace=True)\n",
    "    data.Assortment.replace(mappings, inplace=True)\n",
    "    data.StateHoliday.replace(mappings, inplace=True)\n",
    "    \n",
    "    #CART回归树不需要预处理数据和NAn值\n",
    "#     distance_max = max(data.CompetitionDistance)\n",
    "#     data.CompetitionDistance.mask(data.CompetitionDistance.isna(),other=distance_max,inplace=True)\n",
    "#     print(data.CompetitionDistance.isnull().any())\n",
    "#     min_max_scaler = MinMaxScaler()\n",
    "#     scaledata = min_max_scaler.fit_transform(data[['CompetitionDistance']])\n",
    "#     data.drop(\"CompetitionDistance\",axis=1)\n",
    "#     data['CompetitionDistance'] = scaledata\n",
    "    #时间序列问题 需要考虑进时间的因素\n",
    "    data['Year'] = data.Date.dt.year\n",
    "    data['Month'] = data.Date.dt.month\n",
    "    data['Day'] = data.Date.dt.day\n",
    "    \n",
    "    if istrain:\n",
    "        #data.drop(['Store','Open','Date','Customers','PromoInterval',],axis=1,inplace=True)\n",
    "        data.drop(['Store','Open','Date','Customers','PromoInterval','SchoolHoliday','Promo2','StateHoliday','Promo2SinceWeek'],axis=1,inplace=True)\n",
    "    else:\n",
    "        #data.drop(['Id','Store','Open','Date','PromoInterval',],axis=1,inplace=True)\n",
    "        data.drop(['Id','Store','Open','Date','PromoInterval','SchoolHoliday','Promo2','StateHoliday','Promo2SinceWeek'],axis=1,inplace=True)\n",
    "    print(data.columns)"
   ]
  },
  {
   "cell_type": "code",
   "execution_count": 11,
   "metadata": {},
   "outputs": [
    {
     "name": "stdout",
     "output_type": "stream",
     "text": [
      "Index(['DayOfWeek', 'Sales', 'Promo', 'StoreType', 'Assortment',\n",
      "       'CompetitionDistance', 'CompetitionOpenSinceMonth',\n",
      "       'CompetitionOpenSinceYear', 'Promo2SinceYear', 'Year', 'Month', 'Day'],\n",
      "      dtype='object')\n",
      "Index(['DayOfWeek', 'Promo', 'StoreType', 'Assortment', 'CompetitionDistance',\n",
      "       'CompetitionOpenSinceMonth', 'CompetitionOpenSinceYear',\n",
      "       'Promo2SinceYear', 'Year', 'Month', 'Day'],\n",
      "      dtype='object')\n"
     ]
    }
   ],
   "source": [
    "#build train data\n",
    "build_feature(train,True)\n",
    "#build test data\n",
    "build_feature(test,False)"
   ]
  },
  {
   "cell_type": "code",
   "execution_count": 12,
   "metadata": {},
   "outputs": [
    {
     "data": {
      "image/png": "[encoded data removed]",
      "text/plain": [
       "<Figure size 432x288 with 1 Axes>"
      ]
     },
     "metadata": {
      "needs_background": "light"
     },
     "output_type": "display_data"
    },
    {
     "data": {
      "image/png": "[encoded data removed]",
      "text/plain": [
       "<Figure size 432x288 with 1 Axes>"
      ]
     },
     "metadata": {
      "needs_background": "light"
     },
     "output_type": "display_data"
    },
    {
     "data": {
      "image/png": "[encoded data removed]",
      "text/plain": [
       "<Figure size 432x288 with 1 Axes>"
      ]
     },
     "metadata": {
      "needs_background": "light"
     },
     "output_type": "display_data"
    },
    {
     "data": {
      "image/png": "[encoded data removed]",
      "text/plain": [
       "<Figure size 432x288 with 1 Axes>"
      ]
     },
     "metadata": {
      "needs_background": "light"
     },
     "output_type": "display_data"
    }
   ],
   "source": [
    "ST_gp = train.groupby('StoreType')['Sales'].agg('mean')\n",
    "import seaborn as sns\n",
    "sns.barplot(ST_gp.index,ST_gp.values)\n",
    "plt.show()\n",
    "\n",
    "As_gp = train.groupby('Assortment')['Sales'].agg('mean')\n",
    "sns.barplot(As_gp.index,As_gp.values)\n",
    "plt.show()\n",
    "Dayweek_gp = train.groupby(['StoreType','DayOfWeek'])['Sales'].agg('mean')\n",
    "ax = sns.barplot(Dayweek_gp.index,Dayweek_gp.values)\n",
    "ax.set_xticklabels(ax.get_xticklabels(), rotation=90, ha=\"right\")\n",
    "plt.tight_layout()\n",
    "plt.show()\n",
    "\n",
    "#每年销售额的趋势\n",
    "YearS_gp = train.groupby(['Year'])['Sales'].agg(\"mean\")\n",
    "ax2 = sns.lineplot(YearS_gp.index,YearS_gp.values)\n",
    "plt.tight_layout()\n",
    "plt.show()"
   ]
  },
  {
   "cell_type": "code",
   "execution_count": 13,
   "metadata": {},
   "outputs": [
    {
     "name": "stdout",
     "output_type": "stream",
     "text": [
      "(834259, 12)\n",
      "(10133, 12)\n"
     ]
    },
    {
     "name": "stderr",
     "output_type": "stream",
     "text": [
      "D:\\AnaconDA\\lib\\site-packages\\pandas\\core\\frame.py:3697: SettingWithCopyWarning: \n",
      "A value is trying to be set on a copy of a slice from a DataFrame\n",
      "\n",
      "See the caveats in the documentation: http://pandas.pydata.org/pandas-docs/stable/indexing.html#indexing-view-versus-copy\n",
      "  errors=errors)\n"
     ]
    }
   ],
   "source": [
    "#split train vaild data\n",
    "from sklearn.model_selection import train_test_split\n",
    "X_train, X_valid = train_test_split(train, test_size=0.012, random_state=10)\n",
    "print(X_train.shape)\n",
    "print(X_valid.shape)\n",
    "Y_train = X_train[\"Sales\"]\n",
    "Y_valid = X_valid[\"Sales\"]\n",
    "X_train.drop(\"Sales\",axis=1,inplace=True)\n",
    "X_valid.drop(\"Sales\",axis=1,inplace=True)"
   ]
  },
  {
   "cell_type": "code",
   "execution_count": 14,
   "metadata": {},
   "outputs": [
    {
     "data": {
      "image/png": "[encoded data removed]",
      "text/plain": [
       "<Figure size 432x288 with 1 Axes>"
      ]
     },
     "metadata": {
      "needs_background": "light"
     },
     "output_type": "display_data"
    }
   ],
   "source": [
    "plt.boxplot([Y_train,Y_valid])\n",
    "plt.show()"
   ]
  },
  {
   "cell_type": "code",
   "execution_count": 15,
   "metadata": {},
   "outputs": [
    {
     "data": {
      "image/png": "[encoded data removed]",
      "text/plain": [
       "<Figure size 432x288 with 1 Axes>"
      ]
     },
     "metadata": {
      "needs_background": "light"
     },
     "output_type": "display_data"
    }
   ],
   "source": [
    "Y_train = np.log1p(Y_train)\n",
    "Y_valid = np.log1p(Y_valid)\n",
    "plt.boxplot([Y_train,Y_valid])\n",
    "plt.show()"
   ]
  },
  {
   "cell_type": "code",
   "execution_count": 16,
   "metadata": {},
   "outputs": [],
   "source": [
    "def ToWeight(y):\n",
    "    w = np.zeros(y.shape, dtype=float)\n",
    "    ind = y != 0\n",
    "    w[ind] = 1./(y[ind]**2)\n",
    "    return w\n",
    "\n",
    "def rmspe(yhat, y):\n",
    "    w = ToWeight(y)\n",
    "    rmspe = np.sqrt(np.mean( w * (y - yhat)**2 ))\n",
    "    return rmspe\n",
    "\n",
    "def rmspe_xg(yhat, y):\n",
    "    # y = y.values\n",
    "    y = y.get_label()\n",
    "    y = np.exp(y) - 1\n",
    "    yhat = np.exp(yhat) - 1\n",
    "    w = ToWeight(y)\n",
    "    rmspe = np.sqrt(np.mean(w * (y - yhat)**2))\n",
    "    return \"rmspe\", rmspe"
   ]
  },
  {
   "cell_type": "code",
   "execution_count": 17,
   "metadata": {},
   "outputs": [
    {
     "name": "stderr",
     "output_type": "stream",
     "text": [
      "D:\\AnaconDA\\lib\\site-packages\\xgboost\\core.py:587: FutureWarning: Series.base is deprecated and will be removed in a future version\n",
      "  if getattr(data, 'base', None) is not None and \\\n"
     ]
    },
    {
     "name": "stdout",
     "output_type": "stream",
     "text": [
      "[0]\teval-rmse:7.43899\ttrain-rmse:7.44362\teval-rmspe:0.999473\ttrain-rmspe:0.999493\n",
      "Multiple eval metrics have been passed: 'train-rmspe' will be used for early stopping.\n",
      "\n",
      "Will train until train-rmspe hasn't improved in 50 rounds.\n",
      "[1]\teval-rmse:6.69695\ttrain-rmse:6.70123\teval-rmspe:0.998761\ttrain-rmspe:0.998784\n",
      "[2]\teval-rmse:6.02928\ttrain-rmse:6.03326\teval-rmspe:0.997475\ttrain-rmspe:0.997503\n",
      "[3]\teval-rmse:5.42862\ttrain-rmse:5.43231\teval-rmspe:0.995307\ttrain-rmspe:0.995342\n",
      "[4]\teval-rmse:4.88827\ttrain-rmse:4.89177\teval-rmspe:0.991863\ttrain-rmspe:0.991908\n",
      "[5]\teval-rmse:4.40244\ttrain-rmse:4.40569\teval-rmspe:0.986706\ttrain-rmspe:0.986766\n",
      "[6]\teval-rmse:3.96533\ttrain-rmse:3.96831\teval-rmspe:0.979376\ttrain-rmspe:0.979453\n",
      "[7]\teval-rmse:3.57223\ttrain-rmse:3.57495\teval-rmspe:0.969419\ttrain-rmspe:0.969518\n",
      "[8]\teval-rmse:3.21907\ttrain-rmse:3.2215\teval-rmspe:0.956422\ttrain-rmspe:0.95655\n",
      "[9]\teval-rmse:2.90137\ttrain-rmse:2.90353\teval-rmspe:0.940144\ttrain-rmspe:0.940302\n",
      "[10]\teval-rmse:2.61571\ttrain-rmse:2.61774\teval-rmspe:0.920402\ttrain-rmspe:0.920602\n",
      "[11]\teval-rmse:2.35905\ttrain-rmse:2.36107\teval-rmspe:0.897157\ttrain-rmspe:0.897423\n",
      "[12]\teval-rmse:2.12875\ttrain-rmse:2.13073\teval-rmspe:0.870539\ttrain-rmspe:0.870897\n",
      "[13]\teval-rmse:1.92185\ttrain-rmse:1.92371\teval-rmspe:0.840947\ttrain-rmspe:0.841407\n",
      "[14]\teval-rmse:1.73643\ttrain-rmse:1.73809\teval-rmspe:0.808721\ttrain-rmspe:0.809304\n",
      "[15]\teval-rmse:1.57003\ttrain-rmse:1.57158\teval-rmspe:0.774381\ttrain-rmspe:0.775143\n",
      "[16]\teval-rmse:1.42129\ttrain-rmse:1.42271\teval-rmspe:0.738416\ttrain-rmspe:0.739397\n",
      "[17]\teval-rmse:1.28804\ttrain-rmse:1.28932\teval-rmspe:0.701569\ttrain-rmspe:0.702885\n",
      "[18]\teval-rmse:1.16909\ttrain-rmse:1.17024\teval-rmspe:0.664386\ttrain-rmspe:0.666105\n",
      "[19]\teval-rmse:1.06296\ttrain-rmse:1.064\teval-rmspe:0.627473\ttrain-rmspe:0.629757\n",
      "[20]\teval-rmse:0.968423\ttrain-rmse:0.969312\teval-rmspe:0.591458\ttrain-rmspe:0.594342\n",
      "[21]\teval-rmse:0.884024\ttrain-rmse:0.884732\teval-rmspe:0.556789\ttrain-rmspe:0.560354\n",
      "[22]\teval-rmse:0.809339\ttrain-rmse:0.80991\teval-rmspe:0.523938\ttrain-rmspe:0.528267\n",
      "[23]\teval-rmse:0.743485\ttrain-rmse:0.743944\teval-rmspe:0.493324\ttrain-rmspe:0.498667\n",
      "[24]\teval-rmse:0.685456\ttrain-rmse:0.685839\teval-rmspe:0.465214\ttrain-rmspe:0.471702\n",
      "[25]\teval-rmse:0.63456\ttrain-rmse:0.634832\teval-rmspe:0.439901\ttrain-rmspe:0.447659\n",
      "[26]\teval-rmse:0.590109\ttrain-rmse:0.590282\teval-rmspe:0.417501\ttrain-rmspe:0.426659\n",
      "[27]\teval-rmse:0.551541\ttrain-rmse:0.551567\teval-rmspe:0.398181\ttrain-rmspe:0.408797\n",
      "[28]\teval-rmse:0.517603\ttrain-rmse:0.517597\teval-rmspe:0.381488\ttrain-rmspe:0.393669\n",
      "[29]\teval-rmse:0.488609\ttrain-rmse:0.488459\teval-rmspe:0.367674\ttrain-rmspe:0.381456\n",
      "[30]\teval-rmse:0.463455\ttrain-rmse:0.463327\teval-rmspe:0.356148\ttrain-rmspe:0.371469\n",
      "[31]\teval-rmse:0.442218\ttrain-rmse:0.442032\teval-rmspe:0.347374\ttrain-rmspe:0.364213\n",
      "[32]\teval-rmse:0.423948\ttrain-rmse:0.423623\teval-rmspe:0.34058\ttrain-rmspe:0.358678\n",
      "[33]\teval-rmse:0.407825\ttrain-rmse:0.407576\teval-rmspe:0.335272\ttrain-rmspe:0.354735\n",
      "[34]\teval-rmse:0.394942\ttrain-rmse:0.394524\teval-rmspe:0.332148\ttrain-rmspe:0.352596\n",
      "[35]\teval-rmse:0.384184\ttrain-rmse:0.383716\teval-rmspe:0.330233\ttrain-rmspe:0.351714\n",
      "[36]\teval-rmse:0.374072\ttrain-rmse:0.373598\teval-rmspe:0.328553\ttrain-rmspe:0.35109\n",
      "[37]\teval-rmse:0.366321\ttrain-rmse:0.365878\teval-rmspe:0.328245\ttrain-rmspe:0.351525\n",
      "[38]\teval-rmse:0.359507\ttrain-rmse:0.358974\teval-rmspe:0.328238\ttrain-rmspe:0.352256\n",
      "[39]\teval-rmse:0.353987\ttrain-rmse:0.353334\teval-rmspe:0.328941\ttrain-rmspe:0.35348\n",
      "[40]\teval-rmse:0.349588\ttrain-rmse:0.34888\teval-rmspe:0.330172\ttrain-rmspe:0.355264\n",
      "[41]\teval-rmse:0.345841\ttrain-rmse:0.345122\teval-rmspe:0.331557\ttrain-rmspe:0.357124\n",
      "[42]\teval-rmse:0.342112\ttrain-rmse:0.341379\teval-rmspe:0.33196\ttrain-rmspe:0.358392\n",
      "[43]\teval-rmse:0.338465\ttrain-rmse:0.337621\teval-rmspe:0.332474\ttrain-rmspe:0.359351\n",
      "[44]\teval-rmse:0.336471\ttrain-rmse:0.335545\teval-rmspe:0.334251\ttrain-rmspe:0.361279\n",
      "[45]\teval-rmse:0.334087\ttrain-rmse:0.333055\teval-rmspe:0.334741\ttrain-rmspe:0.362347\n",
      "[46]\teval-rmse:0.33234\ttrain-rmse:0.331326\teval-rmspe:0.336029\ttrain-rmspe:0.363805\n",
      "[47]\teval-rmse:0.329994\ttrain-rmse:0.329106\teval-rmspe:0.335579\ttrain-rmspe:0.36431\n",
      "[48]\teval-rmse:0.327926\ttrain-rmse:0.327115\teval-rmspe:0.336045\ttrain-rmspe:0.365179\n",
      "[49]\teval-rmse:0.327045\ttrain-rmse:0.326153\teval-rmspe:0.337312\ttrain-rmspe:0.366547\n",
      "[50]\teval-rmse:0.325697\ttrain-rmse:0.324691\teval-rmspe:0.33794\ttrain-rmspe:0.3673\n",
      "[51]\teval-rmse:0.324897\ttrain-rmse:0.323877\teval-rmspe:0.3389\ttrain-rmspe:0.368852\n",
      "[52]\teval-rmse:0.323365\ttrain-rmse:0.322374\teval-rmspe:0.338436\ttrain-rmspe:0.369081\n",
      "[53]\teval-rmse:0.322532\ttrain-rmse:0.321584\teval-rmspe:0.338988\ttrain-rmspe:0.369799\n",
      "[54]\teval-rmse:0.321883\ttrain-rmse:0.320947\teval-rmspe:0.339549\ttrain-rmspe:0.370507\n",
      "[55]\teval-rmse:0.320574\ttrain-rmse:0.319719\teval-rmspe:0.338927\ttrain-rmspe:0.370386\n",
      "[56]\teval-rmse:0.320195\ttrain-rmse:0.319318\teval-rmspe:0.33949\ttrain-rmspe:0.371154\n",
      "[57]\teval-rmse:0.319229\ttrain-rmse:0.318352\teval-rmspe:0.339438\ttrain-rmspe:0.371298\n",
      "[58]\teval-rmse:0.318659\ttrain-rmse:0.317709\teval-rmspe:0.33973\ttrain-rmspe:0.371578\n",
      "[59]\teval-rmse:0.318236\ttrain-rmse:0.317225\teval-rmspe:0.339812\ttrain-rmspe:0.37191\n",
      "[60]\teval-rmse:0.317042\ttrain-rmse:0.315934\teval-rmspe:0.33899\ttrain-rmspe:0.370984\n",
      "[61]\teval-rmse:0.316536\ttrain-rmse:0.3154\teval-rmspe:0.339007\ttrain-rmspe:0.371105\n",
      "[62]\teval-rmse:0.315379\ttrain-rmse:0.314346\teval-rmspe:0.337928\ttrain-rmspe:0.370487\n",
      "[63]\teval-rmse:0.314981\ttrain-rmse:0.313941\teval-rmspe:0.337808\ttrain-rmspe:0.370582\n",
      "[64]\teval-rmse:0.313837\ttrain-rmse:0.312899\teval-rmspe:0.336787\ttrain-rmspe:0.369834\n",
      "[65]\teval-rmse:0.313589\ttrain-rmse:0.312636\teval-rmspe:0.336844\ttrain-rmspe:0.369905\n",
      "[66]\teval-rmse:0.313096\ttrain-rmse:0.312151\teval-rmspe:0.33665\ttrain-rmspe:0.369896\n",
      "[67]\teval-rmse:0.312678\ttrain-rmse:0.311705\teval-rmspe:0.336509\ttrain-rmspe:0.369852\n",
      "[68]\teval-rmse:0.312182\ttrain-rmse:0.311246\teval-rmspe:0.336162\ttrain-rmspe:0.369679\n",
      "[69]\teval-rmse:0.311711\ttrain-rmse:0.310737\teval-rmspe:0.335868\ttrain-rmspe:0.369278\n",
      "[70]\teval-rmse:0.310703\ttrain-rmse:0.309723\teval-rmspe:0.334882\ttrain-rmspe:0.368363\n",
      "[71]\teval-rmse:0.310406\ttrain-rmse:0.309384\teval-rmspe:0.334706\ttrain-rmspe:0.368139\n",
      "[72]\teval-rmse:0.309799\ttrain-rmse:0.308782\teval-rmspe:0.33416\ttrain-rmspe:0.367493\n",
      "[73]\teval-rmse:0.3093\ttrain-rmse:0.308345\teval-rmspe:0.33372\ttrain-rmspe:0.367184\n",
      "[74]\teval-rmse:0.308485\ttrain-rmse:0.30756\teval-rmspe:0.33282\ttrain-rmspe:0.366468\n",
      "[75]\teval-rmse:0.308261\ttrain-rmse:0.307306\teval-rmspe:0.332703\ttrain-rmspe:0.366404\n",
      "[76]\teval-rmse:0.306747\ttrain-rmse:0.305708\teval-rmspe:0.331069\ttrain-rmspe:0.364682\n",
      "[77]\teval-rmse:0.306329\ttrain-rmse:0.305369\teval-rmspe:0.330227\ttrain-rmspe:0.364274\n",
      "[78]\teval-rmse:0.305166\ttrain-rmse:0.304264\teval-rmspe:0.328983\ttrain-rmspe:0.363279\n",
      "[79]\teval-rmse:0.303914\ttrain-rmse:0.302923\teval-rmspe:0.327531\ttrain-rmspe:0.361904\n",
      "[80]\teval-rmse:0.303383\ttrain-rmse:0.302413\teval-rmspe:0.326583\ttrain-rmspe:0.361125\n",
      "[81]\teval-rmse:0.303132\ttrain-rmse:0.302176\teval-rmspe:0.3261\ttrain-rmspe:0.360804\n",
      "[82]\teval-rmse:0.302894\ttrain-rmse:0.301908\teval-rmspe:0.325892\ttrain-rmspe:0.360575\n",
      "[83]\teval-rmse:0.302787\ttrain-rmse:0.301771\teval-rmspe:0.325815\ttrain-rmspe:0.360485\n",
      "[84]\teval-rmse:0.3024\ttrain-rmse:0.301395\teval-rmspe:0.325433\ttrain-rmspe:0.360092\n",
      "[85]\teval-rmse:0.301548\ttrain-rmse:0.300529\teval-rmspe:0.324166\ttrain-rmspe:0.358648\n",
      "[86]\teval-rmse:0.301375\ttrain-rmse:0.300338\teval-rmspe:0.323935\ttrain-rmspe:0.358438\n",
      "Stopping. Best iteration:\n",
      "[36]\teval-rmse:0.374072\ttrain-rmse:0.373598\teval-rmspe:0.328553\ttrain-rmspe:0.35109\n",
      "\n",
      "Train use time: 130.53800010681152\n"
     ]
    }
   ],
   "source": [
    "params = {\"objective\": \"reg:linear\",\n",
    "          \"eta\": 0.1,\n",
    "          \"max_depth\": 5,\n",
    "          \"min_child_weight\":1,\n",
    "          \"gamma\" :0,\n",
    "          \"subsample\": 0.7,\n",
    "          \"colsample_bytree\": 0.7,\n",
    "          \"silent\": 1\n",
    "          }\n",
    "num_trees = 300\n",
    "\n",
    "dtrain = xgb.DMatrix(X_train, Y_train)\n",
    "dvalid = xgb.DMatrix(X_valid, Y_valid)\n",
    "dtest = xgb.DMatrix(test)\n",
    "watchlist = [(dvalid, 'eval'), (dtrain, 'train')]\n",
    "ret = {}\n",
    "import time\n",
    "start = time.time()\n",
    "gbm = xgb.train(params, dtrain, num_trees, evals=watchlist, early_stopping_rounds=50,evals_result =ret, feval=rmspe_xg, verbose_eval=True)\n",
    "end = time.time()\n",
    "print(\"Train use time:\",end-start)"
   ]
  },
  {
   "cell_type": "code",
   "execution_count": 20,
   "metadata": {},
   "outputs": [
    {
     "data": {
      "image/png": "[encoded data removed]",
      "text/plain": [
       "<Figure size 432x288 with 1 Axes>"
      ]
     },
     "metadata": {
      "needs_background": "light"
     },
     "output_type": "display_data"
    }
   ],
   "source": [
    "evaldata = ret['eval']['rmspe'][0:37]\n",
    "traindata = ret['train']['rmspe'][0:37]\n",
    "plt.plot(range(0,37,1),evaldata,color='red',label=\"eval\")\n",
    "plt.plot(range(0,37,1),traindata,color='blue',label=\"train\")\n",
    "plt.legend(loc='best')\n",
    "y_tick = np.arange(0,1,0.1)\n",
    "plt.yticks(y_tick)\n",
    "plt.show()"
   ]
  },
  {
   "cell_type": "code",
   "execution_count": null,
   "metadata": {},
   "outputs": [
    {
     "name": "stderr",
     "output_type": "stream",
     "text": [
      "D:\\AnaconDA\\lib\\site-packages\\xgboost\\core.py:587: FutureWarning: Series.base is deprecated and will be removed in a future version\n",
      "  if getattr(data, 'base', None) is not None and \\\n",
      "D:\\AnaconDA\\lib\\site-packages\\xgboost\\core.py:587: FutureWarning: Series.base is deprecated and will be removed in a future version\n",
      "  if getattr(data, 'base', None) is not None and \\\n",
      "D:\\AnaconDA\\lib\\site-packages\\xgboost\\core.py:587: FutureWarning: Series.base is deprecated and will be removed in a future version\n",
      "  if getattr(data, 'base', None) is not None and \\\n",
      "D:\\AnaconDA\\lib\\site-packages\\xgboost\\core.py:587: FutureWarning: Series.base is deprecated and will be removed in a future version\n",
      "  if getattr(data, 'base', None) is not None and \\\n",
      "D:\\AnaconDA\\lib\\site-packages\\xgboost\\core.py:587: FutureWarning: Series.base is deprecated and will be removed in a future version\n",
      "  if getattr(data, 'base', None) is not None and \\\n",
      "D:\\AnaconDA\\lib\\site-packages\\xgboost\\core.py:587: FutureWarning: Series.base is deprecated and will be removed in a future version\n",
      "  if getattr(data, 'base', None) is not None and \\\n",
      "D:\\AnaconDA\\lib\\site-packages\\xgboost\\core.py:587: FutureWarning: Series.base is deprecated and will be removed in a future version\n",
      "  if getattr(data, 'base', None) is not None and \\\n",
      "D:\\AnaconDA\\lib\\site-packages\\xgboost\\core.py:587: FutureWarning: Series.base is deprecated and will be removed in a future version\n",
      "  if getattr(data, 'base', None) is not None and \\\n",
      "D:\\AnaconDA\\lib\\site-packages\\xgboost\\core.py:587: FutureWarning: Series.base is deprecated and will be removed in a future version\n",
      "  if getattr(data, 'base', None) is not None and \\\n",
      "D:\\AnaconDA\\lib\\site-packages\\xgboost\\core.py:587: FutureWarning: Series.base is deprecated and will be removed in a future version\n",
      "  if getattr(data, 'base', None) is not None and \\\n",
      "D:\\AnaconDA\\lib\\site-packages\\xgboost\\core.py:587: FutureWarning: Series.base is deprecated and will be removed in a future version\n",
      "  if getattr(data, 'base', None) is not None and \\\n"
     ]
    }
   ],
   "source": [
    "from sklearn.model_selection import GridSearchCV\n",
    "from sklearn.metrics import mean_squared_error\n",
    "param_test1 = {\n",
    " 'max_depth':range(3,10,2),\n",
    " 'min_child_weight':range(1,6,2)\n",
    "}\n",
    "gsearch1 = GridSearchCV(estimator = xgb.XGBRegressor(max_depth=5,learning_rate =0.1, n_estimators=36,min_child_weight=1, gamma=0,verbose = 10,subsample=0.8,colsample_bytree=0.8,nthread=4,scale_pos_weight=1),\n",
    "                        param_grid = param_test1,scoring ='neg_mean_squared_error',cv=5)\n",
    "gsearch1.fit(X_train, Y_train)"
   ]
  },
  {
   "cell_type": "code",
   "execution_count": null,
   "metadata": {},
   "outputs": [],
   "source": [
    "#从最终的训练importnace中看果然是时间序列影响比较大\n",
    "xgb.plot_importance(gbm)"
   ]
  },
  {
   "cell_type": "code",
   "execution_count": null,
   "metadata": {},
   "outputs": [],
   "source": [
    "#预测测试数据\n",
    "regetTest = pd.read_csv(\"./test.csv\")\n",
    "replaceID = regetTest[regetTest.Open == 0.0]['Id']\n",
    "print(replaceID.values)\n",
    "test_probs = gbm.predict(dtest)\n",
    "result = pd.DataFrame({\"Id\": TESTID , 'Sales': np.exp(test_probs)})\n",
    "result.loc[result['Id'].isin(replaceID.values),'Sales'] = 0"
   ]
  },
  {
   "cell_type": "code",
   "execution_count": null,
   "metadata": {},
   "outputs": [],
   "source": [
    "#预测测试数据输出\n",
    "result.to_csv(\"xgboost_submission.csv\", index=False)"
   ]
  },
  {
   "cell_type": "code",
   "execution_count": null,
   "metadata": {},
   "outputs": [],
   "source": []
  },
  {
   "cell_type": "code",
   "execution_count": null,
   "metadata": {},
   "outputs": [],
   "source": []
  },
  {
   "cell_type": "code",
   "execution_count": null,
   "metadata": {},
   "outputs": [],
   "source": []
  },
  {
   "cell_type": "code",
   "execution_count": null,
   "metadata": {},
   "outputs": [],
   "source": []
  },
  {
   "cell_type": "code",
   "execution_count": null,
   "metadata": {},
   "outputs": [],
   "source": []
  },
  {
   "cell_type": "code",
   "execution_count": null,
   "metadata": {},
   "outputs": [],
   "source": []
  },
  {
   "cell_type": "code",
   "execution_count": null,
   "metadata": {},
   "outputs": [],
   "source": []
  },
  {
   "cell_type": "code",
   "execution_count": null,
   "metadata": {},
   "outputs": [],
   "source": []
  },
  {
   "cell_type": "code",
   "execution_count": null,
   "metadata": {},
   "outputs": [],
   "source": []
  },
  {
   "cell_type": "code",
   "execution_count": null,
   "metadata": {},
   "outputs": [],
   "source": []
  },
  {
   "cell_type": "code",
   "execution_count": null,
   "metadata": {},
   "outputs": [],
   "source": []
  },
  {
   "cell_type": "code",
   "execution_count": null,
   "metadata": {},
   "outputs": [],
   "source": []
  },
  {
   "cell_type": "code",
   "execution_count": null,
   "metadata": {},
   "outputs": [],
   "source": []
  },
  {
   "cell_type": "code",
   "execution_count": null,
   "metadata": {},
   "outputs": [],
   "source": []
  },
  {
   "cell_type": "code",
   "execution_count": null,
   "metadata": {},
   "outputs": [],
   "source": []
  },
  {
   "cell_type": "code",
   "execution_count": null,
   "metadata": {},
   "outputs": [],
   "source": []
  },
  {
   "cell_type": "code",
   "execution_count": null,
   "metadata": {},
   "outputs": [],
   "source": []
  }
 ],
 "metadata": {
  "kernelspec": {
   "display_name": "Python 3",
   "language": "python",
   "name": "python3"
  },
  "language_info": {
   "codemirror_mode": {
    "name": "ipython",
    "version": 3
   },
   "file_extension": ".py",
   "mimetype": "text/x-python",
   "name": "python",
   "nbconvert_exporter": "python",
   "pygments_lexer": "ipython3",
   "version": "3.7.1"
  }
 },
 "nbformat": 4,
 "nbformat_minor": 2
}
