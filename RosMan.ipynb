{
 "cells": [
  {
   "cell_type": "code",
   "execution_count": 1,
   "metadata": {},
   "outputs": [],
   "source": [
    "import numpy as np\n",
    "import pandas as pd\n",
    "import matplotlib.pyplot as plt\n",
    "from sklearn.preprocessing import OneHotEncoder,LabelEncoder,MinMaxScaler\n",
    "import xgboost as xgb\n",
    "import os\n",
    "os.environ['KMP_DUPLICATE_LIB_OK']='True'"
   ]
  },
  {
   "cell_type": "code",
   "execution_count": 2,
   "metadata": {},
   "outputs": [],
   "source": [
    "Dataset_dir = [\"./train.csv\", \"./store.csv\",\"./test.csv\"]\n",
    "pd.options.display.max_columns = None"
   ]
  },
  {
   "cell_type": "code",
   "execution_count": 3,
   "metadata": {},
   "outputs": [],
   "source": [
    "def load_data(dir):\n",
    "    data = pd.read_csv(dir[0],parse_dates=[2])\n",
    "    store = pd.read_csv(dir[1])\n",
    "    test = pd.read_csv(dir[2],parse_dates=[3])\n",
    "    return data,store,test"
   ]
  },
  {
   "cell_type": "code",
   "execution_count": 4,
   "metadata": {},
   "outputs": [
    {
     "name": "stderr",
     "output_type": "stream",
     "text": [
      "/anaconda3/lib/python3.7/site-packages/IPython/core/interactiveshell.py:3185: DtypeWarning: Columns (7) have mixed types. Specify dtype option on import or set low_memory=False.\n",
      "  if (yield from self.run_code(code, result)):\n"
     ]
    },
    {
     "name": "stdout",
     "output_type": "stream",
     "text": [
      "Index(['Store', 'DayOfWeek', 'Date', 'Sales', 'Customers', 'Open', 'Promo',\n",
      "       'StateHoliday', 'SchoolHoliday', 'StoreType', 'Assortment',\n",
      "       'CompetitionDistance', 'CompetitionOpenSinceMonth',\n",
      "       'CompetitionOpenSinceYear', 'Promo2', 'Promo2SinceWeek',\n",
      "       'Promo2SinceYear', 'PromoInterval'],\n",
      "      dtype='object')\n",
      "Index(['Id', 'Store', 'DayOfWeek', 'Date', 'Open', 'Promo', 'StateHoliday',\n",
      "       'SchoolHoliday', 'StoreType', 'Assortment', 'CompetitionDistance',\n",
      "       'CompetitionOpenSinceMonth', 'CompetitionOpenSinceYear', 'Promo2',\n",
      "       'Promo2SinceWeek', 'Promo2SinceYear', 'PromoInterval'],\n",
      "      dtype='object')\n"
     ]
    }
   ],
   "source": [
    "train,store,test = load_data(Dataset_dir)\n",
    "train = train[train['Open'] != 0]\n",
    "train = pd.merge(train, store, on='Store')\n",
    "test = pd.merge(test, store, on='Store')\n",
    "print(train.columns)\n",
    "print(test.columns)"
   ]
  },
  {
   "cell_type": "code",
   "execution_count": 5,
   "metadata": {},
   "outputs": [],
   "source": [
    "#对时间序列进行分析\n",
    "#总的销售趋势2013-2015年\n",
    "# train['date'] = pd.to_datetime(train.Date)\n",
    "# data = train.loc[:,['Sales']]\n",
    "# data = data.set_index(train.date)\n",
    "# data.plot()\n",
    "\n",
    "# weekly = data.resample('W').sum()\n",
    "# weekly.plot()\n",
    "\n",
    "# dayily = data.resample('D').sum()\n",
    "# dayily.plot()"
   ]
  },
  {
   "cell_type": "code",
   "execution_count": 6,
   "metadata": {},
   "outputs": [],
   "source": [
    "TESTID = test['Id']"
   ]
  },
  {
   "cell_type": "code",
   "execution_count": 7,
   "metadata": {},
   "outputs": [
    {
     "data": {
      "image/png": "[encoded data removed]",
      "text/plain": [
       "<Figure size 432x288 with 1 Axes>"
      ]
     },
     "metadata": {
      "needs_background": "light"
     },
     "output_type": "display_data"
    },
    {
     "data": {
      "image/png": "[encoded data removed]",
      "text/plain": [
       "<Figure size 432x288 with 1 Axes>"
      ]
     },
     "metadata": {
      "needs_background": "light"
     },
     "output_type": "display_data"
    }
   ],
   "source": [
    "train.Customers.plot(kind='box')\n",
    "plt.show()\n",
    "train.CompetitionDistance.plot(kind='box')\n",
    "plt.show()"
   ]
  },
  {
   "cell_type": "code",
   "execution_count": 8,
   "metadata": {},
   "outputs": [
    {
     "data": {
      "image/png": "[encoded data removed]",
      "text/plain": [
       "<Figure size 432x288 with 1 Axes>"
      ]
     },
     "metadata": {
      "needs_background": "light"
     },
     "output_type": "display_data"
    },
    {
     "data": {
      "image/png": "[encoded data removed]",
      "text/plain": [
       "<Figure size 432x288 with 1 Axes>"
      ]
     },
     "metadata": {
      "needs_background": "light"
     },
     "output_type": "display_data"
    }
   ],
   "source": [
    "sales_mean = train.groupby('Store')['Sales'].mean()\n",
    "plt.hist(sales_mean)\n",
    "plt.show()\n",
    "plt.hist(np.log1p(sales_mean))\n",
    "plt.show()"
   ]
  },
  {
   "cell_type": "code",
   "execution_count": 9,
   "metadata": {},
   "outputs": [],
   "source": [
    "Store_DaysWeek = train.groupby(['Store','DayOfWeek'])\n",
    "sw_mean = Store_DaysWeek[\"Sales\"].mean()"
   ]
  },
  {
   "cell_type": "code",
   "execution_count": 10,
   "metadata": {},
   "outputs": [],
   "source": [
    "def build_feature(data,istrain):\n",
    "    mappings = {'0':0, 'a':1, 'b':2, 'c':3, 'd':4}\n",
    "    data.StoreType.replace(mappings, inplace=True)\n",
    "    data.Assortment.replace(mappings, inplace=True)\n",
    "    data.StateHoliday.replace(mappings, inplace=True)\n",
    "    \n",
    "    #CART回归树不需要预处理数据和NAn值\n",
    "#     distance_max = max(data.CompetitionDistance)\n",
    "#     data.CompetitionDistance.mask(data.CompetitionDistance.isna(),other=distance_max,inplace=True)\n",
    "#     print(data.CompetitionDistance.isnull().any())\n",
    "#     min_max_scaler = MinMaxScaler()\n",
    "#     scaledata = min_max_scaler.fit_transform(data[['CompetitionDistance']])\n",
    "#     data.drop(\"CompetitionDistance\",axis=1)\n",
    "#     data['CompetitionDistance'] = scaledata\n",
    "    #时间序列问题 需要考虑进时间的因素\n",
    "    data['Year'] = data.Date.dt.year\n",
    "    print(data['Year'].dtype)\n",
    "    data['Month'] = data.Date.dt.month\n",
    "    data['Day'] = data.Date.dt.day\n",
    "    \n",
    "    if istrain:\n",
    "        data.drop(['Store','Open','Date','Customers','PromoInterval',],axis=1,inplace=True)\n",
    "        #data.drop(['Store','Open','Date','Customers','PromoInterval','SchoolHoliday','Promo2','StateHoliday','Promo2SinceWeek'],axis=1,inplace=True)\n",
    "    else:\n",
    "        data.drop(['Id','Store','Open','Date','PromoInterval',],axis=1,inplace=True)\n",
    "        #data.drop(['Id','Store','Open','Date','PromoInterval','SchoolHoliday','Promo2','StateHoliday','Promo2SinceWeek'],axis=1,inplace=True)\n",
    "    print(data.columns)"
   ]
  },
  {
   "cell_type": "code",
   "execution_count": 11,
   "metadata": {},
   "outputs": [
    {
     "name": "stdout",
     "output_type": "stream",
     "text": [
      "int64\n",
      "Index(['DayOfWeek', 'Sales', 'Promo', 'StateHoliday', 'SchoolHoliday',\n",
      "       'StoreType', 'Assortment', 'CompetitionDistance',\n",
      "       'CompetitionOpenSinceMonth', 'CompetitionOpenSinceYear', 'Promo2',\n",
      "       'Promo2SinceWeek', 'Promo2SinceYear', 'Year', 'Month', 'Day'],\n",
      "      dtype='object')\n",
      "int64\n",
      "Index(['DayOfWeek', 'Promo', 'StateHoliday', 'SchoolHoliday', 'StoreType',\n",
      "       'Assortment', 'CompetitionDistance', 'CompetitionOpenSinceMonth',\n",
      "       'CompetitionOpenSinceYear', 'Promo2', 'Promo2SinceWeek',\n",
      "       'Promo2SinceYear', 'Year', 'Month', 'Day'],\n",
      "      dtype='object')\n"
     ]
    }
   ],
   "source": [
    "#build train data\n",
    "build_feature(train,True)\n",
    "#build test data\n",
    "build_feature(test,False)"
   ]
  },
  {
   "cell_type": "code",
   "execution_count": 12,
   "metadata": {},
   "outputs": [
    {
     "data": {
      "image/png": "[encoded data removed]",
      "text/plain": [
       "<Figure size 432x288 with 1 Axes>"
      ]
     },
     "metadata": {
      "needs_background": "light"
     },
     "output_type": "display_data"
    },
    {
     "data": {
      "image/png": "[encoded data removed]",
      "text/plain": [
       "<Figure size 432x288 with 1 Axes>"
      ]
     },
     "metadata": {
      "needs_background": "light"
     },
     "output_type": "display_data"
    },
    {
     "data": {
      "image/png": "[encoded data removed]",
      "text/plain": [
       "<Figure size 432x288 with 1 Axes>"
      ]
     },
     "metadata": {
      "needs_background": "light"
     },
     "output_type": "display_data"
    },
    {
     "data": {
      "image/png": "[encoded data removed]",
      "text/plain": [
       "<Figure size 432x288 with 1 Axes>"
      ]
     },
     "metadata": {
      "needs_background": "light"
     },
     "output_type": "display_data"
    }
   ],
   "source": [
    "ST_gp = train.groupby('StoreType')['Sales'].agg('mean')\n",
    "import seaborn as sns\n",
    "sns.barplot(ST_gp.index,ST_gp.values)\n",
    "plt.show()\n",
    "\n",
    "As_gp = train.groupby('Assortment')['Sales'].agg('mean')\n",
    "sns.barplot(As_gp.index,As_gp.values)\n",
    "plt.show()\n",
    "Dayweek_gp = train.groupby(['StoreType','DayOfWeek'])['Sales'].agg('mean')\n",
    "ax = sns.barplot(Dayweek_gp.index,Dayweek_gp.values)\n",
    "ax.set_xticklabels(ax.get_xticklabels(), rotation=90, ha=\"right\")\n",
    "plt.tight_layout()\n",
    "plt.show()\n",
    "\n",
    "#每年销售额的趋势\n",
    "YearS_gp = train.groupby(['Year'])['Sales'].agg(\"mean\")\n",
    "ax2 = sns.lineplot(YearS_gp.index,YearS_gp.values)\n",
    "plt.tight_layout()\n",
    "plt.show()"
   ]
  },
  {
   "cell_type": "code",
   "execution_count": 13,
   "metadata": {},
   "outputs": [
    {
     "name": "stdout",
     "output_type": "stream",
     "text": [
      "(834259, 16)\n",
      "(10133, 16)\n"
     ]
    },
    {
     "name": "stderr",
     "output_type": "stream",
     "text": [
      "/anaconda3/lib/python3.7/site-packages/pandas/core/frame.py:3697: SettingWithCopyWarning: \n",
      "A value is trying to be set on a copy of a slice from a DataFrame\n",
      "\n",
      "See the caveats in the documentation: http://pandas.pydata.org/pandas-docs/stable/indexing.html#indexing-view-versus-copy\n",
      "  errors=errors)\n"
     ]
    }
   ],
   "source": [
    "#split train vaild data\n",
    "from sklearn.model_selection import train_test_split\n",
    "X_train, X_valid = train_test_split(train, test_size=0.012, random_state=10)\n",
    "print(X_train.shape)\n",
    "print(X_valid.shape)\n",
    "Y_train = X_train[\"Sales\"]\n",
    "Y_valid = X_valid[\"Sales\"]\n",
    "X_train.drop(\"Sales\",axis=1,inplace=True)\n",
    "X_valid.drop(\"Sales\",axis=1,inplace=True)"
   ]
  },
  {
   "cell_type": "code",
   "execution_count": 14,
   "metadata": {},
   "outputs": [
    {
     "data": {
      "image/png": "[encoded data removed]",
      "text/plain": [
       "<Figure size 432x288 with 1 Axes>"
      ]
     },
     "metadata": {
      "needs_background": "light"
     },
     "output_type": "display_data"
    }
   ],
   "source": [
    "plt.boxplot([Y_train,Y_valid])\n",
    "plt.show()"
   ]
  },
  {
   "cell_type": "code",
   "execution_count": 15,
   "metadata": {},
   "outputs": [
    {
     "data": {
      "image/png": "[encoded data removed]",
      "text/plain": [
       "<Figure size 432x288 with 1 Axes>"
      ]
     },
     "metadata": {
      "needs_background": "light"
     },
     "output_type": "display_data"
    }
   ],
   "source": [
    "Y_train = np.log1p(Y_train)\n",
    "Y_valid = np.log1p(Y_valid)\n",
    "plt.boxplot([Y_train,Y_valid])\n",
    "plt.show()"
   ]
  },
  {
   "cell_type": "code",
   "execution_count": 16,
   "metadata": {},
   "outputs": [],
   "source": [
    "def ToWeight(y):\n",
    "    w = np.zeros(y.shape, dtype=float)\n",
    "    ind = y != 0\n",
    "    w[ind] = 1./(y[ind]**2)\n",
    "    return w\n",
    "\n",
    "def rmspe(yhat, y):\n",
    "    w = ToWeight(y)\n",
    "    rmspe = np.sqrt(np.mean( w * (y - yhat)**2 ))\n",
    "    return rmspe\n",
    "\n",
    "def rmspe_xg(yhat, y):\n",
    "    # y = y.values\n",
    "    y = y.get_label()\n",
    "    y = np.exp(y) - 1\n",
    "    yhat = np.exp(yhat) - 1\n",
    "    w = ToWeight(y)\n",
    "    rmspe = np.sqrt(np.mean(w * (y - yhat)**2))\n",
    "    return \"rmspe\", rmspe"
   ]
  },
  {
   "cell_type": "code",
   "execution_count": 17,
   "metadata": {},
   "outputs": [
    {
     "name": "stdout",
     "output_type": "stream",
     "text": [
      "[0]\tvalidation_0-rmse:7.44316\tvalidation_1-rmse:7.43881\tvalidation_0-rmspe:0.999496\tvalidation_1-rmspe:0.999477\n",
      "Multiple eval metrics have been passed: 'validation_1-rmspe' will be used for early stopping.\n",
      "\n",
      "Will train until validation_1-rmspe hasn't improved in 20 rounds.\n",
      "[1]\tvalidation_0-rmse:6.70054\tvalidation_1-rmse:6.69643\tvalidation_0-rmspe:0.998795\tvalidation_1-rmspe:0.998772\n",
      "[2]\tvalidation_0-rmse:6.03232\tvalidation_1-rmse:6.02851\tvalidation_0-rmspe:0.997528\tvalidation_1-rmspe:0.997503\n",
      "[3]\tvalidation_0-rmse:5.43099\tvalidation_1-rmse:5.42763\tvalidation_0-rmspe:0.995396\tvalidation_1-rmspe:0.995367\n",
      "[4]\tvalidation_0-rmse:4.89004\tvalidation_1-rmse:4.8868\tvalidation_0-rmspe:0.99202\tvalidation_1-rmspe:0.991985\n",
      "[5]\tvalidation_0-rmse:4.40302\tvalidation_1-rmse:4.40018\tvalidation_0-rmspe:0.986987\tvalidation_1-rmspe:0.986947\n",
      "[6]\tvalidation_0-rmse:3.96492\tvalidation_1-rmse:3.96258\tvalidation_0-rmspe:0.97983\tvalidation_1-rmspe:0.97979\n",
      "[7]\tvalidation_0-rmse:3.57104\tvalidation_1-rmse:3.56889\tvalidation_0-rmspe:0.970071\tvalidation_1-rmspe:0.970023\n",
      "[8]\tvalidation_0-rmse:3.21664\tvalidation_1-rmse:3.21482\tvalidation_0-rmspe:0.957376\tvalidation_1-rmspe:0.957323\n",
      "[9]\tvalidation_0-rmse:2.89795\tvalidation_1-rmse:2.89634\tvalidation_0-rmspe:0.941418\tvalidation_1-rmspe:0.94135\n",
      "[10]\tvalidation_0-rmse:2.61097\tvalidation_1-rmse:2.60946\tvalidation_0-rmspe:0.922163\tvalidation_1-rmspe:0.922077\n",
      "[11]\tvalidation_0-rmse:2.35332\tvalidation_1-rmse:2.35201\tvalidation_0-rmspe:0.899371\tvalidation_1-rmspe:0.89925\n",
      "[12]\tvalidation_0-rmse:2.12114\tvalidation_1-rmse:2.12006\tvalidation_0-rmspe:0.87345\tvalidation_1-rmspe:0.873263\n",
      "[13]\tvalidation_0-rmse:1.913\tvalidation_1-rmse:1.91203\tvalidation_0-rmspe:0.844338\tvalidation_1-rmspe:0.844052\n",
      "[14]\tvalidation_0-rmse:1.72594\tvalidation_1-rmse:1.72506\tvalidation_0-rmspe:0.812595\tvalidation_1-rmspe:0.812166\n",
      "[15]\tvalidation_0-rmse:1.55771\tvalidation_1-rmse:1.55686\tvalidation_0-rmspe:0.77873\tvalidation_1-rmspe:0.778081\n",
      "[16]\tvalidation_0-rmse:1.40591\tvalidation_1-rmse:1.40518\tvalidation_0-rmspe:0.743366\tvalidation_1-rmspe:0.742446\n",
      "[17]\tvalidation_0-rmse:1.27036\tvalidation_1-rmse:1.26969\tvalidation_0-rmspe:0.706655\tvalidation_1-rmspe:0.705388\n",
      "[18]\tvalidation_0-rmse:1.1488\tvalidation_1-rmse:1.14828\tvalidation_0-rmspe:0.669388\tvalidation_1-rmspe:0.66769\n",
      "[19]\tvalidation_0-rmse:1.03886\tvalidation_1-rmse:1.03866\tvalidation_0-rmspe:0.632257\tvalidation_1-rmspe:0.630068\n",
      "[20]\tvalidation_0-rmse:0.941503\tvalidation_1-rmse:0.94142\tvalidation_0-rmspe:0.59539\tvalidation_1-rmspe:0.592555\n",
      "[21]\tvalidation_0-rmse:0.85414\tvalidation_1-rmse:0.854304\tvalidation_0-rmspe:0.55942\tvalidation_1-rmspe:0.555892\n",
      "[22]\tvalidation_0-rmse:0.775702\tvalidation_1-rmse:0.776026\tvalidation_0-rmspe:0.524741\tvalidation_1-rmspe:0.520378\n",
      "[23]\tvalidation_0-rmse:0.705611\tvalidation_1-rmse:0.706132\tvalidation_0-rmspe:0.491799\tvalidation_1-rmspe:0.486364\n",
      "[24]\tvalidation_0-rmse:0.643308\tvalidation_1-rmse:0.644151\tvalidation_0-rmspe:0.460801\tvalidation_1-rmspe:0.454181\n",
      "[25]\tvalidation_0-rmse:0.587677\tvalidation_1-rmse:0.588827\tvalidation_0-rmspe:0.431875\tvalidation_1-rmspe:0.423921\n",
      "[26]\tvalidation_0-rmse:0.538438\tvalidation_1-rmse:0.539772\tvalidation_0-rmspe:0.404833\tvalidation_1-rmspe:0.39574\n",
      "[27]\tvalidation_0-rmse:0.494877\tvalidation_1-rmse:0.496443\tvalidation_0-rmspe:0.380108\tvalidation_1-rmspe:0.36988\n",
      "[28]\tvalidation_0-rmse:0.455701\tvalidation_1-rmse:0.457526\tvalidation_0-rmspe:0.358189\tvalidation_1-rmspe:0.345967\n",
      "[29]\tvalidation_0-rmse:0.421823\tvalidation_1-rmse:0.423959\tvalidation_0-rmspe:0.338182\tvalidation_1-rmspe:0.324661\n",
      "[30]\tvalidation_0-rmse:0.39146\tvalidation_1-rmse:0.393655\tvalidation_0-rmspe:0.320659\tvalidation_1-rmspe:0.305141\n",
      "[31]\tvalidation_0-rmse:0.365014\tvalidation_1-rmse:0.367549\tvalidation_0-rmspe:0.305508\tvalidation_1-rmspe:0.288007\n",
      "[32]\tvalidation_0-rmse:0.341521\tvalidation_1-rmse:0.344303\tvalidation_0-rmspe:0.292147\tvalidation_1-rmspe:0.272594\n",
      "[33]\tvalidation_0-rmse:0.321911\tvalidation_1-rmse:0.32505\tvalidation_0-rmspe:0.277903\tvalidation_1-rmspe:0.259901\n",
      "[34]\tvalidation_0-rmse:0.304857\tvalidation_1-rmse:0.308479\tvalidation_0-rmspe:0.268325\tvalidation_1-rmspe:0.249126\n",
      "[35]\tvalidation_0-rmse:0.288856\tvalidation_1-rmse:0.292781\tvalidation_0-rmspe:0.259428\tvalidation_1-rmspe:0.238912\n",
      "[36]\tvalidation_0-rmse:0.27606\tvalidation_1-rmse:0.280445\tvalidation_0-rmspe:0.252592\tvalidation_1-rmspe:0.231212\n",
      "[37]\tvalidation_0-rmse:0.265019\tvalidation_1-rmse:0.269831\tvalidation_0-rmspe:0.247255\tvalidation_1-rmspe:0.224696\n",
      "[38]\tvalidation_0-rmse:0.254305\tvalidation_1-rmse:0.259503\tvalidation_0-rmspe:0.241946\tvalidation_1-rmspe:0.218182\n",
      "[39]\tvalidation_0-rmse:0.245515\tvalidation_1-rmse:0.250992\tvalidation_0-rmspe:0.238028\tvalidation_1-rmspe:0.213064\n",
      "[40]\tvalidation_0-rmse:0.235942\tvalidation_1-rmse:0.241717\tvalidation_0-rmspe:0.233002\tvalidation_1-rmspe:0.206941\n",
      "[41]\tvalidation_0-rmse:0.229714\tvalidation_1-rmse:0.235772\tvalidation_0-rmspe:0.230587\tvalidation_1-rmspe:0.20366\n",
      "[42]\tvalidation_0-rmse:0.223762\tvalidation_1-rmse:0.230099\tvalidation_0-rmspe:0.227804\tvalidation_1-rmspe:0.200346\n",
      "[43]\tvalidation_0-rmse:0.218856\tvalidation_1-rmse:0.225423\tvalidation_0-rmspe:0.226004\tvalidation_1-rmspe:0.197735\n",
      "[44]\tvalidation_0-rmse:0.215177\tvalidation_1-rmse:0.221993\tvalidation_0-rmspe:0.224854\tvalidation_1-rmspe:0.196268\n",
      "[45]\tvalidation_0-rmse:0.21139\tvalidation_1-rmse:0.218303\tvalidation_0-rmspe:0.223323\tvalidation_1-rmspe:0.1945\n",
      "[46]\tvalidation_0-rmse:0.206996\tvalidation_1-rmse:0.214063\tvalidation_0-rmspe:0.221117\tvalidation_1-rmspe:0.191672\n",
      "[47]\tvalidation_0-rmse:0.204384\tvalidation_1-rmse:0.211796\tvalidation_0-rmspe:0.219899\tvalidation_1-rmspe:0.19084\n",
      "[48]\tvalidation_0-rmse:0.200376\tvalidation_1-rmse:0.208061\tvalidation_0-rmspe:0.217869\tvalidation_1-rmspe:0.188424\n",
      "[49]\tvalidation_0-rmse:0.197528\tvalidation_1-rmse:0.20543\tvalidation_0-rmspe:0.216946\tvalidation_1-rmspe:0.186677\n",
      "[50]\tvalidation_0-rmse:0.195013\tvalidation_1-rmse:0.203016\tvalidation_0-rmspe:0.215917\tvalidation_1-rmspe:0.185278\n",
      "[51]\tvalidation_0-rmse:0.190976\tvalidation_1-rmse:0.199514\tvalidation_0-rmspe:0.2131\tvalidation_1-rmspe:0.182281\n",
      "[52]\tvalidation_0-rmse:0.187248\tvalidation_1-rmse:0.196002\tvalidation_0-rmspe:0.210941\tvalidation_1-rmspe:0.179328\n",
      "[53]\tvalidation_0-rmse:0.185997\tvalidation_1-rmse:0.195006\tvalidation_0-rmspe:0.210691\tvalidation_1-rmspe:0.179045\n",
      "[54]\tvalidation_0-rmse:0.184658\tvalidation_1-rmse:0.193773\tvalidation_0-rmspe:0.210155\tvalidation_1-rmspe:0.178371\n",
      "[55]\tvalidation_0-rmse:0.183389\tvalidation_1-rmse:0.19285\tvalidation_0-rmspe:0.205696\tvalidation_1-rmspe:0.177932\n",
      "[56]\tvalidation_0-rmse:0.182329\tvalidation_1-rmse:0.19196\tvalidation_0-rmspe:0.205154\tvalidation_1-rmspe:0.177476\n",
      "[57]\tvalidation_0-rmse:0.179001\tvalidation_1-rmse:0.188864\tvalidation_0-rmspe:0.202819\tvalidation_1-rmspe:0.174344\n",
      "[58]\tvalidation_0-rmse:0.177364\tvalidation_1-rmse:0.187558\tvalidation_0-rmspe:0.201608\tvalidation_1-rmspe:0.173274\n",
      "[59]\tvalidation_0-rmse:0.176313\tvalidation_1-rmse:0.186793\tvalidation_0-rmspe:0.200712\tvalidation_1-rmspe:0.172721\n",
      "[60]\tvalidation_0-rmse:0.175037\tvalidation_1-rmse:0.185667\tvalidation_0-rmspe:0.199878\tvalidation_1-rmspe:0.171817\n",
      "[61]\tvalidation_0-rmse:0.173159\tvalidation_1-rmse:0.183972\tvalidation_0-rmspe:0.198522\tvalidation_1-rmspe:0.170244\n",
      "[62]\tvalidation_0-rmse:0.170961\tvalidation_1-rmse:0.182116\tvalidation_0-rmspe:0.196364\tvalidation_1-rmspe:0.16826\n",
      "[63]\tvalidation_0-rmse:0.169988\tvalidation_1-rmse:0.181558\tvalidation_0-rmspe:0.190404\tvalidation_1-rmspe:0.167786\n",
      "[64]\tvalidation_0-rmse:0.167951\tvalidation_1-rmse:0.179799\tvalidation_0-rmspe:0.188815\tvalidation_1-rmspe:0.165987\n",
      "[65]\tvalidation_0-rmse:0.166402\tvalidation_1-rmse:0.17841\tvalidation_0-rmspe:0.187566\tvalidation_1-rmspe:0.16462\n",
      "[66]\tvalidation_0-rmse:0.165863\tvalidation_1-rmse:0.178061\tvalidation_0-rmspe:0.186901\tvalidation_1-rmspe:0.164386\n",
      "[67]\tvalidation_0-rmse:0.165028\tvalidation_1-rmse:0.177388\tvalidation_0-rmspe:0.183674\tvalidation_1-rmspe:0.163757\n",
      "[68]\tvalidation_0-rmse:0.16409\tvalidation_1-rmse:0.17655\tvalidation_0-rmspe:0.182952\tvalidation_1-rmspe:0.163002\n",
      "[69]\tvalidation_0-rmse:0.16327\tvalidation_1-rmse:0.175819\tvalidation_0-rmspe:0.18227\tvalidation_1-rmspe:0.162285\n",
      "[70]\tvalidation_0-rmse:0.163012\tvalidation_1-rmse:0.175609\tvalidation_0-rmspe:0.182161\tvalidation_1-rmspe:0.162184\n"
     ]
    },
    {
     "name": "stdout",
     "output_type": "stream",
     "text": [
      "[71]\tvalidation_0-rmse:0.161965\tvalidation_1-rmse:0.174728\tvalidation_0-rmspe:0.181241\tvalidation_1-rmspe:0.161268\n",
      "[72]\tvalidation_0-rmse:0.159259\tvalidation_1-rmse:0.17245\tvalidation_0-rmspe:0.178468\tvalidation_1-rmspe:0.158611\n",
      "[73]\tvalidation_0-rmse:0.157495\tvalidation_1-rmse:0.170911\tvalidation_0-rmspe:0.172865\tvalidation_1-rmspe:0.156702\n",
      "[74]\tvalidation_0-rmse:0.156984\tvalidation_1-rmse:0.170652\tvalidation_0-rmspe:0.172365\tvalidation_1-rmspe:0.156467\n",
      "[75]\tvalidation_0-rmse:0.155437\tvalidation_1-rmse:0.169284\tvalidation_0-rmspe:0.171088\tvalidation_1-rmspe:0.154947\n",
      "[76]\tvalidation_0-rmse:0.154274\tvalidation_1-rmse:0.168095\tvalidation_0-rmspe:0.169983\tvalidation_1-rmspe:0.153729\n",
      "[77]\tvalidation_0-rmse:0.152825\tvalidation_1-rmse:0.166888\tvalidation_0-rmspe:0.168535\tvalidation_1-rmspe:0.152378\n",
      "[78]\tvalidation_0-rmse:0.152245\tvalidation_1-rmse:0.166514\tvalidation_0-rmspe:0.168036\tvalidation_1-rmspe:0.151953\n",
      "[79]\tvalidation_0-rmse:0.152121\tvalidation_1-rmse:0.166389\tvalidation_0-rmspe:0.167999\tvalidation_1-rmspe:0.15185\n",
      "[80]\tvalidation_0-rmse:0.151716\tvalidation_1-rmse:0.166119\tvalidation_0-rmspe:0.167641\tvalidation_1-rmspe:0.151571\n",
      "[81]\tvalidation_0-rmse:0.151205\tvalidation_1-rmse:0.165964\tvalidation_0-rmspe:0.1671\tvalidation_1-rmspe:0.151276\n",
      "[82]\tvalidation_0-rmse:0.150509\tvalidation_1-rmse:0.165378\tvalidation_0-rmspe:0.166402\tvalidation_1-rmspe:0.150695\n",
      "[83]\tvalidation_0-rmse:0.149559\tvalidation_1-rmse:0.16465\tvalidation_0-rmspe:0.165524\tvalidation_1-rmspe:0.149878\n",
      "[84]\tvalidation_0-rmse:0.148499\tvalidation_1-rmse:0.163851\tvalidation_0-rmspe:0.164742\tvalidation_1-rmspe:0.14902\n",
      "[85]\tvalidation_0-rmse:0.147638\tvalidation_1-rmse:0.163149\tvalidation_0-rmspe:0.163937\tvalidation_1-rmspe:0.148273\n",
      "[86]\tvalidation_0-rmse:0.146422\tvalidation_1-rmse:0.162163\tvalidation_0-rmspe:0.162762\tvalidation_1-rmspe:0.147117\n",
      "[87]\tvalidation_0-rmse:0.144897\tvalidation_1-rmse:0.160904\tvalidation_0-rmspe:0.16131\tvalidation_1-rmspe:0.145653\n",
      "[88]\tvalidation_0-rmse:0.143843\tvalidation_1-rmse:0.160008\tvalidation_0-rmspe:0.160147\tvalidation_1-rmspe:0.144615\n",
      "[89]\tvalidation_0-rmse:0.143359\tvalidation_1-rmse:0.159766\tvalidation_0-rmspe:0.159476\tvalidation_1-rmspe:0.14429\n",
      "[90]\tvalidation_0-rmse:0.142805\tvalidation_1-rmse:0.15938\tvalidation_0-rmspe:0.158906\tvalidation_1-rmspe:0.14394\n",
      "[91]\tvalidation_0-rmse:0.141982\tvalidation_1-rmse:0.158705\tvalidation_0-rmspe:0.158198\tvalidation_1-rmspe:0.143144\n",
      "[92]\tvalidation_0-rmse:0.141143\tvalidation_1-rmse:0.158062\tvalidation_0-rmspe:0.154554\tvalidation_1-rmspe:0.142389\n",
      "[93]\tvalidation_0-rmse:0.140032\tvalidation_1-rmse:0.157184\tvalidation_0-rmspe:0.153426\tvalidation_1-rmspe:0.141383\n",
      "[94]\tvalidation_0-rmse:0.139457\tvalidation_1-rmse:0.156798\tvalidation_0-rmspe:0.15291\tvalidation_1-rmspe:0.14095\n",
      "[95]\tvalidation_0-rmse:0.138704\tvalidation_1-rmse:0.156181\tvalidation_0-rmspe:0.152167\tvalidation_1-rmspe:0.140182\n",
      "[96]\tvalidation_0-rmse:0.137758\tvalidation_1-rmse:0.155351\tvalidation_0-rmspe:0.15118\tvalidation_1-rmspe:0.139205\n",
      "[97]\tvalidation_0-rmse:0.137157\tvalidation_1-rmse:0.154855\tvalidation_0-rmspe:0.150589\tvalidation_1-rmspe:0.1386\n",
      "[98]\tvalidation_0-rmse:0.136597\tvalidation_1-rmse:0.154505\tvalidation_0-rmspe:0.150025\tvalidation_1-rmspe:0.138185\n",
      "[99]\tvalidation_0-rmse:0.135845\tvalidation_1-rmse:0.153919\tvalidation_0-rmspe:0.149225\tvalidation_1-rmspe:0.137474\n",
      "[100]\tvalidation_0-rmse:0.134736\tvalidation_1-rmse:0.153137\tvalidation_0-rmspe:0.148182\tvalidation_1-rmspe:0.136545\n",
      "[101]\tvalidation_0-rmse:0.133985\tvalidation_1-rmse:0.15255\tvalidation_0-rmspe:0.147373\tvalidation_1-rmspe:0.135869\n",
      "[102]\tvalidation_0-rmse:0.133551\tvalidation_1-rmse:0.152244\tvalidation_0-rmspe:0.14466\tvalidation_1-rmspe:0.135495\n",
      "[103]\tvalidation_0-rmse:0.133104\tvalidation_1-rmse:0.151868\tvalidation_0-rmspe:0.144189\tvalidation_1-rmspe:0.135046\n",
      "[104]\tvalidation_0-rmse:0.131777\tvalidation_1-rmse:0.150821\tvalidation_0-rmspe:0.14298\tvalidation_1-rmspe:0.133736\n",
      "[105]\tvalidation_0-rmse:0.131218\tvalidation_1-rmse:0.150375\tvalidation_0-rmspe:0.142287\tvalidation_1-rmspe:0.133221\n",
      "[106]\tvalidation_0-rmse:0.130854\tvalidation_1-rmse:0.150287\tvalidation_0-rmspe:0.141972\tvalidation_1-rmspe:0.133054\n",
      "[107]\tvalidation_0-rmse:0.130392\tvalidation_1-rmse:0.150097\tvalidation_0-rmspe:0.141608\tvalidation_1-rmspe:0.132816\n",
      "[108]\tvalidation_0-rmse:0.129842\tvalidation_1-rmse:0.149728\tvalidation_0-rmspe:0.140978\tvalidation_1-rmspe:0.132399\n",
      "[109]\tvalidation_0-rmse:0.129234\tvalidation_1-rmse:0.149401\tvalidation_0-rmspe:0.140425\tvalidation_1-rmspe:0.132054\n",
      "[110]\tvalidation_0-rmse:0.128833\tvalidation_1-rmse:0.149158\tvalidation_0-rmspe:0.140071\tvalidation_1-rmspe:0.131742\n",
      "[111]\tvalidation_0-rmse:0.128009\tvalidation_1-rmse:0.148519\tvalidation_0-rmspe:0.139278\tvalidation_1-rmspe:0.130942\n",
      "[112]\tvalidation_0-rmse:0.12781\tvalidation_1-rmse:0.148414\tvalidation_0-rmspe:0.1391\tvalidation_1-rmspe:0.130808\n",
      "[113]\tvalidation_0-rmse:0.127385\tvalidation_1-rmse:0.148344\tvalidation_0-rmspe:0.138747\tvalidation_1-rmspe:0.130683\n",
      "[114]\tvalidation_0-rmse:0.126734\tvalidation_1-rmse:0.147843\tvalidation_0-rmspe:0.138042\tvalidation_1-rmspe:0.130035\n",
      "[115]\tvalidation_0-rmse:0.126094\tvalidation_1-rmse:0.147627\tvalidation_0-rmspe:0.137256\tvalidation_1-rmspe:0.129775\n",
      "[116]\tvalidation_0-rmse:0.125354\tvalidation_1-rmse:0.147044\tvalidation_0-rmspe:0.13641\tvalidation_1-rmspe:0.129057\n",
      "[117]\tvalidation_0-rmse:0.125096\tvalidation_1-rmse:0.146908\tvalidation_0-rmspe:0.136183\tvalidation_1-rmspe:0.128979\n",
      "[118]\tvalidation_0-rmse:0.124657\tvalidation_1-rmse:0.146708\tvalidation_0-rmspe:0.135832\tvalidation_1-rmspe:0.128763\n",
      "[119]\tvalidation_0-rmse:0.124316\tvalidation_1-rmse:0.146517\tvalidation_0-rmspe:0.135489\tvalidation_1-rmspe:0.128536\n",
      "[120]\tvalidation_0-rmse:0.124031\tvalidation_1-rmse:0.146239\tvalidation_0-rmspe:0.135153\tvalidation_1-rmspe:0.128299\n",
      "[121]\tvalidation_0-rmse:0.123779\tvalidation_1-rmse:0.146153\tvalidation_0-rmspe:0.134937\tvalidation_1-rmspe:0.128223\n",
      "[122]\tvalidation_0-rmse:0.123373\tvalidation_1-rmse:0.145855\tvalidation_0-rmspe:0.134513\tvalidation_1-rmspe:0.127489\n",
      "[123]\tvalidation_0-rmse:0.12251\tvalidation_1-rmse:0.145229\tvalidation_0-rmspe:0.133642\tvalidation_1-rmspe:0.126694\n",
      "[124]\tvalidation_0-rmse:0.122092\tvalidation_1-rmse:0.144936\tvalidation_0-rmspe:0.133144\tvalidation_1-rmspe:0.126372\n",
      "[125]\tvalidation_0-rmse:0.1219\tvalidation_1-rmse:0.14483\tvalidation_0-rmspe:0.132922\tvalidation_1-rmspe:0.126219\n",
      "[126]\tvalidation_0-rmse:0.121453\tvalidation_1-rmse:0.144588\tvalidation_0-rmspe:0.132385\tvalidation_1-rmspe:0.126011\n",
      "[127]\tvalidation_0-rmse:0.121141\tvalidation_1-rmse:0.144393\tvalidation_0-rmspe:0.132083\tvalidation_1-rmspe:0.125804\n",
      "[128]\tvalidation_0-rmse:0.120891\tvalidation_1-rmse:0.144313\tvalidation_0-rmspe:0.131293\tvalidation_1-rmspe:0.125627\n",
      "[129]\tvalidation_0-rmse:0.120091\tvalidation_1-rmse:0.143701\tvalidation_0-rmspe:0.130494\tvalidation_1-rmspe:0.124882\n",
      "[130]\tvalidation_0-rmse:0.119796\tvalidation_1-rmse:0.143544\tvalidation_0-rmspe:0.130269\tvalidation_1-rmspe:0.124631\n",
      "[131]\tvalidation_0-rmse:0.119541\tvalidation_1-rmse:0.143508\tvalidation_0-rmspe:0.129987\tvalidation_1-rmspe:0.124522\n",
      "[132]\tvalidation_0-rmse:0.119346\tvalidation_1-rmse:0.143385\tvalidation_0-rmspe:0.129766\tvalidation_1-rmspe:0.124427\n",
      "[133]\tvalidation_0-rmse:0.119116\tvalidation_1-rmse:0.143287\tvalidation_0-rmspe:0.129549\tvalidation_1-rmspe:0.124327\n",
      "[134]\tvalidation_0-rmse:0.11904\tvalidation_1-rmse:0.143221\tvalidation_0-rmspe:0.129473\tvalidation_1-rmspe:0.124284\n",
      "[135]\tvalidation_0-rmse:0.118767\tvalidation_1-rmse:0.143044\tvalidation_0-rmspe:0.129172\tvalidation_1-rmspe:0.124047\n",
      "[136]\tvalidation_0-rmse:0.118361\tvalidation_1-rmse:0.142815\tvalidation_0-rmspe:0.128775\tvalidation_1-rmspe:0.123829\n",
      "[137]\tvalidation_0-rmse:0.117605\tvalidation_1-rmse:0.142199\tvalidation_0-rmspe:0.127889\tvalidation_1-rmspe:0.123062\n",
      "[138]\tvalidation_0-rmse:0.117154\tvalidation_1-rmse:0.141944\tvalidation_0-rmspe:0.127497\tvalidation_1-rmspe:0.122807\n",
      "[139]\tvalidation_0-rmse:0.116787\tvalidation_1-rmse:0.141725\tvalidation_0-rmspe:0.127167\tvalidation_1-rmspe:0.122501\n",
      "[140]\tvalidation_0-rmse:0.116168\tvalidation_1-rmse:0.141334\tvalidation_0-rmspe:0.126582\tvalidation_1-rmspe:0.122015\n",
      "[141]\tvalidation_0-rmse:0.115737\tvalidation_1-rmse:0.141052\tvalidation_0-rmspe:0.126127\tvalidation_1-rmspe:0.121663\n",
      "[142]\tvalidation_0-rmse:0.115161\tvalidation_1-rmse:0.140846\tvalidation_0-rmspe:0.125711\tvalidation_1-rmspe:0.121364\n"
     ]
    },
    {
     "name": "stdout",
     "output_type": "stream",
     "text": [
      "[143]\tvalidation_0-rmse:0.114841\tvalidation_1-rmse:0.140728\tvalidation_0-rmspe:0.12545\tvalidation_1-rmspe:0.12121\n",
      "[144]\tvalidation_0-rmse:0.11455\tvalidation_1-rmse:0.140629\tvalidation_0-rmspe:0.125304\tvalidation_1-rmspe:0.121086\n",
      "[145]\tvalidation_0-rmse:0.114223\tvalidation_1-rmse:0.140508\tvalidation_0-rmspe:0.124488\tvalidation_1-rmspe:0.120916\n",
      "[146]\tvalidation_0-rmse:0.113994\tvalidation_1-rmse:0.140315\tvalidation_0-rmspe:0.124257\tvalidation_1-rmspe:0.120692\n",
      "[147]\tvalidation_0-rmse:0.113665\tvalidation_1-rmse:0.140095\tvalidation_0-rmspe:0.123956\tvalidation_1-rmspe:0.120382\n",
      "[148]\tvalidation_0-rmse:0.113472\tvalidation_1-rmse:0.140014\tvalidation_0-rmspe:0.123753\tvalidation_1-rmspe:0.120265\n",
      "[149]\tvalidation_0-rmse:0.113176\tvalidation_1-rmse:0.139793\tvalidation_0-rmspe:0.123457\tvalidation_1-rmspe:0.120051\n",
      "[150]\tvalidation_0-rmse:0.113054\tvalidation_1-rmse:0.139697\tvalidation_0-rmspe:0.123323\tvalidation_1-rmspe:0.119927\n",
      "[151]\tvalidation_0-rmse:0.112856\tvalidation_1-rmse:0.139612\tvalidation_0-rmspe:0.12312\tvalidation_1-rmspe:0.119815\n",
      "[152]\tvalidation_0-rmse:0.112407\tvalidation_1-rmse:0.139311\tvalidation_0-rmspe:0.122529\tvalidation_1-rmspe:0.119379\n",
      "[153]\tvalidation_0-rmse:0.112186\tvalidation_1-rmse:0.139191\tvalidation_0-rmspe:0.122337\tvalidation_1-rmspe:0.119272\n",
      "[154]\tvalidation_0-rmse:0.111914\tvalidation_1-rmse:0.139027\tvalidation_0-rmspe:0.122069\tvalidation_1-rmspe:0.119063\n",
      "[155]\tvalidation_0-rmse:0.111747\tvalidation_1-rmse:0.138906\tvalidation_0-rmspe:0.121869\tvalidation_1-rmspe:0.11891\n",
      "[156]\tvalidation_0-rmse:0.111474\tvalidation_1-rmse:0.138726\tvalidation_0-rmspe:0.121602\tvalidation_1-rmspe:0.11871\n",
      "[157]\tvalidation_0-rmse:0.111148\tvalidation_1-rmse:0.138583\tvalidation_0-rmspe:0.12125\tvalidation_1-rmspe:0.118464\n",
      "[158]\tvalidation_0-rmse:0.110954\tvalidation_1-rmse:0.138489\tvalidation_0-rmspe:0.121042\tvalidation_1-rmspe:0.118372\n",
      "[159]\tvalidation_0-rmse:0.110754\tvalidation_1-rmse:0.138448\tvalidation_0-rmspe:0.120602\tvalidation_1-rmspe:0.118354\n",
      "[160]\tvalidation_0-rmse:0.110101\tvalidation_1-rmse:0.138188\tvalidation_0-rmspe:0.119631\tvalidation_1-rmspe:0.117863\n",
      "[161]\tvalidation_0-rmse:0.110052\tvalidation_1-rmse:0.138147\tvalidation_0-rmspe:0.119594\tvalidation_1-rmspe:0.117811\n",
      "[162]\tvalidation_0-rmse:0.109891\tvalidation_1-rmse:0.138036\tvalidation_0-rmspe:0.119408\tvalidation_1-rmspe:0.117673\n",
      "[163]\tvalidation_0-rmse:0.109639\tvalidation_1-rmse:0.137877\tvalidation_0-rmspe:0.119145\tvalidation_1-rmspe:0.117498\n",
      "[164]\tvalidation_0-rmse:0.10938\tvalidation_1-rmse:0.137749\tvalidation_0-rmspe:0.118906\tvalidation_1-rmspe:0.117281\n",
      "[165]\tvalidation_0-rmse:0.109142\tvalidation_1-rmse:0.137605\tvalidation_0-rmspe:0.11862\tvalidation_1-rmspe:0.117139\n",
      "[166]\tvalidation_0-rmse:0.108953\tvalidation_1-rmse:0.137561\tvalidation_0-rmspe:0.118423\tvalidation_1-rmspe:0.117073\n",
      "[167]\tvalidation_0-rmse:0.108829\tvalidation_1-rmse:0.137547\tvalidation_0-rmspe:0.118335\tvalidation_1-rmspe:0.11703\n",
      "[168]\tvalidation_0-rmse:0.108564\tvalidation_1-rmse:0.137301\tvalidation_0-rmspe:0.11795\tvalidation_1-rmspe:0.116727\n",
      "[169]\tvalidation_0-rmse:0.108366\tvalidation_1-rmse:0.137209\tvalidation_0-rmspe:0.1178\tvalidation_1-rmspe:0.1166\n",
      "[170]\tvalidation_0-rmse:0.108135\tvalidation_1-rmse:0.137062\tvalidation_0-rmspe:0.117576\tvalidation_1-rmspe:0.116418\n",
      "[171]\tvalidation_0-rmse:0.107829\tvalidation_1-rmse:0.136898\tvalidation_0-rmspe:0.117291\tvalidation_1-rmspe:0.116212\n",
      "[172]\tvalidation_0-rmse:0.107678\tvalidation_1-rmse:0.136841\tvalidation_0-rmspe:0.117147\tvalidation_1-rmspe:0.116148\n",
      "[173]\tvalidation_0-rmse:0.107379\tvalidation_1-rmse:0.136668\tvalidation_0-rmspe:0.116631\tvalidation_1-rmspe:0.115931\n",
      "[174]\tvalidation_0-rmse:0.107153\tvalidation_1-rmse:0.136624\tvalidation_0-rmspe:0.116381\tvalidation_1-rmspe:0.115879\n",
      "[175]\tvalidation_0-rmse:0.107079\tvalidation_1-rmse:0.136569\tvalidation_0-rmspe:0.116305\tvalidation_1-rmspe:0.115811\n",
      "[176]\tvalidation_0-rmse:0.106789\tvalidation_1-rmse:0.136567\tvalidation_0-rmspe:0.11608\tvalidation_1-rmspe:0.115656\n",
      "[177]\tvalidation_0-rmse:0.10667\tvalidation_1-rmse:0.136455\tvalidation_0-rmspe:0.115962\tvalidation_1-rmspe:0.115534\n",
      "[178]\tvalidation_0-rmse:0.106425\tvalidation_1-rmse:0.136298\tvalidation_0-rmspe:0.115694\tvalidation_1-rmspe:0.115343\n",
      "[179]\tvalidation_0-rmse:0.10619\tvalidation_1-rmse:0.136235\tvalidation_0-rmspe:0.115483\tvalidation_1-rmspe:0.115277\n",
      "[180]\tvalidation_0-rmse:0.106085\tvalidation_1-rmse:0.136183\tvalidation_0-rmspe:0.115344\tvalidation_1-rmspe:0.115211\n",
      "[181]\tvalidation_0-rmse:0.105757\tvalidation_1-rmse:0.136004\tvalidation_0-rmspe:0.115119\tvalidation_1-rmspe:0.115007\n",
      "[182]\tvalidation_0-rmse:0.105612\tvalidation_1-rmse:0.135993\tvalidation_0-rmspe:0.115005\tvalidation_1-rmspe:0.115\n",
      "[183]\tvalidation_0-rmse:0.105267\tvalidation_1-rmse:0.135796\tvalidation_0-rmspe:0.114728\tvalidation_1-rmspe:0.114743\n",
      "[184]\tvalidation_0-rmse:0.105086\tvalidation_1-rmse:0.135742\tvalidation_0-rmspe:0.114616\tvalidation_1-rmspe:0.114688\n",
      "[185]\tvalidation_0-rmse:0.104933\tvalidation_1-rmse:0.135652\tvalidation_0-rmspe:0.114389\tvalidation_1-rmspe:0.114561\n",
      "[186]\tvalidation_0-rmse:0.104894\tvalidation_1-rmse:0.135629\tvalidation_0-rmspe:0.114354\tvalidation_1-rmspe:0.114556\n",
      "[187]\tvalidation_0-rmse:0.104689\tvalidation_1-rmse:0.135555\tvalidation_0-rmspe:0.114126\tvalidation_1-rmspe:0.114443\n",
      "[188]\tvalidation_0-rmse:0.104569\tvalidation_1-rmse:0.135423\tvalidation_0-rmspe:0.112914\tvalidation_1-rmspe:0.114026\n",
      "[189]\tvalidation_0-rmse:0.104473\tvalidation_1-rmse:0.135359\tvalidation_0-rmspe:0.112812\tvalidation_1-rmspe:0.11393\n",
      "[190]\tvalidation_0-rmse:0.104234\tvalidation_1-rmse:0.135296\tvalidation_0-rmspe:0.112516\tvalidation_1-rmspe:0.113867\n",
      "[191]\tvalidation_0-rmse:0.104132\tvalidation_1-rmse:0.135254\tvalidation_0-rmspe:0.112177\tvalidation_1-rmspe:0.113798\n",
      "[192]\tvalidation_0-rmse:0.103789\tvalidation_1-rmse:0.135228\tvalidation_0-rmspe:0.111901\tvalidation_1-rmspe:0.113743\n",
      "[193]\tvalidation_0-rmse:0.103605\tvalidation_1-rmse:0.135135\tvalidation_0-rmspe:0.111673\tvalidation_1-rmspe:0.113639\n",
      "[194]\tvalidation_0-rmse:0.103501\tvalidation_1-rmse:0.135082\tvalidation_0-rmspe:0.11154\tvalidation_1-rmspe:0.113648\n",
      "[195]\tvalidation_0-rmse:0.103314\tvalidation_1-rmse:0.134976\tvalidation_0-rmspe:0.111377\tvalidation_1-rmspe:0.113503\n",
      "[196]\tvalidation_0-rmse:0.103008\tvalidation_1-rmse:0.134718\tvalidation_0-rmspe:0.111067\tvalidation_1-rmspe:0.113211\n",
      "[197]\tvalidation_0-rmse:0.102843\tvalidation_1-rmse:0.134664\tvalidation_0-rmspe:0.110526\tvalidation_1-rmspe:0.113234\n",
      "[198]\tvalidation_0-rmse:0.102812\tvalidation_1-rmse:0.134658\tvalidation_0-rmspe:0.110473\tvalidation_1-rmspe:0.113228\n",
      "[199]\tvalidation_0-rmse:0.102683\tvalidation_1-rmse:0.13458\tvalidation_0-rmspe:0.11034\tvalidation_1-rmspe:0.113129\n",
      "[200]\tvalidation_0-rmse:0.102532\tvalidation_1-rmse:0.13456\tvalidation_0-rmspe:0.110184\tvalidation_1-rmspe:0.113102\n",
      "[201]\tvalidation_0-rmse:0.102484\tvalidation_1-rmse:0.13456\tvalidation_0-rmspe:0.110124\tvalidation_1-rmspe:0.113102\n",
      "[202]\tvalidation_0-rmse:0.102166\tvalidation_1-rmse:0.134468\tvalidation_0-rmspe:0.10981\tvalidation_1-rmspe:0.113022\n",
      "[203]\tvalidation_0-rmse:0.101863\tvalidation_1-rmse:0.13439\tvalidation_0-rmspe:0.109658\tvalidation_1-rmspe:0.112944\n",
      "[204]\tvalidation_0-rmse:0.101521\tvalidation_1-rmse:0.134272\tvalidation_0-rmspe:0.109263\tvalidation_1-rmspe:0.11278\n",
      "[205]\tvalidation_0-rmse:0.101376\tvalidation_1-rmse:0.134206\tvalidation_0-rmspe:0.109084\tvalidation_1-rmspe:0.112693\n",
      "[206]\tvalidation_0-rmse:0.101144\tvalidation_1-rmse:0.134207\tvalidation_0-rmspe:0.108901\tvalidation_1-rmspe:0.112631\n",
      "[207]\tvalidation_0-rmse:0.100854\tvalidation_1-rmse:0.134087\tvalidation_0-rmspe:0.108617\tvalidation_1-rmspe:0.112446\n",
      "[208]\tvalidation_0-rmse:0.100792\tvalidation_1-rmse:0.13407\tvalidation_0-rmspe:0.108546\tvalidation_1-rmspe:0.112407\n",
      "[209]\tvalidation_0-rmse:0.100688\tvalidation_1-rmse:0.134028\tvalidation_0-rmspe:0.108437\tvalidation_1-rmspe:0.112347\n",
      "[210]\tvalidation_0-rmse:0.100466\tvalidation_1-rmse:0.133942\tvalidation_0-rmspe:0.108264\tvalidation_1-rmspe:0.112243\n",
      "[211]\tvalidation_0-rmse:0.100402\tvalidation_1-rmse:0.133903\tvalidation_0-rmspe:0.10819\tvalidation_1-rmspe:0.11219\n",
      "[212]\tvalidation_0-rmse:0.10015\tvalidation_1-rmse:0.133723\tvalidation_0-rmspe:0.107936\tvalidation_1-rmspe:0.111933\n",
      "[213]\tvalidation_0-rmse:0.099944\tvalidation_1-rmse:0.133624\tvalidation_0-rmspe:0.107598\tvalidation_1-rmspe:0.111811\n"
     ]
    },
    {
     "name": "stdout",
     "output_type": "stream",
     "text": [
      "[214]\tvalidation_0-rmse:0.099771\tvalidation_1-rmse:0.133681\tvalidation_0-rmspe:0.107482\tvalidation_1-rmspe:0.111841\n",
      "[215]\tvalidation_0-rmse:0.099501\tvalidation_1-rmse:0.133569\tvalidation_0-rmspe:0.107182\tvalidation_1-rmspe:0.111735\n",
      "[216]\tvalidation_0-rmse:0.099398\tvalidation_1-rmse:0.133537\tvalidation_0-rmspe:0.106963\tvalidation_1-rmspe:0.11173\n",
      "[217]\tvalidation_0-rmse:0.099146\tvalidation_1-rmse:0.133479\tvalidation_0-rmspe:0.105759\tvalidation_1-rmspe:0.111668\n",
      "[218]\tvalidation_0-rmse:0.098967\tvalidation_1-rmse:0.133436\tvalidation_0-rmspe:0.105526\tvalidation_1-rmspe:0.111568\n",
      "[219]\tvalidation_0-rmse:0.098889\tvalidation_1-rmse:0.133417\tvalidation_0-rmspe:0.105461\tvalidation_1-rmspe:0.111545\n",
      "[220]\tvalidation_0-rmse:0.09871\tvalidation_1-rmse:0.133341\tvalidation_0-rmspe:0.105322\tvalidation_1-rmspe:0.11145\n",
      "[221]\tvalidation_0-rmse:0.098635\tvalidation_1-rmse:0.133325\tvalidation_0-rmspe:0.105251\tvalidation_1-rmspe:0.111441\n",
      "[222]\tvalidation_0-rmse:0.098351\tvalidation_1-rmse:0.133253\tvalidation_0-rmspe:0.105041\tvalidation_1-rmspe:0.11133\n",
      "[223]\tvalidation_0-rmse:0.098143\tvalidation_1-rmse:0.133172\tvalidation_0-rmspe:0.104881\tvalidation_1-rmspe:0.111224\n",
      "[224]\tvalidation_0-rmse:0.097977\tvalidation_1-rmse:0.133139\tvalidation_0-rmspe:0.104797\tvalidation_1-rmspe:0.111174\n",
      "[225]\tvalidation_0-rmse:0.097767\tvalidation_1-rmse:0.133089\tvalidation_0-rmspe:0.10467\tvalidation_1-rmspe:0.111109\n",
      "[226]\tvalidation_0-rmse:0.097611\tvalidation_1-rmse:0.133047\tvalidation_0-rmspe:0.104532\tvalidation_1-rmspe:0.111064\n",
      "[227]\tvalidation_0-rmse:0.097345\tvalidation_1-rmse:0.132975\tvalidation_0-rmspe:0.104366\tvalidation_1-rmspe:0.110965\n",
      "[228]\tvalidation_0-rmse:0.097225\tvalidation_1-rmse:0.132908\tvalidation_0-rmspe:0.104229\tvalidation_1-rmspe:0.110894\n",
      "[229]\tvalidation_0-rmse:0.09692\tvalidation_1-rmse:0.133145\tvalidation_0-rmspe:0.103992\tvalidation_1-rmspe:0.110909\n",
      "[230]\tvalidation_0-rmse:0.096751\tvalidation_1-rmse:0.133083\tvalidation_0-rmspe:0.103821\tvalidation_1-rmspe:0.110827\n",
      "[231]\tvalidation_0-rmse:0.096623\tvalidation_1-rmse:0.13303\tvalidation_0-rmspe:0.103704\tvalidation_1-rmspe:0.110738\n",
      "[232]\tvalidation_0-rmse:0.096478\tvalidation_1-rmse:0.133002\tvalidation_0-rmspe:0.102592\tvalidation_1-rmspe:0.110716\n",
      "[233]\tvalidation_0-rmse:0.096369\tvalidation_1-rmse:0.132949\tvalidation_0-rmspe:0.102461\tvalidation_1-rmspe:0.110646\n",
      "[234]\tvalidation_0-rmse:0.096314\tvalidation_1-rmse:0.132925\tvalidation_0-rmspe:0.102393\tvalidation_1-rmspe:0.110612\n",
      "[235]\tvalidation_0-rmse:0.096086\tvalidation_1-rmse:0.132847\tvalidation_0-rmspe:0.102268\tvalidation_1-rmspe:0.110524\n",
      "[236]\tvalidation_0-rmse:0.096006\tvalidation_1-rmse:0.132831\tvalidation_0-rmspe:0.102176\tvalidation_1-rmspe:0.110491\n",
      "[237]\tvalidation_0-rmse:0.095926\tvalidation_1-rmse:0.132802\tvalidation_0-rmspe:0.102099\tvalidation_1-rmspe:0.110462\n",
      "[238]\tvalidation_0-rmse:0.095773\tvalidation_1-rmse:0.13276\tvalidation_0-rmspe:0.10196\tvalidation_1-rmspe:0.110401\n",
      "[239]\tvalidation_0-rmse:0.095674\tvalidation_1-rmse:0.132727\tvalidation_0-rmspe:0.101876\tvalidation_1-rmspe:0.110366\n",
      "[240]\tvalidation_0-rmse:0.095494\tvalidation_1-rmse:0.132655\tvalidation_0-rmspe:0.101689\tvalidation_1-rmspe:0.110306\n",
      "[241]\tvalidation_0-rmse:0.095323\tvalidation_1-rmse:0.132659\tvalidation_0-rmspe:0.101568\tvalidation_1-rmspe:0.110283\n",
      "[242]\tvalidation_0-rmse:0.095136\tvalidation_1-rmse:0.132643\tvalidation_0-rmspe:0.100511\tvalidation_1-rmspe:0.110298\n",
      "[243]\tvalidation_0-rmse:0.094963\tvalidation_1-rmse:0.132587\tvalidation_0-rmspe:0.100328\tvalidation_1-rmspe:0.110241\n",
      "[244]\tvalidation_0-rmse:0.094842\tvalidation_1-rmse:0.132525\tvalidation_0-rmspe:0.100208\tvalidation_1-rmspe:0.110152\n",
      "[245]\tvalidation_0-rmse:0.094742\tvalidation_1-rmse:0.132533\tvalidation_0-rmspe:0.100109\tvalidation_1-rmspe:0.110124\n",
      "[246]\tvalidation_0-rmse:0.094647\tvalidation_1-rmse:0.1325\tvalidation_0-rmspe:0.100029\tvalidation_1-rmspe:0.110083\n",
      "[247]\tvalidation_0-rmse:0.094431\tvalidation_1-rmse:0.132461\tvalidation_0-rmspe:0.099877\tvalidation_1-rmspe:0.109987\n",
      "[248]\tvalidation_0-rmse:0.094302\tvalidation_1-rmse:0.132416\tvalidation_0-rmspe:0.09977\tvalidation_1-rmspe:0.109932\n",
      "[249]\tvalidation_0-rmse:0.094185\tvalidation_1-rmse:0.132389\tvalidation_0-rmspe:0.099664\tvalidation_1-rmspe:0.109896\n",
      "[250]\tvalidation_0-rmse:0.093977\tvalidation_1-rmse:0.132315\tvalidation_0-rmspe:0.099467\tvalidation_1-rmspe:0.109761\n",
      "[251]\tvalidation_0-rmse:0.093881\tvalidation_1-rmse:0.132329\tvalidation_0-rmspe:0.09937\tvalidation_1-rmspe:0.109798\n",
      "[252]\tvalidation_0-rmse:0.093825\tvalidation_1-rmse:0.132312\tvalidation_0-rmspe:0.099328\tvalidation_1-rmspe:0.10977\n",
      "[253]\tvalidation_0-rmse:0.093691\tvalidation_1-rmse:0.132265\tvalidation_0-rmspe:0.099201\tvalidation_1-rmspe:0.10972\n",
      "[254]\tvalidation_0-rmse:0.093594\tvalidation_1-rmse:0.13221\tvalidation_0-rmspe:0.099109\tvalidation_1-rmspe:0.109654\n",
      "[255]\tvalidation_0-rmse:0.093472\tvalidation_1-rmse:0.132184\tvalidation_0-rmspe:0.099013\tvalidation_1-rmspe:0.109613\n",
      "[256]\tvalidation_0-rmse:0.093326\tvalidation_1-rmse:0.13212\tvalidation_0-rmspe:0.098863\tvalidation_1-rmspe:0.109524\n",
      "[257]\tvalidation_0-rmse:0.093183\tvalidation_1-rmse:0.132074\tvalidation_0-rmspe:0.098721\tvalidation_1-rmspe:0.109489\n",
      "[258]\tvalidation_0-rmse:0.093014\tvalidation_1-rmse:0.13204\tvalidation_0-rmspe:0.098589\tvalidation_1-rmspe:0.109405\n",
      "[259]\tvalidation_0-rmse:0.092847\tvalidation_1-rmse:0.132005\tvalidation_0-rmspe:0.09852\tvalidation_1-rmspe:0.10936\n",
      "[260]\tvalidation_0-rmse:0.09271\tvalidation_1-rmse:0.131954\tvalidation_0-rmspe:0.098416\tvalidation_1-rmspe:0.10929\n",
      "[261]\tvalidation_0-rmse:0.092525\tvalidation_1-rmse:0.131943\tvalidation_0-rmspe:0.098324\tvalidation_1-rmspe:0.109273\n",
      "[262]\tvalidation_0-rmse:0.092418\tvalidation_1-rmse:0.131915\tvalidation_0-rmspe:0.098225\tvalidation_1-rmspe:0.109315\n",
      "[263]\tvalidation_0-rmse:0.092318\tvalidation_1-rmse:0.131889\tvalidation_0-rmspe:0.09813\tvalidation_1-rmspe:0.109269\n",
      "[264]\tvalidation_0-rmse:0.092259\tvalidation_1-rmse:0.131868\tvalidation_0-rmspe:0.098076\tvalidation_1-rmspe:0.109242\n",
      "[265]\tvalidation_0-rmse:0.092033\tvalidation_1-rmse:0.131835\tvalidation_0-rmspe:0.098\tvalidation_1-rmspe:0.109198\n",
      "[266]\tvalidation_0-rmse:0.091938\tvalidation_1-rmse:0.131831\tvalidation_0-rmspe:0.097909\tvalidation_1-rmspe:0.10918\n",
      "[267]\tvalidation_0-rmse:0.091838\tvalidation_1-rmse:0.131783\tvalidation_0-rmspe:0.097812\tvalidation_1-rmspe:0.109126\n",
      "[268]\tvalidation_0-rmse:0.091746\tvalidation_1-rmse:0.131752\tvalidation_0-rmspe:0.096914\tvalidation_1-rmspe:0.109093\n",
      "[269]\tvalidation_0-rmse:0.091635\tvalidation_1-rmse:0.131738\tvalidation_0-rmspe:0.09682\tvalidation_1-rmspe:0.109073\n",
      "[270]\tvalidation_0-rmse:0.091546\tvalidation_1-rmse:0.131715\tvalidation_0-rmspe:0.096738\tvalidation_1-rmspe:0.109082\n",
      "[271]\tvalidation_0-rmse:0.091352\tvalidation_1-rmse:0.131688\tvalidation_0-rmspe:0.096606\tvalidation_1-rmspe:0.109024\n",
      "[272]\tvalidation_0-rmse:0.091244\tvalidation_1-rmse:0.131678\tvalidation_0-rmspe:0.096518\tvalidation_1-rmspe:0.109014\n",
      "[273]\tvalidation_0-rmse:0.091042\tvalidation_1-rmse:0.131666\tvalidation_0-rmspe:0.096351\tvalidation_1-rmspe:0.108939\n",
      "[274]\tvalidation_0-rmse:0.090876\tvalidation_1-rmse:0.131656\tvalidation_0-rmspe:0.096227\tvalidation_1-rmspe:0.108922\n",
      "[275]\tvalidation_0-rmse:0.090793\tvalidation_1-rmse:0.131637\tvalidation_0-rmspe:0.096141\tvalidation_1-rmspe:0.108871\n",
      "[276]\tvalidation_0-rmse:0.090613\tvalidation_1-rmse:0.131622\tvalidation_0-rmspe:0.095281\tvalidation_1-rmspe:0.108906\n",
      "[277]\tvalidation_0-rmse:0.090547\tvalidation_1-rmse:0.131578\tvalidation_0-rmspe:0.095204\tvalidation_1-rmspe:0.108841\n",
      "[278]\tvalidation_0-rmse:0.090419\tvalidation_1-rmse:0.131537\tvalidation_0-rmspe:0.095078\tvalidation_1-rmspe:0.108768\n",
      "[279]\tvalidation_0-rmse:0.09039\tvalidation_1-rmse:0.131514\tvalidation_0-rmspe:0.095049\tvalidation_1-rmspe:0.108735\n",
      "[280]\tvalidation_0-rmse:0.090211\tvalidation_1-rmse:0.131503\tvalidation_0-rmspe:0.09484\tvalidation_1-rmspe:0.108724\n",
      "[281]\tvalidation_0-rmse:0.090042\tvalidation_1-rmse:0.13148\tvalidation_0-rmspe:0.094652\tvalidation_1-rmspe:0.108727\n",
      "[282]\tvalidation_0-rmse:0.089952\tvalidation_1-rmse:0.131466\tvalidation_0-rmspe:0.094217\tvalidation_1-rmspe:0.108708\n",
      "[283]\tvalidation_0-rmse:0.089878\tvalidation_1-rmse:0.131448\tvalidation_0-rmspe:0.093965\tvalidation_1-rmspe:0.108692\n",
      "[284]\tvalidation_0-rmse:0.089763\tvalidation_1-rmse:0.131446\tvalidation_0-rmspe:0.093843\tvalidation_1-rmspe:0.10867\n"
     ]
    },
    {
     "name": "stdout",
     "output_type": "stream",
     "text": [
      "[285]\tvalidation_0-rmse:0.089655\tvalidation_1-rmse:0.131432\tvalidation_0-rmspe:0.093767\tvalidation_1-rmspe:0.108644\n",
      "[286]\tvalidation_0-rmse:0.089638\tvalidation_1-rmse:0.131425\tvalidation_0-rmspe:0.09366\tvalidation_1-rmspe:0.108631\n",
      "[287]\tvalidation_0-rmse:0.089564\tvalidation_1-rmse:0.131418\tvalidation_0-rmspe:0.093562\tvalidation_1-rmspe:0.108604\n",
      "[288]\tvalidation_0-rmse:0.089452\tvalidation_1-rmse:0.1314\tvalidation_0-rmspe:0.093504\tvalidation_1-rmspe:0.108577\n",
      "[289]\tvalidation_0-rmse:0.08939\tvalidation_1-rmse:0.131367\tvalidation_0-rmspe:0.093435\tvalidation_1-rmspe:0.108553\n",
      "[290]\tvalidation_0-rmse:0.08928\tvalidation_1-rmse:0.131326\tvalidation_0-rmspe:0.093014\tvalidation_1-rmspe:0.108489\n",
      "[291]\tvalidation_0-rmse:0.089214\tvalidation_1-rmse:0.131333\tvalidation_0-rmspe:0.092942\tvalidation_1-rmspe:0.108461\n",
      "[292]\tvalidation_0-rmse:0.089128\tvalidation_1-rmse:0.131294\tvalidation_0-rmspe:0.092193\tvalidation_1-rmspe:0.108402\n",
      "[293]\tvalidation_0-rmse:0.088932\tvalidation_1-rmse:0.131276\tvalidation_0-rmspe:0.092062\tvalidation_1-rmspe:0.108382\n",
      "[294]\tvalidation_0-rmse:0.088834\tvalidation_1-rmse:0.131252\tvalidation_0-rmspe:0.091997\tvalidation_1-rmspe:0.108212\n",
      "[295]\tvalidation_0-rmse:0.088725\tvalidation_1-rmse:0.131254\tvalidation_0-rmspe:0.091189\tvalidation_1-rmspe:0.10823\n",
      "[296]\tvalidation_0-rmse:0.0885\tvalidation_1-rmse:0.131264\tvalidation_0-rmspe:0.091002\tvalidation_1-rmspe:0.108198\n",
      "[297]\tvalidation_0-rmse:0.088372\tvalidation_1-rmse:0.131258\tvalidation_0-rmspe:0.090493\tvalidation_1-rmspe:0.108235\n",
      "[298]\tvalidation_0-rmse:0.088306\tvalidation_1-rmse:0.131235\tvalidation_0-rmspe:0.090419\tvalidation_1-rmspe:0.108215\n",
      "[299]\tvalidation_0-rmse:0.088201\tvalidation_1-rmse:0.131203\tvalidation_0-rmspe:0.090326\tvalidation_1-rmspe:0.108209\n",
      "[300]\tvalidation_0-rmse:0.088056\tvalidation_1-rmse:0.131177\tvalidation_0-rmspe:0.090156\tvalidation_1-rmspe:0.108181\n",
      "[301]\tvalidation_0-rmse:0.087921\tvalidation_1-rmse:0.131132\tvalidation_0-rmspe:0.090054\tvalidation_1-rmspe:0.108134\n",
      "[302]\tvalidation_0-rmse:0.087811\tvalidation_1-rmse:0.131109\tvalidation_0-rmspe:0.089943\tvalidation_1-rmspe:0.108096\n",
      "[303]\tvalidation_0-rmse:0.087736\tvalidation_1-rmse:0.131085\tvalidation_0-rmspe:0.089883\tvalidation_1-rmspe:0.108079\n",
      "[304]\tvalidation_0-rmse:0.087577\tvalidation_1-rmse:0.13112\tvalidation_0-rmspe:0.089761\tvalidation_1-rmspe:0.108065\n",
      "[305]\tvalidation_0-rmse:0.087522\tvalidation_1-rmse:0.131116\tvalidation_0-rmspe:0.089711\tvalidation_1-rmspe:0.108156\n",
      "[306]\tvalidation_0-rmse:0.087465\tvalidation_1-rmse:0.13109\tvalidation_0-rmspe:0.089666\tvalidation_1-rmspe:0.108157\n",
      "[307]\tvalidation_0-rmse:0.087313\tvalidation_1-rmse:0.13108\tvalidation_0-rmspe:0.089598\tvalidation_1-rmspe:0.108212\n",
      "[308]\tvalidation_0-rmse:0.087247\tvalidation_1-rmse:0.13106\tvalidation_0-rmspe:0.089511\tvalidation_1-rmspe:0.108178\n",
      "[309]\tvalidation_0-rmse:0.087224\tvalidation_1-rmse:0.131051\tvalidation_0-rmspe:0.08948\tvalidation_1-rmspe:0.108173\n",
      "[310]\tvalidation_0-rmse:0.087131\tvalidation_1-rmse:0.13112\tvalidation_0-rmspe:0.089394\tvalidation_1-rmspe:0.108197\n",
      "[311]\tvalidation_0-rmse:0.087067\tvalidation_1-rmse:0.131146\tvalidation_0-rmspe:0.089132\tvalidation_1-rmspe:0.108222\n",
      "[312]\tvalidation_0-rmse:0.086948\tvalidation_1-rmse:0.131116\tvalidation_0-rmspe:0.089015\tvalidation_1-rmspe:0.108136\n",
      "[313]\tvalidation_0-rmse:0.086839\tvalidation_1-rmse:0.131102\tvalidation_0-rmspe:0.088912\tvalidation_1-rmspe:0.108179\n",
      "[314]\tvalidation_0-rmse:0.086753\tvalidation_1-rmse:0.13109\tvalidation_0-rmspe:0.088814\tvalidation_1-rmspe:0.10816\n",
      "[315]\tvalidation_0-rmse:0.086614\tvalidation_1-rmse:0.131063\tvalidation_0-rmspe:0.088687\tvalidation_1-rmspe:0.108144\n",
      "[316]\tvalidation_0-rmse:0.086519\tvalidation_1-rmse:0.131036\tvalidation_0-rmspe:0.088624\tvalidation_1-rmspe:0.108117\n",
      "[317]\tvalidation_0-rmse:0.086344\tvalidation_1-rmse:0.131033\tvalidation_0-rmspe:0.08853\tvalidation_1-rmspe:0.108085\n",
      "[318]\tvalidation_0-rmse:0.086271\tvalidation_1-rmse:0.13098\tvalidation_0-rmspe:0.088441\tvalidation_1-rmspe:0.108004\n",
      "[319]\tvalidation_0-rmse:0.086159\tvalidation_1-rmse:0.131033\tvalidation_0-rmspe:0.088352\tvalidation_1-rmspe:0.108028\n",
      "[320]\tvalidation_0-rmse:0.086071\tvalidation_1-rmse:0.131034\tvalidation_0-rmspe:0.087802\tvalidation_1-rmspe:0.108014\n",
      "[321]\tvalidation_0-rmse:0.086014\tvalidation_1-rmse:0.131\tvalidation_0-rmspe:0.087756\tvalidation_1-rmspe:0.107983\n",
      "[322]\tvalidation_0-rmse:0.085915\tvalidation_1-rmse:0.131017\tvalidation_0-rmspe:0.087696\tvalidation_1-rmspe:0.108046\n",
      "[323]\tvalidation_0-rmse:0.085757\tvalidation_1-rmse:0.131009\tvalidation_0-rmspe:0.087536\tvalidation_1-rmspe:0.108024\n",
      "[324]\tvalidation_0-rmse:0.08571\tvalidation_1-rmse:0.130988\tvalidation_0-rmspe:0.087505\tvalidation_1-rmspe:0.10801\n",
      "[325]\tvalidation_0-rmse:0.085585\tvalidation_1-rmse:0.130953\tvalidation_0-rmspe:0.087402\tvalidation_1-rmspe:0.107937\n",
      "[326]\tvalidation_0-rmse:0.0854\tvalidation_1-rmse:0.130983\tvalidation_0-rmspe:0.087306\tvalidation_1-rmspe:0.107953\n",
      "[327]\tvalidation_0-rmse:0.085285\tvalidation_1-rmse:0.130971\tvalidation_0-rmspe:0.087158\tvalidation_1-rmspe:0.107917\n",
      "[328]\tvalidation_0-rmse:0.085247\tvalidation_1-rmse:0.130953\tvalidation_0-rmspe:0.087119\tvalidation_1-rmspe:0.107904\n",
      "[329]\tvalidation_0-rmse:0.085129\tvalidation_1-rmse:0.130934\tvalidation_0-rmspe:0.086906\tvalidation_1-rmspe:0.10788\n",
      "[330]\tvalidation_0-rmse:0.085084\tvalidation_1-rmse:0.130925\tvalidation_0-rmspe:0.086856\tvalidation_1-rmspe:0.107872\n",
      "[331]\tvalidation_0-rmse:0.084939\tvalidation_1-rmse:0.130922\tvalidation_0-rmspe:0.086743\tvalidation_1-rmspe:0.10783\n",
      "[332]\tvalidation_0-rmse:0.084819\tvalidation_1-rmse:0.130874\tvalidation_0-rmspe:0.086657\tvalidation_1-rmspe:0.107504\n",
      "[333]\tvalidation_0-rmse:0.084725\tvalidation_1-rmse:0.130869\tvalidation_0-rmspe:0.086593\tvalidation_1-rmspe:0.107511\n",
      "[334]\tvalidation_0-rmse:0.084627\tvalidation_1-rmse:0.130852\tvalidation_0-rmspe:0.086487\tvalidation_1-rmspe:0.107509\n",
      "[335]\tvalidation_0-rmse:0.084473\tvalidation_1-rmse:0.130807\tvalidation_0-rmspe:0.08637\tvalidation_1-rmspe:0.107444\n",
      "[336]\tvalidation_0-rmse:0.084397\tvalidation_1-rmse:0.130797\tvalidation_0-rmspe:0.086284\tvalidation_1-rmspe:0.107431\n",
      "[337]\tvalidation_0-rmse:0.084358\tvalidation_1-rmse:0.130774\tvalidation_0-rmspe:0.086252\tvalidation_1-rmspe:0.107403\n",
      "[338]\tvalidation_0-rmse:0.084257\tvalidation_1-rmse:0.130759\tvalidation_0-rmspe:0.086156\tvalidation_1-rmspe:0.107378\n",
      "[339]\tvalidation_0-rmse:0.08412\tvalidation_1-rmse:0.130762\tvalidation_0-rmspe:0.086046\tvalidation_1-rmspe:0.107358\n",
      "[340]\tvalidation_0-rmse:0.084055\tvalidation_1-rmse:0.130761\tvalidation_0-rmspe:0.085895\tvalidation_1-rmspe:0.107369\n",
      "[341]\tvalidation_0-rmse:0.083981\tvalidation_1-rmse:0.130784\tvalidation_0-rmspe:0.085827\tvalidation_1-rmspe:0.107369\n",
      "[342]\tvalidation_0-rmse:0.083926\tvalidation_1-rmse:0.13078\tvalidation_0-rmspe:0.085758\tvalidation_1-rmspe:0.107375\n",
      "[343]\tvalidation_0-rmse:0.083855\tvalidation_1-rmse:0.130776\tvalidation_0-rmspe:0.085672\tvalidation_1-rmspe:0.107373\n",
      "[344]\tvalidation_0-rmse:0.083728\tvalidation_1-rmse:0.13075\tvalidation_0-rmspe:0.085581\tvalidation_1-rmspe:0.107325\n",
      "[345]\tvalidation_0-rmse:0.083612\tvalidation_1-rmse:0.130711\tvalidation_0-rmspe:0.085485\tvalidation_1-rmspe:0.107278\n",
      "[346]\tvalidation_0-rmse:0.083497\tvalidation_1-rmse:0.130682\tvalidation_0-rmspe:0.085384\tvalidation_1-rmspe:0.107229\n",
      "[347]\tvalidation_0-rmse:0.083446\tvalidation_1-rmse:0.130658\tvalidation_0-rmspe:0.085295\tvalidation_1-rmspe:0.107212\n",
      "[348]\tvalidation_0-rmse:0.083345\tvalidation_1-rmse:0.130645\tvalidation_0-rmspe:0.085223\tvalidation_1-rmspe:0.10718\n",
      "[349]\tvalidation_0-rmse:0.083273\tvalidation_1-rmse:0.130634\tvalidation_0-rmspe:0.085148\tvalidation_1-rmspe:0.107158\n",
      "[350]\tvalidation_0-rmse:0.083194\tvalidation_1-rmse:0.13062\tvalidation_0-rmspe:0.084853\tvalidation_1-rmspe:0.107135\n",
      "[351]\tvalidation_0-rmse:0.083141\tvalidation_1-rmse:0.130656\tvalidation_0-rmspe:0.084813\tvalidation_1-rmspe:0.107151\n",
      "[352]\tvalidation_0-rmse:0.083052\tvalidation_1-rmse:0.130623\tvalidation_0-rmspe:0.084723\tvalidation_1-rmspe:0.107108\n",
      "[353]\tvalidation_0-rmse:0.082977\tvalidation_1-rmse:0.130611\tvalidation_0-rmspe:0.084642\tvalidation_1-rmspe:0.107116\n",
      "[354]\tvalidation_0-rmse:0.082898\tvalidation_1-rmse:0.130617\tvalidation_0-rmspe:0.084551\tvalidation_1-rmspe:0.107124\n",
      "[355]\tvalidation_0-rmse:0.082854\tvalidation_1-rmse:0.130617\tvalidation_0-rmspe:0.084512\tvalidation_1-rmspe:0.107113\n"
     ]
    },
    {
     "name": "stdout",
     "output_type": "stream",
     "text": [
      "[356]\tvalidation_0-rmse:0.082738\tvalidation_1-rmse:0.13062\tvalidation_0-rmspe:0.084398\tvalidation_1-rmspe:0.107083\n",
      "[357]\tvalidation_0-rmse:0.082622\tvalidation_1-rmse:0.130584\tvalidation_0-rmspe:0.084309\tvalidation_1-rmspe:0.107059\n",
      "[358]\tvalidation_0-rmse:0.082569\tvalidation_1-rmse:0.130573\tvalidation_0-rmspe:0.084235\tvalidation_1-rmspe:0.107045\n",
      "[359]\tvalidation_0-rmse:0.082526\tvalidation_1-rmse:0.130591\tvalidation_0-rmspe:0.084164\tvalidation_1-rmspe:0.107033\n",
      "[360]\tvalidation_0-rmse:0.082404\tvalidation_1-rmse:0.130578\tvalidation_0-rmspe:0.084064\tvalidation_1-rmspe:0.107027\n",
      "[361]\tvalidation_0-rmse:0.082348\tvalidation_1-rmse:0.130583\tvalidation_0-rmspe:0.083999\tvalidation_1-rmspe:0.107015\n",
      "[362]\tvalidation_0-rmse:0.082242\tvalidation_1-rmse:0.13053\tvalidation_0-rmspe:0.083901\tvalidation_1-rmspe:0.106914\n",
      "[363]\tvalidation_0-rmse:0.082172\tvalidation_1-rmse:0.130501\tvalidation_0-rmspe:0.083809\tvalidation_1-rmspe:0.10685\n",
      "[364]\tvalidation_0-rmse:0.0821\tvalidation_1-rmse:0.130477\tvalidation_0-rmspe:0.08374\tvalidation_1-rmspe:0.106808\n",
      "[365]\tvalidation_0-rmse:0.08204\tvalidation_1-rmse:0.13046\tvalidation_0-rmspe:0.083665\tvalidation_1-rmspe:0.106791\n",
      "[366]\tvalidation_0-rmse:0.081973\tvalidation_1-rmse:0.130411\tvalidation_0-rmspe:0.083586\tvalidation_1-rmspe:0.106318\n",
      "[367]\tvalidation_0-rmse:0.081906\tvalidation_1-rmse:0.130405\tvalidation_0-rmspe:0.083509\tvalidation_1-rmspe:0.106342\n",
      "[368]\tvalidation_0-rmse:0.081859\tvalidation_1-rmse:0.130379\tvalidation_0-rmspe:0.083434\tvalidation_1-rmspe:0.106341\n",
      "[369]\tvalidation_0-rmse:0.081804\tvalidation_1-rmse:0.130414\tvalidation_0-rmspe:0.083366\tvalidation_1-rmspe:0.10638\n",
      "[370]\tvalidation_0-rmse:0.081621\tvalidation_1-rmse:0.13038\tvalidation_0-rmspe:0.083229\tvalidation_1-rmspe:0.106316\n",
      "[371]\tvalidation_0-rmse:0.081515\tvalidation_1-rmse:0.130354\tvalidation_0-rmspe:0.08314\tvalidation_1-rmspe:0.106261\n",
      "[372]\tvalidation_0-rmse:0.081369\tvalidation_1-rmse:0.130346\tvalidation_0-rmspe:0.083047\tvalidation_1-rmspe:0.106244\n",
      "[373]\tvalidation_0-rmse:0.081298\tvalidation_1-rmse:0.130317\tvalidation_0-rmspe:0.08298\tvalidation_1-rmspe:0.10619\n",
      "[374]\tvalidation_0-rmse:0.081242\tvalidation_1-rmse:0.130282\tvalidation_0-rmspe:0.082896\tvalidation_1-rmspe:0.106121\n",
      "[375]\tvalidation_0-rmse:0.081146\tvalidation_1-rmse:0.130261\tvalidation_0-rmspe:0.082816\tvalidation_1-rmspe:0.106082\n",
      "[376]\tvalidation_0-rmse:0.081033\tvalidation_1-rmse:0.130216\tvalidation_0-rmspe:0.082484\tvalidation_1-rmspe:0.10602\n",
      "[377]\tvalidation_0-rmse:0.080939\tvalidation_1-rmse:0.13021\tvalidation_0-rmspe:0.082422\tvalidation_1-rmspe:0.106\n",
      "[378]\tvalidation_0-rmse:0.080843\tvalidation_1-rmse:0.130199\tvalidation_0-rmspe:0.082359\tvalidation_1-rmspe:0.105988\n",
      "[379]\tvalidation_0-rmse:0.080784\tvalidation_1-rmse:0.130185\tvalidation_0-rmspe:0.082362\tvalidation_1-rmspe:0.105996\n",
      "[380]\tvalidation_0-rmse:0.080737\tvalidation_1-rmse:0.130181\tvalidation_0-rmspe:0.082313\tvalidation_1-rmspe:0.105975\n",
      "[381]\tvalidation_0-rmse:0.080594\tvalidation_1-rmse:0.130174\tvalidation_0-rmspe:0.082235\tvalidation_1-rmspe:0.105972\n",
      "[382]\tvalidation_0-rmse:0.080433\tvalidation_1-rmse:0.130127\tvalidation_0-rmspe:0.082142\tvalidation_1-rmspe:0.105916\n",
      "[383]\tvalidation_0-rmse:0.080381\tvalidation_1-rmse:0.130125\tvalidation_0-rmspe:0.082116\tvalidation_1-rmspe:0.105945\n",
      "[384]\tvalidation_0-rmse:0.08029\tvalidation_1-rmse:0.130191\tvalidation_0-rmspe:0.082055\tvalidation_1-rmspe:0.105987\n",
      "[385]\tvalidation_0-rmse:0.080173\tvalidation_1-rmse:0.130195\tvalidation_0-rmspe:0.081994\tvalidation_1-rmspe:0.105984\n",
      "[386]\tvalidation_0-rmse:0.080069\tvalidation_1-rmse:0.13019\tvalidation_0-rmspe:0.081928\tvalidation_1-rmspe:0.105998\n",
      "[387]\tvalidation_0-rmse:0.079998\tvalidation_1-rmse:0.13018\tvalidation_0-rmspe:0.08187\tvalidation_1-rmspe:0.105981\n",
      "[388]\tvalidation_0-rmse:0.07984\tvalidation_1-rmse:0.130159\tvalidation_0-rmspe:0.081766\tvalidation_1-rmspe:0.105965\n",
      "[389]\tvalidation_0-rmse:0.079812\tvalidation_1-rmse:0.13014\tvalidation_0-rmspe:0.081742\tvalidation_1-rmspe:0.105955\n",
      "[390]\tvalidation_0-rmse:0.079787\tvalidation_1-rmse:0.130173\tvalidation_0-rmspe:0.0817\tvalidation_1-rmspe:0.106031\n",
      "[391]\tvalidation_0-rmse:0.0797\tvalidation_1-rmse:0.130311\tvalidation_0-rmspe:0.081621\tvalidation_1-rmspe:0.10608\n",
      "[392]\tvalidation_0-rmse:0.079536\tvalidation_1-rmse:0.130307\tvalidation_0-rmspe:0.081513\tvalidation_1-rmspe:0.10606\n",
      "[393]\tvalidation_0-rmse:0.079478\tvalidation_1-rmse:0.130289\tvalidation_0-rmspe:0.081489\tvalidation_1-rmspe:0.105984\n",
      "[394]\tvalidation_0-rmse:0.079424\tvalidation_1-rmse:0.130284\tvalidation_0-rmspe:0.081454\tvalidation_1-rmspe:0.105982\n",
      "[395]\tvalidation_0-rmse:0.079362\tvalidation_1-rmse:0.130273\tvalidation_0-rmspe:0.081369\tvalidation_1-rmspe:0.105968\n",
      "[396]\tvalidation_0-rmse:0.079323\tvalidation_1-rmse:0.130284\tvalidation_0-rmspe:0.081356\tvalidation_1-rmspe:0.105991\n",
      "[397]\tvalidation_0-rmse:0.079238\tvalidation_1-rmse:0.130275\tvalidation_0-rmspe:0.081283\tvalidation_1-rmspe:0.105964\n",
      "[398]\tvalidation_0-rmse:0.079106\tvalidation_1-rmse:0.130236\tvalidation_0-rmspe:0.081185\tvalidation_1-rmspe:0.105683\n",
      "[399]\tvalidation_0-rmse:0.07903\tvalidation_1-rmse:0.130226\tvalidation_0-rmspe:0.080957\tvalidation_1-rmspe:0.105679\n",
      "[400]\tvalidation_0-rmse:0.078984\tvalidation_1-rmse:0.130231\tvalidation_0-rmspe:0.080888\tvalidation_1-rmspe:0.105669\n",
      "[401]\tvalidation_0-rmse:0.078959\tvalidation_1-rmse:0.130252\tvalidation_0-rmspe:0.080844\tvalidation_1-rmspe:0.105656\n",
      "[402]\tvalidation_0-rmse:0.078895\tvalidation_1-rmse:0.130225\tvalidation_0-rmspe:0.080787\tvalidation_1-rmspe:0.105645\n",
      "[403]\tvalidation_0-rmse:0.078845\tvalidation_1-rmse:0.13023\tvalidation_0-rmspe:0.080762\tvalidation_1-rmspe:0.10566\n",
      "[404]\tvalidation_0-rmse:0.078781\tvalidation_1-rmse:0.130217\tvalidation_0-rmspe:0.080694\tvalidation_1-rmspe:0.105601\n",
      "[405]\tvalidation_0-rmse:0.078608\tvalidation_1-rmse:0.130203\tvalidation_0-rmspe:0.0806\tvalidation_1-rmspe:0.105578\n",
      "[406]\tvalidation_0-rmse:0.078591\tvalidation_1-rmse:0.130198\tvalidation_0-rmspe:0.08059\tvalidation_1-rmspe:0.105569\n",
      "[407]\tvalidation_0-rmse:0.07848\tvalidation_1-rmse:0.130194\tvalidation_0-rmspe:0.08052\tvalidation_1-rmspe:0.105572\n",
      "[408]\tvalidation_0-rmse:0.078457\tvalidation_1-rmse:0.130202\tvalidation_0-rmspe:0.080495\tvalidation_1-rmspe:0.105588\n",
      "[409]\tvalidation_0-rmse:0.078375\tvalidation_1-rmse:0.130199\tvalidation_0-rmspe:0.080429\tvalidation_1-rmspe:0.105566\n",
      "[410]\tvalidation_0-rmse:0.078297\tvalidation_1-rmse:0.130245\tvalidation_0-rmspe:0.080288\tvalidation_1-rmspe:0.105555\n",
      "[411]\tvalidation_0-rmse:0.078173\tvalidation_1-rmse:0.130242\tvalidation_0-rmspe:0.080212\tvalidation_1-rmspe:0.105559\n",
      "[412]\tvalidation_0-rmse:0.078117\tvalidation_1-rmse:0.130263\tvalidation_0-rmspe:0.080167\tvalidation_1-rmspe:0.105634\n",
      "[413]\tvalidation_0-rmse:0.078082\tvalidation_1-rmse:0.130239\tvalidation_0-rmspe:0.080132\tvalidation_1-rmspe:0.105564\n",
      "[414]\tvalidation_0-rmse:0.07802\tvalidation_1-rmse:0.130263\tvalidation_0-rmspe:0.080056\tvalidation_1-rmspe:0.105613\n",
      "[415]\tvalidation_0-rmse:0.077892\tvalidation_1-rmse:0.130246\tvalidation_0-rmspe:0.079974\tvalidation_1-rmspe:0.105566\n",
      "[416]\tvalidation_0-rmse:0.07782\tvalidation_1-rmse:0.130248\tvalidation_0-rmspe:0.07993\tvalidation_1-rmspe:0.10559\n",
      "[417]\tvalidation_0-rmse:0.077753\tvalidation_1-rmse:0.130266\tvalidation_0-rmspe:0.079847\tvalidation_1-rmspe:0.105567\n",
      "[418]\tvalidation_0-rmse:0.077643\tvalidation_1-rmse:0.130268\tvalidation_0-rmspe:0.079788\tvalidation_1-rmspe:0.105573\n",
      "[419]\tvalidation_0-rmse:0.07757\tvalidation_1-rmse:0.130279\tvalidation_0-rmspe:0.079702\tvalidation_1-rmspe:0.105581\n",
      "[420]\tvalidation_0-rmse:0.07744\tvalidation_1-rmse:0.130252\tvalidation_0-rmspe:0.079534\tvalidation_1-rmspe:0.105535\n",
      "[421]\tvalidation_0-rmse:0.077414\tvalidation_1-rmse:0.130255\tvalidation_0-rmspe:0.07949\tvalidation_1-rmspe:0.105538\n",
      "[422]\tvalidation_0-rmse:0.077363\tvalidation_1-rmse:0.130267\tvalidation_0-rmspe:0.079428\tvalidation_1-rmspe:0.105559\n",
      "[423]\tvalidation_0-rmse:0.077266\tvalidation_1-rmse:0.130256\tvalidation_0-rmspe:0.079331\tvalidation_1-rmspe:0.105578\n",
      "[424]\tvalidation_0-rmse:0.077197\tvalidation_1-rmse:0.13025\tvalidation_0-rmspe:0.078741\tvalidation_1-rmspe:0.10557\n",
      "[425]\tvalidation_0-rmse:0.077141\tvalidation_1-rmse:0.130231\tvalidation_0-rmspe:0.078688\tvalidation_1-rmspe:0.105546\n",
      "[426]\tvalidation_0-rmse:0.077027\tvalidation_1-rmse:0.13025\tvalidation_0-rmspe:0.078254\tvalidation_1-rmspe:0.105627\n",
      "[427]\tvalidation_0-rmse:0.076946\tvalidation_1-rmse:0.130242\tvalidation_0-rmspe:0.078162\tvalidation_1-rmspe:0.105627\n"
     ]
    },
    {
     "name": "stdout",
     "output_type": "stream",
     "text": [
      "[428]\tvalidation_0-rmse:0.076912\tvalidation_1-rmse:0.13024\tvalidation_0-rmspe:0.078125\tvalidation_1-rmspe:0.105619\n",
      "[429]\tvalidation_0-rmse:0.076847\tvalidation_1-rmse:0.13022\tvalidation_0-rmspe:0.078062\tvalidation_1-rmspe:0.105506\n",
      "[430]\tvalidation_0-rmse:0.076796\tvalidation_1-rmse:0.130216\tvalidation_0-rmspe:0.078016\tvalidation_1-rmspe:0.105491\n",
      "[431]\tvalidation_0-rmse:0.076717\tvalidation_1-rmse:0.13024\tvalidation_0-rmspe:0.077974\tvalidation_1-rmspe:0.105487\n",
      "[432]\tvalidation_0-rmse:0.076609\tvalidation_1-rmse:0.130246\tvalidation_0-rmspe:0.077889\tvalidation_1-rmspe:0.105505\n",
      "[433]\tvalidation_0-rmse:0.076564\tvalidation_1-rmse:0.130233\tvalidation_0-rmspe:0.077859\tvalidation_1-rmspe:0.105517\n",
      "[434]\tvalidation_0-rmse:0.076518\tvalidation_1-rmse:0.130239\tvalidation_0-rmspe:0.077811\tvalidation_1-rmspe:0.105539\n",
      "[435]\tvalidation_0-rmse:0.076461\tvalidation_1-rmse:0.130246\tvalidation_0-rmspe:0.07776\tvalidation_1-rmspe:0.105561\n",
      "[436]\tvalidation_0-rmse:0.076415\tvalidation_1-rmse:0.130252\tvalidation_0-rmspe:0.077712\tvalidation_1-rmspe:0.1055\n",
      "[437]\tvalidation_0-rmse:0.076337\tvalidation_1-rmse:0.130257\tvalidation_0-rmspe:0.077664\tvalidation_1-rmspe:0.105519\n",
      "[438]\tvalidation_0-rmse:0.076267\tvalidation_1-rmse:0.130256\tvalidation_0-rmspe:0.077625\tvalidation_1-rmspe:0.105543\n",
      "[439]\tvalidation_0-rmse:0.076174\tvalidation_1-rmse:0.130265\tvalidation_0-rmspe:0.077595\tvalidation_1-rmspe:0.10552\n",
      "[440]\tvalidation_0-rmse:0.076141\tvalidation_1-rmse:0.130291\tvalidation_0-rmspe:0.07758\tvalidation_1-rmspe:0.105545\n",
      "[441]\tvalidation_0-rmse:0.07606\tvalidation_1-rmse:0.130257\tvalidation_0-rmspe:0.077523\tvalidation_1-rmspe:0.105534\n",
      "[442]\tvalidation_0-rmse:0.076005\tvalidation_1-rmse:0.130248\tvalidation_0-rmspe:0.077487\tvalidation_1-rmspe:0.105519\n",
      "[443]\tvalidation_0-rmse:0.075928\tvalidation_1-rmse:0.130271\tvalidation_0-rmspe:0.077427\tvalidation_1-rmspe:0.105527\n",
      "[444]\tvalidation_0-rmse:0.075831\tvalidation_1-rmse:0.130295\tvalidation_0-rmspe:0.07737\tvalidation_1-rmspe:0.105524\n",
      "[445]\tvalidation_0-rmse:0.075793\tvalidation_1-rmse:0.130276\tvalidation_0-rmspe:0.077333\tvalidation_1-rmspe:0.105519\n",
      "[446]\tvalidation_0-rmse:0.075745\tvalidation_1-rmse:0.130302\tvalidation_0-rmspe:0.077286\tvalidation_1-rmspe:0.105534\n",
      "[447]\tvalidation_0-rmse:0.075722\tvalidation_1-rmse:0.130285\tvalidation_0-rmspe:0.077281\tvalidation_1-rmspe:0.105534\n",
      "[448]\tvalidation_0-rmse:0.075689\tvalidation_1-rmse:0.13028\tvalidation_0-rmspe:0.077278\tvalidation_1-rmspe:0.105485\n",
      "[449]\tvalidation_0-rmse:0.075609\tvalidation_1-rmse:0.130286\tvalidation_0-rmspe:0.07723\tvalidation_1-rmspe:0.105471\n",
      "[450]\tvalidation_0-rmse:0.075523\tvalidation_1-rmse:0.130294\tvalidation_0-rmspe:0.077166\tvalidation_1-rmspe:0.105472\n",
      "[451]\tvalidation_0-rmse:0.075466\tvalidation_1-rmse:0.130282\tvalidation_0-rmspe:0.077102\tvalidation_1-rmspe:0.105454\n",
      "[452]\tvalidation_0-rmse:0.075435\tvalidation_1-rmse:0.130273\tvalidation_0-rmspe:0.077046\tvalidation_1-rmspe:0.105431\n",
      "[453]\tvalidation_0-rmse:0.075392\tvalidation_1-rmse:0.130299\tvalidation_0-rmspe:0.07701\tvalidation_1-rmspe:0.105429\n",
      "[454]\tvalidation_0-rmse:0.075348\tvalidation_1-rmse:0.130305\tvalidation_0-rmspe:0.076971\tvalidation_1-rmspe:0.105432\n",
      "[455]\tvalidation_0-rmse:0.075275\tvalidation_1-rmse:0.130298\tvalidation_0-rmspe:0.076913\tvalidation_1-rmspe:0.105444\n",
      "[456]\tvalidation_0-rmse:0.075219\tvalidation_1-rmse:0.130286\tvalidation_0-rmspe:0.076868\tvalidation_1-rmspe:0.105451\n",
      "[457]\tvalidation_0-rmse:0.075174\tvalidation_1-rmse:0.130293\tvalidation_0-rmspe:0.076842\tvalidation_1-rmspe:0.105453\n",
      "[458]\tvalidation_0-rmse:0.0751\tvalidation_1-rmse:0.130284\tvalidation_0-rmspe:0.076787\tvalidation_1-rmspe:0.105454\n",
      "[459]\tvalidation_0-rmse:0.075052\tvalidation_1-rmse:0.13028\tvalidation_0-rmspe:0.076755\tvalidation_1-rmspe:0.105448\n",
      "[460]\tvalidation_0-rmse:0.074983\tvalidation_1-rmse:0.130259\tvalidation_0-rmspe:0.076688\tvalidation_1-rmspe:0.105393\n",
      "[461]\tvalidation_0-rmse:0.074945\tvalidation_1-rmse:0.130264\tvalidation_0-rmspe:0.076656\tvalidation_1-rmspe:0.105406\n",
      "[462]\tvalidation_0-rmse:0.074875\tvalidation_1-rmse:0.130266\tvalidation_0-rmspe:0.076602\tvalidation_1-rmspe:0.105407\n",
      "[463]\tvalidation_0-rmse:0.074793\tvalidation_1-rmse:0.130263\tvalidation_0-rmspe:0.076494\tvalidation_1-rmspe:0.105403\n",
      "[464]\tvalidation_0-rmse:0.074761\tvalidation_1-rmse:0.130259\tvalidation_0-rmspe:0.076451\tvalidation_1-rmspe:0.105409\n",
      "[465]\tvalidation_0-rmse:0.074744\tvalidation_1-rmse:0.130254\tvalidation_0-rmspe:0.076443\tvalidation_1-rmspe:0.105403\n",
      "[466]\tvalidation_0-rmse:0.074729\tvalidation_1-rmse:0.130249\tvalidation_0-rmspe:0.076417\tvalidation_1-rmspe:0.10538\n",
      "[467]\tvalidation_0-rmse:0.074673\tvalidation_1-rmse:0.13023\tvalidation_0-rmspe:0.076351\tvalidation_1-rmspe:0.10533\n",
      "[468]\tvalidation_0-rmse:0.074612\tvalidation_1-rmse:0.130234\tvalidation_0-rmspe:0.076304\tvalidation_1-rmspe:0.105348\n",
      "[469]\tvalidation_0-rmse:0.074513\tvalidation_1-rmse:0.130223\tvalidation_0-rmspe:0.076211\tvalidation_1-rmspe:0.105359\n",
      "[470]\tvalidation_0-rmse:0.074477\tvalidation_1-rmse:0.130195\tvalidation_0-rmspe:0.076191\tvalidation_1-rmspe:0.105288\n",
      "[471]\tvalidation_0-rmse:0.074407\tvalidation_1-rmse:0.130168\tvalidation_0-rmspe:0.076117\tvalidation_1-rmspe:0.105264\n",
      "[472]\tvalidation_0-rmse:0.074349\tvalidation_1-rmse:0.130183\tvalidation_0-rmspe:0.076035\tvalidation_1-rmspe:0.105247\n",
      "[473]\tvalidation_0-rmse:0.074312\tvalidation_1-rmse:0.130193\tvalidation_0-rmspe:0.075987\tvalidation_1-rmspe:0.105271\n",
      "[474]\tvalidation_0-rmse:0.074285\tvalidation_1-rmse:0.130185\tvalidation_0-rmspe:0.075937\tvalidation_1-rmspe:0.105265\n",
      "[475]\tvalidation_0-rmse:0.074213\tvalidation_1-rmse:0.130186\tvalidation_0-rmspe:0.075829\tvalidation_1-rmspe:0.105315\n",
      "[476]\tvalidation_0-rmse:0.074137\tvalidation_1-rmse:0.130164\tvalidation_0-rmspe:0.075747\tvalidation_1-rmspe:0.105225\n",
      "[477]\tvalidation_0-rmse:0.074052\tvalidation_1-rmse:0.130141\tvalidation_0-rmspe:0.07551\tvalidation_1-rmspe:0.105171\n",
      "[478]\tvalidation_0-rmse:0.073992\tvalidation_1-rmse:0.130131\tvalidation_0-rmspe:0.075383\tvalidation_1-rmspe:0.10514\n",
      "[479]\tvalidation_0-rmse:0.073929\tvalidation_1-rmse:0.130133\tvalidation_0-rmspe:0.075315\tvalidation_1-rmspe:0.105134\n",
      "[480]\tvalidation_0-rmse:0.073882\tvalidation_1-rmse:0.130137\tvalidation_0-rmspe:0.075242\tvalidation_1-rmspe:0.105176\n",
      "[481]\tvalidation_0-rmse:0.073831\tvalidation_1-rmse:0.130111\tvalidation_0-rmspe:0.075196\tvalidation_1-rmspe:0.105191\n",
      "[482]\tvalidation_0-rmse:0.073754\tvalidation_1-rmse:0.130101\tvalidation_0-rmspe:0.075128\tvalidation_1-rmspe:0.104878\n",
      "[483]\tvalidation_0-rmse:0.07368\tvalidation_1-rmse:0.130099\tvalidation_0-rmspe:0.075077\tvalidation_1-rmspe:0.104839\n",
      "[484]\tvalidation_0-rmse:0.07365\tvalidation_1-rmse:0.130077\tvalidation_0-rmspe:0.075055\tvalidation_1-rmspe:0.104839\n",
      "[485]\tvalidation_0-rmse:0.073608\tvalidation_1-rmse:0.130101\tvalidation_0-rmspe:0.075032\tvalidation_1-rmspe:0.104905\n",
      "[486]\tvalidation_0-rmse:0.073589\tvalidation_1-rmse:0.130094\tvalidation_0-rmspe:0.075004\tvalidation_1-rmspe:0.104902\n",
      "[487]\tvalidation_0-rmse:0.07355\tvalidation_1-rmse:0.13012\tvalidation_0-rmspe:0.074974\tvalidation_1-rmspe:0.104918\n",
      "[488]\tvalidation_0-rmse:0.073517\tvalidation_1-rmse:0.130131\tvalidation_0-rmspe:0.074935\tvalidation_1-rmspe:0.104912\n",
      "[489]\tvalidation_0-rmse:0.073455\tvalidation_1-rmse:0.13011\tvalidation_0-rmspe:0.074873\tvalidation_1-rmspe:0.104876\n",
      "[490]\tvalidation_0-rmse:0.073385\tvalidation_1-rmse:0.13012\tvalidation_0-rmspe:0.074819\tvalidation_1-rmspe:0.104865\n",
      "[491]\tvalidation_0-rmse:0.073349\tvalidation_1-rmse:0.13011\tvalidation_0-rmspe:0.074778\tvalidation_1-rmspe:0.104874\n",
      "[492]\tvalidation_0-rmse:0.073311\tvalidation_1-rmse:0.130097\tvalidation_0-rmspe:0.074727\tvalidation_1-rmspe:0.104872\n",
      "[493]\tvalidation_0-rmse:0.073251\tvalidation_1-rmse:0.130081\tvalidation_0-rmspe:0.074644\tvalidation_1-rmspe:0.104858\n",
      "[494]\tvalidation_0-rmse:0.073196\tvalidation_1-rmse:0.130083\tvalidation_0-rmspe:0.074606\tvalidation_1-rmspe:0.104927\n",
      "[495]\tvalidation_0-rmse:0.073105\tvalidation_1-rmse:0.130075\tvalidation_0-rmspe:0.074558\tvalidation_1-rmspe:0.104918\n",
      "[496]\tvalidation_0-rmse:0.073036\tvalidation_1-rmse:0.130065\tvalidation_0-rmspe:0.074507\tvalidation_1-rmspe:0.104911\n",
      "[497]\tvalidation_0-rmse:0.072933\tvalidation_1-rmse:0.130102\tvalidation_0-rmspe:0.074425\tvalidation_1-rmspe:0.104926\n",
      "[498]\tvalidation_0-rmse:0.072881\tvalidation_1-rmse:0.130101\tvalidation_0-rmspe:0.074365\tvalidation_1-rmspe:0.10493\n"
     ]
    },
    {
     "name": "stdout",
     "output_type": "stream",
     "text": [
      "[499]\tvalidation_0-rmse:0.072809\tvalidation_1-rmse:0.130083\tvalidation_0-rmspe:0.074293\tvalidation_1-rmspe:0.104918\n",
      "[500]\tvalidation_0-rmse:0.072748\tvalidation_1-rmse:0.130062\tvalidation_0-rmspe:0.074241\tvalidation_1-rmspe:0.104919\n",
      "[501]\tvalidation_0-rmse:0.072676\tvalidation_1-rmse:0.130052\tvalidation_0-rmspe:0.074163\tvalidation_1-rmspe:0.104916\n",
      "[502]\tvalidation_0-rmse:0.07262\tvalidation_1-rmse:0.130049\tvalidation_0-rmspe:0.074117\tvalidation_1-rmspe:0.104908\n",
      "[503]\tvalidation_0-rmse:0.0726\tvalidation_1-rmse:0.13005\tvalidation_0-rmspe:0.074109\tvalidation_1-rmspe:0.104929\n",
      "Stopping. Best iteration:\n",
      "[483]\tvalidation_0-rmse:0.07368\tvalidation_1-rmse:0.130099\tvalidation_0-rmspe:0.075077\tvalidation_1-rmspe:0.104839\n",
      "\n",
      "Train use time: 716.4158079624176\n"
     ]
    }
   ],
   "source": [
    "params = {\"objective\": \"reg:linear\",\n",
    "          \"eta\": 0.1,\n",
    "          \"max_depth\": 12,\n",
    "          \"min_child_weight\":1,\n",
    "          \"gamma\" :0,\n",
    "          \"subsample\": 0.7,\n",
    "          \"colsample_bytree\": 0.7,\n",
    "          \"silent\": 1\n",
    "          }\n",
    "num_trees = 1000\n",
    "\n",
    "# dtrain = xgb.DMatrix(X_train, Y_train)\n",
    "# dvalid = xgb.DMatrix(X_valid, Y_valid)\n",
    "# dtest = xgb.DMatrix(test)\n",
    "eval_set= [(X_train, Y_train),(X_valid, Y_valid)]\n",
    "#watchlist = [(dvalid, 'eval'), (dtrain, 'train')]\n",
    "ret = {}\n",
    "import time\n",
    "start = time.time()\n",
    "estimator = xgb.XGBRegressor(max_depth=12,learning_rate =0.1,n_jobs =4, n_estimators=num_trees,subsample=0.8,colsample_bytree=0.8,nthread=4,scale_pos_weight=1)\n",
    "estimator.fit(X_train, Y_train,eval_metric=rmspe_xg, eval_set=eval_set, verbose=True,early_stopping_rounds=20)\n",
    "#gbm = xgb.train(params, dtrain, num_trees, evals=watchlist, early_stopping_rounds=50,evals_result =ret, feval=rmspe_xg, verbose_eval=True)\n",
    "end = time.time()\n",
    "print(\"Train use time:\",end-start)"
   ]
  },
  {
   "cell_type": "code",
   "execution_count": 18,
   "metadata": {},
   "outputs": [
    {
     "data": {
      "image/png": "[encoded data removed]",
      "text/plain": [
       "<Figure size 432x288 with 1 Axes>"
      ]
     },
     "metadata": {
      "needs_background": "light"
     },
     "output_type": "display_data"
    }
   ],
   "source": [
    "from matplotlib import pyplot\n",
    "results = estimator.evals_result()\n",
    "epochs = len(results['validation_0']['rmspe'])\n",
    "x_axis = range(0, epochs)\n",
    "# plot log loss\n",
    "fig, ax = pyplot.subplots()\n",
    "ax.plot(x_axis, results['validation_0']['rmspe'], label='Train')\n",
    "ax.plot(x_axis, results['validation_1']['rmspe'], label='Test')\n",
    "ax.legend()\n",
    "pyplot.ylabel('Rmspe Loss')\n",
    "pyplot.title('XGBoost Rmspe Loss')\n",
    "pyplot.show()"
   ]
  },
  {
   "cell_type": "code",
   "execution_count": null,
   "metadata": {},
   "outputs": [
    {
     "name": "stdout",
     "output_type": "stream",
     "text": [
      "Fitting 3 folds for each of 2 candidates, totalling 6 fits\n",
      "[CV] max_depth=10 ....................................................\n"
     ]
    },
    {
     "name": "stderr",
     "output_type": "stream",
     "text": [
      "[Parallel(n_jobs=1)]: Using backend SequentialBackend with 1 concurrent workers.\n"
     ]
    },
    {
     "name": "stdout",
     "output_type": "stream",
     "text": [
      "[CV] ..................................... max_depth=10, total=11.6min\n",
      "[CV] max_depth=10 ....................................................\n"
     ]
    },
    {
     "name": "stderr",
     "output_type": "stream",
     "text": [
      "[Parallel(n_jobs=1)]: Done   1 out of   1 | elapsed: 12.5min remaining:    0.0s\n"
     ]
    },
    {
     "name": "stdout",
     "output_type": "stream",
     "text": [
      "[CV] ..................................... max_depth=10, total=11.1min\n",
      "[CV] max_depth=10 ....................................................\n",
      "[CV] ..................................... max_depth=10, total=10.9min\n",
      "[CV] max_depth=12 ....................................................\n",
      "[CV] ..................................... max_depth=12, total=13.0min\n",
      "[CV] max_depth=12 ....................................................\n",
      "[CV] ..................................... max_depth=12, total=13.0min\n",
      "[CV] max_depth=12 ....................................................\n"
     ]
    }
   ],
   "source": [
    "from sklearn.model_selection import GridSearchCV\n",
    "from sklearn.metrics import mean_squared_error\n",
    "param_test1 = {\n",
    " 'max_depth':range(10,13,2),\n",
    " #'subsample': [0.6,0.7,0.8,0.9],\n",
    " #'learning_rate': [0.08,0.1,0.11,0.12,0.13]\n",
    "}\n",
    "nums_round = 483\n",
    "gsearch1 = GridSearchCV(estimator = estimator,\n",
    "                        param_grid = param_test1,cv=3,verbose=2,scoring='neg_mean_squared_error')\n",
    "gsearch1.fit(X_train, Y_train)"
   ]
  },
  {
   "cell_type": "code",
   "execution_count": null,
   "metadata": {},
   "outputs": [],
   "source": [
    "print(gsearch1.best_params_)"
   ]
  },
  {
   "cell_type": "markdown",
   "metadata": {},
   "source": [
    "param_test2 = {\n",
    " 'gamma':[i/10.0 for i in range(0,5)]\n",
    "}\n",
    "gsearch2 = GridSearchCV(estimator = xgb.XGBRegressor(max_depth=9,learning_rate =0.1, n_estimators=36,min_child_weight=3, gamma=0,verbose = 10,subsample=0.8,colsample_bytree=0.8,nthread=4,scale_pos_weight=1),\n",
    "                        param_grid = param_test2,scoring ='neg_mean_squared_error',cv=5)\n",
    "\n",
    "gsearch2.fit(X_train, Y_train)\n"
   ]
  },
  {
   "cell_type": "code",
   "execution_count": 27,
   "metadata": {},
   "outputs": [
    {
     "name": "stdout",
     "output_type": "stream",
     "text": [
      "{'gamma': 0.1}\n"
     ]
    }
   ],
   "source": [
    "print(gsearch2.best_params_)"
   ]
  },
  {
   "cell_type": "code",
   "execution_count": 73,
   "metadata": {},
   "outputs": [
    {
     "name": "stdout",
     "output_type": "stream",
     "text": [
      "[0]\teval-rmse:6.61459\ttrain-rmse:6.61894\teval-rmspe:0.998646\ttrain-rmspe:0.998669\n",
      "Multiple eval metrics have been passed: 'train-rmspe' will be used for early stopping.\n",
      "\n",
      "Will train until train-rmspe hasn't improved in 50 rounds.\n",
      "[1]\teval-rmse:5.29584\ttrain-rmse:5.29992\teval-rmspe:0.994636\ttrain-rmspe:0.994675\n",
      "[2]\teval-rmse:4.24143\ttrain-rmse:4.24475\teval-rmspe:0.984512\ttrain-rmspe:0.984574\n",
      "[3]\teval-rmse:3.39884\ttrain-rmse:3.40132\teval-rmspe:0.96411\ttrain-rmspe:0.964207\n",
      "[4]\teval-rmse:2.72533\ttrain-rmse:2.72748\teval-rmspe:0.929864\ttrain-rmspe:0.930031\n",
      "[5]\teval-rmse:2.18715\ttrain-rmse:2.18856\teval-rmspe:0.880713\ttrain-rmspe:0.880935\n",
      "[6]\teval-rmse:1.75839\ttrain-rmse:1.75941\teval-rmspe:0.817425\ttrain-rmspe:0.817879\n",
      "[7]\teval-rmse:1.41743\ttrain-rmse:1.41803\teval-rmspe:0.743716\ttrain-rmspe:0.744687\n",
      "[8]\teval-rmse:1.1459\ttrain-rmse:1.1466\teval-rmspe:0.664653\ttrain-rmspe:0.666665\n",
      "[9]\teval-rmse:0.931714\ttrain-rmse:0.932273\teval-rmspe:0.585377\ttrain-rmspe:0.589114\n",
      "[10]\teval-rmse:0.756586\ttrain-rmse:0.756927\teval-rmspe:0.510045\ttrain-rmspe:0.516309\n",
      "[11]\teval-rmse:0.623839\ttrain-rmse:0.62378\teval-rmspe:0.441878\ttrain-rmspe:0.451437\n",
      "[12]\teval-rmse:0.518687\ttrain-rmse:0.518125\teval-rmspe:0.382467\ttrain-rmspe:0.396053\n",
      "[13]\teval-rmse:0.439355\ttrain-rmse:0.438042\teval-rmspe:0.333806\ttrain-rmspe:0.352079\n",
      "[14]\teval-rmse:0.379455\ttrain-rmse:0.377436\teval-rmspe:0.295716\ttrain-rmspe:0.319407\n",
      "[15]\teval-rmse:0.331541\ttrain-rmse:0.329016\teval-rmspe:0.264409\ttrain-rmspe:0.293193\n",
      "[16]\teval-rmse:0.295032\ttrain-rmse:0.292192\teval-rmspe:0.240569\ttrain-rmspe:0.275175\n",
      "[17]\teval-rmse:0.270894\ttrain-rmse:0.267224\teval-rmspe:0.225729\ttrain-rmspe:0.264625\n",
      "[18]\teval-rmse:0.252648\ttrain-rmse:0.248007\teval-rmspe:0.215049\ttrain-rmspe:0.256723\n",
      "[19]\teval-rmse:0.237101\ttrain-rmse:0.232298\teval-rmspe:0.20566\ttrain-rmspe:0.250517\n",
      "[20]\teval-rmse:0.225996\ttrain-rmse:0.220795\teval-rmspe:0.199021\ttrain-rmspe:0.246934\n",
      "[21]\teval-rmse:0.219521\ttrain-rmse:0.214\teval-rmspe:0.196321\ttrain-rmspe:0.246997\n",
      "[22]\teval-rmse:0.209697\ttrain-rmse:0.203868\teval-rmspe:0.189237\ttrain-rmspe:0.241278\n",
      "[23]\teval-rmse:0.203259\ttrain-rmse:0.196836\teval-rmspe:0.184212\ttrain-rmspe:0.23688\n",
      "[24]\teval-rmse:0.199062\ttrain-rmse:0.192066\teval-rmspe:0.181864\ttrain-rmspe:0.233939\n",
      "[25]\teval-rmse:0.194479\ttrain-rmse:0.187435\teval-rmspe:0.178472\ttrain-rmspe:0.231813\n",
      "[26]\teval-rmse:0.192876\ttrain-rmse:0.185319\teval-rmspe:0.178105\ttrain-rmspe:0.231428\n",
      "[27]\teval-rmse:0.191456\ttrain-rmse:0.183543\teval-rmspe:0.177583\ttrain-rmspe:0.229765\n",
      "[28]\teval-rmse:0.187622\ttrain-rmse:0.179431\teval-rmspe:0.17416\ttrain-rmspe:0.226983\n",
      "[29]\teval-rmse:0.186353\ttrain-rmse:0.17795\teval-rmspe:0.173491\ttrain-rmspe:0.224986\n",
      "[30]\teval-rmse:0.183392\ttrain-rmse:0.174513\teval-rmspe:0.170514\ttrain-rmspe:0.221731\n",
      "[31]\teval-rmse:0.181734\ttrain-rmse:0.172662\teval-rmspe:0.169159\ttrain-rmspe:0.220653\n",
      "[32]\teval-rmse:0.179849\ttrain-rmse:0.170341\teval-rmspe:0.167091\ttrain-rmspe:0.217786\n",
      "[33]\teval-rmse:0.179234\ttrain-rmse:0.169601\teval-rmspe:0.166618\ttrain-rmspe:0.217433\n",
      "[34]\teval-rmse:0.17701\ttrain-rmse:0.167059\teval-rmspe:0.164233\ttrain-rmspe:0.21552\n",
      "[35]\teval-rmse:0.175183\ttrain-rmse:0.165131\teval-rmspe:0.162063\ttrain-rmspe:0.213526\n",
      "[36]\teval-rmse:0.174531\ttrain-rmse:0.164107\teval-rmspe:0.161476\ttrain-rmspe:0.212739\n",
      "[37]\teval-rmse:0.174113\ttrain-rmse:0.163451\teval-rmspe:0.161088\ttrain-rmspe:0.212337\n",
      "[38]\teval-rmse:0.171694\ttrain-rmse:0.160851\teval-rmspe:0.158682\ttrain-rmspe:0.210371\n",
      "[39]\teval-rmse:0.168813\ttrain-rmse:0.157764\teval-rmspe:0.155219\ttrain-rmspe:0.207715\n",
      "[40]\teval-rmse:0.166753\ttrain-rmse:0.155458\teval-rmspe:0.15285\ttrain-rmspe:0.205819\n",
      "[41]\teval-rmse:0.166454\ttrain-rmse:0.154958\teval-rmspe:0.152504\ttrain-rmspe:0.205825\n",
      "[42]\teval-rmse:0.166203\ttrain-rmse:0.154389\teval-rmspe:0.152104\ttrain-rmspe:0.20516\n",
      "[43]\teval-rmse:0.165257\ttrain-rmse:0.153264\teval-rmspe:0.150841\ttrain-rmspe:0.204022\n",
      "[44]\teval-rmse:0.163863\ttrain-rmse:0.151699\teval-rmspe:0.149159\ttrain-rmspe:0.201037\n",
      "[45]\teval-rmse:0.162762\ttrain-rmse:0.150348\teval-rmspe:0.147918\ttrain-rmspe:0.199904\n",
      "[46]\teval-rmse:0.1625\ttrain-rmse:0.150104\teval-rmspe:0.147626\ttrain-rmspe:0.199394\n",
      "[47]\teval-rmse:0.161565\ttrain-rmse:0.148956\teval-rmspe:0.146575\ttrain-rmspe:0.198423\n",
      "[48]\teval-rmse:0.160498\ttrain-rmse:0.147778\teval-rmspe:0.145201\ttrain-rmspe:0.195958\n",
      "[49]\teval-rmse:0.159796\ttrain-rmse:0.14665\teval-rmspe:0.14425\ttrain-rmspe:0.194594\n",
      "[50]\teval-rmse:0.158459\ttrain-rmse:0.145142\teval-rmspe:0.142587\ttrain-rmspe:0.193201\n",
      "[51]\teval-rmse:0.158091\ttrain-rmse:0.144524\teval-rmspe:0.142112\ttrain-rmspe:0.192427\n",
      "[52]\teval-rmse:0.157011\ttrain-rmse:0.142962\teval-rmspe:0.140785\ttrain-rmspe:0.190893\n",
      "[53]\teval-rmse:0.156693\ttrain-rmse:0.142551\teval-rmspe:0.140283\ttrain-rmspe:0.190182\n",
      "[54]\teval-rmse:0.154595\ttrain-rmse:0.140252\teval-rmspe:0.137774\ttrain-rmspe:0.188232\n",
      "[55]\teval-rmse:0.154202\ttrain-rmse:0.139662\teval-rmspe:0.137378\ttrain-rmspe:0.187309\n",
      "[56]\teval-rmse:0.153735\ttrain-rmse:0.139011\teval-rmspe:0.136774\ttrain-rmspe:0.186653\n",
      "[57]\teval-rmse:0.151837\ttrain-rmse:0.136912\teval-rmspe:0.134363\ttrain-rmspe:0.184924\n",
      "[58]\teval-rmse:0.151359\ttrain-rmse:0.136359\teval-rmspe:0.13401\ttrain-rmspe:0.184465\n",
      "[59]\teval-rmse:0.151195\ttrain-rmse:0.135972\teval-rmspe:0.133836\ttrain-rmspe:0.18408\n",
      "[60]\teval-rmse:0.149748\ttrain-rmse:0.134349\teval-rmspe:0.132404\ttrain-rmspe:0.182793\n",
      "[61]\teval-rmse:0.149556\ttrain-rmse:0.134112\teval-rmspe:0.132206\ttrain-rmspe:0.182537\n",
      "[62]\teval-rmse:0.148943\ttrain-rmse:0.133199\teval-rmspe:0.131409\ttrain-rmspe:0.181406\n",
      "[63]\teval-rmse:0.148449\ttrain-rmse:0.13253\teval-rmspe:0.130874\ttrain-rmspe:0.180876\n",
      "[64]\teval-rmse:0.148056\ttrain-rmse:0.131967\teval-rmspe:0.130337\ttrain-rmspe:0.180553\n",
      "[65]\teval-rmse:0.147268\ttrain-rmse:0.131026\teval-rmspe:0.129477\ttrain-rmspe:0.17982\n",
      "[66]\teval-rmse:0.147033\ttrain-rmse:0.130657\teval-rmspe:0.129224\ttrain-rmspe:0.179696\n",
      "[67]\teval-rmse:0.146907\ttrain-rmse:0.130547\teval-rmspe:0.129064\ttrain-rmspe:0.179595\n",
      "[68]\teval-rmse:0.146528\ttrain-rmse:0.129933\teval-rmspe:0.128615\ttrain-rmspe:0.178385\n",
      "[69]\teval-rmse:0.145986\ttrain-rmse:0.12933\teval-rmspe:0.128087\ttrain-rmspe:0.175952\n",
      "[70]\teval-rmse:0.145641\ttrain-rmse:0.128976\teval-rmspe:0.127703\ttrain-rmspe:0.174791\n",
      "[71]\teval-rmse:0.144878\ttrain-rmse:0.128103\teval-rmspe:0.126761\ttrain-rmspe:0.17409\n",
      "[72]\teval-rmse:0.144003\ttrain-rmse:0.127286\teval-rmspe:0.125933\ttrain-rmspe:0.173399\n",
      "[73]\teval-rmse:0.143306\ttrain-rmse:0.126501\teval-rmspe:0.124953\ttrain-rmspe:0.172829\n",
      "[74]\teval-rmse:0.1432\ttrain-rmse:0.126254\teval-rmspe:0.124816\ttrain-rmspe:0.172462\n",
      "[75]\teval-rmse:0.143095\ttrain-rmse:0.125987\teval-rmspe:0.124774\ttrain-rmspe:0.172342\n",
      "[76]\teval-rmse:0.142907\ttrain-rmse:0.125768\teval-rmspe:0.124571\ttrain-rmspe:0.172164\n",
      "[77]\teval-rmse:0.14269\ttrain-rmse:0.125422\teval-rmspe:0.124471\ttrain-rmspe:0.171549\n",
      "[78]\teval-rmse:0.142545\ttrain-rmse:0.125088\teval-rmspe:0.124332\ttrain-rmspe:0.171096\n",
      "[79]\teval-rmse:0.142405\ttrain-rmse:0.124935\teval-rmspe:0.12415\ttrain-rmspe:0.170789\n",
      "[80]\teval-rmse:0.142196\ttrain-rmse:0.124664\teval-rmspe:0.123951\ttrain-rmspe:0.170437\n",
      "[81]\teval-rmse:0.142117\ttrain-rmse:0.124509\teval-rmspe:0.123874\ttrain-rmspe:0.170318\n",
      "[82]\teval-rmse:0.142022\ttrain-rmse:0.124253\teval-rmspe:0.123764\ttrain-rmspe:0.170156\n",
      "[83]\teval-rmse:0.141486\ttrain-rmse:0.123646\teval-rmspe:0.123201\ttrain-rmspe:0.169589\n",
      "[84]\teval-rmse:0.141265\ttrain-rmse:0.1233\teval-rmspe:0.122985\ttrain-rmspe:0.169611\n",
      "[85]\teval-rmse:0.14123\ttrain-rmse:0.122943\teval-rmspe:0.123016\ttrain-rmspe:0.169133\n",
      "[86]\teval-rmse:0.141135\ttrain-rmse:0.122606\teval-rmspe:0.122832\ttrain-rmspe:0.168279\n",
      "[87]\teval-rmse:0.140809\ttrain-rmse:0.122093\teval-rmspe:0.122446\ttrain-rmspe:0.167782\n",
      "[88]\teval-rmse:0.140601\ttrain-rmse:0.121803\teval-rmspe:0.12241\ttrain-rmspe:0.168468\n",
      "[89]\teval-rmse:0.140476\ttrain-rmse:0.12154\teval-rmspe:0.12229\ttrain-rmspe:0.168275\n",
      "[90]\teval-rmse:0.140087\ttrain-rmse:0.121048\teval-rmspe:0.121846\ttrain-rmspe:0.167837\n",
      "[91]\teval-rmse:0.139985\ttrain-rmse:0.120799\teval-rmspe:0.121719\ttrain-rmspe:0.167718\n",
      "[92]\teval-rmse:0.139744\ttrain-rmse:0.120514\teval-rmspe:0.121357\ttrain-rmspe:0.167388\n",
      "[93]\teval-rmse:0.139618\ttrain-rmse:0.120093\teval-rmspe:0.121529\ttrain-rmspe:0.167203\n",
      "[94]\teval-rmse:0.139336\ttrain-rmse:0.119638\teval-rmspe:0.121055\ttrain-rmspe:0.163798\n",
      "[95]\teval-rmse:0.139168\ttrain-rmse:0.119307\teval-rmspe:0.12087\ttrain-rmspe:0.163532\n"
     ]
    },
    {
     "name": "stdout",
     "output_type": "stream",
     "text": [
      "[96]\teval-rmse:0.138973\ttrain-rmse:0.119073\teval-rmspe:0.120678\ttrain-rmspe:0.163384\n",
      "[97]\teval-rmse:0.13894\ttrain-rmse:0.118893\teval-rmspe:0.120613\ttrain-rmspe:0.163226\n",
      "[98]\teval-rmse:0.138951\ttrain-rmse:0.118786\teval-rmspe:0.120606\ttrain-rmspe:0.163189\n",
      "[99]\teval-rmse:0.138824\ttrain-rmse:0.118624\teval-rmspe:0.120402\ttrain-rmspe:0.163015\n",
      "[100]\teval-rmse:0.138793\ttrain-rmse:0.118578\teval-rmspe:0.120377\ttrain-rmspe:0.163249\n",
      "[101]\teval-rmse:0.138611\ttrain-rmse:0.118318\teval-rmspe:0.120166\ttrain-rmspe:0.162939\n",
      "[102]\teval-rmse:0.138572\ttrain-rmse:0.118088\teval-rmspe:0.120133\ttrain-rmspe:0.162868\n",
      "[103]\teval-rmse:0.138488\ttrain-rmse:0.117889\teval-rmspe:0.120042\ttrain-rmspe:0.162703\n",
      "[104]\teval-rmse:0.138099\ttrain-rmse:0.117389\teval-rmspe:0.11954\ttrain-rmspe:0.162056\n",
      "[105]\teval-rmse:0.137963\ttrain-rmse:0.11713\teval-rmspe:0.119516\ttrain-rmspe:0.161778\n",
      "[106]\teval-rmse:0.137835\ttrain-rmse:0.116971\teval-rmspe:0.119292\ttrain-rmspe:0.159993\n",
      "[107]\teval-rmse:0.137734\ttrain-rmse:0.11683\teval-rmspe:0.119201\ttrain-rmspe:0.159609\n",
      "[108]\teval-rmse:0.137569\ttrain-rmse:0.11652\teval-rmspe:0.119002\ttrain-rmspe:0.159413\n",
      "[109]\teval-rmse:0.137489\ttrain-rmse:0.116326\teval-rmspe:0.118862\ttrain-rmspe:0.159146\n",
      "[110]\teval-rmse:0.137465\ttrain-rmse:0.116121\teval-rmspe:0.118804\ttrain-rmspe:0.159054\n",
      "[111]\teval-rmse:0.13745\ttrain-rmse:0.115919\teval-rmspe:0.11879\ttrain-rmspe:0.158846\n",
      "[112]\teval-rmse:0.137443\ttrain-rmse:0.115882\teval-rmspe:0.11878\ttrain-rmspe:0.15883\n",
      "[113]\teval-rmse:0.137362\ttrain-rmse:0.115666\teval-rmspe:0.118694\ttrain-rmspe:0.158605\n",
      "[114]\teval-rmse:0.137214\ttrain-rmse:0.11537\teval-rmspe:0.118501\ttrain-rmspe:0.156554\n",
      "[115]\teval-rmse:0.137162\ttrain-rmse:0.115186\teval-rmspe:0.118399\ttrain-rmspe:0.156418\n",
      "[116]\teval-rmse:0.137098\ttrain-rmse:0.115073\teval-rmspe:0.118332\ttrain-rmspe:0.156273\n",
      "[117]\teval-rmse:0.137075\ttrain-rmse:0.114934\teval-rmspe:0.118301\ttrain-rmspe:0.156237\n",
      "[118]\teval-rmse:0.136984\ttrain-rmse:0.114756\teval-rmspe:0.118117\ttrain-rmspe:0.155401\n",
      "[119]\teval-rmse:0.136914\ttrain-rmse:0.11452\teval-rmspe:0.11802\ttrain-rmspe:0.155115\n",
      "[120]\teval-rmse:0.136842\ttrain-rmse:0.114297\teval-rmspe:0.118014\ttrain-rmspe:0.154831\n",
      "[121]\teval-rmse:0.136805\ttrain-rmse:0.114243\teval-rmspe:0.117973\ttrain-rmspe:0.154793\n",
      "[122]\teval-rmse:0.13679\ttrain-rmse:0.114127\teval-rmspe:0.117949\ttrain-rmspe:0.154785\n",
      "[123]\teval-rmse:0.136752\ttrain-rmse:0.114071\teval-rmspe:0.117888\ttrain-rmspe:0.154724\n",
      "[124]\teval-rmse:0.136727\ttrain-rmse:0.113792\teval-rmspe:0.117825\ttrain-rmspe:0.154232\n",
      "[125]\teval-rmse:0.136634\ttrain-rmse:0.113714\teval-rmspe:0.117699\ttrain-rmspe:0.154177\n",
      "[126]\teval-rmse:0.136624\ttrain-rmse:0.113494\teval-rmspe:0.117681\ttrain-rmspe:0.154074\n",
      "[127]\teval-rmse:0.136524\ttrain-rmse:0.11333\teval-rmspe:0.117558\ttrain-rmspe:0.154428\n",
      "[128]\teval-rmse:0.136487\ttrain-rmse:0.113272\teval-rmspe:0.117513\ttrain-rmspe:0.154376\n",
      "[129]\teval-rmse:0.136506\ttrain-rmse:0.11319\teval-rmspe:0.117464\ttrain-rmspe:0.154327\n",
      "[130]\teval-rmse:0.136494\ttrain-rmse:0.11311\teval-rmspe:0.117462\ttrain-rmspe:0.154281\n",
      "[131]\teval-rmse:0.136385\ttrain-rmse:0.11293\teval-rmspe:0.117246\ttrain-rmspe:0.152672\n",
      "[132]\teval-rmse:0.136356\ttrain-rmse:0.112785\teval-rmspe:0.117212\ttrain-rmspe:0.152535\n",
      "[133]\teval-rmse:0.136285\ttrain-rmse:0.112478\teval-rmspe:0.117122\ttrain-rmspe:0.152419\n",
      "[134]\teval-rmse:0.136264\ttrain-rmse:0.112368\teval-rmspe:0.117109\ttrain-rmspe:0.152339\n",
      "[135]\teval-rmse:0.136177\ttrain-rmse:0.112128\teval-rmspe:0.117023\ttrain-rmspe:0.152267\n",
      "[136]\teval-rmse:0.136002\ttrain-rmse:0.111838\teval-rmspe:0.116856\ttrain-rmspe:0.152073\n",
      "[137]\teval-rmse:0.135979\ttrain-rmse:0.111754\teval-rmspe:0.116805\ttrain-rmspe:0.152027\n",
      "[138]\teval-rmse:0.135956\ttrain-rmse:0.11159\teval-rmspe:0.116775\ttrain-rmspe:0.151942\n",
      "[139]\teval-rmse:0.135951\ttrain-rmse:0.111543\teval-rmspe:0.116798\ttrain-rmspe:0.151669\n",
      "[140]\teval-rmse:0.135872\ttrain-rmse:0.111368\teval-rmspe:0.116689\ttrain-rmspe:0.151522\n",
      "[141]\teval-rmse:0.135917\ttrain-rmse:0.111165\teval-rmspe:0.116662\ttrain-rmspe:0.15141\n",
      "[142]\teval-rmse:0.135912\ttrain-rmse:0.111041\teval-rmspe:0.116646\ttrain-rmspe:0.151378\n",
      "[143]\teval-rmse:0.135888\ttrain-rmse:0.110893\teval-rmspe:0.116627\ttrain-rmspe:0.151284\n",
      "[144]\teval-rmse:0.135826\ttrain-rmse:0.110754\teval-rmspe:0.116587\ttrain-rmspe:0.151184\n",
      "[145]\teval-rmse:0.135813\ttrain-rmse:0.11071\teval-rmspe:0.116567\ttrain-rmspe:0.151143\n",
      "[146]\teval-rmse:0.135742\ttrain-rmse:0.110591\teval-rmspe:0.116518\ttrain-rmspe:0.151085\n",
      "[147]\teval-rmse:0.135673\ttrain-rmse:0.110479\teval-rmspe:0.116431\ttrain-rmspe:0.151019\n",
      "[148]\teval-rmse:0.135694\ttrain-rmse:0.11038\teval-rmspe:0.116443\ttrain-rmspe:0.150945\n",
      "[149]\teval-rmse:0.135601\ttrain-rmse:0.110281\teval-rmspe:0.11634\ttrain-rmspe:0.150703\n",
      "[150]\teval-rmse:0.135537\ttrain-rmse:0.109984\teval-rmspe:0.116148\ttrain-rmspe:0.150477\n",
      "[151]\teval-rmse:0.135459\ttrain-rmse:0.109867\teval-rmspe:0.116045\ttrain-rmspe:0.150407\n",
      "[152]\teval-rmse:0.135444\ttrain-rmse:0.109828\teval-rmspe:0.116044\ttrain-rmspe:0.150382\n",
      "[153]\teval-rmse:0.13543\ttrain-rmse:0.10975\teval-rmspe:0.116115\ttrain-rmspe:0.150289\n",
      "[154]\teval-rmse:0.135425\ttrain-rmse:0.109712\teval-rmspe:0.116089\ttrain-rmspe:0.150285\n",
      "[155]\teval-rmse:0.135415\ttrain-rmse:0.109651\teval-rmspe:0.116079\ttrain-rmspe:0.150267\n",
      "[156]\teval-rmse:0.135396\ttrain-rmse:0.109537\teval-rmspe:0.116072\ttrain-rmspe:0.150217\n",
      "[157]\teval-rmse:0.135371\ttrain-rmse:0.109493\teval-rmspe:0.116028\ttrain-rmspe:0.150171\n",
      "[158]\teval-rmse:0.135379\ttrain-rmse:0.109419\teval-rmspe:0.116053\ttrain-rmspe:0.150128\n",
      "[159]\teval-rmse:0.135353\ttrain-rmse:0.109377\teval-rmspe:0.116045\ttrain-rmspe:0.150078\n",
      "[160]\teval-rmse:0.135449\ttrain-rmse:0.109332\teval-rmspe:0.116126\ttrain-rmspe:0.150096\n",
      "[161]\teval-rmse:0.135701\ttrain-rmse:0.109231\teval-rmspe:0.116101\ttrain-rmspe:0.150021\n",
      "[162]\teval-rmse:0.13565\ttrain-rmse:0.109148\teval-rmspe:0.116044\ttrain-rmspe:0.149954\n",
      "[163]\teval-rmse:0.135688\ttrain-rmse:0.109043\teval-rmspe:0.116208\ttrain-rmspe:0.1499\n",
      "[164]\teval-rmse:0.135638\ttrain-rmse:0.108957\teval-rmspe:0.11617\ttrain-rmspe:0.149839\n",
      "[165]\teval-rmse:0.135579\ttrain-rmse:0.108878\teval-rmspe:0.116086\ttrain-rmspe:0.149696\n",
      "[166]\teval-rmse:0.135578\ttrain-rmse:0.108712\teval-rmspe:0.115997\ttrain-rmspe:0.14936\n",
      "[167]\teval-rmse:0.135651\ttrain-rmse:0.108673\teval-rmspe:0.11605\ttrain-rmspe:0.14933\n",
      "[168]\teval-rmse:0.135496\ttrain-rmse:0.108495\teval-rmspe:0.115898\ttrain-rmspe:0.149042\n",
      "[169]\teval-rmse:0.135503\ttrain-rmse:0.10844\teval-rmspe:0.115886\ttrain-rmspe:0.149003\n",
      "[170]\teval-rmse:0.135504\ttrain-rmse:0.10841\teval-rmspe:0.115892\ttrain-rmspe:0.149015\n",
      "[171]\teval-rmse:0.13545\ttrain-rmse:0.108278\teval-rmspe:0.115768\ttrain-rmspe:0.14894\n",
      "[172]\teval-rmse:0.135463\ttrain-rmse:0.108222\teval-rmspe:0.115774\ttrain-rmspe:0.148936\n",
      "[173]\teval-rmse:0.135432\ttrain-rmse:0.107985\teval-rmspe:0.115854\ttrain-rmspe:0.148819\n",
      "[174]\teval-rmse:0.135377\ttrain-rmse:0.107875\teval-rmspe:0.115793\ttrain-rmspe:0.148617\n",
      "[175]\teval-rmse:0.135361\ttrain-rmse:0.107852\teval-rmspe:0.115792\ttrain-rmspe:0.148593\n",
      "[176]\teval-rmse:0.135363\ttrain-rmse:0.107781\teval-rmspe:0.115811\ttrain-rmspe:0.148601\n",
      "[177]\teval-rmse:0.13531\ttrain-rmse:0.107692\teval-rmspe:0.115726\ttrain-rmspe:0.148576\n",
      "[178]\teval-rmse:0.135185\ttrain-rmse:0.107502\teval-rmspe:0.115567\ttrain-rmspe:0.148499\n",
      "[179]\teval-rmse:0.135157\ttrain-rmse:0.107445\teval-rmspe:0.115539\ttrain-rmspe:0.148475\n",
      "[180]\teval-rmse:0.135035\ttrain-rmse:0.107304\teval-rmspe:0.115458\ttrain-rmspe:0.14835\n",
      "[181]\teval-rmse:0.135035\ttrain-rmse:0.107271\teval-rmspe:0.115449\ttrain-rmspe:0.148226\n",
      "[182]\teval-rmse:0.13502\ttrain-rmse:0.107117\teval-rmspe:0.115426\ttrain-rmspe:0.148146\n",
      "[183]\teval-rmse:0.134998\ttrain-rmse:0.107045\teval-rmspe:0.115402\ttrain-rmspe:0.14813\n",
      "[184]\teval-rmse:0.134978\ttrain-rmse:0.106981\teval-rmspe:0.115413\ttrain-rmspe:0.148099\n",
      "[185]\teval-rmse:0.134908\ttrain-rmse:0.106923\teval-rmspe:0.115417\ttrain-rmspe:0.148071\n",
      "[186]\teval-rmse:0.134907\ttrain-rmse:0.106922\teval-rmspe:0.11544\ttrain-rmspe:0.148079\n",
      "[187]\teval-rmse:0.134885\ttrain-rmse:0.106863\teval-rmspe:0.115436\ttrain-rmspe:0.148052\n",
      "[188]\teval-rmse:0.134877\ttrain-rmse:0.106806\teval-rmspe:0.115414\ttrain-rmspe:0.14804\n",
      "[189]\teval-rmse:0.134799\ttrain-rmse:0.106705\teval-rmspe:0.115325\ttrain-rmspe:0.147281\n",
      "[190]\teval-rmse:0.135215\ttrain-rmse:0.106616\teval-rmspe:0.115345\ttrain-rmspe:0.14638\n",
      "[191]\teval-rmse:0.135219\ttrain-rmse:0.106521\teval-rmspe:0.115334\ttrain-rmspe:0.13933\n"
     ]
    },
    {
     "name": "stdout",
     "output_type": "stream",
     "text": [
      "[192]\teval-rmse:0.135173\ttrain-rmse:0.106415\teval-rmspe:0.115288\ttrain-rmspe:0.139224\n",
      "[193]\teval-rmse:0.135154\ttrain-rmse:0.106376\teval-rmspe:0.115269\ttrain-rmspe:0.13919\n",
      "[194]\teval-rmse:0.135199\ttrain-rmse:0.106334\teval-rmspe:0.11531\ttrain-rmspe:0.139096\n",
      "[195]\teval-rmse:0.13519\ttrain-rmse:0.106204\teval-rmspe:0.115289\ttrain-rmspe:0.138995\n",
      "[196]\teval-rmse:0.13518\ttrain-rmse:0.106161\teval-rmspe:0.11532\ttrain-rmspe:0.138973\n",
      "[197]\teval-rmse:0.135215\ttrain-rmse:0.106067\teval-rmspe:0.115315\ttrain-rmspe:0.138863\n",
      "[198]\teval-rmse:0.135236\ttrain-rmse:0.105979\teval-rmspe:0.115259\ttrain-rmspe:0.138828\n",
      "[199]\teval-rmse:0.135158\ttrain-rmse:0.105902\teval-rmspe:0.115175\ttrain-rmspe:0.138672\n",
      "[200]\teval-rmse:0.135142\ttrain-rmse:0.105749\teval-rmspe:0.115118\ttrain-rmspe:0.138476\n",
      "[201]\teval-rmse:0.135125\ttrain-rmse:0.105727\teval-rmspe:0.115094\ttrain-rmspe:0.138458\n",
      "[202]\teval-rmse:0.135147\ttrain-rmse:0.105644\teval-rmspe:0.115\ttrain-rmspe:0.136487\n",
      "[203]\teval-rmse:0.13521\ttrain-rmse:0.105466\teval-rmspe:0.115137\ttrain-rmspe:0.136432\n",
      "[204]\teval-rmse:0.135196\ttrain-rmse:0.105383\teval-rmspe:0.115131\ttrain-rmspe:0.136178\n",
      "[205]\teval-rmse:0.135206\ttrain-rmse:0.105233\teval-rmspe:0.115197\ttrain-rmspe:0.136086\n",
      "[206]\teval-rmse:0.135192\ttrain-rmse:0.105196\teval-rmspe:0.115177\ttrain-rmspe:0.135748\n",
      "[207]\teval-rmse:0.135191\ttrain-rmse:0.105006\teval-rmspe:0.11516\ttrain-rmspe:0.131116\n",
      "[208]\teval-rmse:0.135191\ttrain-rmse:0.104933\teval-rmspe:0.115156\ttrain-rmspe:0.13109\n",
      "[209]\teval-rmse:0.135164\ttrain-rmse:0.104871\teval-rmspe:0.115148\ttrain-rmspe:0.13102\n",
      "[210]\teval-rmse:0.135152\ttrain-rmse:0.104825\teval-rmspe:0.115126\ttrain-rmspe:0.130962\n",
      "[211]\teval-rmse:0.135133\ttrain-rmse:0.104777\teval-rmspe:0.115113\ttrain-rmspe:0.130939\n",
      "[212]\teval-rmse:0.135106\ttrain-rmse:0.104733\teval-rmspe:0.11505\ttrain-rmspe:0.129665\n",
      "[213]\teval-rmse:0.135103\ttrain-rmse:0.104699\teval-rmspe:0.115022\ttrain-rmspe:0.129623\n",
      "[214]\teval-rmse:0.13511\ttrain-rmse:0.104675\teval-rmspe:0.115026\ttrain-rmspe:0.129598\n",
      "[215]\teval-rmse:0.13508\ttrain-rmse:0.104624\teval-rmspe:0.114987\ttrain-rmspe:0.128668\n",
      "[216]\teval-rmse:0.135103\ttrain-rmse:0.104553\teval-rmspe:0.115048\ttrain-rmspe:0.128664\n",
      "[217]\teval-rmse:0.135119\ttrain-rmse:0.104532\teval-rmspe:0.115029\ttrain-rmspe:0.128602\n",
      "[218]\teval-rmse:0.13509\ttrain-rmse:0.104498\teval-rmspe:0.114994\ttrain-rmspe:0.128561\n",
      "[219]\teval-rmse:0.135014\ttrain-rmse:0.10441\teval-rmspe:0.114828\ttrain-rmspe:0.128388\n",
      "[220]\teval-rmse:0.135009\ttrain-rmse:0.104348\teval-rmspe:0.114852\ttrain-rmspe:0.128229\n",
      "[221]\teval-rmse:0.135052\ttrain-rmse:0.104321\teval-rmspe:0.11488\ttrain-rmspe:0.128219\n",
      "[222]\teval-rmse:0.135044\ttrain-rmse:0.104254\teval-rmspe:0.114887\ttrain-rmspe:0.128151\n",
      "[223]\teval-rmse:0.135058\ttrain-rmse:0.104164\teval-rmspe:0.114917\ttrain-rmspe:0.128438\n",
      "[224]\teval-rmse:0.135063\ttrain-rmse:0.10414\teval-rmspe:0.114914\ttrain-rmspe:0.128666\n",
      "[225]\teval-rmse:0.135048\ttrain-rmse:0.104038\teval-rmspe:0.114915\ttrain-rmspe:0.12814\n",
      "[226]\teval-rmse:0.135035\ttrain-rmse:0.104016\teval-rmspe:0.114894\ttrain-rmspe:0.128137\n",
      "[227]\teval-rmse:0.135039\ttrain-rmse:0.10399\teval-rmspe:0.114876\ttrain-rmspe:0.12812\n",
      "[228]\teval-rmse:0.135052\ttrain-rmse:0.103916\teval-rmspe:0.114869\ttrain-rmspe:0.128095\n",
      "[229]\teval-rmse:0.135032\ttrain-rmse:0.103792\teval-rmspe:0.114841\ttrain-rmspe:0.128071\n",
      "[230]\teval-rmse:0.135094\ttrain-rmse:0.103675\teval-rmspe:0.114847\ttrain-rmspe:0.127981\n",
      "[231]\teval-rmse:0.13506\ttrain-rmse:0.103631\teval-rmspe:0.114827\ttrain-rmspe:0.125056\n",
      "[232]\teval-rmse:0.135075\ttrain-rmse:0.103559\teval-rmspe:0.114808\ttrain-rmspe:0.124331\n",
      "[233]\teval-rmse:0.135042\ttrain-rmse:0.103433\teval-rmspe:0.114727\ttrain-rmspe:0.12426\n",
      "[234]\teval-rmse:0.135062\ttrain-rmse:0.103321\teval-rmspe:0.114811\ttrain-rmspe:0.123247\n",
      "[235]\teval-rmse:0.135041\ttrain-rmse:0.103282\teval-rmspe:0.114779\ttrain-rmspe:0.12322\n",
      "[236]\teval-rmse:0.135018\ttrain-rmse:0.103179\teval-rmspe:0.114711\ttrain-rmspe:0.123169\n",
      "[237]\teval-rmse:0.134974\ttrain-rmse:0.103099\teval-rmspe:0.114664\ttrain-rmspe:0.122899\n",
      "[238]\teval-rmse:0.134971\ttrain-rmse:0.103066\teval-rmspe:0.114671\ttrain-rmspe:0.122885\n",
      "[239]\teval-rmse:0.13496\ttrain-rmse:0.10305\teval-rmspe:0.11465\ttrain-rmspe:0.122851\n",
      "[240]\teval-rmse:0.134938\ttrain-rmse:0.103003\teval-rmspe:0.114641\ttrain-rmspe:0.122747\n",
      "[241]\teval-rmse:0.134914\ttrain-rmse:0.10296\teval-rmspe:0.114631\ttrain-rmspe:0.122733\n",
      "[242]\teval-rmse:0.134877\ttrain-rmse:0.102881\teval-rmspe:0.114542\ttrain-rmspe:0.12268\n",
      "[243]\teval-rmse:0.134848\ttrain-rmse:0.102866\teval-rmspe:0.114531\ttrain-rmspe:0.122671\n",
      "[244]\teval-rmse:0.134833\ttrain-rmse:0.102836\teval-rmspe:0.114503\ttrain-rmspe:0.122656\n",
      "[245]\teval-rmse:0.134805\ttrain-rmse:0.102747\teval-rmspe:0.11456\ttrain-rmspe:0.122632\n",
      "[246]\teval-rmse:0.134789\ttrain-rmse:0.102718\teval-rmspe:0.11455\ttrain-rmspe:0.122652\n",
      "[247]\teval-rmse:0.134809\ttrain-rmse:0.102624\teval-rmspe:0.114495\ttrain-rmspe:0.122618\n",
      "[248]\teval-rmse:0.134788\ttrain-rmse:0.102552\teval-rmspe:0.114494\ttrain-rmspe:0.122642\n",
      "[249]\teval-rmse:0.134776\ttrain-rmse:0.102503\teval-rmspe:0.114477\ttrain-rmspe:0.122603\n",
      "[250]\teval-rmse:0.13477\ttrain-rmse:0.102445\teval-rmspe:0.114455\ttrain-rmspe:0.122573\n",
      "[251]\teval-rmse:0.134682\ttrain-rmse:0.102376\teval-rmspe:0.114421\ttrain-rmspe:0.122537\n",
      "[252]\teval-rmse:0.134651\ttrain-rmse:0.102318\teval-rmspe:0.114383\ttrain-rmspe:0.122434\n",
      "[253]\teval-rmse:0.134622\ttrain-rmse:0.102271\teval-rmspe:0.114279\ttrain-rmspe:0.1224\n",
      "[254]\teval-rmse:0.134622\ttrain-rmse:0.102269\teval-rmspe:0.114283\ttrain-rmspe:0.122404\n",
      "[255]\teval-rmse:0.134598\ttrain-rmse:0.102201\teval-rmspe:0.11428\ttrain-rmspe:0.122353\n",
      "[256]\teval-rmse:0.134601\ttrain-rmse:0.10218\teval-rmspe:0.114292\ttrain-rmspe:0.122304\n",
      "[257]\teval-rmse:0.134568\ttrain-rmse:0.102157\teval-rmspe:0.114074\ttrain-rmspe:0.122288\n",
      "[258]\teval-rmse:0.134559\ttrain-rmse:0.102144\teval-rmspe:0.114056\ttrain-rmspe:0.122273\n",
      "[259]\teval-rmse:0.134611\ttrain-rmse:0.102107\teval-rmspe:0.114105\ttrain-rmspe:0.122262\n",
      "[260]\teval-rmse:0.134582\ttrain-rmse:0.102022\teval-rmspe:0.114103\ttrain-rmspe:0.122222\n",
      "[261]\teval-rmse:0.13457\ttrain-rmse:0.101962\teval-rmspe:0.114097\ttrain-rmspe:0.122169\n",
      "[262]\teval-rmse:0.134538\ttrain-rmse:0.101941\teval-rmspe:0.113909\ttrain-rmspe:0.122147\n",
      "[263]\teval-rmse:0.134516\ttrain-rmse:0.101814\teval-rmspe:0.113912\ttrain-rmspe:0.122136\n",
      "[264]\teval-rmse:0.134555\ttrain-rmse:0.101794\teval-rmspe:0.11393\ttrain-rmspe:0.122088\n",
      "[265]\teval-rmse:0.134539\ttrain-rmse:0.101674\teval-rmspe:0.113899\ttrain-rmspe:0.122033\n",
      "[266]\teval-rmse:0.134508\ttrain-rmse:0.101627\teval-rmspe:0.113843\ttrain-rmspe:0.122017\n",
      "[267]\teval-rmse:0.134505\ttrain-rmse:0.101621\teval-rmspe:0.113845\ttrain-rmspe:0.122008\n",
      "[268]\teval-rmse:0.13448\ttrain-rmse:0.101592\teval-rmspe:0.113824\ttrain-rmspe:0.121984\n",
      "[269]\teval-rmse:0.134481\ttrain-rmse:0.101568\teval-rmspe:0.113764\ttrain-rmspe:0.121962\n",
      "[270]\teval-rmse:0.13449\ttrain-rmse:0.101494\teval-rmspe:0.113761\ttrain-rmspe:0.121885\n",
      "[271]\teval-rmse:0.134502\ttrain-rmse:0.101467\teval-rmspe:0.113825\ttrain-rmspe:0.121878\n",
      "[272]\teval-rmse:0.1345\ttrain-rmse:0.101447\teval-rmspe:0.113827\ttrain-rmspe:0.121862\n",
      "[273]\teval-rmse:0.134451\ttrain-rmse:0.101369\teval-rmspe:0.113796\ttrain-rmspe:0.121792\n",
      "[274]\teval-rmse:0.134445\ttrain-rmse:0.101334\teval-rmspe:0.113786\ttrain-rmspe:0.121746\n",
      "[275]\teval-rmse:0.1346\ttrain-rmse:0.101283\teval-rmspe:0.113884\ttrain-rmspe:0.121713\n",
      "[276]\teval-rmse:0.134604\ttrain-rmse:0.101235\teval-rmspe:0.113921\ttrain-rmspe:0.121634\n",
      "[277]\teval-rmse:0.134584\ttrain-rmse:0.101214\teval-rmspe:0.113982\ttrain-rmspe:0.12161\n",
      "[278]\teval-rmse:0.134566\ttrain-rmse:0.101201\teval-rmspe:0.113971\ttrain-rmspe:0.1216\n",
      "[279]\teval-rmse:0.134544\ttrain-rmse:0.101189\teval-rmspe:0.113935\ttrain-rmspe:0.121586\n",
      "[280]\teval-rmse:0.134545\ttrain-rmse:0.101152\teval-rmspe:0.113904\ttrain-rmspe:0.121547\n",
      "[281]\teval-rmse:0.134536\ttrain-rmse:0.101128\teval-rmspe:0.113884\ttrain-rmspe:0.121498\n",
      "[282]\teval-rmse:0.134537\ttrain-rmse:0.101067\teval-rmspe:0.113907\ttrain-rmspe:0.12194\n",
      "[283]\teval-rmse:0.13454\ttrain-rmse:0.101061\teval-rmspe:0.113911\ttrain-rmspe:0.121936\n",
      "[284]\teval-rmse:0.134528\ttrain-rmse:0.100982\teval-rmspe:0.113892\ttrain-rmspe:0.121892\n",
      "[285]\teval-rmse:0.134536\ttrain-rmse:0.100959\teval-rmspe:0.11391\ttrain-rmspe:0.12189\n",
      "[286]\teval-rmse:0.134505\ttrain-rmse:0.100952\teval-rmspe:0.113876\ttrain-rmspe:0.121886\n",
      "[287]\teval-rmse:0.134519\ttrain-rmse:0.100936\teval-rmspe:0.113909\ttrain-rmspe:0.119891\n"
     ]
    },
    {
     "name": "stdout",
     "output_type": "stream",
     "text": [
      "[288]\teval-rmse:0.134483\ttrain-rmse:0.100809\teval-rmspe:0.113863\ttrain-rmspe:0.119834\n",
      "[289]\teval-rmse:0.134439\ttrain-rmse:0.100769\teval-rmspe:0.113919\ttrain-rmspe:0.119824\n",
      "[290]\teval-rmse:0.134457\ttrain-rmse:0.100701\teval-rmspe:0.113937\ttrain-rmspe:0.118022\n",
      "[291]\teval-rmse:0.134466\ttrain-rmse:0.100681\teval-rmspe:0.113932\ttrain-rmspe:0.118017\n",
      "[292]\teval-rmse:0.134534\ttrain-rmse:0.100664\teval-rmspe:0.113923\ttrain-rmspe:0.118024\n",
      "[293]\teval-rmse:0.134551\ttrain-rmse:0.100593\teval-rmspe:0.113928\ttrain-rmspe:0.117536\n",
      "[294]\teval-rmse:0.134557\ttrain-rmse:0.100542\teval-rmspe:0.113933\ttrain-rmspe:0.117418\n",
      "[295]\teval-rmse:0.134564\ttrain-rmse:0.100514\teval-rmspe:0.113984\ttrain-rmspe:0.117758\n",
      "[296]\teval-rmse:0.134566\ttrain-rmse:0.10048\teval-rmspe:0.113986\ttrain-rmspe:0.117724\n",
      "[297]\teval-rmse:0.134556\ttrain-rmse:0.100438\teval-rmspe:0.113956\ttrain-rmspe:0.11769\n",
      "[298]\teval-rmse:0.134565\ttrain-rmse:0.100426\teval-rmspe:0.113962\ttrain-rmspe:0.117684\n",
      "[299]\teval-rmse:0.134562\ttrain-rmse:0.100412\teval-rmspe:0.113961\ttrain-rmspe:0.11768\n"
     ]
    }
   ],
   "source": [
    "params2 = {\"objective\": \"reg:linear\",\n",
    "          \"eta\": 0.2,\n",
    "          \"max_depth\": 12,\n",
    "          \"min_child_weight\":4,\n",
    "          \"gamma\" :0.1,\n",
    "          \"subsample\": 0.7,\n",
    "          \"colsample_bytree\": 0.7,\n",
    "          \"silent\": 1\n",
    "          }\n",
    "\n",
    "start = time.time()\n",
    "gbm2 = xgb.train(params2, dtrain, 300, evals=watchlist, early_stopping_rounds=50,evals_result =ret, feval=rmspe_xg, verbose_eval=True)\n",
    "end = time.time()"
   ]
  },
  {
   "cell_type": "code",
   "execution_count": 74,
   "metadata": {},
   "outputs": [
    {
     "data": {
      "image/png": "[encoded data removed]",
      "text/plain": [
       "<Figure size 432x288 with 1 Axes>"
      ]
     },
     "metadata": {
      "needs_background": "light"
     },
     "output_type": "display_data"
    },
    {
     "data": {
      "text/plain": [
       "<matplotlib.axes._subplots.AxesSubplot at 0x1a1afe0860>"
      ]
     },
     "execution_count": 74,
     "metadata": {},
     "output_type": "execute_result"
    },
    {
     "data": {
      "image/png": "[encoded data removed]",
      "text/plain": [
       "<Figure size 432x288 with 1 Axes>"
      ]
     },
     "metadata": {
      "needs_background": "light"
     },
     "output_type": "display_data"
    }
   ],
   "source": [
    "#从最终的训练importnace中看果然是时间序列影响比较大\n",
    "evaldata = ret['eval']['rmspe'][0:num_trees:10]\n",
    "traindata = ret['train']['rmspe'][0:num_trees:10]\n",
    "plt.plot(range(0,num_trees,10),evaldata,color='red',label=\"eval\")\n",
    "plt.plot(range(0,num_trees,10),traindata,color='blue',label=\"train\")\n",
    "plt.legend(loc='best')\n",
    "y_tick = np.arange(0,1,0.1)\n",
    "plt.yticks(y_tick)\n",
    "plt.show()\n",
    "xgb.plot_importance(gbm2)"
   ]
  },
  {
   "cell_type": "code",
   "execution_count": 75,
   "metadata": {},
   "outputs": [
    {
     "name": "stdout",
     "output_type": "stream",
     "text": [
      "[  544   677   841 ... 40230 40231 40232]\n"
     ]
    }
   ],
   "source": [
    "#预测测试数据\n",
    "regetTest = pd.read_csv(\"./test.csv\")\n",
    "replaceID = regetTest[regetTest.Open == 0.0]['Id']\n",
    "print(replaceID.values)\n",
    "test_probs = gbm2.predict(dtest)\n",
    "result = pd.DataFrame({\"Id\": TESTID , 'Sales': np.exp(test_probs)})\n",
    "result.loc[result['Id'].isin(replaceID.values),'Sales'] = 0"
   ]
  },
  {
   "cell_type": "code",
   "execution_count": 76,
   "metadata": {},
   "outputs": [],
   "source": [
    "#预测测试数据输出\n",
    "result.to_csv(\"xgboost_submission.csv\", index=False)"
   ]
  },
  {
   "cell_type": "code",
   "execution_count": null,
   "metadata": {},
   "outputs": [],
   "source": []
  },
  {
   "cell_type": "code",
   "execution_count": null,
   "metadata": {},
   "outputs": [],
   "source": []
  },
  {
   "cell_type": "code",
   "execution_count": null,
   "metadata": {},
   "outputs": [],
   "source": []
  },
  {
   "cell_type": "code",
   "execution_count": null,
   "metadata": {},
   "outputs": [],
   "source": []
  },
  {
   "cell_type": "code",
   "execution_count": null,
   "metadata": {},
   "outputs": [],
   "source": []
  },
  {
   "cell_type": "code",
   "execution_count": null,
   "metadata": {},
   "outputs": [],
   "source": []
  },
  {
   "cell_type": "code",
   "execution_count": null,
   "metadata": {},
   "outputs": [],
   "source": []
  },
  {
   "cell_type": "code",
   "execution_count": null,
   "metadata": {},
   "outputs": [],
   "source": []
  },
  {
   "cell_type": "code",
   "execution_count": null,
   "metadata": {},
   "outputs": [],
   "source": []
  },
  {
   "cell_type": "code",
   "execution_count": null,
   "metadata": {},
   "outputs": [],
   "source": []
  },
  {
   "cell_type": "code",
   "execution_count": null,
   "metadata": {},
   "outputs": [],
   "source": []
  },
  {
   "cell_type": "code",
   "execution_count": null,
   "metadata": {},
   "outputs": [],
   "source": []
  },
  {
   "cell_type": "code",
   "execution_count": null,
   "metadata": {},
   "outputs": [],
   "source": []
  },
  {
   "cell_type": "code",
   "execution_count": null,
   "metadata": {},
   "outputs": [],
   "source": []
  },
  {
   "cell_type": "code",
   "execution_count": null,
   "metadata": {},
   "outputs": [],
   "source": []
  },
  {
   "cell_type": "code",
   "execution_count": null,
   "metadata": {},
   "outputs": [],
   "source": []
  },
  {
   "cell_type": "code",
   "execution_count": null,
   "metadata": {},
   "outputs": [],
   "source": []
  }
 ],
 "metadata": {
  "kernelspec": {
   "display_name": "Python 3",
   "language": "python",
   "name": "python3"
  },
  "language_info": {
   "codemirror_mode": {
    "name": "ipython",
    "version": 3
   },
   "file_extension": ".py",
   "mimetype": "text/x-python",
   "name": "python",
   "nbconvert_exporter": "python",
   "pygments_lexer": "ipython3",
   "version": "3.7.1"
  }
 },
 "nbformat": 4,
 "nbformat_minor": 2
}
