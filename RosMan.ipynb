{
 "cells": [
  {
   "cell_type": "code",
   "execution_count": 1,
   "metadata": {},
   "outputs": [],
   "source": [
    "import numpy as np\n",
    "import pandas as pd\n",
    "import matplotlib.pyplot as plt\n",
    "from sklearn.preprocessing import OneHotEncoder,LabelEncoder,MinMaxScaler\n",
    "import xgboost as xgb\n",
    "import os\n",
    "os.environ['KMP_DUPLICATE_LIB_OK']='True'"
   ]
  },
  {
   "cell_type": "code",
   "execution_count": 2,
   "metadata": {},
   "outputs": [],
   "source": [
    "Dataset_dir = [\"./train.csv\", \"./store.csv\",\"./test.csv\"]\n",
    "pd.options.display.max_columns = None"
   ]
  },
  {
   "cell_type": "code",
   "execution_count": 3,
   "metadata": {},
   "outputs": [],
   "source": [
    "def load_data(dir):\n",
    "    data = pd.read_csv(dir[0],parse_dates=[2])\n",
    "    store = pd.read_csv(dir[1])\n",
    "    test = pd.read_csv(dir[2],parse_dates=[3])\n",
    "    return data,store,test"
   ]
  },
  {
   "cell_type": "code",
   "execution_count": 4,
   "metadata": {},
   "outputs": [
    {
     "name": "stderr",
     "output_type": "stream",
     "text": [
      "D:\\AnaconDA\\lib\\site-packages\\IPython\\core\\interactiveshell.py:3185: DtypeWarning: Columns (7) have mixed types. Specify dtype option on import or set low_memory=False.\n",
      "  if (yield from self.run_code(code, result)):\n"
     ]
    },
    {
     "name": "stdout",
     "output_type": "stream",
     "text": [
      "Index(['Store', 'DayOfWeek', 'Date', 'Sales', 'Customers', 'Open', 'Promo',\n",
      "       'StateHoliday', 'SchoolHoliday', 'StoreType', 'Assortment',\n",
      "       'CompetitionDistance', 'CompetitionOpenSinceMonth',\n",
      "       'CompetitionOpenSinceYear', 'Promo2', 'Promo2SinceWeek',\n",
      "       'Promo2SinceYear', 'PromoInterval'],\n",
      "      dtype='object')\n",
      "Index(['Id', 'Store', 'DayOfWeek', 'Date', 'Open', 'Promo', 'StateHoliday',\n",
      "       'SchoolHoliday', 'StoreType', 'Assortment', 'CompetitionDistance',\n",
      "       'CompetitionOpenSinceMonth', 'CompetitionOpenSinceYear', 'Promo2',\n",
      "       'Promo2SinceWeek', 'Promo2SinceYear', 'PromoInterval'],\n",
      "      dtype='object')\n"
     ]
    }
   ],
   "source": [
    "train,store,test = load_data(Dataset_dir)\n",
    "train = train[train['Open'] != 0]\n",
    "train = pd.merge(train, store, on='Store')\n",
    "test = pd.merge(test, store, on='Store')\n",
    "print(train.columns)\n",
    "print(test.columns)"
   ]
  },
  {
   "cell_type": "code",
   "execution_count": 5,
   "metadata": {},
   "outputs": [],
   "source": [
    "#对时间序列进行分析\n",
    "#总的销售趋势2013-2015年\n",
    "# train['date'] = pd.to_datetime(train.Date)\n",
    "# data = train.loc[:,['Sales']]\n",
    "# data = data.set_index(train.date)\n",
    "# data.plot()\n",
    "\n",
    "# weekly = data.resample('W').sum()\n",
    "# weekly.plot()\n",
    "\n",
    "# dayily = data.resample('D').sum()\n",
    "# dayily.plot()"
   ]
  },
  {
   "cell_type": "code",
   "execution_count": 6,
   "metadata": {},
   "outputs": [],
   "source": [
    "TESTID = test['Id']"
   ]
  },
  {
   "cell_type": "code",
   "execution_count": 7,
   "metadata": {
    "scrolled": true
   },
   "outputs": [
    {
     "data": {
      "image/png": "[encoded data removed]",
      "text/plain": [
       "<Figure size 432x288 with 1 Axes>"
      ]
     },
     "metadata": {
      "needs_background": "light"
     },
     "output_type": "display_data"
    },
    {
     "data": {
      "image/png": "[encoded data removed]",
      "text/plain": [
       "<Figure size 432x288 with 1 Axes>"
      ]
     },
     "metadata": {
      "needs_background": "light"
     },
     "output_type": "display_data"
    }
   ],
   "source": [
    "train.Customers.plot(kind='box')\n",
    "plt.show()\n",
    "train.CompetitionDistance.plot(kind='box')\n",
    "plt.show()"
   ]
  },
  {
   "cell_type": "code",
   "execution_count": 8,
   "metadata": {},
   "outputs": [
    {
     "data": {
      "image/png": "[encoded data removed]",
      "text/plain": [
       "<Figure size 432x288 with 1 Axes>"
      ]
     },
     "metadata": {
      "needs_background": "light"
     },
     "output_type": "display_data"
    },
    {
     "data": {
      "image/png": "[encoded data removed]",
      "text/plain": [
       "<Figure size 432x288 with 1 Axes>"
      ]
     },
     "metadata": {
      "needs_background": "light"
     },
     "output_type": "display_data"
    }
   ],
   "source": [
    "sales_mean = train.groupby('Store')['Sales'].mean()\n",
    "plt.hist(sales_mean)\n",
    "plt.show()\n",
    "plt.hist(np.log1p(sales_mean))\n",
    "plt.show()"
   ]
  },
  {
   "cell_type": "code",
   "execution_count": 9,
   "metadata": {},
   "outputs": [],
   "source": [
    "Store_DaysWeek = train.groupby(['Store','DayOfWeek'])\n",
    "sw_mean = Store_DaysWeek[\"Sales\"].mean()"
   ]
  },
  {
   "cell_type": "code",
   "execution_count": 10,
   "metadata": {},
   "outputs": [],
   "source": [
    "def build_feature(data,istrain):\n",
    "    mappings = {'0':0, 'a':1, 'b':2, 'c':3, 'd':4}\n",
    "    data.StoreType.replace(mappings, inplace=True)\n",
    "    data.Assortment.replace(mappings, inplace=True)\n",
    "    data.StateHoliday.replace(mappings, inplace=True)\n",
    "    \n",
    "    #CART回归树不需要预处理数据和NAn值\n",
    "#     distance_max = max(data.CompetitionDistance)\n",
    "#     data.CompetitionDistance.mask(data.CompetitionDistance.isna(),other=distance_max,inplace=True)\n",
    "#     print(data.CompetitionDistance.isnull().any())\n",
    "#     min_max_scaler = MinMaxScaler()\n",
    "#     scaledata = min_max_scaler.fit_transform(data[['CompetitionDistance']])\n",
    "#     data.drop(\"CompetitionDistance\",axis=1)\n",
    "#     data['CompetitionDistance'] = scaledata\n",
    "    #时间序列问题 需要考虑进时间的因素\n",
    "    data['Year'] = data.Date.dt.year\n",
    "    print(data['Year'].dtype)\n",
    "    data['Month'] = data.Date.dt.month\n",
    "    data['Day'] = data.Date.dt.day\n",
    "    \n",
    "    if istrain:\n",
    "        data.drop(['Store','Open','Date','Customers','PromoInterval',],axis=1,inplace=True)\n",
    "        #data.drop(['Store','Open','Date','Customers','PromoInterval','SchoolHoliday','Promo2','StateHoliday','Promo2SinceWeek'],axis=1,inplace=True)\n",
    "    else:\n",
    "        data.drop(['Id','Store','Open','Date','PromoInterval',],axis=1,inplace=True)\n",
    "        #data.drop(['Id','Store','Open','Date','PromoInterval','SchoolHoliday','Promo2','StateHoliday','Promo2SinceWeek'],axis=1,inplace=True)\n",
    "    print(data.columns)"
   ]
  },
  {
   "cell_type": "code",
   "execution_count": 11,
   "metadata": {},
   "outputs": [
    {
     "name": "stdout",
     "output_type": "stream",
     "text": [
      "int64\n",
      "Index(['DayOfWeek', 'Sales', 'Promo', 'StateHoliday', 'SchoolHoliday',\n",
      "       'StoreType', 'Assortment', 'CompetitionDistance',\n",
      "       'CompetitionOpenSinceMonth', 'CompetitionOpenSinceYear', 'Promo2',\n",
      "       'Promo2SinceWeek', 'Promo2SinceYear', 'Year', 'Month', 'Day'],\n",
      "      dtype='object')\n",
      "int64\n",
      "Index(['DayOfWeek', 'Promo', 'StateHoliday', 'SchoolHoliday', 'StoreType',\n",
      "       'Assortment', 'CompetitionDistance', 'CompetitionOpenSinceMonth',\n",
      "       'CompetitionOpenSinceYear', 'Promo2', 'Promo2SinceWeek',\n",
      "       'Promo2SinceYear', 'Year', 'Month', 'Day'],\n",
      "      dtype='object')\n"
     ]
    }
   ],
   "source": [
    "#build train data\n",
    "build_feature(train,True)\n",
    "#build test data\n",
    "build_feature(test,False)"
   ]
  },
  {
   "cell_type": "code",
   "execution_count": 12,
   "metadata": {},
   "outputs": [
    {
     "data": {
      "image/png": "[encoded data removed]",
      "text/plain": [
       "<Figure size 432x288 with 1 Axes>"
      ]
     },
     "metadata": {
      "needs_background": "light"
     },
     "output_type": "display_data"
    },
    {
     "data": {
      "image/png": "[encoded data removed]",
      "text/plain": [
       "<Figure size 432x288 with 1 Axes>"
      ]
     },
     "metadata": {
      "needs_background": "light"
     },
     "output_type": "display_data"
    },
    {
     "data": {
      "image/png": "[encoded data removed]",
      "text/plain": [
       "<Figure size 432x288 with 1 Axes>"
      ]
     },
     "metadata": {
      "needs_background": "light"
     },
     "output_type": "display_data"
    },
    {
     "data": {
      "image/png": "[encoded data removed]",
      "text/plain": [
       "<Figure size 432x288 with 1 Axes>"
      ]
     },
     "metadata": {
      "needs_background": "light"
     },
     "output_type": "display_data"
    }
   ],
   "source": [
    "ST_gp = train.groupby('StoreType')['Sales'].agg('mean')\n",
    "import seaborn as sns\n",
    "sns.barplot(ST_gp.index,ST_gp.values)\n",
    "plt.show()\n",
    "\n",
    "As_gp = train.groupby('Assortment')['Sales'].agg('mean')\n",
    "sns.barplot(As_gp.index,As_gp.values)\n",
    "plt.show()\n",
    "Dayweek_gp = train.groupby(['StoreType','DayOfWeek'])['Sales'].agg('mean')\n",
    "ax = sns.barplot(Dayweek_gp.index,Dayweek_gp.values)\n",
    "ax.set_xticklabels(ax.get_xticklabels(), rotation=90, ha=\"right\")\n",
    "plt.tight_layout()\n",
    "plt.show()\n",
    "\n",
    "#每年销售额的趋势\n",
    "YearS_gp = train.groupby(['Year'])['Sales'].agg(\"mean\")\n",
    "ax2 = sns.lineplot(YearS_gp.index,YearS_gp.values)\n",
    "plt.tight_layout()\n",
    "plt.show()"
   ]
  },
  {
   "cell_type": "code",
   "execution_count": 13,
   "metadata": {},
   "outputs": [
    {
     "name": "stdout",
     "output_type": "stream",
     "text": [
      "(834259, 16)\n",
      "(10133, 16)\n"
     ]
    },
    {
     "name": "stderr",
     "output_type": "stream",
     "text": [
      "D:\\AnaconDA\\lib\\site-packages\\pandas\\core\\frame.py:3697: SettingWithCopyWarning: \n",
      "A value is trying to be set on a copy of a slice from a DataFrame\n",
      "\n",
      "See the caveats in the documentation: http://pandas.pydata.org/pandas-docs/stable/indexing.html#indexing-view-versus-copy\n",
      "  errors=errors)\n"
     ]
    }
   ],
   "source": [
    "#split train vaild data\n",
    "from sklearn.model_selection import train_test_split\n",
    "X_train, X_valid = train_test_split(train, test_size=0.012, random_state=10)\n",
    "print(X_train.shape)\n",
    "print(X_valid.shape)\n",
    "Y_train = X_train[\"Sales\"]\n",
    "Y_valid = X_valid[\"Sales\"]\n",
    "X_train.drop(\"Sales\",axis=1,inplace=True)\n",
    "X_valid.drop(\"Sales\",axis=1,inplace=True)"
   ]
  },
  {
   "cell_type": "code",
   "execution_count": 14,
   "metadata": {},
   "outputs": [
    {
     "data": {
      "image/png": "[encoded data removed]",
      "text/plain": [
       "<Figure size 432x288 with 1 Axes>"
      ]
     },
     "metadata": {
      "needs_background": "light"
     },
     "output_type": "display_data"
    }
   ],
   "source": [
    "plt.boxplot([Y_train,Y_valid])\n",
    "plt.show()"
   ]
  },
  {
   "cell_type": "code",
   "execution_count": 15,
   "metadata": {},
   "outputs": [
    {
     "data": {
      "image/png": "[encoded data removed]",
      "text/plain": [
       "<Figure size 432x288 with 1 Axes>"
      ]
     },
     "metadata": {
      "needs_background": "light"
     },
     "output_type": "display_data"
    }
   ],
   "source": [
    "Y_train = np.log1p(Y_train)\n",
    "Y_valid = np.log1p(Y_valid)\n",
    "plt.boxplot([Y_train,Y_valid])\n",
    "plt.show()"
   ]
  },
  {
   "cell_type": "code",
   "execution_count": 16,
   "metadata": {},
   "outputs": [],
   "source": [
    "def ToWeight(y):\n",
    "    w = np.zeros(y.shape, dtype=float)\n",
    "    ind = y != 0\n",
    "    w[ind] = 1./(y[ind]**2)\n",
    "    return w\n",
    "\n",
    "def rmspe(yhat, y):\n",
    "    w = ToWeight(y)\n",
    "    rmspe = np.sqrt(np.mean( w * (y - yhat)**2 ))\n",
    "    return rmspe\n",
    "\n",
    "def rmspe_xg(yhat, y):\n",
    "    # y = y.values\n",
    "    y = y.get_label()\n",
    "    y = np.exp(y) - 1\n",
    "    yhat = np.exp(yhat) - 1\n",
    "    w = ToWeight(y)\n",
    "    rmspe = np.sqrt(np.mean(w * (y - yhat)**2))\n",
    "    return \"rmspe\", rmspe"
   ]
  },
  {
   "cell_type": "code",
   "execution_count": 17,
   "metadata": {},
   "outputs": [
    {
     "name": "stderr",
     "output_type": "stream",
     "text": [
      "D:\\AnaconDA\\lib\\site-packages\\xgboost\\core.py:587: FutureWarning: Series.base is deprecated and will be removed in a future version\n",
      "  if getattr(data, 'base', None) is not None and \\\n"
     ]
    },
    {
     "name": "stdout",
     "output_type": "stream",
     "text": [
      "[0]\tvalidation_0-rmse:7.44317\tvalidation_1-rmse:7.43873\tvalidation_0-rmspe:0.999496\tvalidation_1-rmspe:0.999477\n",
      "Multiple eval metrics have been passed: 'validation_1-rmspe' will be used for early stopping.\n",
      "\n",
      "Will train until validation_1-rmspe hasn't improved in 20 rounds.\n",
      "[1]\tvalidation_0-rmse:6.70068\tvalidation_1-rmse:6.69677\tvalidation_0-rmspe:0.998793\tvalidation_1-rmspe:0.998771\n"
     ]
    },
    {
     "ename": "KeyboardInterrupt",
     "evalue": "",
     "output_type": "error",
     "traceback": [
      "\u001b[1;31m---------------------------------------------------------------------------\u001b[0m",
      "\u001b[1;31mKeyboardInterrupt\u001b[0m                         Traceback (most recent call last)",
      "\u001b[1;32m<ipython-input-17-81fd3c1c661b>\u001b[0m in \u001b[0;36m<module>\u001b[1;34m\u001b[0m\n\u001b[0;32m     19\u001b[0m \u001b[0mstart\u001b[0m \u001b[1;33m=\u001b[0m \u001b[0mtime\u001b[0m\u001b[1;33m.\u001b[0m\u001b[0mtime\u001b[0m\u001b[1;33m(\u001b[0m\u001b[1;33m)\u001b[0m\u001b[1;33m\u001b[0m\u001b[1;33m\u001b[0m\u001b[0m\n\u001b[0;32m     20\u001b[0m \u001b[0mestimator\u001b[0m \u001b[1;33m=\u001b[0m \u001b[0mxgb\u001b[0m\u001b[1;33m.\u001b[0m\u001b[0mXGBRegressor\u001b[0m\u001b[1;33m(\u001b[0m\u001b[0mmax_depth\u001b[0m\u001b[1;33m=\u001b[0m\u001b[1;36m12\u001b[0m\u001b[1;33m,\u001b[0m\u001b[0mlearning_rate\u001b[0m \u001b[1;33m=\u001b[0m\u001b[1;36m0.1\u001b[0m\u001b[1;33m,\u001b[0m\u001b[0mn_jobs\u001b[0m \u001b[1;33m=\u001b[0m\u001b[1;36m4\u001b[0m\u001b[1;33m,\u001b[0m \u001b[0mn_estimators\u001b[0m\u001b[1;33m=\u001b[0m\u001b[0mnum_trees\u001b[0m\u001b[1;33m,\u001b[0m\u001b[0msubsample\u001b[0m\u001b[1;33m=\u001b[0m\u001b[1;36m0.8\u001b[0m\u001b[1;33m,\u001b[0m\u001b[0mcolsample_bytree\u001b[0m\u001b[1;33m=\u001b[0m\u001b[1;36m0.8\u001b[0m\u001b[1;33m,\u001b[0m\u001b[0mnthread\u001b[0m\u001b[1;33m=\u001b[0m\u001b[1;36m4\u001b[0m\u001b[1;33m,\u001b[0m\u001b[0mscale_pos_weight\u001b[0m\u001b[1;33m=\u001b[0m\u001b[1;36m1\u001b[0m\u001b[1;33m)\u001b[0m\u001b[1;33m\u001b[0m\u001b[1;33m\u001b[0m\u001b[0m\n\u001b[1;32m---> 21\u001b[1;33m \u001b[0mestimator\u001b[0m\u001b[1;33m.\u001b[0m\u001b[0mfit\u001b[0m\u001b[1;33m(\u001b[0m\u001b[0mX_train\u001b[0m\u001b[1;33m,\u001b[0m \u001b[0mY_train\u001b[0m\u001b[1;33m,\u001b[0m\u001b[0meval_metric\u001b[0m\u001b[1;33m=\u001b[0m\u001b[0mrmspe_xg\u001b[0m\u001b[1;33m,\u001b[0m \u001b[0meval_set\u001b[0m\u001b[1;33m=\u001b[0m\u001b[0meval_set\u001b[0m\u001b[1;33m,\u001b[0m \u001b[0mverbose\u001b[0m\u001b[1;33m=\u001b[0m\u001b[1;32mTrue\u001b[0m\u001b[1;33m,\u001b[0m\u001b[0mearly_stopping_rounds\u001b[0m\u001b[1;33m=\u001b[0m\u001b[1;36m20\u001b[0m\u001b[1;33m)\u001b[0m\u001b[1;33m\u001b[0m\u001b[1;33m\u001b[0m\u001b[0m\n\u001b[0m\u001b[0;32m     22\u001b[0m \u001b[1;31m#gbm = xgb.train(params, dtrain, num_trees, evals=watchlist, early_stopping_rounds=50,evals_result =ret, feval=rmspe_xg, verbose_eval=True)\u001b[0m\u001b[1;33m\u001b[0m\u001b[1;33m\u001b[0m\u001b[1;33m\u001b[0m\u001b[0m\n\u001b[0;32m     23\u001b[0m \u001b[0mend\u001b[0m \u001b[1;33m=\u001b[0m \u001b[0mtime\u001b[0m\u001b[1;33m.\u001b[0m\u001b[0mtime\u001b[0m\u001b[1;33m(\u001b[0m\u001b[1;33m)\u001b[0m\u001b[1;33m\u001b[0m\u001b[1;33m\u001b[0m\u001b[0m\n",
      "\u001b[1;32mD:\\AnaconDA\\lib\\site-packages\\xgboost\\sklearn.py\u001b[0m in \u001b[0;36mfit\u001b[1;34m(self, X, y, sample_weight, eval_set, eval_metric, early_stopping_rounds, verbose, xgb_model, sample_weight_eval_set, callbacks)\u001b[0m\n\u001b[0;32m    376\u001b[0m                               \u001b[0mevals_result\u001b[0m\u001b[1;33m=\u001b[0m\u001b[0mevals_result\u001b[0m\u001b[1;33m,\u001b[0m \u001b[0mobj\u001b[0m\u001b[1;33m=\u001b[0m\u001b[0mobj\u001b[0m\u001b[1;33m,\u001b[0m \u001b[0mfeval\u001b[0m\u001b[1;33m=\u001b[0m\u001b[0mfeval\u001b[0m\u001b[1;33m,\u001b[0m\u001b[1;33m\u001b[0m\u001b[1;33m\u001b[0m\u001b[0m\n\u001b[0;32m    377\u001b[0m                               \u001b[0mverbose_eval\u001b[0m\u001b[1;33m=\u001b[0m\u001b[0mverbose\u001b[0m\u001b[1;33m,\u001b[0m \u001b[0mxgb_model\u001b[0m\u001b[1;33m=\u001b[0m\u001b[0mxgb_model\u001b[0m\u001b[1;33m,\u001b[0m\u001b[1;33m\u001b[0m\u001b[1;33m\u001b[0m\u001b[0m\n\u001b[1;32m--> 378\u001b[1;33m                               callbacks=callbacks)\n\u001b[0m\u001b[0;32m    379\u001b[0m \u001b[1;33m\u001b[0m\u001b[0m\n\u001b[0;32m    380\u001b[0m         \u001b[1;32mif\u001b[0m \u001b[0mevals_result\u001b[0m\u001b[1;33m:\u001b[0m\u001b[1;33m\u001b[0m\u001b[1;33m\u001b[0m\u001b[0m\n",
      "\u001b[1;32mD:\\AnaconDA\\lib\\site-packages\\xgboost\\training.py\u001b[0m in \u001b[0;36mtrain\u001b[1;34m(params, dtrain, num_boost_round, evals, obj, feval, maximize, early_stopping_rounds, evals_result, verbose_eval, xgb_model, callbacks, learning_rates)\u001b[0m\n\u001b[0;32m    214\u001b[0m                            \u001b[0mevals\u001b[0m\u001b[1;33m=\u001b[0m\u001b[0mevals\u001b[0m\u001b[1;33m,\u001b[0m\u001b[1;33m\u001b[0m\u001b[1;33m\u001b[0m\u001b[0m\n\u001b[0;32m    215\u001b[0m                            \u001b[0mobj\u001b[0m\u001b[1;33m=\u001b[0m\u001b[0mobj\u001b[0m\u001b[1;33m,\u001b[0m \u001b[0mfeval\u001b[0m\u001b[1;33m=\u001b[0m\u001b[0mfeval\u001b[0m\u001b[1;33m,\u001b[0m\u001b[1;33m\u001b[0m\u001b[1;33m\u001b[0m\u001b[0m\n\u001b[1;32m--> 216\u001b[1;33m                            xgb_model=xgb_model, callbacks=callbacks)\n\u001b[0m\u001b[0;32m    217\u001b[0m \u001b[1;33m\u001b[0m\u001b[0m\n\u001b[0;32m    218\u001b[0m \u001b[1;33m\u001b[0m\u001b[0m\n",
      "\u001b[1;32mD:\\AnaconDA\\lib\\site-packages\\xgboost\\training.py\u001b[0m in \u001b[0;36m_train_internal\u001b[1;34m(params, dtrain, num_boost_round, evals, obj, feval, xgb_model, callbacks)\u001b[0m\n\u001b[0;32m     72\u001b[0m         \u001b[1;31m# Skip the first update if it is a recovery step.\u001b[0m\u001b[1;33m\u001b[0m\u001b[1;33m\u001b[0m\u001b[1;33m\u001b[0m\u001b[0m\n\u001b[0;32m     73\u001b[0m         \u001b[1;32mif\u001b[0m \u001b[0mversion\u001b[0m \u001b[1;33m%\u001b[0m \u001b[1;36m2\u001b[0m \u001b[1;33m==\u001b[0m \u001b[1;36m0\u001b[0m\u001b[1;33m:\u001b[0m\u001b[1;33m\u001b[0m\u001b[1;33m\u001b[0m\u001b[0m\n\u001b[1;32m---> 74\u001b[1;33m             \u001b[0mbst\u001b[0m\u001b[1;33m.\u001b[0m\u001b[0mupdate\u001b[0m\u001b[1;33m(\u001b[0m\u001b[0mdtrain\u001b[0m\u001b[1;33m,\u001b[0m \u001b[0mi\u001b[0m\u001b[1;33m,\u001b[0m \u001b[0mobj\u001b[0m\u001b[1;33m)\u001b[0m\u001b[1;33m\u001b[0m\u001b[1;33m\u001b[0m\u001b[0m\n\u001b[0m\u001b[0;32m     75\u001b[0m             \u001b[0mbst\u001b[0m\u001b[1;33m.\u001b[0m\u001b[0msave_rabit_checkpoint\u001b[0m\u001b[1;33m(\u001b[0m\u001b[1;33m)\u001b[0m\u001b[1;33m\u001b[0m\u001b[1;33m\u001b[0m\u001b[0m\n\u001b[0;32m     76\u001b[0m             \u001b[0mversion\u001b[0m \u001b[1;33m+=\u001b[0m \u001b[1;36m1\u001b[0m\u001b[1;33m\u001b[0m\u001b[1;33m\u001b[0m\u001b[0m\n",
      "\u001b[1;32mD:\\AnaconDA\\lib\\site-packages\\xgboost\\core.py\u001b[0m in \u001b[0;36mupdate\u001b[1;34m(self, dtrain, iteration, fobj)\u001b[0m\n\u001b[0;32m   1108\u001b[0m         \u001b[1;32mif\u001b[0m \u001b[0mfobj\u001b[0m \u001b[1;32mis\u001b[0m \u001b[1;32mNone\u001b[0m\u001b[1;33m:\u001b[0m\u001b[1;33m\u001b[0m\u001b[1;33m\u001b[0m\u001b[0m\n\u001b[0;32m   1109\u001b[0m             _check_call(_LIB.XGBoosterUpdateOneIter(self.handle, ctypes.c_int(iteration),\n\u001b[1;32m-> 1110\u001b[1;33m                                                     dtrain.handle))\n\u001b[0m\u001b[0;32m   1111\u001b[0m         \u001b[1;32melse\u001b[0m\u001b[1;33m:\u001b[0m\u001b[1;33m\u001b[0m\u001b[1;33m\u001b[0m\u001b[0m\n\u001b[0;32m   1112\u001b[0m             \u001b[0mpred\u001b[0m \u001b[1;33m=\u001b[0m \u001b[0mself\u001b[0m\u001b[1;33m.\u001b[0m\u001b[0mpredict\u001b[0m\u001b[1;33m(\u001b[0m\u001b[0mdtrain\u001b[0m\u001b[1;33m)\u001b[0m\u001b[1;33m\u001b[0m\u001b[1;33m\u001b[0m\u001b[0m\n",
      "\u001b[1;31mKeyboardInterrupt\u001b[0m: "
     ]
    }
   ],
   "source": [
    "params = {\"objective\": \"reg:linear\",\n",
    "          \"eta\": 0.1,\n",
    "          \"max_depth\": 12,\n",
    "          \"min_child_weight\":1,\n",
    "          \"gamma\" :0,\n",
    "          \"subsample\": 0.7,\n",
    "          \"colsample_bytree\": 0.7,\n",
    "          \"silent\": 1\n",
    "          }\n",
    "num_trees = 1000\n",
    "\n",
    "# dtrain = xgb.DMatrix(X_train, Y_train)\n",
    "# dvalid = xgb.DMatrix(X_valid, Y_valid)\n",
    "# dtest = xgb.DMatrix(test)\n",
    "eval_set= [(X_train, Y_train),(X_valid, Y_valid)]\n",
    "#watchlist = [(dvalid, 'eval'), (dtrain, 'train')]\n",
    "ret = {}\n",
    "import time\n",
    "start = time.time()\n",
    "estimator = xgb.XGBRegressor(max_depth=12,learning_rate =0.1,n_jobs =4, n_estimators=num_trees,subsample=0.8,colsample_bytree=0.8,nthread=4,scale_pos_weight=1)\n",
    "estimator.fit(X_train, Y_train,eval_metric=rmspe_xg, eval_set=eval_set, verbose=True,early_stopping_rounds=20)\n",
    "#gbm = xgb.train(params, dtrain, num_trees, evals=watchlist, early_stopping_rounds=50,evals_result =ret, feval=rmspe_xg, verbose_eval=True)\n",
    "end = time.time()\n",
    "print(\"Train use time:\",end-start)"
   ]
  },
  {
   "cell_type": "code",
   "execution_count": 18,
   "metadata": {},
   "outputs": [
    {
     "ename": "AttributeError",
     "evalue": "'XGBRegressor' object has no attribute 'evals_result_'",
     "output_type": "error",
     "traceback": [
      "\u001b[1;31m---------------------------------------------------------------------------\u001b[0m",
      "\u001b[1;31mAttributeError\u001b[0m                            Traceback (most recent call last)",
      "\u001b[1;32m<ipython-input-18-a790267e6998>\u001b[0m in \u001b[0;36m<module>\u001b[1;34m\u001b[0m\n\u001b[0;32m      1\u001b[0m \u001b[1;32mfrom\u001b[0m \u001b[0mmatplotlib\u001b[0m \u001b[1;32mimport\u001b[0m \u001b[0mpyplot\u001b[0m\u001b[1;33m\u001b[0m\u001b[1;33m\u001b[0m\u001b[0m\n\u001b[1;32m----> 2\u001b[1;33m \u001b[0mresults\u001b[0m \u001b[1;33m=\u001b[0m \u001b[0mestimator\u001b[0m\u001b[1;33m.\u001b[0m\u001b[0mevals_result\u001b[0m\u001b[1;33m(\u001b[0m\u001b[1;33m)\u001b[0m\u001b[1;33m\u001b[0m\u001b[1;33m\u001b[0m\u001b[0m\n\u001b[0m\u001b[0;32m      3\u001b[0m \u001b[0mepochs\u001b[0m \u001b[1;33m=\u001b[0m \u001b[0mlen\u001b[0m\u001b[1;33m(\u001b[0m\u001b[0mresults\u001b[0m\u001b[1;33m[\u001b[0m\u001b[1;34m'validation_0'\u001b[0m\u001b[1;33m]\u001b[0m\u001b[1;33m[\u001b[0m\u001b[1;34m'rmspe'\u001b[0m\u001b[1;33m]\u001b[0m\u001b[1;33m)\u001b[0m\u001b[1;33m\u001b[0m\u001b[1;33m\u001b[0m\u001b[0m\n\u001b[0;32m      4\u001b[0m \u001b[0mx_axis\u001b[0m \u001b[1;33m=\u001b[0m \u001b[0mrange\u001b[0m\u001b[1;33m(\u001b[0m\u001b[1;36m0\u001b[0m\u001b[1;33m,\u001b[0m \u001b[0mepochs\u001b[0m\u001b[1;33m)\u001b[0m\u001b[1;33m\u001b[0m\u001b[1;33m\u001b[0m\u001b[0m\n\u001b[0;32m      5\u001b[0m \u001b[1;31m# plot log loss\u001b[0m\u001b[1;33m\u001b[0m\u001b[1;33m\u001b[0m\u001b[1;33m\u001b[0m\u001b[0m\n",
      "\u001b[1;32mD:\\AnaconDA\\lib\\site-packages\\xgboost\\sklearn.py\u001b[0m in \u001b[0;36mevals_result\u001b[1;34m(self)\u001b[0m\n\u001b[0;32m    496\u001b[0m             'validation_1': {'logloss': ['0.41965', '0.17686']}}\n\u001b[0;32m    497\u001b[0m         \"\"\"\n\u001b[1;32m--> 498\u001b[1;33m         \u001b[1;32mif\u001b[0m \u001b[0mself\u001b[0m\u001b[1;33m.\u001b[0m\u001b[0mevals_result_\u001b[0m\u001b[1;33m:\u001b[0m\u001b[1;33m\u001b[0m\u001b[1;33m\u001b[0m\u001b[0m\n\u001b[0m\u001b[0;32m    499\u001b[0m             \u001b[0mevals_result\u001b[0m \u001b[1;33m=\u001b[0m \u001b[0mself\u001b[0m\u001b[1;33m.\u001b[0m\u001b[0mevals_result_\u001b[0m\u001b[1;33m\u001b[0m\u001b[1;33m\u001b[0m\u001b[0m\n\u001b[0;32m    500\u001b[0m         \u001b[1;32melse\u001b[0m\u001b[1;33m:\u001b[0m\u001b[1;33m\u001b[0m\u001b[1;33m\u001b[0m\u001b[0m\n",
      "\u001b[1;31mAttributeError\u001b[0m: 'XGBRegressor' object has no attribute 'evals_result_'"
     ]
    }
   ],
   "source": [
    "from matplotlib import pyplot\n",
    "results = estimator.evals_result()\n",
    "epochs = len(results['validation_0']['rmspe'])\n",
    "x_axis = range(0, epochs)\n",
    "# plot log loss\n",
    "fig, ax = pyplot.subplots()\n",
    "ax.plot(x_axis, results['validation_0']['rmspe'], label='Train')\n",
    "ax.plot(x_axis, results['validation_1']['rmspe'], label='Test')\n",
    "ax.legend()\n",
    "pyplot.ylabel('Rmspe Loss')\n",
    "pyplot.title('XGBoost Rmspe Loss')\n",
    "pyplot.show()"
   ]
  },
  {
   "cell_type": "code",
   "execution_count": 19,
   "metadata": {},
   "outputs": [
    {
     "name": "stderr",
     "output_type": "stream",
     "text": [
      "D:\\AnaconDA\\lib\\site-packages\\sklearn\\model_selection\\_search.py:643: DeprecationWarning: \"fit_params\" as a constructor argument was deprecated in version 0.19 and will be removed in version 0.21. Pass fit parameters to the \"fit\" method instead.\n",
      "  '\"fit\" method instead.', DeprecationWarning)\n",
      "[Parallel(n_jobs=1)]: Using backend SequentialBackend with 1 concurrent workers.\n"
     ]
    },
    {
     "name": "stdout",
     "output_type": "stream",
     "text": [
      "Fitting 3 folds for each of 3 candidates, totalling 9 fits\n",
      "[CV] max_depth=10 ....................................................\n"
     ]
    },
    {
     "ename": "KeyboardInterrupt",
     "evalue": "",
     "output_type": "error",
     "traceback": [
      "\u001b[1;31m---------------------------------------------------------------------------\u001b[0m",
      "\u001b[1;31mKeyboardInterrupt\u001b[0m                         Traceback (most recent call last)",
      "\u001b[1;32m<ipython-input-19-989d83b12e68>\u001b[0m in \u001b[0;36m<module>\u001b[1;34m\u001b[0m\n\u001b[0;32m     24\u001b[0m gsearch1 = GridSearchCV(estimator = xgb.XGBRegressor(max_depth=12,learning_rate =0.1,n_jobs =4, n_estimators=nums_round,subsample=0.8,colsample_bytree=0.8,nthread=4,scale_pos_weight=1),\n\u001b[0;32m     25\u001b[0m                         param_grid = param_test1,cv=3,verbose=2,scoring=make_scorer(customer_rmspe_xg,greater_is_better=False),fit_params = params_fit)\n\u001b[1;32m---> 26\u001b[1;33m \u001b[0mgsearch1\u001b[0m\u001b[1;33m.\u001b[0m\u001b[0mfit\u001b[0m\u001b[1;33m(\u001b[0m\u001b[0mX_train\u001b[0m\u001b[1;33m,\u001b[0m \u001b[0mY_train\u001b[0m\u001b[1;33m)\u001b[0m\u001b[1;33m\u001b[0m\u001b[1;33m\u001b[0m\u001b[0m\n\u001b[0m",
      "\u001b[1;32mD:\\AnaconDA\\lib\\site-packages\\sklearn\\model_selection\\_search.py\u001b[0m in \u001b[0;36mfit\u001b[1;34m(self, X, y, groups, **fit_params)\u001b[0m\n\u001b[0;32m    720\u001b[0m                 \u001b[1;32mreturn\u001b[0m \u001b[0mresults_container\u001b[0m\u001b[1;33m[\u001b[0m\u001b[1;36m0\u001b[0m\u001b[1;33m]\u001b[0m\u001b[1;33m\u001b[0m\u001b[1;33m\u001b[0m\u001b[0m\n\u001b[0;32m    721\u001b[0m \u001b[1;33m\u001b[0m\u001b[0m\n\u001b[1;32m--> 722\u001b[1;33m             \u001b[0mself\u001b[0m\u001b[1;33m.\u001b[0m\u001b[0m_run_search\u001b[0m\u001b[1;33m(\u001b[0m\u001b[0mevaluate_candidates\u001b[0m\u001b[1;33m)\u001b[0m\u001b[1;33m\u001b[0m\u001b[1;33m\u001b[0m\u001b[0m\n\u001b[0m\u001b[0;32m    723\u001b[0m \u001b[1;33m\u001b[0m\u001b[0m\n\u001b[0;32m    724\u001b[0m         \u001b[0mresults\u001b[0m \u001b[1;33m=\u001b[0m \u001b[0mresults_container\u001b[0m\u001b[1;33m[\u001b[0m\u001b[1;36m0\u001b[0m\u001b[1;33m]\u001b[0m\u001b[1;33m\u001b[0m\u001b[1;33m\u001b[0m\u001b[0m\n",
      "\u001b[1;32mD:\\AnaconDA\\lib\\site-packages\\sklearn\\model_selection\\_search.py\u001b[0m in \u001b[0;36m_run_search\u001b[1;34m(self, evaluate_candidates)\u001b[0m\n\u001b[0;32m   1189\u001b[0m     \u001b[1;32mdef\u001b[0m \u001b[0m_run_search\u001b[0m\u001b[1;33m(\u001b[0m\u001b[0mself\u001b[0m\u001b[1;33m,\u001b[0m \u001b[0mevaluate_candidates\u001b[0m\u001b[1;33m)\u001b[0m\u001b[1;33m:\u001b[0m\u001b[1;33m\u001b[0m\u001b[1;33m\u001b[0m\u001b[0m\n\u001b[0;32m   1190\u001b[0m         \u001b[1;34m\"\"\"Search all candidates in param_grid\"\"\"\u001b[0m\u001b[1;33m\u001b[0m\u001b[1;33m\u001b[0m\u001b[0m\n\u001b[1;32m-> 1191\u001b[1;33m         \u001b[0mevaluate_candidates\u001b[0m\u001b[1;33m(\u001b[0m\u001b[0mParameterGrid\u001b[0m\u001b[1;33m(\u001b[0m\u001b[0mself\u001b[0m\u001b[1;33m.\u001b[0m\u001b[0mparam_grid\u001b[0m\u001b[1;33m)\u001b[0m\u001b[1;33m)\u001b[0m\u001b[1;33m\u001b[0m\u001b[1;33m\u001b[0m\u001b[0m\n\u001b[0m\u001b[0;32m   1192\u001b[0m \u001b[1;33m\u001b[0m\u001b[0m\n\u001b[0;32m   1193\u001b[0m \u001b[1;33m\u001b[0m\u001b[0m\n",
      "\u001b[1;32mD:\\AnaconDA\\lib\\site-packages\\sklearn\\model_selection\\_search.py\u001b[0m in \u001b[0;36mevaluate_candidates\u001b[1;34m(candidate_params)\u001b[0m\n\u001b[0;32m    709\u001b[0m                                \u001b[1;32mfor\u001b[0m \u001b[0mparameters\u001b[0m\u001b[1;33m,\u001b[0m \u001b[1;33m(\u001b[0m\u001b[0mtrain\u001b[0m\u001b[1;33m,\u001b[0m \u001b[0mtest\u001b[0m\u001b[1;33m)\u001b[0m\u001b[1;33m\u001b[0m\u001b[1;33m\u001b[0m\u001b[0m\n\u001b[0;32m    710\u001b[0m                                in product(candidate_params,\n\u001b[1;32m--> 711\u001b[1;33m                                           cv.split(X, y, groups)))\n\u001b[0m\u001b[0;32m    712\u001b[0m \u001b[1;33m\u001b[0m\u001b[0m\n\u001b[0;32m    713\u001b[0m                 \u001b[0mall_candidate_params\u001b[0m\u001b[1;33m.\u001b[0m\u001b[0mextend\u001b[0m\u001b[1;33m(\u001b[0m\u001b[0mcandidate_params\u001b[0m\u001b[1;33m)\u001b[0m\u001b[1;33m\u001b[0m\u001b[1;33m\u001b[0m\u001b[0m\n",
      "\u001b[1;32mD:\\AnaconDA\\lib\\site-packages\\sklearn\\externals\\joblib\\parallel.py\u001b[0m in \u001b[0;36m__call__\u001b[1;34m(self, iterable)\u001b[0m\n\u001b[0;32m    915\u001b[0m             \u001b[1;31m# remaining jobs.\u001b[0m\u001b[1;33m\u001b[0m\u001b[1;33m\u001b[0m\u001b[1;33m\u001b[0m\u001b[0m\n\u001b[0;32m    916\u001b[0m             \u001b[0mself\u001b[0m\u001b[1;33m.\u001b[0m\u001b[0m_iterating\u001b[0m \u001b[1;33m=\u001b[0m \u001b[1;32mFalse\u001b[0m\u001b[1;33m\u001b[0m\u001b[1;33m\u001b[0m\u001b[0m\n\u001b[1;32m--> 917\u001b[1;33m             \u001b[1;32mif\u001b[0m \u001b[0mself\u001b[0m\u001b[1;33m.\u001b[0m\u001b[0mdispatch_one_batch\u001b[0m\u001b[1;33m(\u001b[0m\u001b[0miterator\u001b[0m\u001b[1;33m)\u001b[0m\u001b[1;33m:\u001b[0m\u001b[1;33m\u001b[0m\u001b[1;33m\u001b[0m\u001b[0m\n\u001b[0m\u001b[0;32m    918\u001b[0m                 \u001b[0mself\u001b[0m\u001b[1;33m.\u001b[0m\u001b[0m_iterating\u001b[0m \u001b[1;33m=\u001b[0m \u001b[0mself\u001b[0m\u001b[1;33m.\u001b[0m\u001b[0m_original_iterator\u001b[0m \u001b[1;32mis\u001b[0m \u001b[1;32mnot\u001b[0m \u001b[1;32mNone\u001b[0m\u001b[1;33m\u001b[0m\u001b[1;33m\u001b[0m\u001b[0m\n\u001b[0;32m    919\u001b[0m \u001b[1;33m\u001b[0m\u001b[0m\n",
      "\u001b[1;32mD:\\AnaconDA\\lib\\site-packages\\sklearn\\externals\\joblib\\parallel.py\u001b[0m in \u001b[0;36mdispatch_one_batch\u001b[1;34m(self, iterator)\u001b[0m\n\u001b[0;32m    757\u001b[0m                 \u001b[1;32mreturn\u001b[0m \u001b[1;32mFalse\u001b[0m\u001b[1;33m\u001b[0m\u001b[1;33m\u001b[0m\u001b[0m\n\u001b[0;32m    758\u001b[0m             \u001b[1;32melse\u001b[0m\u001b[1;33m:\u001b[0m\u001b[1;33m\u001b[0m\u001b[1;33m\u001b[0m\u001b[0m\n\u001b[1;32m--> 759\u001b[1;33m                 \u001b[0mself\u001b[0m\u001b[1;33m.\u001b[0m\u001b[0m_dispatch\u001b[0m\u001b[1;33m(\u001b[0m\u001b[0mtasks\u001b[0m\u001b[1;33m)\u001b[0m\u001b[1;33m\u001b[0m\u001b[1;33m\u001b[0m\u001b[0m\n\u001b[0m\u001b[0;32m    760\u001b[0m                 \u001b[1;32mreturn\u001b[0m \u001b[1;32mTrue\u001b[0m\u001b[1;33m\u001b[0m\u001b[1;33m\u001b[0m\u001b[0m\n\u001b[0;32m    761\u001b[0m \u001b[1;33m\u001b[0m\u001b[0m\n",
      "\u001b[1;32mD:\\AnaconDA\\lib\\site-packages\\sklearn\\externals\\joblib\\parallel.py\u001b[0m in \u001b[0;36m_dispatch\u001b[1;34m(self, batch)\u001b[0m\n\u001b[0;32m    714\u001b[0m         \u001b[1;32mwith\u001b[0m \u001b[0mself\u001b[0m\u001b[1;33m.\u001b[0m\u001b[0m_lock\u001b[0m\u001b[1;33m:\u001b[0m\u001b[1;33m\u001b[0m\u001b[1;33m\u001b[0m\u001b[0m\n\u001b[0;32m    715\u001b[0m             \u001b[0mjob_idx\u001b[0m \u001b[1;33m=\u001b[0m \u001b[0mlen\u001b[0m\u001b[1;33m(\u001b[0m\u001b[0mself\u001b[0m\u001b[1;33m.\u001b[0m\u001b[0m_jobs\u001b[0m\u001b[1;33m)\u001b[0m\u001b[1;33m\u001b[0m\u001b[1;33m\u001b[0m\u001b[0m\n\u001b[1;32m--> 716\u001b[1;33m             \u001b[0mjob\u001b[0m \u001b[1;33m=\u001b[0m \u001b[0mself\u001b[0m\u001b[1;33m.\u001b[0m\u001b[0m_backend\u001b[0m\u001b[1;33m.\u001b[0m\u001b[0mapply_async\u001b[0m\u001b[1;33m(\u001b[0m\u001b[0mbatch\u001b[0m\u001b[1;33m,\u001b[0m \u001b[0mcallback\u001b[0m\u001b[1;33m=\u001b[0m\u001b[0mcb\u001b[0m\u001b[1;33m)\u001b[0m\u001b[1;33m\u001b[0m\u001b[1;33m\u001b[0m\u001b[0m\n\u001b[0m\u001b[0;32m    717\u001b[0m             \u001b[1;31m# A job can complete so quickly than its callback is\u001b[0m\u001b[1;33m\u001b[0m\u001b[1;33m\u001b[0m\u001b[1;33m\u001b[0m\u001b[0m\n\u001b[0;32m    718\u001b[0m             \u001b[1;31m# called before we get here, causing self._jobs to\u001b[0m\u001b[1;33m\u001b[0m\u001b[1;33m\u001b[0m\u001b[1;33m\u001b[0m\u001b[0m\n",
      "\u001b[1;32mD:\\AnaconDA\\lib\\site-packages\\sklearn\\externals\\joblib\\_parallel_backends.py\u001b[0m in \u001b[0;36mapply_async\u001b[1;34m(self, func, callback)\u001b[0m\n\u001b[0;32m    180\u001b[0m     \u001b[1;32mdef\u001b[0m \u001b[0mapply_async\u001b[0m\u001b[1;33m(\u001b[0m\u001b[0mself\u001b[0m\u001b[1;33m,\u001b[0m \u001b[0mfunc\u001b[0m\u001b[1;33m,\u001b[0m \u001b[0mcallback\u001b[0m\u001b[1;33m=\u001b[0m\u001b[1;32mNone\u001b[0m\u001b[1;33m)\u001b[0m\u001b[1;33m:\u001b[0m\u001b[1;33m\u001b[0m\u001b[1;33m\u001b[0m\u001b[0m\n\u001b[0;32m    181\u001b[0m         \u001b[1;34m\"\"\"Schedule a func to be run\"\"\"\u001b[0m\u001b[1;33m\u001b[0m\u001b[1;33m\u001b[0m\u001b[0m\n\u001b[1;32m--> 182\u001b[1;33m         \u001b[0mresult\u001b[0m \u001b[1;33m=\u001b[0m \u001b[0mImmediateResult\u001b[0m\u001b[1;33m(\u001b[0m\u001b[0mfunc\u001b[0m\u001b[1;33m)\u001b[0m\u001b[1;33m\u001b[0m\u001b[1;33m\u001b[0m\u001b[0m\n\u001b[0m\u001b[0;32m    183\u001b[0m         \u001b[1;32mif\u001b[0m \u001b[0mcallback\u001b[0m\u001b[1;33m:\u001b[0m\u001b[1;33m\u001b[0m\u001b[1;33m\u001b[0m\u001b[0m\n\u001b[0;32m    184\u001b[0m             \u001b[0mcallback\u001b[0m\u001b[1;33m(\u001b[0m\u001b[0mresult\u001b[0m\u001b[1;33m)\u001b[0m\u001b[1;33m\u001b[0m\u001b[1;33m\u001b[0m\u001b[0m\n",
      "\u001b[1;32mD:\\AnaconDA\\lib\\site-packages\\sklearn\\externals\\joblib\\_parallel_backends.py\u001b[0m in \u001b[0;36m__init__\u001b[1;34m(self, batch)\u001b[0m\n\u001b[0;32m    547\u001b[0m         \u001b[1;31m# Don't delay the application, to avoid keeping the input\u001b[0m\u001b[1;33m\u001b[0m\u001b[1;33m\u001b[0m\u001b[1;33m\u001b[0m\u001b[0m\n\u001b[0;32m    548\u001b[0m         \u001b[1;31m# arguments in memory\u001b[0m\u001b[1;33m\u001b[0m\u001b[1;33m\u001b[0m\u001b[1;33m\u001b[0m\u001b[0m\n\u001b[1;32m--> 549\u001b[1;33m         \u001b[0mself\u001b[0m\u001b[1;33m.\u001b[0m\u001b[0mresults\u001b[0m \u001b[1;33m=\u001b[0m \u001b[0mbatch\u001b[0m\u001b[1;33m(\u001b[0m\u001b[1;33m)\u001b[0m\u001b[1;33m\u001b[0m\u001b[1;33m\u001b[0m\u001b[0m\n\u001b[0m\u001b[0;32m    550\u001b[0m \u001b[1;33m\u001b[0m\u001b[0m\n\u001b[0;32m    551\u001b[0m     \u001b[1;32mdef\u001b[0m \u001b[0mget\u001b[0m\u001b[1;33m(\u001b[0m\u001b[0mself\u001b[0m\u001b[1;33m)\u001b[0m\u001b[1;33m:\u001b[0m\u001b[1;33m\u001b[0m\u001b[1;33m\u001b[0m\u001b[0m\n",
      "\u001b[1;32mD:\\AnaconDA\\lib\\site-packages\\sklearn\\externals\\joblib\\parallel.py\u001b[0m in \u001b[0;36m__call__\u001b[1;34m(self)\u001b[0m\n\u001b[0;32m    223\u001b[0m         \u001b[1;32mwith\u001b[0m \u001b[0mparallel_backend\u001b[0m\u001b[1;33m(\u001b[0m\u001b[0mself\u001b[0m\u001b[1;33m.\u001b[0m\u001b[0m_backend\u001b[0m\u001b[1;33m,\u001b[0m \u001b[0mn_jobs\u001b[0m\u001b[1;33m=\u001b[0m\u001b[0mself\u001b[0m\u001b[1;33m.\u001b[0m\u001b[0m_n_jobs\u001b[0m\u001b[1;33m)\u001b[0m\u001b[1;33m:\u001b[0m\u001b[1;33m\u001b[0m\u001b[1;33m\u001b[0m\u001b[0m\n\u001b[0;32m    224\u001b[0m             return [func(*args, **kwargs)\n\u001b[1;32m--> 225\u001b[1;33m                     for func, args, kwargs in self.items]\n\u001b[0m\u001b[0;32m    226\u001b[0m \u001b[1;33m\u001b[0m\u001b[0m\n\u001b[0;32m    227\u001b[0m     \u001b[1;32mdef\u001b[0m \u001b[0m__len__\u001b[0m\u001b[1;33m(\u001b[0m\u001b[0mself\u001b[0m\u001b[1;33m)\u001b[0m\u001b[1;33m:\u001b[0m\u001b[1;33m\u001b[0m\u001b[1;33m\u001b[0m\u001b[0m\n",
      "\u001b[1;32mD:\\AnaconDA\\lib\\site-packages\\sklearn\\externals\\joblib\\parallel.py\u001b[0m in \u001b[0;36m<listcomp>\u001b[1;34m(.0)\u001b[0m\n\u001b[0;32m    223\u001b[0m         \u001b[1;32mwith\u001b[0m \u001b[0mparallel_backend\u001b[0m\u001b[1;33m(\u001b[0m\u001b[0mself\u001b[0m\u001b[1;33m.\u001b[0m\u001b[0m_backend\u001b[0m\u001b[1;33m,\u001b[0m \u001b[0mn_jobs\u001b[0m\u001b[1;33m=\u001b[0m\u001b[0mself\u001b[0m\u001b[1;33m.\u001b[0m\u001b[0m_n_jobs\u001b[0m\u001b[1;33m)\u001b[0m\u001b[1;33m:\u001b[0m\u001b[1;33m\u001b[0m\u001b[1;33m\u001b[0m\u001b[0m\n\u001b[0;32m    224\u001b[0m             return [func(*args, **kwargs)\n\u001b[1;32m--> 225\u001b[1;33m                     for func, args, kwargs in self.items]\n\u001b[0m\u001b[0;32m    226\u001b[0m \u001b[1;33m\u001b[0m\u001b[0m\n\u001b[0;32m    227\u001b[0m     \u001b[1;32mdef\u001b[0m \u001b[0m__len__\u001b[0m\u001b[1;33m(\u001b[0m\u001b[0mself\u001b[0m\u001b[1;33m)\u001b[0m\u001b[1;33m:\u001b[0m\u001b[1;33m\u001b[0m\u001b[1;33m\u001b[0m\u001b[0m\n",
      "\u001b[1;32mD:\\AnaconDA\\lib\\site-packages\\sklearn\\model_selection\\_validation.py\u001b[0m in \u001b[0;36m_fit_and_score\u001b[1;34m(estimator, X, y, scorer, train, test, verbose, parameters, fit_params, return_train_score, return_parameters, return_n_test_samples, return_times, return_estimator, error_score)\u001b[0m\n\u001b[0;32m    526\u001b[0m             \u001b[0mestimator\u001b[0m\u001b[1;33m.\u001b[0m\u001b[0mfit\u001b[0m\u001b[1;33m(\u001b[0m\u001b[0mX_train\u001b[0m\u001b[1;33m,\u001b[0m \u001b[1;33m**\u001b[0m\u001b[0mfit_params\u001b[0m\u001b[1;33m)\u001b[0m\u001b[1;33m\u001b[0m\u001b[1;33m\u001b[0m\u001b[0m\n\u001b[0;32m    527\u001b[0m         \u001b[1;32melse\u001b[0m\u001b[1;33m:\u001b[0m\u001b[1;33m\u001b[0m\u001b[1;33m\u001b[0m\u001b[0m\n\u001b[1;32m--> 528\u001b[1;33m             \u001b[0mestimator\u001b[0m\u001b[1;33m.\u001b[0m\u001b[0mfit\u001b[0m\u001b[1;33m(\u001b[0m\u001b[0mX_train\u001b[0m\u001b[1;33m,\u001b[0m \u001b[0my_train\u001b[0m\u001b[1;33m,\u001b[0m \u001b[1;33m**\u001b[0m\u001b[0mfit_params\u001b[0m\u001b[1;33m)\u001b[0m\u001b[1;33m\u001b[0m\u001b[1;33m\u001b[0m\u001b[0m\n\u001b[0m\u001b[0;32m    529\u001b[0m \u001b[1;33m\u001b[0m\u001b[0m\n\u001b[0;32m    530\u001b[0m     \u001b[1;32mexcept\u001b[0m \u001b[0mException\u001b[0m \u001b[1;32mas\u001b[0m \u001b[0me\u001b[0m\u001b[1;33m:\u001b[0m\u001b[1;33m\u001b[0m\u001b[1;33m\u001b[0m\u001b[0m\n",
      "\u001b[1;32mD:\\AnaconDA\\lib\\site-packages\\xgboost\\sklearn.py\u001b[0m in \u001b[0;36mfit\u001b[1;34m(self, X, y, sample_weight, eval_set, eval_metric, early_stopping_rounds, verbose, xgb_model, sample_weight_eval_set, callbacks)\u001b[0m\n\u001b[0;32m    376\u001b[0m                               \u001b[0mevals_result\u001b[0m\u001b[1;33m=\u001b[0m\u001b[0mevals_result\u001b[0m\u001b[1;33m,\u001b[0m \u001b[0mobj\u001b[0m\u001b[1;33m=\u001b[0m\u001b[0mobj\u001b[0m\u001b[1;33m,\u001b[0m \u001b[0mfeval\u001b[0m\u001b[1;33m=\u001b[0m\u001b[0mfeval\u001b[0m\u001b[1;33m,\u001b[0m\u001b[1;33m\u001b[0m\u001b[1;33m\u001b[0m\u001b[0m\n\u001b[0;32m    377\u001b[0m                               \u001b[0mverbose_eval\u001b[0m\u001b[1;33m=\u001b[0m\u001b[0mverbose\u001b[0m\u001b[1;33m,\u001b[0m \u001b[0mxgb_model\u001b[0m\u001b[1;33m=\u001b[0m\u001b[0mxgb_model\u001b[0m\u001b[1;33m,\u001b[0m\u001b[1;33m\u001b[0m\u001b[1;33m\u001b[0m\u001b[0m\n\u001b[1;32m--> 378\u001b[1;33m                               callbacks=callbacks)\n\u001b[0m\u001b[0;32m    379\u001b[0m \u001b[1;33m\u001b[0m\u001b[0m\n\u001b[0;32m    380\u001b[0m         \u001b[1;32mif\u001b[0m \u001b[0mevals_result\u001b[0m\u001b[1;33m:\u001b[0m\u001b[1;33m\u001b[0m\u001b[1;33m\u001b[0m\u001b[0m\n",
      "\u001b[1;32mD:\\AnaconDA\\lib\\site-packages\\xgboost\\training.py\u001b[0m in \u001b[0;36mtrain\u001b[1;34m(params, dtrain, num_boost_round, evals, obj, feval, maximize, early_stopping_rounds, evals_result, verbose_eval, xgb_model, callbacks, learning_rates)\u001b[0m\n\u001b[0;32m    214\u001b[0m                            \u001b[0mevals\u001b[0m\u001b[1;33m=\u001b[0m\u001b[0mevals\u001b[0m\u001b[1;33m,\u001b[0m\u001b[1;33m\u001b[0m\u001b[1;33m\u001b[0m\u001b[0m\n\u001b[0;32m    215\u001b[0m                            \u001b[0mobj\u001b[0m\u001b[1;33m=\u001b[0m\u001b[0mobj\u001b[0m\u001b[1;33m,\u001b[0m \u001b[0mfeval\u001b[0m\u001b[1;33m=\u001b[0m\u001b[0mfeval\u001b[0m\u001b[1;33m,\u001b[0m\u001b[1;33m\u001b[0m\u001b[1;33m\u001b[0m\u001b[0m\n\u001b[1;32m--> 216\u001b[1;33m                            xgb_model=xgb_model, callbacks=callbacks)\n\u001b[0m\u001b[0;32m    217\u001b[0m \u001b[1;33m\u001b[0m\u001b[0m\n\u001b[0;32m    218\u001b[0m \u001b[1;33m\u001b[0m\u001b[0m\n",
      "\u001b[1;32mD:\\AnaconDA\\lib\\site-packages\\xgboost\\training.py\u001b[0m in \u001b[0;36m_train_internal\u001b[1;34m(params, dtrain, num_boost_round, evals, obj, feval, xgb_model, callbacks)\u001b[0m\n\u001b[0;32m     72\u001b[0m         \u001b[1;31m# Skip the first update if it is a recovery step.\u001b[0m\u001b[1;33m\u001b[0m\u001b[1;33m\u001b[0m\u001b[1;33m\u001b[0m\u001b[0m\n\u001b[0;32m     73\u001b[0m         \u001b[1;32mif\u001b[0m \u001b[0mversion\u001b[0m \u001b[1;33m%\u001b[0m \u001b[1;36m2\u001b[0m \u001b[1;33m==\u001b[0m \u001b[1;36m0\u001b[0m\u001b[1;33m:\u001b[0m\u001b[1;33m\u001b[0m\u001b[1;33m\u001b[0m\u001b[0m\n\u001b[1;32m---> 74\u001b[1;33m             \u001b[0mbst\u001b[0m\u001b[1;33m.\u001b[0m\u001b[0mupdate\u001b[0m\u001b[1;33m(\u001b[0m\u001b[0mdtrain\u001b[0m\u001b[1;33m,\u001b[0m \u001b[0mi\u001b[0m\u001b[1;33m,\u001b[0m \u001b[0mobj\u001b[0m\u001b[1;33m)\u001b[0m\u001b[1;33m\u001b[0m\u001b[1;33m\u001b[0m\u001b[0m\n\u001b[0m\u001b[0;32m     75\u001b[0m             \u001b[0mbst\u001b[0m\u001b[1;33m.\u001b[0m\u001b[0msave_rabit_checkpoint\u001b[0m\u001b[1;33m(\u001b[0m\u001b[1;33m)\u001b[0m\u001b[1;33m\u001b[0m\u001b[1;33m\u001b[0m\u001b[0m\n\u001b[0;32m     76\u001b[0m             \u001b[0mversion\u001b[0m \u001b[1;33m+=\u001b[0m \u001b[1;36m1\u001b[0m\u001b[1;33m\u001b[0m\u001b[1;33m\u001b[0m\u001b[0m\n",
      "\u001b[1;32mD:\\AnaconDA\\lib\\site-packages\\xgboost\\core.py\u001b[0m in \u001b[0;36mupdate\u001b[1;34m(self, dtrain, iteration, fobj)\u001b[0m\n\u001b[0;32m   1108\u001b[0m         \u001b[1;32mif\u001b[0m \u001b[0mfobj\u001b[0m \u001b[1;32mis\u001b[0m \u001b[1;32mNone\u001b[0m\u001b[1;33m:\u001b[0m\u001b[1;33m\u001b[0m\u001b[1;33m\u001b[0m\u001b[0m\n\u001b[0;32m   1109\u001b[0m             _check_call(_LIB.XGBoosterUpdateOneIter(self.handle, ctypes.c_int(iteration),\n\u001b[1;32m-> 1110\u001b[1;33m                                                     dtrain.handle))\n\u001b[0m\u001b[0;32m   1111\u001b[0m         \u001b[1;32melse\u001b[0m\u001b[1;33m:\u001b[0m\u001b[1;33m\u001b[0m\u001b[1;33m\u001b[0m\u001b[0m\n\u001b[0;32m   1112\u001b[0m             \u001b[0mpred\u001b[0m \u001b[1;33m=\u001b[0m \u001b[0mself\u001b[0m\u001b[1;33m.\u001b[0m\u001b[0mpredict\u001b[0m\u001b[1;33m(\u001b[0m\u001b[0mdtrain\u001b[0m\u001b[1;33m)\u001b[0m\u001b[1;33m\u001b[0m\u001b[1;33m\u001b[0m\u001b[0m\n",
      "\u001b[1;31mKeyboardInterrupt\u001b[0m: "
     ]
    }
   ],
   "source": [
    "from sklearn.model_selection import GridSearchCV\n",
    "from sklearn.metrics import mean_squared_error\n",
    "from sklearn.metrics import make_scorer\n",
    "\n",
    "def customer_rmspe_xg(yhat, y):\n",
    "    # y = y.values\n",
    "    y = np.exp(y) - 1\n",
    "    yhat = np.exp(yhat) - 1\n",
    "    w = ToWeight(y)\n",
    "    rmspe = np.sqrt(np.mean(w * (y - yhat)**2))\n",
    "    return rmspe\n",
    "\n",
    "param_test1 = {\n",
    " 'max_depth':range(10,13,1),\n",
    " #'subsample': [0.7,0.8,0.9],\n",
    " #'learning_rate': [0.08,0.1,0.11]\n",
    "}\n",
    "params_fit = {\n",
    "    'eval_metric':rmspe_xg,\n",
    "    'early_stopping_rounds':20,\n",
    "    'eval_set':eval_set\n",
    "}\n",
    "nums_round = 492\n",
    "gsearch1 = GridSearchCV(estimator = xgb.XGBRegressor(max_depth=12,learning_rate =0.1,n_jobs =4, n_estimators=nums_round,subsample=0.8,colsample_bytree=0.8,nthread=4,scale_pos_weight=1),\n",
    "                        param_grid = param_test1,cv=3,verbose=2,scoring=make_scorer(customer_rmspe_xg,greater_is_better=False),fit_params = params_fit)\n",
    "gsearch1.fit(X_train, Y_train)"
   ]
  },
  {
   "cell_type": "code",
   "execution_count": 20,
   "metadata": {},
   "outputs": [
    {
     "ename": "AttributeError",
     "evalue": "'GridSearchCV' object has no attribute 'best_params_'",
     "output_type": "error",
     "traceback": [
      "\u001b[1;31m---------------------------------------------------------------------------\u001b[0m",
      "\u001b[1;31mAttributeError\u001b[0m                            Traceback (most recent call last)",
      "\u001b[1;32m<ipython-input-20-29c5505b7922>\u001b[0m in \u001b[0;36m<module>\u001b[1;34m\u001b[0m\n\u001b[1;32m----> 1\u001b[1;33m \u001b[0mprint\u001b[0m\u001b[1;33m(\u001b[0m\u001b[0mgsearch1\u001b[0m\u001b[1;33m.\u001b[0m\u001b[0mbest_params_\u001b[0m\u001b[1;33m)\u001b[0m\u001b[1;33m\u001b[0m\u001b[1;33m\u001b[0m\u001b[0m\n\u001b[0m\u001b[0;32m      2\u001b[0m \u001b[0mprint\u001b[0m\u001b[1;33m(\u001b[0m\u001b[0mgsearch1\u001b[0m\u001b[1;33m.\u001b[0m\u001b[0mbest_score_\u001b[0m\u001b[1;33m)\u001b[0m\u001b[1;33m\u001b[0m\u001b[1;33m\u001b[0m\u001b[0m\n",
      "\u001b[1;31mAttributeError\u001b[0m: 'GridSearchCV' object has no attribute 'best_params_'"
     ]
    }
   ],
   "source": [
    "print(gsearch1.best_params_)\n",
    "print(gsearch1.best_score_)"
   ]
  },
  {
   "cell_type": "code",
   "execution_count": 21,
   "metadata": {},
   "outputs": [
    {
     "name": "stderr",
     "output_type": "stream",
     "text": [
      "D:\\AnaconDA\\lib\\site-packages\\sklearn\\model_selection\\_search.py:643: DeprecationWarning: \"fit_params\" as a constructor argument was deprecated in version 0.19 and will be removed in version 0.21. Pass fit parameters to the \"fit\" method instead.\n",
      "  '\"fit\" method instead.', DeprecationWarning)\n",
      "[Parallel(n_jobs=1)]: Using backend SequentialBackend with 1 concurrent workers.\n"
     ]
    },
    {
     "name": "stdout",
     "output_type": "stream",
     "text": [
      "Fitting 3 folds for each of 2 candidates, totalling 6 fits\n",
      "[CV] subsample=0.8 ...................................................\n"
     ]
    },
    {
     "ename": "KeyboardInterrupt",
     "evalue": "",
     "output_type": "error",
     "traceback": [
      "\u001b[1;31m---------------------------------------------------------------------------\u001b[0m",
      "\u001b[1;31mKeyboardInterrupt\u001b[0m                         Traceback (most recent call last)",
      "\u001b[1;32m<ipython-input-21-c552ebd7f805>\u001b[0m in \u001b[0;36m<module>\u001b[1;34m\u001b[0m\n\u001b[0;32m      6\u001b[0m gsearch2 = GridSearchCV(estimator = xgb.XGBRegressor(max_depth=10,learning_rate =0.1,n_jobs =4, n_estimators=nums_round,subsample=0.8,colsample_bytree=0.8,nthread=4,scale_pos_weight=1),\n\u001b[0;32m      7\u001b[0m                         param_grid = param_test2,cv=3,verbose=2,scoring=make_scorer(customer_rmspe_xg,greater_is_better=False),fit_params = params_fit)\n\u001b[1;32m----> 8\u001b[1;33m \u001b[0mgsearch2\u001b[0m\u001b[1;33m.\u001b[0m\u001b[0mfit\u001b[0m\u001b[1;33m(\u001b[0m\u001b[0mX_train\u001b[0m\u001b[1;33m,\u001b[0m \u001b[0mY_train\u001b[0m\u001b[1;33m)\u001b[0m\u001b[1;33m\u001b[0m\u001b[1;33m\u001b[0m\u001b[0m\n\u001b[0m",
      "\u001b[1;32mD:\\AnaconDA\\lib\\site-packages\\sklearn\\model_selection\\_search.py\u001b[0m in \u001b[0;36mfit\u001b[1;34m(self, X, y, groups, **fit_params)\u001b[0m\n\u001b[0;32m    720\u001b[0m                 \u001b[1;32mreturn\u001b[0m \u001b[0mresults_container\u001b[0m\u001b[1;33m[\u001b[0m\u001b[1;36m0\u001b[0m\u001b[1;33m]\u001b[0m\u001b[1;33m\u001b[0m\u001b[1;33m\u001b[0m\u001b[0m\n\u001b[0;32m    721\u001b[0m \u001b[1;33m\u001b[0m\u001b[0m\n\u001b[1;32m--> 722\u001b[1;33m             \u001b[0mself\u001b[0m\u001b[1;33m.\u001b[0m\u001b[0m_run_search\u001b[0m\u001b[1;33m(\u001b[0m\u001b[0mevaluate_candidates\u001b[0m\u001b[1;33m)\u001b[0m\u001b[1;33m\u001b[0m\u001b[1;33m\u001b[0m\u001b[0m\n\u001b[0m\u001b[0;32m    723\u001b[0m \u001b[1;33m\u001b[0m\u001b[0m\n\u001b[0;32m    724\u001b[0m         \u001b[0mresults\u001b[0m \u001b[1;33m=\u001b[0m \u001b[0mresults_container\u001b[0m\u001b[1;33m[\u001b[0m\u001b[1;36m0\u001b[0m\u001b[1;33m]\u001b[0m\u001b[1;33m\u001b[0m\u001b[1;33m\u001b[0m\u001b[0m\n",
      "\u001b[1;32mD:\\AnaconDA\\lib\\site-packages\\sklearn\\model_selection\\_search.py\u001b[0m in \u001b[0;36m_run_search\u001b[1;34m(self, evaluate_candidates)\u001b[0m\n\u001b[0;32m   1189\u001b[0m     \u001b[1;32mdef\u001b[0m \u001b[0m_run_search\u001b[0m\u001b[1;33m(\u001b[0m\u001b[0mself\u001b[0m\u001b[1;33m,\u001b[0m \u001b[0mevaluate_candidates\u001b[0m\u001b[1;33m)\u001b[0m\u001b[1;33m:\u001b[0m\u001b[1;33m\u001b[0m\u001b[1;33m\u001b[0m\u001b[0m\n\u001b[0;32m   1190\u001b[0m         \u001b[1;34m\"\"\"Search all candidates in param_grid\"\"\"\u001b[0m\u001b[1;33m\u001b[0m\u001b[1;33m\u001b[0m\u001b[0m\n\u001b[1;32m-> 1191\u001b[1;33m         \u001b[0mevaluate_candidates\u001b[0m\u001b[1;33m(\u001b[0m\u001b[0mParameterGrid\u001b[0m\u001b[1;33m(\u001b[0m\u001b[0mself\u001b[0m\u001b[1;33m.\u001b[0m\u001b[0mparam_grid\u001b[0m\u001b[1;33m)\u001b[0m\u001b[1;33m)\u001b[0m\u001b[1;33m\u001b[0m\u001b[1;33m\u001b[0m\u001b[0m\n\u001b[0m\u001b[0;32m   1192\u001b[0m \u001b[1;33m\u001b[0m\u001b[0m\n\u001b[0;32m   1193\u001b[0m \u001b[1;33m\u001b[0m\u001b[0m\n",
      "\u001b[1;32mD:\\AnaconDA\\lib\\site-packages\\sklearn\\model_selection\\_search.py\u001b[0m in \u001b[0;36mevaluate_candidates\u001b[1;34m(candidate_params)\u001b[0m\n\u001b[0;32m    709\u001b[0m                                \u001b[1;32mfor\u001b[0m \u001b[0mparameters\u001b[0m\u001b[1;33m,\u001b[0m \u001b[1;33m(\u001b[0m\u001b[0mtrain\u001b[0m\u001b[1;33m,\u001b[0m \u001b[0mtest\u001b[0m\u001b[1;33m)\u001b[0m\u001b[1;33m\u001b[0m\u001b[1;33m\u001b[0m\u001b[0m\n\u001b[0;32m    710\u001b[0m                                in product(candidate_params,\n\u001b[1;32m--> 711\u001b[1;33m                                           cv.split(X, y, groups)))\n\u001b[0m\u001b[0;32m    712\u001b[0m \u001b[1;33m\u001b[0m\u001b[0m\n\u001b[0;32m    713\u001b[0m                 \u001b[0mall_candidate_params\u001b[0m\u001b[1;33m.\u001b[0m\u001b[0mextend\u001b[0m\u001b[1;33m(\u001b[0m\u001b[0mcandidate_params\u001b[0m\u001b[1;33m)\u001b[0m\u001b[1;33m\u001b[0m\u001b[1;33m\u001b[0m\u001b[0m\n",
      "\u001b[1;32mD:\\AnaconDA\\lib\\site-packages\\sklearn\\externals\\joblib\\parallel.py\u001b[0m in \u001b[0;36m__call__\u001b[1;34m(self, iterable)\u001b[0m\n\u001b[0;32m    915\u001b[0m             \u001b[1;31m# remaining jobs.\u001b[0m\u001b[1;33m\u001b[0m\u001b[1;33m\u001b[0m\u001b[1;33m\u001b[0m\u001b[0m\n\u001b[0;32m    916\u001b[0m             \u001b[0mself\u001b[0m\u001b[1;33m.\u001b[0m\u001b[0m_iterating\u001b[0m \u001b[1;33m=\u001b[0m \u001b[1;32mFalse\u001b[0m\u001b[1;33m\u001b[0m\u001b[1;33m\u001b[0m\u001b[0m\n\u001b[1;32m--> 917\u001b[1;33m             \u001b[1;32mif\u001b[0m \u001b[0mself\u001b[0m\u001b[1;33m.\u001b[0m\u001b[0mdispatch_one_batch\u001b[0m\u001b[1;33m(\u001b[0m\u001b[0miterator\u001b[0m\u001b[1;33m)\u001b[0m\u001b[1;33m:\u001b[0m\u001b[1;33m\u001b[0m\u001b[1;33m\u001b[0m\u001b[0m\n\u001b[0m\u001b[0;32m    918\u001b[0m                 \u001b[0mself\u001b[0m\u001b[1;33m.\u001b[0m\u001b[0m_iterating\u001b[0m \u001b[1;33m=\u001b[0m \u001b[0mself\u001b[0m\u001b[1;33m.\u001b[0m\u001b[0m_original_iterator\u001b[0m \u001b[1;32mis\u001b[0m \u001b[1;32mnot\u001b[0m \u001b[1;32mNone\u001b[0m\u001b[1;33m\u001b[0m\u001b[1;33m\u001b[0m\u001b[0m\n\u001b[0;32m    919\u001b[0m \u001b[1;33m\u001b[0m\u001b[0m\n",
      "\u001b[1;32mD:\\AnaconDA\\lib\\site-packages\\sklearn\\externals\\joblib\\parallel.py\u001b[0m in \u001b[0;36mdispatch_one_batch\u001b[1;34m(self, iterator)\u001b[0m\n\u001b[0;32m    757\u001b[0m                 \u001b[1;32mreturn\u001b[0m \u001b[1;32mFalse\u001b[0m\u001b[1;33m\u001b[0m\u001b[1;33m\u001b[0m\u001b[0m\n\u001b[0;32m    758\u001b[0m             \u001b[1;32melse\u001b[0m\u001b[1;33m:\u001b[0m\u001b[1;33m\u001b[0m\u001b[1;33m\u001b[0m\u001b[0m\n\u001b[1;32m--> 759\u001b[1;33m                 \u001b[0mself\u001b[0m\u001b[1;33m.\u001b[0m\u001b[0m_dispatch\u001b[0m\u001b[1;33m(\u001b[0m\u001b[0mtasks\u001b[0m\u001b[1;33m)\u001b[0m\u001b[1;33m\u001b[0m\u001b[1;33m\u001b[0m\u001b[0m\n\u001b[0m\u001b[0;32m    760\u001b[0m                 \u001b[1;32mreturn\u001b[0m \u001b[1;32mTrue\u001b[0m\u001b[1;33m\u001b[0m\u001b[1;33m\u001b[0m\u001b[0m\n\u001b[0;32m    761\u001b[0m \u001b[1;33m\u001b[0m\u001b[0m\n",
      "\u001b[1;32mD:\\AnaconDA\\lib\\site-packages\\sklearn\\externals\\joblib\\parallel.py\u001b[0m in \u001b[0;36m_dispatch\u001b[1;34m(self, batch)\u001b[0m\n\u001b[0;32m    714\u001b[0m         \u001b[1;32mwith\u001b[0m \u001b[0mself\u001b[0m\u001b[1;33m.\u001b[0m\u001b[0m_lock\u001b[0m\u001b[1;33m:\u001b[0m\u001b[1;33m\u001b[0m\u001b[1;33m\u001b[0m\u001b[0m\n\u001b[0;32m    715\u001b[0m             \u001b[0mjob_idx\u001b[0m \u001b[1;33m=\u001b[0m \u001b[0mlen\u001b[0m\u001b[1;33m(\u001b[0m\u001b[0mself\u001b[0m\u001b[1;33m.\u001b[0m\u001b[0m_jobs\u001b[0m\u001b[1;33m)\u001b[0m\u001b[1;33m\u001b[0m\u001b[1;33m\u001b[0m\u001b[0m\n\u001b[1;32m--> 716\u001b[1;33m             \u001b[0mjob\u001b[0m \u001b[1;33m=\u001b[0m \u001b[0mself\u001b[0m\u001b[1;33m.\u001b[0m\u001b[0m_backend\u001b[0m\u001b[1;33m.\u001b[0m\u001b[0mapply_async\u001b[0m\u001b[1;33m(\u001b[0m\u001b[0mbatch\u001b[0m\u001b[1;33m,\u001b[0m \u001b[0mcallback\u001b[0m\u001b[1;33m=\u001b[0m\u001b[0mcb\u001b[0m\u001b[1;33m)\u001b[0m\u001b[1;33m\u001b[0m\u001b[1;33m\u001b[0m\u001b[0m\n\u001b[0m\u001b[0;32m    717\u001b[0m             \u001b[1;31m# A job can complete so quickly than its callback is\u001b[0m\u001b[1;33m\u001b[0m\u001b[1;33m\u001b[0m\u001b[1;33m\u001b[0m\u001b[0m\n\u001b[0;32m    718\u001b[0m             \u001b[1;31m# called before we get here, causing self._jobs to\u001b[0m\u001b[1;33m\u001b[0m\u001b[1;33m\u001b[0m\u001b[1;33m\u001b[0m\u001b[0m\n",
      "\u001b[1;32mD:\\AnaconDA\\lib\\site-packages\\sklearn\\externals\\joblib\\_parallel_backends.py\u001b[0m in \u001b[0;36mapply_async\u001b[1;34m(self, func, callback)\u001b[0m\n\u001b[0;32m    180\u001b[0m     \u001b[1;32mdef\u001b[0m \u001b[0mapply_async\u001b[0m\u001b[1;33m(\u001b[0m\u001b[0mself\u001b[0m\u001b[1;33m,\u001b[0m \u001b[0mfunc\u001b[0m\u001b[1;33m,\u001b[0m \u001b[0mcallback\u001b[0m\u001b[1;33m=\u001b[0m\u001b[1;32mNone\u001b[0m\u001b[1;33m)\u001b[0m\u001b[1;33m:\u001b[0m\u001b[1;33m\u001b[0m\u001b[1;33m\u001b[0m\u001b[0m\n\u001b[0;32m    181\u001b[0m         \u001b[1;34m\"\"\"Schedule a func to be run\"\"\"\u001b[0m\u001b[1;33m\u001b[0m\u001b[1;33m\u001b[0m\u001b[0m\n\u001b[1;32m--> 182\u001b[1;33m         \u001b[0mresult\u001b[0m \u001b[1;33m=\u001b[0m \u001b[0mImmediateResult\u001b[0m\u001b[1;33m(\u001b[0m\u001b[0mfunc\u001b[0m\u001b[1;33m)\u001b[0m\u001b[1;33m\u001b[0m\u001b[1;33m\u001b[0m\u001b[0m\n\u001b[0m\u001b[0;32m    183\u001b[0m         \u001b[1;32mif\u001b[0m \u001b[0mcallback\u001b[0m\u001b[1;33m:\u001b[0m\u001b[1;33m\u001b[0m\u001b[1;33m\u001b[0m\u001b[0m\n\u001b[0;32m    184\u001b[0m             \u001b[0mcallback\u001b[0m\u001b[1;33m(\u001b[0m\u001b[0mresult\u001b[0m\u001b[1;33m)\u001b[0m\u001b[1;33m\u001b[0m\u001b[1;33m\u001b[0m\u001b[0m\n",
      "\u001b[1;32mD:\\AnaconDA\\lib\\site-packages\\sklearn\\externals\\joblib\\_parallel_backends.py\u001b[0m in \u001b[0;36m__init__\u001b[1;34m(self, batch)\u001b[0m\n\u001b[0;32m    547\u001b[0m         \u001b[1;31m# Don't delay the application, to avoid keeping the input\u001b[0m\u001b[1;33m\u001b[0m\u001b[1;33m\u001b[0m\u001b[1;33m\u001b[0m\u001b[0m\n\u001b[0;32m    548\u001b[0m         \u001b[1;31m# arguments in memory\u001b[0m\u001b[1;33m\u001b[0m\u001b[1;33m\u001b[0m\u001b[1;33m\u001b[0m\u001b[0m\n\u001b[1;32m--> 549\u001b[1;33m         \u001b[0mself\u001b[0m\u001b[1;33m.\u001b[0m\u001b[0mresults\u001b[0m \u001b[1;33m=\u001b[0m \u001b[0mbatch\u001b[0m\u001b[1;33m(\u001b[0m\u001b[1;33m)\u001b[0m\u001b[1;33m\u001b[0m\u001b[1;33m\u001b[0m\u001b[0m\n\u001b[0m\u001b[0;32m    550\u001b[0m \u001b[1;33m\u001b[0m\u001b[0m\n\u001b[0;32m    551\u001b[0m     \u001b[1;32mdef\u001b[0m \u001b[0mget\u001b[0m\u001b[1;33m(\u001b[0m\u001b[0mself\u001b[0m\u001b[1;33m)\u001b[0m\u001b[1;33m:\u001b[0m\u001b[1;33m\u001b[0m\u001b[1;33m\u001b[0m\u001b[0m\n",
      "\u001b[1;32mD:\\AnaconDA\\lib\\site-packages\\sklearn\\externals\\joblib\\parallel.py\u001b[0m in \u001b[0;36m__call__\u001b[1;34m(self)\u001b[0m\n\u001b[0;32m    223\u001b[0m         \u001b[1;32mwith\u001b[0m \u001b[0mparallel_backend\u001b[0m\u001b[1;33m(\u001b[0m\u001b[0mself\u001b[0m\u001b[1;33m.\u001b[0m\u001b[0m_backend\u001b[0m\u001b[1;33m,\u001b[0m \u001b[0mn_jobs\u001b[0m\u001b[1;33m=\u001b[0m\u001b[0mself\u001b[0m\u001b[1;33m.\u001b[0m\u001b[0m_n_jobs\u001b[0m\u001b[1;33m)\u001b[0m\u001b[1;33m:\u001b[0m\u001b[1;33m\u001b[0m\u001b[1;33m\u001b[0m\u001b[0m\n\u001b[0;32m    224\u001b[0m             return [func(*args, **kwargs)\n\u001b[1;32m--> 225\u001b[1;33m                     for func, args, kwargs in self.items]\n\u001b[0m\u001b[0;32m    226\u001b[0m \u001b[1;33m\u001b[0m\u001b[0m\n\u001b[0;32m    227\u001b[0m     \u001b[1;32mdef\u001b[0m \u001b[0m__len__\u001b[0m\u001b[1;33m(\u001b[0m\u001b[0mself\u001b[0m\u001b[1;33m)\u001b[0m\u001b[1;33m:\u001b[0m\u001b[1;33m\u001b[0m\u001b[1;33m\u001b[0m\u001b[0m\n",
      "\u001b[1;32mD:\\AnaconDA\\lib\\site-packages\\sklearn\\externals\\joblib\\parallel.py\u001b[0m in \u001b[0;36m<listcomp>\u001b[1;34m(.0)\u001b[0m\n\u001b[0;32m    223\u001b[0m         \u001b[1;32mwith\u001b[0m \u001b[0mparallel_backend\u001b[0m\u001b[1;33m(\u001b[0m\u001b[0mself\u001b[0m\u001b[1;33m.\u001b[0m\u001b[0m_backend\u001b[0m\u001b[1;33m,\u001b[0m \u001b[0mn_jobs\u001b[0m\u001b[1;33m=\u001b[0m\u001b[0mself\u001b[0m\u001b[1;33m.\u001b[0m\u001b[0m_n_jobs\u001b[0m\u001b[1;33m)\u001b[0m\u001b[1;33m:\u001b[0m\u001b[1;33m\u001b[0m\u001b[1;33m\u001b[0m\u001b[0m\n\u001b[0;32m    224\u001b[0m             return [func(*args, **kwargs)\n\u001b[1;32m--> 225\u001b[1;33m                     for func, args, kwargs in self.items]\n\u001b[0m\u001b[0;32m    226\u001b[0m \u001b[1;33m\u001b[0m\u001b[0m\n\u001b[0;32m    227\u001b[0m     \u001b[1;32mdef\u001b[0m \u001b[0m__len__\u001b[0m\u001b[1;33m(\u001b[0m\u001b[0mself\u001b[0m\u001b[1;33m)\u001b[0m\u001b[1;33m:\u001b[0m\u001b[1;33m\u001b[0m\u001b[1;33m\u001b[0m\u001b[0m\n",
      "\u001b[1;32mD:\\AnaconDA\\lib\\site-packages\\sklearn\\model_selection\\_validation.py\u001b[0m in \u001b[0;36m_fit_and_score\u001b[1;34m(estimator, X, y, scorer, train, test, verbose, parameters, fit_params, return_train_score, return_parameters, return_n_test_samples, return_times, return_estimator, error_score)\u001b[0m\n\u001b[0;32m    526\u001b[0m             \u001b[0mestimator\u001b[0m\u001b[1;33m.\u001b[0m\u001b[0mfit\u001b[0m\u001b[1;33m(\u001b[0m\u001b[0mX_train\u001b[0m\u001b[1;33m,\u001b[0m \u001b[1;33m**\u001b[0m\u001b[0mfit_params\u001b[0m\u001b[1;33m)\u001b[0m\u001b[1;33m\u001b[0m\u001b[1;33m\u001b[0m\u001b[0m\n\u001b[0;32m    527\u001b[0m         \u001b[1;32melse\u001b[0m\u001b[1;33m:\u001b[0m\u001b[1;33m\u001b[0m\u001b[1;33m\u001b[0m\u001b[0m\n\u001b[1;32m--> 528\u001b[1;33m             \u001b[0mestimator\u001b[0m\u001b[1;33m.\u001b[0m\u001b[0mfit\u001b[0m\u001b[1;33m(\u001b[0m\u001b[0mX_train\u001b[0m\u001b[1;33m,\u001b[0m \u001b[0my_train\u001b[0m\u001b[1;33m,\u001b[0m \u001b[1;33m**\u001b[0m\u001b[0mfit_params\u001b[0m\u001b[1;33m)\u001b[0m\u001b[1;33m\u001b[0m\u001b[1;33m\u001b[0m\u001b[0m\n\u001b[0m\u001b[0;32m    529\u001b[0m \u001b[1;33m\u001b[0m\u001b[0m\n\u001b[0;32m    530\u001b[0m     \u001b[1;32mexcept\u001b[0m \u001b[0mException\u001b[0m \u001b[1;32mas\u001b[0m \u001b[0me\u001b[0m\u001b[1;33m:\u001b[0m\u001b[1;33m\u001b[0m\u001b[1;33m\u001b[0m\u001b[0m\n",
      "\u001b[1;32mD:\\AnaconDA\\lib\\site-packages\\xgboost\\sklearn.py\u001b[0m in \u001b[0;36mfit\u001b[1;34m(self, X, y, sample_weight, eval_set, eval_metric, early_stopping_rounds, verbose, xgb_model, sample_weight_eval_set, callbacks)\u001b[0m\n\u001b[0;32m    376\u001b[0m                               \u001b[0mevals_result\u001b[0m\u001b[1;33m=\u001b[0m\u001b[0mevals_result\u001b[0m\u001b[1;33m,\u001b[0m \u001b[0mobj\u001b[0m\u001b[1;33m=\u001b[0m\u001b[0mobj\u001b[0m\u001b[1;33m,\u001b[0m \u001b[0mfeval\u001b[0m\u001b[1;33m=\u001b[0m\u001b[0mfeval\u001b[0m\u001b[1;33m,\u001b[0m\u001b[1;33m\u001b[0m\u001b[1;33m\u001b[0m\u001b[0m\n\u001b[0;32m    377\u001b[0m                               \u001b[0mverbose_eval\u001b[0m\u001b[1;33m=\u001b[0m\u001b[0mverbose\u001b[0m\u001b[1;33m,\u001b[0m \u001b[0mxgb_model\u001b[0m\u001b[1;33m=\u001b[0m\u001b[0mxgb_model\u001b[0m\u001b[1;33m,\u001b[0m\u001b[1;33m\u001b[0m\u001b[1;33m\u001b[0m\u001b[0m\n\u001b[1;32m--> 378\u001b[1;33m                               callbacks=callbacks)\n\u001b[0m\u001b[0;32m    379\u001b[0m \u001b[1;33m\u001b[0m\u001b[0m\n\u001b[0;32m    380\u001b[0m         \u001b[1;32mif\u001b[0m \u001b[0mevals_result\u001b[0m\u001b[1;33m:\u001b[0m\u001b[1;33m\u001b[0m\u001b[1;33m\u001b[0m\u001b[0m\n",
      "\u001b[1;32mD:\\AnaconDA\\lib\\site-packages\\xgboost\\training.py\u001b[0m in \u001b[0;36mtrain\u001b[1;34m(params, dtrain, num_boost_round, evals, obj, feval, maximize, early_stopping_rounds, evals_result, verbose_eval, xgb_model, callbacks, learning_rates)\u001b[0m\n\u001b[0;32m    214\u001b[0m                            \u001b[0mevals\u001b[0m\u001b[1;33m=\u001b[0m\u001b[0mevals\u001b[0m\u001b[1;33m,\u001b[0m\u001b[1;33m\u001b[0m\u001b[1;33m\u001b[0m\u001b[0m\n\u001b[0;32m    215\u001b[0m                            \u001b[0mobj\u001b[0m\u001b[1;33m=\u001b[0m\u001b[0mobj\u001b[0m\u001b[1;33m,\u001b[0m \u001b[0mfeval\u001b[0m\u001b[1;33m=\u001b[0m\u001b[0mfeval\u001b[0m\u001b[1;33m,\u001b[0m\u001b[1;33m\u001b[0m\u001b[1;33m\u001b[0m\u001b[0m\n\u001b[1;32m--> 216\u001b[1;33m                            xgb_model=xgb_model, callbacks=callbacks)\n\u001b[0m\u001b[0;32m    217\u001b[0m \u001b[1;33m\u001b[0m\u001b[0m\n\u001b[0;32m    218\u001b[0m \u001b[1;33m\u001b[0m\u001b[0m\n",
      "\u001b[1;32mD:\\AnaconDA\\lib\\site-packages\\xgboost\\training.py\u001b[0m in \u001b[0;36m_train_internal\u001b[1;34m(params, dtrain, num_boost_round, evals, obj, feval, xgb_model, callbacks)\u001b[0m\n\u001b[0;32m     72\u001b[0m         \u001b[1;31m# Skip the first update if it is a recovery step.\u001b[0m\u001b[1;33m\u001b[0m\u001b[1;33m\u001b[0m\u001b[1;33m\u001b[0m\u001b[0m\n\u001b[0;32m     73\u001b[0m         \u001b[1;32mif\u001b[0m \u001b[0mversion\u001b[0m \u001b[1;33m%\u001b[0m \u001b[1;36m2\u001b[0m \u001b[1;33m==\u001b[0m \u001b[1;36m0\u001b[0m\u001b[1;33m:\u001b[0m\u001b[1;33m\u001b[0m\u001b[1;33m\u001b[0m\u001b[0m\n\u001b[1;32m---> 74\u001b[1;33m             \u001b[0mbst\u001b[0m\u001b[1;33m.\u001b[0m\u001b[0mupdate\u001b[0m\u001b[1;33m(\u001b[0m\u001b[0mdtrain\u001b[0m\u001b[1;33m,\u001b[0m \u001b[0mi\u001b[0m\u001b[1;33m,\u001b[0m \u001b[0mobj\u001b[0m\u001b[1;33m)\u001b[0m\u001b[1;33m\u001b[0m\u001b[1;33m\u001b[0m\u001b[0m\n\u001b[0m\u001b[0;32m     75\u001b[0m             \u001b[0mbst\u001b[0m\u001b[1;33m.\u001b[0m\u001b[0msave_rabit_checkpoint\u001b[0m\u001b[1;33m(\u001b[0m\u001b[1;33m)\u001b[0m\u001b[1;33m\u001b[0m\u001b[1;33m\u001b[0m\u001b[0m\n\u001b[0;32m     76\u001b[0m             \u001b[0mversion\u001b[0m \u001b[1;33m+=\u001b[0m \u001b[1;36m1\u001b[0m\u001b[1;33m\u001b[0m\u001b[1;33m\u001b[0m\u001b[0m\n",
      "\u001b[1;32mD:\\AnaconDA\\lib\\site-packages\\xgboost\\core.py\u001b[0m in \u001b[0;36mupdate\u001b[1;34m(self, dtrain, iteration, fobj)\u001b[0m\n\u001b[0;32m   1108\u001b[0m         \u001b[1;32mif\u001b[0m \u001b[0mfobj\u001b[0m \u001b[1;32mis\u001b[0m \u001b[1;32mNone\u001b[0m\u001b[1;33m:\u001b[0m\u001b[1;33m\u001b[0m\u001b[1;33m\u001b[0m\u001b[0m\n\u001b[0;32m   1109\u001b[0m             _check_call(_LIB.XGBoosterUpdateOneIter(self.handle, ctypes.c_int(iteration),\n\u001b[1;32m-> 1110\u001b[1;33m                                                     dtrain.handle))\n\u001b[0m\u001b[0;32m   1111\u001b[0m         \u001b[1;32melse\u001b[0m\u001b[1;33m:\u001b[0m\u001b[1;33m\u001b[0m\u001b[1;33m\u001b[0m\u001b[0m\n\u001b[0;32m   1112\u001b[0m             \u001b[0mpred\u001b[0m \u001b[1;33m=\u001b[0m \u001b[0mself\u001b[0m\u001b[1;33m.\u001b[0m\u001b[0mpredict\u001b[0m\u001b[1;33m(\u001b[0m\u001b[0mdtrain\u001b[0m\u001b[1;33m)\u001b[0m\u001b[1;33m\u001b[0m\u001b[1;33m\u001b[0m\u001b[0m\n",
      "\u001b[1;31mKeyboardInterrupt\u001b[0m: "
     ]
    }
   ],
   "source": [
    "param_test2 = {\n",
    " 'subsample': [0.8,0.9],\n",
    "}\n",
    "\n",
    "nums_round = 492\n",
    "gsearch2 = GridSearchCV(estimator = xgb.XGBRegressor(max_depth=10,learning_rate =0.1,n_jobs =4, n_estimators=nums_round,subsample=0.8,colsample_bytree=0.8,nthread=4,scale_pos_weight=1),\n",
    "                        param_grid = param_test2,cv=3,verbose=2,scoring=make_scorer(customer_rmspe_xg,greater_is_better=False),fit_params = params_fit)\n",
    "gsearch2.fit(X_train, Y_train)"
   ]
  },
  {
   "cell_type": "code",
   "execution_count": 22,
   "metadata": {},
   "outputs": [
    {
     "ename": "AttributeError",
     "evalue": "'GridSearchCV' object has no attribute 'best_params_'",
     "output_type": "error",
     "traceback": [
      "\u001b[1;31m---------------------------------------------------------------------------\u001b[0m",
      "\u001b[1;31mAttributeError\u001b[0m                            Traceback (most recent call last)",
      "\u001b[1;32m<ipython-input-22-83c12edb68a9>\u001b[0m in \u001b[0;36m<module>\u001b[1;34m\u001b[0m\n\u001b[1;32m----> 1\u001b[1;33m \u001b[0mprint\u001b[0m\u001b[1;33m(\u001b[0m\u001b[0mgsearch2\u001b[0m\u001b[1;33m.\u001b[0m\u001b[0mbest_params_\u001b[0m\u001b[1;33m)\u001b[0m\u001b[1;33m\u001b[0m\u001b[1;33m\u001b[0m\u001b[0m\n\u001b[0m\u001b[0;32m      2\u001b[0m \u001b[0mprint\u001b[0m\u001b[1;33m(\u001b[0m\u001b[0mgsearch2\u001b[0m\u001b[1;33m.\u001b[0m\u001b[0mbest_estimator_\u001b[0m\u001b[1;33m)\u001b[0m\u001b[1;33m\u001b[0m\u001b[1;33m\u001b[0m\u001b[0m\n\u001b[0;32m      3\u001b[0m \u001b[0mbest_model\u001b[0m \u001b[1;33m=\u001b[0m \u001b[0mgsearch2\u001b[0m\u001b[1;33m.\u001b[0m\u001b[0mbest_estimator_\u001b[0m\u001b[1;33m\u001b[0m\u001b[1;33m\u001b[0m\u001b[0m\n\u001b[0;32m      4\u001b[0m \u001b[1;32mfrom\u001b[0m \u001b[0msklearn\u001b[0m\u001b[1;33m.\u001b[0m\u001b[0mexternals\u001b[0m \u001b[1;32mimport\u001b[0m \u001b[0mjoblib\u001b[0m\u001b[1;33m\u001b[0m\u001b[1;33m\u001b[0m\u001b[0m\n\u001b[0;32m      5\u001b[0m \u001b[0mjoblib\u001b[0m\u001b[1;33m.\u001b[0m\u001b[0mdump\u001b[0m\u001b[1;33m(\u001b[0m\u001b[0mbest_model\u001b[0m\u001b[1;33m,\u001b[0m \u001b[1;34m\"current_model.m\"\u001b[0m\u001b[1;33m)\u001b[0m\u001b[1;33m\u001b[0m\u001b[1;33m\u001b[0m\u001b[0m\n",
      "\u001b[1;31mAttributeError\u001b[0m: 'GridSearchCV' object has no attribute 'best_params_'"
     ]
    }
   ],
   "source": [
    "print(gsearch2.best_params_)\n",
    "print(gsearch2.best_estimator_)\n",
    "best_model = gsearch2.best_estimator_\n",
    "from sklearn.externals import joblib\n",
    "joblib.dump(best_model, \"current_model.m\")"
   ]
  },
  {
   "cell_type": "code",
   "execution_count": 23,
   "metadata": {},
   "outputs": [
    {
     "name": "stderr",
     "output_type": "stream",
     "text": [
      "D:\\AnaconDA\\lib\\site-packages\\sklearn\\model_selection\\_search.py:643: DeprecationWarning: \"fit_params\" as a constructor argument was deprecated in version 0.19 and will be removed in version 0.21. Pass fit parameters to the \"fit\" method instead.\n",
      "  '\"fit\" method instead.', DeprecationWarning)\n",
      "D:\\AnaconDA\\lib\\site-packages\\sklearn\\model_selection\\_split.py:2053: FutureWarning: You should specify a value for 'cv' instead of relying on the default value. The default value will change from 3 to 5 in version 0.22.\n",
      "  warnings.warn(CV_WARNING, FutureWarning)\n",
      "[Parallel(n_jobs=1)]: Using backend SequentialBackend with 1 concurrent workers.\n"
     ]
    },
    {
     "name": "stdout",
     "output_type": "stream",
     "text": [
      "Fitting 3 folds for each of 8 candidates, totalling 24 fits\n",
      "[CV] eta=0.08 ........................................................\n"
     ]
    },
    {
     "ename": "KeyboardInterrupt",
     "evalue": "",
     "output_type": "error",
     "traceback": [
      "\u001b[1;31m---------------------------------------------------------------------------\u001b[0m",
      "\u001b[1;31mKeyboardInterrupt\u001b[0m                         Traceback (most recent call last)",
      "\u001b[1;32m<ipython-input-23-8f8e009ab1b6>\u001b[0m in \u001b[0;36m<module>\u001b[1;34m\u001b[0m\n\u001b[0;32m      6\u001b[0m gsearch3 = GridSearchCV(estimator = xgb.XGBRegressor(max_depth=10,learning_rate =0.1,n_jobs =4, n_estimators=nums_round,subsample=0.8,colsample_bytree=0.8,nthread=4,scale_pos_weight=1),\n\u001b[0;32m      7\u001b[0m                         param_grid = param_test3,verbose=2,scoring=make_scorer(customer_rmspe_xg,greater_is_better=False),fit_params = params_fit)\n\u001b[1;32m----> 8\u001b[1;33m \u001b[0mgsearch3\u001b[0m\u001b[1;33m.\u001b[0m\u001b[0mfit\u001b[0m\u001b[1;33m(\u001b[0m\u001b[0mX_train\u001b[0m\u001b[1;33m,\u001b[0m \u001b[0mY_train\u001b[0m\u001b[1;33m)\u001b[0m\u001b[1;33m\u001b[0m\u001b[1;33m\u001b[0m\u001b[0m\n\u001b[0m",
      "\u001b[1;32mD:\\AnaconDA\\lib\\site-packages\\sklearn\\model_selection\\_search.py\u001b[0m in \u001b[0;36mfit\u001b[1;34m(self, X, y, groups, **fit_params)\u001b[0m\n\u001b[0;32m    720\u001b[0m                 \u001b[1;32mreturn\u001b[0m \u001b[0mresults_container\u001b[0m\u001b[1;33m[\u001b[0m\u001b[1;36m0\u001b[0m\u001b[1;33m]\u001b[0m\u001b[1;33m\u001b[0m\u001b[1;33m\u001b[0m\u001b[0m\n\u001b[0;32m    721\u001b[0m \u001b[1;33m\u001b[0m\u001b[0m\n\u001b[1;32m--> 722\u001b[1;33m             \u001b[0mself\u001b[0m\u001b[1;33m.\u001b[0m\u001b[0m_run_search\u001b[0m\u001b[1;33m(\u001b[0m\u001b[0mevaluate_candidates\u001b[0m\u001b[1;33m)\u001b[0m\u001b[1;33m\u001b[0m\u001b[1;33m\u001b[0m\u001b[0m\n\u001b[0m\u001b[0;32m    723\u001b[0m \u001b[1;33m\u001b[0m\u001b[0m\n\u001b[0;32m    724\u001b[0m         \u001b[0mresults\u001b[0m \u001b[1;33m=\u001b[0m \u001b[0mresults_container\u001b[0m\u001b[1;33m[\u001b[0m\u001b[1;36m0\u001b[0m\u001b[1;33m]\u001b[0m\u001b[1;33m\u001b[0m\u001b[1;33m\u001b[0m\u001b[0m\n",
      "\u001b[1;32mD:\\AnaconDA\\lib\\site-packages\\sklearn\\model_selection\\_search.py\u001b[0m in \u001b[0;36m_run_search\u001b[1;34m(self, evaluate_candidates)\u001b[0m\n\u001b[0;32m   1189\u001b[0m     \u001b[1;32mdef\u001b[0m \u001b[0m_run_search\u001b[0m\u001b[1;33m(\u001b[0m\u001b[0mself\u001b[0m\u001b[1;33m,\u001b[0m \u001b[0mevaluate_candidates\u001b[0m\u001b[1;33m)\u001b[0m\u001b[1;33m:\u001b[0m\u001b[1;33m\u001b[0m\u001b[1;33m\u001b[0m\u001b[0m\n\u001b[0;32m   1190\u001b[0m         \u001b[1;34m\"\"\"Search all candidates in param_grid\"\"\"\u001b[0m\u001b[1;33m\u001b[0m\u001b[1;33m\u001b[0m\u001b[0m\n\u001b[1;32m-> 1191\u001b[1;33m         \u001b[0mevaluate_candidates\u001b[0m\u001b[1;33m(\u001b[0m\u001b[0mParameterGrid\u001b[0m\u001b[1;33m(\u001b[0m\u001b[0mself\u001b[0m\u001b[1;33m.\u001b[0m\u001b[0mparam_grid\u001b[0m\u001b[1;33m)\u001b[0m\u001b[1;33m)\u001b[0m\u001b[1;33m\u001b[0m\u001b[1;33m\u001b[0m\u001b[0m\n\u001b[0m\u001b[0;32m   1192\u001b[0m \u001b[1;33m\u001b[0m\u001b[0m\n\u001b[0;32m   1193\u001b[0m \u001b[1;33m\u001b[0m\u001b[0m\n",
      "\u001b[1;32mD:\\AnaconDA\\lib\\site-packages\\sklearn\\model_selection\\_search.py\u001b[0m in \u001b[0;36mevaluate_candidates\u001b[1;34m(candidate_params)\u001b[0m\n\u001b[0;32m    709\u001b[0m                                \u001b[1;32mfor\u001b[0m \u001b[0mparameters\u001b[0m\u001b[1;33m,\u001b[0m \u001b[1;33m(\u001b[0m\u001b[0mtrain\u001b[0m\u001b[1;33m,\u001b[0m \u001b[0mtest\u001b[0m\u001b[1;33m)\u001b[0m\u001b[1;33m\u001b[0m\u001b[1;33m\u001b[0m\u001b[0m\n\u001b[0;32m    710\u001b[0m                                in product(candidate_params,\n\u001b[1;32m--> 711\u001b[1;33m                                           cv.split(X, y, groups)))\n\u001b[0m\u001b[0;32m    712\u001b[0m \u001b[1;33m\u001b[0m\u001b[0m\n\u001b[0;32m    713\u001b[0m                 \u001b[0mall_candidate_params\u001b[0m\u001b[1;33m.\u001b[0m\u001b[0mextend\u001b[0m\u001b[1;33m(\u001b[0m\u001b[0mcandidate_params\u001b[0m\u001b[1;33m)\u001b[0m\u001b[1;33m\u001b[0m\u001b[1;33m\u001b[0m\u001b[0m\n",
      "\u001b[1;32mD:\\AnaconDA\\lib\\site-packages\\sklearn\\externals\\joblib\\parallel.py\u001b[0m in \u001b[0;36m__call__\u001b[1;34m(self, iterable)\u001b[0m\n\u001b[0;32m    915\u001b[0m             \u001b[1;31m# remaining jobs.\u001b[0m\u001b[1;33m\u001b[0m\u001b[1;33m\u001b[0m\u001b[1;33m\u001b[0m\u001b[0m\n\u001b[0;32m    916\u001b[0m             \u001b[0mself\u001b[0m\u001b[1;33m.\u001b[0m\u001b[0m_iterating\u001b[0m \u001b[1;33m=\u001b[0m \u001b[1;32mFalse\u001b[0m\u001b[1;33m\u001b[0m\u001b[1;33m\u001b[0m\u001b[0m\n\u001b[1;32m--> 917\u001b[1;33m             \u001b[1;32mif\u001b[0m \u001b[0mself\u001b[0m\u001b[1;33m.\u001b[0m\u001b[0mdispatch_one_batch\u001b[0m\u001b[1;33m(\u001b[0m\u001b[0miterator\u001b[0m\u001b[1;33m)\u001b[0m\u001b[1;33m:\u001b[0m\u001b[1;33m\u001b[0m\u001b[1;33m\u001b[0m\u001b[0m\n\u001b[0m\u001b[0;32m    918\u001b[0m                 \u001b[0mself\u001b[0m\u001b[1;33m.\u001b[0m\u001b[0m_iterating\u001b[0m \u001b[1;33m=\u001b[0m \u001b[0mself\u001b[0m\u001b[1;33m.\u001b[0m\u001b[0m_original_iterator\u001b[0m \u001b[1;32mis\u001b[0m \u001b[1;32mnot\u001b[0m \u001b[1;32mNone\u001b[0m\u001b[1;33m\u001b[0m\u001b[1;33m\u001b[0m\u001b[0m\n\u001b[0;32m    919\u001b[0m \u001b[1;33m\u001b[0m\u001b[0m\n",
      "\u001b[1;32mD:\\AnaconDA\\lib\\site-packages\\sklearn\\externals\\joblib\\parallel.py\u001b[0m in \u001b[0;36mdispatch_one_batch\u001b[1;34m(self, iterator)\u001b[0m\n\u001b[0;32m    757\u001b[0m                 \u001b[1;32mreturn\u001b[0m \u001b[1;32mFalse\u001b[0m\u001b[1;33m\u001b[0m\u001b[1;33m\u001b[0m\u001b[0m\n\u001b[0;32m    758\u001b[0m             \u001b[1;32melse\u001b[0m\u001b[1;33m:\u001b[0m\u001b[1;33m\u001b[0m\u001b[1;33m\u001b[0m\u001b[0m\n\u001b[1;32m--> 759\u001b[1;33m                 \u001b[0mself\u001b[0m\u001b[1;33m.\u001b[0m\u001b[0m_dispatch\u001b[0m\u001b[1;33m(\u001b[0m\u001b[0mtasks\u001b[0m\u001b[1;33m)\u001b[0m\u001b[1;33m\u001b[0m\u001b[1;33m\u001b[0m\u001b[0m\n\u001b[0m\u001b[0;32m    760\u001b[0m                 \u001b[1;32mreturn\u001b[0m \u001b[1;32mTrue\u001b[0m\u001b[1;33m\u001b[0m\u001b[1;33m\u001b[0m\u001b[0m\n\u001b[0;32m    761\u001b[0m \u001b[1;33m\u001b[0m\u001b[0m\n",
      "\u001b[1;32mD:\\AnaconDA\\lib\\site-packages\\sklearn\\externals\\joblib\\parallel.py\u001b[0m in \u001b[0;36m_dispatch\u001b[1;34m(self, batch)\u001b[0m\n\u001b[0;32m    714\u001b[0m         \u001b[1;32mwith\u001b[0m \u001b[0mself\u001b[0m\u001b[1;33m.\u001b[0m\u001b[0m_lock\u001b[0m\u001b[1;33m:\u001b[0m\u001b[1;33m\u001b[0m\u001b[1;33m\u001b[0m\u001b[0m\n\u001b[0;32m    715\u001b[0m             \u001b[0mjob_idx\u001b[0m \u001b[1;33m=\u001b[0m \u001b[0mlen\u001b[0m\u001b[1;33m(\u001b[0m\u001b[0mself\u001b[0m\u001b[1;33m.\u001b[0m\u001b[0m_jobs\u001b[0m\u001b[1;33m)\u001b[0m\u001b[1;33m\u001b[0m\u001b[1;33m\u001b[0m\u001b[0m\n\u001b[1;32m--> 716\u001b[1;33m             \u001b[0mjob\u001b[0m \u001b[1;33m=\u001b[0m \u001b[0mself\u001b[0m\u001b[1;33m.\u001b[0m\u001b[0m_backend\u001b[0m\u001b[1;33m.\u001b[0m\u001b[0mapply_async\u001b[0m\u001b[1;33m(\u001b[0m\u001b[0mbatch\u001b[0m\u001b[1;33m,\u001b[0m \u001b[0mcallback\u001b[0m\u001b[1;33m=\u001b[0m\u001b[0mcb\u001b[0m\u001b[1;33m)\u001b[0m\u001b[1;33m\u001b[0m\u001b[1;33m\u001b[0m\u001b[0m\n\u001b[0m\u001b[0;32m    717\u001b[0m             \u001b[1;31m# A job can complete so quickly than its callback is\u001b[0m\u001b[1;33m\u001b[0m\u001b[1;33m\u001b[0m\u001b[1;33m\u001b[0m\u001b[0m\n\u001b[0;32m    718\u001b[0m             \u001b[1;31m# called before we get here, causing self._jobs to\u001b[0m\u001b[1;33m\u001b[0m\u001b[1;33m\u001b[0m\u001b[1;33m\u001b[0m\u001b[0m\n",
      "\u001b[1;32mD:\\AnaconDA\\lib\\site-packages\\sklearn\\externals\\joblib\\_parallel_backends.py\u001b[0m in \u001b[0;36mapply_async\u001b[1;34m(self, func, callback)\u001b[0m\n\u001b[0;32m    180\u001b[0m     \u001b[1;32mdef\u001b[0m \u001b[0mapply_async\u001b[0m\u001b[1;33m(\u001b[0m\u001b[0mself\u001b[0m\u001b[1;33m,\u001b[0m \u001b[0mfunc\u001b[0m\u001b[1;33m,\u001b[0m \u001b[0mcallback\u001b[0m\u001b[1;33m=\u001b[0m\u001b[1;32mNone\u001b[0m\u001b[1;33m)\u001b[0m\u001b[1;33m:\u001b[0m\u001b[1;33m\u001b[0m\u001b[1;33m\u001b[0m\u001b[0m\n\u001b[0;32m    181\u001b[0m         \u001b[1;34m\"\"\"Schedule a func to be run\"\"\"\u001b[0m\u001b[1;33m\u001b[0m\u001b[1;33m\u001b[0m\u001b[0m\n\u001b[1;32m--> 182\u001b[1;33m         \u001b[0mresult\u001b[0m \u001b[1;33m=\u001b[0m \u001b[0mImmediateResult\u001b[0m\u001b[1;33m(\u001b[0m\u001b[0mfunc\u001b[0m\u001b[1;33m)\u001b[0m\u001b[1;33m\u001b[0m\u001b[1;33m\u001b[0m\u001b[0m\n\u001b[0m\u001b[0;32m    183\u001b[0m         \u001b[1;32mif\u001b[0m \u001b[0mcallback\u001b[0m\u001b[1;33m:\u001b[0m\u001b[1;33m\u001b[0m\u001b[1;33m\u001b[0m\u001b[0m\n\u001b[0;32m    184\u001b[0m             \u001b[0mcallback\u001b[0m\u001b[1;33m(\u001b[0m\u001b[0mresult\u001b[0m\u001b[1;33m)\u001b[0m\u001b[1;33m\u001b[0m\u001b[1;33m\u001b[0m\u001b[0m\n",
      "\u001b[1;32mD:\\AnaconDA\\lib\\site-packages\\sklearn\\externals\\joblib\\_parallel_backends.py\u001b[0m in \u001b[0;36m__init__\u001b[1;34m(self, batch)\u001b[0m\n\u001b[0;32m    547\u001b[0m         \u001b[1;31m# Don't delay the application, to avoid keeping the input\u001b[0m\u001b[1;33m\u001b[0m\u001b[1;33m\u001b[0m\u001b[1;33m\u001b[0m\u001b[0m\n\u001b[0;32m    548\u001b[0m         \u001b[1;31m# arguments in memory\u001b[0m\u001b[1;33m\u001b[0m\u001b[1;33m\u001b[0m\u001b[1;33m\u001b[0m\u001b[0m\n\u001b[1;32m--> 549\u001b[1;33m         \u001b[0mself\u001b[0m\u001b[1;33m.\u001b[0m\u001b[0mresults\u001b[0m \u001b[1;33m=\u001b[0m \u001b[0mbatch\u001b[0m\u001b[1;33m(\u001b[0m\u001b[1;33m)\u001b[0m\u001b[1;33m\u001b[0m\u001b[1;33m\u001b[0m\u001b[0m\n\u001b[0m\u001b[0;32m    550\u001b[0m \u001b[1;33m\u001b[0m\u001b[0m\n\u001b[0;32m    551\u001b[0m     \u001b[1;32mdef\u001b[0m \u001b[0mget\u001b[0m\u001b[1;33m(\u001b[0m\u001b[0mself\u001b[0m\u001b[1;33m)\u001b[0m\u001b[1;33m:\u001b[0m\u001b[1;33m\u001b[0m\u001b[1;33m\u001b[0m\u001b[0m\n",
      "\u001b[1;32mD:\\AnaconDA\\lib\\site-packages\\sklearn\\externals\\joblib\\parallel.py\u001b[0m in \u001b[0;36m__call__\u001b[1;34m(self)\u001b[0m\n\u001b[0;32m    223\u001b[0m         \u001b[1;32mwith\u001b[0m \u001b[0mparallel_backend\u001b[0m\u001b[1;33m(\u001b[0m\u001b[0mself\u001b[0m\u001b[1;33m.\u001b[0m\u001b[0m_backend\u001b[0m\u001b[1;33m,\u001b[0m \u001b[0mn_jobs\u001b[0m\u001b[1;33m=\u001b[0m\u001b[0mself\u001b[0m\u001b[1;33m.\u001b[0m\u001b[0m_n_jobs\u001b[0m\u001b[1;33m)\u001b[0m\u001b[1;33m:\u001b[0m\u001b[1;33m\u001b[0m\u001b[1;33m\u001b[0m\u001b[0m\n\u001b[0;32m    224\u001b[0m             return [func(*args, **kwargs)\n\u001b[1;32m--> 225\u001b[1;33m                     for func, args, kwargs in self.items]\n\u001b[0m\u001b[0;32m    226\u001b[0m \u001b[1;33m\u001b[0m\u001b[0m\n\u001b[0;32m    227\u001b[0m     \u001b[1;32mdef\u001b[0m \u001b[0m__len__\u001b[0m\u001b[1;33m(\u001b[0m\u001b[0mself\u001b[0m\u001b[1;33m)\u001b[0m\u001b[1;33m:\u001b[0m\u001b[1;33m\u001b[0m\u001b[1;33m\u001b[0m\u001b[0m\n",
      "\u001b[1;32mD:\\AnaconDA\\lib\\site-packages\\sklearn\\externals\\joblib\\parallel.py\u001b[0m in \u001b[0;36m<listcomp>\u001b[1;34m(.0)\u001b[0m\n\u001b[0;32m    223\u001b[0m         \u001b[1;32mwith\u001b[0m \u001b[0mparallel_backend\u001b[0m\u001b[1;33m(\u001b[0m\u001b[0mself\u001b[0m\u001b[1;33m.\u001b[0m\u001b[0m_backend\u001b[0m\u001b[1;33m,\u001b[0m \u001b[0mn_jobs\u001b[0m\u001b[1;33m=\u001b[0m\u001b[0mself\u001b[0m\u001b[1;33m.\u001b[0m\u001b[0m_n_jobs\u001b[0m\u001b[1;33m)\u001b[0m\u001b[1;33m:\u001b[0m\u001b[1;33m\u001b[0m\u001b[1;33m\u001b[0m\u001b[0m\n\u001b[0;32m    224\u001b[0m             return [func(*args, **kwargs)\n\u001b[1;32m--> 225\u001b[1;33m                     for func, args, kwargs in self.items]\n\u001b[0m\u001b[0;32m    226\u001b[0m \u001b[1;33m\u001b[0m\u001b[0m\n\u001b[0;32m    227\u001b[0m     \u001b[1;32mdef\u001b[0m \u001b[0m__len__\u001b[0m\u001b[1;33m(\u001b[0m\u001b[0mself\u001b[0m\u001b[1;33m)\u001b[0m\u001b[1;33m:\u001b[0m\u001b[1;33m\u001b[0m\u001b[1;33m\u001b[0m\u001b[0m\n",
      "\u001b[1;32mD:\\AnaconDA\\lib\\site-packages\\sklearn\\model_selection\\_validation.py\u001b[0m in \u001b[0;36m_fit_and_score\u001b[1;34m(estimator, X, y, scorer, train, test, verbose, parameters, fit_params, return_train_score, return_parameters, return_n_test_samples, return_times, return_estimator, error_score)\u001b[0m\n\u001b[0;32m    526\u001b[0m             \u001b[0mestimator\u001b[0m\u001b[1;33m.\u001b[0m\u001b[0mfit\u001b[0m\u001b[1;33m(\u001b[0m\u001b[0mX_train\u001b[0m\u001b[1;33m,\u001b[0m \u001b[1;33m**\u001b[0m\u001b[0mfit_params\u001b[0m\u001b[1;33m)\u001b[0m\u001b[1;33m\u001b[0m\u001b[1;33m\u001b[0m\u001b[0m\n\u001b[0;32m    527\u001b[0m         \u001b[1;32melse\u001b[0m\u001b[1;33m:\u001b[0m\u001b[1;33m\u001b[0m\u001b[1;33m\u001b[0m\u001b[0m\n\u001b[1;32m--> 528\u001b[1;33m             \u001b[0mestimator\u001b[0m\u001b[1;33m.\u001b[0m\u001b[0mfit\u001b[0m\u001b[1;33m(\u001b[0m\u001b[0mX_train\u001b[0m\u001b[1;33m,\u001b[0m \u001b[0my_train\u001b[0m\u001b[1;33m,\u001b[0m \u001b[1;33m**\u001b[0m\u001b[0mfit_params\u001b[0m\u001b[1;33m)\u001b[0m\u001b[1;33m\u001b[0m\u001b[1;33m\u001b[0m\u001b[0m\n\u001b[0m\u001b[0;32m    529\u001b[0m \u001b[1;33m\u001b[0m\u001b[0m\n\u001b[0;32m    530\u001b[0m     \u001b[1;32mexcept\u001b[0m \u001b[0mException\u001b[0m \u001b[1;32mas\u001b[0m \u001b[0me\u001b[0m\u001b[1;33m:\u001b[0m\u001b[1;33m\u001b[0m\u001b[1;33m\u001b[0m\u001b[0m\n",
      "\u001b[1;32mD:\\AnaconDA\\lib\\site-packages\\xgboost\\sklearn.py\u001b[0m in \u001b[0;36mfit\u001b[1;34m(self, X, y, sample_weight, eval_set, eval_metric, early_stopping_rounds, verbose, xgb_model, sample_weight_eval_set, callbacks)\u001b[0m\n\u001b[0;32m    376\u001b[0m                               \u001b[0mevals_result\u001b[0m\u001b[1;33m=\u001b[0m\u001b[0mevals_result\u001b[0m\u001b[1;33m,\u001b[0m \u001b[0mobj\u001b[0m\u001b[1;33m=\u001b[0m\u001b[0mobj\u001b[0m\u001b[1;33m,\u001b[0m \u001b[0mfeval\u001b[0m\u001b[1;33m=\u001b[0m\u001b[0mfeval\u001b[0m\u001b[1;33m,\u001b[0m\u001b[1;33m\u001b[0m\u001b[1;33m\u001b[0m\u001b[0m\n\u001b[0;32m    377\u001b[0m                               \u001b[0mverbose_eval\u001b[0m\u001b[1;33m=\u001b[0m\u001b[0mverbose\u001b[0m\u001b[1;33m,\u001b[0m \u001b[0mxgb_model\u001b[0m\u001b[1;33m=\u001b[0m\u001b[0mxgb_model\u001b[0m\u001b[1;33m,\u001b[0m\u001b[1;33m\u001b[0m\u001b[1;33m\u001b[0m\u001b[0m\n\u001b[1;32m--> 378\u001b[1;33m                               callbacks=callbacks)\n\u001b[0m\u001b[0;32m    379\u001b[0m \u001b[1;33m\u001b[0m\u001b[0m\n\u001b[0;32m    380\u001b[0m         \u001b[1;32mif\u001b[0m \u001b[0mevals_result\u001b[0m\u001b[1;33m:\u001b[0m\u001b[1;33m\u001b[0m\u001b[1;33m\u001b[0m\u001b[0m\n",
      "\u001b[1;32mD:\\AnaconDA\\lib\\site-packages\\xgboost\\training.py\u001b[0m in \u001b[0;36mtrain\u001b[1;34m(params, dtrain, num_boost_round, evals, obj, feval, maximize, early_stopping_rounds, evals_result, verbose_eval, xgb_model, callbacks, learning_rates)\u001b[0m\n\u001b[0;32m    214\u001b[0m                            \u001b[0mevals\u001b[0m\u001b[1;33m=\u001b[0m\u001b[0mevals\u001b[0m\u001b[1;33m,\u001b[0m\u001b[1;33m\u001b[0m\u001b[1;33m\u001b[0m\u001b[0m\n\u001b[0;32m    215\u001b[0m                            \u001b[0mobj\u001b[0m\u001b[1;33m=\u001b[0m\u001b[0mobj\u001b[0m\u001b[1;33m,\u001b[0m \u001b[0mfeval\u001b[0m\u001b[1;33m=\u001b[0m\u001b[0mfeval\u001b[0m\u001b[1;33m,\u001b[0m\u001b[1;33m\u001b[0m\u001b[1;33m\u001b[0m\u001b[0m\n\u001b[1;32m--> 216\u001b[1;33m                            xgb_model=xgb_model, callbacks=callbacks)\n\u001b[0m\u001b[0;32m    217\u001b[0m \u001b[1;33m\u001b[0m\u001b[0m\n\u001b[0;32m    218\u001b[0m \u001b[1;33m\u001b[0m\u001b[0m\n",
      "\u001b[1;32mD:\\AnaconDA\\lib\\site-packages\\xgboost\\training.py\u001b[0m in \u001b[0;36m_train_internal\u001b[1;34m(params, dtrain, num_boost_round, evals, obj, feval, xgb_model, callbacks)\u001b[0m\n\u001b[0;32m     72\u001b[0m         \u001b[1;31m# Skip the first update if it is a recovery step.\u001b[0m\u001b[1;33m\u001b[0m\u001b[1;33m\u001b[0m\u001b[1;33m\u001b[0m\u001b[0m\n\u001b[0;32m     73\u001b[0m         \u001b[1;32mif\u001b[0m \u001b[0mversion\u001b[0m \u001b[1;33m%\u001b[0m \u001b[1;36m2\u001b[0m \u001b[1;33m==\u001b[0m \u001b[1;36m0\u001b[0m\u001b[1;33m:\u001b[0m\u001b[1;33m\u001b[0m\u001b[1;33m\u001b[0m\u001b[0m\n\u001b[1;32m---> 74\u001b[1;33m             \u001b[0mbst\u001b[0m\u001b[1;33m.\u001b[0m\u001b[0mupdate\u001b[0m\u001b[1;33m(\u001b[0m\u001b[0mdtrain\u001b[0m\u001b[1;33m,\u001b[0m \u001b[0mi\u001b[0m\u001b[1;33m,\u001b[0m \u001b[0mobj\u001b[0m\u001b[1;33m)\u001b[0m\u001b[1;33m\u001b[0m\u001b[1;33m\u001b[0m\u001b[0m\n\u001b[0m\u001b[0;32m     75\u001b[0m             \u001b[0mbst\u001b[0m\u001b[1;33m.\u001b[0m\u001b[0msave_rabit_checkpoint\u001b[0m\u001b[1;33m(\u001b[0m\u001b[1;33m)\u001b[0m\u001b[1;33m\u001b[0m\u001b[1;33m\u001b[0m\u001b[0m\n\u001b[0;32m     76\u001b[0m             \u001b[0mversion\u001b[0m \u001b[1;33m+=\u001b[0m \u001b[1;36m1\u001b[0m\u001b[1;33m\u001b[0m\u001b[1;33m\u001b[0m\u001b[0m\n",
      "\u001b[1;32mD:\\AnaconDA\\lib\\site-packages\\xgboost\\core.py\u001b[0m in \u001b[0;36mupdate\u001b[1;34m(self, dtrain, iteration, fobj)\u001b[0m\n\u001b[0;32m   1108\u001b[0m         \u001b[1;32mif\u001b[0m \u001b[0mfobj\u001b[0m \u001b[1;32mis\u001b[0m \u001b[1;32mNone\u001b[0m\u001b[1;33m:\u001b[0m\u001b[1;33m\u001b[0m\u001b[1;33m\u001b[0m\u001b[0m\n\u001b[0;32m   1109\u001b[0m             _check_call(_LIB.XGBoosterUpdateOneIter(self.handle, ctypes.c_int(iteration),\n\u001b[1;32m-> 1110\u001b[1;33m                                                     dtrain.handle))\n\u001b[0m\u001b[0;32m   1111\u001b[0m         \u001b[1;32melse\u001b[0m\u001b[1;33m:\u001b[0m\u001b[1;33m\u001b[0m\u001b[1;33m\u001b[0m\u001b[0m\n\u001b[0;32m   1112\u001b[0m             \u001b[0mpred\u001b[0m \u001b[1;33m=\u001b[0m \u001b[0mself\u001b[0m\u001b[1;33m.\u001b[0m\u001b[0mpredict\u001b[0m\u001b[1;33m(\u001b[0m\u001b[0mdtrain\u001b[0m\u001b[1;33m)\u001b[0m\u001b[1;33m\u001b[0m\u001b[1;33m\u001b[0m\u001b[0m\n",
      "\u001b[1;31mKeyboardInterrupt\u001b[0m: "
     ]
    }
   ],
   "source": [
    "param_test3 = {\n",
    " 'eta': [0.08,0.1,0,12,0,15,0,2],\n",
    "}\n",
    "\n",
    "nums_round = 492\n",
    "gsearch3 = GridSearchCV(estimator = xgb.XGBRegressor(max_depth=10,learning_rate =0.1,n_jobs =4, n_estimators=nums_round,subsample=0.8,colsample_bytree=0.8,nthread=4,scale_pos_weight=1),\n",
    "                        param_grid = param_test3,verbose=2,scoring=make_scorer(customer_rmspe_xg,greater_is_better=False),fit_params = params_fit)\n",
    "gsearch3.fit(X_train, Y_train)"
   ]
  },
  {
   "cell_type": "code",
   "execution_count": 24,
   "metadata": {},
   "outputs": [
    {
     "ename": "AttributeError",
     "evalue": "'GridSearchCV' object has no attribute 'best_params_'",
     "output_type": "error",
     "traceback": [
      "\u001b[1;31m---------------------------------------------------------------------------\u001b[0m",
      "\u001b[1;31mAttributeError\u001b[0m                            Traceback (most recent call last)",
      "\u001b[1;32m<ipython-input-24-881aa0edd986>\u001b[0m in \u001b[0;36m<module>\u001b[1;34m\u001b[0m\n\u001b[1;32m----> 1\u001b[1;33m \u001b[0mprint\u001b[0m\u001b[1;33m(\u001b[0m\u001b[0mgsearch3\u001b[0m\u001b[1;33m.\u001b[0m\u001b[0mbest_params_\u001b[0m\u001b[1;33m)\u001b[0m\u001b[1;33m\u001b[0m\u001b[1;33m\u001b[0m\u001b[0m\n\u001b[0m",
      "\u001b[1;31mAttributeError\u001b[0m: 'GridSearchCV' object has no attribute 'best_params_'"
     ]
    }
   ],
   "source": [
    "print(gsearch3.best_params_)"
   ]
  },
  {
   "cell_type": "code",
   "execution_count": 25,
   "metadata": {},
   "outputs": [
    {
     "name": "stderr",
     "output_type": "stream",
     "text": [
      "D:\\AnaconDA\\lib\\site-packages\\sklearn\\model_selection\\_search.py:643: DeprecationWarning: \"fit_params\" as a constructor argument was deprecated in version 0.19 and will be removed in version 0.21. Pass fit parameters to the \"fit\" method instead.\n",
      "  '\"fit\" method instead.', DeprecationWarning)\n",
      "[Parallel(n_jobs=1)]: Using backend SequentialBackend with 1 concurrent workers.\n"
     ]
    },
    {
     "name": "stdout",
     "output_type": "stream",
     "text": [
      "Fitting 3 folds for each of 5 candidates, totalling 15 fits\n",
      "[CV] gamma=0.0 .......................................................\n"
     ]
    },
    {
     "ename": "KeyboardInterrupt",
     "evalue": "",
     "output_type": "error",
     "traceback": [
      "\u001b[1;31m---------------------------------------------------------------------------\u001b[0m",
      "\u001b[1;31mKeyboardInterrupt\u001b[0m                         Traceback (most recent call last)",
      "\u001b[1;32m<ipython-input-25-be5e3597db07>\u001b[0m in \u001b[0;36m<module>\u001b[1;34m\u001b[0m\n\u001b[0;32m      6\u001b[0m gsearch4 = GridSearchCV(estimator = xgb.XGBRegressor(max_depth=10,learning_rate =0.1,n_jobs =4, n_estimators=nums_round,subsample=0.8,colsample_bytree=0.8,nthread=4,scale_pos_weight=1),\n\u001b[0;32m      7\u001b[0m                         param_grid = param_test4,verbose=2,scoring=make_scorer(customer_rmspe_xg,greater_is_better=False),fit_params = params_fit)\n\u001b[1;32m----> 8\u001b[1;33m \u001b[0mgsearch4\u001b[0m\u001b[1;33m.\u001b[0m\u001b[0mfit\u001b[0m\u001b[1;33m(\u001b[0m\u001b[0mX_train\u001b[0m\u001b[1;33m,\u001b[0m \u001b[0mY_train\u001b[0m\u001b[1;33m)\u001b[0m\u001b[1;33m\u001b[0m\u001b[1;33m\u001b[0m\u001b[0m\n\u001b[0m",
      "\u001b[1;32mD:\\AnaconDA\\lib\\site-packages\\sklearn\\model_selection\\_search.py\u001b[0m in \u001b[0;36mfit\u001b[1;34m(self, X, y, groups, **fit_params)\u001b[0m\n\u001b[0;32m    720\u001b[0m                 \u001b[1;32mreturn\u001b[0m \u001b[0mresults_container\u001b[0m\u001b[1;33m[\u001b[0m\u001b[1;36m0\u001b[0m\u001b[1;33m]\u001b[0m\u001b[1;33m\u001b[0m\u001b[1;33m\u001b[0m\u001b[0m\n\u001b[0;32m    721\u001b[0m \u001b[1;33m\u001b[0m\u001b[0m\n\u001b[1;32m--> 722\u001b[1;33m             \u001b[0mself\u001b[0m\u001b[1;33m.\u001b[0m\u001b[0m_run_search\u001b[0m\u001b[1;33m(\u001b[0m\u001b[0mevaluate_candidates\u001b[0m\u001b[1;33m)\u001b[0m\u001b[1;33m\u001b[0m\u001b[1;33m\u001b[0m\u001b[0m\n\u001b[0m\u001b[0;32m    723\u001b[0m \u001b[1;33m\u001b[0m\u001b[0m\n\u001b[0;32m    724\u001b[0m         \u001b[0mresults\u001b[0m \u001b[1;33m=\u001b[0m \u001b[0mresults_container\u001b[0m\u001b[1;33m[\u001b[0m\u001b[1;36m0\u001b[0m\u001b[1;33m]\u001b[0m\u001b[1;33m\u001b[0m\u001b[1;33m\u001b[0m\u001b[0m\n",
      "\u001b[1;32mD:\\AnaconDA\\lib\\site-packages\\sklearn\\model_selection\\_search.py\u001b[0m in \u001b[0;36m_run_search\u001b[1;34m(self, evaluate_candidates)\u001b[0m\n\u001b[0;32m   1189\u001b[0m     \u001b[1;32mdef\u001b[0m \u001b[0m_run_search\u001b[0m\u001b[1;33m(\u001b[0m\u001b[0mself\u001b[0m\u001b[1;33m,\u001b[0m \u001b[0mevaluate_candidates\u001b[0m\u001b[1;33m)\u001b[0m\u001b[1;33m:\u001b[0m\u001b[1;33m\u001b[0m\u001b[1;33m\u001b[0m\u001b[0m\n\u001b[0;32m   1190\u001b[0m         \u001b[1;34m\"\"\"Search all candidates in param_grid\"\"\"\u001b[0m\u001b[1;33m\u001b[0m\u001b[1;33m\u001b[0m\u001b[0m\n\u001b[1;32m-> 1191\u001b[1;33m         \u001b[0mevaluate_candidates\u001b[0m\u001b[1;33m(\u001b[0m\u001b[0mParameterGrid\u001b[0m\u001b[1;33m(\u001b[0m\u001b[0mself\u001b[0m\u001b[1;33m.\u001b[0m\u001b[0mparam_grid\u001b[0m\u001b[1;33m)\u001b[0m\u001b[1;33m)\u001b[0m\u001b[1;33m\u001b[0m\u001b[1;33m\u001b[0m\u001b[0m\n\u001b[0m\u001b[0;32m   1192\u001b[0m \u001b[1;33m\u001b[0m\u001b[0m\n\u001b[0;32m   1193\u001b[0m \u001b[1;33m\u001b[0m\u001b[0m\n",
      "\u001b[1;32mD:\\AnaconDA\\lib\\site-packages\\sklearn\\model_selection\\_search.py\u001b[0m in \u001b[0;36mevaluate_candidates\u001b[1;34m(candidate_params)\u001b[0m\n\u001b[0;32m    709\u001b[0m                                \u001b[1;32mfor\u001b[0m \u001b[0mparameters\u001b[0m\u001b[1;33m,\u001b[0m \u001b[1;33m(\u001b[0m\u001b[0mtrain\u001b[0m\u001b[1;33m,\u001b[0m \u001b[0mtest\u001b[0m\u001b[1;33m)\u001b[0m\u001b[1;33m\u001b[0m\u001b[1;33m\u001b[0m\u001b[0m\n\u001b[0;32m    710\u001b[0m                                in product(candidate_params,\n\u001b[1;32m--> 711\u001b[1;33m                                           cv.split(X, y, groups)))\n\u001b[0m\u001b[0;32m    712\u001b[0m \u001b[1;33m\u001b[0m\u001b[0m\n\u001b[0;32m    713\u001b[0m                 \u001b[0mall_candidate_params\u001b[0m\u001b[1;33m.\u001b[0m\u001b[0mextend\u001b[0m\u001b[1;33m(\u001b[0m\u001b[0mcandidate_params\u001b[0m\u001b[1;33m)\u001b[0m\u001b[1;33m\u001b[0m\u001b[1;33m\u001b[0m\u001b[0m\n",
      "\u001b[1;32mD:\\AnaconDA\\lib\\site-packages\\sklearn\\externals\\joblib\\parallel.py\u001b[0m in \u001b[0;36m__call__\u001b[1;34m(self, iterable)\u001b[0m\n\u001b[0;32m    915\u001b[0m             \u001b[1;31m# remaining jobs.\u001b[0m\u001b[1;33m\u001b[0m\u001b[1;33m\u001b[0m\u001b[1;33m\u001b[0m\u001b[0m\n\u001b[0;32m    916\u001b[0m             \u001b[0mself\u001b[0m\u001b[1;33m.\u001b[0m\u001b[0m_iterating\u001b[0m \u001b[1;33m=\u001b[0m \u001b[1;32mFalse\u001b[0m\u001b[1;33m\u001b[0m\u001b[1;33m\u001b[0m\u001b[0m\n\u001b[1;32m--> 917\u001b[1;33m             \u001b[1;32mif\u001b[0m \u001b[0mself\u001b[0m\u001b[1;33m.\u001b[0m\u001b[0mdispatch_one_batch\u001b[0m\u001b[1;33m(\u001b[0m\u001b[0miterator\u001b[0m\u001b[1;33m)\u001b[0m\u001b[1;33m:\u001b[0m\u001b[1;33m\u001b[0m\u001b[1;33m\u001b[0m\u001b[0m\n\u001b[0m\u001b[0;32m    918\u001b[0m                 \u001b[0mself\u001b[0m\u001b[1;33m.\u001b[0m\u001b[0m_iterating\u001b[0m \u001b[1;33m=\u001b[0m \u001b[0mself\u001b[0m\u001b[1;33m.\u001b[0m\u001b[0m_original_iterator\u001b[0m \u001b[1;32mis\u001b[0m \u001b[1;32mnot\u001b[0m \u001b[1;32mNone\u001b[0m\u001b[1;33m\u001b[0m\u001b[1;33m\u001b[0m\u001b[0m\n\u001b[0;32m    919\u001b[0m \u001b[1;33m\u001b[0m\u001b[0m\n",
      "\u001b[1;32mD:\\AnaconDA\\lib\\site-packages\\sklearn\\externals\\joblib\\parallel.py\u001b[0m in \u001b[0;36mdispatch_one_batch\u001b[1;34m(self, iterator)\u001b[0m\n\u001b[0;32m    757\u001b[0m                 \u001b[1;32mreturn\u001b[0m \u001b[1;32mFalse\u001b[0m\u001b[1;33m\u001b[0m\u001b[1;33m\u001b[0m\u001b[0m\n\u001b[0;32m    758\u001b[0m             \u001b[1;32melse\u001b[0m\u001b[1;33m:\u001b[0m\u001b[1;33m\u001b[0m\u001b[1;33m\u001b[0m\u001b[0m\n\u001b[1;32m--> 759\u001b[1;33m                 \u001b[0mself\u001b[0m\u001b[1;33m.\u001b[0m\u001b[0m_dispatch\u001b[0m\u001b[1;33m(\u001b[0m\u001b[0mtasks\u001b[0m\u001b[1;33m)\u001b[0m\u001b[1;33m\u001b[0m\u001b[1;33m\u001b[0m\u001b[0m\n\u001b[0m\u001b[0;32m    760\u001b[0m                 \u001b[1;32mreturn\u001b[0m \u001b[1;32mTrue\u001b[0m\u001b[1;33m\u001b[0m\u001b[1;33m\u001b[0m\u001b[0m\n\u001b[0;32m    761\u001b[0m \u001b[1;33m\u001b[0m\u001b[0m\n",
      "\u001b[1;32mD:\\AnaconDA\\lib\\site-packages\\sklearn\\externals\\joblib\\parallel.py\u001b[0m in \u001b[0;36m_dispatch\u001b[1;34m(self, batch)\u001b[0m\n\u001b[0;32m    714\u001b[0m         \u001b[1;32mwith\u001b[0m \u001b[0mself\u001b[0m\u001b[1;33m.\u001b[0m\u001b[0m_lock\u001b[0m\u001b[1;33m:\u001b[0m\u001b[1;33m\u001b[0m\u001b[1;33m\u001b[0m\u001b[0m\n\u001b[0;32m    715\u001b[0m             \u001b[0mjob_idx\u001b[0m \u001b[1;33m=\u001b[0m \u001b[0mlen\u001b[0m\u001b[1;33m(\u001b[0m\u001b[0mself\u001b[0m\u001b[1;33m.\u001b[0m\u001b[0m_jobs\u001b[0m\u001b[1;33m)\u001b[0m\u001b[1;33m\u001b[0m\u001b[1;33m\u001b[0m\u001b[0m\n\u001b[1;32m--> 716\u001b[1;33m             \u001b[0mjob\u001b[0m \u001b[1;33m=\u001b[0m \u001b[0mself\u001b[0m\u001b[1;33m.\u001b[0m\u001b[0m_backend\u001b[0m\u001b[1;33m.\u001b[0m\u001b[0mapply_async\u001b[0m\u001b[1;33m(\u001b[0m\u001b[0mbatch\u001b[0m\u001b[1;33m,\u001b[0m \u001b[0mcallback\u001b[0m\u001b[1;33m=\u001b[0m\u001b[0mcb\u001b[0m\u001b[1;33m)\u001b[0m\u001b[1;33m\u001b[0m\u001b[1;33m\u001b[0m\u001b[0m\n\u001b[0m\u001b[0;32m    717\u001b[0m             \u001b[1;31m# A job can complete so quickly than its callback is\u001b[0m\u001b[1;33m\u001b[0m\u001b[1;33m\u001b[0m\u001b[1;33m\u001b[0m\u001b[0m\n\u001b[0;32m    718\u001b[0m             \u001b[1;31m# called before we get here, causing self._jobs to\u001b[0m\u001b[1;33m\u001b[0m\u001b[1;33m\u001b[0m\u001b[1;33m\u001b[0m\u001b[0m\n",
      "\u001b[1;32mD:\\AnaconDA\\lib\\site-packages\\sklearn\\externals\\joblib\\_parallel_backends.py\u001b[0m in \u001b[0;36mapply_async\u001b[1;34m(self, func, callback)\u001b[0m\n\u001b[0;32m    180\u001b[0m     \u001b[1;32mdef\u001b[0m \u001b[0mapply_async\u001b[0m\u001b[1;33m(\u001b[0m\u001b[0mself\u001b[0m\u001b[1;33m,\u001b[0m \u001b[0mfunc\u001b[0m\u001b[1;33m,\u001b[0m \u001b[0mcallback\u001b[0m\u001b[1;33m=\u001b[0m\u001b[1;32mNone\u001b[0m\u001b[1;33m)\u001b[0m\u001b[1;33m:\u001b[0m\u001b[1;33m\u001b[0m\u001b[1;33m\u001b[0m\u001b[0m\n\u001b[0;32m    181\u001b[0m         \u001b[1;34m\"\"\"Schedule a func to be run\"\"\"\u001b[0m\u001b[1;33m\u001b[0m\u001b[1;33m\u001b[0m\u001b[0m\n\u001b[1;32m--> 182\u001b[1;33m         \u001b[0mresult\u001b[0m \u001b[1;33m=\u001b[0m \u001b[0mImmediateResult\u001b[0m\u001b[1;33m(\u001b[0m\u001b[0mfunc\u001b[0m\u001b[1;33m)\u001b[0m\u001b[1;33m\u001b[0m\u001b[1;33m\u001b[0m\u001b[0m\n\u001b[0m\u001b[0;32m    183\u001b[0m         \u001b[1;32mif\u001b[0m \u001b[0mcallback\u001b[0m\u001b[1;33m:\u001b[0m\u001b[1;33m\u001b[0m\u001b[1;33m\u001b[0m\u001b[0m\n\u001b[0;32m    184\u001b[0m             \u001b[0mcallback\u001b[0m\u001b[1;33m(\u001b[0m\u001b[0mresult\u001b[0m\u001b[1;33m)\u001b[0m\u001b[1;33m\u001b[0m\u001b[1;33m\u001b[0m\u001b[0m\n",
      "\u001b[1;32mD:\\AnaconDA\\lib\\site-packages\\sklearn\\externals\\joblib\\_parallel_backends.py\u001b[0m in \u001b[0;36m__init__\u001b[1;34m(self, batch)\u001b[0m\n\u001b[0;32m    547\u001b[0m         \u001b[1;31m# Don't delay the application, to avoid keeping the input\u001b[0m\u001b[1;33m\u001b[0m\u001b[1;33m\u001b[0m\u001b[1;33m\u001b[0m\u001b[0m\n\u001b[0;32m    548\u001b[0m         \u001b[1;31m# arguments in memory\u001b[0m\u001b[1;33m\u001b[0m\u001b[1;33m\u001b[0m\u001b[1;33m\u001b[0m\u001b[0m\n\u001b[1;32m--> 549\u001b[1;33m         \u001b[0mself\u001b[0m\u001b[1;33m.\u001b[0m\u001b[0mresults\u001b[0m \u001b[1;33m=\u001b[0m \u001b[0mbatch\u001b[0m\u001b[1;33m(\u001b[0m\u001b[1;33m)\u001b[0m\u001b[1;33m\u001b[0m\u001b[1;33m\u001b[0m\u001b[0m\n\u001b[0m\u001b[0;32m    550\u001b[0m \u001b[1;33m\u001b[0m\u001b[0m\n\u001b[0;32m    551\u001b[0m     \u001b[1;32mdef\u001b[0m \u001b[0mget\u001b[0m\u001b[1;33m(\u001b[0m\u001b[0mself\u001b[0m\u001b[1;33m)\u001b[0m\u001b[1;33m:\u001b[0m\u001b[1;33m\u001b[0m\u001b[1;33m\u001b[0m\u001b[0m\n",
      "\u001b[1;32mD:\\AnaconDA\\lib\\site-packages\\sklearn\\externals\\joblib\\parallel.py\u001b[0m in \u001b[0;36m__call__\u001b[1;34m(self)\u001b[0m\n\u001b[0;32m    223\u001b[0m         \u001b[1;32mwith\u001b[0m \u001b[0mparallel_backend\u001b[0m\u001b[1;33m(\u001b[0m\u001b[0mself\u001b[0m\u001b[1;33m.\u001b[0m\u001b[0m_backend\u001b[0m\u001b[1;33m,\u001b[0m \u001b[0mn_jobs\u001b[0m\u001b[1;33m=\u001b[0m\u001b[0mself\u001b[0m\u001b[1;33m.\u001b[0m\u001b[0m_n_jobs\u001b[0m\u001b[1;33m)\u001b[0m\u001b[1;33m:\u001b[0m\u001b[1;33m\u001b[0m\u001b[1;33m\u001b[0m\u001b[0m\n\u001b[0;32m    224\u001b[0m             return [func(*args, **kwargs)\n\u001b[1;32m--> 225\u001b[1;33m                     for func, args, kwargs in self.items]\n\u001b[0m\u001b[0;32m    226\u001b[0m \u001b[1;33m\u001b[0m\u001b[0m\n\u001b[0;32m    227\u001b[0m     \u001b[1;32mdef\u001b[0m \u001b[0m__len__\u001b[0m\u001b[1;33m(\u001b[0m\u001b[0mself\u001b[0m\u001b[1;33m)\u001b[0m\u001b[1;33m:\u001b[0m\u001b[1;33m\u001b[0m\u001b[1;33m\u001b[0m\u001b[0m\n",
      "\u001b[1;32mD:\\AnaconDA\\lib\\site-packages\\sklearn\\externals\\joblib\\parallel.py\u001b[0m in \u001b[0;36m<listcomp>\u001b[1;34m(.0)\u001b[0m\n\u001b[0;32m    223\u001b[0m         \u001b[1;32mwith\u001b[0m \u001b[0mparallel_backend\u001b[0m\u001b[1;33m(\u001b[0m\u001b[0mself\u001b[0m\u001b[1;33m.\u001b[0m\u001b[0m_backend\u001b[0m\u001b[1;33m,\u001b[0m \u001b[0mn_jobs\u001b[0m\u001b[1;33m=\u001b[0m\u001b[0mself\u001b[0m\u001b[1;33m.\u001b[0m\u001b[0m_n_jobs\u001b[0m\u001b[1;33m)\u001b[0m\u001b[1;33m:\u001b[0m\u001b[1;33m\u001b[0m\u001b[1;33m\u001b[0m\u001b[0m\n\u001b[0;32m    224\u001b[0m             return [func(*args, **kwargs)\n\u001b[1;32m--> 225\u001b[1;33m                     for func, args, kwargs in self.items]\n\u001b[0m\u001b[0;32m    226\u001b[0m \u001b[1;33m\u001b[0m\u001b[0m\n\u001b[0;32m    227\u001b[0m     \u001b[1;32mdef\u001b[0m \u001b[0m__len__\u001b[0m\u001b[1;33m(\u001b[0m\u001b[0mself\u001b[0m\u001b[1;33m)\u001b[0m\u001b[1;33m:\u001b[0m\u001b[1;33m\u001b[0m\u001b[1;33m\u001b[0m\u001b[0m\n",
      "\u001b[1;32mD:\\AnaconDA\\lib\\site-packages\\sklearn\\model_selection\\_validation.py\u001b[0m in \u001b[0;36m_fit_and_score\u001b[1;34m(estimator, X, y, scorer, train, test, verbose, parameters, fit_params, return_train_score, return_parameters, return_n_test_samples, return_times, return_estimator, error_score)\u001b[0m\n\u001b[0;32m    526\u001b[0m             \u001b[0mestimator\u001b[0m\u001b[1;33m.\u001b[0m\u001b[0mfit\u001b[0m\u001b[1;33m(\u001b[0m\u001b[0mX_train\u001b[0m\u001b[1;33m,\u001b[0m \u001b[1;33m**\u001b[0m\u001b[0mfit_params\u001b[0m\u001b[1;33m)\u001b[0m\u001b[1;33m\u001b[0m\u001b[1;33m\u001b[0m\u001b[0m\n\u001b[0;32m    527\u001b[0m         \u001b[1;32melse\u001b[0m\u001b[1;33m:\u001b[0m\u001b[1;33m\u001b[0m\u001b[1;33m\u001b[0m\u001b[0m\n\u001b[1;32m--> 528\u001b[1;33m             \u001b[0mestimator\u001b[0m\u001b[1;33m.\u001b[0m\u001b[0mfit\u001b[0m\u001b[1;33m(\u001b[0m\u001b[0mX_train\u001b[0m\u001b[1;33m,\u001b[0m \u001b[0my_train\u001b[0m\u001b[1;33m,\u001b[0m \u001b[1;33m**\u001b[0m\u001b[0mfit_params\u001b[0m\u001b[1;33m)\u001b[0m\u001b[1;33m\u001b[0m\u001b[1;33m\u001b[0m\u001b[0m\n\u001b[0m\u001b[0;32m    529\u001b[0m \u001b[1;33m\u001b[0m\u001b[0m\n\u001b[0;32m    530\u001b[0m     \u001b[1;32mexcept\u001b[0m \u001b[0mException\u001b[0m \u001b[1;32mas\u001b[0m \u001b[0me\u001b[0m\u001b[1;33m:\u001b[0m\u001b[1;33m\u001b[0m\u001b[1;33m\u001b[0m\u001b[0m\n",
      "\u001b[1;32mD:\\AnaconDA\\lib\\site-packages\\xgboost\\sklearn.py\u001b[0m in \u001b[0;36mfit\u001b[1;34m(self, X, y, sample_weight, eval_set, eval_metric, early_stopping_rounds, verbose, xgb_model, sample_weight_eval_set, callbacks)\u001b[0m\n\u001b[0;32m    376\u001b[0m                               \u001b[0mevals_result\u001b[0m\u001b[1;33m=\u001b[0m\u001b[0mevals_result\u001b[0m\u001b[1;33m,\u001b[0m \u001b[0mobj\u001b[0m\u001b[1;33m=\u001b[0m\u001b[0mobj\u001b[0m\u001b[1;33m,\u001b[0m \u001b[0mfeval\u001b[0m\u001b[1;33m=\u001b[0m\u001b[0mfeval\u001b[0m\u001b[1;33m,\u001b[0m\u001b[1;33m\u001b[0m\u001b[1;33m\u001b[0m\u001b[0m\n\u001b[0;32m    377\u001b[0m                               \u001b[0mverbose_eval\u001b[0m\u001b[1;33m=\u001b[0m\u001b[0mverbose\u001b[0m\u001b[1;33m,\u001b[0m \u001b[0mxgb_model\u001b[0m\u001b[1;33m=\u001b[0m\u001b[0mxgb_model\u001b[0m\u001b[1;33m,\u001b[0m\u001b[1;33m\u001b[0m\u001b[1;33m\u001b[0m\u001b[0m\n\u001b[1;32m--> 378\u001b[1;33m                               callbacks=callbacks)\n\u001b[0m\u001b[0;32m    379\u001b[0m \u001b[1;33m\u001b[0m\u001b[0m\n\u001b[0;32m    380\u001b[0m         \u001b[1;32mif\u001b[0m \u001b[0mevals_result\u001b[0m\u001b[1;33m:\u001b[0m\u001b[1;33m\u001b[0m\u001b[1;33m\u001b[0m\u001b[0m\n",
      "\u001b[1;32mD:\\AnaconDA\\lib\\site-packages\\xgboost\\training.py\u001b[0m in \u001b[0;36mtrain\u001b[1;34m(params, dtrain, num_boost_round, evals, obj, feval, maximize, early_stopping_rounds, evals_result, verbose_eval, xgb_model, callbacks, learning_rates)\u001b[0m\n\u001b[0;32m    214\u001b[0m                            \u001b[0mevals\u001b[0m\u001b[1;33m=\u001b[0m\u001b[0mevals\u001b[0m\u001b[1;33m,\u001b[0m\u001b[1;33m\u001b[0m\u001b[1;33m\u001b[0m\u001b[0m\n\u001b[0;32m    215\u001b[0m                            \u001b[0mobj\u001b[0m\u001b[1;33m=\u001b[0m\u001b[0mobj\u001b[0m\u001b[1;33m,\u001b[0m \u001b[0mfeval\u001b[0m\u001b[1;33m=\u001b[0m\u001b[0mfeval\u001b[0m\u001b[1;33m,\u001b[0m\u001b[1;33m\u001b[0m\u001b[1;33m\u001b[0m\u001b[0m\n\u001b[1;32m--> 216\u001b[1;33m                            xgb_model=xgb_model, callbacks=callbacks)\n\u001b[0m\u001b[0;32m    217\u001b[0m \u001b[1;33m\u001b[0m\u001b[0m\n\u001b[0;32m    218\u001b[0m \u001b[1;33m\u001b[0m\u001b[0m\n",
      "\u001b[1;32mD:\\AnaconDA\\lib\\site-packages\\xgboost\\training.py\u001b[0m in \u001b[0;36m_train_internal\u001b[1;34m(params, dtrain, num_boost_round, evals, obj, feval, xgb_model, callbacks)\u001b[0m\n\u001b[0;32m     72\u001b[0m         \u001b[1;31m# Skip the first update if it is a recovery step.\u001b[0m\u001b[1;33m\u001b[0m\u001b[1;33m\u001b[0m\u001b[1;33m\u001b[0m\u001b[0m\n\u001b[0;32m     73\u001b[0m         \u001b[1;32mif\u001b[0m \u001b[0mversion\u001b[0m \u001b[1;33m%\u001b[0m \u001b[1;36m2\u001b[0m \u001b[1;33m==\u001b[0m \u001b[1;36m0\u001b[0m\u001b[1;33m:\u001b[0m\u001b[1;33m\u001b[0m\u001b[1;33m\u001b[0m\u001b[0m\n\u001b[1;32m---> 74\u001b[1;33m             \u001b[0mbst\u001b[0m\u001b[1;33m.\u001b[0m\u001b[0mupdate\u001b[0m\u001b[1;33m(\u001b[0m\u001b[0mdtrain\u001b[0m\u001b[1;33m,\u001b[0m \u001b[0mi\u001b[0m\u001b[1;33m,\u001b[0m \u001b[0mobj\u001b[0m\u001b[1;33m)\u001b[0m\u001b[1;33m\u001b[0m\u001b[1;33m\u001b[0m\u001b[0m\n\u001b[0m\u001b[0;32m     75\u001b[0m             \u001b[0mbst\u001b[0m\u001b[1;33m.\u001b[0m\u001b[0msave_rabit_checkpoint\u001b[0m\u001b[1;33m(\u001b[0m\u001b[1;33m)\u001b[0m\u001b[1;33m\u001b[0m\u001b[1;33m\u001b[0m\u001b[0m\n\u001b[0;32m     76\u001b[0m             \u001b[0mversion\u001b[0m \u001b[1;33m+=\u001b[0m \u001b[1;36m1\u001b[0m\u001b[1;33m\u001b[0m\u001b[1;33m\u001b[0m\u001b[0m\n",
      "\u001b[1;32mD:\\AnaconDA\\lib\\site-packages\\xgboost\\core.py\u001b[0m in \u001b[0;36mupdate\u001b[1;34m(self, dtrain, iteration, fobj)\u001b[0m\n\u001b[0;32m   1108\u001b[0m         \u001b[1;32mif\u001b[0m \u001b[0mfobj\u001b[0m \u001b[1;32mis\u001b[0m \u001b[1;32mNone\u001b[0m\u001b[1;33m:\u001b[0m\u001b[1;33m\u001b[0m\u001b[1;33m\u001b[0m\u001b[0m\n\u001b[0;32m   1109\u001b[0m             _check_call(_LIB.XGBoosterUpdateOneIter(self.handle, ctypes.c_int(iteration),\n\u001b[1;32m-> 1110\u001b[1;33m                                                     dtrain.handle))\n\u001b[0m\u001b[0;32m   1111\u001b[0m         \u001b[1;32melse\u001b[0m\u001b[1;33m:\u001b[0m\u001b[1;33m\u001b[0m\u001b[1;33m\u001b[0m\u001b[0m\n\u001b[0;32m   1112\u001b[0m             \u001b[0mpred\u001b[0m \u001b[1;33m=\u001b[0m \u001b[0mself\u001b[0m\u001b[1;33m.\u001b[0m\u001b[0mpredict\u001b[0m\u001b[1;33m(\u001b[0m\u001b[0mdtrain\u001b[0m\u001b[1;33m)\u001b[0m\u001b[1;33m\u001b[0m\u001b[1;33m\u001b[0m\u001b[0m\n",
      "\u001b[1;31mKeyboardInterrupt\u001b[0m: "
     ]
    }
   ],
   "source": [
    "param_test4 = {\n",
    " 'gamma':[i/10.0 for i in range(0,5)]\n",
    "}\n",
    "\n",
    "nums_round = 492\n",
    "gsearch4 = GridSearchCV(estimator = xgb.XGBRegressor(max_depth=10,learning_rate =0.1,n_jobs =4, n_estimators=nums_round,subsample=0.8,colsample_bytree=0.8,nthread=4,scale_pos_weight=1),\n",
    "                        param_grid = param_test4,verbose=2,scoring=make_scorer(customer_rmspe_xg,greater_is_better=False),fit_params = params_fit)\n",
    "gsearch4.fit(X_train, Y_train)"
   ]
  },
  {
   "cell_type": "code",
   "execution_count": 26,
   "metadata": {},
   "outputs": [
    {
     "ename": "AttributeError",
     "evalue": "'GridSearchCV' object has no attribute 'best_params_'",
     "output_type": "error",
     "traceback": [
      "\u001b[1;31m---------------------------------------------------------------------------\u001b[0m",
      "\u001b[1;31mAttributeError\u001b[0m                            Traceback (most recent call last)",
      "\u001b[1;32m<ipython-input-26-fd1f699a1b7f>\u001b[0m in \u001b[0;36m<module>\u001b[1;34m\u001b[0m\n\u001b[1;32m----> 1\u001b[1;33m \u001b[0mprint\u001b[0m\u001b[1;33m(\u001b[0m\u001b[0mgsearch4\u001b[0m\u001b[1;33m.\u001b[0m\u001b[0mbest_params_\u001b[0m\u001b[1;33m)\u001b[0m\u001b[1;33m\u001b[0m\u001b[1;33m\u001b[0m\u001b[0m\n\u001b[0m",
      "\u001b[1;31mAttributeError\u001b[0m: 'GridSearchCV' object has no attribute 'best_params_'"
     ]
    }
   ],
   "source": [
    "print(gsearch4.best_params_)"
   ]
  },
  {
   "cell_type": "code",
   "execution_count": 37,
   "metadata": {},
   "outputs": [
    {
     "name": "stdout",
     "output_type": "stream",
     "text": [
      "[0]\tvalidation_0-rmse:7.44335\tvalidation_1-rmse:7.43882\tvalidation_0-rmspe:0.999495\tvalidation_1-rmspe:0.999475\n",
      "Multiple eval metrics have been passed: 'validation_1-rmspe' will be used for early stopping.\n",
      "\n",
      "Will train until validation_1-rmspe hasn't improved in 20 rounds.\n",
      "[1]\tvalidation_0-rmse:6.7012\tvalidation_1-rmse:6.69701\tvalidation_0-rmspe:0.998787\tvalidation_1-rmspe:0.998764\n",
      "[2]\tvalidation_0-rmse:6.03308\tvalidation_1-rmse:6.02923\tvalidation_0-rmspe:0.997512\tvalidation_1-rmspe:0.997484\n",
      "[3]\tvalidation_0-rmse:5.43202\tvalidation_1-rmse:5.42839\tvalidation_0-rmspe:0.995361\tvalidation_1-rmspe:0.995327\n",
      "[4]\tvalidation_0-rmse:4.89119\tvalidation_1-rmse:4.88768\tvalidation_0-rmspe:0.99196\tvalidation_1-rmspe:0.991914\n",
      "[5]\tvalidation_0-rmse:4.40458\tvalidation_1-rmse:4.40154\tvalidation_0-rmspe:0.986869\tvalidation_1-rmspe:0.986811\n",
      "[6]\tvalidation_0-rmse:3.96683\tvalidation_1-rmse:3.96408\tvalidation_0-rmspe:0.979633\tvalidation_1-rmspe:0.979561\n",
      "[7]\tvalidation_0-rmse:3.573\tvalidation_1-rmse:3.57037\tvalidation_0-rmspe:0.969826\tvalidation_1-rmspe:0.969733\n",
      "[8]\tvalidation_0-rmse:3.21854\tvalidation_1-rmse:3.21609\tvalidation_0-rmspe:0.957069\tvalidation_1-rmspe:0.956955\n",
      "[9]\tvalidation_0-rmse:2.89986\tvalidation_1-rmse:2.89781\tvalidation_0-rmspe:0.941065\tvalidation_1-rmspe:0.940931\n",
      "[10]\tvalidation_0-rmse:2.61321\tvalidation_1-rmse:2.61125\tvalidation_0-rmspe:0.921659\tvalidation_1-rmspe:0.921485\n",
      "[11]\tvalidation_0-rmse:2.35567\tvalidation_1-rmse:2.35391\tvalidation_0-rmspe:0.898805\tvalidation_1-rmspe:0.898588\n",
      "[12]\tvalidation_0-rmse:2.124\tvalidation_1-rmse:2.12239\tvalidation_0-rmspe:0.872706\tvalidation_1-rmspe:0.872404\n",
      "[13]\tvalidation_0-rmse:1.91609\tvalidation_1-rmse:1.91461\tvalidation_0-rmspe:0.843516\tvalidation_1-rmspe:0.84311\n",
      "[14]\tvalidation_0-rmse:1.72936\tvalidation_1-rmse:1.72806\tvalidation_0-rmspe:0.81167\tvalidation_1-rmspe:0.811122\n",
      "[15]\tvalidation_0-rmse:1.56178\tvalidation_1-rmse:1.56056\tvalidation_0-rmspe:0.777684\tvalidation_1-rmspe:0.776915\n",
      "[16]\tvalidation_0-rmse:1.41151\tvalidation_1-rmse:1.41044\tvalidation_0-rmspe:0.742058\tvalidation_1-rmspe:0.741006\n",
      "[17]\tvalidation_0-rmse:1.27631\tvalidation_1-rmse:1.27555\tvalidation_0-rmspe:0.705524\tvalidation_1-rmspe:0.704158\n",
      "[18]\tvalidation_0-rmse:1.15531\tvalidation_1-rmse:1.15467\tvalidation_0-rmspe:0.668412\tvalidation_1-rmspe:0.666635\n",
      "[19]\tvalidation_0-rmse:1.04727\tvalidation_1-rmse:1.04675\tvalidation_0-rmspe:0.631282\tvalidation_1-rmspe:0.629036\n",
      "[20]\tvalidation_0-rmse:0.950356\tvalidation_1-rmse:0.949973\tvalidation_0-rmspe:0.594908\tvalidation_1-rmspe:0.591966\n",
      "[21]\tvalidation_0-rmse:0.864148\tvalidation_1-rmse:0.8639\tvalidation_0-rmspe:0.559656\tvalidation_1-rmspe:0.555882\n",
      "[22]\tvalidation_0-rmse:0.787092\tvalidation_1-rmse:0.787097\tvalidation_0-rmspe:0.525946\tvalidation_1-rmspe:0.521239\n",
      "[23]\tvalidation_0-rmse:0.718939\tvalidation_1-rmse:0.719105\tvalidation_0-rmspe:0.494122\tvalidation_1-rmspe:0.488315\n",
      "[24]\tvalidation_0-rmse:0.657716\tvalidation_1-rmse:0.657928\tvalidation_0-rmspe:0.464236\tvalidation_1-rmspe:0.457291\n",
      "[25]\tvalidation_0-rmse:0.603352\tvalidation_1-rmse:0.603786\tvalidation_0-rmspe:0.436818\tvalidation_1-rmspe:0.428432\n",
      "[26]\tvalidation_0-rmse:0.555586\tvalidation_1-rmse:0.556217\tvalidation_0-rmspe:0.412016\tvalidation_1-rmspe:0.402096\n",
      "[27]\tvalidation_0-rmse:0.51325\tvalidation_1-rmse:0.514088\tvalidation_0-rmspe:0.389678\tvalidation_1-rmspe:0.377985\n",
      "[28]\tvalidation_0-rmse:0.475503\tvalidation_1-rmse:0.476552\tvalidation_0-rmspe:0.369835\tvalidation_1-rmspe:0.356206\n",
      "[29]\tvalidation_0-rmse:0.441923\tvalidation_1-rmse:0.443281\tvalidation_0-rmspe:0.352191\tvalidation_1-rmspe:0.336591\n",
      "[30]\tvalidation_0-rmse:0.41408\tvalidation_1-rmse:0.415733\tvalidation_0-rmspe:0.337635\tvalidation_1-rmspe:0.320239\n",
      "[31]\tvalidation_0-rmse:0.388765\tvalidation_1-rmse:0.390553\tvalidation_0-rmspe:0.324724\tvalidation_1-rmspe:0.305137\n",
      "[32]\tvalidation_0-rmse:0.367281\tvalidation_1-rmse:0.369271\tvalidation_0-rmspe:0.314135\tvalidation_1-rmspe:0.292803\n",
      "[33]\tvalidation_0-rmse:0.348426\tvalidation_1-rmse:0.350634\tvalidation_0-rmspe:0.305577\tvalidation_1-rmspe:0.282128\n",
      "[34]\tvalidation_0-rmse:0.332311\tvalidation_1-rmse:0.334767\tvalidation_0-rmspe:0.298669\tvalidation_1-rmspe:0.273339\n",
      "[35]\tvalidation_0-rmse:0.319111\tvalidation_1-rmse:0.321871\tvalidation_0-rmspe:0.293578\tvalidation_1-rmspe:0.266761\n",
      "[36]\tvalidation_0-rmse:0.306803\tvalidation_1-rmse:0.30987\tvalidation_0-rmspe:0.28908\tvalidation_1-rmspe:0.260548\n",
      "[37]\tvalidation_0-rmse:0.2974\tvalidation_1-rmse:0.300716\tvalidation_0-rmspe:0.286412\tvalidation_1-rmspe:0.256627\n",
      "[38]\tvalidation_0-rmse:0.289498\tvalidation_1-rmse:0.293024\tvalidation_0-rmspe:0.284462\tvalidation_1-rmspe:0.253726\n",
      "[39]\tvalidation_0-rmse:0.281726\tvalidation_1-rmse:0.285365\tvalidation_0-rmspe:0.28224\tvalidation_1-rmspe:0.25039\n",
      "[40]\tvalidation_0-rmse:0.274356\tvalidation_1-rmse:0.278071\tvalidation_0-rmspe:0.280143\tvalidation_1-rmspe:0.247177\n",
      "[41]\tvalidation_0-rmse:0.268733\tvalidation_1-rmse:0.272474\tvalidation_0-rmspe:0.278897\tvalidation_1-rmspe:0.244822\n",
      "[42]\tvalidation_0-rmse:0.264108\tvalidation_1-rmse:0.268075\tvalidation_0-rmspe:0.278348\tvalidation_1-rmspe:0.243522\n",
      "[43]\tvalidation_0-rmse:0.259764\tvalidation_1-rmse:0.263857\tvalidation_0-rmspe:0.277541\tvalidation_1-rmspe:0.241983\n",
      "[44]\tvalidation_0-rmse:0.256908\tvalidation_1-rmse:0.261135\tvalidation_0-rmspe:0.278011\tvalidation_1-rmspe:0.241931\n",
      "[45]\tvalidation_0-rmse:0.253192\tvalidation_1-rmse:0.257382\tvalidation_0-rmspe:0.277408\tvalidation_1-rmspe:0.24065\n",
      "[46]\tvalidation_0-rmse:0.249657\tvalidation_1-rmse:0.253906\tvalidation_0-rmspe:0.276537\tvalidation_1-rmspe:0.238976\n",
      "[47]\tvalidation_0-rmse:0.247934\tvalidation_1-rmse:0.252314\tvalidation_0-rmspe:0.277152\tvalidation_1-rmspe:0.239255\n",
      "[48]\tvalidation_0-rmse:0.244089\tvalidation_1-rmse:0.248595\tvalidation_0-rmspe:0.275557\tvalidation_1-rmspe:0.23679\n",
      "[49]\tvalidation_0-rmse:0.239357\tvalidation_1-rmse:0.244065\tvalidation_0-rmspe:0.273056\tvalidation_1-rmspe:0.233319\n",
      "[50]\tvalidation_0-rmse:0.237927\tvalidation_1-rmse:0.242784\tvalidation_0-rmspe:0.273238\tvalidation_1-rmspe:0.233329\n",
      "[51]\tvalidation_0-rmse:0.236167\tvalidation_1-rmse:0.241119\tvalidation_0-rmspe:0.272724\tvalidation_1-rmspe:0.232672\n",
      "[52]\tvalidation_0-rmse:0.234809\tvalidation_1-rmse:0.239854\tvalidation_0-rmspe:0.27269\tvalidation_1-rmspe:0.23233\n",
      "[53]\tvalidation_0-rmse:0.231827\tvalidation_1-rmse:0.236924\tvalidation_0-rmspe:0.271107\tvalidation_1-rmspe:0.230103\n",
      "[54]\tvalidation_0-rmse:0.226454\tvalidation_1-rmse:0.231782\tvalidation_0-rmspe:0.265875\tvalidation_1-rmspe:0.224438\n",
      "[55]\tvalidation_0-rmse:0.224762\tvalidation_1-rmse:0.230176\tvalidation_0-rmspe:0.26536\tvalidation_1-rmspe:0.22353\n",
      "[56]\tvalidation_0-rmse:0.222894\tvalidation_1-rmse:0.228356\tvalidation_0-rmspe:0.264419\tvalidation_1-rmspe:0.222273\n",
      "[57]\tvalidation_0-rmse:0.221208\tvalidation_1-rmse:0.226902\tvalidation_0-rmspe:0.263034\tvalidation_1-rmspe:0.22102\n",
      "[58]\tvalidation_0-rmse:0.220351\tvalidation_1-rmse:0.2262\tvalidation_0-rmspe:0.263126\tvalidation_1-rmspe:0.220778\n",
      "[59]\tvalidation_0-rmse:0.218815\tvalidation_1-rmse:0.224674\tvalidation_0-rmspe:0.261914\tvalidation_1-rmspe:0.219486\n",
      "[60]\tvalidation_0-rmse:0.216131\tvalidation_1-rmse:0.222187\tvalidation_0-rmspe:0.259885\tvalidation_1-rmspe:0.217112\n",
      "[61]\tvalidation_0-rmse:0.214608\tvalidation_1-rmse:0.220673\tvalidation_0-rmspe:0.258952\tvalidation_1-rmspe:0.215827\n",
      "[62]\tvalidation_0-rmse:0.213853\tvalidation_1-rmse:0.220081\tvalidation_0-rmspe:0.258608\tvalidation_1-rmspe:0.215549\n",
      "[63]\tvalidation_0-rmse:0.213088\tvalidation_1-rmse:0.219375\tvalidation_0-rmspe:0.258214\tvalidation_1-rmspe:0.215035\n",
      "[64]\tvalidation_0-rmse:0.210016\tvalidation_1-rmse:0.216252\tvalidation_0-rmspe:0.255674\tvalidation_1-rmspe:0.211324\n",
      "[65]\tvalidation_0-rmse:0.209231\tvalidation_1-rmse:0.215475\tvalidation_0-rmspe:0.25514\tvalidation_1-rmspe:0.210596\n",
      "[66]\tvalidation_0-rmse:0.206372\tvalidation_1-rmse:0.212754\tvalidation_0-rmspe:0.252675\tvalidation_1-rmspe:0.207551\n",
      "[67]\tvalidation_0-rmse:0.204386\tvalidation_1-rmse:0.210841\tvalidation_0-rmspe:0.250225\tvalidation_1-rmspe:0.205157\n",
      "[68]\tvalidation_0-rmse:0.204053\tvalidation_1-rmse:0.210566\tvalidation_0-rmspe:0.250029\tvalidation_1-rmspe:0.205032\n",
      "[69]\tvalidation_0-rmse:0.201503\tvalidation_1-rmse:0.208245\tvalidation_0-rmspe:0.24786\tvalidation_1-rmspe:0.202579\n",
      "[70]\tvalidation_0-rmse:0.199041\tvalidation_1-rmse:0.205905\tvalidation_0-rmspe:0.245776\tvalidation_1-rmspe:0.200004\n"
     ]
    },
    {
     "name": "stdout",
     "output_type": "stream",
     "text": [
      "[71]\tvalidation_0-rmse:0.198362\tvalidation_1-rmse:0.205343\tvalidation_0-rmspe:0.245493\tvalidation_1-rmspe:0.199463\n",
      "[72]\tvalidation_0-rmse:0.195634\tvalidation_1-rmse:0.202713\tvalidation_0-rmspe:0.243064\tvalidation_1-rmspe:0.196356\n",
      "[73]\tvalidation_0-rmse:0.195091\tvalidation_1-rmse:0.202363\tvalidation_0-rmspe:0.242719\tvalidation_1-rmspe:0.19605\n",
      "[74]\tvalidation_0-rmse:0.193558\tvalidation_1-rmse:0.200895\tvalidation_0-rmspe:0.241456\tvalidation_1-rmspe:0.194493\n",
      "[75]\tvalidation_0-rmse:0.192641\tvalidation_1-rmse:0.200062\tvalidation_0-rmspe:0.240796\tvalidation_1-rmspe:0.193648\n",
      "[76]\tvalidation_0-rmse:0.192507\tvalidation_1-rmse:0.199957\tvalidation_0-rmspe:0.240903\tvalidation_1-rmspe:0.193625\n",
      "[77]\tvalidation_0-rmse:0.192036\tvalidation_1-rmse:0.199508\tvalidation_0-rmspe:0.240313\tvalidation_1-rmspe:0.193193\n",
      "[78]\tvalidation_0-rmse:0.191504\tvalidation_1-rmse:0.199016\tvalidation_0-rmspe:0.239954\tvalidation_1-rmspe:0.192679\n",
      "[79]\tvalidation_0-rmse:0.188995\tvalidation_1-rmse:0.196698\tvalidation_0-rmspe:0.237786\tvalidation_1-rmspe:0.190051\n",
      "[80]\tvalidation_0-rmse:0.188186\tvalidation_1-rmse:0.195931\tvalidation_0-rmspe:0.236613\tvalidation_1-rmspe:0.189173\n",
      "[81]\tvalidation_0-rmse:0.185729\tvalidation_1-rmse:0.193608\tvalidation_0-rmspe:0.23439\tvalidation_1-rmspe:0.186292\n",
      "[82]\tvalidation_0-rmse:0.183904\tvalidation_1-rmse:0.191865\tvalidation_0-rmspe:0.232675\tvalidation_1-rmspe:0.184113\n",
      "[83]\tvalidation_0-rmse:0.183086\tvalidation_1-rmse:0.191125\tvalidation_0-rmspe:0.231959\tvalidation_1-rmspe:0.183316\n",
      "[84]\tvalidation_0-rmse:0.182602\tvalidation_1-rmse:0.190682\tvalidation_0-rmspe:0.231438\tvalidation_1-rmspe:0.182764\n",
      "[85]\tvalidation_0-rmse:0.182395\tvalidation_1-rmse:0.190554\tvalidation_0-rmspe:0.231121\tvalidation_1-rmspe:0.182638\n",
      "[86]\tvalidation_0-rmse:0.181853\tvalidation_1-rmse:0.190165\tvalidation_0-rmspe:0.230202\tvalidation_1-rmspe:0.182261\n",
      "[87]\tvalidation_0-rmse:0.181538\tvalidation_1-rmse:0.189879\tvalidation_0-rmspe:0.229862\tvalidation_1-rmspe:0.181897\n",
      "[88]\tvalidation_0-rmse:0.181124\tvalidation_1-rmse:0.189467\tvalidation_0-rmspe:0.229613\tvalidation_1-rmspe:0.181497\n",
      "[89]\tvalidation_0-rmse:0.180231\tvalidation_1-rmse:0.188529\tvalidation_0-rmspe:0.228891\tvalidation_1-rmspe:0.180349\n",
      "[90]\tvalidation_0-rmse:0.178783\tvalidation_1-rmse:0.187202\tvalidation_0-rmspe:0.227539\tvalidation_1-rmspe:0.178754\n",
      "[91]\tvalidation_0-rmse:0.178351\tvalidation_1-rmse:0.186836\tvalidation_0-rmspe:0.227214\tvalidation_1-rmspe:0.17833\n",
      "[92]\tvalidation_0-rmse:0.178115\tvalidation_1-rmse:0.186656\tvalidation_0-rmspe:0.226971\tvalidation_1-rmspe:0.178148\n",
      "[93]\tvalidation_0-rmse:0.177892\tvalidation_1-rmse:0.18651\tvalidation_0-rmspe:0.226678\tvalidation_1-rmspe:0.178008\n",
      "[94]\tvalidation_0-rmse:0.176905\tvalidation_1-rmse:0.185579\tvalidation_0-rmspe:0.225798\tvalidation_1-rmspe:0.176904\n",
      "[95]\tvalidation_0-rmse:0.175724\tvalidation_1-rmse:0.184453\tvalidation_0-rmspe:0.224832\tvalidation_1-rmspe:0.17574\n",
      "[96]\tvalidation_0-rmse:0.174674\tvalidation_1-rmse:0.183448\tvalidation_0-rmspe:0.223937\tvalidation_1-rmspe:0.174649\n",
      "[97]\tvalidation_0-rmse:0.173129\tvalidation_1-rmse:0.182039\tvalidation_0-rmspe:0.222291\tvalidation_1-rmspe:0.172961\n",
      "[98]\tvalidation_0-rmse:0.171873\tvalidation_1-rmse:0.180893\tvalidation_0-rmspe:0.221104\tvalidation_1-rmspe:0.17156\n",
      "[99]\tvalidation_0-rmse:0.17176\tvalidation_1-rmse:0.180784\tvalidation_0-rmspe:0.221024\tvalidation_1-rmspe:0.171415\n",
      "[100]\tvalidation_0-rmse:0.171595\tvalidation_1-rmse:0.18064\tvalidation_0-rmspe:0.220794\tvalidation_1-rmspe:0.171202\n",
      "[101]\tvalidation_0-rmse:0.171452\tvalidation_1-rmse:0.180558\tvalidation_0-rmspe:0.220706\tvalidation_1-rmspe:0.171091\n",
      "[102]\tvalidation_0-rmse:0.171183\tvalidation_1-rmse:0.180291\tvalidation_0-rmspe:0.220399\tvalidation_1-rmspe:0.170753\n",
      "[103]\tvalidation_0-rmse:0.169856\tvalidation_1-rmse:0.179027\tvalidation_0-rmspe:0.21926\tvalidation_1-rmspe:0.169242\n",
      "[104]\tvalidation_0-rmse:0.168966\tvalidation_1-rmse:0.178165\tvalidation_0-rmspe:0.218496\tvalidation_1-rmspe:0.168197\n",
      "[105]\tvalidation_0-rmse:0.167959\tvalidation_1-rmse:0.177161\tvalidation_0-rmspe:0.217622\tvalidation_1-rmspe:0.167021\n",
      "[106]\tvalidation_0-rmse:0.167244\tvalidation_1-rmse:0.176453\tvalidation_0-rmspe:0.217081\tvalidation_1-rmspe:0.166166\n",
      "[107]\tvalidation_0-rmse:0.166973\tvalidation_1-rmse:0.176219\tvalidation_0-rmspe:0.216643\tvalidation_1-rmspe:0.165858\n",
      "[108]\tvalidation_0-rmse:0.166641\tvalidation_1-rmse:0.175918\tvalidation_0-rmspe:0.216406\tvalidation_1-rmspe:0.165508\n",
      "[109]\tvalidation_0-rmse:0.165566\tvalidation_1-rmse:0.174876\tvalidation_0-rmspe:0.215575\tvalidation_1-rmspe:0.164328\n",
      "[110]\tvalidation_0-rmse:0.165209\tvalidation_1-rmse:0.174575\tvalidation_0-rmspe:0.215075\tvalidation_1-rmspe:0.163955\n",
      "[111]\tvalidation_0-rmse:0.165028\tvalidation_1-rmse:0.174402\tvalidation_0-rmspe:0.214902\tvalidation_1-rmspe:0.163733\n",
      "[112]\tvalidation_0-rmse:0.16455\tvalidation_1-rmse:0.173916\tvalidation_0-rmspe:0.214903\tvalidation_1-rmspe:0.163147\n",
      "[113]\tvalidation_0-rmse:0.164346\tvalidation_1-rmse:0.173763\tvalidation_0-rmspe:0.214693\tvalidation_1-rmspe:0.162987\n",
      "[114]\tvalidation_0-rmse:0.164074\tvalidation_1-rmse:0.173603\tvalidation_0-rmspe:0.214469\tvalidation_1-rmspe:0.162786\n",
      "[115]\tvalidation_0-rmse:0.163659\tvalidation_1-rmse:0.173302\tvalidation_0-rmspe:0.214025\tvalidation_1-rmspe:0.162439\n",
      "[116]\tvalidation_0-rmse:0.163481\tvalidation_1-rmse:0.173185\tvalidation_0-rmspe:0.213898\tvalidation_1-rmspe:0.162288\n",
      "[117]\tvalidation_0-rmse:0.163151\tvalidation_1-rmse:0.172878\tvalidation_0-rmspe:0.213605\tvalidation_1-rmspe:0.161929\n",
      "[118]\tvalidation_0-rmse:0.162111\tvalidation_1-rmse:0.172017\tvalidation_0-rmspe:0.212102\tvalidation_1-rmspe:0.160861\n",
      "[119]\tvalidation_0-rmse:0.161359\tvalidation_1-rmse:0.171403\tvalidation_0-rmspe:0.211119\tvalidation_1-rmspe:0.160155\n",
      "[120]\tvalidation_0-rmse:0.160548\tvalidation_1-rmse:0.170734\tvalidation_0-rmspe:0.210283\tvalidation_1-rmspe:0.159384\n",
      "[121]\tvalidation_0-rmse:0.159939\tvalidation_1-rmse:0.170226\tvalidation_0-rmspe:0.209357\tvalidation_1-rmspe:0.158786\n",
      "[122]\tvalidation_0-rmse:0.159277\tvalidation_1-rmse:0.169647\tvalidation_0-rmspe:0.208701\tvalidation_1-rmspe:0.158073\n",
      "[123]\tvalidation_0-rmse:0.158971\tvalidation_1-rmse:0.169361\tvalidation_0-rmspe:0.208442\tvalidation_1-rmspe:0.157728\n",
      "[124]\tvalidation_0-rmse:0.158861\tvalidation_1-rmse:0.16923\tvalidation_0-rmspe:0.208268\tvalidation_1-rmspe:0.157574\n",
      "[125]\tvalidation_0-rmse:0.158175\tvalidation_1-rmse:0.168636\tvalidation_0-rmspe:0.207585\tvalidation_1-rmspe:0.156851\n",
      "[126]\tvalidation_0-rmse:0.158008\tvalidation_1-rmse:0.168479\tvalidation_0-rmspe:0.20734\tvalidation_1-rmspe:0.156703\n",
      "[127]\tvalidation_0-rmse:0.157838\tvalidation_1-rmse:0.168316\tvalidation_0-rmspe:0.207122\tvalidation_1-rmspe:0.156521\n",
      "[128]\tvalidation_0-rmse:0.157196\tvalidation_1-rmse:0.167723\tvalidation_0-rmspe:0.206574\tvalidation_1-rmspe:0.155861\n",
      "[129]\tvalidation_0-rmse:0.157083\tvalidation_1-rmse:0.167627\tvalidation_0-rmspe:0.206459\tvalidation_1-rmspe:0.155759\n",
      "[130]\tvalidation_0-rmse:0.15609\tvalidation_1-rmse:0.166732\tvalidation_0-rmspe:0.205574\tvalidation_1-rmspe:0.154681\n",
      "[131]\tvalidation_0-rmse:0.155173\tvalidation_1-rmse:0.165925\tvalidation_0-rmspe:0.204752\tvalidation_1-rmspe:0.153699\n",
      "[132]\tvalidation_0-rmse:0.155101\tvalidation_1-rmse:0.165851\tvalidation_0-rmspe:0.204688\tvalidation_1-rmspe:0.153615\n",
      "[133]\tvalidation_0-rmse:0.154522\tvalidation_1-rmse:0.165267\tvalidation_0-rmspe:0.204203\tvalidation_1-rmspe:0.152931\n",
      "[134]\tvalidation_0-rmse:0.15413\tvalidation_1-rmse:0.164923\tvalidation_0-rmspe:0.203828\tvalidation_1-rmspe:0.152468\n",
      "[135]\tvalidation_0-rmse:0.153955\tvalidation_1-rmse:0.164835\tvalidation_0-rmspe:0.203781\tvalidation_1-rmspe:0.152388\n",
      "[136]\tvalidation_0-rmse:0.153504\tvalidation_1-rmse:0.164414\tvalidation_0-rmspe:0.203388\tvalidation_1-rmspe:0.151961\n",
      "[137]\tvalidation_0-rmse:0.153463\tvalidation_1-rmse:0.164366\tvalidation_0-rmspe:0.20337\tvalidation_1-rmspe:0.151896\n",
      "[138]\tvalidation_0-rmse:0.153237\tvalidation_1-rmse:0.164137\tvalidation_0-rmspe:0.203115\tvalidation_1-rmspe:0.151591\n",
      "[139]\tvalidation_0-rmse:0.152739\tvalidation_1-rmse:0.163755\tvalidation_0-rmspe:0.202664\tvalidation_1-rmspe:0.151087\n",
      "[140]\tvalidation_0-rmse:0.152661\tvalidation_1-rmse:0.163673\tvalidation_0-rmspe:0.202557\tvalidation_1-rmspe:0.150976\n",
      "[141]\tvalidation_0-rmse:0.152394\tvalidation_1-rmse:0.163473\tvalidation_0-rmspe:0.202465\tvalidation_1-rmspe:0.150728\n",
      "[142]\tvalidation_0-rmse:0.151738\tvalidation_1-rmse:0.162899\tvalidation_0-rmspe:0.201928\tvalidation_1-rmspe:0.150021\n"
     ]
    },
    {
     "name": "stdout",
     "output_type": "stream",
     "text": [
      "[143]\tvalidation_0-rmse:0.151236\tvalidation_1-rmse:0.162486\tvalidation_0-rmspe:0.201514\tvalidation_1-rmspe:0.149526\n",
      "[144]\tvalidation_0-rmse:0.15106\tvalidation_1-rmse:0.162401\tvalidation_0-rmspe:0.201423\tvalidation_1-rmspe:0.149457\n",
      "[145]\tvalidation_0-rmse:0.15045\tvalidation_1-rmse:0.161905\tvalidation_0-rmspe:0.200908\tvalidation_1-rmspe:0.148883\n",
      "[146]\tvalidation_0-rmse:0.149903\tvalidation_1-rmse:0.161356\tvalidation_0-rmspe:0.200386\tvalidation_1-rmspe:0.148219\n",
      "[147]\tvalidation_0-rmse:0.149444\tvalidation_1-rmse:0.161016\tvalidation_0-rmspe:0.199804\tvalidation_1-rmspe:0.147831\n",
      "[148]\tvalidation_0-rmse:0.149252\tvalidation_1-rmse:0.1609\tvalidation_0-rmspe:0.1997\tvalidation_1-rmspe:0.147723\n",
      "[149]\tvalidation_0-rmse:0.149016\tvalidation_1-rmse:0.160649\tvalidation_0-rmspe:0.19948\tvalidation_1-rmspe:0.14739\n",
      "[150]\tvalidation_0-rmse:0.148834\tvalidation_1-rmse:0.160526\tvalidation_0-rmspe:0.199279\tvalidation_1-rmspe:0.147253\n",
      "[151]\tvalidation_0-rmse:0.148512\tvalidation_1-rmse:0.160222\tvalidation_0-rmspe:0.198922\tvalidation_1-rmspe:0.146895\n",
      "[152]\tvalidation_0-rmse:0.148343\tvalidation_1-rmse:0.160114\tvalidation_0-rmspe:0.198922\tvalidation_1-rmspe:0.146738\n",
      "[153]\tvalidation_0-rmse:0.148244\tvalidation_1-rmse:0.160057\tvalidation_0-rmspe:0.198886\tvalidation_1-rmspe:0.146678\n",
      "[154]\tvalidation_0-rmse:0.147936\tvalidation_1-rmse:0.159811\tvalidation_0-rmspe:0.198559\tvalidation_1-rmspe:0.146384\n",
      "[155]\tvalidation_0-rmse:0.147879\tvalidation_1-rmse:0.159751\tvalidation_0-rmspe:0.198471\tvalidation_1-rmspe:0.146302\n",
      "[156]\tvalidation_0-rmse:0.147731\tvalidation_1-rmse:0.159623\tvalidation_0-rmspe:0.198307\tvalidation_1-rmspe:0.146147\n",
      "[157]\tvalidation_0-rmse:0.147285\tvalidation_1-rmse:0.159258\tvalidation_0-rmspe:0.197941\tvalidation_1-rmspe:0.14565\n",
      "[158]\tvalidation_0-rmse:0.147182\tvalidation_1-rmse:0.159229\tvalidation_0-rmspe:0.197061\tvalidation_1-rmspe:0.145613\n",
      "[159]\tvalidation_0-rmse:0.147108\tvalidation_1-rmse:0.159194\tvalidation_0-rmspe:0.197002\tvalidation_1-rmspe:0.145574\n",
      "[160]\tvalidation_0-rmse:0.146816\tvalidation_1-rmse:0.158933\tvalidation_0-rmspe:0.196772\tvalidation_1-rmspe:0.145278\n",
      "[161]\tvalidation_0-rmse:0.14641\tvalidation_1-rmse:0.158549\tvalidation_0-rmspe:0.196464\tvalidation_1-rmspe:0.144905\n",
      "[162]\tvalidation_0-rmse:0.14628\tvalidation_1-rmse:0.158459\tvalidation_0-rmspe:0.196463\tvalidation_1-rmspe:0.144789\n",
      "[163]\tvalidation_0-rmse:0.145931\tvalidation_1-rmse:0.158165\tvalidation_0-rmspe:0.196214\tvalidation_1-rmspe:0.144418\n",
      "[164]\tvalidation_0-rmse:0.145655\tvalidation_1-rmse:0.157927\tvalidation_0-rmspe:0.195955\tvalidation_1-rmspe:0.144147\n",
      "[165]\tvalidation_0-rmse:0.144874\tvalidation_1-rmse:0.157252\tvalidation_0-rmspe:0.195347\tvalidation_1-rmspe:0.143332\n",
      "[166]\tvalidation_0-rmse:0.144634\tvalidation_1-rmse:0.157013\tvalidation_0-rmspe:0.195153\tvalidation_1-rmspe:0.143036\n",
      "[167]\tvalidation_0-rmse:0.144437\tvalidation_1-rmse:0.156855\tvalidation_0-rmspe:0.195101\tvalidation_1-rmspe:0.142864\n",
      "[168]\tvalidation_0-rmse:0.14425\tvalidation_1-rmse:0.156772\tvalidation_0-rmspe:0.195003\tvalidation_1-rmspe:0.142765\n",
      "[169]\tvalidation_0-rmse:0.14411\tvalidation_1-rmse:0.156666\tvalidation_0-rmspe:0.194873\tvalidation_1-rmspe:0.142628\n",
      "[170]\tvalidation_0-rmse:0.143668\tvalidation_1-rmse:0.156206\tvalidation_0-rmspe:0.194236\tvalidation_1-rmspe:0.142072\n",
      "[171]\tvalidation_0-rmse:0.143433\tvalidation_1-rmse:0.156005\tvalidation_0-rmspe:0.194125\tvalidation_1-rmspe:0.14181\n",
      "[172]\tvalidation_0-rmse:0.143356\tvalidation_1-rmse:0.155951\tvalidation_0-rmspe:0.194042\tvalidation_1-rmspe:0.141738\n",
      "[173]\tvalidation_0-rmse:0.14326\tvalidation_1-rmse:0.155867\tvalidation_0-rmspe:0.193961\tvalidation_1-rmspe:0.141636\n",
      "[174]\tvalidation_0-rmse:0.143075\tvalidation_1-rmse:0.15574\tvalidation_0-rmspe:0.193675\tvalidation_1-rmspe:0.141472\n",
      "[175]\tvalidation_0-rmse:0.142908\tvalidation_1-rmse:0.155633\tvalidation_0-rmspe:0.192527\tvalidation_1-rmspe:0.14126\n",
      "[176]\tvalidation_0-rmse:0.142694\tvalidation_1-rmse:0.15547\tvalidation_0-rmspe:0.19235\tvalidation_1-rmspe:0.141071\n",
      "[177]\tvalidation_0-rmse:0.142573\tvalidation_1-rmse:0.155349\tvalidation_0-rmspe:0.192218\tvalidation_1-rmspe:0.14091\n",
      "[178]\tvalidation_0-rmse:0.142239\tvalidation_1-rmse:0.155094\tvalidation_0-rmspe:0.19207\tvalidation_1-rmspe:0.140582\n",
      "[179]\tvalidation_0-rmse:0.141809\tvalidation_1-rmse:0.154707\tvalidation_0-rmspe:0.191725\tvalidation_1-rmspe:0.140156\n",
      "[180]\tvalidation_0-rmse:0.141527\tvalidation_1-rmse:0.154472\tvalidation_0-rmspe:0.1915\tvalidation_1-rmspe:0.139878\n",
      "[181]\tvalidation_0-rmse:0.141242\tvalidation_1-rmse:0.154251\tvalidation_0-rmspe:0.191203\tvalidation_1-rmspe:0.139621\n",
      "[182]\tvalidation_0-rmse:0.140778\tvalidation_1-rmse:0.153852\tvalidation_0-rmspe:0.190869\tvalidation_1-rmspe:0.139156\n",
      "[183]\tvalidation_0-rmse:0.140301\tvalidation_1-rmse:0.153386\tvalidation_0-rmspe:0.190045\tvalidation_1-rmspe:0.138468\n",
      "[184]\tvalidation_0-rmse:0.140172\tvalidation_1-rmse:0.153313\tvalidation_0-rmspe:0.189943\tvalidation_1-rmspe:0.138247\n",
      "[185]\tvalidation_0-rmse:0.140008\tvalidation_1-rmse:0.153184\tvalidation_0-rmspe:0.189826\tvalidation_1-rmspe:0.138155\n",
      "[186]\tvalidation_0-rmse:0.1397\tvalidation_1-rmse:0.153026\tvalidation_0-rmspe:0.189585\tvalidation_1-rmspe:0.137957\n",
      "[187]\tvalidation_0-rmse:0.139485\tvalidation_1-rmse:0.152885\tvalidation_0-rmspe:0.189356\tvalidation_1-rmspe:0.137785\n",
      "[188]\tvalidation_0-rmse:0.139285\tvalidation_1-rmse:0.152722\tvalidation_0-rmspe:0.189211\tvalidation_1-rmspe:0.137623\n",
      "[189]\tvalidation_0-rmse:0.139207\tvalidation_1-rmse:0.152669\tvalidation_0-rmspe:0.189131\tvalidation_1-rmspe:0.137569\n",
      "[190]\tvalidation_0-rmse:0.139096\tvalidation_1-rmse:0.152627\tvalidation_0-rmspe:0.189109\tvalidation_1-rmspe:0.137539\n",
      "[191]\tvalidation_0-rmse:0.138846\tvalidation_1-rmse:0.152426\tvalidation_0-rmspe:0.188778\tvalidation_1-rmspe:0.137289\n",
      "[192]\tvalidation_0-rmse:0.138647\tvalidation_1-rmse:0.152252\tvalidation_0-rmspe:0.18859\tvalidation_1-rmspe:0.13709\n",
      "[193]\tvalidation_0-rmse:0.13848\tvalidation_1-rmse:0.152153\tvalidation_0-rmspe:0.18849\tvalidation_1-rmspe:0.136948\n",
      "[194]\tvalidation_0-rmse:0.138406\tvalidation_1-rmse:0.152078\tvalidation_0-rmspe:0.184129\tvalidation_1-rmspe:0.136882\n",
      "[195]\tvalidation_0-rmse:0.138145\tvalidation_1-rmse:0.151873\tvalidation_0-rmspe:0.183973\tvalidation_1-rmspe:0.13664\n",
      "[196]\tvalidation_0-rmse:0.137925\tvalidation_1-rmse:0.151732\tvalidation_0-rmspe:0.183541\tvalidation_1-rmspe:0.136459\n",
      "[197]\tvalidation_0-rmse:0.137828\tvalidation_1-rmse:0.151678\tvalidation_0-rmspe:0.183484\tvalidation_1-rmspe:0.136406\n",
      "[198]\tvalidation_0-rmse:0.137716\tvalidation_1-rmse:0.151634\tvalidation_0-rmspe:0.183443\tvalidation_1-rmspe:0.136366\n",
      "[199]\tvalidation_0-rmse:0.137471\tvalidation_1-rmse:0.151428\tvalidation_0-rmspe:0.182961\tvalidation_1-rmspe:0.136097\n",
      "[200]\tvalidation_0-rmse:0.137433\tvalidation_1-rmse:0.151376\tvalidation_0-rmspe:0.183076\tvalidation_1-rmspe:0.136036\n",
      "[201]\tvalidation_0-rmse:0.137236\tvalidation_1-rmse:0.151202\tvalidation_0-rmspe:0.182861\tvalidation_1-rmspe:0.135828\n",
      "[202]\tvalidation_0-rmse:0.136932\tvalidation_1-rmse:0.150942\tvalidation_0-rmspe:0.182756\tvalidation_1-rmspe:0.135531\n",
      "[203]\tvalidation_0-rmse:0.136853\tvalidation_1-rmse:0.150872\tvalidation_0-rmspe:0.182539\tvalidation_1-rmspe:0.135464\n",
      "[204]\tvalidation_0-rmse:0.136786\tvalidation_1-rmse:0.150822\tvalidation_0-rmspe:0.18245\tvalidation_1-rmspe:0.135385\n",
      "[205]\tvalidation_0-rmse:0.136659\tvalidation_1-rmse:0.150707\tvalidation_0-rmspe:0.182265\tvalidation_1-rmspe:0.135181\n",
      "[206]\tvalidation_0-rmse:0.136427\tvalidation_1-rmse:0.150492\tvalidation_0-rmspe:0.182062\tvalidation_1-rmspe:0.13492\n",
      "[207]\tvalidation_0-rmse:0.136326\tvalidation_1-rmse:0.150408\tvalidation_0-rmspe:0.181994\tvalidation_1-rmspe:0.134768\n",
      "[208]\tvalidation_0-rmse:0.136064\tvalidation_1-rmse:0.150177\tvalidation_0-rmspe:0.181773\tvalidation_1-rmspe:0.134498\n",
      "[209]\tvalidation_0-rmse:0.13597\tvalidation_1-rmse:0.150137\tvalidation_0-rmspe:0.181752\tvalidation_1-rmspe:0.134459\n",
      "[210]\tvalidation_0-rmse:0.135776\tvalidation_1-rmse:0.150001\tvalidation_0-rmspe:0.181626\tvalidation_1-rmspe:0.134302\n",
      "[211]\tvalidation_0-rmse:0.135572\tvalidation_1-rmse:0.149826\tvalidation_0-rmspe:0.18144\tvalidation_1-rmspe:0.13411\n",
      "[212]\tvalidation_0-rmse:0.135338\tvalidation_1-rmse:0.149664\tvalidation_0-rmspe:0.181184\tvalidation_1-rmspe:0.133879\n",
      "[213]\tvalidation_0-rmse:0.135252\tvalidation_1-rmse:0.14959\tvalidation_0-rmspe:0.181205\tvalidation_1-rmspe:0.133775\n"
     ]
    },
    {
     "name": "stdout",
     "output_type": "stream",
     "text": [
      "[214]\tvalidation_0-rmse:0.135181\tvalidation_1-rmse:0.149563\tvalidation_0-rmspe:0.181159\tvalidation_1-rmspe:0.133732\n",
      "[215]\tvalidation_0-rmse:0.134987\tvalidation_1-rmse:0.149424\tvalidation_0-rmspe:0.180778\tvalidation_1-rmspe:0.133571\n",
      "[216]\tvalidation_0-rmse:0.134884\tvalidation_1-rmse:0.149338\tvalidation_0-rmspe:0.180678\tvalidation_1-rmspe:0.133462\n",
      "[217]\tvalidation_0-rmse:0.13467\tvalidation_1-rmse:0.149177\tvalidation_0-rmspe:0.18038\tvalidation_1-rmspe:0.133234\n",
      "[218]\tvalidation_0-rmse:0.134571\tvalidation_1-rmse:0.149079\tvalidation_0-rmspe:0.180277\tvalidation_1-rmspe:0.133132\n",
      "[219]\tvalidation_0-rmse:0.134525\tvalidation_1-rmse:0.149062\tvalidation_0-rmspe:0.180249\tvalidation_1-rmspe:0.133126\n",
      "[220]\tvalidation_0-rmse:0.134392\tvalidation_1-rmse:0.148965\tvalidation_0-rmspe:0.180132\tvalidation_1-rmspe:0.133058\n",
      "[221]\tvalidation_0-rmse:0.134314\tvalidation_1-rmse:0.148911\tvalidation_0-rmspe:0.18012\tvalidation_1-rmspe:0.132992\n",
      "[222]\tvalidation_0-rmse:0.133969\tvalidation_1-rmse:0.148628\tvalidation_0-rmspe:0.179847\tvalidation_1-rmspe:0.132612\n",
      "[223]\tvalidation_0-rmse:0.133915\tvalidation_1-rmse:0.148584\tvalidation_0-rmspe:0.179783\tvalidation_1-rmspe:0.132556\n",
      "[224]\tvalidation_0-rmse:0.133817\tvalidation_1-rmse:0.148478\tvalidation_0-rmspe:0.179681\tvalidation_1-rmspe:0.132425\n",
      "[225]\tvalidation_0-rmse:0.133416\tvalidation_1-rmse:0.148188\tvalidation_0-rmspe:0.179336\tvalidation_1-rmspe:0.132054\n",
      "[226]\tvalidation_0-rmse:0.133295\tvalidation_1-rmse:0.148097\tvalidation_0-rmspe:0.179233\tvalidation_1-rmspe:0.13195\n",
      "[227]\tvalidation_0-rmse:0.133183\tvalidation_1-rmse:0.148009\tvalidation_0-rmspe:0.17943\tvalidation_1-rmspe:0.131827\n",
      "[228]\tvalidation_0-rmse:0.133144\tvalidation_1-rmse:0.147954\tvalidation_0-rmspe:0.179461\tvalidation_1-rmspe:0.131771\n",
      "[229]\tvalidation_0-rmse:0.133009\tvalidation_1-rmse:0.147816\tvalidation_0-rmspe:0.179325\tvalidation_1-rmspe:0.131559\n",
      "[230]\tvalidation_0-rmse:0.132956\tvalidation_1-rmse:0.147767\tvalidation_0-rmspe:0.179283\tvalidation_1-rmspe:0.131495\n",
      "[231]\tvalidation_0-rmse:0.132888\tvalidation_1-rmse:0.147742\tvalidation_0-rmspe:0.179196\tvalidation_1-rmspe:0.131447\n",
      "[232]\tvalidation_0-rmse:0.132769\tvalidation_1-rmse:0.147644\tvalidation_0-rmspe:0.17903\tvalidation_1-rmspe:0.131331\n",
      "[233]\tvalidation_0-rmse:0.132564\tvalidation_1-rmse:0.147471\tvalidation_0-rmspe:0.178872\tvalidation_1-rmspe:0.131089\n",
      "[234]\tvalidation_0-rmse:0.132429\tvalidation_1-rmse:0.147336\tvalidation_0-rmspe:0.178764\tvalidation_1-rmspe:0.130911\n",
      "[235]\tvalidation_0-rmse:0.132299\tvalidation_1-rmse:0.147246\tvalidation_0-rmspe:0.178524\tvalidation_1-rmspe:0.13079\n",
      "[236]\tvalidation_0-rmse:0.132233\tvalidation_1-rmse:0.147192\tvalidation_0-rmspe:0.178467\tvalidation_1-rmspe:0.130713\n",
      "[237]\tvalidation_0-rmse:0.132118\tvalidation_1-rmse:0.147125\tvalidation_0-rmspe:0.178439\tvalidation_1-rmspe:0.130618\n",
      "[238]\tvalidation_0-rmse:0.132071\tvalidation_1-rmse:0.14708\tvalidation_0-rmspe:0.178389\tvalidation_1-rmspe:0.130555\n",
      "[239]\tvalidation_0-rmse:0.131745\tvalidation_1-rmse:0.14677\tvalidation_0-rmspe:0.178129\tvalidation_1-rmspe:0.130207\n",
      "[240]\tvalidation_0-rmse:0.131505\tvalidation_1-rmse:0.146536\tvalidation_0-rmspe:0.177925\tvalidation_1-rmspe:0.129944\n",
      "[241]\tvalidation_0-rmse:0.13144\tvalidation_1-rmse:0.146507\tvalidation_0-rmspe:0.17793\tvalidation_1-rmspe:0.129906\n",
      "[242]\tvalidation_0-rmse:0.131374\tvalidation_1-rmse:0.14646\tvalidation_0-rmspe:0.177865\tvalidation_1-rmspe:0.129853\n",
      "[243]\tvalidation_0-rmse:0.131285\tvalidation_1-rmse:0.146424\tvalidation_0-rmspe:0.177808\tvalidation_1-rmspe:0.129785\n",
      "[244]\tvalidation_0-rmse:0.131171\tvalidation_1-rmse:0.146278\tvalidation_0-rmspe:0.177712\tvalidation_1-rmspe:0.129596\n",
      "[245]\tvalidation_0-rmse:0.131015\tvalidation_1-rmse:0.146232\tvalidation_0-rmspe:0.177609\tvalidation_1-rmspe:0.129541\n",
      "[246]\tvalidation_0-rmse:0.130952\tvalidation_1-rmse:0.14619\tvalidation_0-rmspe:0.17756\tvalidation_1-rmspe:0.129499\n",
      "[247]\tvalidation_0-rmse:0.13085\tvalidation_1-rmse:0.146124\tvalidation_0-rmspe:0.177472\tvalidation_1-rmspe:0.129406\n",
      "[248]\tvalidation_0-rmse:0.130683\tvalidation_1-rmse:0.145999\tvalidation_0-rmspe:0.177159\tvalidation_1-rmspe:0.129277\n",
      "[249]\tvalidation_0-rmse:0.130637\tvalidation_1-rmse:0.145977\tvalidation_0-rmspe:0.177129\tvalidation_1-rmspe:0.129257\n",
      "[250]\tvalidation_0-rmse:0.130541\tvalidation_1-rmse:0.145894\tvalidation_0-rmspe:0.176958\tvalidation_1-rmspe:0.129151\n",
      "[251]\tvalidation_0-rmse:0.130461\tvalidation_1-rmse:0.145784\tvalidation_0-rmspe:0.176852\tvalidation_1-rmspe:0.128972\n",
      "[252]\tvalidation_0-rmse:0.130208\tvalidation_1-rmse:0.145531\tvalidation_0-rmspe:0.176648\tvalidation_1-rmspe:0.12866\n",
      "[253]\tvalidation_0-rmse:0.130177\tvalidation_1-rmse:0.145519\tvalidation_0-rmspe:0.1766\tvalidation_1-rmspe:0.128667\n",
      "[254]\tvalidation_0-rmse:0.129975\tvalidation_1-rmse:0.145367\tvalidation_0-rmspe:0.176439\tvalidation_1-rmspe:0.128482\n",
      "[255]\tvalidation_0-rmse:0.129878\tvalidation_1-rmse:0.145322\tvalidation_0-rmspe:0.171779\tvalidation_1-rmspe:0.128424\n",
      "[256]\tvalidation_0-rmse:0.129578\tvalidation_1-rmse:0.145028\tvalidation_0-rmspe:0.171494\tvalidation_1-rmspe:0.127986\n",
      "[257]\tvalidation_0-rmse:0.129405\tvalidation_1-rmse:0.144891\tvalidation_0-rmspe:0.171364\tvalidation_1-rmspe:0.127834\n",
      "[258]\tvalidation_0-rmse:0.129361\tvalidation_1-rmse:0.144863\tvalidation_0-rmspe:0.171317\tvalidation_1-rmspe:0.12779\n",
      "[259]\tvalidation_0-rmse:0.129299\tvalidation_1-rmse:0.144847\tvalidation_0-rmspe:0.171263\tvalidation_1-rmspe:0.12777\n",
      "[260]\tvalidation_0-rmse:0.129251\tvalidation_1-rmse:0.144811\tvalidation_0-rmspe:0.171211\tvalidation_1-rmspe:0.127728\n",
      "[261]\tvalidation_0-rmse:0.129174\tvalidation_1-rmse:0.144745\tvalidation_0-rmspe:0.171141\tvalidation_1-rmspe:0.127654\n",
      "[262]\tvalidation_0-rmse:0.129097\tvalidation_1-rmse:0.144695\tvalidation_0-rmspe:0.170994\tvalidation_1-rmspe:0.127582\n",
      "[263]\tvalidation_0-rmse:0.128985\tvalidation_1-rmse:0.144602\tvalidation_0-rmspe:0.170895\tvalidation_1-rmspe:0.127452\n",
      "[264]\tvalidation_0-rmse:0.128939\tvalidation_1-rmse:0.144553\tvalidation_0-rmspe:0.170726\tvalidation_1-rmspe:0.127384\n",
      "[265]\tvalidation_0-rmse:0.128906\tvalidation_1-rmse:0.144533\tvalidation_0-rmspe:0.17073\tvalidation_1-rmspe:0.127356\n",
      "[266]\tvalidation_0-rmse:0.128702\tvalidation_1-rmse:0.144353\tvalidation_0-rmspe:0.170603\tvalidation_1-rmspe:0.127109\n",
      "[267]\tvalidation_0-rmse:0.128657\tvalidation_1-rmse:0.144309\tvalidation_0-rmspe:0.17055\tvalidation_1-rmspe:0.127058\n",
      "[268]\tvalidation_0-rmse:0.128601\tvalidation_1-rmse:0.144263\tvalidation_0-rmspe:0.170506\tvalidation_1-rmspe:0.127004\n",
      "[269]\tvalidation_0-rmse:0.128483\tvalidation_1-rmse:0.14418\tvalidation_0-rmspe:0.170414\tvalidation_1-rmspe:0.126892\n",
      "[270]\tvalidation_0-rmse:0.128407\tvalidation_1-rmse:0.144138\tvalidation_0-rmspe:0.170345\tvalidation_1-rmspe:0.12689\n",
      "[271]\tvalidation_0-rmse:0.128267\tvalidation_1-rmse:0.144008\tvalidation_0-rmspe:0.17023\tvalidation_1-rmspe:0.126714\n",
      "[272]\tvalidation_0-rmse:0.128216\tvalidation_1-rmse:0.14395\tvalidation_0-rmspe:0.17019\tvalidation_1-rmspe:0.126657\n",
      "[273]\tvalidation_0-rmse:0.128199\tvalidation_1-rmse:0.143932\tvalidation_0-rmspe:0.170175\tvalidation_1-rmspe:0.126633\n",
      "[274]\tvalidation_0-rmse:0.12814\tvalidation_1-rmse:0.143878\tvalidation_0-rmspe:0.170104\tvalidation_1-rmspe:0.126553\n",
      "[275]\tvalidation_0-rmse:0.128128\tvalidation_1-rmse:0.14386\tvalidation_0-rmspe:0.170093\tvalidation_1-rmspe:0.126528\n",
      "[276]\tvalidation_0-rmse:0.128064\tvalidation_1-rmse:0.143801\tvalidation_0-rmspe:0.170044\tvalidation_1-rmspe:0.126439\n",
      "[277]\tvalidation_0-rmse:0.127839\tvalidation_1-rmse:0.143565\tvalidation_0-rmspe:0.169878\tvalidation_1-rmspe:0.126205\n",
      "[278]\tvalidation_0-rmse:0.127742\tvalidation_1-rmse:0.143464\tvalidation_0-rmspe:0.169799\tvalidation_1-rmspe:0.126056\n",
      "[279]\tvalidation_0-rmse:0.127688\tvalidation_1-rmse:0.143441\tvalidation_0-rmspe:0.169746\tvalidation_1-rmspe:0.126017\n",
      "[280]\tvalidation_0-rmse:0.127617\tvalidation_1-rmse:0.143399\tvalidation_0-rmspe:0.1697\tvalidation_1-rmspe:0.125969\n",
      "[281]\tvalidation_0-rmse:0.127432\tvalidation_1-rmse:0.143238\tvalidation_0-rmspe:0.169557\tvalidation_1-rmspe:0.125747\n",
      "[282]\tvalidation_0-rmse:0.127403\tvalidation_1-rmse:0.143216\tvalidation_0-rmspe:0.169535\tvalidation_1-rmspe:0.125732\n",
      "[283]\tvalidation_0-rmse:0.127353\tvalidation_1-rmse:0.143187\tvalidation_0-rmspe:0.169464\tvalidation_1-rmspe:0.125703\n",
      "[284]\tvalidation_0-rmse:0.12728\tvalidation_1-rmse:0.143111\tvalidation_0-rmspe:0.169391\tvalidation_1-rmspe:0.125614\n"
     ]
    },
    {
     "name": "stdout",
     "output_type": "stream",
     "text": [
      "[285]\tvalidation_0-rmse:0.127205\tvalidation_1-rmse:0.143072\tvalidation_0-rmspe:0.169313\tvalidation_1-rmspe:0.125583\n",
      "[286]\tvalidation_0-rmse:0.127136\tvalidation_1-rmse:0.143041\tvalidation_0-rmspe:0.16921\tvalidation_1-rmspe:0.125531\n",
      "[287]\tvalidation_0-rmse:0.127133\tvalidation_1-rmse:0.143039\tvalidation_0-rmspe:0.169211\tvalidation_1-rmspe:0.125531\n",
      "[288]\tvalidation_0-rmse:0.127096\tvalidation_1-rmse:0.143005\tvalidation_0-rmspe:0.169075\tvalidation_1-rmspe:0.125488\n",
      "[289]\tvalidation_0-rmse:0.127036\tvalidation_1-rmse:0.142933\tvalidation_0-rmspe:0.169029\tvalidation_1-rmspe:0.125391\n",
      "[290]\tvalidation_0-rmse:0.127032\tvalidation_1-rmse:0.142932\tvalidation_0-rmspe:0.169028\tvalidation_1-rmspe:0.12539\n",
      "[291]\tvalidation_0-rmse:0.126925\tvalidation_1-rmse:0.142888\tvalidation_0-rmspe:0.168959\tvalidation_1-rmspe:0.125334\n",
      "[292]\tvalidation_0-rmse:0.126879\tvalidation_1-rmse:0.142873\tvalidation_0-rmspe:0.168901\tvalidation_1-rmspe:0.125305\n",
      "[293]\tvalidation_0-rmse:0.126697\tvalidation_1-rmse:0.142708\tvalidation_0-rmspe:0.16874\tvalidation_1-rmspe:0.125112\n",
      "[294]\tvalidation_0-rmse:0.12659\tvalidation_1-rmse:0.142629\tvalidation_0-rmspe:0.168568\tvalidation_1-rmspe:0.125049\n",
      "[295]\tvalidation_0-rmse:0.126559\tvalidation_1-rmse:0.142627\tvalidation_0-rmspe:0.168481\tvalidation_1-rmspe:0.125035\n",
      "[296]\tvalidation_0-rmse:0.126539\tvalidation_1-rmse:0.142617\tvalidation_0-rmspe:0.168458\tvalidation_1-rmspe:0.125022\n",
      "[297]\tvalidation_0-rmse:0.126412\tvalidation_1-rmse:0.142519\tvalidation_0-rmspe:0.168346\tvalidation_1-rmspe:0.12494\n",
      "[298]\tvalidation_0-rmse:0.126371\tvalidation_1-rmse:0.142489\tvalidation_0-rmspe:0.168318\tvalidation_1-rmspe:0.124932\n",
      "[299]\tvalidation_0-rmse:0.126266\tvalidation_1-rmse:0.142429\tvalidation_0-rmspe:0.168129\tvalidation_1-rmspe:0.124798\n",
      "[300]\tvalidation_0-rmse:0.126241\tvalidation_1-rmse:0.142378\tvalidation_0-rmspe:0.168106\tvalidation_1-rmspe:0.124656\n",
      "[301]\tvalidation_0-rmse:0.126137\tvalidation_1-rmse:0.142333\tvalidation_0-rmspe:0.168022\tvalidation_1-rmspe:0.124594\n",
      "[302]\tvalidation_0-rmse:0.125981\tvalidation_1-rmse:0.142229\tvalidation_0-rmspe:0.166887\tvalidation_1-rmspe:0.124486\n",
      "[303]\tvalidation_0-rmse:0.125894\tvalidation_1-rmse:0.14215\tvalidation_0-rmspe:0.166825\tvalidation_1-rmspe:0.124388\n",
      "[304]\tvalidation_0-rmse:0.12588\tvalidation_1-rmse:0.142128\tvalidation_0-rmspe:0.16682\tvalidation_1-rmspe:0.124355\n",
      "[305]\tvalidation_0-rmse:0.125837\tvalidation_1-rmse:0.142117\tvalidation_0-rmspe:0.166765\tvalidation_1-rmspe:0.124343\n",
      "[306]\tvalidation_0-rmse:0.125787\tvalidation_1-rmse:0.142099\tvalidation_0-rmspe:0.166746\tvalidation_1-rmspe:0.124328\n",
      "[307]\tvalidation_0-rmse:0.125782\tvalidation_1-rmse:0.142099\tvalidation_0-rmspe:0.166737\tvalidation_1-rmspe:0.124326\n",
      "[308]\tvalidation_0-rmse:0.125713\tvalidation_1-rmse:0.142031\tvalidation_0-rmspe:0.166631\tvalidation_1-rmspe:0.124248\n",
      "[309]\tvalidation_0-rmse:0.125646\tvalidation_1-rmse:0.141974\tvalidation_0-rmspe:0.166562\tvalidation_1-rmspe:0.124181\n",
      "[310]\tvalidation_0-rmse:0.125615\tvalidation_1-rmse:0.14195\tvalidation_0-rmspe:0.166561\tvalidation_1-rmspe:0.124158\n",
      "[311]\tvalidation_0-rmse:0.125596\tvalidation_1-rmse:0.141946\tvalidation_0-rmspe:0.166533\tvalidation_1-rmspe:0.124146\n",
      "[312]\tvalidation_0-rmse:0.1255\tvalidation_1-rmse:0.141866\tvalidation_0-rmspe:0.166452\tvalidation_1-rmspe:0.124046\n",
      "[313]\tvalidation_0-rmse:0.12545\tvalidation_1-rmse:0.141832\tvalidation_0-rmspe:0.166407\tvalidation_1-rmspe:0.124013\n",
      "[314]\tvalidation_0-rmse:0.125413\tvalidation_1-rmse:0.141816\tvalidation_0-rmspe:0.166353\tvalidation_1-rmspe:0.123993\n",
      "[315]\tvalidation_0-rmse:0.125339\tvalidation_1-rmse:0.141756\tvalidation_0-rmspe:0.166302\tvalidation_1-rmspe:0.123909\n",
      "[316]\tvalidation_0-rmse:0.125293\tvalidation_1-rmse:0.141756\tvalidation_0-rmspe:0.166297\tvalidation_1-rmspe:0.123915\n",
      "[317]\tvalidation_0-rmse:0.125277\tvalidation_1-rmse:0.141747\tvalidation_0-rmspe:0.166268\tvalidation_1-rmspe:0.123883\n",
      "[318]\tvalidation_0-rmse:0.125198\tvalidation_1-rmse:0.141683\tvalidation_0-rmspe:0.16615\tvalidation_1-rmspe:0.123834\n",
      "[319]\tvalidation_0-rmse:0.125158\tvalidation_1-rmse:0.141654\tvalidation_0-rmspe:0.166105\tvalidation_1-rmspe:0.123759\n",
      "[320]\tvalidation_0-rmse:0.125107\tvalidation_1-rmse:0.141634\tvalidation_0-rmspe:0.16605\tvalidation_1-rmspe:0.12374\n",
      "[321]\tvalidation_0-rmse:0.125072\tvalidation_1-rmse:0.141606\tvalidation_0-rmspe:0.166015\tvalidation_1-rmspe:0.123708\n",
      "[322]\tvalidation_0-rmse:0.124972\tvalidation_1-rmse:0.141512\tvalidation_0-rmspe:0.16593\tvalidation_1-rmspe:0.123585\n",
      "[323]\tvalidation_0-rmse:0.124907\tvalidation_1-rmse:0.141457\tvalidation_0-rmspe:0.165835\tvalidation_1-rmspe:0.123528\n",
      "[324]\tvalidation_0-rmse:0.124853\tvalidation_1-rmse:0.141446\tvalidation_0-rmspe:0.165785\tvalidation_1-rmspe:0.123513\n",
      "[325]\tvalidation_0-rmse:0.124828\tvalidation_1-rmse:0.141433\tvalidation_0-rmspe:0.16575\tvalidation_1-rmspe:0.1235\n",
      "[326]\tvalidation_0-rmse:0.124809\tvalidation_1-rmse:0.141419\tvalidation_0-rmspe:0.165634\tvalidation_1-rmspe:0.123481\n",
      "[327]\tvalidation_0-rmse:0.124781\tvalidation_1-rmse:0.141398\tvalidation_0-rmspe:0.165598\tvalidation_1-rmspe:0.123456\n",
      "[328]\tvalidation_0-rmse:0.12469\tvalidation_1-rmse:0.141367\tvalidation_0-rmspe:0.165578\tvalidation_1-rmspe:0.123406\n",
      "[329]\tvalidation_0-rmse:0.12466\tvalidation_1-rmse:0.141355\tvalidation_0-rmspe:0.165561\tvalidation_1-rmspe:0.123383\n",
      "[330]\tvalidation_0-rmse:0.124542\tvalidation_1-rmse:0.141253\tvalidation_0-rmspe:0.16547\tvalidation_1-rmspe:0.123254\n",
      "[331]\tvalidation_0-rmse:0.124483\tvalidation_1-rmse:0.141217\tvalidation_0-rmspe:0.164418\tvalidation_1-rmspe:0.12321\n",
      "[332]\tvalidation_0-rmse:0.124352\tvalidation_1-rmse:0.14123\tvalidation_0-rmspe:0.164364\tvalidation_1-rmspe:0.123203\n",
      "[333]\tvalidation_0-rmse:0.12419\tvalidation_1-rmse:0.141081\tvalidation_0-rmspe:0.164235\tvalidation_1-rmspe:0.123004\n",
      "[334]\tvalidation_0-rmse:0.124182\tvalidation_1-rmse:0.141079\tvalidation_0-rmspe:0.164241\tvalidation_1-rmspe:0.123004\n",
      "[335]\tvalidation_0-rmse:0.124097\tvalidation_1-rmse:0.14105\tvalidation_0-rmspe:0.16421\tvalidation_1-rmspe:0.122969\n",
      "[336]\tvalidation_0-rmse:0.12404\tvalidation_1-rmse:0.141\tvalidation_0-rmspe:0.164166\tvalidation_1-rmspe:0.122918\n",
      "[337]\tvalidation_0-rmse:0.124021\tvalidation_1-rmse:0.140984\tvalidation_0-rmspe:0.16415\tvalidation_1-rmspe:0.122903\n",
      "[338]\tvalidation_0-rmse:0.123973\tvalidation_1-rmse:0.140949\tvalidation_0-rmspe:0.164117\tvalidation_1-rmspe:0.122865\n",
      "[339]\tvalidation_0-rmse:0.1239\tvalidation_1-rmse:0.14094\tvalidation_0-rmspe:0.164111\tvalidation_1-rmspe:0.122851\n",
      "[340]\tvalidation_0-rmse:0.123859\tvalidation_1-rmse:0.140909\tvalidation_0-rmspe:0.164085\tvalidation_1-rmspe:0.122808\n",
      "[341]\tvalidation_0-rmse:0.123796\tvalidation_1-rmse:0.140846\tvalidation_0-rmspe:0.164046\tvalidation_1-rmspe:0.122752\n",
      "[342]\tvalidation_0-rmse:0.123781\tvalidation_1-rmse:0.140853\tvalidation_0-rmspe:0.164035\tvalidation_1-rmspe:0.122752\n",
      "[343]\tvalidation_0-rmse:0.123775\tvalidation_1-rmse:0.14085\tvalidation_0-rmspe:0.164025\tvalidation_1-rmspe:0.122746\n",
      "[344]\tvalidation_0-rmse:0.12375\tvalidation_1-rmse:0.140843\tvalidation_0-rmspe:0.164014\tvalidation_1-rmspe:0.122696\n",
      "[345]\tvalidation_0-rmse:0.123726\tvalidation_1-rmse:0.140838\tvalidation_0-rmspe:0.163996\tvalidation_1-rmspe:0.122693\n",
      "[346]\tvalidation_0-rmse:0.123678\tvalidation_1-rmse:0.140803\tvalidation_0-rmspe:0.163929\tvalidation_1-rmspe:0.122648\n",
      "[347]\tvalidation_0-rmse:0.12367\tvalidation_1-rmse:0.140807\tvalidation_0-rmspe:0.163919\tvalidation_1-rmspe:0.122651\n",
      "[348]\tvalidation_0-rmse:0.12361\tvalidation_1-rmse:0.14076\tvalidation_0-rmspe:0.163854\tvalidation_1-rmspe:0.122597\n",
      "[349]\tvalidation_0-rmse:0.1236\tvalidation_1-rmse:0.140742\tvalidation_0-rmspe:0.163819\tvalidation_1-rmspe:0.122539\n",
      "[350]\tvalidation_0-rmse:0.123565\tvalidation_1-rmse:0.140698\tvalidation_0-rmspe:0.163793\tvalidation_1-rmspe:0.12247\n",
      "[351]\tvalidation_0-rmse:0.123403\tvalidation_1-rmse:0.140577\tvalidation_0-rmspe:0.163608\tvalidation_1-rmspe:0.122318\n",
      "[352]\tvalidation_0-rmse:0.123361\tvalidation_1-rmse:0.140561\tvalidation_0-rmspe:0.163572\tvalidation_1-rmspe:0.122296\n",
      "[353]\tvalidation_0-rmse:0.12331\tvalidation_1-rmse:0.140543\tvalidation_0-rmspe:0.163535\tvalidation_1-rmspe:0.122241\n",
      "[354]\tvalidation_0-rmse:0.123294\tvalidation_1-rmse:0.140529\tvalidation_0-rmspe:0.163518\tvalidation_1-rmspe:0.122225\n",
      "[355]\tvalidation_0-rmse:0.123224\tvalidation_1-rmse:0.140505\tvalidation_0-rmspe:0.16347\tvalidation_1-rmspe:0.122197\n",
      "[356]\tvalidation_0-rmse:0.123213\tvalidation_1-rmse:0.140501\tvalidation_0-rmspe:0.163472\tvalidation_1-rmspe:0.122181\n"
     ]
    },
    {
     "name": "stdout",
     "output_type": "stream",
     "text": [
      "[357]\tvalidation_0-rmse:0.123188\tvalidation_1-rmse:0.140483\tvalidation_0-rmspe:0.163461\tvalidation_1-rmspe:0.122148\n",
      "[358]\tvalidation_0-rmse:0.123173\tvalidation_1-rmse:0.140473\tvalidation_0-rmspe:0.163451\tvalidation_1-rmspe:0.122135\n",
      "[359]\tvalidation_0-rmse:0.123131\tvalidation_1-rmse:0.140433\tvalidation_0-rmspe:0.163347\tvalidation_1-rmspe:0.122087\n",
      "[360]\tvalidation_0-rmse:0.123129\tvalidation_1-rmse:0.140431\tvalidation_0-rmspe:0.163346\tvalidation_1-rmspe:0.122085\n",
      "[361]\tvalidation_0-rmse:0.123054\tvalidation_1-rmse:0.140371\tvalidation_0-rmspe:0.163275\tvalidation_1-rmspe:0.122014\n",
      "[362]\tvalidation_0-rmse:0.12295\tvalidation_1-rmse:0.140318\tvalidation_0-rmspe:0.163149\tvalidation_1-rmspe:0.121893\n",
      "[363]\tvalidation_0-rmse:0.122867\tvalidation_1-rmse:0.140283\tvalidation_0-rmspe:0.163049\tvalidation_1-rmspe:0.121824\n",
      "[364]\tvalidation_0-rmse:0.122811\tvalidation_1-rmse:0.140242\tvalidation_0-rmspe:0.16301\tvalidation_1-rmspe:0.121774\n",
      "[365]\tvalidation_0-rmse:0.122784\tvalidation_1-rmse:0.140223\tvalidation_0-rmspe:0.162898\tvalidation_1-rmspe:0.121751\n",
      "[366]\tvalidation_0-rmse:0.122759\tvalidation_1-rmse:0.140253\tvalidation_0-rmspe:0.162888\tvalidation_1-rmspe:0.121772\n",
      "[367]\tvalidation_0-rmse:0.122727\tvalidation_1-rmse:0.140238\tvalidation_0-rmspe:0.162839\tvalidation_1-rmspe:0.121741\n",
      "[368]\tvalidation_0-rmse:0.122636\tvalidation_1-rmse:0.140226\tvalidation_0-rmspe:0.162812\tvalidation_1-rmspe:0.12173\n",
      "[369]\tvalidation_0-rmse:0.122445\tvalidation_1-rmse:0.140114\tvalidation_0-rmspe:0.162679\tvalidation_1-rmspe:0.121577\n",
      "[370]\tvalidation_0-rmse:0.122378\tvalidation_1-rmse:0.140089\tvalidation_0-rmspe:0.162653\tvalidation_1-rmspe:0.121555\n",
      "[371]\tvalidation_0-rmse:0.122351\tvalidation_1-rmse:0.140078\tvalidation_0-rmspe:0.162583\tvalidation_1-rmspe:0.121535\n",
      "[372]\tvalidation_0-rmse:0.122341\tvalidation_1-rmse:0.140064\tvalidation_0-rmspe:0.162573\tvalidation_1-rmspe:0.121518\n",
      "[373]\tvalidation_0-rmse:0.12228\tvalidation_1-rmse:0.140024\tvalidation_0-rmspe:0.162414\tvalidation_1-rmspe:0.121504\n",
      "[374]\tvalidation_0-rmse:0.122248\tvalidation_1-rmse:0.140016\tvalidation_0-rmspe:0.162405\tvalidation_1-rmspe:0.121495\n",
      "[375]\tvalidation_0-rmse:0.122212\tvalidation_1-rmse:0.140002\tvalidation_0-rmspe:0.162378\tvalidation_1-rmspe:0.121474\n",
      "[376]\tvalidation_0-rmse:0.12208\tvalidation_1-rmse:0.139908\tvalidation_0-rmspe:0.162285\tvalidation_1-rmspe:0.121356\n",
      "[377]\tvalidation_0-rmse:0.122042\tvalidation_1-rmse:0.139887\tvalidation_0-rmspe:0.158799\tvalidation_1-rmspe:0.12133\n",
      "[378]\tvalidation_0-rmse:0.121962\tvalidation_1-rmse:0.139824\tvalidation_0-rmspe:0.158709\tvalidation_1-rmspe:0.121233\n",
      "[379]\tvalidation_0-rmse:0.121937\tvalidation_1-rmse:0.139804\tvalidation_0-rmspe:0.158689\tvalidation_1-rmspe:0.121216\n",
      "[380]\tvalidation_0-rmse:0.121919\tvalidation_1-rmse:0.139795\tvalidation_0-rmspe:0.158687\tvalidation_1-rmspe:0.121204\n",
      "[381]\tvalidation_0-rmse:0.121901\tvalidation_1-rmse:0.139774\tvalidation_0-rmspe:0.158567\tvalidation_1-rmspe:0.121178\n",
      "[382]\tvalidation_0-rmse:0.121847\tvalidation_1-rmse:0.13974\tvalidation_0-rmspe:0.15854\tvalidation_1-rmspe:0.12114\n",
      "[383]\tvalidation_0-rmse:0.121789\tvalidation_1-rmse:0.139724\tvalidation_0-rmspe:0.158493\tvalidation_1-rmspe:0.12111\n",
      "[384]\tvalidation_0-rmse:0.121765\tvalidation_1-rmse:0.13971\tvalidation_0-rmspe:0.158471\tvalidation_1-rmspe:0.121091\n",
      "[385]\tvalidation_0-rmse:0.121664\tvalidation_1-rmse:0.139657\tvalidation_0-rmspe:0.158407\tvalidation_1-rmspe:0.121035\n",
      "[386]\tvalidation_0-rmse:0.121599\tvalidation_1-rmse:0.139642\tvalidation_0-rmspe:0.15831\tvalidation_1-rmspe:0.121018\n",
      "[387]\tvalidation_0-rmse:0.121573\tvalidation_1-rmse:0.139628\tvalidation_0-rmspe:0.158284\tvalidation_1-rmspe:0.120999\n",
      "[388]\tvalidation_0-rmse:0.121531\tvalidation_1-rmse:0.139606\tvalidation_0-rmspe:0.158238\tvalidation_1-rmspe:0.120978\n",
      "[389]\tvalidation_0-rmse:0.121525\tvalidation_1-rmse:0.13961\tvalidation_0-rmspe:0.158229\tvalidation_1-rmspe:0.12098\n",
      "[390]\tvalidation_0-rmse:0.121517\tvalidation_1-rmse:0.1396\tvalidation_0-rmspe:0.158369\tvalidation_1-rmspe:0.12097\n",
      "[391]\tvalidation_0-rmse:0.121461\tvalidation_1-rmse:0.139576\tvalidation_0-rmspe:0.158334\tvalidation_1-rmspe:0.120938\n",
      "[392]\tvalidation_0-rmse:0.121359\tvalidation_1-rmse:0.139488\tvalidation_0-rmspe:0.158288\tvalidation_1-rmspe:0.120825\n",
      "[393]\tvalidation_0-rmse:0.121314\tvalidation_1-rmse:0.139484\tvalidation_0-rmspe:0.15828\tvalidation_1-rmspe:0.12082\n",
      "[394]\tvalidation_0-rmse:0.121286\tvalidation_1-rmse:0.139462\tvalidation_0-rmspe:0.158267\tvalidation_1-rmspe:0.120798\n",
      "[395]\tvalidation_0-rmse:0.121266\tvalidation_1-rmse:0.139446\tvalidation_0-rmspe:0.158251\tvalidation_1-rmspe:0.120776\n",
      "[396]\tvalidation_0-rmse:0.121242\tvalidation_1-rmse:0.139441\tvalidation_0-rmspe:0.158251\tvalidation_1-rmspe:0.120766\n",
      "[397]\tvalidation_0-rmse:0.121202\tvalidation_1-rmse:0.139388\tvalidation_0-rmspe:0.158224\tvalidation_1-rmspe:0.120696\n",
      "[398]\tvalidation_0-rmse:0.121171\tvalidation_1-rmse:0.139363\tvalidation_0-rmspe:0.158177\tvalidation_1-rmspe:0.120669\n",
      "[399]\tvalidation_0-rmse:0.121133\tvalidation_1-rmse:0.13936\tvalidation_0-rmspe:0.158147\tvalidation_1-rmspe:0.120655\n",
      "[400]\tvalidation_0-rmse:0.121099\tvalidation_1-rmse:0.139377\tvalidation_0-rmspe:0.158007\tvalidation_1-rmspe:0.120662\n",
      "[401]\tvalidation_0-rmse:0.121084\tvalidation_1-rmse:0.139371\tvalidation_0-rmspe:0.157983\tvalidation_1-rmspe:0.120657\n",
      "[402]\tvalidation_0-rmse:0.121082\tvalidation_1-rmse:0.139366\tvalidation_0-rmspe:0.15798\tvalidation_1-rmspe:0.12065\n",
      "[403]\tvalidation_0-rmse:0.121073\tvalidation_1-rmse:0.139361\tvalidation_0-rmspe:0.15802\tvalidation_1-rmspe:0.120645\n",
      "[404]\tvalidation_0-rmse:0.121007\tvalidation_1-rmse:0.139301\tvalidation_0-rmspe:0.157962\tvalidation_1-rmspe:0.120573\n",
      "[405]\tvalidation_0-rmse:0.120981\tvalidation_1-rmse:0.139324\tvalidation_0-rmspe:0.157953\tvalidation_1-rmspe:0.120554\n",
      "[406]\tvalidation_0-rmse:0.120953\tvalidation_1-rmse:0.139319\tvalidation_0-rmspe:0.15795\tvalidation_1-rmspe:0.120549\n",
      "[407]\tvalidation_0-rmse:0.120934\tvalidation_1-rmse:0.139323\tvalidation_0-rmspe:0.157942\tvalidation_1-rmspe:0.120555\n",
      "[408]\tvalidation_0-rmse:0.120916\tvalidation_1-rmse:0.139322\tvalidation_0-rmspe:0.157929\tvalidation_1-rmspe:0.120553\n",
      "[409]\tvalidation_0-rmse:0.120908\tvalidation_1-rmse:0.139322\tvalidation_0-rmspe:0.157928\tvalidation_1-rmspe:0.120558\n",
      "[410]\tvalidation_0-rmse:0.1209\tvalidation_1-rmse:0.13932\tvalidation_0-rmspe:0.15791\tvalidation_1-rmspe:0.120555\n",
      "[411]\tvalidation_0-rmse:0.12088\tvalidation_1-rmse:0.139315\tvalidation_0-rmspe:0.157907\tvalidation_1-rmspe:0.120553\n",
      "[412]\tvalidation_0-rmse:0.120835\tvalidation_1-rmse:0.139288\tvalidation_0-rmspe:0.157858\tvalidation_1-rmspe:0.120518\n",
      "[413]\tvalidation_0-rmse:0.120807\tvalidation_1-rmse:0.139291\tvalidation_0-rmspe:0.157829\tvalidation_1-rmspe:0.120529\n",
      "[414]\tvalidation_0-rmse:0.120789\tvalidation_1-rmse:0.13927\tvalidation_0-rmspe:0.157725\tvalidation_1-rmspe:0.120517\n",
      "[415]\tvalidation_0-rmse:0.12074\tvalidation_1-rmse:0.139239\tvalidation_0-rmspe:0.157692\tvalidation_1-rmspe:0.120472\n",
      "[416]\tvalidation_0-rmse:0.120716\tvalidation_1-rmse:0.139233\tvalidation_0-rmspe:0.15768\tvalidation_1-rmspe:0.120463\n",
      "[417]\tvalidation_0-rmse:0.120706\tvalidation_1-rmse:0.139232\tvalidation_0-rmspe:0.157672\tvalidation_1-rmspe:0.120458\n",
      "[418]\tvalidation_0-rmse:0.120653\tvalidation_1-rmse:0.139224\tvalidation_0-rmspe:0.157668\tvalidation_1-rmspe:0.120449\n",
      "[419]\tvalidation_0-rmse:0.120642\tvalidation_1-rmse:0.139211\tvalidation_0-rmspe:0.157662\tvalidation_1-rmspe:0.120447\n",
      "[420]\tvalidation_0-rmse:0.12061\tvalidation_1-rmse:0.139185\tvalidation_0-rmspe:0.157635\tvalidation_1-rmspe:0.120416\n",
      "[421]\tvalidation_0-rmse:0.120583\tvalidation_1-rmse:0.139165\tvalidation_0-rmspe:0.15765\tvalidation_1-rmspe:0.12039\n",
      "[422]\tvalidation_0-rmse:0.120548\tvalidation_1-rmse:0.139142\tvalidation_0-rmspe:0.157619\tvalidation_1-rmspe:0.120364\n",
      "[423]\tvalidation_0-rmse:0.120533\tvalidation_1-rmse:0.139135\tvalidation_0-rmspe:0.157611\tvalidation_1-rmspe:0.120359\n",
      "[424]\tvalidation_0-rmse:0.120519\tvalidation_1-rmse:0.139124\tvalidation_0-rmspe:0.157604\tvalidation_1-rmspe:0.120352\n",
      "[425]\tvalidation_0-rmse:0.120486\tvalidation_1-rmse:0.139094\tvalidation_0-rmspe:0.157637\tvalidation_1-rmspe:0.120306\n",
      "[426]\tvalidation_0-rmse:0.120482\tvalidation_1-rmse:0.13909\tvalidation_0-rmspe:0.157631\tvalidation_1-rmspe:0.120302\n",
      "[427]\tvalidation_0-rmse:0.120418\tvalidation_1-rmse:0.139059\tvalidation_0-rmspe:0.157599\tvalidation_1-rmspe:0.120269\n"
     ]
    },
    {
     "name": "stdout",
     "output_type": "stream",
     "text": [
      "[428]\tvalidation_0-rmse:0.1204\tvalidation_1-rmse:0.13905\tvalidation_0-rmspe:0.157596\tvalidation_1-rmspe:0.120258\n",
      "[429]\tvalidation_0-rmse:0.120388\tvalidation_1-rmse:0.139037\tvalidation_0-rmspe:0.157593\tvalidation_1-rmspe:0.12024\n",
      "[430]\tvalidation_0-rmse:0.12036\tvalidation_1-rmse:0.139035\tvalidation_0-rmspe:0.157508\tvalidation_1-rmspe:0.120237\n",
      "[431]\tvalidation_0-rmse:0.120299\tvalidation_1-rmse:0.138984\tvalidation_0-rmspe:0.157459\tvalidation_1-rmspe:0.120167\n",
      "[432]\tvalidation_0-rmse:0.120292\tvalidation_1-rmse:0.138976\tvalidation_0-rmspe:0.157456\tvalidation_1-rmspe:0.120161\n",
      "[433]\tvalidation_0-rmse:0.120265\tvalidation_1-rmse:0.138978\tvalidation_0-rmspe:0.157425\tvalidation_1-rmspe:0.120156\n",
      "[434]\tvalidation_0-rmse:0.120234\tvalidation_1-rmse:0.138958\tvalidation_0-rmspe:0.157405\tvalidation_1-rmspe:0.120151\n",
      "[435]\tvalidation_0-rmse:0.12023\tvalidation_1-rmse:0.138953\tvalidation_0-rmspe:0.157401\tvalidation_1-rmspe:0.120145\n",
      "[436]\tvalidation_0-rmse:0.120213\tvalidation_1-rmse:0.138941\tvalidation_0-rmspe:0.157383\tvalidation_1-rmspe:0.120127\n",
      "[437]\tvalidation_0-rmse:0.120195\tvalidation_1-rmse:0.13894\tvalidation_0-rmspe:0.157369\tvalidation_1-rmspe:0.120126\n",
      "[438]\tvalidation_0-rmse:0.120176\tvalidation_1-rmse:0.138926\tvalidation_0-rmspe:0.157337\tvalidation_1-rmspe:0.120117\n",
      "[439]\tvalidation_0-rmse:0.120118\tvalidation_1-rmse:0.13894\tvalidation_0-rmspe:0.157316\tvalidation_1-rmspe:0.120112\n",
      "[440]\tvalidation_0-rmse:0.120112\tvalidation_1-rmse:0.138929\tvalidation_0-rmspe:0.157463\tvalidation_1-rmspe:0.120092\n",
      "[441]\tvalidation_0-rmse:0.120087\tvalidation_1-rmse:0.138927\tvalidation_0-rmspe:0.157476\tvalidation_1-rmspe:0.120087\n",
      "[442]\tvalidation_0-rmse:0.12005\tvalidation_1-rmse:0.138906\tvalidation_0-rmspe:0.157462\tvalidation_1-rmspe:0.120068\n",
      "[443]\tvalidation_0-rmse:0.120042\tvalidation_1-rmse:0.138898\tvalidation_0-rmspe:0.157462\tvalidation_1-rmspe:0.12006\n",
      "[444]\tvalidation_0-rmse:0.119973\tvalidation_1-rmse:0.138877\tvalidation_0-rmspe:0.157446\tvalidation_1-rmspe:0.120039\n",
      "[445]\tvalidation_0-rmse:0.119895\tvalidation_1-rmse:0.138853\tvalidation_0-rmspe:0.157408\tvalidation_1-rmspe:0.120017\n",
      "[446]\tvalidation_0-rmse:0.119851\tvalidation_1-rmse:0.138813\tvalidation_0-rmspe:0.157372\tvalidation_1-rmspe:0.119958\n",
      "[447]\tvalidation_0-rmse:0.119845\tvalidation_1-rmse:0.138811\tvalidation_0-rmspe:0.157362\tvalidation_1-rmspe:0.119953\n",
      "[448]\tvalidation_0-rmse:0.119823\tvalidation_1-rmse:0.138794\tvalidation_0-rmspe:0.157339\tvalidation_1-rmspe:0.119931\n",
      "[449]\tvalidation_0-rmse:0.119805\tvalidation_1-rmse:0.138788\tvalidation_0-rmspe:0.157337\tvalidation_1-rmspe:0.119926\n",
      "[450]\tvalidation_0-rmse:0.119759\tvalidation_1-rmse:0.138767\tvalidation_0-rmspe:0.157316\tvalidation_1-rmspe:0.119889\n",
      "[451]\tvalidation_0-rmse:0.119745\tvalidation_1-rmse:0.138759\tvalidation_0-rmspe:0.157304\tvalidation_1-rmspe:0.119882\n",
      "[452]\tvalidation_0-rmse:0.119701\tvalidation_1-rmse:0.138744\tvalidation_0-rmspe:0.157269\tvalidation_1-rmspe:0.119862\n",
      "[453]\tvalidation_0-rmse:0.119651\tvalidation_1-rmse:0.138706\tvalidation_0-rmspe:0.157235\tvalidation_1-rmspe:0.119816\n",
      "[454]\tvalidation_0-rmse:0.119599\tvalidation_1-rmse:0.138678\tvalidation_0-rmspe:0.157212\tvalidation_1-rmspe:0.119766\n",
      "[455]\tvalidation_0-rmse:0.119591\tvalidation_1-rmse:0.138673\tvalidation_0-rmspe:0.157179\tvalidation_1-rmspe:0.119758\n",
      "[456]\tvalidation_0-rmse:0.119565\tvalidation_1-rmse:0.138649\tvalidation_0-rmspe:0.157156\tvalidation_1-rmspe:0.119724\n",
      "[457]\tvalidation_0-rmse:0.119563\tvalidation_1-rmse:0.13865\tvalidation_0-rmspe:0.157157\tvalidation_1-rmspe:0.119727\n",
      "[458]\tvalidation_0-rmse:0.119559\tvalidation_1-rmse:0.13865\tvalidation_0-rmspe:0.157153\tvalidation_1-rmspe:0.119726\n",
      "[459]\tvalidation_0-rmse:0.119541\tvalidation_1-rmse:0.138634\tvalidation_0-rmspe:0.157143\tvalidation_1-rmspe:0.119707\n",
      "[460]\tvalidation_0-rmse:0.11952\tvalidation_1-rmse:0.138615\tvalidation_0-rmspe:0.157139\tvalidation_1-rmspe:0.119683\n",
      "[461]\tvalidation_0-rmse:0.119518\tvalidation_1-rmse:0.138615\tvalidation_0-rmspe:0.157138\tvalidation_1-rmspe:0.119683\n",
      "[462]\tvalidation_0-rmse:0.119488\tvalidation_1-rmse:0.138586\tvalidation_0-rmspe:0.157112\tvalidation_1-rmspe:0.11965\n",
      "[463]\tvalidation_0-rmse:0.119448\tvalidation_1-rmse:0.138577\tvalidation_0-rmspe:0.157094\tvalidation_1-rmspe:0.119633\n",
      "[464]\tvalidation_0-rmse:0.119426\tvalidation_1-rmse:0.138574\tvalidation_0-rmspe:0.15709\tvalidation_1-rmspe:0.119632\n",
      "[465]\tvalidation_0-rmse:0.119362\tvalidation_1-rmse:0.138563\tvalidation_0-rmspe:0.157074\tvalidation_1-rmspe:0.119617\n",
      "[466]\tvalidation_0-rmse:0.119331\tvalidation_1-rmse:0.138552\tvalidation_0-rmspe:0.157022\tvalidation_1-rmspe:0.119559\n",
      "[467]\tvalidation_0-rmse:0.119273\tvalidation_1-rmse:0.138498\tvalidation_0-rmspe:0.156941\tvalidation_1-rmspe:0.119503\n",
      "[468]\tvalidation_0-rmse:0.119267\tvalidation_1-rmse:0.138496\tvalidation_0-rmspe:0.155861\tvalidation_1-rmspe:0.119497\n",
      "[469]\tvalidation_0-rmse:0.119251\tvalidation_1-rmse:0.138495\tvalidation_0-rmspe:0.15582\tvalidation_1-rmspe:0.119491\n",
      "[470]\tvalidation_0-rmse:0.119229\tvalidation_1-rmse:0.138488\tvalidation_0-rmspe:0.155798\tvalidation_1-rmspe:0.119465\n",
      "[471]\tvalidation_0-rmse:0.119224\tvalidation_1-rmse:0.138487\tvalidation_0-rmspe:0.155795\tvalidation_1-rmspe:0.11946\n",
      "[472]\tvalidation_0-rmse:0.1192\tvalidation_1-rmse:0.138482\tvalidation_0-rmspe:0.155777\tvalidation_1-rmspe:0.119451\n",
      "[473]\tvalidation_0-rmse:0.119157\tvalidation_1-rmse:0.138478\tvalidation_0-rmspe:0.155757\tvalidation_1-rmspe:0.119447\n",
      "[474]\tvalidation_0-rmse:0.11913\tvalidation_1-rmse:0.138471\tvalidation_0-rmspe:0.155755\tvalidation_1-rmspe:0.119449\n",
      "[475]\tvalidation_0-rmse:0.119119\tvalidation_1-rmse:0.138452\tvalidation_0-rmspe:0.155745\tvalidation_1-rmspe:0.119427\n",
      "[476]\tvalidation_0-rmse:0.119099\tvalidation_1-rmse:0.138444\tvalidation_0-rmspe:0.15565\tvalidation_1-rmspe:0.119415\n",
      "[477]\tvalidation_0-rmse:0.119077\tvalidation_1-rmse:0.138436\tvalidation_0-rmspe:0.155644\tvalidation_1-rmspe:0.119404\n",
      "[478]\tvalidation_0-rmse:0.119071\tvalidation_1-rmse:0.138432\tvalidation_0-rmspe:0.155639\tvalidation_1-rmspe:0.119398\n",
      "[479]\tvalidation_0-rmse:0.119042\tvalidation_1-rmse:0.138412\tvalidation_0-rmspe:0.155629\tvalidation_1-rmspe:0.119393\n",
      "[480]\tvalidation_0-rmse:0.119021\tvalidation_1-rmse:0.138386\tvalidation_0-rmspe:0.155613\tvalidation_1-rmspe:0.119316\n",
      "[481]\tvalidation_0-rmse:0.11901\tvalidation_1-rmse:0.13838\tvalidation_0-rmspe:0.155571\tvalidation_1-rmspe:0.119308\n",
      "[482]\tvalidation_0-rmse:0.118994\tvalidation_1-rmse:0.138372\tvalidation_0-rmspe:0.155561\tvalidation_1-rmspe:0.119298\n",
      "[483]\tvalidation_0-rmse:0.118967\tvalidation_1-rmse:0.138351\tvalidation_0-rmspe:0.155551\tvalidation_1-rmspe:0.119268\n",
      "[484]\tvalidation_0-rmse:0.118965\tvalidation_1-rmse:0.138347\tvalidation_0-rmspe:0.155549\tvalidation_1-rmspe:0.119263\n",
      "[485]\tvalidation_0-rmse:0.118907\tvalidation_1-rmse:0.138323\tvalidation_0-rmspe:0.155489\tvalidation_1-rmspe:0.119237\n",
      "[486]\tvalidation_0-rmse:0.118898\tvalidation_1-rmse:0.138325\tvalidation_0-rmspe:0.155479\tvalidation_1-rmspe:0.119241\n",
      "[487]\tvalidation_0-rmse:0.118799\tvalidation_1-rmse:0.138287\tvalidation_0-rmspe:0.155446\tvalidation_1-rmspe:0.119194\n",
      "[488]\tvalidation_0-rmse:0.118771\tvalidation_1-rmse:0.138262\tvalidation_0-rmspe:0.155403\tvalidation_1-rmspe:0.119174\n",
      "[489]\tvalidation_0-rmse:0.118732\tvalidation_1-rmse:0.138257\tvalidation_0-rmspe:0.1554\tvalidation_1-rmspe:0.119152\n",
      "[490]\tvalidation_0-rmse:0.11871\tvalidation_1-rmse:0.138247\tvalidation_0-rmspe:0.155384\tvalidation_1-rmspe:0.119139\n",
      "[491]\tvalidation_0-rmse:0.118683\tvalidation_1-rmse:0.138224\tvalidation_0-rmspe:0.155359\tvalidation_1-rmspe:0.119116\n",
      "[492]\tvalidation_0-rmse:0.118671\tvalidation_1-rmse:0.138211\tvalidation_0-rmspe:0.155352\tvalidation_1-rmspe:0.119104\n",
      "[493]\tvalidation_0-rmse:0.11865\tvalidation_1-rmse:0.138207\tvalidation_0-rmspe:0.155343\tvalidation_1-rmspe:0.119097\n",
      "[494]\tvalidation_0-rmse:0.118642\tvalidation_1-rmse:0.1382\tvalidation_0-rmspe:0.15534\tvalidation_1-rmspe:0.119086\n",
      "[495]\tvalidation_0-rmse:0.118606\tvalidation_1-rmse:0.138192\tvalidation_0-rmspe:0.155323\tvalidation_1-rmspe:0.119078\n",
      "[496]\tvalidation_0-rmse:0.118543\tvalidation_1-rmse:0.138186\tvalidation_0-rmspe:0.155308\tvalidation_1-rmspe:0.119074\n",
      "[497]\tvalidation_0-rmse:0.118536\tvalidation_1-rmse:0.138173\tvalidation_0-rmspe:0.155302\tvalidation_1-rmspe:0.119057\n",
      "[498]\tvalidation_0-rmse:0.118509\tvalidation_1-rmse:0.138167\tvalidation_0-rmspe:0.155303\tvalidation_1-rmspe:0.119055\n"
     ]
    },
    {
     "name": "stdout",
     "output_type": "stream",
     "text": [
      "[499]\tvalidation_0-rmse:0.118454\tvalidation_1-rmse:0.138158\tvalidation_0-rmspe:0.155277\tvalidation_1-rmspe:0.119047\n",
      "[500]\tvalidation_0-rmse:0.118423\tvalidation_1-rmse:0.138145\tvalidation_0-rmspe:0.155259\tvalidation_1-rmspe:0.119034\n",
      "[501]\tvalidation_0-rmse:0.118418\tvalidation_1-rmse:0.138159\tvalidation_0-rmspe:0.155252\tvalidation_1-rmspe:0.119033\n",
      "[502]\tvalidation_0-rmse:0.118404\tvalidation_1-rmse:0.138155\tvalidation_0-rmspe:0.155224\tvalidation_1-rmspe:0.119019\n",
      "[503]\tvalidation_0-rmse:0.118375\tvalidation_1-rmse:0.138144\tvalidation_0-rmspe:0.155135\tvalidation_1-rmspe:0.119011\n",
      "[504]\tvalidation_0-rmse:0.118369\tvalidation_1-rmse:0.138145\tvalidation_0-rmspe:0.155132\tvalidation_1-rmspe:0.119009\n",
      "[505]\tvalidation_0-rmse:0.118353\tvalidation_1-rmse:0.138135\tvalidation_0-rmspe:0.155119\tvalidation_1-rmspe:0.119001\n",
      "[506]\tvalidation_0-rmse:0.118317\tvalidation_1-rmse:0.138108\tvalidation_0-rmspe:0.155046\tvalidation_1-rmspe:0.11897\n",
      "[507]\tvalidation_0-rmse:0.118312\tvalidation_1-rmse:0.138104\tvalidation_0-rmspe:0.155045\tvalidation_1-rmspe:0.118971\n",
      "[508]\tvalidation_0-rmse:0.118304\tvalidation_1-rmse:0.138098\tvalidation_0-rmspe:0.155035\tvalidation_1-rmspe:0.118962\n",
      "[509]\tvalidation_0-rmse:0.118259\tvalidation_1-rmse:0.138079\tvalidation_0-rmspe:0.155025\tvalidation_1-rmspe:0.118945\n",
      "[510]\tvalidation_0-rmse:0.118255\tvalidation_1-rmse:0.138073\tvalidation_0-rmspe:0.154999\tvalidation_1-rmspe:0.118936\n",
      "[511]\tvalidation_0-rmse:0.118237\tvalidation_1-rmse:0.138069\tvalidation_0-rmspe:0.154997\tvalidation_1-rmspe:0.11893\n",
      "[512]\tvalidation_0-rmse:0.118232\tvalidation_1-rmse:0.138069\tvalidation_0-rmspe:0.154996\tvalidation_1-rmspe:0.118931\n",
      "[513]\tvalidation_0-rmse:0.118223\tvalidation_1-rmse:0.138061\tvalidation_0-rmspe:0.154992\tvalidation_1-rmspe:0.11892\n",
      "[514]\tvalidation_0-rmse:0.11821\tvalidation_1-rmse:0.138053\tvalidation_0-rmspe:0.154981\tvalidation_1-rmspe:0.11891\n",
      "[515]\tvalidation_0-rmse:0.118178\tvalidation_1-rmse:0.138048\tvalidation_0-rmspe:0.154953\tvalidation_1-rmspe:0.118904\n",
      "[516]\tvalidation_0-rmse:0.118166\tvalidation_1-rmse:0.138034\tvalidation_0-rmspe:0.15493\tvalidation_1-rmspe:0.118888\n",
      "[517]\tvalidation_0-rmse:0.118154\tvalidation_1-rmse:0.138026\tvalidation_0-rmspe:0.154978\tvalidation_1-rmspe:0.118878\n",
      "[518]\tvalidation_0-rmse:0.118146\tvalidation_1-rmse:0.137975\tvalidation_0-rmspe:0.154964\tvalidation_1-rmspe:0.118877\n",
      "[519]\tvalidation_0-rmse:0.118121\tvalidation_1-rmse:0.137958\tvalidation_0-rmspe:0.154943\tvalidation_1-rmspe:0.118859\n",
      "[520]\tvalidation_0-rmse:0.118072\tvalidation_1-rmse:0.137928\tvalidation_0-rmspe:0.154918\tvalidation_1-rmspe:0.118809\n",
      "[521]\tvalidation_0-rmse:0.118057\tvalidation_1-rmse:0.137919\tvalidation_0-rmspe:0.154913\tvalidation_1-rmspe:0.118797\n",
      "[522]\tvalidation_0-rmse:0.118033\tvalidation_1-rmse:0.137907\tvalidation_0-rmspe:0.1549\tvalidation_1-rmspe:0.118778\n",
      "[523]\tvalidation_0-rmse:0.117999\tvalidation_1-rmse:0.137894\tvalidation_0-rmspe:0.15487\tvalidation_1-rmspe:0.118762\n",
      "[524]\tvalidation_0-rmse:0.117932\tvalidation_1-rmse:0.137882\tvalidation_0-rmspe:0.154844\tvalidation_1-rmspe:0.118742\n",
      "[525]\tvalidation_0-rmse:0.11787\tvalidation_1-rmse:0.137881\tvalidation_0-rmspe:0.154835\tvalidation_1-rmspe:0.118745\n",
      "[526]\tvalidation_0-rmse:0.117844\tvalidation_1-rmse:0.137872\tvalidation_0-rmspe:0.154825\tvalidation_1-rmspe:0.118738\n",
      "[527]\tvalidation_0-rmse:0.117843\tvalidation_1-rmse:0.137873\tvalidation_0-rmspe:0.154822\tvalidation_1-rmspe:0.118737\n",
      "[528]\tvalidation_0-rmse:0.117802\tvalidation_1-rmse:0.137846\tvalidation_0-rmspe:0.153686\tvalidation_1-rmspe:0.118696\n",
      "[529]\tvalidation_0-rmse:0.117792\tvalidation_1-rmse:0.137841\tvalidation_0-rmspe:0.153565\tvalidation_1-rmspe:0.11869\n",
      "[530]\tvalidation_0-rmse:0.117731\tvalidation_1-rmse:0.137813\tvalidation_0-rmspe:0.153535\tvalidation_1-rmspe:0.11866\n",
      "[531]\tvalidation_0-rmse:0.117725\tvalidation_1-rmse:0.137813\tvalidation_0-rmspe:0.153533\tvalidation_1-rmspe:0.118662\n",
      "[532]\tvalidation_0-rmse:0.117649\tvalidation_1-rmse:0.137781\tvalidation_0-rmspe:0.153483\tvalidation_1-rmspe:0.118627\n",
      "[533]\tvalidation_0-rmse:0.117648\tvalidation_1-rmse:0.137779\tvalidation_0-rmspe:0.153484\tvalidation_1-rmspe:0.118626\n",
      "[534]\tvalidation_0-rmse:0.117643\tvalidation_1-rmse:0.137777\tvalidation_0-rmspe:0.15348\tvalidation_1-rmspe:0.118622\n",
      "[535]\tvalidation_0-rmse:0.117634\tvalidation_1-rmse:0.137778\tvalidation_0-rmspe:0.153474\tvalidation_1-rmspe:0.11862\n",
      "[536]\tvalidation_0-rmse:0.117597\tvalidation_1-rmse:0.137772\tvalidation_0-rmspe:0.153466\tvalidation_1-rmspe:0.118614\n",
      "[537]\tvalidation_0-rmse:0.117585\tvalidation_1-rmse:0.13777\tvalidation_0-rmspe:0.153463\tvalidation_1-rmspe:0.118613\n",
      "[538]\tvalidation_0-rmse:0.117543\tvalidation_1-rmse:0.13773\tvalidation_0-rmspe:0.15343\tvalidation_1-rmspe:0.118561\n",
      "[539]\tvalidation_0-rmse:0.117527\tvalidation_1-rmse:0.137716\tvalidation_0-rmspe:0.153413\tvalidation_1-rmspe:0.118541\n",
      "[540]\tvalidation_0-rmse:0.117516\tvalidation_1-rmse:0.137715\tvalidation_0-rmspe:0.15329\tvalidation_1-rmspe:0.11854\n",
      "[541]\tvalidation_0-rmse:0.117505\tvalidation_1-rmse:0.137705\tvalidation_0-rmspe:0.15329\tvalidation_1-rmspe:0.118529\n",
      "[542]\tvalidation_0-rmse:0.117504\tvalidation_1-rmse:0.137704\tvalidation_0-rmspe:0.153286\tvalidation_1-rmspe:0.118526\n",
      "[543]\tvalidation_0-rmse:0.117473\tvalidation_1-rmse:0.137685\tvalidation_0-rmspe:0.153261\tvalidation_1-rmspe:0.118503\n",
      "[544]\tvalidation_0-rmse:0.117418\tvalidation_1-rmse:0.137639\tvalidation_0-rmspe:0.153203\tvalidation_1-rmspe:0.118441\n",
      "[545]\tvalidation_0-rmse:0.117383\tvalidation_1-rmse:0.13762\tvalidation_0-rmspe:0.153173\tvalidation_1-rmspe:0.118419\n",
      "[546]\tvalidation_0-rmse:0.11735\tvalidation_1-rmse:0.137621\tvalidation_0-rmspe:0.153172\tvalidation_1-rmspe:0.118421\n",
      "[547]\tvalidation_0-rmse:0.117282\tvalidation_1-rmse:0.137615\tvalidation_0-rmspe:0.153135\tvalidation_1-rmspe:0.118419\n",
      "[548]\tvalidation_0-rmse:0.117273\tvalidation_1-rmse:0.137613\tvalidation_0-rmspe:0.153133\tvalidation_1-rmspe:0.118416\n",
      "[549]\tvalidation_0-rmse:0.117257\tvalidation_1-rmse:0.1376\tvalidation_0-rmspe:0.153125\tvalidation_1-rmspe:0.118404\n",
      "[550]\tvalidation_0-rmse:0.117244\tvalidation_1-rmse:0.137588\tvalidation_0-rmspe:0.153111\tvalidation_1-rmspe:0.11839\n",
      "[551]\tvalidation_0-rmse:0.117239\tvalidation_1-rmse:0.137582\tvalidation_0-rmspe:0.153105\tvalidation_1-rmspe:0.118381\n",
      "[552]\tvalidation_0-rmse:0.117229\tvalidation_1-rmse:0.137577\tvalidation_0-rmspe:0.153103\tvalidation_1-rmspe:0.118381\n",
      "[553]\tvalidation_0-rmse:0.117217\tvalidation_1-rmse:0.137594\tvalidation_0-rmspe:0.153089\tvalidation_1-rmspe:0.118387\n",
      "[554]\tvalidation_0-rmse:0.117207\tvalidation_1-rmse:0.137585\tvalidation_0-rmspe:0.153077\tvalidation_1-rmspe:0.118377\n",
      "[555]\tvalidation_0-rmse:0.117197\tvalidation_1-rmse:0.137573\tvalidation_0-rmspe:0.153074\tvalidation_1-rmspe:0.118363\n",
      "[556]\tvalidation_0-rmse:0.117161\tvalidation_1-rmse:0.137561\tvalidation_0-rmspe:0.152885\tvalidation_1-rmspe:0.118353\n",
      "[557]\tvalidation_0-rmse:0.117147\tvalidation_1-rmse:0.137557\tvalidation_0-rmspe:0.152893\tvalidation_1-rmspe:0.118347\n",
      "[558]\tvalidation_0-rmse:0.117132\tvalidation_1-rmse:0.137559\tvalidation_0-rmspe:0.15289\tvalidation_1-rmspe:0.118349\n",
      "[559]\tvalidation_0-rmse:0.117081\tvalidation_1-rmse:0.137541\tvalidation_0-rmspe:0.152886\tvalidation_1-rmspe:0.118332\n",
      "[560]\tvalidation_0-rmse:0.117075\tvalidation_1-rmse:0.137535\tvalidation_0-rmspe:0.152883\tvalidation_1-rmspe:0.118329\n",
      "[561]\tvalidation_0-rmse:0.117073\tvalidation_1-rmse:0.137532\tvalidation_0-rmspe:0.152881\tvalidation_1-rmspe:0.118323\n",
      "[562]\tvalidation_0-rmse:0.117068\tvalidation_1-rmse:0.137531\tvalidation_0-rmspe:0.15288\tvalidation_1-rmspe:0.118322\n",
      "[563]\tvalidation_0-rmse:0.117065\tvalidation_1-rmse:0.137532\tvalidation_0-rmspe:0.152881\tvalidation_1-rmspe:0.118298\n",
      "[564]\tvalidation_0-rmse:0.117011\tvalidation_1-rmse:0.137532\tvalidation_0-rmspe:0.152874\tvalidation_1-rmspe:0.118293\n",
      "[565]\tvalidation_0-rmse:0.116974\tvalidation_1-rmse:0.13752\tvalidation_0-rmspe:0.15285\tvalidation_1-rmspe:0.118279\n",
      "[566]\tvalidation_0-rmse:0.116962\tvalidation_1-rmse:0.137537\tvalidation_0-rmspe:0.152843\tvalidation_1-rmspe:0.118289\n",
      "[567]\tvalidation_0-rmse:0.116941\tvalidation_1-rmse:0.13753\tvalidation_0-rmspe:0.152831\tvalidation_1-rmspe:0.118283\n",
      "[568]\tvalidation_0-rmse:0.116908\tvalidation_1-rmse:0.13751\tvalidation_0-rmspe:0.15281\tvalidation_1-rmspe:0.118274\n",
      "[569]\tvalidation_0-rmse:0.116863\tvalidation_1-rmse:0.1375\tvalidation_0-rmspe:0.152793\tvalidation_1-rmspe:0.11826\n"
     ]
    },
    {
     "name": "stdout",
     "output_type": "stream",
     "text": [
      "[570]\tvalidation_0-rmse:0.11684\tvalidation_1-rmse:0.137493\tvalidation_0-rmspe:0.152782\tvalidation_1-rmspe:0.11825\n",
      "[571]\tvalidation_0-rmse:0.116823\tvalidation_1-rmse:0.137486\tvalidation_0-rmspe:0.152771\tvalidation_1-rmspe:0.118244\n",
      "[572]\tvalidation_0-rmse:0.116798\tvalidation_1-rmse:0.137479\tvalidation_0-rmspe:0.152754\tvalidation_1-rmspe:0.118235\n",
      "[573]\tvalidation_0-rmse:0.116772\tvalidation_1-rmse:0.137464\tvalidation_0-rmspe:0.152741\tvalidation_1-rmspe:0.118217\n",
      "[574]\tvalidation_0-rmse:0.116684\tvalidation_1-rmse:0.137456\tvalidation_0-rmspe:0.152709\tvalidation_1-rmspe:0.118205\n",
      "[575]\tvalidation_0-rmse:0.116622\tvalidation_1-rmse:0.137449\tvalidation_0-rmspe:0.152697\tvalidation_1-rmspe:0.118194\n",
      "[576]\tvalidation_0-rmse:0.116599\tvalidation_1-rmse:0.137427\tvalidation_0-rmspe:0.152683\tvalidation_1-rmspe:0.118164\n",
      "[577]\tvalidation_0-rmse:0.116513\tvalidation_1-rmse:0.137412\tvalidation_0-rmspe:0.152651\tvalidation_1-rmspe:0.118156\n",
      "[578]\tvalidation_0-rmse:0.116482\tvalidation_1-rmse:0.137377\tvalidation_0-rmspe:0.152603\tvalidation_1-rmspe:0.118112\n",
      "[579]\tvalidation_0-rmse:0.116479\tvalidation_1-rmse:0.137376\tvalidation_0-rmspe:0.152597\tvalidation_1-rmspe:0.118108\n",
      "[580]\tvalidation_0-rmse:0.116461\tvalidation_1-rmse:0.137363\tvalidation_0-rmspe:0.152578\tvalidation_1-rmspe:0.118091\n",
      "[581]\tvalidation_0-rmse:0.116457\tvalidation_1-rmse:0.137361\tvalidation_0-rmspe:0.152572\tvalidation_1-rmspe:0.11809\n",
      "[582]\tvalidation_0-rmse:0.116451\tvalidation_1-rmse:0.13736\tvalidation_0-rmspe:0.152568\tvalidation_1-rmspe:0.118088\n",
      "[583]\tvalidation_0-rmse:0.116433\tvalidation_1-rmse:0.137347\tvalidation_0-rmspe:0.152554\tvalidation_1-rmspe:0.118071\n",
      "[584]\tvalidation_0-rmse:0.116428\tvalidation_1-rmse:0.137346\tvalidation_0-rmspe:0.152551\tvalidation_1-rmspe:0.118076\n",
      "[585]\tvalidation_0-rmse:0.116393\tvalidation_1-rmse:0.137314\tvalidation_0-rmspe:0.15253\tvalidation_1-rmspe:0.118042\n",
      "[586]\tvalidation_0-rmse:0.11639\tvalidation_1-rmse:0.137314\tvalidation_0-rmspe:0.152527\tvalidation_1-rmspe:0.118042\n",
      "[587]\tvalidation_0-rmse:0.116359\tvalidation_1-rmse:0.137287\tvalidation_0-rmspe:0.152486\tvalidation_1-rmspe:0.118003\n",
      "[588]\tvalidation_0-rmse:0.116353\tvalidation_1-rmse:0.137287\tvalidation_0-rmspe:0.152485\tvalidation_1-rmspe:0.118002\n",
      "[589]\tvalidation_0-rmse:0.116345\tvalidation_1-rmse:0.137289\tvalidation_0-rmspe:0.152432\tvalidation_1-rmspe:0.117996\n",
      "[590]\tvalidation_0-rmse:0.116323\tvalidation_1-rmse:0.137272\tvalidation_0-rmspe:0.15242\tvalidation_1-rmspe:0.117978\n",
      "[591]\tvalidation_0-rmse:0.116311\tvalidation_1-rmse:0.137258\tvalidation_0-rmspe:0.15241\tvalidation_1-rmspe:0.11796\n",
      "[592]\tvalidation_0-rmse:0.116305\tvalidation_1-rmse:0.137255\tvalidation_0-rmspe:0.15241\tvalidation_1-rmspe:0.117958\n",
      "[593]\tvalidation_0-rmse:0.116298\tvalidation_1-rmse:0.137254\tvalidation_0-rmspe:0.152407\tvalidation_1-rmspe:0.117953\n",
      "[594]\tvalidation_0-rmse:0.116289\tvalidation_1-rmse:0.13726\tvalidation_0-rmspe:0.152402\tvalidation_1-rmspe:0.11796\n",
      "[595]\tvalidation_0-rmse:0.116268\tvalidation_1-rmse:0.137255\tvalidation_0-rmspe:0.152397\tvalidation_1-rmspe:0.117953\n",
      "[596]\tvalidation_0-rmse:0.116251\tvalidation_1-rmse:0.137253\tvalidation_0-rmspe:0.15239\tvalidation_1-rmspe:0.117957\n",
      "[597]\tvalidation_0-rmse:0.116245\tvalidation_1-rmse:0.137248\tvalidation_0-rmspe:0.152386\tvalidation_1-rmspe:0.117953\n",
      "[598]\tvalidation_0-rmse:0.116217\tvalidation_1-rmse:0.137255\tvalidation_0-rmspe:0.149412\tvalidation_1-rmspe:0.117956\n",
      "[599]\tvalidation_0-rmse:0.116202\tvalidation_1-rmse:0.137247\tvalidation_0-rmspe:0.1494\tvalidation_1-rmspe:0.117948\n",
      "[600]\tvalidation_0-rmse:0.11617\tvalidation_1-rmse:0.137327\tvalidation_0-rmspe:0.149393\tvalidation_1-rmspe:0.118\n",
      "[601]\tvalidation_0-rmse:0.116137\tvalidation_1-rmse:0.13732\tvalidation_0-rmspe:0.149387\tvalidation_1-rmspe:0.117994\n",
      "[602]\tvalidation_0-rmse:0.116132\tvalidation_1-rmse:0.137312\tvalidation_0-rmspe:0.149388\tvalidation_1-rmspe:0.117997\n",
      "[603]\tvalidation_0-rmse:0.116129\tvalidation_1-rmse:0.13731\tvalidation_0-rmspe:0.149388\tvalidation_1-rmspe:0.117994\n",
      "[604]\tvalidation_0-rmse:0.116109\tvalidation_1-rmse:0.137332\tvalidation_0-rmspe:0.149376\tvalidation_1-rmspe:0.118014\n",
      "[605]\tvalidation_0-rmse:0.116076\tvalidation_1-rmse:0.13733\tvalidation_0-rmspe:0.149366\tvalidation_1-rmspe:0.118011\n",
      "[606]\tvalidation_0-rmse:0.116068\tvalidation_1-rmse:0.137327\tvalidation_0-rmspe:0.149374\tvalidation_1-rmspe:0.118008\n",
      "[607]\tvalidation_0-rmse:0.116055\tvalidation_1-rmse:0.137316\tvalidation_0-rmspe:0.149362\tvalidation_1-rmspe:0.117992\n",
      "[608]\tvalidation_0-rmse:0.11603\tvalidation_1-rmse:0.137319\tvalidation_0-rmspe:0.149372\tvalidation_1-rmspe:0.118\n",
      "[609]\tvalidation_0-rmse:0.115979\tvalidation_1-rmse:0.137297\tvalidation_0-rmspe:0.149346\tvalidation_1-rmspe:0.117977\n",
      "[610]\tvalidation_0-rmse:0.115929\tvalidation_1-rmse:0.137297\tvalidation_0-rmspe:0.149333\tvalidation_1-rmspe:0.117977\n",
      "[611]\tvalidation_0-rmse:0.115912\tvalidation_1-rmse:0.137299\tvalidation_0-rmspe:0.149308\tvalidation_1-rmspe:0.117959\n",
      "[612]\tvalidation_0-rmse:0.115902\tvalidation_1-rmse:0.137295\tvalidation_0-rmspe:0.14931\tvalidation_1-rmspe:0.117957\n",
      "[613]\tvalidation_0-rmse:0.115887\tvalidation_1-rmse:0.137285\tvalidation_0-rmspe:0.149305\tvalidation_1-rmspe:0.117942\n",
      "[614]\tvalidation_0-rmse:0.115882\tvalidation_1-rmse:0.137281\tvalidation_0-rmspe:0.1493\tvalidation_1-rmspe:0.117935\n",
      "[615]\tvalidation_0-rmse:0.115853\tvalidation_1-rmse:0.137268\tvalidation_0-rmspe:0.149294\tvalidation_1-rmspe:0.11792\n",
      "[616]\tvalidation_0-rmse:0.115838\tvalidation_1-rmse:0.137258\tvalidation_0-rmspe:0.149293\tvalidation_1-rmspe:0.117908\n",
      "[617]\tvalidation_0-rmse:0.115837\tvalidation_1-rmse:0.137257\tvalidation_0-rmspe:0.14929\tvalidation_1-rmspe:0.117909\n",
      "[618]\tvalidation_0-rmse:0.115774\tvalidation_1-rmse:0.137249\tvalidation_0-rmspe:0.149284\tvalidation_1-rmspe:0.117898\n",
      "[619]\tvalidation_0-rmse:0.115769\tvalidation_1-rmse:0.137244\tvalidation_0-rmspe:0.14928\tvalidation_1-rmspe:0.117892\n",
      "[620]\tvalidation_0-rmse:0.115759\tvalidation_1-rmse:0.137246\tvalidation_0-rmspe:0.149215\tvalidation_1-rmspe:0.117897\n",
      "[621]\tvalidation_0-rmse:0.115751\tvalidation_1-rmse:0.137237\tvalidation_0-rmspe:0.149211\tvalidation_1-rmspe:0.117884\n",
      "[622]\tvalidation_0-rmse:0.115749\tvalidation_1-rmse:0.137238\tvalidation_0-rmspe:0.149213\tvalidation_1-rmspe:0.117886\n",
      "[623]\tvalidation_0-rmse:0.11572\tvalidation_1-rmse:0.13723\tvalidation_0-rmspe:0.14918\tvalidation_1-rmspe:0.117873\n",
      "[624]\tvalidation_0-rmse:0.115705\tvalidation_1-rmse:0.137227\tvalidation_0-rmspe:0.14917\tvalidation_1-rmspe:0.11787\n",
      "[625]\tvalidation_0-rmse:0.115681\tvalidation_1-rmse:0.137206\tvalidation_0-rmspe:0.149164\tvalidation_1-rmspe:0.117847\n",
      "[626]\tvalidation_0-rmse:0.115664\tvalidation_1-rmse:0.137196\tvalidation_0-rmspe:0.149146\tvalidation_1-rmspe:0.117828\n",
      "[627]\tvalidation_0-rmse:0.11566\tvalidation_1-rmse:0.137196\tvalidation_0-rmspe:0.149152\tvalidation_1-rmspe:0.117829\n",
      "[628]\tvalidation_0-rmse:0.115641\tvalidation_1-rmse:0.137202\tvalidation_0-rmspe:0.149133\tvalidation_1-rmspe:0.117834\n",
      "[629]\tvalidation_0-rmse:0.115628\tvalidation_1-rmse:0.137193\tvalidation_0-rmspe:0.149112\tvalidation_1-rmspe:0.117817\n",
      "[630]\tvalidation_0-rmse:0.115625\tvalidation_1-rmse:0.137195\tvalidation_0-rmspe:0.149111\tvalidation_1-rmspe:0.117816\n",
      "[631]\tvalidation_0-rmse:0.115617\tvalidation_1-rmse:0.137196\tvalidation_0-rmspe:0.149044\tvalidation_1-rmspe:0.117828\n",
      "[632]\tvalidation_0-rmse:0.11559\tvalidation_1-rmse:0.137187\tvalidation_0-rmspe:0.145953\tvalidation_1-rmspe:0.117819\n",
      "[633]\tvalidation_0-rmse:0.115589\tvalidation_1-rmse:0.137185\tvalidation_0-rmspe:0.14595\tvalidation_1-rmspe:0.117816\n",
      "[634]\tvalidation_0-rmse:0.115581\tvalidation_1-rmse:0.137171\tvalidation_0-rmspe:0.145985\tvalidation_1-rmspe:0.117789\n",
      "[635]\tvalidation_0-rmse:0.11554\tvalidation_1-rmse:0.137162\tvalidation_0-rmspe:0.145958\tvalidation_1-rmspe:0.117767\n",
      "[636]\tvalidation_0-rmse:0.115535\tvalidation_1-rmse:0.137159\tvalidation_0-rmspe:0.145955\tvalidation_1-rmspe:0.117763\n",
      "[637]\tvalidation_0-rmse:0.115528\tvalidation_1-rmse:0.137152\tvalidation_0-rmspe:0.145946\tvalidation_1-rmspe:0.117754\n",
      "[638]\tvalidation_0-rmse:0.115516\tvalidation_1-rmse:0.137154\tvalidation_0-rmspe:0.145941\tvalidation_1-rmspe:0.117754\n",
      "[639]\tvalidation_0-rmse:0.11551\tvalidation_1-rmse:0.137155\tvalidation_0-rmspe:0.145937\tvalidation_1-rmspe:0.117754\n",
      "[640]\tvalidation_0-rmse:0.115508\tvalidation_1-rmse:0.137154\tvalidation_0-rmspe:0.145933\tvalidation_1-rmspe:0.117752\n"
     ]
    },
    {
     "name": "stdout",
     "output_type": "stream",
     "text": [
      "[641]\tvalidation_0-rmse:0.115502\tvalidation_1-rmse:0.137152\tvalidation_0-rmspe:0.145938\tvalidation_1-rmspe:0.117749\n",
      "[642]\tvalidation_0-rmse:0.115502\tvalidation_1-rmse:0.137152\tvalidation_0-rmspe:0.145939\tvalidation_1-rmspe:0.11775\n",
      "[643]\tvalidation_0-rmse:0.115492\tvalidation_1-rmse:0.137146\tvalidation_0-rmspe:0.145934\tvalidation_1-rmspe:0.117744\n",
      "[644]\tvalidation_0-rmse:0.115477\tvalidation_1-rmse:0.137138\tvalidation_0-rmspe:0.145927\tvalidation_1-rmspe:0.117735\n",
      "[645]\tvalidation_0-rmse:0.115463\tvalidation_1-rmse:0.137131\tvalidation_0-rmspe:0.145905\tvalidation_1-rmspe:0.117725\n",
      "[646]\tvalidation_0-rmse:0.11546\tvalidation_1-rmse:0.137132\tvalidation_0-rmspe:0.145916\tvalidation_1-rmspe:0.117737\n",
      "[647]\tvalidation_0-rmse:0.115455\tvalidation_1-rmse:0.137135\tvalidation_0-rmspe:0.145912\tvalidation_1-rmspe:0.117737\n",
      "[648]\tvalidation_0-rmse:0.115449\tvalidation_1-rmse:0.137133\tvalidation_0-rmspe:0.145915\tvalidation_1-rmspe:0.117734\n",
      "[649]\tvalidation_0-rmse:0.115436\tvalidation_1-rmse:0.137126\tvalidation_0-rmspe:0.145907\tvalidation_1-rmspe:0.117724\n",
      "[650]\tvalidation_0-rmse:0.115429\tvalidation_1-rmse:0.137121\tvalidation_0-rmspe:0.1459\tvalidation_1-rmspe:0.117716\n",
      "[651]\tvalidation_0-rmse:0.115424\tvalidation_1-rmse:0.137118\tvalidation_0-rmspe:0.144964\tvalidation_1-rmspe:0.117713\n",
      "[652]\tvalidation_0-rmse:0.115421\tvalidation_1-rmse:0.137116\tvalidation_0-rmspe:0.144957\tvalidation_1-rmspe:0.117712\n",
      "[653]\tvalidation_0-rmse:0.115408\tvalidation_1-rmse:0.137112\tvalidation_0-rmspe:0.144943\tvalidation_1-rmspe:0.117708\n",
      "[654]\tvalidation_0-rmse:0.115398\tvalidation_1-rmse:0.137113\tvalidation_0-rmspe:0.144941\tvalidation_1-rmspe:0.11771\n",
      "[655]\tvalidation_0-rmse:0.115392\tvalidation_1-rmse:0.13712\tvalidation_0-rmspe:0.144934\tvalidation_1-rmspe:0.117713\n",
      "[656]\tvalidation_0-rmse:0.115385\tvalidation_1-rmse:0.137115\tvalidation_0-rmspe:0.144923\tvalidation_1-rmspe:0.117705\n",
      "[657]\tvalidation_0-rmse:0.115364\tvalidation_1-rmse:0.137105\tvalidation_0-rmspe:0.144915\tvalidation_1-rmspe:0.117687\n",
      "[658]\tvalidation_0-rmse:0.115358\tvalidation_1-rmse:0.1371\tvalidation_0-rmspe:0.144911\tvalidation_1-rmspe:0.117683\n",
      "[659]\tvalidation_0-rmse:0.115339\tvalidation_1-rmse:0.137086\tvalidation_0-rmspe:0.144824\tvalidation_1-rmspe:0.117657\n",
      "[660]\tvalidation_0-rmse:0.115339\tvalidation_1-rmse:0.137086\tvalidation_0-rmspe:0.144822\tvalidation_1-rmspe:0.117655\n",
      "[661]\tvalidation_0-rmse:0.115332\tvalidation_1-rmse:0.137089\tvalidation_0-rmspe:0.144819\tvalidation_1-rmspe:0.117648\n",
      "[662]\tvalidation_0-rmse:0.115283\tvalidation_1-rmse:0.137046\tvalidation_0-rmspe:0.144778\tvalidation_1-rmspe:0.117595\n",
      "[663]\tvalidation_0-rmse:0.115276\tvalidation_1-rmse:0.137044\tvalidation_0-rmspe:0.144774\tvalidation_1-rmspe:0.117594\n",
      "[664]\tvalidation_0-rmse:0.115273\tvalidation_1-rmse:0.137038\tvalidation_0-rmspe:0.144764\tvalidation_1-rmspe:0.117589\n",
      "[665]\tvalidation_0-rmse:0.115262\tvalidation_1-rmse:0.137036\tvalidation_0-rmspe:0.144759\tvalidation_1-rmspe:0.117588\n",
      "[666]\tvalidation_0-rmse:0.11525\tvalidation_1-rmse:0.137032\tvalidation_0-rmspe:0.144754\tvalidation_1-rmspe:0.117583\n",
      "[667]\tvalidation_0-rmse:0.115217\tvalidation_1-rmse:0.137003\tvalidation_0-rmspe:0.144732\tvalidation_1-rmspe:0.117546\n",
      "[668]\tvalidation_0-rmse:0.115183\tvalidation_1-rmse:0.136994\tvalidation_0-rmspe:0.144716\tvalidation_1-rmspe:0.117536\n",
      "[669]\tvalidation_0-rmse:0.115173\tvalidation_1-rmse:0.136991\tvalidation_0-rmspe:0.144714\tvalidation_1-rmspe:0.117532\n",
      "[670]\tvalidation_0-rmse:0.115152\tvalidation_1-rmse:0.136973\tvalidation_0-rmspe:0.144675\tvalidation_1-rmspe:0.117498\n",
      "[671]\tvalidation_0-rmse:0.115142\tvalidation_1-rmse:0.136972\tvalidation_0-rmspe:0.144667\tvalidation_1-rmspe:0.117496\n",
      "[672]\tvalidation_0-rmse:0.115111\tvalidation_1-rmse:0.13695\tvalidation_0-rmspe:0.144349\tvalidation_1-rmspe:0.117457\n",
      "[673]\tvalidation_0-rmse:0.115078\tvalidation_1-rmse:0.136943\tvalidation_0-rmspe:0.144354\tvalidation_1-rmspe:0.117452\n",
      "[674]\tvalidation_0-rmse:0.11507\tvalidation_1-rmse:0.136974\tvalidation_0-rmspe:0.14432\tvalidation_1-rmspe:0.117452\n",
      "[675]\tvalidation_0-rmse:0.115069\tvalidation_1-rmse:0.136973\tvalidation_0-rmspe:0.144327\tvalidation_1-rmspe:0.117452\n",
      "[676]\tvalidation_0-rmse:0.115066\tvalidation_1-rmse:0.136968\tvalidation_0-rmspe:0.144326\tvalidation_1-rmspe:0.117456\n",
      "[677]\tvalidation_0-rmse:0.115066\tvalidation_1-rmse:0.136968\tvalidation_0-rmspe:0.144326\tvalidation_1-rmspe:0.117456\n",
      "[678]\tvalidation_0-rmse:0.115056\tvalidation_1-rmse:0.136957\tvalidation_0-rmspe:0.144313\tvalidation_1-rmspe:0.11744\n",
      "[679]\tvalidation_0-rmse:0.115051\tvalidation_1-rmse:0.136957\tvalidation_0-rmspe:0.144317\tvalidation_1-rmspe:0.117441\n",
      "[680]\tvalidation_0-rmse:0.115029\tvalidation_1-rmse:0.136947\tvalidation_0-rmspe:0.144308\tvalidation_1-rmspe:0.117419\n",
      "[681]\tvalidation_0-rmse:0.115026\tvalidation_1-rmse:0.136945\tvalidation_0-rmspe:0.144305\tvalidation_1-rmspe:0.117417\n",
      "[682]\tvalidation_0-rmse:0.115024\tvalidation_1-rmse:0.136942\tvalidation_0-rmspe:0.144298\tvalidation_1-rmspe:0.117412\n",
      "[683]\tvalidation_0-rmse:0.115008\tvalidation_1-rmse:0.13693\tvalidation_0-rmspe:0.144295\tvalidation_1-rmspe:0.117397\n",
      "[684]\tvalidation_0-rmse:0.115003\tvalidation_1-rmse:0.13693\tvalidation_0-rmspe:0.14429\tvalidation_1-rmspe:0.1174\n",
      "[685]\tvalidation_0-rmse:0.114993\tvalidation_1-rmse:0.136926\tvalidation_0-rmspe:0.144283\tvalidation_1-rmspe:0.117394\n",
      "[686]\tvalidation_0-rmse:0.114975\tvalidation_1-rmse:0.136921\tvalidation_0-rmspe:0.14428\tvalidation_1-rmspe:0.11739\n",
      "[687]\tvalidation_0-rmse:0.114966\tvalidation_1-rmse:0.136914\tvalidation_0-rmspe:0.144209\tvalidation_1-rmspe:0.117376\n",
      "[688]\tvalidation_0-rmse:0.114963\tvalidation_1-rmse:0.136911\tvalidation_0-rmspe:0.144206\tvalidation_1-rmspe:0.11737\n",
      "[689]\tvalidation_0-rmse:0.114956\tvalidation_1-rmse:0.13691\tvalidation_0-rmspe:0.144195\tvalidation_1-rmspe:0.117371\n",
      "[690]\tvalidation_0-rmse:0.114949\tvalidation_1-rmse:0.136908\tvalidation_0-rmspe:0.144196\tvalidation_1-rmspe:0.117364\n",
      "[691]\tvalidation_0-rmse:0.114948\tvalidation_1-rmse:0.136909\tvalidation_0-rmspe:0.144192\tvalidation_1-rmspe:0.117363\n",
      "[692]\tvalidation_0-rmse:0.11495\tvalidation_1-rmse:0.136907\tvalidation_0-rmspe:0.144189\tvalidation_1-rmspe:0.117359\n",
      "[693]\tvalidation_0-rmse:0.114945\tvalidation_1-rmse:0.1369\tvalidation_0-rmspe:0.144159\tvalidation_1-rmspe:0.117347\n",
      "[694]\tvalidation_0-rmse:0.114943\tvalidation_1-rmse:0.136898\tvalidation_0-rmspe:0.144156\tvalidation_1-rmspe:0.117345\n",
      "[695]\tvalidation_0-rmse:0.114926\tvalidation_1-rmse:0.136876\tvalidation_0-rmspe:0.144145\tvalidation_1-rmspe:0.117323\n",
      "[696]\tvalidation_0-rmse:0.114916\tvalidation_1-rmse:0.136875\tvalidation_0-rmspe:0.144142\tvalidation_1-rmspe:0.117322\n",
      "[697]\tvalidation_0-rmse:0.114907\tvalidation_1-rmse:0.136859\tvalidation_0-rmspe:0.144136\tvalidation_1-rmspe:0.117295\n",
      "[698]\tvalidation_0-rmse:0.114897\tvalidation_1-rmse:0.136851\tvalidation_0-rmspe:0.14413\tvalidation_1-rmspe:0.117288\n",
      "[699]\tvalidation_0-rmse:0.114881\tvalidation_1-rmse:0.136853\tvalidation_0-rmspe:0.14411\tvalidation_1-rmspe:0.117275\n",
      "[700]\tvalidation_0-rmse:0.114881\tvalidation_1-rmse:0.136853\tvalidation_0-rmspe:0.144107\tvalidation_1-rmspe:0.117274\n",
      "[701]\tvalidation_0-rmse:0.11488\tvalidation_1-rmse:0.136855\tvalidation_0-rmspe:0.144106\tvalidation_1-rmspe:0.117272\n",
      "[702]\tvalidation_0-rmse:0.114873\tvalidation_1-rmse:0.13685\tvalidation_0-rmspe:0.144093\tvalidation_1-rmspe:0.117265\n",
      "[703]\tvalidation_0-rmse:0.114863\tvalidation_1-rmse:0.136851\tvalidation_0-rmspe:0.144092\tvalidation_1-rmspe:0.117265\n",
      "[704]\tvalidation_0-rmse:0.11485\tvalidation_1-rmse:0.136833\tvalidation_0-rmspe:0.144084\tvalidation_1-rmspe:0.117254\n",
      "[705]\tvalidation_0-rmse:0.114832\tvalidation_1-rmse:0.136832\tvalidation_0-rmspe:0.144085\tvalidation_1-rmspe:0.117256\n",
      "[706]\tvalidation_0-rmse:0.114832\tvalidation_1-rmse:0.136832\tvalidation_0-rmspe:0.144085\tvalidation_1-rmspe:0.117257\n",
      "[707]\tvalidation_0-rmse:0.114802\tvalidation_1-rmse:0.136808\tvalidation_0-rmspe:0.144065\tvalidation_1-rmspe:0.117228\n",
      "[708]\tvalidation_0-rmse:0.1148\tvalidation_1-rmse:0.136805\tvalidation_0-rmspe:0.144057\tvalidation_1-rmspe:0.117217\n",
      "[709]\tvalidation_0-rmse:0.114788\tvalidation_1-rmse:0.136797\tvalidation_0-rmspe:0.144048\tvalidation_1-rmspe:0.11722\n",
      "[710]\tvalidation_0-rmse:0.114781\tvalidation_1-rmse:0.136794\tvalidation_0-rmspe:0.144034\tvalidation_1-rmspe:0.117216\n",
      "[711]\tvalidation_0-rmse:0.114774\tvalidation_1-rmse:0.136796\tvalidation_0-rmspe:0.144033\tvalidation_1-rmspe:0.117219\n"
     ]
    },
    {
     "name": "stdout",
     "output_type": "stream",
     "text": [
      "[712]\tvalidation_0-rmse:0.114771\tvalidation_1-rmse:0.136789\tvalidation_0-rmspe:0.144031\tvalidation_1-rmspe:0.117212\n",
      "[713]\tvalidation_0-rmse:0.114758\tvalidation_1-rmse:0.136787\tvalidation_0-rmspe:0.144034\tvalidation_1-rmspe:0.117212\n",
      "[714]\tvalidation_0-rmse:0.114739\tvalidation_1-rmse:0.136786\tvalidation_0-rmspe:0.14403\tvalidation_1-rmspe:0.11721\n",
      "[715]\tvalidation_0-rmse:0.114731\tvalidation_1-rmse:0.136782\tvalidation_0-rmspe:0.144018\tvalidation_1-rmspe:0.117206\n",
      "[716]\tvalidation_0-rmse:0.114728\tvalidation_1-rmse:0.13678\tvalidation_0-rmspe:0.144004\tvalidation_1-rmspe:0.117205\n",
      "[717]\tvalidation_0-rmse:0.114726\tvalidation_1-rmse:0.13678\tvalidation_0-rmspe:0.144002\tvalidation_1-rmspe:0.117203\n",
      "[718]\tvalidation_0-rmse:0.114715\tvalidation_1-rmse:0.136775\tvalidation_0-rmspe:0.143994\tvalidation_1-rmspe:0.117198\n",
      "[719]\tvalidation_0-rmse:0.114707\tvalidation_1-rmse:0.136777\tvalidation_0-rmspe:0.143996\tvalidation_1-rmspe:0.117202\n",
      "[720]\tvalidation_0-rmse:0.114703\tvalidation_1-rmse:0.136775\tvalidation_0-rmspe:0.143993\tvalidation_1-rmspe:0.117196\n",
      "[721]\tvalidation_0-rmse:0.114696\tvalidation_1-rmse:0.136768\tvalidation_0-rmspe:0.143989\tvalidation_1-rmspe:0.117186\n",
      "[722]\tvalidation_0-rmse:0.114688\tvalidation_1-rmse:0.136766\tvalidation_0-rmspe:0.143988\tvalidation_1-rmspe:0.117185\n",
      "[723]\tvalidation_0-rmse:0.114669\tvalidation_1-rmse:0.136744\tvalidation_0-rmspe:0.143976\tvalidation_1-rmspe:0.11716\n",
      "[724]\tvalidation_0-rmse:0.114663\tvalidation_1-rmse:0.136735\tvalidation_0-rmspe:0.143969\tvalidation_1-rmspe:0.117155\n",
      "[725]\tvalidation_0-rmse:0.114654\tvalidation_1-rmse:0.136731\tvalidation_0-rmspe:0.143974\tvalidation_1-rmspe:0.117166\n",
      "[726]\tvalidation_0-rmse:0.114609\tvalidation_1-rmse:0.136735\tvalidation_0-rmspe:0.143967\tvalidation_1-rmspe:0.117163\n",
      "[727]\tvalidation_0-rmse:0.114583\tvalidation_1-rmse:0.136741\tvalidation_0-rmspe:0.143879\tvalidation_1-rmspe:0.117168\n",
      "[728]\tvalidation_0-rmse:0.114567\tvalidation_1-rmse:0.136738\tvalidation_0-rmspe:0.143877\tvalidation_1-rmspe:0.117165\n",
      "[729]\tvalidation_0-rmse:0.114555\tvalidation_1-rmse:0.136733\tvalidation_0-rmspe:0.143867\tvalidation_1-rmspe:0.117161\n",
      "[730]\tvalidation_0-rmse:0.114539\tvalidation_1-rmse:0.136729\tvalidation_0-rmspe:0.143868\tvalidation_1-rmspe:0.117152\n",
      "[731]\tvalidation_0-rmse:0.114498\tvalidation_1-rmse:0.136713\tvalidation_0-rmspe:0.143839\tvalidation_1-rmspe:0.117131\n",
      "[732]\tvalidation_0-rmse:0.114486\tvalidation_1-rmse:0.13669\tvalidation_0-rmspe:0.143781\tvalidation_1-rmspe:0.116964\n",
      "[733]\tvalidation_0-rmse:0.114486\tvalidation_1-rmse:0.13669\tvalidation_0-rmspe:0.143782\tvalidation_1-rmspe:0.116964\n",
      "[734]\tvalidation_0-rmse:0.114481\tvalidation_1-rmse:0.136685\tvalidation_0-rmspe:0.143783\tvalidation_1-rmspe:0.116959\n",
      "[735]\tvalidation_0-rmse:0.11444\tvalidation_1-rmse:0.136859\tvalidation_0-rmspe:0.143783\tvalidation_1-rmspe:0.117043\n",
      "[736]\tvalidation_0-rmse:0.114436\tvalidation_1-rmse:0.136858\tvalidation_0-rmspe:0.143783\tvalidation_1-rmspe:0.117041\n",
      "[737]\tvalidation_0-rmse:0.114416\tvalidation_1-rmse:0.136839\tvalidation_0-rmspe:0.143771\tvalidation_1-rmspe:0.117022\n",
      "[738]\tvalidation_0-rmse:0.114401\tvalidation_1-rmse:0.136814\tvalidation_0-rmspe:0.143765\tvalidation_1-rmspe:0.116995\n",
      "[739]\tvalidation_0-rmse:0.114401\tvalidation_1-rmse:0.136814\tvalidation_0-rmspe:0.143765\tvalidation_1-rmspe:0.116994\n",
      "[740]\tvalidation_0-rmse:0.114322\tvalidation_1-rmse:0.136826\tvalidation_0-rmspe:0.143758\tvalidation_1-rmspe:0.11699\n",
      "[741]\tvalidation_0-rmse:0.114315\tvalidation_1-rmse:0.136824\tvalidation_0-rmspe:0.143757\tvalidation_1-rmspe:0.116996\n",
      "[742]\tvalidation_0-rmse:0.114292\tvalidation_1-rmse:0.136819\tvalidation_0-rmspe:0.143755\tvalidation_1-rmspe:0.116993\n",
      "[743]\tvalidation_0-rmse:0.114255\tvalidation_1-rmse:0.136812\tvalidation_0-rmspe:0.143747\tvalidation_1-rmspe:0.116978\n",
      "[744]\tvalidation_0-rmse:0.114243\tvalidation_1-rmse:0.136812\tvalidation_0-rmspe:0.143741\tvalidation_1-rmspe:0.11698\n",
      "[745]\tvalidation_0-rmse:0.114193\tvalidation_1-rmse:0.1368\tvalidation_0-rmspe:0.143658\tvalidation_1-rmspe:0.116962\n",
      "[746]\tvalidation_0-rmse:0.114184\tvalidation_1-rmse:0.136794\tvalidation_0-rmspe:0.143648\tvalidation_1-rmspe:0.116958\n",
      "[747]\tvalidation_0-rmse:0.114164\tvalidation_1-rmse:0.136803\tvalidation_0-rmspe:0.14364\tvalidation_1-rmspe:0.116963\n",
      "[748]\tvalidation_0-rmse:0.114161\tvalidation_1-rmse:0.136803\tvalidation_0-rmspe:0.143637\tvalidation_1-rmspe:0.116961\n",
      "[749]\tvalidation_0-rmse:0.114154\tvalidation_1-rmse:0.136798\tvalidation_0-rmspe:0.143619\tvalidation_1-rmspe:0.116946\n",
      "[750]\tvalidation_0-rmse:0.114144\tvalidation_1-rmse:0.136791\tvalidation_0-rmspe:0.143623\tvalidation_1-rmspe:0.116943\n",
      "[751]\tvalidation_0-rmse:0.114143\tvalidation_1-rmse:0.136791\tvalidation_0-rmspe:0.143621\tvalidation_1-rmspe:0.116941\n",
      "[752]\tvalidation_0-rmse:0.11414\tvalidation_1-rmse:0.136789\tvalidation_0-rmspe:0.143619\tvalidation_1-rmspe:0.116942\n",
      "[753]\tvalidation_0-rmse:0.114111\tvalidation_1-rmse:0.136768\tvalidation_0-rmspe:0.143599\tvalidation_1-rmspe:0.11691\n",
      "[754]\tvalidation_0-rmse:0.114107\tvalidation_1-rmse:0.136766\tvalidation_0-rmspe:0.143595\tvalidation_1-rmspe:0.116908\n",
      "[755]\tvalidation_0-rmse:0.114102\tvalidation_1-rmse:0.136767\tvalidation_0-rmspe:0.143591\tvalidation_1-rmspe:0.116912\n",
      "[756]\tvalidation_0-rmse:0.114076\tvalidation_1-rmse:0.136753\tvalidation_0-rmspe:0.143565\tvalidation_1-rmspe:0.116882\n",
      "[757]\tvalidation_0-rmse:0.114057\tvalidation_1-rmse:0.136753\tvalidation_0-rmspe:0.143536\tvalidation_1-rmspe:0.116883\n",
      "[758]\tvalidation_0-rmse:0.114048\tvalidation_1-rmse:0.136749\tvalidation_0-rmspe:0.143433\tvalidation_1-rmspe:0.116876\n",
      "[759]\tvalidation_0-rmse:0.114015\tvalidation_1-rmse:0.136736\tvalidation_0-rmspe:0.143406\tvalidation_1-rmspe:0.116864\n",
      "[760]\tvalidation_0-rmse:0.113989\tvalidation_1-rmse:0.136715\tvalidation_0-rmspe:0.143381\tvalidation_1-rmspe:0.116843\n",
      "[761]\tvalidation_0-rmse:0.113979\tvalidation_1-rmse:0.136718\tvalidation_0-rmspe:0.143363\tvalidation_1-rmspe:0.116845\n",
      "[762]\tvalidation_0-rmse:0.113979\tvalidation_1-rmse:0.136718\tvalidation_0-rmspe:0.143363\tvalidation_1-rmspe:0.116845\n",
      "[763]\tvalidation_0-rmse:0.113978\tvalidation_1-rmse:0.136717\tvalidation_0-rmspe:0.143363\tvalidation_1-rmspe:0.116845\n",
      "[764]\tvalidation_0-rmse:0.113975\tvalidation_1-rmse:0.136717\tvalidation_0-rmspe:0.143361\tvalidation_1-rmspe:0.116847\n",
      "[765]\tvalidation_0-rmse:0.113943\tvalidation_1-rmse:0.13672\tvalidation_0-rmspe:0.143336\tvalidation_1-rmspe:0.116911\n",
      "[766]\tvalidation_0-rmse:0.113901\tvalidation_1-rmse:0.136704\tvalidation_0-rmspe:0.143299\tvalidation_1-rmspe:0.116889\n",
      "[767]\tvalidation_0-rmse:0.113901\tvalidation_1-rmse:0.136704\tvalidation_0-rmspe:0.143299\tvalidation_1-rmspe:0.116889\n",
      "[768]\tvalidation_0-rmse:0.113892\tvalidation_1-rmse:0.136694\tvalidation_0-rmspe:0.143296\tvalidation_1-rmspe:0.116845\n",
      "[769]\tvalidation_0-rmse:0.113891\tvalidation_1-rmse:0.136695\tvalidation_0-rmspe:0.143295\tvalidation_1-rmspe:0.116845\n",
      "[770]\tvalidation_0-rmse:0.113885\tvalidation_1-rmse:0.136677\tvalidation_0-rmspe:0.14329\tvalidation_1-rmspe:0.116796\n",
      "[771]\tvalidation_0-rmse:0.113874\tvalidation_1-rmse:0.136677\tvalidation_0-rmspe:0.143288\tvalidation_1-rmspe:0.116795\n",
      "[772]\tvalidation_0-rmse:0.113872\tvalidation_1-rmse:0.136677\tvalidation_0-rmspe:0.143281\tvalidation_1-rmspe:0.116796\n",
      "[773]\tvalidation_0-rmse:0.11385\tvalidation_1-rmse:0.136666\tvalidation_0-rmspe:0.143267\tvalidation_1-rmspe:0.116753\n",
      "[774]\tvalidation_0-rmse:0.113793\tvalidation_1-rmse:0.136651\tvalidation_0-rmspe:0.14325\tvalidation_1-rmspe:0.116734\n",
      "[775]\tvalidation_0-rmse:0.113783\tvalidation_1-rmse:0.136646\tvalidation_0-rmspe:0.143246\tvalidation_1-rmspe:0.11673\n",
      "[776]\tvalidation_0-rmse:0.113774\tvalidation_1-rmse:0.136645\tvalidation_0-rmspe:0.143244\tvalidation_1-rmspe:0.116732\n",
      "[777]\tvalidation_0-rmse:0.11377\tvalidation_1-rmse:0.13664\tvalidation_0-rmspe:0.143242\tvalidation_1-rmspe:0.116727\n",
      "[778]\tvalidation_0-rmse:0.113758\tvalidation_1-rmse:0.136626\tvalidation_0-rmspe:0.143217\tvalidation_1-rmspe:0.116707\n",
      "[779]\tvalidation_0-rmse:0.113743\tvalidation_1-rmse:0.136624\tvalidation_0-rmspe:0.140898\tvalidation_1-rmspe:0.116705\n",
      "[780]\tvalidation_0-rmse:0.113735\tvalidation_1-rmse:0.136617\tvalidation_0-rmspe:0.14089\tvalidation_1-rmspe:0.116698\n",
      "[781]\tvalidation_0-rmse:0.113732\tvalidation_1-rmse:0.136607\tvalidation_0-rmspe:0.140888\tvalidation_1-rmspe:0.116687\n",
      "[782]\tvalidation_0-rmse:0.113724\tvalidation_1-rmse:0.136605\tvalidation_0-rmspe:0.140876\tvalidation_1-rmspe:0.116679\n"
     ]
    },
    {
     "name": "stdout",
     "output_type": "stream",
     "text": [
      "[783]\tvalidation_0-rmse:0.113721\tvalidation_1-rmse:0.136602\tvalidation_0-rmspe:0.14087\tvalidation_1-rmspe:0.116674\n",
      "[784]\tvalidation_0-rmse:0.113701\tvalidation_1-rmse:0.136651\tvalidation_0-rmspe:0.140866\tvalidation_1-rmspe:0.116687\n",
      "[785]\tvalidation_0-rmse:0.113659\tvalidation_1-rmse:0.13663\tvalidation_0-rmspe:0.140862\tvalidation_1-rmspe:0.116674\n",
      "[786]\tvalidation_0-rmse:0.113636\tvalidation_1-rmse:0.136625\tvalidation_0-rmspe:0.140869\tvalidation_1-rmspe:0.116668\n",
      "[787]\tvalidation_0-rmse:0.113633\tvalidation_1-rmse:0.136626\tvalidation_0-rmspe:0.140867\tvalidation_1-rmspe:0.116667\n",
      "[788]\tvalidation_0-rmse:0.113616\tvalidation_1-rmse:0.136625\tvalidation_0-rmspe:0.140847\tvalidation_1-rmspe:0.116688\n",
      "[789]\tvalidation_0-rmse:0.113601\tvalidation_1-rmse:0.136613\tvalidation_0-rmspe:0.140839\tvalidation_1-rmspe:0.116672\n",
      "[790]\tvalidation_0-rmse:0.113553\tvalidation_1-rmse:0.136599\tvalidation_0-rmspe:0.140827\tvalidation_1-rmspe:0.116654\n",
      "[791]\tvalidation_0-rmse:0.113544\tvalidation_1-rmse:0.136596\tvalidation_0-rmspe:0.140725\tvalidation_1-rmspe:0.116651\n",
      "[792]\tvalidation_0-rmse:0.113536\tvalidation_1-rmse:0.136592\tvalidation_0-rmspe:0.140723\tvalidation_1-rmspe:0.116646\n",
      "[793]\tvalidation_0-rmse:0.113518\tvalidation_1-rmse:0.13658\tvalidation_0-rmspe:0.140727\tvalidation_1-rmspe:0.116633\n",
      "[794]\tvalidation_0-rmse:0.113518\tvalidation_1-rmse:0.13658\tvalidation_0-rmspe:0.14073\tvalidation_1-rmspe:0.116635\n",
      "[795]\tvalidation_0-rmse:0.113509\tvalidation_1-rmse:0.136579\tvalidation_0-rmspe:0.140729\tvalidation_1-rmspe:0.116634\n",
      "[796]\tvalidation_0-rmse:0.113498\tvalidation_1-rmse:0.136576\tvalidation_0-rmspe:0.140721\tvalidation_1-rmspe:0.116632\n",
      "[797]\tvalidation_0-rmse:0.113498\tvalidation_1-rmse:0.136577\tvalidation_0-rmspe:0.140723\tvalidation_1-rmspe:0.116634\n",
      "[798]\tvalidation_0-rmse:0.113463\tvalidation_1-rmse:0.136571\tvalidation_0-rmspe:0.140714\tvalidation_1-rmspe:0.116622\n",
      "[799]\tvalidation_0-rmse:0.113454\tvalidation_1-rmse:0.136573\tvalidation_0-rmspe:0.140719\tvalidation_1-rmspe:0.11662\n",
      "[800]\tvalidation_0-rmse:0.113454\tvalidation_1-rmse:0.136573\tvalidation_0-rmspe:0.140717\tvalidation_1-rmspe:0.116618\n",
      "[801]\tvalidation_0-rmse:0.113443\tvalidation_1-rmse:0.136563\tvalidation_0-rmspe:0.140715\tvalidation_1-rmspe:0.11661\n",
      "[802]\tvalidation_0-rmse:0.113443\tvalidation_1-rmse:0.136562\tvalidation_0-rmspe:0.140709\tvalidation_1-rmspe:0.116609\n",
      "[803]\tvalidation_0-rmse:0.113434\tvalidation_1-rmse:0.136563\tvalidation_0-rmspe:0.140708\tvalidation_1-rmspe:0.116613\n",
      "[804]\tvalidation_0-rmse:0.113411\tvalidation_1-rmse:0.136563\tvalidation_0-rmspe:0.140707\tvalidation_1-rmspe:0.116612\n",
      "[805]\tvalidation_0-rmse:0.113405\tvalidation_1-rmse:0.136564\tvalidation_0-rmspe:0.140707\tvalidation_1-rmspe:0.116615\n",
      "[806]\tvalidation_0-rmse:0.113399\tvalidation_1-rmse:0.136561\tvalidation_0-rmspe:0.140703\tvalidation_1-rmspe:0.116611\n",
      "[807]\tvalidation_0-rmse:0.113388\tvalidation_1-rmse:0.136544\tvalidation_0-rmspe:0.140667\tvalidation_1-rmspe:0.116509\n",
      "[808]\tvalidation_0-rmse:0.113357\tvalidation_1-rmse:0.136538\tvalidation_0-rmspe:0.140638\tvalidation_1-rmspe:0.116499\n",
      "[809]\tvalidation_0-rmse:0.113356\tvalidation_1-rmse:0.136537\tvalidation_0-rmspe:0.140638\tvalidation_1-rmspe:0.116497\n",
      "[810]\tvalidation_0-rmse:0.113354\tvalidation_1-rmse:0.136539\tvalidation_0-rmspe:0.140637\tvalidation_1-rmspe:0.116504\n",
      "[811]\tvalidation_0-rmse:0.113348\tvalidation_1-rmse:0.136536\tvalidation_0-rmspe:0.140632\tvalidation_1-rmspe:0.116498\n",
      "[812]\tvalidation_0-rmse:0.113346\tvalidation_1-rmse:0.136537\tvalidation_0-rmspe:0.140632\tvalidation_1-rmspe:0.116498\n",
      "[813]\tvalidation_0-rmse:0.113321\tvalidation_1-rmse:0.13652\tvalidation_0-rmspe:0.140614\tvalidation_1-rmspe:0.116486\n",
      "[814]\tvalidation_0-rmse:0.113302\tvalidation_1-rmse:0.136524\tvalidation_0-rmspe:0.140584\tvalidation_1-rmspe:0.116482\n",
      "[815]\tvalidation_0-rmse:0.113274\tvalidation_1-rmse:0.13651\tvalidation_0-rmspe:0.14057\tvalidation_1-rmspe:0.116472\n",
      "[816]\tvalidation_0-rmse:0.11327\tvalidation_1-rmse:0.136513\tvalidation_0-rmspe:0.140571\tvalidation_1-rmspe:0.116476\n",
      "[817]\tvalidation_0-rmse:0.113264\tvalidation_1-rmse:0.136514\tvalidation_0-rmspe:0.140563\tvalidation_1-rmspe:0.116471\n",
      "[818]\tvalidation_0-rmse:0.113258\tvalidation_1-rmse:0.136513\tvalidation_0-rmspe:0.140561\tvalidation_1-rmspe:0.116472\n",
      "[819]\tvalidation_0-rmse:0.11325\tvalidation_1-rmse:0.13652\tvalidation_0-rmspe:0.140553\tvalidation_1-rmspe:0.116472\n",
      "[820]\tvalidation_0-rmse:0.113246\tvalidation_1-rmse:0.136515\tvalidation_0-rmspe:0.140552\tvalidation_1-rmspe:0.11647\n",
      "[821]\tvalidation_0-rmse:0.113242\tvalidation_1-rmse:0.136511\tvalidation_0-rmspe:0.140551\tvalidation_1-rmspe:0.116466\n",
      "[822]\tvalidation_0-rmse:0.113224\tvalidation_1-rmse:0.136507\tvalidation_0-rmspe:0.140535\tvalidation_1-rmspe:0.11646\n",
      "[823]\tvalidation_0-rmse:0.113217\tvalidation_1-rmse:0.136504\tvalidation_0-rmspe:0.140538\tvalidation_1-rmspe:0.116457\n",
      "[824]\tvalidation_0-rmse:0.113213\tvalidation_1-rmse:0.136499\tvalidation_0-rmspe:0.140533\tvalidation_1-rmspe:0.11645\n",
      "[825]\tvalidation_0-rmse:0.1132\tvalidation_1-rmse:0.136488\tvalidation_0-rmspe:0.140519\tvalidation_1-rmspe:0.116447\n",
      "[826]\tvalidation_0-rmse:0.113188\tvalidation_1-rmse:0.136485\tvalidation_0-rmspe:0.140512\tvalidation_1-rmspe:0.116442\n",
      "[827]\tvalidation_0-rmse:0.113182\tvalidation_1-rmse:0.136485\tvalidation_0-rmspe:0.14051\tvalidation_1-rmspe:0.116443\n",
      "[828]\tvalidation_0-rmse:0.113175\tvalidation_1-rmse:0.136503\tvalidation_0-rmspe:0.14051\tvalidation_1-rmspe:0.116457\n",
      "[829]\tvalidation_0-rmse:0.113165\tvalidation_1-rmse:0.136498\tvalidation_0-rmspe:0.140508\tvalidation_1-rmspe:0.116456\n",
      "[830]\tvalidation_0-rmse:0.113125\tvalidation_1-rmse:0.136495\tvalidation_0-rmspe:0.140509\tvalidation_1-rmspe:0.116457\n",
      "[831]\tvalidation_0-rmse:0.113125\tvalidation_1-rmse:0.136495\tvalidation_0-rmspe:0.14051\tvalidation_1-rmspe:0.116458\n",
      "[832]\tvalidation_0-rmse:0.113117\tvalidation_1-rmse:0.136491\tvalidation_0-rmspe:0.1405\tvalidation_1-rmspe:0.116444\n",
      "[833]\tvalidation_0-rmse:0.113093\tvalidation_1-rmse:0.136474\tvalidation_0-rmspe:0.140479\tvalidation_1-rmspe:0.116423\n",
      "[834]\tvalidation_0-rmse:0.113087\tvalidation_1-rmse:0.136478\tvalidation_0-rmspe:0.140478\tvalidation_1-rmspe:0.116425\n",
      "[835]\tvalidation_0-rmse:0.113066\tvalidation_1-rmse:0.136478\tvalidation_0-rmspe:0.140467\tvalidation_1-rmspe:0.116421\n",
      "[836]\tvalidation_0-rmse:0.113055\tvalidation_1-rmse:0.136466\tvalidation_0-rmspe:0.140441\tvalidation_1-rmspe:0.116394\n",
      "[837]\tvalidation_0-rmse:0.113048\tvalidation_1-rmse:0.136464\tvalidation_0-rmspe:0.140436\tvalidation_1-rmspe:0.116389\n",
      "[838]\tvalidation_0-rmse:0.113021\tvalidation_1-rmse:0.136451\tvalidation_0-rmspe:0.140425\tvalidation_1-rmspe:0.116372\n",
      "[839]\tvalidation_0-rmse:0.11302\tvalidation_1-rmse:0.136449\tvalidation_0-rmspe:0.140424\tvalidation_1-rmspe:0.116367\n",
      "[840]\tvalidation_0-rmse:0.113018\tvalidation_1-rmse:0.136449\tvalidation_0-rmspe:0.14042\tvalidation_1-rmspe:0.116367\n",
      "[841]\tvalidation_0-rmse:0.113006\tvalidation_1-rmse:0.136446\tvalidation_0-rmspe:0.140408\tvalidation_1-rmspe:0.116361\n",
      "[842]\tvalidation_0-rmse:0.112997\tvalidation_1-rmse:0.136447\tvalidation_0-rmspe:0.140405\tvalidation_1-rmspe:0.116363\n",
      "[843]\tvalidation_0-rmse:0.112954\tvalidation_1-rmse:0.136442\tvalidation_0-rmspe:0.14035\tvalidation_1-rmspe:0.116355\n",
      "[844]\tvalidation_0-rmse:0.112951\tvalidation_1-rmse:0.136442\tvalidation_0-rmspe:0.14035\tvalidation_1-rmspe:0.116355\n",
      "[845]\tvalidation_0-rmse:0.112943\tvalidation_1-rmse:0.136436\tvalidation_0-rmspe:0.140343\tvalidation_1-rmspe:0.116343\n",
      "[846]\tvalidation_0-rmse:0.112942\tvalidation_1-rmse:0.136436\tvalidation_0-rmspe:0.14034\tvalidation_1-rmspe:0.116342\n",
      "[847]\tvalidation_0-rmse:0.112942\tvalidation_1-rmse:0.136436\tvalidation_0-rmspe:0.14034\tvalidation_1-rmspe:0.116342\n",
      "[848]\tvalidation_0-rmse:0.112939\tvalidation_1-rmse:0.136433\tvalidation_0-rmspe:0.140336\tvalidation_1-rmspe:0.11634\n",
      "[849]\tvalidation_0-rmse:0.11292\tvalidation_1-rmse:0.136431\tvalidation_0-rmspe:0.140333\tvalidation_1-rmspe:0.116337\n",
      "[850]\tvalidation_0-rmse:0.112914\tvalidation_1-rmse:0.136424\tvalidation_0-rmspe:0.14032\tvalidation_1-rmspe:0.11633\n",
      "[851]\tvalidation_0-rmse:0.112913\tvalidation_1-rmse:0.136424\tvalidation_0-rmspe:0.14032\tvalidation_1-rmspe:0.116331\n",
      "[852]\tvalidation_0-rmse:0.11288\tvalidation_1-rmse:0.136442\tvalidation_0-rmspe:0.14031\tvalidation_1-rmspe:0.116337\n",
      "[853]\tvalidation_0-rmse:0.112864\tvalidation_1-rmse:0.136424\tvalidation_0-rmspe:0.140242\tvalidation_1-rmspe:0.11634\n"
     ]
    },
    {
     "name": "stdout",
     "output_type": "stream",
     "text": [
      "[854]\tvalidation_0-rmse:0.11284\tvalidation_1-rmse:0.13642\tvalidation_0-rmspe:0.140233\tvalidation_1-rmspe:0.116331\n",
      "[855]\tvalidation_0-rmse:0.112834\tvalidation_1-rmse:0.136423\tvalidation_0-rmspe:0.140224\tvalidation_1-rmspe:0.116332\n",
      "[856]\tvalidation_0-rmse:0.112826\tvalidation_1-rmse:0.136412\tvalidation_0-rmspe:0.140216\tvalidation_1-rmspe:0.11631\n",
      "[857]\tvalidation_0-rmse:0.11282\tvalidation_1-rmse:0.136409\tvalidation_0-rmspe:0.140211\tvalidation_1-rmspe:0.11631\n",
      "[858]\tvalidation_0-rmse:0.112817\tvalidation_1-rmse:0.136408\tvalidation_0-rmspe:0.140211\tvalidation_1-rmspe:0.116309\n",
      "[859]\tvalidation_0-rmse:0.112811\tvalidation_1-rmse:0.136408\tvalidation_0-rmspe:0.140208\tvalidation_1-rmspe:0.116311\n",
      "[860]\tvalidation_0-rmse:0.112802\tvalidation_1-rmse:0.136405\tvalidation_0-rmspe:0.140189\tvalidation_1-rmspe:0.116306\n",
      "[861]\tvalidation_0-rmse:0.1128\tvalidation_1-rmse:0.136406\tvalidation_0-rmspe:0.140186\tvalidation_1-rmspe:0.116306\n",
      "[862]\tvalidation_0-rmse:0.112798\tvalidation_1-rmse:0.136407\tvalidation_0-rmspe:0.140185\tvalidation_1-rmspe:0.116307\n",
      "[863]\tvalidation_0-rmse:0.112793\tvalidation_1-rmse:0.136401\tvalidation_0-rmspe:0.140183\tvalidation_1-rmspe:0.1163\n",
      "[864]\tvalidation_0-rmse:0.112789\tvalidation_1-rmse:0.1364\tvalidation_0-rmspe:0.140187\tvalidation_1-rmspe:0.116299\n",
      "[865]\tvalidation_0-rmse:0.112783\tvalidation_1-rmse:0.136398\tvalidation_0-rmspe:0.140188\tvalidation_1-rmspe:0.116296\n",
      "[866]\tvalidation_0-rmse:0.112781\tvalidation_1-rmse:0.136394\tvalidation_0-rmspe:0.140181\tvalidation_1-rmspe:0.11629\n",
      "[867]\tvalidation_0-rmse:0.112765\tvalidation_1-rmse:0.136392\tvalidation_0-rmspe:0.140177\tvalidation_1-rmspe:0.11629\n",
      "[868]\tvalidation_0-rmse:0.112758\tvalidation_1-rmse:0.13638\tvalidation_0-rmspe:0.140176\tvalidation_1-rmspe:0.116268\n",
      "[869]\tvalidation_0-rmse:0.112751\tvalidation_1-rmse:0.136375\tvalidation_0-rmspe:0.140173\tvalidation_1-rmspe:0.116262\n",
      "[870]\tvalidation_0-rmse:0.112747\tvalidation_1-rmse:0.136374\tvalidation_0-rmspe:0.14017\tvalidation_1-rmspe:0.11626\n",
      "[871]\tvalidation_0-rmse:0.112744\tvalidation_1-rmse:0.136373\tvalidation_0-rmspe:0.140169\tvalidation_1-rmspe:0.11626\n",
      "[872]\tvalidation_0-rmse:0.112732\tvalidation_1-rmse:0.136374\tvalidation_0-rmspe:0.140164\tvalidation_1-rmspe:0.116258\n",
      "[873]\tvalidation_0-rmse:0.112722\tvalidation_1-rmse:0.136371\tvalidation_0-rmspe:0.140143\tvalidation_1-rmspe:0.116257\n",
      "[874]\tvalidation_0-rmse:0.112703\tvalidation_1-rmse:0.136359\tvalidation_0-rmspe:0.140134\tvalidation_1-rmspe:0.116243\n",
      "[875]\tvalidation_0-rmse:0.112691\tvalidation_1-rmse:0.136352\tvalidation_0-rmspe:0.140127\tvalidation_1-rmspe:0.116235\n",
      "[876]\tvalidation_0-rmse:0.112687\tvalidation_1-rmse:0.136351\tvalidation_0-rmspe:0.140129\tvalidation_1-rmspe:0.116233\n",
      "[877]\tvalidation_0-rmse:0.112683\tvalidation_1-rmse:0.136347\tvalidation_0-rmspe:0.140105\tvalidation_1-rmspe:0.116226\n",
      "[878]\tvalidation_0-rmse:0.112659\tvalidation_1-rmse:0.136346\tvalidation_0-rmspe:0.140083\tvalidation_1-rmspe:0.116224\n",
      "[879]\tvalidation_0-rmse:0.112648\tvalidation_1-rmse:0.136328\tvalidation_0-rmspe:0.140074\tvalidation_1-rmspe:0.116205\n",
      "[880]\tvalidation_0-rmse:0.112641\tvalidation_1-rmse:0.136321\tvalidation_0-rmspe:0.140063\tvalidation_1-rmspe:0.116196\n",
      "[881]\tvalidation_0-rmse:0.112588\tvalidation_1-rmse:0.136311\tvalidation_0-rmspe:0.14005\tvalidation_1-rmspe:0.116184\n",
      "[882]\tvalidation_0-rmse:0.112583\tvalidation_1-rmse:0.136312\tvalidation_0-rmspe:0.140037\tvalidation_1-rmspe:0.116174\n",
      "[883]\tvalidation_0-rmse:0.112578\tvalidation_1-rmse:0.136313\tvalidation_0-rmspe:0.140017\tvalidation_1-rmspe:0.116167\n",
      "[884]\tvalidation_0-rmse:0.11255\tvalidation_1-rmse:0.136313\tvalidation_0-rmspe:0.140007\tvalidation_1-rmspe:0.116168\n",
      "[885]\tvalidation_0-rmse:0.112545\tvalidation_1-rmse:0.136307\tvalidation_0-rmspe:0.140003\tvalidation_1-rmspe:0.116164\n",
      "[886]\tvalidation_0-rmse:0.112537\tvalidation_1-rmse:0.136304\tvalidation_0-rmspe:0.139997\tvalidation_1-rmspe:0.116162\n",
      "[887]\tvalidation_0-rmse:0.112529\tvalidation_1-rmse:0.136304\tvalidation_0-rmspe:0.139996\tvalidation_1-rmspe:0.116164\n",
      "[888]\tvalidation_0-rmse:0.112516\tvalidation_1-rmse:0.136299\tvalidation_0-rmspe:0.139994\tvalidation_1-rmspe:0.116159\n",
      "[889]\tvalidation_0-rmse:0.112514\tvalidation_1-rmse:0.136298\tvalidation_0-rmspe:0.139994\tvalidation_1-rmspe:0.11616\n",
      "[890]\tvalidation_0-rmse:0.11251\tvalidation_1-rmse:0.136304\tvalidation_0-rmspe:0.139976\tvalidation_1-rmspe:0.116166\n",
      "[891]\tvalidation_0-rmse:0.112509\tvalidation_1-rmse:0.136304\tvalidation_0-rmspe:0.139978\tvalidation_1-rmspe:0.116164\n",
      "[892]\tvalidation_0-rmse:0.112507\tvalidation_1-rmse:0.136302\tvalidation_0-rmspe:0.139975\tvalidation_1-rmspe:0.116166\n",
      "[893]\tvalidation_0-rmse:0.112498\tvalidation_1-rmse:0.136303\tvalidation_0-rmspe:0.139978\tvalidation_1-rmspe:0.11617\n",
      "[894]\tvalidation_0-rmse:0.112486\tvalidation_1-rmse:0.1363\tvalidation_0-rmspe:0.139969\tvalidation_1-rmspe:0.116169\n",
      "[895]\tvalidation_0-rmse:0.112483\tvalidation_1-rmse:0.136297\tvalidation_0-rmspe:0.139971\tvalidation_1-rmspe:0.11617\n",
      "[896]\tvalidation_0-rmse:0.112483\tvalidation_1-rmse:0.136297\tvalidation_0-rmspe:0.139971\tvalidation_1-rmspe:0.11617\n",
      "[897]\tvalidation_0-rmse:0.112464\tvalidation_1-rmse:0.136288\tvalidation_0-rmspe:0.139968\tvalidation_1-rmspe:0.116161\n",
      "[898]\tvalidation_0-rmse:0.112461\tvalidation_1-rmse:0.136287\tvalidation_0-rmspe:0.139963\tvalidation_1-rmspe:0.116161\n",
      "[899]\tvalidation_0-rmse:0.11246\tvalidation_1-rmse:0.136286\tvalidation_0-rmspe:0.140015\tvalidation_1-rmspe:0.116161\n",
      "[900]\tvalidation_0-rmse:0.112453\tvalidation_1-rmse:0.136286\tvalidation_0-rmspe:0.140009\tvalidation_1-rmspe:0.11616\n",
      "[901]\tvalidation_0-rmse:0.112445\tvalidation_1-rmse:0.13628\tvalidation_0-rmspe:0.140003\tvalidation_1-rmspe:0.116148\n",
      "[902]\tvalidation_0-rmse:0.112435\tvalidation_1-rmse:0.136273\tvalidation_0-rmspe:0.139994\tvalidation_1-rmspe:0.116137\n",
      "[903]\tvalidation_0-rmse:0.112433\tvalidation_1-rmse:0.136275\tvalidation_0-rmspe:0.139992\tvalidation_1-rmspe:0.116139\n",
      "[904]\tvalidation_0-rmse:0.112433\tvalidation_1-rmse:0.136275\tvalidation_0-rmspe:0.13999\tvalidation_1-rmspe:0.116138\n",
      "[905]\tvalidation_0-rmse:0.112427\tvalidation_1-rmse:0.136272\tvalidation_0-rmspe:0.13999\tvalidation_1-rmspe:0.116135\n",
      "[906]\tvalidation_0-rmse:0.112418\tvalidation_1-rmse:0.136262\tvalidation_0-rmspe:0.139982\tvalidation_1-rmspe:0.116124\n",
      "[907]\tvalidation_0-rmse:0.112406\tvalidation_1-rmse:0.136258\tvalidation_0-rmspe:0.139977\tvalidation_1-rmspe:0.116119\n",
      "[908]\tvalidation_0-rmse:0.112379\tvalidation_1-rmse:0.136259\tvalidation_0-rmspe:0.139974\tvalidation_1-rmspe:0.116124\n",
      "[909]\tvalidation_0-rmse:0.112377\tvalidation_1-rmse:0.136259\tvalidation_0-rmspe:0.139975\tvalidation_1-rmspe:0.116124\n",
      "[910]\tvalidation_0-rmse:0.112368\tvalidation_1-rmse:0.136254\tvalidation_0-rmspe:0.139972\tvalidation_1-rmspe:0.116123\n",
      "[911]\tvalidation_0-rmse:0.112357\tvalidation_1-rmse:0.136255\tvalidation_0-rmspe:0.13997\tvalidation_1-rmspe:0.116127\n",
      "[912]\tvalidation_0-rmse:0.112306\tvalidation_1-rmse:0.136253\tvalidation_0-rmspe:0.139957\tvalidation_1-rmspe:0.116126\n",
      "[913]\tvalidation_0-rmse:0.112301\tvalidation_1-rmse:0.13625\tvalidation_0-rmspe:0.139955\tvalidation_1-rmspe:0.116123\n",
      "[914]\tvalidation_0-rmse:0.1123\tvalidation_1-rmse:0.136249\tvalidation_0-rmspe:0.139948\tvalidation_1-rmspe:0.116123\n",
      "[915]\tvalidation_0-rmse:0.112293\tvalidation_1-rmse:0.136247\tvalidation_0-rmspe:0.139947\tvalidation_1-rmspe:0.116122\n",
      "[916]\tvalidation_0-rmse:0.112291\tvalidation_1-rmse:0.136236\tvalidation_0-rmspe:0.139938\tvalidation_1-rmspe:0.11611\n",
      "[917]\tvalidation_0-rmse:0.112281\tvalidation_1-rmse:0.136223\tvalidation_0-rmspe:0.139918\tvalidation_1-rmspe:0.116085\n",
      "[918]\tvalidation_0-rmse:0.112281\tvalidation_1-rmse:0.13621\tvalidation_0-rmspe:0.139918\tvalidation_1-rmspe:0.116075\n",
      "[919]\tvalidation_0-rmse:0.112272\tvalidation_1-rmse:0.136206\tvalidation_0-rmspe:0.139926\tvalidation_1-rmspe:0.116065\n",
      "[920]\tvalidation_0-rmse:0.11227\tvalidation_1-rmse:0.136205\tvalidation_0-rmspe:0.139924\tvalidation_1-rmspe:0.116063\n",
      "[921]\tvalidation_0-rmse:0.112265\tvalidation_1-rmse:0.136205\tvalidation_0-rmspe:0.139925\tvalidation_1-rmspe:0.116068\n",
      "[922]\tvalidation_0-rmse:0.112262\tvalidation_1-rmse:0.136201\tvalidation_0-rmspe:0.139926\tvalidation_1-rmspe:0.116065\n",
      "[923]\tvalidation_0-rmse:0.11226\tvalidation_1-rmse:0.136201\tvalidation_0-rmspe:0.139922\tvalidation_1-rmspe:0.116064\n",
      "[924]\tvalidation_0-rmse:0.112257\tvalidation_1-rmse:0.136201\tvalidation_0-rmspe:0.139923\tvalidation_1-rmspe:0.116067\n"
     ]
    },
    {
     "name": "stdout",
     "output_type": "stream",
     "text": [
      "[925]\tvalidation_0-rmse:0.112256\tvalidation_1-rmse:0.136201\tvalidation_0-rmspe:0.13992\tvalidation_1-rmspe:0.116065\n",
      "[926]\tvalidation_0-rmse:0.112247\tvalidation_1-rmse:0.136198\tvalidation_0-rmspe:0.13991\tvalidation_1-rmspe:0.116064\n",
      "[927]\tvalidation_0-rmse:0.112242\tvalidation_1-rmse:0.136193\tvalidation_0-rmspe:0.139886\tvalidation_1-rmspe:0.116056\n",
      "[928]\tvalidation_0-rmse:0.112238\tvalidation_1-rmse:0.136191\tvalidation_0-rmspe:0.139882\tvalidation_1-rmspe:0.11605\n",
      "[929]\tvalidation_0-rmse:0.112232\tvalidation_1-rmse:0.136191\tvalidation_0-rmspe:0.139876\tvalidation_1-rmspe:0.116052\n",
      "[930]\tvalidation_0-rmse:0.112226\tvalidation_1-rmse:0.136184\tvalidation_0-rmspe:0.13987\tvalidation_1-rmspe:0.116047\n",
      "[931]\tvalidation_0-rmse:0.112226\tvalidation_1-rmse:0.136184\tvalidation_0-rmspe:0.139871\tvalidation_1-rmspe:0.116047\n",
      "[932]\tvalidation_0-rmse:0.112223\tvalidation_1-rmse:0.136183\tvalidation_0-rmspe:0.139867\tvalidation_1-rmspe:0.116047\n",
      "[933]\tvalidation_0-rmse:0.112221\tvalidation_1-rmse:0.136181\tvalidation_0-rmspe:0.139865\tvalidation_1-rmspe:0.116045\n",
      "[934]\tvalidation_0-rmse:0.112219\tvalidation_1-rmse:0.136172\tvalidation_0-rmspe:0.139863\tvalidation_1-rmspe:0.116015\n",
      "[935]\tvalidation_0-rmse:0.112215\tvalidation_1-rmse:0.13617\tvalidation_0-rmspe:0.139861\tvalidation_1-rmspe:0.116012\n",
      "[936]\tvalidation_0-rmse:0.112214\tvalidation_1-rmse:0.136169\tvalidation_0-rmspe:0.139858\tvalidation_1-rmspe:0.11601\n",
      "[937]\tvalidation_0-rmse:0.112202\tvalidation_1-rmse:0.136162\tvalidation_0-rmspe:0.139822\tvalidation_1-rmspe:0.116011\n",
      "[938]\tvalidation_0-rmse:0.112198\tvalidation_1-rmse:0.136159\tvalidation_0-rmspe:0.139822\tvalidation_1-rmspe:0.115997\n",
      "[939]\tvalidation_0-rmse:0.112198\tvalidation_1-rmse:0.136159\tvalidation_0-rmspe:0.139822\tvalidation_1-rmspe:0.115997\n",
      "[940]\tvalidation_0-rmse:0.112194\tvalidation_1-rmse:0.136146\tvalidation_0-rmspe:0.139808\tvalidation_1-rmspe:0.115925\n",
      "[941]\tvalidation_0-rmse:0.112188\tvalidation_1-rmse:0.136142\tvalidation_0-rmspe:0.139844\tvalidation_1-rmspe:0.115918\n",
      "[942]\tvalidation_0-rmse:0.112186\tvalidation_1-rmse:0.13614\tvalidation_0-rmspe:0.139844\tvalidation_1-rmspe:0.115917\n",
      "[943]\tvalidation_0-rmse:0.112182\tvalidation_1-rmse:0.136142\tvalidation_0-rmspe:0.139849\tvalidation_1-rmspe:0.115922\n",
      "[944]\tvalidation_0-rmse:0.112182\tvalidation_1-rmse:0.136142\tvalidation_0-rmspe:0.139847\tvalidation_1-rmspe:0.11592\n",
      "[945]\tvalidation_0-rmse:0.112177\tvalidation_1-rmse:0.13614\tvalidation_0-rmspe:0.13983\tvalidation_1-rmspe:0.115914\n",
      "[946]\tvalidation_0-rmse:0.112167\tvalidation_1-rmse:0.136135\tvalidation_0-rmspe:0.139829\tvalidation_1-rmspe:0.115927\n",
      "[947]\tvalidation_0-rmse:0.112162\tvalidation_1-rmse:0.136136\tvalidation_0-rmspe:0.139816\tvalidation_1-rmspe:0.115926\n",
      "[948]\tvalidation_0-rmse:0.112147\tvalidation_1-rmse:0.136131\tvalidation_0-rmspe:0.139785\tvalidation_1-rmspe:0.115909\n",
      "[949]\tvalidation_0-rmse:0.112095\tvalidation_1-rmse:0.136097\tvalidation_0-rmspe:0.139755\tvalidation_1-rmspe:0.115875\n",
      "[950]\tvalidation_0-rmse:0.112093\tvalidation_1-rmse:0.136097\tvalidation_0-rmspe:0.139735\tvalidation_1-rmspe:0.115876\n",
      "[951]\tvalidation_0-rmse:0.112086\tvalidation_1-rmse:0.136094\tvalidation_0-rmspe:0.139727\tvalidation_1-rmspe:0.115871\n",
      "[952]\tvalidation_0-rmse:0.112077\tvalidation_1-rmse:0.13609\tvalidation_0-rmspe:0.139724\tvalidation_1-rmspe:0.115868\n",
      "[953]\tvalidation_0-rmse:0.112059\tvalidation_1-rmse:0.136087\tvalidation_0-rmspe:0.139718\tvalidation_1-rmspe:0.115864\n",
      "[954]\tvalidation_0-rmse:0.112056\tvalidation_1-rmse:0.136078\tvalidation_0-rmspe:0.139714\tvalidation_1-rmspe:0.115863\n",
      "[955]\tvalidation_0-rmse:0.112041\tvalidation_1-rmse:0.136086\tvalidation_0-rmspe:0.139677\tvalidation_1-rmspe:0.11587\n",
      "[956]\tvalidation_0-rmse:0.112037\tvalidation_1-rmse:0.136084\tvalidation_0-rmspe:0.139672\tvalidation_1-rmspe:0.115866\n",
      "[957]\tvalidation_0-rmse:0.112025\tvalidation_1-rmse:0.136078\tvalidation_0-rmspe:0.139666\tvalidation_1-rmspe:0.115856\n",
      "[958]\tvalidation_0-rmse:0.111995\tvalidation_1-rmse:0.136077\tvalidation_0-rmspe:0.13966\tvalidation_1-rmspe:0.115852\n",
      "[959]\tvalidation_0-rmse:0.111991\tvalidation_1-rmse:0.136074\tvalidation_0-rmspe:0.139656\tvalidation_1-rmspe:0.115848\n",
      "[960]\tvalidation_0-rmse:0.111958\tvalidation_1-rmse:0.13607\tvalidation_0-rmspe:0.139653\tvalidation_1-rmspe:0.115843\n",
      "[961]\tvalidation_0-rmse:0.111956\tvalidation_1-rmse:0.13607\tvalidation_0-rmspe:0.139652\tvalidation_1-rmspe:0.115845\n",
      "[962]\tvalidation_0-rmse:0.111953\tvalidation_1-rmse:0.136067\tvalidation_0-rmspe:0.139644\tvalidation_1-rmspe:0.115841\n",
      "[963]\tvalidation_0-rmse:0.111946\tvalidation_1-rmse:0.136063\tvalidation_0-rmspe:0.139639\tvalidation_1-rmspe:0.115831\n",
      "[964]\tvalidation_0-rmse:0.111942\tvalidation_1-rmse:0.136052\tvalidation_0-rmspe:0.139633\tvalidation_1-rmspe:0.115824\n",
      "[965]\tvalidation_0-rmse:0.111909\tvalidation_1-rmse:0.136049\tvalidation_0-rmspe:0.139603\tvalidation_1-rmspe:0.115817\n",
      "[966]\tvalidation_0-rmse:0.111902\tvalidation_1-rmse:0.136049\tvalidation_0-rmspe:0.139601\tvalidation_1-rmspe:0.115815\n",
      "[967]\tvalidation_0-rmse:0.111901\tvalidation_1-rmse:0.13605\tvalidation_0-rmspe:0.1396\tvalidation_1-rmspe:0.115816\n",
      "[968]\tvalidation_0-rmse:0.111896\tvalidation_1-rmse:0.136047\tvalidation_0-rmspe:0.139607\tvalidation_1-rmspe:0.115823\n",
      "[969]\tvalidation_0-rmse:0.11189\tvalidation_1-rmse:0.136048\tvalidation_0-rmspe:0.139609\tvalidation_1-rmspe:0.115826\n",
      "[970]\tvalidation_0-rmse:0.111881\tvalidation_1-rmse:0.136037\tvalidation_0-rmspe:0.139604\tvalidation_1-rmspe:0.115809\n",
      "[971]\tvalidation_0-rmse:0.111878\tvalidation_1-rmse:0.136038\tvalidation_0-rmspe:0.139601\tvalidation_1-rmspe:0.115805\n",
      "[972]\tvalidation_0-rmse:0.111852\tvalidation_1-rmse:0.136038\tvalidation_0-rmspe:0.139598\tvalidation_1-rmspe:0.1158\n",
      "[973]\tvalidation_0-rmse:0.111852\tvalidation_1-rmse:0.136038\tvalidation_0-rmspe:0.1396\tvalidation_1-rmspe:0.115802\n",
      "[974]\tvalidation_0-rmse:0.111847\tvalidation_1-rmse:0.136037\tvalidation_0-rmspe:0.139593\tvalidation_1-rmspe:0.115798\n",
      "[975]\tvalidation_0-rmse:0.111841\tvalidation_1-rmse:0.136035\tvalidation_0-rmspe:0.13959\tvalidation_1-rmspe:0.115796\n",
      "[976]\tvalidation_0-rmse:0.111834\tvalidation_1-rmse:0.136033\tvalidation_0-rmspe:0.139554\tvalidation_1-rmspe:0.115789\n",
      "[977]\tvalidation_0-rmse:0.111834\tvalidation_1-rmse:0.136033\tvalidation_0-rmspe:0.139554\tvalidation_1-rmspe:0.115789\n",
      "[978]\tvalidation_0-rmse:0.111831\tvalidation_1-rmse:0.13603\tvalidation_0-rmspe:0.13955\tvalidation_1-rmspe:0.115785\n",
      "[979]\tvalidation_0-rmse:0.11183\tvalidation_1-rmse:0.13603\tvalidation_0-rmspe:0.139551\tvalidation_1-rmspe:0.115787\n",
      "[980]\tvalidation_0-rmse:0.111832\tvalidation_1-rmse:0.136035\tvalidation_0-rmspe:0.13953\tvalidation_1-rmspe:0.115789\n",
      "[981]\tvalidation_0-rmse:0.111831\tvalidation_1-rmse:0.136033\tvalidation_0-rmspe:0.139528\tvalidation_1-rmspe:0.115783\n",
      "[982]\tvalidation_0-rmse:0.11183\tvalidation_1-rmse:0.136032\tvalidation_0-rmspe:0.139528\tvalidation_1-rmspe:0.115782\n",
      "[983]\tvalidation_0-rmse:0.111828\tvalidation_1-rmse:0.136033\tvalidation_0-rmspe:0.139526\tvalidation_1-rmspe:0.115781\n",
      "[984]\tvalidation_0-rmse:0.111808\tvalidation_1-rmse:0.136031\tvalidation_0-rmspe:0.139489\tvalidation_1-rmspe:0.115779\n",
      "[985]\tvalidation_0-rmse:0.111804\tvalidation_1-rmse:0.136027\tvalidation_0-rmspe:0.13951\tvalidation_1-rmspe:0.115773\n",
      "[986]\tvalidation_0-rmse:0.111803\tvalidation_1-rmse:0.136026\tvalidation_0-rmspe:0.139509\tvalidation_1-rmspe:0.115773\n",
      "[987]\tvalidation_0-rmse:0.111794\tvalidation_1-rmse:0.136022\tvalidation_0-rmspe:0.139498\tvalidation_1-rmspe:0.115769\n",
      "[988]\tvalidation_0-rmse:0.111792\tvalidation_1-rmse:0.136022\tvalidation_0-rmspe:0.139498\tvalidation_1-rmspe:0.115769\n",
      "[989]\tvalidation_0-rmse:0.11179\tvalidation_1-rmse:0.136022\tvalidation_0-rmspe:0.139496\tvalidation_1-rmspe:0.115768\n",
      "[990]\tvalidation_0-rmse:0.111778\tvalidation_1-rmse:0.136018\tvalidation_0-rmspe:0.139495\tvalidation_1-rmspe:0.115765\n",
      "[991]\tvalidation_0-rmse:0.111761\tvalidation_1-rmse:0.136014\tvalidation_0-rmspe:0.139423\tvalidation_1-rmspe:0.11576\n",
      "[992]\tvalidation_0-rmse:0.111755\tvalidation_1-rmse:0.136006\tvalidation_0-rmspe:0.139431\tvalidation_1-rmspe:0.115753\n",
      "[993]\tvalidation_0-rmse:0.111754\tvalidation_1-rmse:0.136006\tvalidation_0-rmspe:0.139427\tvalidation_1-rmspe:0.115751\n",
      "[994]\tvalidation_0-rmse:0.111753\tvalidation_1-rmse:0.136006\tvalidation_0-rmspe:0.139428\tvalidation_1-rmspe:0.115751\n",
      "[995]\tvalidation_0-rmse:0.111752\tvalidation_1-rmse:0.136005\tvalidation_0-rmspe:0.139425\tvalidation_1-rmspe:0.115748\n"
     ]
    },
    {
     "name": "stdout",
     "output_type": "stream",
     "text": [
      "[996]\tvalidation_0-rmse:0.111745\tvalidation_1-rmse:0.136005\tvalidation_0-rmspe:0.139409\tvalidation_1-rmspe:0.115746\n",
      "[997]\tvalidation_0-rmse:0.11174\tvalidation_1-rmse:0.136012\tvalidation_0-rmspe:0.139401\tvalidation_1-rmspe:0.115754\n",
      "[998]\tvalidation_0-rmse:0.111733\tvalidation_1-rmse:0.136011\tvalidation_0-rmspe:0.1394\tvalidation_1-rmspe:0.115754\n",
      "[999]\tvalidation_0-rmse:0.111713\tvalidation_1-rmse:0.135989\tvalidation_0-rmspe:0.13938\tvalidation_1-rmspe:0.11574\n"
     ]
    },
    {
     "data": {
      "text/plain": [
       "XGBRegressor(base_score=0.5, booster='gbtree', colsample_bylevel=1,\n",
       "       colsample_bytree=0.7, gamma=0.4, importance_type='gain',\n",
       "       learning_rate=0.1, max_delta_step=0, max_depth=10,\n",
       "       min_child_weight=1, missing=None, n_estimators=1000, n_jobs=4,\n",
       "       nthread=4, objective='reg:linear', random_state=0, reg_alpha=0,\n",
       "       reg_lambda=1, scale_pos_weight=1, seed=None, silent=True,\n",
       "       subsample=0.8)"
      ]
     },
     "execution_count": 37,
     "metadata": {},
     "output_type": "execute_result"
    }
   ],
   "source": [
    "\n",
    "estimator = xgb.XGBRegressor(max_depth=10,learning_rate =0.1,n_jobs =4, gamma = 0.4,n_estimators=num_trees,subsample=0.8,colsample_bytree=0.7,nthread=4,scale_pos_weight=1)\n",
    "estimator.fit(X_train, Y_train,eval_metric=rmspe_xg, eval_set=eval_set, verbose=True,early_stopping_rounds=20)"
   ]
  },
  {
   "cell_type": "code",
   "execution_count": 38,
   "metadata": {},
   "outputs": [
    {
     "data": {
      "image/png": "[encoded data removed]",
      "text/plain": [
       "<Figure size 432x288 with 1 Axes>"
      ]
     },
     "metadata": {
      "needs_background": "light"
     },
     "output_type": "display_data"
    }
   ],
   "source": [
    "#从最终的训练importnace中看果然是时间序列影响比较大\n",
    "ret = estimator.evals_result()\n",
    "train_line = ret['validation_0']['rmspe'][0:1000:10]\n",
    "eval_line  = ret['validation_1']['rmspe'][0:1000:10]\n",
    "# evaldata = ret['eval']['rmspe'][0:num_trees:10]\n",
    "# traindata = ret['train']['rmspe'][0:num_trees:10]\n",
    "plt.plot(range(0,1000,10),eval_line,color='red',label=\"eval\")\n",
    "plt.plot(range(0,1000,10),train_line,color='blue',label=\"train\")\n",
    "plt.legend(loc='best')\n",
    "y_tick = np.arange(0,1,0.1)\n",
    "plt.yticks(y_tick)\n",
    "plt.show()"
   ]
  },
  {
   "cell_type": "code",
   "execution_count": 55,
   "metadata": {},
   "outputs": [
    {
     "name": "stdout",
     "output_type": "stream",
     "text": [
      "      Sales\n",
      "0  8.568646\n",
      "1  8.521384\n",
      "2  8.472823\n",
      "3  8.519590\n",
      "4  8.716536\n"
     ]
    },
    {
     "name": "stderr",
     "output_type": "stream",
     "text": [
      "D:\\AnaconDA\\lib\\site-packages\\ipykernel_launcher.py:16: SettingWithCopyWarning: \n",
      "A value is trying to be set on a copy of a slice from a DataFrame.\n",
      "Try using .loc[row_indexer,col_indexer] = value instead\n",
      "\n",
      "See the caveats in the documentation: http://pandas.pydata.org/pandas-docs/stable/indexing.html#indexing-view-versus-copy\n",
      "  app.launch_new_instance()\n",
      "D:\\AnaconDA\\lib\\site-packages\\ipykernel_launcher.py:18: SettingWithCopyWarning: \n",
      "A value is trying to be set on a copy of a slice from a DataFrame.\n",
      "Try using .loc[row_indexer,col_indexer] = value instead\n",
      "\n",
      "See the caveats in the documentation: http://pandas.pydata.org/pandas-docs/stable/indexing.html#indexing-view-versus-copy\n",
      "D:\\AnaconDA\\lib\\site-packages\\ipykernel_launcher.py:19: SettingWithCopyWarning: \n",
      "A value is trying to be set on a copy of a slice from a DataFrame.\n",
      "Try using .loc[row_indexer,col_indexer] = value instead\n",
      "\n",
      "See the caveats in the documentation: http://pandas.pydata.org/pandas-docs/stable/indexing.html#indexing-view-versus-copy\n"
     ]
    },
    {
     "name": "stdout",
     "output_type": "stream",
     "text": [
      "int64\n",
      "Index(['DayOfWeek', 'Sales', 'Promo', 'StateHoliday', 'SchoolHoliday',\n",
      "       'StoreType', 'Assortment', 'CompetitionDistance',\n",
      "       'CompetitionOpenSinceMonth', 'CompetitionOpenSinceYear', 'Promo2',\n",
      "       'Promo2SinceWeek', 'Promo2SinceYear', 'Year', 'Month', 'Day'],\n",
      "      dtype='object')\n",
      "      Sales\n",
      "0  8.657778\n",
      "1  8.510493\n",
      "2  8.473204\n",
      "3  8.542768\n",
      "4  8.691531\n"
     ]
    }
   ],
   "source": [
    "#获取商店1号的真实数据和预测数据\n",
    "val_train,val_store,val_test = load_data(Dataset_dir)\n",
    "val_train = val_train[val_train['Open'] != 0]\n",
    "val_train = pd.merge(val_train, val_store, on='Store')\n",
    "test_train = val_train[val_train.Store == 1]\n",
    "train_val1 = pd.DataFrame(test_train,columns=['Sales'])\n",
    "train_val1 = np.log1p(train_val1)\n",
    "build_feature(test_train,True)\n",
    "test_train.drop('Sales',axis=1,inplace=True)\n",
    "pred = estimator.predict(test_train)\n",
    "train_val2 = pd.DataFrame(pred,columns=['Sales'])"
   ]
  },
  {
   "cell_type": "code",
   "execution_count": 57,
   "metadata": {},
   "outputs": [
    {
     "data": {
      "text/plain": [
       "<matplotlib.axes._subplots.AxesSubplot at 0xb1da860>"
      ]
     },
     "execution_count": 57,
     "metadata": {},
     "output_type": "execute_result"
    },
    {
     "data": {
      "image/png": "[encoded data removed]",
      "text/plain": [
       "<Figure size 432x288 with 1 Axes>"
      ]
     },
     "metadata": {
      "needs_background": "light"
     },
     "output_type": "display_data"
    },
    {
     "data": {
      "image/png": "[encoded data removed]",
      "text/plain": [
       "<Figure size 432x288 with 1 Axes>"
      ]
     },
     "metadata": {
      "needs_background": "light"
     },
     "output_type": "display_data"
    }
   ],
   "source": [
    "train_val1.plot.line()\n",
    "train_val2.plot.line()"
   ]
  },
  {
   "cell_type": "code",
   "execution_count": 60,
   "metadata": {},
   "outputs": [
    {
     "data": {
      "text/plain": [
       "<matplotlib.axes._subplots.AxesSubplot at 0xb1f27f0>"
      ]
     },
     "execution_count": 60,
     "metadata": {},
     "output_type": "execute_result"
    },
    {
     "data": {
      "image/png": "[encoded data removed]",
      "text/plain": [
       "<Figure size 432x288 with 1 Axes>"
      ]
     },
     "metadata": {
      "needs_background": "light"
     },
     "output_type": "display_data"
    }
   ],
   "source": [
    "xgb.plot_importance(estimator.get_booster())"
   ]
  },
  {
   "cell_type": "code",
   "execution_count": 35,
   "metadata": {},
   "outputs": [
    {
     "name": "stdout",
     "output_type": "stream",
     "text": [
      "[  544   677   841 ... 40230 40231 40232]\n"
     ]
    }
   ],
   "source": [
    "#预测测试数据\n",
    "regetTest = pd.read_csv(\"./test.csv\")\n",
    "replaceID = regetTest[regetTest.Open == 0.0]['Id']\n",
    "print(replaceID.values)\n",
    "test_probs = estimator.predict(test)\n",
    "result = pd.DataFrame({\"Id\": TESTID , 'Sales': np.exp(test_probs)})\n",
    "result.loc[result['Id'].isin(replaceID.values),'Sales'] = 0"
   ]
  },
  {
   "cell_type": "code",
   "execution_count": 36,
   "metadata": {},
   "outputs": [],
   "source": [
    "#预测测试数据输出\n",
    "result.to_csv(\"xgboost_submission.csv\", index=False)"
   ]
  },
  {
   "cell_type": "code",
   "execution_count": null,
   "metadata": {},
   "outputs": [],
   "source": []
  },
  {
   "cell_type": "code",
   "execution_count": null,
   "metadata": {},
   "outputs": [],
   "source": []
  },
  {
   "cell_type": "code",
   "execution_count": null,
   "metadata": {},
   "outputs": [],
   "source": []
  },
  {
   "cell_type": "code",
   "execution_count": null,
   "metadata": {},
   "outputs": [],
   "source": []
  },
  {
   "cell_type": "code",
   "execution_count": null,
   "metadata": {},
   "outputs": [],
   "source": []
  },
  {
   "cell_type": "code",
   "execution_count": null,
   "metadata": {},
   "outputs": [],
   "source": []
  },
  {
   "cell_type": "code",
   "execution_count": null,
   "metadata": {},
   "outputs": [],
   "source": []
  },
  {
   "cell_type": "code",
   "execution_count": null,
   "metadata": {},
   "outputs": [],
   "source": []
  },
  {
   "cell_type": "code",
   "execution_count": null,
   "metadata": {},
   "outputs": [],
   "source": []
  },
  {
   "cell_type": "code",
   "execution_count": null,
   "metadata": {},
   "outputs": [],
   "source": []
  },
  {
   "cell_type": "code",
   "execution_count": null,
   "metadata": {},
   "outputs": [],
   "source": []
  },
  {
   "cell_type": "code",
   "execution_count": null,
   "metadata": {},
   "outputs": [],
   "source": []
  },
  {
   "cell_type": "code",
   "execution_count": null,
   "metadata": {},
   "outputs": [],
   "source": []
  },
  {
   "cell_type": "code",
   "execution_count": null,
   "metadata": {},
   "outputs": [],
   "source": []
  },
  {
   "cell_type": "code",
   "execution_count": null,
   "metadata": {},
   "outputs": [],
   "source": []
  },
  {
   "cell_type": "code",
   "execution_count": null,
   "metadata": {},
   "outputs": [],
   "source": []
  },
  {
   "cell_type": "code",
   "execution_count": null,
   "metadata": {},
   "outputs": [],
   "source": []
  }
 ],
 "metadata": {
  "kernelspec": {
   "display_name": "Python 3",
   "language": "python",
   "name": "python3"
  },
  "language_info": {
   "codemirror_mode": {
    "name": "ipython",
    "version": 3
   },
   "file_extension": ".py",
   "mimetype": "text/x-python",
   "name": "python",
   "nbconvert_exporter": "python",
   "pygments_lexer": "ipython3",
   "version": "3.7.1"
  }
 },
 "nbformat": 4,
 "nbformat_minor": 2
}
