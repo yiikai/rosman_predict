{
 "cells": [
  {
   "cell_type": "code",
   "execution_count": 47,
   "metadata": {},
   "outputs": [],
   "source": [
    "import numpy as np\n",
    "import pandas as pd\n",
    "import matplotlib.pyplot as plt\n",
    "from sklearn.preprocessing import OneHotEncoder,LabelEncoder,MinMaxScaler\n",
    "import xgboost as xgb\n",
    "import os\n",
    "os.environ['KMP_DUPLICATE_LIB_OK']='True'"
   ]
  },
  {
   "cell_type": "code",
   "execution_count": 48,
   "metadata": {},
   "outputs": [],
   "source": [
    "Dataset_dir = [\"./train.csv\", \"./store.csv\",\"./test.csv\"]\n",
    "pd.options.display.max_columns = None"
   ]
  },
  {
   "cell_type": "code",
   "execution_count": 49,
   "metadata": {},
   "outputs": [],
   "source": [
    "def load_data(dir):\n",
    "    data = pd.read_csv(dir[0],parse_dates=[2])\n",
    "    store = pd.read_csv(dir[1])\n",
    "    test = pd.read_csv(dir[2],parse_dates=[3])\n",
    "    return data,store,test"
   ]
  },
  {
   "cell_type": "code",
   "execution_count": 50,
   "metadata": {},
   "outputs": [
    {
     "name": "stderr",
     "output_type": "stream",
     "text": [
      "D:\\AnaconDA\\lib\\site-packages\\IPython\\core\\interactiveshell.py:3185: DtypeWarning: Columns (7) have mixed types. Specify dtype option on import or set low_memory=False.\n",
      "  if (yield from self.run_code(code, result)):\n"
     ]
    },
    {
     "name": "stdout",
     "output_type": "stream",
     "text": [
      "Index(['Store', 'DayOfWeek', 'Date', 'Sales', 'Customers', 'Open', 'Promo',\n",
      "       'StateHoliday', 'SchoolHoliday', 'StoreType', 'Assortment',\n",
      "       'CompetitionDistance', 'CompetitionOpenSinceMonth',\n",
      "       'CompetitionOpenSinceYear', 'Promo2', 'Promo2SinceWeek',\n",
      "       'Promo2SinceYear', 'PromoInterval'],\n",
      "      dtype='object')\n",
      "Index(['Id', 'Store', 'DayOfWeek', 'Date', 'Open', 'Promo', 'StateHoliday',\n",
      "       'SchoolHoliday', 'StoreType', 'Assortment', 'CompetitionDistance',\n",
      "       'CompetitionOpenSinceMonth', 'CompetitionOpenSinceYear', 'Promo2',\n",
      "       'Promo2SinceWeek', 'Promo2SinceYear', 'PromoInterval'],\n",
      "      dtype='object')\n"
     ]
    }
   ],
   "source": [
    "train,store,test = load_data(Dataset_dir)\n",
    "train = train[train['Open'] != 0]\n",
    "test = test[test['Open'] != 0]\n",
    "train = pd.merge(train, store, on='Store')\n",
    "test = pd.merge(test, store, on='Store')\n",
    "print(train.columns)\n",
    "print(test.columns)"
   ]
  },
  {
   "cell_type": "code",
   "execution_count": 51,
   "metadata": {},
   "outputs": [
    {
     "data": {
      "text/html": [
       "<div>\n",
       "<style scoped>\n",
       "    .dataframe tbody tr th:only-of-type {\n",
       "        vertical-align: middle;\n",
       "    }\n",
       "\n",
       "    .dataframe tbody tr th {\n",
       "        vertical-align: top;\n",
       "    }\n",
       "\n",
       "    .dataframe thead th {\n",
       "        text-align: right;\n",
       "    }\n",
       "</style>\n",
       "<table border=\"1\" class=\"dataframe\">\n",
       "  <thead>\n",
       "    <tr style=\"text-align: right;\">\n",
       "      <th></th>\n",
       "      <th>Store</th>\n",
       "      <th>DayOfWeek</th>\n",
       "      <th>Sales</th>\n",
       "      <th>Customers</th>\n",
       "      <th>Open</th>\n",
       "      <th>Promo</th>\n",
       "      <th>SchoolHoliday</th>\n",
       "      <th>CompetitionDistance</th>\n",
       "      <th>CompetitionOpenSinceMonth</th>\n",
       "      <th>CompetitionOpenSinceYear</th>\n",
       "      <th>Promo2</th>\n",
       "      <th>Promo2SinceWeek</th>\n",
       "      <th>Promo2SinceYear</th>\n",
       "    </tr>\n",
       "  </thead>\n",
       "  <tbody>\n",
       "    <tr>\n",
       "      <th>count</th>\n",
       "      <td>844392.000000</td>\n",
       "      <td>844392.000000</td>\n",
       "      <td>844392.000000</td>\n",
       "      <td>844392.000000</td>\n",
       "      <td>844392.0</td>\n",
       "      <td>844392.000000</td>\n",
       "      <td>844392.000000</td>\n",
       "      <td>842206.000000</td>\n",
       "      <td>575773.000000</td>\n",
       "      <td>575773.000000</td>\n",
       "      <td>844392.000000</td>\n",
       "      <td>421085.000000</td>\n",
       "      <td>421085.000000</td>\n",
       "    </tr>\n",
       "    <tr>\n",
       "      <th>mean</th>\n",
       "      <td>558.422920</td>\n",
       "      <td>3.520361</td>\n",
       "      <td>6955.514291</td>\n",
       "      <td>762.728395</td>\n",
       "      <td>1.0</td>\n",
       "      <td>0.446352</td>\n",
       "      <td>0.193580</td>\n",
       "      <td>5457.979627</td>\n",
       "      <td>7.224879</td>\n",
       "      <td>2008.697747</td>\n",
       "      <td>0.498684</td>\n",
       "      <td>23.253426</td>\n",
       "      <td>2011.754019</td>\n",
       "    </tr>\n",
       "    <tr>\n",
       "      <th>std</th>\n",
       "      <td>321.731914</td>\n",
       "      <td>1.723689</td>\n",
       "      <td>3104.214680</td>\n",
       "      <td>401.227674</td>\n",
       "      <td>0.0</td>\n",
       "      <td>0.497114</td>\n",
       "      <td>0.395103</td>\n",
       "      <td>7809.437311</td>\n",
       "      <td>3.210144</td>\n",
       "      <td>5.978048</td>\n",
       "      <td>0.499999</td>\n",
       "      <td>14.100569</td>\n",
       "      <td>1.660962</td>\n",
       "    </tr>\n",
       "    <tr>\n",
       "      <th>min</th>\n",
       "      <td>1.000000</td>\n",
       "      <td>1.000000</td>\n",
       "      <td>0.000000</td>\n",
       "      <td>0.000000</td>\n",
       "      <td>1.0</td>\n",
       "      <td>0.000000</td>\n",
       "      <td>0.000000</td>\n",
       "      <td>20.000000</td>\n",
       "      <td>1.000000</td>\n",
       "      <td>1900.000000</td>\n",
       "      <td>0.000000</td>\n",
       "      <td>1.000000</td>\n",
       "      <td>2009.000000</td>\n",
       "    </tr>\n",
       "    <tr>\n",
       "      <th>25%</th>\n",
       "      <td>280.000000</td>\n",
       "      <td>2.000000</td>\n",
       "      <td>4859.000000</td>\n",
       "      <td>519.000000</td>\n",
       "      <td>1.0</td>\n",
       "      <td>0.000000</td>\n",
       "      <td>0.000000</td>\n",
       "      <td>710.000000</td>\n",
       "      <td>4.000000</td>\n",
       "      <td>2006.000000</td>\n",
       "      <td>0.000000</td>\n",
       "      <td>13.000000</td>\n",
       "      <td>2011.000000</td>\n",
       "    </tr>\n",
       "    <tr>\n",
       "      <th>50%</th>\n",
       "      <td>558.000000</td>\n",
       "      <td>3.000000</td>\n",
       "      <td>6369.000000</td>\n",
       "      <td>676.000000</td>\n",
       "      <td>1.0</td>\n",
       "      <td>0.000000</td>\n",
       "      <td>0.000000</td>\n",
       "      <td>2320.000000</td>\n",
       "      <td>8.000000</td>\n",
       "      <td>2010.000000</td>\n",
       "      <td>0.000000</td>\n",
       "      <td>22.000000</td>\n",
       "      <td>2012.000000</td>\n",
       "    </tr>\n",
       "    <tr>\n",
       "      <th>75%</th>\n",
       "      <td>837.000000</td>\n",
       "      <td>5.000000</td>\n",
       "      <td>8360.000000</td>\n",
       "      <td>893.000000</td>\n",
       "      <td>1.0</td>\n",
       "      <td>1.000000</td>\n",
       "      <td>0.000000</td>\n",
       "      <td>6890.000000</td>\n",
       "      <td>10.000000</td>\n",
       "      <td>2013.000000</td>\n",
       "      <td>1.000000</td>\n",
       "      <td>37.000000</td>\n",
       "      <td>2013.000000</td>\n",
       "    </tr>\n",
       "    <tr>\n",
       "      <th>max</th>\n",
       "      <td>1115.000000</td>\n",
       "      <td>7.000000</td>\n",
       "      <td>41551.000000</td>\n",
       "      <td>7388.000000</td>\n",
       "      <td>1.0</td>\n",
       "      <td>1.000000</td>\n",
       "      <td>1.000000</td>\n",
       "      <td>75860.000000</td>\n",
       "      <td>12.000000</td>\n",
       "      <td>2015.000000</td>\n",
       "      <td>1.000000</td>\n",
       "      <td>50.000000</td>\n",
       "      <td>2015.000000</td>\n",
       "    </tr>\n",
       "  </tbody>\n",
       "</table>\n",
       "</div>"
      ],
      "text/plain": [
       "               Store      DayOfWeek          Sales      Customers      Open  \\\n",
       "count  844392.000000  844392.000000  844392.000000  844392.000000  844392.0   \n",
       "mean      558.422920       3.520361    6955.514291     762.728395       1.0   \n",
       "std       321.731914       1.723689    3104.214680     401.227674       0.0   \n",
       "min         1.000000       1.000000       0.000000       0.000000       1.0   \n",
       "25%       280.000000       2.000000    4859.000000     519.000000       1.0   \n",
       "50%       558.000000       3.000000    6369.000000     676.000000       1.0   \n",
       "75%       837.000000       5.000000    8360.000000     893.000000       1.0   \n",
       "max      1115.000000       7.000000   41551.000000    7388.000000       1.0   \n",
       "\n",
       "               Promo  SchoolHoliday  CompetitionDistance  \\\n",
       "count  844392.000000  844392.000000        842206.000000   \n",
       "mean        0.446352       0.193580          5457.979627   \n",
       "std         0.497114       0.395103          7809.437311   \n",
       "min         0.000000       0.000000            20.000000   \n",
       "25%         0.000000       0.000000           710.000000   \n",
       "50%         0.000000       0.000000          2320.000000   \n",
       "75%         1.000000       0.000000          6890.000000   \n",
       "max         1.000000       1.000000         75860.000000   \n",
       "\n",
       "       CompetitionOpenSinceMonth  CompetitionOpenSinceYear         Promo2  \\\n",
       "count              575773.000000             575773.000000  844392.000000   \n",
       "mean                    7.224879               2008.697747       0.498684   \n",
       "std                     3.210144                  5.978048       0.499999   \n",
       "min                     1.000000               1900.000000       0.000000   \n",
       "25%                     4.000000               2006.000000       0.000000   \n",
       "50%                     8.000000               2010.000000       0.000000   \n",
       "75%                    10.000000               2013.000000       1.000000   \n",
       "max                    12.000000               2015.000000       1.000000   \n",
       "\n",
       "       Promo2SinceWeek  Promo2SinceYear  \n",
       "count    421085.000000    421085.000000  \n",
       "mean         23.253426      2011.754019  \n",
       "std          14.100569         1.660962  \n",
       "min           1.000000      2009.000000  \n",
       "25%          13.000000      2011.000000  \n",
       "50%          22.000000      2012.000000  \n",
       "75%          37.000000      2013.000000  \n",
       "max          50.000000      2015.000000  "
      ]
     },
     "execution_count": 51,
     "metadata": {},
     "output_type": "execute_result"
    }
   ],
   "source": [
    "train.describe()"
   ]
  },
  {
   "cell_type": "code",
   "execution_count": 52,
   "metadata": {},
   "outputs": [
    {
     "data": {
      "image/png": "[encoded data removed]",
      "text/plain": [
       "<Figure size 432x288 with 1 Axes>"
      ]
     },
     "metadata": {
      "needs_background": "light"
     },
     "output_type": "display_data"
    },
    {
     "data": {
      "image/png": "[encoded data removed]",
      "text/plain": [
       "<Figure size 432x288 with 1 Axes>"
      ]
     },
     "metadata": {
      "needs_background": "light"
     },
     "output_type": "display_data"
    }
   ],
   "source": [
    "sales_mean = train.groupby('Store')['Sales'].mean()\n",
    "plt.hist(sales_mean)\n",
    "plt.show()\n",
    "plt.hist(np.log1p(sales_mean))\n",
    "plt.show()"
   ]
  },
  {
   "cell_type": "code",
   "execution_count": 53,
   "metadata": {},
   "outputs": [],
   "source": [
    "Store_DaysWeek = train.groupby(['Store','DayOfWeek'])\n",
    "sw_mean = Store_DaysWeek[\"Sales\"].mean()"
   ]
  },
  {
   "cell_type": "code",
   "execution_count": 54,
   "metadata": {},
   "outputs": [],
   "source": [
    "def build_feature(data,istrain):\n",
    "    mappings = {'0':0, 'a':1, 'b':2, 'c':3, 'd':4}\n",
    "    data.StoreType.replace(mappings, inplace=True)\n",
    "    data.Assortment.replace(mappings, inplace=True)\n",
    "    data.StateHoliday.replace(mappings, inplace=True)\n",
    "    \n",
    "    #CART回归树不需要预处理数据和NAn值\n",
    "#     distance_max = max(data.CompetitionDistance)\n",
    "#     data.CompetitionDistance.mask(data.CompetitionDistance.isna(),other=distance_max,inplace=True)\n",
    "#     print(data.CompetitionDistance.isnull().any())\n",
    "#     min_max_scaler = MinMaxScaler()\n",
    "#     scaledata = min_max_scaler.fit_transform(data[['CompetitionDistance']])\n",
    "#     data.drop(\"CompetitionDistance\",axis=1)\n",
    "#     data['CompetitionDistance'] = scaledata\n",
    "    #时间序列问题 需要考虑进时间的因素\n",
    "    data['Year'] = data.Date.dt.year\n",
    "    data['Month'] = data.Date.dt.month\n",
    "    data['Day'] = data.Date.dt.day\n",
    "    \n",
    "    if istrain:\n",
    "        data.drop(['Store','Open','Date','Customers','PromoInterval'],axis=1,inplace=True)\n",
    "    else:\n",
    "        data.drop(['Id','Store','Open','Date','PromoInterval'],axis=1,inplace=True)\n",
    "    print(data.columns)"
   ]
  },
  {
   "cell_type": "code",
   "execution_count": 55,
   "metadata": {},
   "outputs": [
    {
     "name": "stdout",
     "output_type": "stream",
     "text": [
      "Index(['DayOfWeek', 'Sales', 'Promo', 'StateHoliday', 'SchoolHoliday',\n",
      "       'StoreType', 'Assortment', 'CompetitionDistance',\n",
      "       'CompetitionOpenSinceMonth', 'CompetitionOpenSinceYear', 'Promo2',\n",
      "       'Promo2SinceWeek', 'Promo2SinceYear', 'Year', 'Month', 'Day'],\n",
      "      dtype='object')\n",
      "Index(['DayOfWeek', 'Promo', 'StateHoliday', 'SchoolHoliday', 'StoreType',\n",
      "       'Assortment', 'CompetitionDistance', 'CompetitionOpenSinceMonth',\n",
      "       'CompetitionOpenSinceYear', 'Promo2', 'Promo2SinceWeek',\n",
      "       'Promo2SinceYear', 'Year', 'Month', 'Day'],\n",
      "      dtype='object')\n"
     ]
    }
   ],
   "source": [
    "#build train data\n",
    "build_feature(train,True)\n",
    "#build test data\n",
    "build_feature(test,False)"
   ]
  },
  {
   "cell_type": "code",
   "execution_count": 56,
   "metadata": {},
   "outputs": [
    {
     "data": {
      "image/png": "[encoded data removed]",
      "text/plain": [
       "<Figure size 432x288 with 1 Axes>"
      ]
     },
     "metadata": {
      "needs_background": "light"
     },
     "output_type": "display_data"
    },
    {
     "data": {
      "image/png": "[encoded data removed]",
      "text/plain": [
       "<Figure size 432x288 with 1 Axes>"
      ]
     },
     "metadata": {
      "needs_background": "light"
     },
     "output_type": "display_data"
    },
    {
     "data": {
      "image/png": "[encoded data removed]",
      "text/plain": [
       "<Figure size 432x288 with 1 Axes>"
      ]
     },
     "metadata": {
      "needs_background": "light"
     },
     "output_type": "display_data"
    },
    {
     "data": {
      "image/png": "[encoded data removed]",
      "text/plain": [
       "<Figure size 432x288 with 1 Axes>"
      ]
     },
     "metadata": {
      "needs_background": "light"
     },
     "output_type": "display_data"
    },
    {
     "data": {
      "image/png": "[encoded data removed]",
      "text/plain": [
       "<Figure size 432x288 with 1 Axes>"
      ]
     },
     "metadata": {
      "needs_background": "light"
     },
     "output_type": "display_data"
    }
   ],
   "source": [
    "ST_gp = train.groupby('StoreType')['Sales'].agg('mean')\n",
    "import seaborn as sns\n",
    "sns.barplot(ST_gp.index,ST_gp.values)\n",
    "plt.show()\n",
    "StateOPen_gp = train.groupby(['StateHoliday','SchoolHoliday'])['Sales'].agg('mean')\n",
    "sns.barplot(StateOPen_gp.index,StateOPen_gp.values)\n",
    "plt.show()\n",
    "As_gp = train.groupby('Assortment')['Sales'].agg('mean')\n",
    "sns.barplot(As_gp.index,As_gp.values)\n",
    "plt.show()\n",
    "Dayweek_gp = train.groupby(['StoreType','DayOfWeek'])['Sales'].agg('mean')\n",
    "ax = sns.barplot(Dayweek_gp.index,Dayweek_gp.values)\n",
    "ax.set_xticklabels(ax.get_xticklabels(), rotation=90, ha=\"right\")\n",
    "plt.tight_layout()\n",
    "plt.show()\n",
    "\n",
    "#每年销售额的趋势\n",
    "YearS_gp = train.groupby(['Year'])['Sales'].agg(\"mean\")\n",
    "ax2 = sns.lineplot(YearS_gp.index,YearS_gp.values)\n",
    "plt.tight_layout()\n",
    "plt.show()"
   ]
  },
  {
   "cell_type": "code",
   "execution_count": 57,
   "metadata": {},
   "outputs": [],
   "source": [
    "# from sklearn.ensemble import GradientBoostingRegressor\n",
    "# print(train.size)\n",
    "# train.dropna(axis=0,how='any',inplace=True)\n",
    "# print(train.size)"
   ]
  },
  {
   "cell_type": "code",
   "execution_count": 58,
   "metadata": {},
   "outputs": [
    {
     "name": "stderr",
     "output_type": "stream",
     "text": [
      "D:\\AnaconDA\\lib\\site-packages\\pandas\\core\\frame.py:3697: SettingWithCopyWarning: \n",
      "A value is trying to be set on a copy of a slice from a DataFrame\n",
      "\n",
      "See the caveats in the documentation: http://pandas.pydata.org/pandas-docs/stable/indexing.html#indexing-view-versus-copy\n",
      "  errors=errors)\n"
     ]
    }
   ],
   "source": [
    "#split train vaild data\n",
    "from sklearn.model_selection import train_test_split\n",
    "X_train, X_valid = train_test_split(train, test_size=0.012, random_state=10)\n",
    "Y_train = X_train[\"Sales\"]\n",
    "Y_valid = X_valid[\"Sales\"]\n",
    "X_train.drop(\"Sales\",axis=1,inplace=True)\n",
    "X_valid.drop(\"Sales\",axis=1,inplace=True)"
   ]
  },
  {
   "cell_type": "code",
   "execution_count": 59,
   "metadata": {},
   "outputs": [
    {
     "data": {
      "image/png": "[encoded data removed]",
      "text/plain": [
       "<Figure size 432x288 with 1 Axes>"
      ]
     },
     "metadata": {
      "needs_background": "light"
     },
     "output_type": "display_data"
    }
   ],
   "source": [
    "plt.boxplot([Y_train,Y_valid])\n",
    "plt.show()"
   ]
  },
  {
   "cell_type": "code",
   "execution_count": 60,
   "metadata": {},
   "outputs": [
    {
     "data": {
      "image/png": "[encoded data removed]",
      "text/plain": [
       "<Figure size 432x288 with 1 Axes>"
      ]
     },
     "metadata": {
      "needs_background": "light"
     },
     "output_type": "display_data"
    }
   ],
   "source": [
    "Y_train = np.log1p(Y_train)\n",
    "Y_valid = np.log1p(Y_valid)\n",
    "plt.boxplot([Y_train,Y_valid])\n",
    "plt.show()"
   ]
  },
  {
   "cell_type": "code",
   "execution_count": 61,
   "metadata": {},
   "outputs": [],
   "source": [
    "def ToWeight(y):\n",
    "    w = np.zeros(y.shape, dtype=float)\n",
    "    ind = y != 0\n",
    "    w[ind] = 1./(y[ind]**2)\n",
    "    return w\n",
    "\n",
    "def rmspe(yhat, y):\n",
    "    w = ToWeight(y)\n",
    "    rmspe = np.sqrt(np.mean( w * (y - yhat)**2 ))\n",
    "    return rmspe\n",
    "\n",
    "def rmspe_xg(yhat, y):\n",
    "    # y = y.values\n",
    "    y = y.get_label()\n",
    "    y = np.exp(y) - 1\n",
    "    yhat = np.exp(yhat) - 1\n",
    "    w = ToWeight(y)\n",
    "    rmspe = np.sqrt(np.mean(w * (y - yhat)**2))\n",
    "    return \"rmspe\", rmspe\n",
    "\n",
    "epohs = 20"
   ]
  },
  {
   "cell_type": "code",
   "execution_count": 64,
   "metadata": {},
   "outputs": [
    {
     "name": "stdout",
     "output_type": "stream",
     "text": [
      "[0]\teval-rmse:7.02639\ttrain-rmse:7.0309\teval-rmspe:0.999145\ttrain-rmspe:0.999167\n",
      "Multiple eval metrics have been passed: 'train-rmspe' will be used for early stopping.\n",
      "\n",
      "Will train until train-rmspe hasn't improved in 50 rounds.\n",
      "[1]\teval-rmse:5.9757\ttrain-rmse:5.97971\teval-rmspe:0.997334\ttrain-rmspe:0.997363\n",
      "[2]\teval-rmse:5.08271\ttrain-rmse:5.08608\teval-rmspe:0.993358\ttrain-rmspe:0.993396\n",
      "[3]\teval-rmse:4.32402\ttrain-rmse:4.32712\teval-rmspe:0.985735\ttrain-rmspe:0.985794\n",
      "[4]\teval-rmse:3.67966\ttrain-rmse:3.68213\teval-rmspe:0.972857\ttrain-rmspe:0.972934\n",
      "[5]\teval-rmse:3.13258\ttrain-rmse:3.13461\teval-rmspe:0.953131\ttrain-rmspe:0.953246\n",
      "[6]\teval-rmse:2.66724\ttrain-rmse:2.66927\teval-rmspe:0.925658\ttrain-rmspe:0.925838\n",
      "[7]\teval-rmse:2.27266\ttrain-rmse:2.27429\teval-rmspe:0.890117\ttrain-rmspe:0.890395\n",
      "[8]\teval-rmse:1.93755\ttrain-rmse:1.93891\teval-rmspe:0.846943\ttrain-rmspe:0.847366\n",
      "[9]\teval-rmse:1.65379\ttrain-rmse:1.65452\teval-rmspe:0.797449\ttrain-rmspe:0.798071\n",
      "[10]\teval-rmse:1.41305\ttrain-rmse:1.41372\teval-rmspe:0.743014\ttrain-rmspe:0.7437\n",
      "[11]\teval-rmse:1.20957\ttrain-rmse:1.21\teval-rmspe:0.685835\ttrain-rmspe:0.686889\n",
      "[12]\teval-rmse:1.03705\ttrain-rmse:1.03739\teval-rmspe:0.627823\ttrain-rmspe:0.629467\n",
      "[13]\teval-rmse:0.892354\ttrain-rmse:0.892404\teval-rmspe:0.570734\ttrain-rmspe:0.572733\n",
      "[14]\teval-rmse:0.770648\ttrain-rmse:0.770444\teval-rmspe:0.516281\ttrain-rmspe:0.519051\n",
      "[15]\teval-rmse:0.669043\ttrain-rmse:0.668551\teval-rmspe:0.465728\ttrain-rmspe:0.469586\n",
      "[16]\teval-rmse:0.584834\ttrain-rmse:0.583947\teval-rmspe:0.420131\ttrain-rmspe:0.42519\n",
      "[17]\teval-rmse:0.514543\ttrain-rmse:0.513167\teval-rmspe:0.379803\ttrain-rmspe:0.386325\n",
      "[18]\teval-rmse:0.455213\ttrain-rmse:0.453012\teval-rmspe:0.344423\ttrain-rmspe:0.35241\n",
      "[19]\teval-rmse:0.408221\ttrain-rmse:0.405505\teval-rmspe:0.315217\ttrain-rmspe:0.324523\n",
      "[20]\teval-rmse:0.3686\ttrain-rmse:0.36525\teval-rmspe:0.290219\ttrain-rmspe:0.3011\n",
      "[21]\teval-rmse:0.337524\ttrain-rmse:0.333522\teval-rmspe:0.270777\ttrain-rmspe:0.283343\n",
      "[22]\teval-rmse:0.31267\ttrain-rmse:0.308199\teval-rmspe:0.255533\ttrain-rmspe:0.270255\n",
      "[23]\teval-rmse:0.294046\ttrain-rmse:0.288942\teval-rmspe:0.244971\ttrain-rmspe:0.261081\n",
      "[24]\teval-rmse:0.277014\ttrain-rmse:0.271377\teval-rmspe:0.235383\ttrain-rmspe:0.252713\n",
      "[25]\teval-rmse:0.264727\ttrain-rmse:0.25851\teval-rmspe:0.228934\ttrain-rmspe:0.247492\n",
      "[26]\teval-rmse:0.255061\ttrain-rmse:0.248353\teval-rmspe:0.224447\ttrain-rmspe:0.244054\n",
      "[27]\teval-rmse:0.247783\ttrain-rmse:0.240441\teval-rmspe:0.22153\ttrain-rmspe:0.241556\n",
      "[28]\teval-rmse:0.240939\ttrain-rmse:0.233287\teval-rmspe:0.218453\ttrain-rmspe:0.239088\n",
      "[29]\teval-rmse:0.235168\ttrain-rmse:0.227163\teval-rmspe:0.21532\ttrain-rmspe:0.236655\n",
      "[30]\teval-rmse:0.232089\ttrain-rmse:0.223551\teval-rmspe:0.214994\ttrain-rmspe:0.236398\n",
      "[31]\teval-rmse:0.225005\ttrain-rmse:0.216136\teval-rmspe:0.20977\ttrain-rmspe:0.232433\n",
      "[32]\teval-rmse:0.219345\ttrain-rmse:0.210339\teval-rmspe:0.205661\ttrain-rmspe:0.229258\n",
      "[33]\teval-rmse:0.216281\ttrain-rmse:0.206999\teval-rmspe:0.203879\ttrain-rmspe:0.227581\n",
      "[34]\teval-rmse:0.209054\ttrain-rmse:0.199517\teval-rmspe:0.196871\ttrain-rmspe:0.221783\n",
      "[35]\teval-rmse:0.207822\ttrain-rmse:0.197936\teval-rmspe:0.196593\ttrain-rmspe:0.22148\n",
      "[36]\teval-rmse:0.206149\ttrain-rmse:0.195923\teval-rmspe:0.195713\ttrain-rmspe:0.220543\n",
      "[37]\teval-rmse:0.205485\ttrain-rmse:0.194959\teval-rmspe:0.19589\ttrain-rmspe:0.220477\n",
      "[38]\teval-rmse:0.204888\ttrain-rmse:0.194155\teval-rmspe:0.195928\ttrain-rmspe:0.220129\n",
      "[39]\teval-rmse:0.198075\ttrain-rmse:0.186903\teval-rmspe:0.18814\ttrain-rmspe:0.213629\n",
      "[40]\teval-rmse:0.196177\ttrain-rmse:0.18484\teval-rmspe:0.186555\ttrain-rmspe:0.21235\n",
      "[41]\teval-rmse:0.192165\ttrain-rmse:0.180691\teval-rmspe:0.182066\ttrain-rmspe:0.208854\n",
      "[42]\teval-rmse:0.1913\ttrain-rmse:0.179556\teval-rmspe:0.181392\ttrain-rmspe:0.208082\n",
      "[43]\teval-rmse:0.188271\ttrain-rmse:0.176087\teval-rmspe:0.178029\ttrain-rmspe:0.2048\n",
      "[44]\teval-rmse:0.187792\ttrain-rmse:0.175501\teval-rmspe:0.17771\ttrain-rmspe:0.20454\n",
      "[45]\teval-rmse:0.186295\ttrain-rmse:0.173834\teval-rmspe:0.176122\ttrain-rmspe:0.20305\n",
      "[46]\teval-rmse:0.183641\ttrain-rmse:0.171048\teval-rmspe:0.173189\ttrain-rmspe:0.200727\n",
      "[47]\teval-rmse:0.183105\ttrain-rmse:0.170138\teval-rmspe:0.172675\ttrain-rmspe:0.199957\n",
      "[48]\teval-rmse:0.181647\ttrain-rmse:0.168627\teval-rmspe:0.171269\ttrain-rmspe:0.198909\n",
      "[49]\teval-rmse:0.181034\ttrain-rmse:0.167733\teval-rmspe:0.17072\ttrain-rmspe:0.198224\n",
      "[50]\teval-rmse:0.177373\ttrain-rmse:0.163784\teval-rmspe:0.166111\ttrain-rmspe:0.194628\n",
      "[51]\teval-rmse:0.175479\ttrain-rmse:0.161556\teval-rmspe:0.164001\ttrain-rmspe:0.192684\n",
      "[52]\teval-rmse:0.175176\ttrain-rmse:0.161094\teval-rmspe:0.163433\ttrain-rmspe:0.191798\n",
      "[53]\teval-rmse:0.174784\ttrain-rmse:0.160583\teval-rmspe:0.162985\ttrain-rmspe:0.191265\n",
      "[54]\teval-rmse:0.172103\ttrain-rmse:0.157418\teval-rmspe:0.159644\ttrain-rmspe:0.187872\n",
      "[55]\teval-rmse:0.169979\ttrain-rmse:0.154947\teval-rmspe:0.157202\ttrain-rmspe:0.185678\n",
      "[56]\teval-rmse:0.168738\ttrain-rmse:0.153583\teval-rmspe:0.155943\ttrain-rmspe:0.184519\n",
      "[57]\teval-rmse:0.168421\ttrain-rmse:0.153216\teval-rmspe:0.15552\ttrain-rmspe:0.184099\n",
      "[58]\teval-rmse:0.167999\ttrain-rmse:0.15254\teval-rmspe:0.155042\ttrain-rmspe:0.183637\n",
      "[59]\teval-rmse:0.166367\ttrain-rmse:0.15084\teval-rmspe:0.152829\ttrain-rmspe:0.182005\n",
      "[60]\teval-rmse:0.165101\ttrain-rmse:0.149399\teval-rmspe:0.151414\ttrain-rmspe:0.180589\n",
      "[61]\teval-rmse:0.164705\ttrain-rmse:0.148922\teval-rmspe:0.150962\ttrain-rmspe:0.180177\n",
      "[62]\teval-rmse:0.163926\ttrain-rmse:0.147506\teval-rmspe:0.149754\ttrain-rmspe:0.178295\n",
      "[63]\teval-rmse:0.163688\ttrain-rmse:0.147072\teval-rmspe:0.149425\ttrain-rmspe:0.175059\n",
      "[64]\teval-rmse:0.162546\ttrain-rmse:0.145743\teval-rmspe:0.14814\ttrain-rmspe:0.173058\n",
      "[65]\teval-rmse:0.161737\ttrain-rmse:0.144693\teval-rmspe:0.147237\ttrain-rmspe:0.172081\n",
      "[66]\teval-rmse:0.160998\ttrain-rmse:0.143743\teval-rmspe:0.146459\ttrain-rmspe:0.171216\n",
      "[67]\teval-rmse:0.159366\ttrain-rmse:0.141834\teval-rmspe:0.144465\ttrain-rmspe:0.169398\n",
      "[68]\teval-rmse:0.159024\ttrain-rmse:0.141343\teval-rmspe:0.144095\ttrain-rmspe:0.168553\n",
      "[69]\teval-rmse:0.158304\ttrain-rmse:0.14041\teval-rmspe:0.143224\ttrain-rmspe:0.167741\n",
      "[70]\teval-rmse:0.157466\ttrain-rmse:0.13954\teval-rmspe:0.142247\ttrain-rmspe:0.167154\n",
      "[71]\teval-rmse:0.157101\ttrain-rmse:0.138945\teval-rmspe:0.141862\ttrain-rmspe:0.166809\n",
      "[72]\teval-rmse:0.15639\ttrain-rmse:0.138091\teval-rmspe:0.140943\ttrain-rmspe:0.16584\n",
      "[73]\teval-rmse:0.156362\ttrain-rmse:0.137771\teval-rmspe:0.140807\ttrain-rmspe:0.165571\n",
      "[74]\teval-rmse:0.155018\ttrain-rmse:0.13618\teval-rmspe:0.139116\ttrain-rmspe:0.164156\n",
      "[75]\teval-rmse:0.154273\ttrain-rmse:0.135334\teval-rmspe:0.138283\ttrain-rmspe:0.163462\n",
      "[76]\teval-rmse:0.154151\ttrain-rmse:0.135125\teval-rmspe:0.138118\ttrain-rmspe:0.163261\n",
      "[77]\teval-rmse:0.153927\ttrain-rmse:0.134559\teval-rmspe:0.137924\ttrain-rmspe:0.162747\n",
      "[78]\teval-rmse:0.151962\ttrain-rmse:0.132599\teval-rmspe:0.135455\ttrain-rmspe:0.161259\n",
      "[79]\teval-rmse:0.150625\ttrain-rmse:0.130949\teval-rmspe:0.133864\ttrain-rmspe:0.159856\n",
      "[80]\teval-rmse:0.150335\ttrain-rmse:0.130618\teval-rmspe:0.133549\ttrain-rmspe:0.159563\n",
      "[81]\teval-rmse:0.149936\ttrain-rmse:0.130014\teval-rmspe:0.133001\ttrain-rmspe:0.158394\n",
      "[82]\teval-rmse:0.149139\ttrain-rmse:0.128983\teval-rmspe:0.131835\ttrain-rmspe:0.157084\n",
      "[83]\teval-rmse:0.148799\ttrain-rmse:0.128374\teval-rmspe:0.131409\ttrain-rmspe:0.156532\n",
      "[84]\teval-rmse:0.148173\ttrain-rmse:0.127498\teval-rmspe:0.130615\ttrain-rmspe:0.155811\n",
      "[85]\teval-rmse:0.147998\ttrain-rmse:0.127115\teval-rmspe:0.130427\ttrain-rmspe:0.155108\n",
      "[86]\teval-rmse:0.147434\ttrain-rmse:0.126417\teval-rmspe:0.129751\ttrain-rmspe:0.154245\n",
      "[87]\teval-rmse:0.147163\ttrain-rmse:0.125934\teval-rmspe:0.129348\ttrain-rmspe:0.153827\n",
      "[88]\teval-rmse:0.146688\ttrain-rmse:0.125233\teval-rmspe:0.12881\ttrain-rmspe:0.153043\n",
      "[89]\teval-rmse:0.146332\ttrain-rmse:0.124512\teval-rmspe:0.12831\ttrain-rmspe:0.152084\n",
      "[90]\teval-rmse:0.145663\ttrain-rmse:0.12369\teval-rmspe:0.127036\ttrain-rmspe:0.151247\n",
      "[91]\teval-rmse:0.145368\ttrain-rmse:0.12325\teval-rmspe:0.126738\ttrain-rmspe:0.150869\n",
      "[92]\teval-rmse:0.145224\ttrain-rmse:0.122672\teval-rmspe:0.126544\ttrain-rmspe:0.150212\n",
      "[93]\teval-rmse:0.145049\ttrain-rmse:0.122325\teval-rmspe:0.126339\ttrain-rmspe:0.149689\n",
      "[94]\teval-rmse:0.1448\ttrain-rmse:0.122009\teval-rmspe:0.126039\ttrain-rmspe:0.149413\n",
      "[95]\teval-rmse:0.144506\ttrain-rmse:0.121675\teval-rmspe:0.12572\ttrain-rmspe:0.149269\n"
     ]
    },
    {
     "name": "stdout",
     "output_type": "stream",
     "text": [
      "[96]\teval-rmse:0.144302\ttrain-rmse:0.121369\teval-rmspe:0.125422\ttrain-rmspe:0.148959\n",
      "[97]\teval-rmse:0.144252\ttrain-rmse:0.12124\teval-rmspe:0.125366\ttrain-rmspe:0.146893\n",
      "[98]\teval-rmse:0.144096\ttrain-rmse:0.12099\teval-rmspe:0.1252\ttrain-rmspe:0.146656\n",
      "[99]\teval-rmse:0.144009\ttrain-rmse:0.120751\teval-rmspe:0.125121\ttrain-rmspe:0.146501\n",
      "[100]\teval-rmse:0.143905\ttrain-rmse:0.120555\teval-rmspe:0.124977\ttrain-rmspe:0.146313\n",
      "[101]\teval-rmse:0.143803\ttrain-rmse:0.120364\teval-rmspe:0.124872\ttrain-rmspe:0.146152\n",
      "[102]\teval-rmse:0.143611\ttrain-rmse:0.120046\teval-rmspe:0.12461\ttrain-rmspe:0.145595\n",
      "[103]\teval-rmse:0.143303\ttrain-rmse:0.119616\teval-rmspe:0.124245\ttrain-rmspe:0.144163\n",
      "[104]\teval-rmse:0.142951\ttrain-rmse:0.119128\teval-rmspe:0.12379\ttrain-rmspe:0.14373\n",
      "[105]\teval-rmse:0.142921\ttrain-rmse:0.119088\teval-rmspe:0.123769\ttrain-rmspe:0.143664\n",
      "[106]\teval-rmse:0.142659\ttrain-rmse:0.118633\teval-rmspe:0.123388\ttrain-rmspe:0.143162\n",
      "[107]\teval-rmse:0.142666\ttrain-rmse:0.118403\teval-rmspe:0.123258\ttrain-rmspe:0.142834\n",
      "[108]\teval-rmse:0.142556\ttrain-rmse:0.118122\teval-rmspe:0.12301\ttrain-rmspe:0.142604\n",
      "[109]\teval-rmse:0.142039\ttrain-rmse:0.117429\teval-rmspe:0.122357\ttrain-rmspe:0.141953\n",
      "[110]\teval-rmse:0.141732\ttrain-rmse:0.116959\teval-rmspe:0.121965\ttrain-rmspe:0.141603\n",
      "[111]\teval-rmse:0.141534\ttrain-rmse:0.116493\teval-rmspe:0.121657\ttrain-rmspe:0.140467\n",
      "[112]\teval-rmse:0.141226\ttrain-rmse:0.115941\teval-rmspe:0.121332\ttrain-rmspe:0.13987\n",
      "[113]\teval-rmse:0.141103\ttrain-rmse:0.115619\teval-rmspe:0.121172\ttrain-rmspe:0.139458\n",
      "[114]\teval-rmse:0.14099\ttrain-rmse:0.115326\teval-rmspe:0.121088\ttrain-rmspe:0.139261\n",
      "[115]\teval-rmse:0.140907\ttrain-rmse:0.115028\teval-rmspe:0.120947\ttrain-rmspe:0.138949\n",
      "[116]\teval-rmse:0.140819\ttrain-rmse:0.114882\teval-rmspe:0.120772\ttrain-rmspe:0.138544\n",
      "[117]\teval-rmse:0.140658\ttrain-rmse:0.114666\teval-rmspe:0.120536\ttrain-rmspe:0.138295\n",
      "[118]\teval-rmse:0.140418\ttrain-rmse:0.114285\teval-rmspe:0.120246\ttrain-rmspe:0.137862\n",
      "[119]\teval-rmse:0.140394\ttrain-rmse:0.114195\teval-rmspe:0.120213\ttrain-rmspe:0.137812\n",
      "[120]\teval-rmse:0.140164\ttrain-rmse:0.113871\teval-rmspe:0.119814\ttrain-rmspe:0.137339\n",
      "[121]\teval-rmse:0.139915\ttrain-rmse:0.113445\teval-rmspe:0.119521\ttrain-rmspe:0.136969\n",
      "[122]\teval-rmse:0.139512\ttrain-rmse:0.112973\teval-rmspe:0.119062\ttrain-rmspe:0.136547\n",
      "[123]\teval-rmse:0.139263\ttrain-rmse:0.112598\teval-rmspe:0.118787\ttrain-rmspe:0.136178\n",
      "[124]\teval-rmse:0.138982\ttrain-rmse:0.112281\teval-rmspe:0.118452\ttrain-rmspe:0.135903\n",
      "[125]\teval-rmse:0.138705\ttrain-rmse:0.111825\teval-rmspe:0.11809\ttrain-rmspe:0.135507\n",
      "[126]\teval-rmse:0.138595\ttrain-rmse:0.111649\teval-rmspe:0.117951\ttrain-rmspe:0.135341\n",
      "[127]\teval-rmse:0.138526\ttrain-rmse:0.111494\teval-rmspe:0.117895\ttrain-rmspe:0.13537\n",
      "[128]\teval-rmse:0.138409\ttrain-rmse:0.111148\teval-rmspe:0.117681\ttrain-rmspe:0.135005\n",
      "[129]\teval-rmse:0.138363\ttrain-rmse:0.110953\teval-rmspe:0.11762\ttrain-rmspe:0.134843\n",
      "[130]\teval-rmse:0.137981\ttrain-rmse:0.110495\teval-rmspe:0.117192\ttrain-rmspe:0.134279\n",
      "[131]\teval-rmse:0.137806\ttrain-rmse:0.110307\teval-rmspe:0.116974\ttrain-rmspe:0.134098\n",
      "[132]\teval-rmse:0.137651\ttrain-rmse:0.109964\teval-rmspe:0.116785\ttrain-rmspe:0.133695\n",
      "[133]\teval-rmse:0.137549\ttrain-rmse:0.109819\teval-rmspe:0.116653\ttrain-rmspe:0.133518\n",
      "[134]\teval-rmse:0.137405\ttrain-rmse:0.109502\teval-rmspe:0.116477\ttrain-rmspe:0.133368\n",
      "[135]\teval-rmse:0.137365\ttrain-rmse:0.109198\teval-rmspe:0.116443\ttrain-rmspe:0.13325\n",
      "[136]\teval-rmse:0.13725\ttrain-rmse:0.108992\teval-rmspe:0.116307\ttrain-rmspe:0.132433\n",
      "[137]\teval-rmse:0.137169\ttrain-rmse:0.108845\teval-rmspe:0.116195\ttrain-rmspe:0.132221\n",
      "[138]\teval-rmse:0.137078\ttrain-rmse:0.108523\teval-rmspe:0.115808\ttrain-rmspe:0.131933\n",
      "[139]\teval-rmse:0.136961\ttrain-rmse:0.108259\teval-rmspe:0.115686\ttrain-rmspe:0.131714\n",
      "[140]\teval-rmse:0.136791\ttrain-rmse:0.108038\teval-rmspe:0.11552\ttrain-rmspe:0.131534\n",
      "[141]\teval-rmse:0.136708\ttrain-rmse:0.107719\teval-rmspe:0.115424\ttrain-rmspe:0.13121\n",
      "[142]\teval-rmse:0.13659\ttrain-rmse:0.107533\teval-rmspe:0.115266\ttrain-rmspe:0.131041\n",
      "[143]\teval-rmse:0.136501\ttrain-rmse:0.107328\teval-rmspe:0.115146\ttrain-rmspe:0.130961\n",
      "[144]\teval-rmse:0.136376\ttrain-rmse:0.106927\teval-rmspe:0.114874\ttrain-rmspe:0.130731\n",
      "[145]\teval-rmse:0.136247\ttrain-rmse:0.106727\teval-rmspe:0.114746\ttrain-rmspe:0.13057\n",
      "[146]\teval-rmse:0.136116\ttrain-rmse:0.106291\teval-rmspe:0.114571\ttrain-rmspe:0.130344\n",
      "[147]\teval-rmse:0.135989\ttrain-rmse:0.105964\teval-rmspe:0.114421\ttrain-rmspe:0.129619\n",
      "[148]\teval-rmse:0.135859\ttrain-rmse:0.105601\teval-rmspe:0.11425\ttrain-rmspe:0.129394\n",
      "[149]\teval-rmse:0.135714\ttrain-rmse:0.105411\teval-rmspe:0.114104\ttrain-rmspe:0.129105\n",
      "[150]\teval-rmse:0.135699\ttrain-rmse:0.105347\teval-rmspe:0.114086\ttrain-rmspe:0.129057\n",
      "[151]\teval-rmse:0.135662\ttrain-rmse:0.104997\teval-rmspe:0.113927\ttrain-rmspe:0.1289\n",
      "[152]\teval-rmse:0.135557\ttrain-rmse:0.104677\teval-rmspe:0.113756\ttrain-rmspe:0.12837\n",
      "[153]\teval-rmse:0.135538\ttrain-rmse:0.104445\teval-rmspe:0.113894\ttrain-rmspe:0.127989\n",
      "[154]\teval-rmse:0.135531\ttrain-rmse:0.10419\teval-rmspe:0.113894\ttrain-rmspe:0.125584\n",
      "[155]\teval-rmse:0.135473\ttrain-rmse:0.103823\teval-rmspe:0.113783\ttrain-rmspe:0.125265\n",
      "[156]\teval-rmse:0.135397\ttrain-rmse:0.103764\teval-rmspe:0.113724\ttrain-rmspe:0.125202\n",
      "[157]\teval-rmse:0.135296\ttrain-rmse:0.103348\teval-rmspe:0.113624\ttrain-rmspe:0.124863\n",
      "[158]\teval-rmse:0.135272\ttrain-rmse:0.103167\teval-rmspe:0.113625\ttrain-rmspe:0.12471\n",
      "[159]\teval-rmse:0.135172\ttrain-rmse:0.102911\teval-rmspe:0.113534\ttrain-rmspe:0.124575\n",
      "[160]\teval-rmse:0.135087\ttrain-rmse:0.102788\teval-rmspe:0.113433\ttrain-rmspe:0.124301\n",
      "[161]\teval-rmse:0.134905\ttrain-rmse:0.102348\teval-rmspe:0.113224\ttrain-rmspe:0.124017\n",
      "[162]\teval-rmse:0.134868\ttrain-rmse:0.102223\teval-rmspe:0.113196\ttrain-rmspe:0.124307\n",
      "[163]\teval-rmse:0.134791\ttrain-rmse:0.101909\teval-rmspe:0.11305\ttrain-rmspe:0.124103\n",
      "[164]\teval-rmse:0.134742\ttrain-rmse:0.10184\teval-rmspe:0.112989\ttrain-rmspe:0.123982\n",
      "[165]\teval-rmse:0.134702\ttrain-rmse:0.101635\teval-rmspe:0.112945\ttrain-rmspe:0.123657\n",
      "[166]\teval-rmse:0.134658\ttrain-rmse:0.101421\teval-rmspe:0.112767\ttrain-rmspe:0.123441\n",
      "[167]\teval-rmse:0.134649\ttrain-rmse:0.101219\teval-rmspe:0.112721\ttrain-rmspe:0.12327\n",
      "[168]\teval-rmse:0.134518\ttrain-rmse:0.100781\teval-rmspe:0.112606\ttrain-rmspe:0.123036\n",
      "[169]\teval-rmse:0.134486\ttrain-rmse:0.100666\teval-rmspe:0.11258\ttrain-rmspe:0.122899\n",
      "[170]\teval-rmse:0.134439\ttrain-rmse:0.100437\teval-rmspe:0.112608\ttrain-rmspe:0.122701\n",
      "[171]\teval-rmse:0.134347\ttrain-rmse:0.100115\teval-rmspe:0.112555\ttrain-rmspe:0.121898\n",
      "[172]\teval-rmse:0.134355\ttrain-rmse:0.10007\teval-rmspe:0.112566\ttrain-rmspe:0.121866\n",
      "[173]\teval-rmse:0.134295\ttrain-rmse:0.099963\teval-rmspe:0.11249\ttrain-rmspe:0.1219\n",
      "[174]\teval-rmse:0.134242\ttrain-rmse:0.099767\teval-rmspe:0.112401\ttrain-rmspe:0.12138\n",
      "[175]\teval-rmse:0.134204\ttrain-rmse:0.099647\teval-rmspe:0.112343\ttrain-rmspe:0.121297\n",
      "[176]\teval-rmse:0.134144\ttrain-rmse:0.099543\teval-rmspe:0.112275\ttrain-rmspe:0.121202\n",
      "[177]\teval-rmse:0.134143\ttrain-rmse:0.099442\teval-rmspe:0.112225\ttrain-rmspe:0.121081\n",
      "[178]\teval-rmse:0.13408\ttrain-rmse:0.099335\teval-rmspe:0.112108\ttrain-rmspe:0.12097\n",
      "[179]\teval-rmse:0.134058\ttrain-rmse:0.099012\teval-rmspe:0.112019\ttrain-rmspe:0.120453\n",
      "[180]\teval-rmse:0.134094\ttrain-rmse:0.098868\teval-rmspe:0.112094\ttrain-rmspe:0.11937\n",
      "[181]\teval-rmse:0.134011\ttrain-rmse:0.098634\teval-rmspe:0.111955\ttrain-rmspe:0.119176\n",
      "[182]\teval-rmse:0.133907\ttrain-rmse:0.098487\teval-rmspe:0.111886\ttrain-rmspe:0.118971\n",
      "[183]\teval-rmse:0.13383\ttrain-rmse:0.098254\teval-rmspe:0.111782\ttrain-rmspe:0.118585\n",
      "[184]\teval-rmse:0.133795\ttrain-rmse:0.098009\teval-rmspe:0.111765\ttrain-rmspe:0.118442\n",
      "[185]\teval-rmse:0.133817\ttrain-rmse:0.097932\teval-rmspe:0.111789\ttrain-rmspe:0.118388\n",
      "[186]\teval-rmse:0.133722\ttrain-rmse:0.097688\teval-rmspe:0.111877\ttrain-rmspe:0.117766\n",
      "[187]\teval-rmse:0.133685\ttrain-rmse:0.097516\teval-rmspe:0.111795\ttrain-rmspe:0.117492\n",
      "[188]\teval-rmse:0.133621\ttrain-rmse:0.097348\teval-rmspe:0.111767\ttrain-rmspe:0.117282\n",
      "[189]\teval-rmse:0.133571\ttrain-rmse:0.097225\teval-rmspe:0.111699\ttrain-rmspe:0.117076\n",
      "[190]\teval-rmse:0.13352\ttrain-rmse:0.097063\teval-rmspe:0.111661\ttrain-rmspe:0.116978\n",
      "[191]\teval-rmse:0.133472\ttrain-rmse:0.096911\teval-rmspe:0.111608\ttrain-rmspe:0.11689\n"
     ]
    },
    {
     "name": "stdout",
     "output_type": "stream",
     "text": [
      "[192]\teval-rmse:0.133405\ttrain-rmse:0.096736\teval-rmspe:0.11153\ttrain-rmspe:0.116225\n",
      "[193]\teval-rmse:0.13352\ttrain-rmse:0.096428\teval-rmspe:0.111581\ttrain-rmspe:0.114136\n",
      "[194]\teval-rmse:0.133477\ttrain-rmse:0.09626\teval-rmspe:0.111499\ttrain-rmspe:0.113989\n",
      "[195]\teval-rmse:0.13351\ttrain-rmse:0.096131\teval-rmspe:0.111413\ttrain-rmspe:0.112792\n",
      "[196]\teval-rmse:0.133518\ttrain-rmse:0.096049\teval-rmspe:0.111399\ttrain-rmspe:0.11273\n",
      "[197]\teval-rmse:0.133488\ttrain-rmse:0.095931\teval-rmspe:0.111333\ttrain-rmspe:0.113014\n",
      "[198]\teval-rmse:0.133419\ttrain-rmse:0.095779\teval-rmspe:0.111229\ttrain-rmspe:0.112888\n",
      "[199]\teval-rmse:0.133388\ttrain-rmse:0.095636\teval-rmspe:0.111185\ttrain-rmspe:0.112709\n",
      "[200]\teval-rmse:0.133384\ttrain-rmse:0.095553\teval-rmspe:0.111132\ttrain-rmspe:0.11257\n",
      "[201]\teval-rmse:0.133318\ttrain-rmse:0.095392\teval-rmspe:0.111067\ttrain-rmspe:0.112452\n",
      "[202]\teval-rmse:0.133273\ttrain-rmse:0.095249\teval-rmspe:0.111014\ttrain-rmspe:0.112353\n",
      "[203]\teval-rmse:0.133222\ttrain-rmse:0.095002\teval-rmspe:0.110938\ttrain-rmspe:0.112244\n",
      "[204]\teval-rmse:0.133212\ttrain-rmse:0.094918\teval-rmspe:0.110929\ttrain-rmspe:0.11224\n",
      "[205]\teval-rmse:0.133171\ttrain-rmse:0.094617\teval-rmspe:0.11084\ttrain-rmspe:0.112081\n",
      "[206]\teval-rmse:0.133207\ttrain-rmse:0.094337\teval-rmspe:0.111163\ttrain-rmspe:0.111858\n",
      "[207]\teval-rmse:0.133166\ttrain-rmse:0.094239\teval-rmspe:0.111114\ttrain-rmspe:0.111373\n",
      "[208]\teval-rmse:0.13314\ttrain-rmse:0.09419\teval-rmspe:0.111106\ttrain-rmspe:0.111013\n",
      "[209]\teval-rmse:0.133145\ttrain-rmse:0.094073\teval-rmspe:0.111096\ttrain-rmspe:0.111003\n",
      "[210]\teval-rmse:0.133103\ttrain-rmse:0.093935\teval-rmspe:0.111057\ttrain-rmspe:0.110904\n",
      "[211]\teval-rmse:0.133054\ttrain-rmse:0.093799\teval-rmspe:0.111003\ttrain-rmspe:0.110693\n",
      "[212]\teval-rmse:0.133055\ttrain-rmse:0.093572\teval-rmspe:0.111032\ttrain-rmspe:0.1106\n",
      "[213]\teval-rmse:0.133003\ttrain-rmse:0.09342\teval-rmspe:0.11096\ttrain-rmspe:0.110209\n",
      "[214]\teval-rmse:0.132981\ttrain-rmse:0.093286\teval-rmspe:0.110851\ttrain-rmspe:0.109637\n",
      "[215]\teval-rmse:0.132918\ttrain-rmse:0.093116\teval-rmspe:0.110722\ttrain-rmspe:0.109475\n",
      "[216]\teval-rmse:0.132875\ttrain-rmse:0.092981\teval-rmspe:0.110692\ttrain-rmspe:0.109376\n",
      "[217]\teval-rmse:0.133045\ttrain-rmse:0.092881\teval-rmspe:0.110714\ttrain-rmspe:0.109282\n",
      "[218]\teval-rmse:0.133033\ttrain-rmse:0.092824\teval-rmspe:0.110708\ttrain-rmspe:0.109227\n",
      "[219]\teval-rmse:0.13304\ttrain-rmse:0.092716\teval-rmspe:0.110725\ttrain-rmspe:0.109139\n",
      "[220]\teval-rmse:0.132958\ttrain-rmse:0.092517\teval-rmspe:0.110685\ttrain-rmspe:0.108933\n",
      "[221]\teval-rmse:0.132907\ttrain-rmse:0.092447\teval-rmspe:0.110649\ttrain-rmspe:0.108869\n",
      "[222]\teval-rmse:0.132827\ttrain-rmse:0.092324\teval-rmspe:0.110559\ttrain-rmspe:0.108754\n",
      "[223]\teval-rmse:0.132817\ttrain-rmse:0.09229\teval-rmspe:0.110532\ttrain-rmspe:0.108729\n",
      "[224]\teval-rmse:0.132803\ttrain-rmse:0.092213\teval-rmspe:0.110578\ttrain-rmspe:0.108672\n",
      "[225]\teval-rmse:0.132721\ttrain-rmse:0.091998\teval-rmspe:0.110048\ttrain-rmspe:0.108176\n",
      "[226]\teval-rmse:0.132708\ttrain-rmse:0.091837\teval-rmspe:0.110035\ttrain-rmspe:0.10815\n",
      "[227]\teval-rmse:0.132701\ttrain-rmse:0.091733\teval-rmspe:0.110053\ttrain-rmspe:0.108047\n",
      "[228]\teval-rmse:0.13266\ttrain-rmse:0.091693\teval-rmspe:0.110034\ttrain-rmspe:0.108016\n",
      "[229]\teval-rmse:0.132598\ttrain-rmse:0.091454\teval-rmspe:0.110006\ttrain-rmspe:0.107766\n",
      "[230]\teval-rmse:0.132528\ttrain-rmse:0.091378\teval-rmspe:0.109933\ttrain-rmspe:0.106936\n",
      "[231]\teval-rmse:0.132519\ttrain-rmse:0.091221\teval-rmspe:0.109919\ttrain-rmspe:0.106941\n",
      "[232]\teval-rmse:0.132513\ttrain-rmse:0.09106\teval-rmspe:0.109908\ttrain-rmspe:0.106882\n",
      "[233]\teval-rmse:0.132498\ttrain-rmse:0.091003\teval-rmspe:0.109882\ttrain-rmspe:0.106855\n",
      "[234]\teval-rmse:0.132467\ttrain-rmse:0.090919\teval-rmspe:0.10984\ttrain-rmspe:0.106785\n",
      "[235]\teval-rmse:0.132474\ttrain-rmse:0.090828\teval-rmspe:0.109867\ttrain-rmspe:0.106582\n",
      "[236]\teval-rmse:0.132459\ttrain-rmse:0.090783\teval-rmspe:0.109851\ttrain-rmspe:0.106542\n",
      "[237]\teval-rmse:0.132486\ttrain-rmse:0.090728\teval-rmspe:0.109869\ttrain-rmspe:0.106497\n",
      "[238]\teval-rmse:0.132505\ttrain-rmse:0.09059\teval-rmspe:0.109874\ttrain-rmspe:0.106162\n",
      "[239]\teval-rmse:0.132477\ttrain-rmse:0.09052\teval-rmspe:0.109836\ttrain-rmspe:0.10604\n",
      "[240]\teval-rmse:0.132479\ttrain-rmse:0.090492\teval-rmspe:0.109822\ttrain-rmspe:0.106028\n",
      "[241]\teval-rmse:0.132473\ttrain-rmse:0.090387\teval-rmspe:0.109816\ttrain-rmspe:0.10597\n",
      "[242]\teval-rmse:0.132453\ttrain-rmse:0.090331\teval-rmspe:0.109792\ttrain-rmspe:0.105977\n",
      "[243]\teval-rmse:0.132446\ttrain-rmse:0.090194\teval-rmspe:0.109813\ttrain-rmspe:0.105857\n",
      "[244]\teval-rmse:0.132472\ttrain-rmse:0.090099\teval-rmspe:0.10982\ttrain-rmspe:0.105783\n",
      "[245]\teval-rmse:0.132443\ttrain-rmse:0.089957\teval-rmspe:0.109795\ttrain-rmspe:0.105552\n",
      "[246]\teval-rmse:0.132416\ttrain-rmse:0.089879\teval-rmspe:0.109776\ttrain-rmspe:0.105411\n",
      "[247]\teval-rmse:0.132431\ttrain-rmse:0.089769\teval-rmspe:0.109784\ttrain-rmspe:0.105382\n",
      "[248]\teval-rmse:0.13257\ttrain-rmse:0.089591\teval-rmspe:0.10987\ttrain-rmspe:0.105274\n",
      "[249]\teval-rmse:0.132553\ttrain-rmse:0.089396\teval-rmspe:0.109865\ttrain-rmspe:0.105172\n",
      "[250]\teval-rmse:0.132617\ttrain-rmse:0.089168\teval-rmspe:0.109862\ttrain-rmspe:0.104974\n",
      "[251]\teval-rmse:0.132561\ttrain-rmse:0.089067\teval-rmspe:0.10974\ttrain-rmspe:0.104858\n",
      "[252]\teval-rmse:0.132589\ttrain-rmse:0.089\teval-rmspe:0.109744\ttrain-rmspe:0.104795\n",
      "[253]\teval-rmse:0.132557\ttrain-rmse:0.088919\teval-rmspe:0.10976\ttrain-rmspe:0.104757\n",
      "[254]\teval-rmse:0.132489\ttrain-rmse:0.08877\teval-rmspe:0.109636\ttrain-rmspe:0.104644\n",
      "[255]\teval-rmse:0.132482\ttrain-rmse:0.088599\teval-rmspe:0.109635\ttrain-rmspe:0.104511\n",
      "[256]\teval-rmse:0.132441\ttrain-rmse:0.088487\teval-rmspe:0.109583\ttrain-rmspe:0.104399\n",
      "[257]\teval-rmse:0.132445\ttrain-rmse:0.088376\teval-rmspe:0.109563\ttrain-rmspe:0.104181\n",
      "[258]\teval-rmse:0.132432\ttrain-rmse:0.088234\teval-rmspe:0.10959\ttrain-rmspe:0.104105\n",
      "[259]\teval-rmse:0.132438\ttrain-rmse:0.088172\teval-rmspe:0.109579\ttrain-rmspe:0.104051\n",
      "[260]\teval-rmse:0.132475\ttrain-rmse:0.088124\teval-rmspe:0.109569\ttrain-rmspe:0.104026\n",
      "[261]\teval-rmse:0.132504\ttrain-rmse:0.088041\teval-rmspe:0.109688\ttrain-rmspe:0.10389\n",
      "[262]\teval-rmse:0.132417\ttrain-rmse:0.087722\teval-rmspe:0.109641\ttrain-rmspe:0.103743\n",
      "[263]\teval-rmse:0.132388\ttrain-rmse:0.087523\teval-rmspe:0.109597\ttrain-rmspe:0.103549\n",
      "[264]\teval-rmse:0.132367\ttrain-rmse:0.087463\teval-rmspe:0.109622\ttrain-rmspe:0.103503\n",
      "[265]\teval-rmse:0.132372\ttrain-rmse:0.087394\teval-rmspe:0.109625\ttrain-rmspe:0.10345\n",
      "[266]\teval-rmse:0.132361\ttrain-rmse:0.087262\teval-rmspe:0.109607\ttrain-rmspe:0.102668\n",
      "[267]\teval-rmse:0.132354\ttrain-rmse:0.087109\teval-rmspe:0.1096\ttrain-rmspe:0.102539\n",
      "[268]\teval-rmse:0.132345\ttrain-rmse:0.08707\teval-rmspe:0.109599\ttrain-rmspe:0.102084\n",
      "[269]\teval-rmse:0.132325\ttrain-rmse:0.087024\teval-rmspe:0.109581\ttrain-rmspe:0.102041\n",
      "[270]\teval-rmse:0.132329\ttrain-rmse:0.08691\teval-rmspe:0.109629\ttrain-rmspe:0.102156\n",
      "[271]\teval-rmse:0.1323\ttrain-rmse:0.086778\teval-rmspe:0.109624\ttrain-rmspe:0.102026\n",
      "[272]\teval-rmse:0.132312\ttrain-rmse:0.086529\teval-rmspe:0.109628\ttrain-rmspe:0.101904\n",
      "[273]\teval-rmse:0.132288\ttrain-rmse:0.086429\teval-rmspe:0.109591\ttrain-rmspe:0.101857\n",
      "[274]\teval-rmse:0.132256\ttrain-rmse:0.086317\teval-rmspe:0.109522\ttrain-rmspe:0.101752\n",
      "[275]\teval-rmse:0.132248\ttrain-rmse:0.086178\teval-rmspe:0.109553\ttrain-rmspe:0.101612\n",
      "[276]\teval-rmse:0.132226\ttrain-rmse:0.08613\teval-rmspe:0.109537\ttrain-rmspe:0.101518\n",
      "[277]\teval-rmse:0.132224\ttrain-rmse:0.086074\teval-rmspe:0.109535\ttrain-rmspe:0.101361\n",
      "[278]\teval-rmse:0.132192\ttrain-rmse:0.086006\teval-rmspe:0.109517\ttrain-rmspe:0.101282\n",
      "[279]\teval-rmse:0.132166\ttrain-rmse:0.085962\teval-rmspe:0.109475\ttrain-rmspe:0.101211\n",
      "[280]\teval-rmse:0.132044\ttrain-rmse:0.085806\teval-rmspe:0.109346\ttrain-rmspe:0.10111\n",
      "[281]\teval-rmse:0.131955\ttrain-rmse:0.085613\teval-rmspe:0.109228\ttrain-rmspe:0.100806\n",
      "[282]\teval-rmse:0.131936\ttrain-rmse:0.085562\teval-rmspe:0.109217\ttrain-rmspe:0.100772\n",
      "[283]\teval-rmse:0.131915\ttrain-rmse:0.085446\teval-rmspe:0.109192\ttrain-rmspe:0.100687\n",
      "[284]\teval-rmse:0.131907\ttrain-rmse:0.08536\teval-rmspe:0.109149\ttrain-rmspe:0.100658\n",
      "[285]\teval-rmse:0.13191\ttrain-rmse:0.085328\teval-rmspe:0.109183\ttrain-rmspe:0.100673\n",
      "[286]\teval-rmse:0.13185\ttrain-rmse:0.085189\teval-rmspe:0.109035\ttrain-rmspe:0.10037\n",
      "[287]\teval-rmse:0.131836\ttrain-rmse:0.08515\teval-rmspe:0.10905\ttrain-rmspe:0.100066\n"
     ]
    },
    {
     "name": "stdout",
     "output_type": "stream",
     "text": [
      "[288]\teval-rmse:0.131809\ttrain-rmse:0.085074\teval-rmspe:0.109024\ttrain-rmspe:0.100006\n",
      "[289]\teval-rmse:0.131843\ttrain-rmse:0.085004\teval-rmspe:0.10903\ttrain-rmspe:0.099549\n",
      "[290]\teval-rmse:0.131791\ttrain-rmse:0.084743\teval-rmspe:0.108815\ttrain-rmspe:0.095372\n",
      "[291]\teval-rmse:0.131699\ttrain-rmse:0.084653\teval-rmspe:0.108691\ttrain-rmspe:0.095215\n",
      "[292]\teval-rmse:0.131695\ttrain-rmse:0.084584\teval-rmspe:0.108677\ttrain-rmspe:0.095166\n",
      "[293]\teval-rmse:0.131719\ttrain-rmse:0.084528\teval-rmspe:0.108685\ttrain-rmspe:0.095136\n",
      "[294]\teval-rmse:0.131696\ttrain-rmse:0.084431\teval-rmspe:0.108675\ttrain-rmspe:0.093964\n",
      "[295]\teval-rmse:0.131687\ttrain-rmse:0.08427\teval-rmspe:0.108711\ttrain-rmspe:0.090466\n",
      "[296]\teval-rmse:0.13167\ttrain-rmse:0.084195\teval-rmspe:0.108659\ttrain-rmspe:0.090374\n",
      "[297]\teval-rmse:0.131629\ttrain-rmse:0.08408\teval-rmspe:0.108626\ttrain-rmspe:0.090282\n",
      "[298]\teval-rmse:0.13166\ttrain-rmse:0.084032\teval-rmspe:0.108645\ttrain-rmspe:0.090259\n",
      "[299]\teval-rmse:0.131647\ttrain-rmse:0.083916\teval-rmspe:0.108624\ttrain-rmspe:0.09019\n"
     ]
    }
   ],
   "source": [
    "params = {\"objective\": \"reg:linear\",\n",
    "          \"eta\": 0.15,\n",
    "          \"max_depth\": 12,\n",
    "          \"subsample\": 0.7,\n",
    "          \"colsample_bytree\": 0.7,\n",
    "          \"silent\": 1\n",
    "          }\n",
    "num_trees = 300\n",
    "\n",
    "dtrain = xgb.DMatrix(X_train, Y_train)\n",
    "dvalid = xgb.DMatrix(X_valid, Y_valid)\n",
    "#dtest = xgb.DMatrix(test)\n",
    "watchlist = [(dvalid, 'eval'), (dtrain, 'train')]\n",
    "ret = {}\n",
    "gbm = xgb.train(params, dtrain, num_trees, evals=watchlist, early_stopping_rounds=50,evals_result =ret, feval=rmspe_xg, verbose_eval=True)"
   ]
  },
  {
   "cell_type": "code",
   "execution_count": 65,
   "metadata": {},
   "outputs": [
    {
     "data": {
      "image/png": "[encoded data removed]",
      "text/plain": [
       "<Figure size 432x288 with 1 Axes>"
      ]
     },
     "metadata": {
      "needs_background": "light"
     },
     "output_type": "display_data"
    }
   ],
   "source": [
    "evaldata = ret['eval']['rmspe'][0:300:10]\n",
    "traindata = ret['train']['rmspe'][0:300:10]\n",
    "plt.plot(range(0,300,10),evaldata,color='red',label=\"eval\")\n",
    "plt.plot(range(0,300,10),traindata,color='blue',label=\"train\")\n",
    "plt.legend(loc='best')\n",
    "y_tick = np.arange(0,1,0.1)\n",
    "plt.yticks(y_tick)\n",
    "plt.show()"
   ]
  },
  {
   "cell_type": "code",
   "execution_count": null,
   "metadata": {},
   "outputs": [],
   "source": []
  },
  {
   "cell_type": "code",
   "execution_count": null,
   "metadata": {},
   "outputs": [],
   "source": []
  },
  {
   "cell_type": "code",
   "execution_count": null,
   "metadata": {},
   "outputs": [],
   "source": []
  },
  {
   "cell_type": "code",
   "execution_count": null,
   "metadata": {},
   "outputs": [],
   "source": []
  }
 ],
 "metadata": {
  "kernelspec": {
   "display_name": "Python 3",
   "language": "python",
   "name": "python3"
  },
  "language_info": {
   "codemirror_mode": {
    "name": "ipython",
    "version": 3
   },
   "file_extension": ".py",
   "mimetype": "text/x-python",
   "name": "python",
   "nbconvert_exporter": "python",
   "pygments_lexer": "ipython3",
   "version": "3.7.1"
  }
 },
 "nbformat": 4,
 "nbformat_minor": 2
}
