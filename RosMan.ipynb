{
 "cells": [
  {
   "cell_type": "code",
   "execution_count": 41,
   "metadata": {},
   "outputs": [],
   "source": [
    "import numpy as np\n",
    "import pandas as pd\n",
    "import matplotlib.pyplot as plt\n",
    "from sklearn.preprocessing import OneHotEncoder,LabelEncoder,MinMaxScaler\n",
    "import xgboost as xgb\n",
    "import os\n",
    "os.environ['KMP_DUPLICATE_LIB_OK']='True'"
   ]
  },
  {
   "cell_type": "code",
   "execution_count": 42,
   "metadata": {},
   "outputs": [],
   "source": [
    "Dataset_dir = [\"./train.csv\", \"./store.csv\",\"./test.csv\"]\n",
    "pd.options.display.max_columns = None"
   ]
  },
  {
   "cell_type": "code",
   "execution_count": 43,
   "metadata": {},
   "outputs": [],
   "source": [
    "def load_data(dir):\n",
    "    data = pd.read_csv(dir[0],parse_dates=[2])\n",
    "    store = pd.read_csv(dir[1])\n",
    "    test = pd.read_csv(dir[2],parse_dates=[3])\n",
    "    return data,store,test"
   ]
  },
  {
   "cell_type": "code",
   "execution_count": 44,
   "metadata": {},
   "outputs": [
    {
     "name": "stdout",
     "output_type": "stream",
     "text": [
      "Index(['Store', 'DayOfWeek', 'Date', 'Sales', 'Customers', 'Open', 'Promo',\n",
      "       'StateHoliday', 'SchoolHoliday', 'StoreType', 'Assortment',\n",
      "       'CompetitionDistance', 'CompetitionOpenSinceMonth',\n",
      "       'CompetitionOpenSinceYear', 'Promo2', 'Promo2SinceWeek',\n",
      "       'Promo2SinceYear', 'PromoInterval'],\n",
      "      dtype='object')\n",
      "Index(['Id', 'Store', 'DayOfWeek', 'Date', 'Open', 'Promo', 'StateHoliday',\n",
      "       'SchoolHoliday', 'StoreType', 'Assortment', 'CompetitionDistance',\n",
      "       'CompetitionOpenSinceMonth', 'CompetitionOpenSinceYear', 'Promo2',\n",
      "       'Promo2SinceWeek', 'Promo2SinceYear', 'PromoInterval'],\n",
      "      dtype='object')\n"
     ]
    }
   ],
   "source": [
    "train,store,test = load_data(Dataset_dir)\n",
    "train = train[train['Open'] != 0]\n",
    "train = pd.merge(train, store, on='Store')\n",
    "test = pd.merge(test, store, on='Store')\n",
    "print(train.columns)\n",
    "print(test.columns)"
   ]
  },
  {
   "cell_type": "code",
   "execution_count": 45,
   "metadata": {},
   "outputs": [],
   "source": [
    "#对时间序列进行分析\n",
    "#总的销售趋势2013-2015年\n",
    "# train['date'] = pd.to_datetime(train.Date)\n",
    "# data = train.loc[:,['Sales']]\n",
    "# data = data.set_index(train.date)\n",
    "# data.plot()\n",
    "\n",
    "# weekly = data.resample('W').sum()\n",
    "# weekly.plot()\n",
    "\n",
    "# dayily = data.resample('D').sum()\n",
    "# dayily.plot()"
   ]
  },
  {
   "cell_type": "code",
   "execution_count": 46,
   "metadata": {},
   "outputs": [],
   "source": [
    "TESTID = test['Id']"
   ]
  },
  {
   "cell_type": "code",
   "execution_count": 47,
   "metadata": {},
   "outputs": [
    {
     "data": {
      "image/png": "[encoded data removed]",
      "text/plain": [
       "<Figure size 432x288 with 1 Axes>"
      ]
     },
     "metadata": {
      "needs_background": "light"
     },
     "output_type": "display_data"
    },
    {
     "data": {
      "image/png": "[encoded data removed]",
      "text/plain": [
       "<Figure size 432x288 with 1 Axes>"
      ]
     },
     "metadata": {
      "needs_background": "light"
     },
     "output_type": "display_data"
    }
   ],
   "source": [
    "train.Customers.plot(kind='box')\n",
    "plt.show()\n",
    "train.CompetitionDistance.plot(kind='box')\n",
    "plt.show()"
   ]
  },
  {
   "cell_type": "code",
   "execution_count": 48,
   "metadata": {},
   "outputs": [
    {
     "data": {
      "image/png": "[encoded data removed]",
      "text/plain": [
       "<Figure size 432x288 with 1 Axes>"
      ]
     },
     "metadata": {
      "needs_background": "light"
     },
     "output_type": "display_data"
    },
    {
     "data": {
      "image/png": "[encoded data removed]",
      "text/plain": [
       "<Figure size 432x288 with 1 Axes>"
      ]
     },
     "metadata": {
      "needs_background": "light"
     },
     "output_type": "display_data"
    }
   ],
   "source": [
    "sales_mean = train.groupby('Store')['Sales'].mean()\n",
    "plt.hist(sales_mean)\n",
    "plt.show()\n",
    "plt.hist(np.log1p(sales_mean))\n",
    "plt.show()"
   ]
  },
  {
   "cell_type": "code",
   "execution_count": 49,
   "metadata": {},
   "outputs": [],
   "source": [
    "Store_DaysWeek = train.groupby(['Store','DayOfWeek'])\n",
    "sw_mean = Store_DaysWeek[\"Sales\"].mean()"
   ]
  },
  {
   "cell_type": "code",
   "execution_count": 50,
   "metadata": {},
   "outputs": [],
   "source": [
    "def build_feature(data,istrain):\n",
    "    mappings = {'0':0, 'a':1, 'b':2, 'c':3, 'd':4}\n",
    "    data.StoreType.replace(mappings, inplace=True)\n",
    "    data.Assortment.replace(mappings, inplace=True)\n",
    "    data.StateHoliday.replace(mappings, inplace=True)\n",
    "    \n",
    "    #CART回归树不需要预处理数据和NAn值\n",
    "#     distance_max = max(data.CompetitionDistance)\n",
    "#     data.CompetitionDistance.mask(data.CompetitionDistance.isna(),other=distance_max,inplace=True)\n",
    "#     print(data.CompetitionDistance.isnull().any())\n",
    "#     min_max_scaler = MinMaxScaler()\n",
    "#     scaledata = min_max_scaler.fit_transform(data[['CompetitionDistance']])\n",
    "#     data.drop(\"CompetitionDistance\",axis=1)\n",
    "#     data['CompetitionDistance'] = scaledata\n",
    "    #时间序列问题 需要考虑进时间的因素\n",
    "    data['Year'] = data.Date.dt.year\n",
    "    data['Month'] = data.Date.dt.month\n",
    "    data['Day'] = data.Date.dt.day\n",
    "    \n",
    "    if istrain:\n",
    "        #data.drop(['Store','Open','Date','Customers','PromoInterval',],axis=1,inplace=True)\n",
    "        data.drop(['Store','Open','Date','Customers','PromoInterval','SchoolHoliday','Promo2','StateHoliday','Promo2SinceWeek'],axis=1,inplace=True)\n",
    "    else:\n",
    "        #data.drop(['Id','Store','Open','Date','PromoInterval',],axis=1,inplace=True)\n",
    "        data.drop(['Id','Store','Open','Date','PromoInterval','SchoolHoliday','Promo2','StateHoliday','Promo2SinceWeek'],axis=1,inplace=True)\n",
    "    print(data.columns)"
   ]
  },
  {
   "cell_type": "code",
   "execution_count": 51,
   "metadata": {},
   "outputs": [
    {
     "name": "stdout",
     "output_type": "stream",
     "text": [
      "Index(['DayOfWeek', 'Sales', 'Promo', 'StoreType', 'Assortment',\n",
      "       'CompetitionDistance', 'CompetitionOpenSinceMonth',\n",
      "       'CompetitionOpenSinceYear', 'Promo2SinceYear', 'Year', 'Month', 'Day'],\n",
      "      dtype='object')\n",
      "Index(['DayOfWeek', 'Promo', 'StoreType', 'Assortment', 'CompetitionDistance',\n",
      "       'CompetitionOpenSinceMonth', 'CompetitionOpenSinceYear',\n",
      "       'Promo2SinceYear', 'Year', 'Month', 'Day'],\n",
      "      dtype='object')\n"
     ]
    }
   ],
   "source": [
    "#build train data\n",
    "build_feature(train,True)\n",
    "#build test data\n",
    "build_feature(test,False)"
   ]
  },
  {
   "cell_type": "code",
   "execution_count": 53,
   "metadata": {},
   "outputs": [
    {
     "data": {
      "image/png": "[encoded data removed]",
      "text/plain": [
       "<Figure size 432x288 with 1 Axes>"
      ]
     },
     "metadata": {
      "needs_background": "light"
     },
     "output_type": "display_data"
    },
    {
     "data": {
      "image/png": "[encoded data removed]",
      "text/plain": [
       "<Figure size 432x288 with 1 Axes>"
      ]
     },
     "metadata": {
      "needs_background": "light"
     },
     "output_type": "display_data"
    },
    {
     "data": {
      "image/png": "[encoded data removed]",
      "text/plain": [
       "<Figure size 432x288 with 1 Axes>"
      ]
     },
     "metadata": {
      "needs_background": "light"
     },
     "output_type": "display_data"
    },
    {
     "data": {
      "image/png": "[encoded data removed]",
      "text/plain": [
       "<Figure size 432x288 with 1 Axes>"
      ]
     },
     "metadata": {
      "needs_background": "light"
     },
     "output_type": "display_data"
    }
   ],
   "source": [
    "ST_gp = train.groupby('StoreType')['Sales'].agg('mean')\n",
    "import seaborn as sns\n",
    "sns.barplot(ST_gp.index,ST_gp.values)\n",
    "plt.show()\n",
    "\n",
    "As_gp = train.groupby('Assortment')['Sales'].agg('mean')\n",
    "sns.barplot(As_gp.index,As_gp.values)\n",
    "plt.show()\n",
    "Dayweek_gp = train.groupby(['StoreType','DayOfWeek'])['Sales'].agg('mean')\n",
    "ax = sns.barplot(Dayweek_gp.index,Dayweek_gp.values)\n",
    "ax.set_xticklabels(ax.get_xticklabels(), rotation=90, ha=\"right\")\n",
    "plt.tight_layout()\n",
    "plt.show()\n",
    "\n",
    "#每年销售额的趋势\n",
    "YearS_gp = train.groupby(['Year'])['Sales'].agg(\"mean\")\n",
    "ax2 = sns.lineplot(YearS_gp.index,YearS_gp.values)\n",
    "plt.tight_layout()\n",
    "plt.show()"
   ]
  },
  {
   "cell_type": "code",
   "execution_count": 54,
   "metadata": {},
   "outputs": [
    {
     "name": "stderr",
     "output_type": "stream",
     "text": [
      "/anaconda3/lib/python3.7/site-packages/pandas/core/frame.py:3697: SettingWithCopyWarning: \n",
      "A value is trying to be set on a copy of a slice from a DataFrame\n",
      "\n",
      "See the caveats in the documentation: http://pandas.pydata.org/pandas-docs/stable/indexing.html#indexing-view-versus-copy\n",
      "  errors=errors)\n"
     ]
    }
   ],
   "source": [
    "#split train vaild data\n",
    "from sklearn.model_selection import train_test_split\n",
    "X_train, X_valid = train_test_split(train, test_size=0.012, random_state=10)\n",
    "Y_train = X_train[\"Sales\"]\n",
    "Y_valid = X_valid[\"Sales\"]\n",
    "X_train.drop(\"Sales\",axis=1,inplace=True)\n",
    "X_valid.drop(\"Sales\",axis=1,inplace=True)"
   ]
  },
  {
   "cell_type": "code",
   "execution_count": 55,
   "metadata": {},
   "outputs": [
    {
     "data": {
      "image/png": "[encoded data removed]",
      "text/plain": [
       "<Figure size 432x288 with 1 Axes>"
      ]
     },
     "metadata": {
      "needs_background": "light"
     },
     "output_type": "display_data"
    }
   ],
   "source": [
    "plt.boxplot([Y_train,Y_valid])\n",
    "plt.show()"
   ]
  },
  {
   "cell_type": "code",
   "execution_count": 56,
   "metadata": {},
   "outputs": [
    {
     "data": {
      "image/png": "[encoded data removed]",
      "text/plain": [
       "<Figure size 432x288 with 1 Axes>"
      ]
     },
     "metadata": {
      "needs_background": "light"
     },
     "output_type": "display_data"
    }
   ],
   "source": [
    "Y_train = np.log1p(Y_train)\n",
    "Y_valid = np.log1p(Y_valid)\n",
    "plt.boxplot([Y_train,Y_valid])\n",
    "plt.show()"
   ]
  },
  {
   "cell_type": "code",
   "execution_count": 57,
   "metadata": {},
   "outputs": [],
   "source": [
    "def ToWeight(y):\n",
    "    w = np.zeros(y.shape, dtype=float)\n",
    "    ind = y != 0\n",
    "    w[ind] = 1./(y[ind]**2)\n",
    "    return w\n",
    "\n",
    "def rmspe(yhat, y):\n",
    "    w = ToWeight(y)\n",
    "    rmspe = np.sqrt(np.mean( w * (y - yhat)**2 ))\n",
    "    return rmspe\n",
    "\n",
    "def rmspe_xg(yhat, y):\n",
    "    # y = y.values\n",
    "    y = y.get_label()\n",
    "    y = np.exp(y) - 1\n",
    "    yhat = np.exp(yhat) - 1\n",
    "    w = ToWeight(y)\n",
    "    rmspe = np.sqrt(np.mean(w * (y - yhat)**2))\n",
    "    return \"rmspe\", rmspe"
   ]
  },
  {
   "cell_type": "code",
   "execution_count": 67,
   "metadata": {},
   "outputs": [
    {
     "name": "stdout",
     "output_type": "stream",
     "text": [
      "[0]\teval-rmse:7.02656\ttrain-rmse:7.03075\teval-rmspe:0.999147\ttrain-rmspe:0.999169\n",
      "Multiple eval metrics have been passed: 'train-rmspe' will be used for early stopping.\n",
      "\n",
      "Will train until train-rmspe hasn't improved in 50 rounds.\n",
      "[1]\teval-rmse:5.97529\ttrain-rmse:5.97938\teval-rmspe:0.99734\ttrain-rmspe:0.997369\n",
      "[2]\teval-rmse:5.08264\ttrain-rmse:5.08601\teval-rmspe:0.993353\ttrain-rmspe:0.993392\n",
      "[3]\teval-rmse:4.32384\ttrain-rmse:4.32666\teval-rmspe:0.985764\ttrain-rmspe:0.985817\n",
      "[4]\teval-rmse:3.67916\ttrain-rmse:3.68131\teval-rmspe:0.972951\ttrain-rmspe:0.97302\n",
      "[5]\teval-rmse:3.13142\ttrain-rmse:3.13319\teval-rmspe:0.953387\ttrain-rmspe:0.953477\n",
      "[6]\teval-rmse:2.66675\ttrain-rmse:2.66818\teval-rmspe:0.925903\ttrain-rmspe:0.92603\n",
      "[7]\teval-rmse:2.27197\ttrain-rmse:2.27291\teval-rmspe:0.890479\ttrain-rmspe:0.890667\n",
      "[8]\teval-rmse:1.93752\ttrain-rmse:1.93814\teval-rmspe:0.847198\ttrain-rmspe:0.847513\n",
      "[9]\teval-rmse:1.6528\ttrain-rmse:1.65308\teval-rmspe:0.797841\ttrain-rmspe:0.798327\n",
      "[10]\teval-rmse:1.41224\ttrain-rmse:1.41233\teval-rmspe:0.743372\ttrain-rmspe:0.744154\n",
      "[11]\teval-rmse:1.2085\ttrain-rmse:1.20795\teval-rmspe:0.686379\ttrain-rmspe:0.687576\n",
      "[12]\teval-rmse:1.03485\ttrain-rmse:1.03409\teval-rmspe:0.628389\ttrain-rmspe:0.630397\n",
      "[13]\teval-rmse:0.889925\ttrain-rmse:0.889018\teval-rmspe:0.571012\ttrain-rmspe:0.574184\n",
      "[14]\teval-rmse:0.767558\ttrain-rmse:0.766542\teval-rmspe:0.516151\ttrain-rmspe:0.520827\n",
      "[15]\teval-rmse:0.662933\ttrain-rmse:0.661598\teval-rmspe:0.464717\ttrain-rmspe:0.471296\n",
      "[16]\teval-rmse:0.577242\ttrain-rmse:0.575712\teval-rmspe:0.417907\ttrain-rmspe:0.426635\n",
      "[17]\teval-rmse:0.505975\ttrain-rmse:0.504097\teval-rmspe:0.376156\ttrain-rmspe:0.387659\n",
      "[18]\teval-rmse:0.447551\ttrain-rmse:0.44527\teval-rmspe:0.34003\ttrain-rmspe:0.35447\n",
      "[19]\teval-rmse:0.398101\ttrain-rmse:0.395469\teval-rmspe:0.308605\ttrain-rmspe:0.326115\n",
      "[20]\teval-rmse:0.355803\ttrain-rmse:0.352869\teval-rmspe:0.28119\ttrain-rmspe:0.302426\n",
      "[21]\teval-rmse:0.324252\ttrain-rmse:0.320842\teval-rmspe:0.260342\ttrain-rmspe:0.284307\n",
      "[22]\teval-rmse:0.298899\ttrain-rmse:0.294791\teval-rmspe:0.243661\ttrain-rmspe:0.270494\n",
      "[23]\teval-rmse:0.277132\ttrain-rmse:0.272526\teval-rmspe:0.229431\ttrain-rmspe:0.259544\n",
      "[24]\teval-rmse:0.26017\ttrain-rmse:0.254933\teval-rmspe:0.218722\ttrain-rmspe:0.250823\n",
      "[25]\teval-rmse:0.247568\ttrain-rmse:0.241809\teval-rmspe:0.211268\ttrain-rmspe:0.245269\n",
      "[26]\teval-rmse:0.238214\ttrain-rmse:0.231908\teval-rmspe:0.206137\ttrain-rmspe:0.241264\n",
      "[27]\teval-rmse:0.230815\ttrain-rmse:0.224032\teval-rmspe:0.202388\ttrain-rmspe:0.238544\n",
      "[28]\teval-rmse:0.224867\ttrain-rmse:0.217738\teval-rmspe:0.199854\ttrain-rmspe:0.237142\n",
      "[29]\teval-rmse:0.220223\ttrain-rmse:0.212585\teval-rmspe:0.19804\ttrain-rmspe:0.235876\n",
      "[30]\teval-rmse:0.216405\ttrain-rmse:0.208336\teval-rmspe:0.196525\ttrain-rmspe:0.23495\n",
      "[31]\teval-rmse:0.211304\ttrain-rmse:0.202948\teval-rmspe:0.192919\ttrain-rmspe:0.232525\n",
      "[32]\teval-rmse:0.208966\ttrain-rmse:0.200249\teval-rmspe:0.192347\ttrain-rmspe:0.231851\n",
      "[33]\teval-rmse:0.206053\ttrain-rmse:0.197065\teval-rmspe:0.190696\ttrain-rmspe:0.230218\n",
      "[34]\teval-rmse:0.204648\ttrain-rmse:0.195447\teval-rmspe:0.190527\ttrain-rmspe:0.230349\n",
      "[35]\teval-rmse:0.203171\ttrain-rmse:0.193601\teval-rmspe:0.189714\ttrain-rmspe:0.230157\n",
      "[36]\teval-rmse:0.201304\ttrain-rmse:0.191507\teval-rmspe:0.188706\ttrain-rmspe:0.229393\n",
      "[37]\teval-rmse:0.200202\ttrain-rmse:0.190225\teval-rmspe:0.18821\ttrain-rmspe:0.229018\n",
      "[38]\teval-rmse:0.198725\ttrain-rmse:0.188166\teval-rmspe:0.187266\ttrain-rmspe:0.225569\n",
      "[39]\teval-rmse:0.196111\ttrain-rmse:0.185187\teval-rmspe:0.184806\ttrain-rmspe:0.223375\n",
      "[40]\teval-rmse:0.193932\ttrain-rmse:0.182945\teval-rmspe:0.182793\ttrain-rmspe:0.222216\n",
      "[41]\teval-rmse:0.191083\ttrain-rmse:0.179851\teval-rmspe:0.179996\ttrain-rmspe:0.219895\n",
      "[42]\teval-rmse:0.188876\ttrain-rmse:0.177403\teval-rmspe:0.177655\ttrain-rmspe:0.217913\n",
      "[43]\teval-rmse:0.187097\ttrain-rmse:0.175487\teval-rmspe:0.175941\ttrain-rmspe:0.216541\n",
      "[44]\teval-rmse:0.186717\ttrain-rmse:0.17509\teval-rmspe:0.175799\ttrain-rmspe:0.216642\n",
      "[45]\teval-rmse:0.185083\ttrain-rmse:0.17339\teval-rmspe:0.17404\ttrain-rmspe:0.215337\n",
      "[46]\teval-rmse:0.181371\ttrain-rmse:0.169385\teval-rmspe:0.169894\ttrain-rmspe:0.211761\n",
      "[47]\teval-rmse:0.178898\ttrain-rmse:0.166771\teval-rmspe:0.167412\ttrain-rmspe:0.209662\n",
      "[48]\teval-rmse:0.176885\ttrain-rmse:0.164418\teval-rmspe:0.165142\ttrain-rmspe:0.207543\n",
      "[49]\teval-rmse:0.175736\ttrain-rmse:0.16309\teval-rmspe:0.163765\ttrain-rmspe:0.207051\n",
      "[50]\teval-rmse:0.174692\ttrain-rmse:0.161937\teval-rmspe:0.162611\ttrain-rmspe:0.205686\n",
      "[51]\teval-rmse:0.173253\ttrain-rmse:0.160157\teval-rmspe:0.161165\ttrain-rmspe:0.204179\n",
      "[52]\teval-rmse:0.17262\ttrain-rmse:0.159427\teval-rmspe:0.160505\ttrain-rmspe:0.20345\n",
      "[53]\teval-rmse:0.172007\ttrain-rmse:0.15865\teval-rmspe:0.159715\ttrain-rmspe:0.202136\n",
      "[54]\teval-rmse:0.17134\ttrain-rmse:0.1574\teval-rmspe:0.159061\ttrain-rmspe:0.198157\n",
      "[55]\teval-rmse:0.170457\ttrain-rmse:0.156457\teval-rmspe:0.158078\ttrain-rmspe:0.197361\n",
      "[56]\teval-rmse:0.168859\ttrain-rmse:0.154684\teval-rmspe:0.156124\ttrain-rmspe:0.195839\n",
      "[57]\teval-rmse:0.167684\ttrain-rmse:0.153352\teval-rmspe:0.154702\ttrain-rmspe:0.193769\n",
      "[58]\teval-rmse:0.167506\ttrain-rmse:0.153175\teval-rmspe:0.154549\ttrain-rmspe:0.193567\n",
      "[59]\teval-rmse:0.167117\ttrain-rmse:0.152766\teval-rmspe:0.154197\ttrain-rmspe:0.193154\n",
      "[60]\teval-rmse:0.16676\ttrain-rmse:0.152342\teval-rmspe:0.153758\ttrain-rmspe:0.193604\n",
      "[61]\teval-rmse:0.166181\ttrain-rmse:0.151631\teval-rmspe:0.153097\ttrain-rmspe:0.192963\n",
      "[62]\teval-rmse:0.16584\ttrain-rmse:0.15108\teval-rmspe:0.152708\ttrain-rmspe:0.192204\n",
      "[63]\teval-rmse:0.165117\ttrain-rmse:0.150131\teval-rmspe:0.151813\ttrain-rmspe:0.191205\n",
      "[64]\teval-rmse:0.164642\ttrain-rmse:0.14956\teval-rmspe:0.151384\ttrain-rmspe:0.190731\n",
      "[65]\teval-rmse:0.164092\ttrain-rmse:0.148875\teval-rmspe:0.150688\ttrain-rmspe:0.189764\n",
      "[66]\teval-rmse:0.162849\ttrain-rmse:0.147521\teval-rmspe:0.149356\ttrain-rmspe:0.188751\n",
      "[67]\teval-rmse:0.162567\ttrain-rmse:0.14699\teval-rmspe:0.149025\ttrain-rmspe:0.188054\n",
      "[68]\teval-rmse:0.161451\ttrain-rmse:0.145738\teval-rmspe:0.147717\ttrain-rmspe:0.186952\n",
      "[69]\teval-rmse:0.161341\ttrain-rmse:0.145617\teval-rmspe:0.147587\ttrain-rmspe:0.186927\n",
      "[70]\teval-rmse:0.160886\ttrain-rmse:0.144958\teval-rmspe:0.146959\ttrain-rmspe:0.186402\n",
      "[71]\teval-rmse:0.159572\ttrain-rmse:0.143384\teval-rmspe:0.145361\ttrain-rmspe:0.185035\n",
      "[72]\teval-rmse:0.159121\ttrain-rmse:0.142652\teval-rmspe:0.144861\ttrain-rmspe:0.184363\n",
      "[73]\teval-rmse:0.158125\ttrain-rmse:0.141573\teval-rmspe:0.143727\ttrain-rmspe:0.183414\n",
      "[74]\teval-rmse:0.157867\ttrain-rmse:0.141112\teval-rmspe:0.143426\ttrain-rmspe:0.182954\n",
      "[75]\teval-rmse:0.157079\ttrain-rmse:0.140272\teval-rmspe:0.142497\ttrain-rmspe:0.182421\n",
      "[76]\teval-rmse:0.15596\ttrain-rmse:0.138858\teval-rmspe:0.141117\ttrain-rmspe:0.18128\n",
      "[77]\teval-rmse:0.156013\ttrain-rmse:0.13846\teval-rmspe:0.140782\ttrain-rmspe:0.180687\n",
      "[78]\teval-rmse:0.155251\ttrain-rmse:0.137522\teval-rmspe:0.140019\ttrain-rmspe:0.180114\n",
      "[79]\teval-rmse:0.154961\ttrain-rmse:0.137092\teval-rmspe:0.139674\ttrain-rmspe:0.179559\n",
      "[80]\teval-rmse:0.154076\ttrain-rmse:0.136087\teval-rmspe:0.138531\ttrain-rmspe:0.178749\n",
      "[81]\teval-rmse:0.153168\ttrain-rmse:0.134994\teval-rmspe:0.137464\ttrain-rmspe:0.177903\n",
      "[82]\teval-rmse:0.153002\ttrain-rmse:0.134725\teval-rmspe:0.137284\ttrain-rmspe:0.176094\n",
      "[83]\teval-rmse:0.15262\ttrain-rmse:0.133958\teval-rmspe:0.13677\ttrain-rmspe:0.17556\n",
      "[84]\teval-rmse:0.152255\ttrain-rmse:0.133524\teval-rmspe:0.136127\ttrain-rmspe:0.175167\n",
      "[85]\teval-rmse:0.15194\ttrain-rmse:0.133098\teval-rmspe:0.13581\ttrain-rmspe:0.174882\n",
      "[86]\teval-rmse:0.151578\ttrain-rmse:0.132748\teval-rmspe:0.13541\ttrain-rmspe:0.174576\n",
      "[87]\teval-rmse:0.151191\ttrain-rmse:0.132072\teval-rmspe:0.135047\ttrain-rmspe:0.173289\n",
      "[88]\teval-rmse:0.150887\ttrain-rmse:0.131683\teval-rmspe:0.134704\ttrain-rmspe:0.172931\n",
      "[89]\teval-rmse:0.150679\ttrain-rmse:0.131267\teval-rmspe:0.134394\ttrain-rmspe:0.172428\n",
      "[90]\teval-rmse:0.149762\ttrain-rmse:0.130155\teval-rmspe:0.133245\ttrain-rmspe:0.171426\n",
      "[91]\teval-rmse:0.149538\ttrain-rmse:0.12987\teval-rmspe:0.132919\ttrain-rmspe:0.171666\n",
      "[92]\teval-rmse:0.149274\ttrain-rmse:0.129478\teval-rmspe:0.132635\ttrain-rmspe:0.170962\n",
      "[93]\teval-rmse:0.149011\ttrain-rmse:0.12897\teval-rmspe:0.132185\ttrain-rmspe:0.170219\n",
      "[94]\teval-rmse:0.147941\ttrain-rmse:0.12785\teval-rmspe:0.130774\ttrain-rmspe:0.169016\n",
      "[95]\teval-rmse:0.147304\ttrain-rmse:0.127007\teval-rmspe:0.12992\ttrain-rmspe:0.168193\n"
     ]
    },
    {
     "name": "stdout",
     "output_type": "stream",
     "text": [
      "[96]\teval-rmse:0.14717\ttrain-rmse:0.126625\teval-rmspe:0.129727\ttrain-rmspe:0.167664\n",
      "[97]\teval-rmse:0.146943\ttrain-rmse:0.126095\teval-rmspe:0.129434\ttrain-rmspe:0.167273\n",
      "[98]\teval-rmse:0.146803\ttrain-rmse:0.125853\teval-rmspe:0.129289\ttrain-rmspe:0.166863\n",
      "[99]\teval-rmse:0.146625\ttrain-rmse:0.125607\teval-rmspe:0.12901\ttrain-rmspe:0.166396\n",
      "[100]\teval-rmse:0.14627\ttrain-rmse:0.12519\teval-rmspe:0.128556\ttrain-rmspe:0.165849\n",
      "[101]\teval-rmse:0.145962\ttrain-rmse:0.124732\teval-rmspe:0.128181\ttrain-rmspe:0.16545\n",
      "[102]\teval-rmse:0.145792\ttrain-rmse:0.124487\teval-rmspe:0.127998\ttrain-rmspe:0.165152\n",
      "[103]\teval-rmse:0.1456\ttrain-rmse:0.123879\teval-rmspe:0.127713\ttrain-rmspe:0.164715\n",
      "[104]\teval-rmse:0.145141\ttrain-rmse:0.123349\teval-rmspe:0.127127\ttrain-rmspe:0.164284\n",
      "[105]\teval-rmse:0.145234\ttrain-rmse:0.123076\teval-rmspe:0.127045\ttrain-rmspe:0.164134\n",
      "[106]\teval-rmse:0.14497\ttrain-rmse:0.122752\teval-rmspe:0.126716\ttrain-rmspe:0.163819\n",
      "[107]\teval-rmse:0.144775\ttrain-rmse:0.122311\teval-rmspe:0.126535\ttrain-rmspe:0.163468\n",
      "[108]\teval-rmse:0.144593\ttrain-rmse:0.122065\teval-rmspe:0.126258\ttrain-rmspe:0.16328\n",
      "[109]\teval-rmse:0.14446\ttrain-rmse:0.121745\teval-rmspe:0.126046\ttrain-rmspe:0.162917\n",
      "[110]\teval-rmse:0.144442\ttrain-rmse:0.121427\teval-rmspe:0.125962\ttrain-rmspe:0.162603\n",
      "[111]\teval-rmse:0.144283\ttrain-rmse:0.121159\teval-rmspe:0.125796\ttrain-rmspe:0.162328\n",
      "[112]\teval-rmse:0.144126\ttrain-rmse:0.120844\teval-rmspe:0.125598\ttrain-rmspe:0.161939\n",
      "[113]\teval-rmse:0.143683\ttrain-rmse:0.120241\teval-rmspe:0.125058\ttrain-rmspe:0.161249\n",
      "[114]\teval-rmse:0.143518\ttrain-rmse:0.120025\teval-rmspe:0.124864\ttrain-rmspe:0.161069\n",
      "[115]\teval-rmse:0.143307\ttrain-rmse:0.119694\teval-rmspe:0.124617\ttrain-rmspe:0.160864\n",
      "[116]\teval-rmse:0.143173\ttrain-rmse:0.119323\teval-rmspe:0.124392\ttrain-rmspe:0.160268\n",
      "[117]\teval-rmse:0.142733\ttrain-rmse:0.118677\teval-rmspe:0.123849\ttrain-rmspe:0.159813\n",
      "[118]\teval-rmse:0.142626\ttrain-rmse:0.118536\teval-rmspe:0.123671\ttrain-rmspe:0.159341\n",
      "[119]\teval-rmse:0.142186\ttrain-rmse:0.117822\teval-rmspe:0.123006\ttrain-rmspe:0.158382\n",
      "[120]\teval-rmse:0.142151\ttrain-rmse:0.117607\teval-rmspe:0.123015\ttrain-rmspe:0.158323\n",
      "[121]\teval-rmse:0.142092\ttrain-rmse:0.117466\teval-rmspe:0.122941\ttrain-rmspe:0.158109\n",
      "[122]\teval-rmse:0.14202\ttrain-rmse:0.117284\teval-rmspe:0.122925\ttrain-rmspe:0.158026\n",
      "[123]\teval-rmse:0.142275\ttrain-rmse:0.117067\teval-rmspe:0.122908\ttrain-rmspe:0.157687\n",
      "[124]\teval-rmse:0.142199\ttrain-rmse:0.116878\teval-rmspe:0.122837\ttrain-rmspe:0.157623\n",
      "[125]\teval-rmse:0.141828\ttrain-rmse:0.116342\teval-rmspe:0.122326\ttrain-rmspe:0.157241\n",
      "[126]\teval-rmse:0.141682\ttrain-rmse:0.116087\teval-rmspe:0.122161\ttrain-rmspe:0.157013\n",
      "[127]\teval-rmse:0.141564\ttrain-rmse:0.11579\teval-rmspe:0.122045\ttrain-rmspe:0.156764\n",
      "[128]\teval-rmse:0.14146\ttrain-rmse:0.115555\teval-rmspe:0.121846\ttrain-rmspe:0.156433\n",
      "[129]\teval-rmse:0.141323\ttrain-rmse:0.115337\teval-rmspe:0.121672\ttrain-rmspe:0.156212\n",
      "[130]\teval-rmse:0.141174\ttrain-rmse:0.114953\teval-rmspe:0.12156\ttrain-rmspe:0.155971\n",
      "[131]\teval-rmse:0.14101\ttrain-rmse:0.114712\teval-rmspe:0.1214\ttrain-rmspe:0.153872\n",
      "[132]\teval-rmse:0.140947\ttrain-rmse:0.114615\teval-rmspe:0.121339\ttrain-rmspe:0.153726\n",
      "[133]\teval-rmse:0.141198\ttrain-rmse:0.114374\teval-rmspe:0.121347\ttrain-rmspe:0.153428\n",
      "[134]\teval-rmse:0.141215\ttrain-rmse:0.114281\teval-rmspe:0.121371\ttrain-rmspe:0.153305\n",
      "[135]\teval-rmse:0.141151\ttrain-rmse:0.114166\teval-rmspe:0.12129\ttrain-rmspe:0.151559\n",
      "[136]\teval-rmse:0.141007\ttrain-rmse:0.11392\teval-rmspe:0.121111\ttrain-rmspe:0.151306\n",
      "[137]\teval-rmse:0.140989\ttrain-rmse:0.113798\teval-rmspe:0.121066\ttrain-rmspe:0.151069\n",
      "[138]\teval-rmse:0.140911\ttrain-rmse:0.113669\teval-rmspe:0.120982\ttrain-rmspe:0.150957\n",
      "[139]\teval-rmse:0.140817\ttrain-rmse:0.1135\teval-rmspe:0.120866\ttrain-rmspe:0.149133\n",
      "[140]\teval-rmse:0.140676\ttrain-rmse:0.113257\teval-rmspe:0.120714\ttrain-rmspe:0.148853\n",
      "[141]\teval-rmse:0.141012\ttrain-rmse:0.113052\teval-rmspe:0.120652\ttrain-rmspe:0.148842\n",
      "[142]\teval-rmse:0.14089\ttrain-rmse:0.112816\teval-rmspe:0.120499\ttrain-rmspe:0.14866\n",
      "[143]\teval-rmse:0.140863\ttrain-rmse:0.112597\teval-rmspe:0.120529\ttrain-rmspe:0.148427\n",
      "[144]\teval-rmse:0.140838\ttrain-rmse:0.112415\teval-rmspe:0.120495\ttrain-rmspe:0.148422\n",
      "[145]\teval-rmse:0.140736\ttrain-rmse:0.112268\teval-rmspe:0.120386\ttrain-rmspe:0.148282\n",
      "[146]\teval-rmse:0.140594\ttrain-rmse:0.112\teval-rmspe:0.120196\ttrain-rmspe:0.148089\n",
      "[147]\teval-rmse:0.140345\ttrain-rmse:0.111502\teval-rmspe:0.119752\ttrain-rmspe:0.14766\n",
      "[148]\teval-rmse:0.140312\ttrain-rmse:0.111429\teval-rmspe:0.119722\ttrain-rmspe:0.147585\n",
      "[149]\teval-rmse:0.140268\ttrain-rmse:0.11134\teval-rmspe:0.119667\ttrain-rmspe:0.147502\n",
      "[150]\teval-rmse:0.140177\ttrain-rmse:0.111164\teval-rmspe:0.11958\ttrain-rmspe:0.146847\n",
      "[151]\teval-rmse:0.14009\ttrain-rmse:0.110893\teval-rmspe:0.119457\ttrain-rmspe:0.146488\n",
      "[152]\teval-rmse:0.140155\ttrain-rmse:0.110646\teval-rmspe:0.119879\ttrain-rmspe:0.145796\n",
      "[153]\teval-rmse:0.140149\ttrain-rmse:0.110553\teval-rmspe:0.119885\ttrain-rmspe:0.14575\n",
      "[154]\teval-rmse:0.139991\ttrain-rmse:0.110268\teval-rmspe:0.119698\ttrain-rmspe:0.145576\n",
      "[155]\teval-rmse:0.13993\ttrain-rmse:0.110155\teval-rmspe:0.119624\ttrain-rmspe:0.145404\n",
      "[156]\teval-rmse:0.139649\ttrain-rmse:0.109793\teval-rmspe:0.119244\ttrain-rmspe:0.145086\n",
      "[157]\teval-rmse:0.139605\ttrain-rmse:0.109692\teval-rmspe:0.119157\ttrain-rmspe:0.144992\n",
      "[158]\teval-rmse:0.139532\ttrain-rmse:0.10951\teval-rmspe:0.119025\ttrain-rmspe:0.14483\n",
      "[159]\teval-rmse:0.139402\ttrain-rmse:0.109212\teval-rmspe:0.118848\ttrain-rmspe:0.1446\n",
      "[160]\teval-rmse:0.139114\ttrain-rmse:0.10893\teval-rmspe:0.118483\ttrain-rmspe:0.14435\n",
      "[161]\teval-rmse:0.139083\ttrain-rmse:0.108843\teval-rmspe:0.118395\ttrain-rmspe:0.144251\n",
      "[162]\teval-rmse:0.138948\ttrain-rmse:0.108579\teval-rmspe:0.118296\ttrain-rmspe:0.143966\n",
      "[163]\teval-rmse:0.138819\ttrain-rmse:0.108281\teval-rmspe:0.117977\ttrain-rmspe:0.143644\n",
      "[164]\teval-rmse:0.138799\ttrain-rmse:0.108157\teval-rmspe:0.117945\ttrain-rmspe:0.143504\n",
      "[165]\teval-rmse:0.138724\ttrain-rmse:0.107957\teval-rmspe:0.117836\ttrain-rmspe:0.143321\n",
      "[166]\teval-rmse:0.138576\ttrain-rmse:0.107558\teval-rmspe:0.117454\ttrain-rmspe:0.14295\n",
      "[167]\teval-rmse:0.138479\ttrain-rmse:0.107411\teval-rmspe:0.117319\ttrain-rmspe:0.141996\n",
      "[168]\teval-rmse:0.138414\ttrain-rmse:0.107344\teval-rmspe:0.117237\ttrain-rmspe:0.141936\n",
      "[169]\teval-rmse:0.1384\ttrain-rmse:0.106871\teval-rmspe:0.117153\ttrain-rmspe:0.141546\n",
      "[170]\teval-rmse:0.138355\ttrain-rmse:0.106794\teval-rmspe:0.117106\ttrain-rmspe:0.141469\n",
      "[171]\teval-rmse:0.138327\ttrain-rmse:0.10673\teval-rmspe:0.117074\ttrain-rmspe:0.141282\n",
      "[172]\teval-rmse:0.13831\ttrain-rmse:0.106487\teval-rmspe:0.117118\ttrain-rmspe:0.141232\n",
      "[173]\teval-rmse:0.138276\ttrain-rmse:0.106379\teval-rmspe:0.117131\ttrain-rmspe:0.141056\n",
      "[174]\teval-rmse:0.138215\ttrain-rmse:0.106091\teval-rmspe:0.117063\ttrain-rmspe:0.140881\n",
      "[175]\teval-rmse:0.138197\ttrain-rmse:0.106013\teval-rmspe:0.117029\ttrain-rmspe:0.140918\n",
      "[176]\teval-rmse:0.138139\ttrain-rmse:0.105855\teval-rmspe:0.116941\ttrain-rmspe:0.14076\n",
      "[177]\teval-rmse:0.138099\ttrain-rmse:0.105702\teval-rmspe:0.116893\ttrain-rmspe:0.140641\n",
      "[178]\teval-rmse:0.137986\ttrain-rmse:0.105433\teval-rmspe:0.116788\ttrain-rmspe:0.140472\n",
      "[179]\teval-rmse:0.137972\ttrain-rmse:0.105412\teval-rmspe:0.116785\ttrain-rmspe:0.140395\n",
      "[180]\teval-rmse:0.137993\ttrain-rmse:0.105304\teval-rmspe:0.116848\ttrain-rmspe:0.14033\n",
      "[181]\teval-rmse:0.138028\ttrain-rmse:0.1052\teval-rmspe:0.116821\ttrain-rmspe:0.140206\n",
      "[182]\teval-rmse:0.137901\ttrain-rmse:0.10494\teval-rmspe:0.116613\ttrain-rmspe:0.140026\n",
      "[183]\teval-rmse:0.13788\ttrain-rmse:0.104716\teval-rmspe:0.116564\ttrain-rmspe:0.139558\n",
      "[184]\teval-rmse:0.137824\ttrain-rmse:0.104579\teval-rmspe:0.116513\ttrain-rmspe:0.139434\n",
      "[185]\teval-rmse:0.137775\ttrain-rmse:0.104425\teval-rmspe:0.116446\ttrain-rmspe:0.139243\n",
      "[186]\teval-rmse:0.137719\ttrain-rmse:0.104235\teval-rmspe:0.116348\ttrain-rmspe:0.139076\n",
      "[187]\teval-rmse:0.137682\ttrain-rmse:0.104171\teval-rmspe:0.116298\ttrain-rmspe:0.139003\n",
      "[188]\teval-rmse:0.137635\ttrain-rmse:0.10396\teval-rmspe:0.116225\ttrain-rmspe:0.138884\n",
      "[189]\teval-rmse:0.138041\ttrain-rmse:0.103808\teval-rmspe:0.116248\ttrain-rmspe:0.138714\n",
      "[190]\teval-rmse:0.138015\ttrain-rmse:0.103659\teval-rmspe:0.116189\ttrain-rmspe:0.138747\n",
      "[191]\teval-rmse:0.138026\ttrain-rmse:0.103524\teval-rmspe:0.116173\ttrain-rmspe:0.126779\n"
     ]
    },
    {
     "name": "stdout",
     "output_type": "stream",
     "text": [
      "[192]\teval-rmse:0.138043\ttrain-rmse:0.10332\teval-rmspe:0.116151\ttrain-rmspe:0.126621\n",
      "[193]\teval-rmse:0.137992\ttrain-rmse:0.103142\teval-rmspe:0.116003\ttrain-rmspe:0.126491\n",
      "[194]\teval-rmse:0.138039\ttrain-rmse:0.103099\teval-rmspe:0.116041\ttrain-rmspe:0.126412\n",
      "[195]\teval-rmse:0.138023\ttrain-rmse:0.10307\teval-rmspe:0.116016\ttrain-rmspe:0.126449\n",
      "[196]\teval-rmse:0.137988\ttrain-rmse:0.102945\teval-rmspe:0.116071\ttrain-rmspe:0.126354\n",
      "[197]\teval-rmse:0.137907\ttrain-rmse:0.102841\teval-rmspe:0.116034\ttrain-rmspe:0.126327\n",
      "[198]\teval-rmse:0.137769\ttrain-rmse:0.102705\teval-rmspe:0.115922\ttrain-rmspe:0.126306\n",
      "[199]\teval-rmse:0.1377\ttrain-rmse:0.102561\teval-rmspe:0.115841\ttrain-rmspe:0.126123\n",
      "[200]\teval-rmse:0.137612\ttrain-rmse:0.102454\teval-rmspe:0.115731\ttrain-rmspe:0.125858\n",
      "[201]\teval-rmse:0.137606\ttrain-rmse:0.102304\teval-rmspe:0.115673\ttrain-rmspe:0.125474\n",
      "[202]\teval-rmse:0.137506\ttrain-rmse:0.10215\teval-rmspe:0.115575\ttrain-rmspe:0.125348\n",
      "[203]\teval-rmse:0.137512\ttrain-rmse:0.101966\teval-rmspe:0.115566\ttrain-rmspe:0.125221\n",
      "[204]\teval-rmse:0.137498\ttrain-rmse:0.10188\teval-rmspe:0.11559\ttrain-rmspe:0.124972\n",
      "[205]\teval-rmse:0.137482\ttrain-rmse:0.101805\teval-rmspe:0.11557\ttrain-rmspe:0.124871\n",
      "[206]\teval-rmse:0.137398\ttrain-rmse:0.101622\teval-rmspe:0.115448\ttrain-rmspe:0.124751\n",
      "[207]\teval-rmse:0.137405\ttrain-rmse:0.101598\teval-rmspe:0.11547\ttrain-rmspe:0.124728\n",
      "[208]\teval-rmse:0.137471\ttrain-rmse:0.101453\teval-rmspe:0.115534\ttrain-rmspe:0.121532\n",
      "[209]\teval-rmse:0.137387\ttrain-rmse:0.101287\teval-rmspe:0.115432\ttrain-rmspe:0.121465\n",
      "[210]\teval-rmse:0.137352\ttrain-rmse:0.101226\teval-rmspe:0.115371\ttrain-rmspe:0.120745\n",
      "[211]\teval-rmse:0.137324\ttrain-rmse:0.10114\teval-rmspe:0.115336\ttrain-rmspe:0.120618\n",
      "[212]\teval-rmse:0.137733\ttrain-rmse:0.101059\teval-rmspe:0.115369\ttrain-rmspe:0.120561\n",
      "[213]\teval-rmse:0.137643\ttrain-rmse:0.100846\teval-rmspe:0.115298\ttrain-rmspe:0.120395\n",
      "[214]\teval-rmse:0.137685\ttrain-rmse:0.100695\teval-rmspe:0.115348\ttrain-rmspe:0.120269\n",
      "[215]\teval-rmse:0.137674\ttrain-rmse:0.100612\teval-rmspe:0.11536\ttrain-rmspe:0.119854\n",
      "[216]\teval-rmse:0.137591\ttrain-rmse:0.100521\teval-rmspe:0.115203\ttrain-rmspe:0.119738\n",
      "[217]\teval-rmse:0.137571\ttrain-rmse:0.100287\teval-rmspe:0.115193\ttrain-rmspe:0.118052\n",
      "[218]\teval-rmse:0.137603\ttrain-rmse:0.100179\teval-rmspe:0.115154\ttrain-rmspe:0.117915\n",
      "[219]\teval-rmse:0.137522\ttrain-rmse:0.100005\teval-rmspe:0.114988\ttrain-rmspe:0.113849\n",
      "[220]\teval-rmse:0.137659\ttrain-rmse:0.099768\teval-rmspe:0.11501\ttrain-rmspe:0.113622\n",
      "[221]\teval-rmse:0.137558\ttrain-rmse:0.099603\teval-rmspe:0.115019\ttrain-rmspe:0.113452\n",
      "[222]\teval-rmse:0.137529\ttrain-rmse:0.09941\teval-rmspe:0.114892\ttrain-rmspe:0.113297\n",
      "[223]\teval-rmse:0.137485\ttrain-rmse:0.099324\teval-rmspe:0.114839\ttrain-rmspe:0.113222\n",
      "[224]\teval-rmse:0.137435\ttrain-rmse:0.099172\teval-rmspe:0.114761\ttrain-rmspe:0.113087\n",
      "[225]\teval-rmse:0.137339\ttrain-rmse:0.099091\teval-rmspe:0.114731\ttrain-rmspe:0.113025\n",
      "[226]\teval-rmse:0.137347\ttrain-rmse:0.099017\teval-rmspe:0.114734\ttrain-rmspe:0.112924\n",
      "[227]\teval-rmse:0.137304\ttrain-rmse:0.098914\teval-rmspe:0.114704\ttrain-rmspe:0.112849\n",
      "[228]\teval-rmse:0.13726\ttrain-rmse:0.098697\teval-rmspe:0.114657\ttrain-rmspe:0.112699\n",
      "[229]\teval-rmse:0.137245\ttrain-rmse:0.098657\teval-rmspe:0.114638\ttrain-rmspe:0.112661\n",
      "[230]\teval-rmse:0.137238\ttrain-rmse:0.09857\teval-rmspe:0.114621\ttrain-rmspe:0.112479\n",
      "[231]\teval-rmse:0.137197\ttrain-rmse:0.098419\teval-rmspe:0.114594\ttrain-rmspe:0.11244\n",
      "[232]\teval-rmse:0.137183\ttrain-rmse:0.098336\teval-rmspe:0.114565\ttrain-rmspe:0.112296\n",
      "[233]\teval-rmse:0.137203\ttrain-rmse:0.098298\teval-rmspe:0.114545\ttrain-rmspe:0.112267\n",
      "[234]\teval-rmse:0.137148\ttrain-rmse:0.098181\teval-rmspe:0.114556\ttrain-rmspe:0.1122\n",
      "[235]\teval-rmse:0.137113\ttrain-rmse:0.098093\teval-rmspe:0.11458\ttrain-rmspe:0.11213\n",
      "[236]\teval-rmse:0.137095\ttrain-rmse:0.098074\teval-rmspe:0.114557\ttrain-rmspe:0.112097\n",
      "[237]\teval-rmse:0.137033\ttrain-rmse:0.097914\teval-rmspe:0.114512\ttrain-rmspe:0.112015\n",
      "[238]\teval-rmse:0.13698\ttrain-rmse:0.097827\teval-rmspe:0.11444\ttrain-rmspe:0.111934\n",
      "[239]\teval-rmse:0.13697\ttrain-rmse:0.097699\teval-rmspe:0.114434\ttrain-rmspe:0.108733\n",
      "[240]\teval-rmse:0.137062\ttrain-rmse:0.097481\teval-rmspe:0.114394\ttrain-rmspe:0.108514\n",
      "[241]\teval-rmse:0.137044\ttrain-rmse:0.097421\teval-rmspe:0.114371\ttrain-rmspe:0.108438\n",
      "[242]\teval-rmse:0.137192\ttrain-rmse:0.09734\teval-rmspe:0.114298\ttrain-rmspe:0.108464\n",
      "[243]\teval-rmse:0.137137\ttrain-rmse:0.09727\teval-rmspe:0.11422\ttrain-rmspe:0.108373\n",
      "[244]\teval-rmse:0.137114\ttrain-rmse:0.097091\teval-rmspe:0.114196\ttrain-rmspe:0.108291\n",
      "[245]\teval-rmse:0.137084\ttrain-rmse:0.096914\teval-rmspe:0.113931\ttrain-rmspe:0.106368\n",
      "[246]\teval-rmse:0.137074\ttrain-rmse:0.096803\teval-rmspe:0.113907\ttrain-rmspe:0.106218\n",
      "[247]\teval-rmse:0.137021\ttrain-rmse:0.096637\teval-rmspe:0.113758\ttrain-rmspe:0.106096\n",
      "[248]\teval-rmse:0.137001\ttrain-rmse:0.096595\teval-rmspe:0.113734\ttrain-rmspe:0.106055\n",
      "[249]\teval-rmse:0.136998\ttrain-rmse:0.096426\teval-rmspe:0.113741\ttrain-rmspe:0.106008\n",
      "[250]\teval-rmse:0.137021\ttrain-rmse:0.096303\teval-rmspe:0.113843\ttrain-rmspe:0.105907\n",
      "[251]\teval-rmse:0.137008\ttrain-rmse:0.09627\teval-rmspe:0.113815\ttrain-rmspe:0.105868\n",
      "[252]\teval-rmse:0.136987\ttrain-rmse:0.095972\teval-rmspe:0.113796\ttrain-rmspe:0.105702\n",
      "[253]\teval-rmse:0.136974\ttrain-rmse:0.095891\teval-rmspe:0.113795\ttrain-rmspe:0.105618\n",
      "[254]\teval-rmse:0.136933\ttrain-rmse:0.095753\teval-rmspe:0.113784\ttrain-rmspe:0.105503\n",
      "[255]\teval-rmse:0.13706\ttrain-rmse:0.095517\teval-rmspe:0.113808\ttrain-rmspe:0.104142\n",
      "[256]\teval-rmse:0.137035\ttrain-rmse:0.095021\teval-rmspe:0.113775\ttrain-rmspe:0.103831\n",
      "[257]\teval-rmse:0.137045\ttrain-rmse:0.094976\teval-rmspe:0.113819\ttrain-rmspe:0.103784\n",
      "[258]\teval-rmse:0.137046\ttrain-rmse:0.094908\teval-rmspe:0.113848\ttrain-rmspe:0.103772\n",
      "[259]\teval-rmse:0.137035\ttrain-rmse:0.094877\teval-rmspe:0.113841\ttrain-rmspe:0.103759\n",
      "[260]\teval-rmse:0.13704\ttrain-rmse:0.094775\teval-rmspe:0.113955\ttrain-rmspe:0.102986\n",
      "[261]\teval-rmse:0.137046\ttrain-rmse:0.094641\teval-rmspe:0.114071\ttrain-rmspe:0.102893\n",
      "[262]\teval-rmse:0.136999\ttrain-rmse:0.094613\teval-rmspe:0.114031\ttrain-rmspe:0.102867\n",
      "[263]\teval-rmse:0.136977\ttrain-rmse:0.094544\teval-rmspe:0.11399\ttrain-rmspe:0.102804\n",
      "[264]\teval-rmse:0.136931\ttrain-rmse:0.094476\teval-rmspe:0.113919\ttrain-rmspe:0.10274\n",
      "[265]\teval-rmse:0.136832\ttrain-rmse:0.094315\teval-rmspe:0.113903\ttrain-rmspe:0.102331\n",
      "[266]\teval-rmse:0.136852\ttrain-rmse:0.094177\teval-rmspe:0.113918\ttrain-rmspe:0.102229\n",
      "[267]\teval-rmse:0.136859\ttrain-rmse:0.094118\teval-rmspe:0.113946\ttrain-rmspe:0.102124\n",
      "[268]\teval-rmse:0.136844\ttrain-rmse:0.093894\teval-rmspe:0.113893\ttrain-rmspe:0.101955\n",
      "[269]\teval-rmse:0.136824\ttrain-rmse:0.093848\teval-rmspe:0.11385\ttrain-rmspe:0.101915\n",
      "[270]\teval-rmse:0.136894\ttrain-rmse:0.093805\teval-rmspe:0.11381\ttrain-rmspe:0.10196\n",
      "[271]\teval-rmse:0.136865\ttrain-rmse:0.09377\teval-rmspe:0.113786\ttrain-rmspe:0.101929\n",
      "[272]\teval-rmse:0.136853\ttrain-rmse:0.09363\teval-rmspe:0.11371\ttrain-rmspe:0.101849\n",
      "[273]\teval-rmse:0.136845\ttrain-rmse:0.093601\teval-rmspe:0.113696\ttrain-rmspe:0.101815\n",
      "[274]\teval-rmse:0.136841\ttrain-rmse:0.093521\teval-rmspe:0.113675\ttrain-rmspe:0.101467\n",
      "[275]\teval-rmse:0.136843\ttrain-rmse:0.093455\teval-rmspe:0.113691\ttrain-rmspe:0.101381\n",
      "[276]\teval-rmse:0.136861\ttrain-rmse:0.09338\teval-rmspe:0.113674\ttrain-rmspe:0.101338\n",
      "[277]\teval-rmse:0.136812\ttrain-rmse:0.093278\teval-rmspe:0.113643\ttrain-rmspe:0.101241\n",
      "[278]\teval-rmse:0.136798\ttrain-rmse:0.093241\teval-rmspe:0.11365\ttrain-rmspe:0.101294\n",
      "[279]\teval-rmse:0.136799\ttrain-rmse:0.093028\teval-rmspe:0.113761\ttrain-rmspe:0.101204\n",
      "[280]\teval-rmse:0.136789\ttrain-rmse:0.092974\teval-rmspe:0.11372\ttrain-rmspe:0.101097\n",
      "[281]\teval-rmse:0.136832\ttrain-rmse:0.09286\teval-rmspe:0.113661\ttrain-rmspe:0.100973\n",
      "[282]\teval-rmse:0.136737\ttrain-rmse:0.092761\teval-rmspe:0.113604\ttrain-rmspe:0.100919\n",
      "[283]\teval-rmse:0.136732\ttrain-rmse:0.092721\teval-rmspe:0.113615\ttrain-rmspe:0.100889\n",
      "[284]\teval-rmse:0.136709\ttrain-rmse:0.092608\teval-rmspe:0.113565\ttrain-rmspe:0.10081\n",
      "[285]\teval-rmse:0.136634\ttrain-rmse:0.092524\teval-rmspe:0.11338\ttrain-rmspe:0.10072\n",
      "[286]\teval-rmse:0.136678\ttrain-rmse:0.092262\teval-rmspe:0.113464\ttrain-rmspe:0.100537\n",
      "[287]\teval-rmse:0.136664\ttrain-rmse:0.092209\teval-rmspe:0.113445\ttrain-rmspe:0.100465\n"
     ]
    },
    {
     "name": "stdout",
     "output_type": "stream",
     "text": [
      "[288]\teval-rmse:0.136605\ttrain-rmse:0.092144\teval-rmspe:0.113354\ttrain-rmspe:0.10035\n",
      "[289]\teval-rmse:0.136632\ttrain-rmse:0.092127\teval-rmspe:0.113356\ttrain-rmspe:0.100325\n",
      "[290]\teval-rmse:0.136641\ttrain-rmse:0.092029\teval-rmspe:0.113392\ttrain-rmspe:0.100255\n",
      "[291]\teval-rmse:0.136517\ttrain-rmse:0.091945\teval-rmspe:0.113343\ttrain-rmspe:0.099851\n",
      "[292]\teval-rmse:0.136541\ttrain-rmse:0.091886\teval-rmspe:0.113254\ttrain-rmspe:0.099787\n",
      "[293]\teval-rmse:0.136503\ttrain-rmse:0.091797\teval-rmspe:0.113199\ttrain-rmspe:0.099611\n",
      "[294]\teval-rmse:0.136476\ttrain-rmse:0.091621\teval-rmspe:0.113121\ttrain-rmspe:0.099573\n",
      "[295]\teval-rmse:0.136511\ttrain-rmse:0.09156\teval-rmspe:0.11314\ttrain-rmspe:0.099499\n",
      "[296]\teval-rmse:0.136467\ttrain-rmse:0.091518\teval-rmspe:0.113088\ttrain-rmspe:0.09948\n",
      "[297]\teval-rmse:0.136474\ttrain-rmse:0.091463\teval-rmspe:0.113105\ttrain-rmspe:0.099424\n",
      "[298]\teval-rmse:0.136467\ttrain-rmse:0.091384\teval-rmspe:0.11311\ttrain-rmspe:0.099346\n",
      "[299]\teval-rmse:0.136444\ttrain-rmse:0.09131\teval-rmspe:0.113063\ttrain-rmspe:0.099228\n",
      "Train use time: 281.5968282222748\n"
     ]
    }
   ],
   "source": [
    "params = {\"objective\": \"reg:linear\",\n",
    "          \"eta\": 0.15,\n",
    "          \"max_depth\": 12,\n",
    "          \"subsample\": 0.7,\n",
    "          \"colsample_bytree\": 0.7,\n",
    "          \"silent\": 1\n",
    "          }\n",
    "num_trees = 300\n",
    "\n",
    "dtrain = xgb.DMatrix(X_train, Y_train)\n",
    "dvalid = xgb.DMatrix(X_valid, Y_valid)\n",
    "dtest = xgb.DMatrix(test)\n",
    "watchlist = [(dvalid, 'eval'), (dtrain, 'train')]\n",
    "ret = {}\n",
    "import time\n",
    "start = time.time()\n",
    "gbm = xgb.train(params, dtrain, num_trees, evals=watchlist, early_stopping_rounds=50,evals_result =ret, feval=rmspe_xg, verbose_eval=True)\n",
    "end = time.time()\n",
    "print(\"Train use time:\",end-start)"
   ]
  },
  {
   "cell_type": "code",
   "execution_count": 68,
   "metadata": {},
   "outputs": [
    {
     "data": {
      "image/png": "[encoded data removed]",
      "text/plain": [
       "<Figure size 432x288 with 1 Axes>"
      ]
     },
     "metadata": {
      "needs_background": "light"
     },
     "output_type": "display_data"
    }
   ],
   "source": [
    "evaldata = ret['eval']['rmspe'][0:300:10]\n",
    "traindata = ret['train']['rmspe'][0:300:10]\n",
    "plt.plot(range(0,300,10),evaldata,color='red',label=\"eval\")\n",
    "plt.plot(range(0,300,10),traindata,color='blue',label=\"train\")\n",
    "plt.legend(loc='best')\n",
    "y_tick = np.arange(0,1,0.1)\n",
    "plt.yticks(y_tick)\n",
    "plt.show()"
   ]
  },
  {
   "cell_type": "code",
   "execution_count": 69,
   "metadata": {},
   "outputs": [
    {
     "data": {
      "text/plain": [
       "<matplotlib.axes._subplots.AxesSubplot at 0x1a2bb78710>"
      ]
     },
     "execution_count": 69,
     "metadata": {},
     "output_type": "execute_result"
    },
    {
     "data": {
      "image/png": "[encoded data removed]",
      "text/plain": [
       "<Figure size 432x288 with 1 Axes>"
      ]
     },
     "metadata": {
      "needs_background": "light"
     },
     "output_type": "display_data"
    }
   ],
   "source": [
    "#从最终的训练importnace中看果然是时间序列影响比较大\n",
    "xgb.plot_importance(gbm)"
   ]
  },
  {
   "cell_type": "code",
   "execution_count": 70,
   "metadata": {},
   "outputs": [
    {
     "name": "stdout",
     "output_type": "stream",
     "text": [
      "[  544   677   841 ... 40230 40231 40232]\n"
     ]
    }
   ],
   "source": [
    "#预测测试数据\n",
    "regetTest = pd.read_csv(\"./test.csv\")\n",
    "replaceID = regetTest[regetTest.Open == 0.0]['Id']\n",
    "print(replaceID.values)\n",
    "test_probs = gbm.predict(dtest)\n",
    "result = pd.DataFrame({\"Id\": TESTID , 'Sales': np.exp(test_probs)})\n",
    "result.loc[result['Id'].isin(replaceID.values),'Sales'] = 0"
   ]
  },
  {
   "cell_type": "code",
   "execution_count": 71,
   "metadata": {},
   "outputs": [],
   "source": [
    "#预测测试数据输出\n",
    "result.to_csv(\"xgboost_submission.csv\", index=False)"
   ]
  },
  {
   "cell_type": "code",
   "execution_count": null,
   "metadata": {},
   "outputs": [],
   "source": []
  },
  {
   "cell_type": "code",
   "execution_count": null,
   "metadata": {},
   "outputs": [],
   "source": []
  },
  {
   "cell_type": "code",
   "execution_count": null,
   "metadata": {},
   "outputs": [],
   "source": []
  },
  {
   "cell_type": "code",
   "execution_count": null,
   "metadata": {},
   "outputs": [],
   "source": []
  },
  {
   "cell_type": "code",
   "execution_count": null,
   "metadata": {},
   "outputs": [],
   "source": []
  },
  {
   "cell_type": "code",
   "execution_count": null,
   "metadata": {},
   "outputs": [],
   "source": []
  },
  {
   "cell_type": "code",
   "execution_count": null,
   "metadata": {},
   "outputs": [],
   "source": []
  },
  {
   "cell_type": "code",
   "execution_count": null,
   "metadata": {},
   "outputs": [],
   "source": []
  },
  {
   "cell_type": "code",
   "execution_count": null,
   "metadata": {},
   "outputs": [],
   "source": []
  },
  {
   "cell_type": "code",
   "execution_count": null,
   "metadata": {},
   "outputs": [],
   "source": []
  },
  {
   "cell_type": "code",
   "execution_count": null,
   "metadata": {},
   "outputs": [],
   "source": []
  },
  {
   "cell_type": "code",
   "execution_count": null,
   "metadata": {},
   "outputs": [],
   "source": []
  },
  {
   "cell_type": "code",
   "execution_count": null,
   "metadata": {},
   "outputs": [],
   "source": []
  },
  {
   "cell_type": "code",
   "execution_count": null,
   "metadata": {},
   "outputs": [],
   "source": []
  },
  {
   "cell_type": "code",
   "execution_count": null,
   "metadata": {},
   "outputs": [],
   "source": []
  },
  {
   "cell_type": "code",
   "execution_count": null,
   "metadata": {},
   "outputs": [],
   "source": []
  },
  {
   "cell_type": "code",
   "execution_count": null,
   "metadata": {},
   "outputs": [],
   "source": []
  }
 ],
 "metadata": {
  "kernelspec": {
   "display_name": "Python 3",
   "language": "python",
   "name": "python3"
  },
  "language_info": {
   "codemirror_mode": {
    "name": "ipython",
    "version": 3
   },
   "file_extension": ".py",
   "mimetype": "text/x-python",
   "name": "python",
   "nbconvert_exporter": "python",
   "pygments_lexer": "ipython3",
   "version": "3.7.1"
  }
 },
 "nbformat": 4,
 "nbformat_minor": 2
}
