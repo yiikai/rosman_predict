{
 "cells": [
  {
   "cell_type": "code",
   "execution_count": 51,
   "metadata": {},
   "outputs": [],
   "source": [
    "import numpy as np\n",
    "import pandas as pd\n",
    "import matplotlib.pyplot as plt\n",
    "from sklearn.preprocessing import OneHotEncoder,LabelEncoder,MinMaxScaler\n",
    "import xgboost as xgb\n",
    "import os\n",
    "os.environ['KMP_DUPLICATE_LIB_OK']='True'"
   ]
  },
  {
   "cell_type": "code",
   "execution_count": 52,
   "metadata": {},
   "outputs": [],
   "source": [
    "Dataset_dir = [\"./train.csv\", \"./store.csv\",\"./test.csv\"]\n",
    "pd.options.display.max_columns = None"
   ]
  },
  {
   "cell_type": "code",
   "execution_count": 53,
   "metadata": {},
   "outputs": [],
   "source": [
    "def load_data(dir):\n",
    "    data = pd.read_csv(dir[0],parse_dates=[2])\n",
    "    store = pd.read_csv(dir[1])\n",
    "    test = pd.read_csv(dir[2],parse_dates=[3])\n",
    "    return data,store,test"
   ]
  },
  {
   "cell_type": "code",
   "execution_count": 54,
   "metadata": {},
   "outputs": [
    {
     "name": "stderr",
     "output_type": "stream",
     "text": [
      "/anaconda3/lib/python3.7/site-packages/IPython/core/interactiveshell.py:3185: DtypeWarning: Columns (7) have mixed types. Specify dtype option on import or set low_memory=False.\n",
      "  if (yield from self.run_code(code, result)):\n"
     ]
    },
    {
     "name": "stdout",
     "output_type": "stream",
     "text": [
      "Index(['Store', 'DayOfWeek', 'Date', 'Sales', 'Customers', 'Open', 'Promo',\n",
      "       'StateHoliday', 'SchoolHoliday', 'StoreType', 'Assortment',\n",
      "       'CompetitionDistance', 'CompetitionOpenSinceMonth',\n",
      "       'CompetitionOpenSinceYear', 'Promo2', 'Promo2SinceWeek',\n",
      "       'Promo2SinceYear', 'PromoInterval'],\n",
      "      dtype='object')\n",
      "Index(['Id', 'Store', 'DayOfWeek', 'Date', 'Open', 'Promo', 'StateHoliday',\n",
      "       'SchoolHoliday', 'StoreType', 'Assortment', 'CompetitionDistance',\n",
      "       'CompetitionOpenSinceMonth', 'CompetitionOpenSinceYear', 'Promo2',\n",
      "       'Promo2SinceWeek', 'Promo2SinceYear', 'PromoInterval'],\n",
      "      dtype='object')\n"
     ]
    }
   ],
   "source": [
    "train,store,test = load_data(Dataset_dir)\n",
    "train = train[train['Open'] != 0]\n",
    "test = test[test['Open'] != 0]\n",
    "train = pd.merge(train, store, on='Store')\n",
    "test = pd.merge(test, store, on='Store')\n",
    "print(train.columns)\n",
    "print(test.columns)"
   ]
  },
  {
   "cell_type": "code",
   "execution_count": 55,
   "metadata": {},
   "outputs": [
    {
     "data": {
      "text/html": [
       "<div>\n",
       "<style scoped>\n",
       "    .dataframe tbody tr th:only-of-type {\n",
       "        vertical-align: middle;\n",
       "    }\n",
       "\n",
       "    .dataframe tbody tr th {\n",
       "        vertical-align: top;\n",
       "    }\n",
       "\n",
       "    .dataframe thead th {\n",
       "        text-align: right;\n",
       "    }\n",
       "</style>\n",
       "<table border=\"1\" class=\"dataframe\">\n",
       "  <thead>\n",
       "    <tr style=\"text-align: right;\">\n",
       "      <th></th>\n",
       "      <th>Store</th>\n",
       "      <th>DayOfWeek</th>\n",
       "      <th>Sales</th>\n",
       "      <th>Customers</th>\n",
       "      <th>Open</th>\n",
       "      <th>Promo</th>\n",
       "      <th>SchoolHoliday</th>\n",
       "      <th>CompetitionDistance</th>\n",
       "      <th>CompetitionOpenSinceMonth</th>\n",
       "      <th>CompetitionOpenSinceYear</th>\n",
       "      <th>Promo2</th>\n",
       "      <th>Promo2SinceWeek</th>\n",
       "      <th>Promo2SinceYear</th>\n",
       "    </tr>\n",
       "  </thead>\n",
       "  <tbody>\n",
       "    <tr>\n",
       "      <th>count</th>\n",
       "      <td>844392.000000</td>\n",
       "      <td>844392.000000</td>\n",
       "      <td>844392.000000</td>\n",
       "      <td>844392.000000</td>\n",
       "      <td>844392.0</td>\n",
       "      <td>844392.000000</td>\n",
       "      <td>844392.000000</td>\n",
       "      <td>842206.000000</td>\n",
       "      <td>575773.000000</td>\n",
       "      <td>575773.000000</td>\n",
       "      <td>844392.000000</td>\n",
       "      <td>421085.000000</td>\n",
       "      <td>421085.000000</td>\n",
       "    </tr>\n",
       "    <tr>\n",
       "      <th>mean</th>\n",
       "      <td>558.422920</td>\n",
       "      <td>3.520361</td>\n",
       "      <td>6955.514291</td>\n",
       "      <td>762.728395</td>\n",
       "      <td>1.0</td>\n",
       "      <td>0.446352</td>\n",
       "      <td>0.193580</td>\n",
       "      <td>5457.979627</td>\n",
       "      <td>7.224879</td>\n",
       "      <td>2008.697747</td>\n",
       "      <td>0.498684</td>\n",
       "      <td>23.253426</td>\n",
       "      <td>2011.754019</td>\n",
       "    </tr>\n",
       "    <tr>\n",
       "      <th>std</th>\n",
       "      <td>321.731914</td>\n",
       "      <td>1.723689</td>\n",
       "      <td>3104.214680</td>\n",
       "      <td>401.227674</td>\n",
       "      <td>0.0</td>\n",
       "      <td>0.497114</td>\n",
       "      <td>0.395103</td>\n",
       "      <td>7809.437311</td>\n",
       "      <td>3.210144</td>\n",
       "      <td>5.978048</td>\n",
       "      <td>0.499999</td>\n",
       "      <td>14.100569</td>\n",
       "      <td>1.660962</td>\n",
       "    </tr>\n",
       "    <tr>\n",
       "      <th>min</th>\n",
       "      <td>1.000000</td>\n",
       "      <td>1.000000</td>\n",
       "      <td>0.000000</td>\n",
       "      <td>0.000000</td>\n",
       "      <td>1.0</td>\n",
       "      <td>0.000000</td>\n",
       "      <td>0.000000</td>\n",
       "      <td>20.000000</td>\n",
       "      <td>1.000000</td>\n",
       "      <td>1900.000000</td>\n",
       "      <td>0.000000</td>\n",
       "      <td>1.000000</td>\n",
       "      <td>2009.000000</td>\n",
       "    </tr>\n",
       "    <tr>\n",
       "      <th>25%</th>\n",
       "      <td>280.000000</td>\n",
       "      <td>2.000000</td>\n",
       "      <td>4859.000000</td>\n",
       "      <td>519.000000</td>\n",
       "      <td>1.0</td>\n",
       "      <td>0.000000</td>\n",
       "      <td>0.000000</td>\n",
       "      <td>710.000000</td>\n",
       "      <td>4.000000</td>\n",
       "      <td>2006.000000</td>\n",
       "      <td>0.000000</td>\n",
       "      <td>13.000000</td>\n",
       "      <td>2011.000000</td>\n",
       "    </tr>\n",
       "    <tr>\n",
       "      <th>50%</th>\n",
       "      <td>558.000000</td>\n",
       "      <td>3.000000</td>\n",
       "      <td>6369.000000</td>\n",
       "      <td>676.000000</td>\n",
       "      <td>1.0</td>\n",
       "      <td>0.000000</td>\n",
       "      <td>0.000000</td>\n",
       "      <td>2320.000000</td>\n",
       "      <td>8.000000</td>\n",
       "      <td>2010.000000</td>\n",
       "      <td>0.000000</td>\n",
       "      <td>22.000000</td>\n",
       "      <td>2012.000000</td>\n",
       "    </tr>\n",
       "    <tr>\n",
       "      <th>75%</th>\n",
       "      <td>837.000000</td>\n",
       "      <td>5.000000</td>\n",
       "      <td>8360.000000</td>\n",
       "      <td>893.000000</td>\n",
       "      <td>1.0</td>\n",
       "      <td>1.000000</td>\n",
       "      <td>0.000000</td>\n",
       "      <td>6890.000000</td>\n",
       "      <td>10.000000</td>\n",
       "      <td>2013.000000</td>\n",
       "      <td>1.000000</td>\n",
       "      <td>37.000000</td>\n",
       "      <td>2013.000000</td>\n",
       "    </tr>\n",
       "    <tr>\n",
       "      <th>max</th>\n",
       "      <td>1115.000000</td>\n",
       "      <td>7.000000</td>\n",
       "      <td>41551.000000</td>\n",
       "      <td>7388.000000</td>\n",
       "      <td>1.0</td>\n",
       "      <td>1.000000</td>\n",
       "      <td>1.000000</td>\n",
       "      <td>75860.000000</td>\n",
       "      <td>12.000000</td>\n",
       "      <td>2015.000000</td>\n",
       "      <td>1.000000</td>\n",
       "      <td>50.000000</td>\n",
       "      <td>2015.000000</td>\n",
       "    </tr>\n",
       "  </tbody>\n",
       "</table>\n",
       "</div>"
      ],
      "text/plain": [
       "               Store      DayOfWeek          Sales      Customers      Open  \\\n",
       "count  844392.000000  844392.000000  844392.000000  844392.000000  844392.0   \n",
       "mean      558.422920       3.520361    6955.514291     762.728395       1.0   \n",
       "std       321.731914       1.723689    3104.214680     401.227674       0.0   \n",
       "min         1.000000       1.000000       0.000000       0.000000       1.0   \n",
       "25%       280.000000       2.000000    4859.000000     519.000000       1.0   \n",
       "50%       558.000000       3.000000    6369.000000     676.000000       1.0   \n",
       "75%       837.000000       5.000000    8360.000000     893.000000       1.0   \n",
       "max      1115.000000       7.000000   41551.000000    7388.000000       1.0   \n",
       "\n",
       "               Promo  SchoolHoliday  CompetitionDistance  \\\n",
       "count  844392.000000  844392.000000        842206.000000   \n",
       "mean        0.446352       0.193580          5457.979627   \n",
       "std         0.497114       0.395103          7809.437311   \n",
       "min         0.000000       0.000000            20.000000   \n",
       "25%         0.000000       0.000000           710.000000   \n",
       "50%         0.000000       0.000000          2320.000000   \n",
       "75%         1.000000       0.000000          6890.000000   \n",
       "max         1.000000       1.000000         75860.000000   \n",
       "\n",
       "       CompetitionOpenSinceMonth  CompetitionOpenSinceYear         Promo2  \\\n",
       "count              575773.000000             575773.000000  844392.000000   \n",
       "mean                    7.224879               2008.697747       0.498684   \n",
       "std                     3.210144                  5.978048       0.499999   \n",
       "min                     1.000000               1900.000000       0.000000   \n",
       "25%                     4.000000               2006.000000       0.000000   \n",
       "50%                     8.000000               2010.000000       0.000000   \n",
       "75%                    10.000000               2013.000000       1.000000   \n",
       "max                    12.000000               2015.000000       1.000000   \n",
       "\n",
       "       Promo2SinceWeek  Promo2SinceYear  \n",
       "count    421085.000000    421085.000000  \n",
       "mean         23.253426      2011.754019  \n",
       "std          14.100569         1.660962  \n",
       "min           1.000000      2009.000000  \n",
       "25%          13.000000      2011.000000  \n",
       "50%          22.000000      2012.000000  \n",
       "75%          37.000000      2013.000000  \n",
       "max          50.000000      2015.000000  "
      ]
     },
     "execution_count": 55,
     "metadata": {},
     "output_type": "execute_result"
    }
   ],
   "source": [
    "train.describe()"
   ]
  },
  {
   "cell_type": "code",
   "execution_count": 56,
   "metadata": {},
   "outputs": [
    {
     "data": {
      "image/png": "[encoded data removed]",
      "text/plain": [
       "<Figure size 432x288 with 1 Axes>"
      ]
     },
     "metadata": {
      "needs_background": "light"
     },
     "output_type": "display_data"
    },
    {
     "data": {
      "image/png": "[encoded data removed]",
      "text/plain": [
       "<Figure size 432x288 with 1 Axes>"
      ]
     },
     "metadata": {
      "needs_background": "light"
     },
     "output_type": "display_data"
    }
   ],
   "source": [
    "sales_mean = train.groupby('Store')['Sales'].mean()\n",
    "plt.hist(sales_mean)\n",
    "plt.show()\n",
    "plt.hist(np.log1p(sales_mean))\n",
    "plt.show()"
   ]
  },
  {
   "cell_type": "code",
   "execution_count": 57,
   "metadata": {},
   "outputs": [],
   "source": [
    "Store_DaysWeek = train.groupby(['Store','DayOfWeek'])\n",
    "sw_mean = Store_DaysWeek[\"Sales\"].mean()"
   ]
  },
  {
   "cell_type": "code",
   "execution_count": 58,
   "metadata": {},
   "outputs": [],
   "source": [
    "def build_feature(data,istrain):\n",
    "    mappings = {'0':0, 'a':1, 'b':2, 'c':3, 'd':4}\n",
    "    data.StoreType.replace(mappings, inplace=True)\n",
    "    data.Assortment.replace(mappings, inplace=True)\n",
    "    data.StateHoliday.replace(mappings, inplace=True)\n",
    "    \n",
    "    distance_max = max(data.CompetitionDistance)\n",
    "    data.CompetitionDistance.mask(data.CompetitionDistance.isna(),other=distance_max,inplace=True)\n",
    "    print(data.CompetitionDistance.isnull().any())\n",
    "    min_max_scaler = MinMaxScaler()\n",
    "    scaledata = min_max_scaler.fit_transform(data[['CompetitionDistance']])\n",
    "    data.drop(\"CompetitionDistance\",axis=1)\n",
    "    data['CompetitionDistance'] = scaledata\n",
    "\n",
    "#     scaledata = min_max_scaler.fit_transform(data[['Customers']])\n",
    "#     data.drop(\"Customers\",axis=1)\n",
    "#     data['Customers'] = scaledata\n",
    "    \n",
    "    if istrain:\n",
    "        data.drop(['Store','Open','Date','Customers','PromoInterval'],axis=1,inplace=True)\n",
    "    else:\n",
    "        data.drop(['Id','Store','Open','Date','PromoInterval'],axis=1,inplace=True)\n",
    "    print(data.columns)"
   ]
  },
  {
   "cell_type": "code",
   "execution_count": 59,
   "metadata": {},
   "outputs": [
    {
     "name": "stdout",
     "output_type": "stream",
     "text": [
      "False\n",
      "Index(['DayOfWeek', 'Sales', 'Promo', 'StateHoliday', 'SchoolHoliday',\n",
      "       'StoreType', 'Assortment', 'CompetitionDistance',\n",
      "       'CompetitionOpenSinceMonth', 'CompetitionOpenSinceYear', 'Promo2',\n",
      "       'Promo2SinceWeek', 'Promo2SinceYear'],\n",
      "      dtype='object')\n",
      "False\n",
      "Index(['DayOfWeek', 'Promo', 'StateHoliday', 'SchoolHoliday', 'StoreType',\n",
      "       'Assortment', 'CompetitionDistance', 'CompetitionOpenSinceMonth',\n",
      "       'CompetitionOpenSinceYear', 'Promo2', 'Promo2SinceWeek',\n",
      "       'Promo2SinceYear'],\n",
      "      dtype='object')\n"
     ]
    }
   ],
   "source": [
    "#build train data\n",
    "build_feature(train,True)\n",
    "#build test data\n",
    "build_feature(test,False)"
   ]
  },
  {
   "cell_type": "code",
   "execution_count": 78,
   "metadata": {},
   "outputs": [
    {
     "data": {
      "image/png": "[encoded data removed]",
      "text/plain": [
       "<Figure size 432x288 with 1 Axes>"
      ]
     },
     "metadata": {
      "needs_background": "light"
     },
     "output_type": "display_data"
    },
    {
     "data": {
      "image/png": "[encoded data removed]",
      "text/plain": [
       "<Figure size 432x288 with 1 Axes>"
      ]
     },
     "metadata": {
      "needs_background": "light"
     },
     "output_type": "display_data"
    },
    {
     "data": {
      "image/png": "[encoded data removed]",
      "text/plain": [
       "<Figure size 432x288 with 1 Axes>"
      ]
     },
     "metadata": {
      "needs_background": "light"
     },
     "output_type": "display_data"
    },
    {
     "data": {
      "image/png": "[encoded data removed]",
      "text/plain": [
       "<Figure size 432x288 with 1 Axes>"
      ]
     },
     "metadata": {
      "needs_background": "light"
     },
     "output_type": "display_data"
    }
   ],
   "source": [
    "ST_gp = train.groupby('StoreType')['Sales'].agg('mean')\n",
    "import seaborn as sns\n",
    "sns.barplot(ST_gp.index,ST_gp.values)\n",
    "plt.show()\n",
    "StateOPen_gp = train.groupby(['StateHoliday','SchoolHoliday'])['Sales'].agg('mean')\n",
    "sns.barplot(StateOPen_gp.index,StateOPen_gp.values)\n",
    "plt.show()\n",
    "As_gp = train.groupby('Assortment')['Sales'].agg('mean')\n",
    "sns.barplot(As_gp.index,As_gp.values)\n",
    "plt.show()\n",
    "Dayweek_gp = train.groupby(['StoreType','DayOfWeek'])['Sales'].agg('mean')\n",
    "ax = sns.barplot(Dayweek_gp.index,Dayweek_gp.values)\n",
    "ax.set_xticklabels(ax.get_xticklabels(), rotation=90, ha=\"right\")\n",
    "plt.tight_layout()\n",
    "plt.show()"
   ]
  },
  {
   "cell_type": "code",
   "execution_count": 10,
   "metadata": {},
   "outputs": [
    {
     "name": "stdout",
     "output_type": "stream",
     "text": [
      "11821488\n",
      "3749368\n"
     ]
    }
   ],
   "source": [
    "from sklearn.ensemble import GradientBoostingRegressor\n",
    "print(train.size)\n",
    "train.dropna(axis=0,how='any',inplace=True)\n",
    "print(train.size)"
   ]
  },
  {
   "cell_type": "code",
   "execution_count": 11,
   "metadata": {},
   "outputs": [
    {
     "name": "stderr",
     "output_type": "stream",
     "text": [
      "/anaconda3/lib/python3.7/site-packages/pandas/core/frame.py:3697: SettingWithCopyWarning: \n",
      "A value is trying to be set on a copy of a slice from a DataFrame\n",
      "\n",
      "See the caveats in the documentation: http://pandas.pydata.org/pandas-docs/stable/indexing.html#indexing-view-versus-copy\n",
      "  errors=errors)\n"
     ]
    }
   ],
   "source": [
    "#split train vaild data\n",
    "from sklearn.model_selection import train_test_split\n",
    "X_train, X_valid = train_test_split(train, test_size=0.012, random_state=10)\n",
    "Y_train = X_train[\"Sales\"]\n",
    "Y_valid = X_valid[\"Sales\"]\n",
    "X_train.drop(\"Sales\",axis=1,inplace=True)\n",
    "X_valid.drop(\"Sales\",axis=1,inplace=True)"
   ]
  },
  {
   "cell_type": "code",
   "execution_count": 12,
   "metadata": {},
   "outputs": [
    {
     "data": {
      "image/png": "[encoded data removed]",
      "text/plain": [
       "<Figure size 432x288 with 1 Axes>"
      ]
     },
     "metadata": {
      "needs_background": "light"
     },
     "output_type": "display_data"
    }
   ],
   "source": [
    "plt.boxplot([Y_train,Y_valid])\n",
    "plt.show()"
   ]
  },
  {
   "cell_type": "code",
   "execution_count": 13,
   "metadata": {},
   "outputs": [
    {
     "data": {
      "image/png": "[encoded data removed]",
      "text/plain": [
       "<Figure size 432x288 with 1 Axes>"
      ]
     },
     "metadata": {
      "needs_background": "light"
     },
     "output_type": "display_data"
    }
   ],
   "source": [
    "Y_train = np.log1p(Y_train)\n",
    "Y_valid = np.log1p(Y_valid)\n",
    "plt.boxplot([Y_train,Y_valid])\n",
    "plt.show()"
   ]
  },
  {
   "cell_type": "code",
   "execution_count": 14,
   "metadata": {},
   "outputs": [],
   "source": [
    "def ToWeight(y):\n",
    "    w = np.zeros(y.shape, dtype=float)\n",
    "    ind = y != 0\n",
    "    w[ind] = 1./(y[ind]**2)\n",
    "    return w\n",
    "\n",
    "def rmspe(yhat, y):\n",
    "    w = ToWeight(y)\n",
    "    rmspe = np.sqrt(np.mean( w * (y - yhat)**2 ))\n",
    "    return rmspe\n",
    "\n",
    "def rmspe_xg(yhat, y):\n",
    "    # y = y.values\n",
    "    y = y.get_label()\n",
    "    y = np.exp(y) - 1\n",
    "    yhat = np.exp(yhat) - 1\n",
    "    w = ToWeight(y)\n",
    "    rmspe = np.sqrt(np.mean(w * (y - yhat)**2))\n",
    "    return \"rmspe\", rmspe\n",
    "\n",
    "epohs = 20"
   ]
  },
  {
   "cell_type": "code",
   "execution_count": 15,
   "metadata": {},
   "outputs": [
    {
     "name": "stdout",
     "output_type": "stream",
     "text": [
      "[0]\teval-rmse:5.76095\ttrain-rmse:5.75449\teval-rmspe:0.99677\ttrain-rmspe:0.996705\n",
      "Multiple eval metrics have been passed: 'train-rmspe' will be used for early stopping.\n",
      "\n",
      "Will train until train-rmspe hasn't improved in 50 rounds.\n",
      "[1]\teval-rmse:4.0405\ttrain-rmse:4.03461\teval-rmspe:0.981325\ttrain-rmspe:0.981181\n",
      "[2]\teval-rmse:2.83725\ttrain-rmse:2.83203\teval-rmspe:0.937936\ttrain-rmspe:0.937571\n",
      "[3]\teval-rmse:1.9973\ttrain-rmse:1.9928\teval-rmspe:0.856882\ttrain-rmspe:0.856067\n",
      "[4]\teval-rmse:1.41086\ttrain-rmse:1.4082\teval-rmspe:0.744271\ttrain-rmspe:0.743009\n",
      "[5]\teval-rmse:1.00529\ttrain-rmse:1.00296\teval-rmspe:0.618863\ttrain-rmspe:0.616293\n",
      "[6]\teval-rmse:0.724481\ttrain-rmse:0.723672\teval-rmspe:0.499634\ttrain-rmspe:0.49543\n",
      "[7]\teval-rmse:0.533282\ttrain-rmse:0.534275\teval-rmspe:0.400562\ttrain-rmspe:0.39355\n",
      "[8]\teval-rmse:0.405039\ttrain-rmse:0.408122\teval-rmspe:0.326962\ttrain-rmspe:0.316489\n",
      "[9]\teval-rmse:0.322921\ttrain-rmse:0.32784\teval-rmspe:0.27936\ttrain-rmspe:0.264811\n",
      "[10]\teval-rmse:0.273241\ttrain-rmse:0.280053\teval-rmspe:0.253694\ttrain-rmspe:0.235008\n",
      "[11]\teval-rmse:0.242095\ttrain-rmse:0.249598\teval-rmspe:0.23564\ttrain-rmspe:0.217235\n",
      "[12]\teval-rmse:0.225623\ttrain-rmse:0.233503\teval-rmspe:0.231217\ttrain-rmspe:0.210174\n",
      "[13]\teval-rmse:0.215944\ttrain-rmse:0.224338\teval-rmspe:0.230116\ttrain-rmspe:0.207312\n",
      "[14]\teval-rmse:0.209447\ttrain-rmse:0.218164\teval-rmspe:0.229417\ttrain-rmspe:0.205673\n",
      "[15]\teval-rmse:0.205851\ttrain-rmse:0.214693\teval-rmspe:0.229661\ttrain-rmspe:0.205259\n",
      "[16]\teval-rmse:0.203424\ttrain-rmse:0.212344\teval-rmspe:0.226603\ttrain-rmspe:0.20503\n",
      "[17]\teval-rmse:0.20033\ttrain-rmse:0.208957\teval-rmspe:0.223671\ttrain-rmspe:0.202672\n",
      "[18]\teval-rmse:0.199248\ttrain-rmse:0.207699\teval-rmspe:0.223917\ttrain-rmspe:0.202433\n",
      "[19]\teval-rmse:0.19696\ttrain-rmse:0.20548\teval-rmspe:0.220092\ttrain-rmspe:0.200166\n",
      "[20]\teval-rmse:0.195289\ttrain-rmse:0.203821\teval-rmspe:0.219115\ttrain-rmspe:0.19865\n",
      "[21]\teval-rmse:0.192169\ttrain-rmse:0.200508\teval-rmspe:0.216135\ttrain-rmspe:0.194976\n",
      "[22]\teval-rmse:0.190823\ttrain-rmse:0.199219\teval-rmspe:0.214486\ttrain-rmspe:0.193738\n",
      "[23]\teval-rmse:0.189455\ttrain-rmse:0.197552\teval-rmspe:0.213306\ttrain-rmspe:0.192103\n",
      "[24]\teval-rmse:0.188913\ttrain-rmse:0.196782\teval-rmspe:0.213044\ttrain-rmspe:0.191291\n",
      "[25]\teval-rmse:0.187894\ttrain-rmse:0.195708\teval-rmspe:0.211536\ttrain-rmspe:0.190102\n",
      "[26]\teval-rmse:0.187526\ttrain-rmse:0.195184\teval-rmspe:0.211052\ttrain-rmspe:0.189631\n",
      "[27]\teval-rmse:0.186967\ttrain-rmse:0.194487\teval-rmspe:0.210396\ttrain-rmspe:0.188798\n",
      "[28]\teval-rmse:0.186169\ttrain-rmse:0.193544\teval-rmspe:0.209572\ttrain-rmspe:0.187649\n",
      "[29]\teval-rmse:0.185665\ttrain-rmse:0.193041\teval-rmspe:0.209117\ttrain-rmspe:0.187135\n",
      "[30]\teval-rmse:0.1852\ttrain-rmse:0.192394\teval-rmspe:0.2088\ttrain-rmspe:0.186377\n",
      "[31]\teval-rmse:0.185041\ttrain-rmse:0.192263\teval-rmspe:0.2087\ttrain-rmspe:0.186263\n",
      "[32]\teval-rmse:0.184553\ttrain-rmse:0.191762\teval-rmspe:0.208493\ttrain-rmspe:0.185867\n",
      "[33]\teval-rmse:0.184367\ttrain-rmse:0.191522\teval-rmspe:0.208409\ttrain-rmspe:0.185607\n",
      "[34]\teval-rmse:0.183964\ttrain-rmse:0.191182\teval-rmspe:0.207459\ttrain-rmspe:0.185384\n",
      "[35]\teval-rmse:0.183677\ttrain-rmse:0.190887\teval-rmspe:0.206845\ttrain-rmspe:0.184984\n",
      "[36]\teval-rmse:0.183673\ttrain-rmse:0.190856\teval-rmspe:0.206882\ttrain-rmspe:0.184958\n",
      "[37]\teval-rmse:0.183493\ttrain-rmse:0.190581\teval-rmspe:0.206807\ttrain-rmspe:0.184615\n",
      "[38]\teval-rmse:0.183203\ttrain-rmse:0.190225\teval-rmspe:0.206452\ttrain-rmspe:0.184175\n",
      "[39]\teval-rmse:0.182897\ttrain-rmse:0.189791\teval-rmspe:0.206103\ttrain-rmspe:0.183692\n",
      "[40]\teval-rmse:0.182358\ttrain-rmse:0.189116\teval-rmspe:0.205556\ttrain-rmspe:0.182904\n",
      "[41]\teval-rmse:0.182199\ttrain-rmse:0.188805\teval-rmspe:0.205334\ttrain-rmspe:0.182548\n",
      "[42]\teval-rmse:0.182063\ttrain-rmse:0.188733\teval-rmspe:0.205171\ttrain-rmspe:0.182453\n",
      "[43]\teval-rmse:0.181931\ttrain-rmse:0.188509\teval-rmspe:0.205281\ttrain-rmspe:0.182232\n",
      "[44]\teval-rmse:0.18143\ttrain-rmse:0.188008\teval-rmspe:0.204035\ttrain-rmspe:0.181462\n",
      "[45]\teval-rmse:0.181379\ttrain-rmse:0.187919\teval-rmspe:0.204127\ttrain-rmspe:0.181371\n",
      "[46]\teval-rmse:0.181268\ttrain-rmse:0.187817\teval-rmspe:0.203994\ttrain-rmspe:0.181275\n",
      "[47]\teval-rmse:0.18122\ttrain-rmse:0.187767\teval-rmspe:0.204005\ttrain-rmspe:0.181198\n",
      "[48]\teval-rmse:0.180864\ttrain-rmse:0.187451\teval-rmspe:0.20349\ttrain-rmspe:0.180783\n",
      "[49]\teval-rmse:0.180924\ttrain-rmse:0.187391\teval-rmspe:0.203487\ttrain-rmspe:0.180666\n",
      "[50]\teval-rmse:0.180774\ttrain-rmse:0.187193\teval-rmspe:0.203322\ttrain-rmspe:0.180532\n",
      "[51]\teval-rmse:0.180659\ttrain-rmse:0.187044\teval-rmspe:0.203149\ttrain-rmspe:0.18036\n",
      "[52]\teval-rmse:0.180465\ttrain-rmse:0.186785\teval-rmspe:0.203029\ttrain-rmspe:0.17973\n",
      "[53]\teval-rmse:0.18033\ttrain-rmse:0.186638\teval-rmspe:0.202882\ttrain-rmspe:0.179626\n",
      "[54]\teval-rmse:0.180304\ttrain-rmse:0.186619\teval-rmspe:0.202544\ttrain-rmspe:0.179588\n",
      "[55]\teval-rmse:0.180076\ttrain-rmse:0.186343\teval-rmspe:0.202041\ttrain-rmspe:0.179245\n",
      "[56]\teval-rmse:0.180036\ttrain-rmse:0.186307\teval-rmspe:0.202002\ttrain-rmspe:0.179194\n",
      "[57]\teval-rmse:0.179996\ttrain-rmse:0.186232\teval-rmspe:0.201926\ttrain-rmspe:0.179161\n",
      "[58]\teval-rmse:0.179922\ttrain-rmse:0.186164\teval-rmspe:0.201845\ttrain-rmspe:0.179128\n",
      "[59]\teval-rmse:0.179767\ttrain-rmse:0.185923\teval-rmspe:0.201652\ttrain-rmspe:0.178865\n",
      "[60]\teval-rmse:0.179778\ttrain-rmse:0.18581\teval-rmspe:0.201681\ttrain-rmspe:0.178788\n",
      "[61]\teval-rmse:0.179785\ttrain-rmse:0.185806\teval-rmspe:0.20164\ttrain-rmspe:0.178781\n",
      "[62]\teval-rmse:0.179604\ttrain-rmse:0.18572\teval-rmspe:0.201523\ttrain-rmspe:0.178751\n",
      "[63]\teval-rmse:0.179493\ttrain-rmse:0.185627\teval-rmspe:0.20137\ttrain-rmspe:0.178617\n",
      "[64]\teval-rmse:0.179339\ttrain-rmse:0.185473\teval-rmspe:0.201441\ttrain-rmspe:0.178404\n",
      "[65]\teval-rmse:0.179339\ttrain-rmse:0.185431\teval-rmspe:0.201396\ttrain-rmspe:0.17837\n",
      "[66]\teval-rmse:0.179306\ttrain-rmse:0.185398\teval-rmspe:0.201436\ttrain-rmspe:0.178326\n",
      "[67]\teval-rmse:0.179127\ttrain-rmse:0.185277\teval-rmspe:0.200965\ttrain-rmspe:0.178164\n",
      "[68]\teval-rmse:0.178937\ttrain-rmse:0.185112\teval-rmspe:0.200943\ttrain-rmspe:0.177957\n",
      "[69]\teval-rmse:0.178787\ttrain-rmse:0.184967\teval-rmspe:0.200695\ttrain-rmspe:0.177743\n",
      "[70]\teval-rmse:0.178738\ttrain-rmse:0.18492\teval-rmspe:0.20072\ttrain-rmspe:0.177695\n",
      "[71]\teval-rmse:0.178568\ttrain-rmse:0.184778\teval-rmspe:0.200547\ttrain-rmspe:0.17755\n",
      "[72]\teval-rmse:0.178468\ttrain-rmse:0.184685\teval-rmspe:0.20029\ttrain-rmspe:0.177204\n",
      "[73]\teval-rmse:0.178468\ttrain-rmse:0.184627\teval-rmspe:0.200358\ttrain-rmspe:0.177195\n",
      "[74]\teval-rmse:0.178424\ttrain-rmse:0.18455\teval-rmspe:0.200309\ttrain-rmspe:0.177076\n",
      "[75]\teval-rmse:0.1784\ttrain-rmse:0.18448\teval-rmspe:0.20032\ttrain-rmspe:0.177047\n",
      "[76]\teval-rmse:0.178316\ttrain-rmse:0.184398\teval-rmspe:0.200138\ttrain-rmspe:0.176926\n",
      "[77]\teval-rmse:0.1783\ttrain-rmse:0.184358\teval-rmspe:0.200136\ttrain-rmspe:0.17689\n",
      "[78]\teval-rmse:0.17811\ttrain-rmse:0.184215\teval-rmspe:0.199844\ttrain-rmspe:0.176729\n",
      "[79]\teval-rmse:0.178105\ttrain-rmse:0.184202\teval-rmspe:0.199784\ttrain-rmspe:0.176742\n",
      "[80]\teval-rmse:0.178082\ttrain-rmse:0.184154\teval-rmspe:0.199785\ttrain-rmspe:0.17669\n",
      "[81]\teval-rmse:0.178014\ttrain-rmse:0.184067\teval-rmspe:0.19953\ttrain-rmspe:0.176581\n",
      "[82]\teval-rmse:0.178017\ttrain-rmse:0.184061\teval-rmspe:0.199549\ttrain-rmspe:0.176596\n",
      "[83]\teval-rmse:0.177931\ttrain-rmse:0.184022\teval-rmspe:0.199508\ttrain-rmspe:0.176504\n",
      "[84]\teval-rmse:0.17791\ttrain-rmse:0.183992\teval-rmspe:0.199448\ttrain-rmspe:0.176511\n",
      "[85]\teval-rmse:0.177914\ttrain-rmse:0.183821\teval-rmspe:0.199624\ttrain-rmspe:0.176364\n",
      "[86]\teval-rmse:0.177898\ttrain-rmse:0.183808\teval-rmspe:0.19963\ttrain-rmspe:0.176352\n",
      "[87]\teval-rmse:0.177691\ttrain-rmse:0.183639\teval-rmspe:0.199708\ttrain-rmspe:0.176158\n",
      "[88]\teval-rmse:0.177438\ttrain-rmse:0.183511\teval-rmspe:0.199323\ttrain-rmspe:0.175994\n",
      "[89]\teval-rmse:0.177328\ttrain-rmse:0.183427\teval-rmspe:0.198613\ttrain-rmspe:0.175946\n",
      "[90]\teval-rmse:0.177316\ttrain-rmse:0.183372\teval-rmspe:0.198584\ttrain-rmspe:0.175878\n",
      "[91]\teval-rmse:0.177279\ttrain-rmse:0.183348\teval-rmspe:0.198417\ttrain-rmspe:0.175869\n",
      "[92]\teval-rmse:0.177202\ttrain-rmse:0.183287\teval-rmspe:0.198142\ttrain-rmspe:0.175807\n",
      "[93]\teval-rmse:0.177156\ttrain-rmse:0.18326\teval-rmspe:0.198071\ttrain-rmspe:0.175764\n",
      "[94]\teval-rmse:0.177138\ttrain-rmse:0.183212\teval-rmspe:0.198099\ttrain-rmspe:0.175711\n",
      "[95]\teval-rmse:0.177101\ttrain-rmse:0.183179\teval-rmspe:0.198178\ttrain-rmspe:0.175718\n"
     ]
    },
    {
     "name": "stdout",
     "output_type": "stream",
     "text": [
      "[96]\teval-rmse:0.177174\ttrain-rmse:0.183168\teval-rmspe:0.198279\ttrain-rmspe:0.175662\n",
      "[97]\teval-rmse:0.177201\ttrain-rmse:0.183139\teval-rmspe:0.198287\ttrain-rmspe:0.17559\n",
      "[98]\teval-rmse:0.177124\ttrain-rmse:0.183073\teval-rmspe:0.198228\ttrain-rmspe:0.175483\n",
      "[99]\teval-rmse:0.177134\ttrain-rmse:0.183065\teval-rmspe:0.198154\ttrain-rmspe:0.175441\n",
      "[100]\teval-rmse:0.177093\ttrain-rmse:0.183055\teval-rmspe:0.198075\ttrain-rmspe:0.175414\n",
      "[101]\teval-rmse:0.176978\ttrain-rmse:0.182975\teval-rmspe:0.198109\ttrain-rmspe:0.175342\n",
      "[102]\teval-rmse:0.176964\ttrain-rmse:0.182922\teval-rmspe:0.198136\ttrain-rmspe:0.175102\n",
      "[103]\teval-rmse:0.176928\ttrain-rmse:0.182896\teval-rmspe:0.198145\ttrain-rmspe:0.175115\n",
      "[104]\teval-rmse:0.176976\ttrain-rmse:0.182834\teval-rmspe:0.198134\ttrain-rmspe:0.175064\n",
      "[105]\teval-rmse:0.176967\ttrain-rmse:0.182832\teval-rmspe:0.198181\ttrain-rmspe:0.175068\n",
      "[106]\teval-rmse:0.176933\ttrain-rmse:0.182811\teval-rmspe:0.197628\ttrain-rmspe:0.175108\n",
      "[107]\teval-rmse:0.176899\ttrain-rmse:0.182794\teval-rmspe:0.197605\ttrain-rmspe:0.17509\n",
      "[108]\teval-rmse:0.176835\ttrain-rmse:0.18276\teval-rmspe:0.197518\ttrain-rmspe:0.175014\n",
      "[109]\teval-rmse:0.17671\ttrain-rmse:0.182726\teval-rmspe:0.197393\ttrain-rmspe:0.17496\n",
      "[110]\teval-rmse:0.176748\ttrain-rmse:0.182726\teval-rmspe:0.197397\ttrain-rmspe:0.174932\n",
      "[111]\teval-rmse:0.176674\ttrain-rmse:0.182706\teval-rmspe:0.197281\ttrain-rmspe:0.174919\n",
      "[112]\teval-rmse:0.176641\ttrain-rmse:0.182692\teval-rmspe:0.19728\ttrain-rmspe:0.17491\n",
      "[113]\teval-rmse:0.176616\ttrain-rmse:0.182646\teval-rmspe:0.197236\ttrain-rmspe:0.174835\n",
      "[114]\teval-rmse:0.176595\ttrain-rmse:0.182647\teval-rmspe:0.197123\ttrain-rmspe:0.174723\n",
      "[115]\teval-rmse:0.176574\ttrain-rmse:0.182632\teval-rmspe:0.197368\ttrain-rmspe:0.17474\n",
      "[116]\teval-rmse:0.17648\ttrain-rmse:0.182581\teval-rmspe:0.19731\ttrain-rmspe:0.17468\n",
      "[117]\teval-rmse:0.176392\ttrain-rmse:0.182532\teval-rmspe:0.196674\ttrain-rmspe:0.17465\n",
      "[118]\teval-rmse:0.176409\ttrain-rmse:0.182517\teval-rmspe:0.196798\ttrain-rmspe:0.174633\n",
      "[119]\teval-rmse:0.176409\ttrain-rmse:0.182485\teval-rmspe:0.196878\ttrain-rmspe:0.174632\n",
      "[120]\teval-rmse:0.176412\ttrain-rmse:0.182458\teval-rmspe:0.196899\ttrain-rmspe:0.174602\n",
      "[121]\teval-rmse:0.176416\ttrain-rmse:0.182424\teval-rmspe:0.196831\ttrain-rmspe:0.174651\n",
      "[122]\teval-rmse:0.17638\ttrain-rmse:0.182382\teval-rmspe:0.197114\ttrain-rmspe:0.174649\n",
      "[123]\teval-rmse:0.176307\ttrain-rmse:0.182351\teval-rmspe:0.197086\ttrain-rmspe:0.174583\n",
      "[124]\teval-rmse:0.176318\ttrain-rmse:0.182344\teval-rmspe:0.196949\ttrain-rmspe:0.174561\n",
      "[125]\teval-rmse:0.176261\ttrain-rmse:0.182313\teval-rmspe:0.196969\ttrain-rmspe:0.174526\n",
      "[126]\teval-rmse:0.176099\ttrain-rmse:0.182264\teval-rmspe:0.196893\ttrain-rmspe:0.174489\n",
      "[127]\teval-rmse:0.17616\ttrain-rmse:0.182253\teval-rmspe:0.196862\ttrain-rmspe:0.17449\n",
      "[128]\teval-rmse:0.17618\ttrain-rmse:0.182255\teval-rmspe:0.196943\ttrain-rmspe:0.174551\n",
      "[129]\teval-rmse:0.176137\ttrain-rmse:0.182249\teval-rmspe:0.196857\ttrain-rmspe:0.174539\n",
      "[130]\teval-rmse:0.176164\ttrain-rmse:0.182213\teval-rmspe:0.196901\ttrain-rmspe:0.174524\n",
      "[131]\teval-rmse:0.17608\ttrain-rmse:0.182203\teval-rmspe:0.19685\ttrain-rmspe:0.174453\n",
      "[132]\teval-rmse:0.176125\ttrain-rmse:0.182197\teval-rmspe:0.196886\ttrain-rmspe:0.174414\n",
      "[133]\teval-rmse:0.176135\ttrain-rmse:0.182184\teval-rmspe:0.196909\ttrain-rmspe:0.174381\n",
      "[134]\teval-rmse:0.176092\ttrain-rmse:0.182173\teval-rmspe:0.196807\ttrain-rmspe:0.174355\n",
      "[135]\teval-rmse:0.176114\ttrain-rmse:0.182154\teval-rmspe:0.19676\ttrain-rmspe:0.174312\n",
      "[136]\teval-rmse:0.176073\ttrain-rmse:0.182129\teval-rmspe:0.196692\ttrain-rmspe:0.174298\n",
      "[137]\teval-rmse:0.176089\ttrain-rmse:0.182122\teval-rmspe:0.196765\ttrain-rmspe:0.174276\n",
      "[138]\teval-rmse:0.176086\ttrain-rmse:0.182119\teval-rmspe:0.196689\ttrain-rmspe:0.174232\n",
      "[139]\teval-rmse:0.176056\ttrain-rmse:0.182092\teval-rmspe:0.196803\ttrain-rmspe:0.174245\n",
      "[140]\teval-rmse:0.176045\ttrain-rmse:0.182061\teval-rmspe:0.196725\ttrain-rmspe:0.174208\n",
      "[141]\teval-rmse:0.176018\ttrain-rmse:0.182042\teval-rmspe:0.196606\ttrain-rmspe:0.174215\n",
      "[142]\teval-rmse:0.175857\ttrain-rmse:0.182002\teval-rmspe:0.196209\ttrain-rmspe:0.17413\n",
      "[143]\teval-rmse:0.1759\ttrain-rmse:0.181997\teval-rmspe:0.196176\ttrain-rmspe:0.174097\n",
      "[144]\teval-rmse:0.175903\ttrain-rmse:0.181981\teval-rmspe:0.196114\ttrain-rmspe:0.174102\n",
      "[145]\teval-rmse:0.175857\ttrain-rmse:0.181955\teval-rmspe:0.19603\ttrain-rmspe:0.174063\n",
      "[146]\teval-rmse:0.175843\ttrain-rmse:0.181933\teval-rmspe:0.195857\ttrain-rmspe:0.174038\n",
      "[147]\teval-rmse:0.175895\ttrain-rmse:0.181932\teval-rmspe:0.195853\ttrain-rmspe:0.174082\n",
      "[148]\teval-rmse:0.175862\ttrain-rmse:0.181924\teval-rmspe:0.195838\ttrain-rmspe:0.174036\n",
      "[149]\teval-rmse:0.175848\ttrain-rmse:0.181906\teval-rmspe:0.195865\ttrain-rmspe:0.174058\n",
      "[150]\teval-rmse:0.175856\ttrain-rmse:0.18188\teval-rmspe:0.195665\ttrain-rmspe:0.174061\n",
      "[151]\teval-rmse:0.175845\ttrain-rmse:0.18188\teval-rmspe:0.19569\ttrain-rmspe:0.174024\n",
      "[152]\teval-rmse:0.175883\ttrain-rmse:0.181856\teval-rmspe:0.195785\ttrain-rmspe:0.174057\n",
      "[153]\teval-rmse:0.175901\ttrain-rmse:0.181854\teval-rmspe:0.195666\ttrain-rmspe:0.17406\n",
      "[154]\teval-rmse:0.175825\ttrain-rmse:0.181848\teval-rmspe:0.195611\ttrain-rmspe:0.174094\n",
      "[155]\teval-rmse:0.17585\ttrain-rmse:0.181845\teval-rmspe:0.195571\ttrain-rmspe:0.174079\n",
      "[156]\teval-rmse:0.175895\ttrain-rmse:0.181836\teval-rmspe:0.195635\ttrain-rmspe:0.174004\n",
      "[157]\teval-rmse:0.175843\ttrain-rmse:0.181828\teval-rmspe:0.195621\ttrain-rmspe:0.174009\n",
      "[158]\teval-rmse:0.175876\ttrain-rmse:0.181817\teval-rmspe:0.195711\ttrain-rmspe:0.17405\n",
      "[159]\teval-rmse:0.175829\ttrain-rmse:0.181784\teval-rmspe:0.195623\ttrain-rmspe:0.174101\n",
      "[160]\teval-rmse:0.175805\ttrain-rmse:0.181774\teval-rmspe:0.195652\ttrain-rmspe:0.174101\n",
      "[161]\teval-rmse:0.175794\ttrain-rmse:0.181768\teval-rmspe:0.195601\ttrain-rmspe:0.174097\n",
      "[162]\teval-rmse:0.175884\ttrain-rmse:0.181754\teval-rmspe:0.195626\ttrain-rmspe:0.174067\n",
      "[163]\teval-rmse:0.175815\ttrain-rmse:0.18174\teval-rmspe:0.195637\ttrain-rmspe:0.174096\n",
      "[164]\teval-rmse:0.175836\ttrain-rmse:0.18174\teval-rmspe:0.195629\ttrain-rmspe:0.17407\n",
      "[165]\teval-rmse:0.175809\ttrain-rmse:0.181726\teval-rmspe:0.195788\ttrain-rmspe:0.173915\n",
      "[166]\teval-rmse:0.175793\ttrain-rmse:0.181723\teval-rmspe:0.195753\ttrain-rmspe:0.173879\n",
      "[167]\teval-rmse:0.175763\ttrain-rmse:0.181696\teval-rmspe:0.195886\ttrain-rmspe:0.173901\n",
      "[168]\teval-rmse:0.175774\ttrain-rmse:0.181683\teval-rmspe:0.19601\ttrain-rmspe:0.173907\n",
      "[169]\teval-rmse:0.175772\ttrain-rmse:0.18167\teval-rmspe:0.196085\ttrain-rmspe:0.173862\n",
      "[170]\teval-rmse:0.175715\ttrain-rmse:0.181633\teval-rmspe:0.195926\ttrain-rmspe:0.173783\n",
      "[171]\teval-rmse:0.175736\ttrain-rmse:0.181634\teval-rmspe:0.196005\ttrain-rmspe:0.173718\n",
      "[172]\teval-rmse:0.17568\ttrain-rmse:0.181622\teval-rmspe:0.195937\ttrain-rmspe:0.173684\n",
      "[173]\teval-rmse:0.175706\ttrain-rmse:0.181618\teval-rmspe:0.195782\ttrain-rmspe:0.173686\n",
      "[174]\teval-rmse:0.175679\ttrain-rmse:0.181605\teval-rmspe:0.195707\ttrain-rmspe:0.173668\n",
      "[175]\teval-rmse:0.175678\ttrain-rmse:0.181605\teval-rmspe:0.195707\ttrain-rmspe:0.173676\n",
      "[176]\teval-rmse:0.175654\ttrain-rmse:0.1816\teval-rmspe:0.195656\ttrain-rmspe:0.17363\n",
      "[177]\teval-rmse:0.175625\ttrain-rmse:0.181598\teval-rmspe:0.195632\ttrain-rmspe:0.173644\n",
      "[178]\teval-rmse:0.175625\ttrain-rmse:0.181598\teval-rmspe:0.195604\ttrain-rmspe:0.173729\n",
      "[179]\teval-rmse:0.175618\ttrain-rmse:0.181596\teval-rmspe:0.195639\ttrain-rmspe:0.173721\n",
      "[180]\teval-rmse:0.175648\ttrain-rmse:0.181589\teval-rmspe:0.195702\ttrain-rmspe:0.173748\n",
      "[181]\teval-rmse:0.175677\ttrain-rmse:0.181581\teval-rmspe:0.195733\ttrain-rmspe:0.173757\n",
      "[182]\teval-rmse:0.175696\ttrain-rmse:0.181574\teval-rmspe:0.195773\ttrain-rmspe:0.173747\n",
      "[183]\teval-rmse:0.175702\ttrain-rmse:0.181568\teval-rmspe:0.195818\ttrain-rmspe:0.173778\n",
      "[184]\teval-rmse:0.175709\ttrain-rmse:0.181565\teval-rmspe:0.195856\ttrain-rmspe:0.173756\n",
      "[185]\teval-rmse:0.17565\ttrain-rmse:0.181562\teval-rmspe:0.195781\ttrain-rmspe:0.173748\n",
      "[186]\teval-rmse:0.175688\ttrain-rmse:0.181563\teval-rmspe:0.19576\ttrain-rmspe:0.17373\n",
      "[187]\teval-rmse:0.175678\ttrain-rmse:0.181556\teval-rmspe:0.195742\ttrain-rmspe:0.1737\n",
      "[188]\teval-rmse:0.175655\ttrain-rmse:0.181552\teval-rmspe:0.195681\ttrain-rmspe:0.173644\n",
      "[189]\teval-rmse:0.175654\ttrain-rmse:0.18155\teval-rmspe:0.195687\ttrain-rmspe:0.173642\n",
      "[190]\teval-rmse:0.175689\ttrain-rmse:0.181536\teval-rmspe:0.195741\ttrain-rmspe:0.173649\n",
      "[191]\teval-rmse:0.175769\ttrain-rmse:0.181514\teval-rmspe:0.195854\ttrain-rmspe:0.173618\n"
     ]
    },
    {
     "name": "stdout",
     "output_type": "stream",
     "text": [
      "[192]\teval-rmse:0.175745\ttrain-rmse:0.181511\teval-rmspe:0.195816\ttrain-rmspe:0.173602\n",
      "[193]\teval-rmse:0.175671\ttrain-rmse:0.181505\teval-rmspe:0.195727\ttrain-rmspe:0.173578\n",
      "[194]\teval-rmse:0.175601\ttrain-rmse:0.181497\teval-rmspe:0.195622\ttrain-rmspe:0.173549\n",
      "[195]\teval-rmse:0.175686\ttrain-rmse:0.181492\teval-rmspe:0.195635\ttrain-rmspe:0.17358\n",
      "[196]\teval-rmse:0.175669\ttrain-rmse:0.181475\teval-rmspe:0.195714\ttrain-rmspe:0.173556\n",
      "[197]\teval-rmse:0.175542\ttrain-rmse:0.181468\teval-rmspe:0.195638\ttrain-rmspe:0.173508\n",
      "[198]\teval-rmse:0.17555\ttrain-rmse:0.181467\teval-rmspe:0.195656\ttrain-rmspe:0.173546\n",
      "[199]\teval-rmse:0.175538\ttrain-rmse:0.181456\teval-rmspe:0.195648\ttrain-rmspe:0.17356\n",
      "[200]\teval-rmse:0.175597\ttrain-rmse:0.181449\teval-rmspe:0.196037\ttrain-rmspe:0.173574\n",
      "[201]\teval-rmse:0.175672\ttrain-rmse:0.181438\teval-rmspe:0.196187\ttrain-rmspe:0.173564\n",
      "[202]\teval-rmse:0.175706\ttrain-rmse:0.181433\teval-rmspe:0.196197\ttrain-rmspe:0.173593\n",
      "[203]\teval-rmse:0.175696\ttrain-rmse:0.18143\teval-rmspe:0.196119\ttrain-rmspe:0.173559\n",
      "[204]\teval-rmse:0.175688\ttrain-rmse:0.181413\teval-rmspe:0.196197\ttrain-rmspe:0.173539\n",
      "[205]\teval-rmse:0.175731\ttrain-rmse:0.181409\teval-rmspe:0.196239\ttrain-rmspe:0.173549\n",
      "[206]\teval-rmse:0.175769\ttrain-rmse:0.181411\teval-rmspe:0.196226\ttrain-rmspe:0.173508\n",
      "[207]\teval-rmse:0.17571\ttrain-rmse:0.181401\teval-rmspe:0.196236\ttrain-rmspe:0.173527\n",
      "[208]\teval-rmse:0.175724\ttrain-rmse:0.181394\teval-rmspe:0.195945\ttrain-rmspe:0.173503\n",
      "[209]\teval-rmse:0.175788\ttrain-rmse:0.181377\teval-rmspe:0.196013\ttrain-rmspe:0.173491\n",
      "[210]\teval-rmse:0.17589\ttrain-rmse:0.181365\teval-rmspe:0.196131\ttrain-rmspe:0.173455\n",
      "[211]\teval-rmse:0.175879\ttrain-rmse:0.181363\teval-rmspe:0.19585\ttrain-rmspe:0.173395\n",
      "[212]\teval-rmse:0.175888\ttrain-rmse:0.181358\teval-rmspe:0.195823\ttrain-rmspe:0.173376\n",
      "[213]\teval-rmse:0.175858\ttrain-rmse:0.181355\teval-rmspe:0.195824\ttrain-rmspe:0.173373\n",
      "[214]\teval-rmse:0.17579\ttrain-rmse:0.181359\teval-rmspe:0.195784\ttrain-rmspe:0.173378\n",
      "[215]\teval-rmse:0.175829\ttrain-rmse:0.181356\teval-rmspe:0.195803\ttrain-rmspe:0.173358\n",
      "[216]\teval-rmse:0.175849\ttrain-rmse:0.181354\teval-rmspe:0.195759\ttrain-rmspe:0.173337\n",
      "[217]\teval-rmse:0.175838\ttrain-rmse:0.181351\teval-rmspe:0.195734\ttrain-rmspe:0.173354\n",
      "[218]\teval-rmse:0.175832\ttrain-rmse:0.181346\teval-rmspe:0.195729\ttrain-rmspe:0.173381\n",
      "[219]\teval-rmse:0.175861\ttrain-rmse:0.181342\teval-rmspe:0.195782\ttrain-rmspe:0.173401\n",
      "[220]\teval-rmse:0.17593\ttrain-rmse:0.181332\teval-rmspe:0.195865\ttrain-rmspe:0.173428\n",
      "[221]\teval-rmse:0.17585\ttrain-rmse:0.181326\teval-rmspe:0.195779\ttrain-rmspe:0.17343\n",
      "[222]\teval-rmse:0.175859\ttrain-rmse:0.181326\teval-rmspe:0.195859\ttrain-rmspe:0.173435\n",
      "[223]\teval-rmse:0.175736\ttrain-rmse:0.181323\teval-rmspe:0.195736\ttrain-rmspe:0.173388\n",
      "[224]\teval-rmse:0.175758\ttrain-rmse:0.181294\teval-rmspe:0.195776\ttrain-rmspe:0.173379\n",
      "[225]\teval-rmse:0.175771\ttrain-rmse:0.181282\teval-rmspe:0.195717\ttrain-rmspe:0.17333\n",
      "[226]\teval-rmse:0.175777\ttrain-rmse:0.181281\teval-rmspe:0.195699\ttrain-rmspe:0.173343\n",
      "[227]\teval-rmse:0.17574\ttrain-rmse:0.181285\teval-rmspe:0.195567\ttrain-rmspe:0.173357\n",
      "[228]\teval-rmse:0.175865\ttrain-rmse:0.181258\teval-rmspe:0.195886\ttrain-rmspe:0.17332\n",
      "[229]\teval-rmse:0.175915\ttrain-rmse:0.181251\teval-rmspe:0.195828\ttrain-rmspe:0.173306\n",
      "[230]\teval-rmse:0.175883\ttrain-rmse:0.18123\teval-rmspe:0.195745\ttrain-rmspe:0.173304\n",
      "[231]\teval-rmse:0.175853\ttrain-rmse:0.181218\teval-rmspe:0.195709\ttrain-rmspe:0.173296\n",
      "[232]\teval-rmse:0.175855\ttrain-rmse:0.181211\teval-rmspe:0.195589\ttrain-rmspe:0.173393\n",
      "[233]\teval-rmse:0.175849\ttrain-rmse:0.181206\teval-rmspe:0.19559\ttrain-rmspe:0.173385\n",
      "[234]\teval-rmse:0.175804\ttrain-rmse:0.181204\teval-rmspe:0.195535\ttrain-rmspe:0.173375\n",
      "[235]\teval-rmse:0.17579\ttrain-rmse:0.181193\teval-rmspe:0.195487\ttrain-rmspe:0.173351\n",
      "[236]\teval-rmse:0.175769\ttrain-rmse:0.181193\teval-rmspe:0.19534\ttrain-rmspe:0.173357\n",
      "[237]\teval-rmse:0.175777\ttrain-rmse:0.181191\teval-rmspe:0.195325\ttrain-rmspe:0.173336\n",
      "[238]\teval-rmse:0.175756\ttrain-rmse:0.181193\teval-rmspe:0.195288\ttrain-rmspe:0.173267\n",
      "[239]\teval-rmse:0.175695\ttrain-rmse:0.181185\teval-rmspe:0.19516\ttrain-rmspe:0.173273\n",
      "[240]\teval-rmse:0.175697\ttrain-rmse:0.181183\teval-rmspe:0.19517\ttrain-rmspe:0.173295\n",
      "[241]\teval-rmse:0.175683\ttrain-rmse:0.181183\teval-rmspe:0.195023\ttrain-rmspe:0.173276\n",
      "[242]\teval-rmse:0.175716\ttrain-rmse:0.181177\teval-rmspe:0.195161\ttrain-rmspe:0.173305\n",
      "[243]\teval-rmse:0.175748\ttrain-rmse:0.181175\teval-rmspe:0.195195\ttrain-rmspe:0.173368\n",
      "[244]\teval-rmse:0.175706\ttrain-rmse:0.181169\teval-rmspe:0.195098\ttrain-rmspe:0.17335\n",
      "[245]\teval-rmse:0.175677\ttrain-rmse:0.181164\teval-rmspe:0.195079\ttrain-rmspe:0.173372\n",
      "[246]\teval-rmse:0.175656\ttrain-rmse:0.181158\teval-rmspe:0.195102\ttrain-rmspe:0.173349\n",
      "[247]\teval-rmse:0.175611\ttrain-rmse:0.181149\teval-rmspe:0.195095\ttrain-rmspe:0.173228\n",
      "[248]\teval-rmse:0.175604\ttrain-rmse:0.181145\teval-rmspe:0.195167\ttrain-rmspe:0.173215\n",
      "[249]\teval-rmse:0.175662\ttrain-rmse:0.181139\teval-rmspe:0.195129\ttrain-rmspe:0.173195\n",
      "[250]\teval-rmse:0.175677\ttrain-rmse:0.181134\teval-rmspe:0.195443\ttrain-rmspe:0.173154\n",
      "[251]\teval-rmse:0.175666\ttrain-rmse:0.181133\teval-rmspe:0.195447\ttrain-rmspe:0.173172\n",
      "[252]\teval-rmse:0.175718\ttrain-rmse:0.181135\teval-rmspe:0.195698\ttrain-rmspe:0.17318\n",
      "[253]\teval-rmse:0.175709\ttrain-rmse:0.181133\teval-rmspe:0.19538\ttrain-rmspe:0.173146\n",
      "[254]\teval-rmse:0.175597\ttrain-rmse:0.181129\teval-rmspe:0.195289\ttrain-rmspe:0.173166\n",
      "[255]\teval-rmse:0.175572\ttrain-rmse:0.181127\teval-rmspe:0.195321\ttrain-rmspe:0.173172\n",
      "[256]\teval-rmse:0.175607\ttrain-rmse:0.181122\teval-rmspe:0.195342\ttrain-rmspe:0.173138\n",
      "[257]\teval-rmse:0.175575\ttrain-rmse:0.181123\teval-rmspe:0.195187\ttrain-rmspe:0.173113\n",
      "[258]\teval-rmse:0.175528\ttrain-rmse:0.181114\teval-rmspe:0.195205\ttrain-rmspe:0.17308\n",
      "[259]\teval-rmse:0.175517\ttrain-rmse:0.181112\teval-rmspe:0.195075\ttrain-rmspe:0.173076\n",
      "[260]\teval-rmse:0.175487\ttrain-rmse:0.181104\teval-rmspe:0.195044\ttrain-rmspe:0.173094\n",
      "[261]\teval-rmse:0.175467\ttrain-rmse:0.181102\teval-rmspe:0.195011\ttrain-rmspe:0.173121\n",
      "[262]\teval-rmse:0.175473\ttrain-rmse:0.181099\teval-rmspe:0.195008\ttrain-rmspe:0.173081\n",
      "[263]\teval-rmse:0.175529\ttrain-rmse:0.181099\teval-rmspe:0.19508\ttrain-rmspe:0.173073\n",
      "[264]\teval-rmse:0.175514\ttrain-rmse:0.1811\teval-rmspe:0.195048\ttrain-rmspe:0.173078\n",
      "[265]\teval-rmse:0.175549\ttrain-rmse:0.181097\teval-rmspe:0.194812\ttrain-rmspe:0.173051\n",
      "[266]\teval-rmse:0.175481\ttrain-rmse:0.181093\teval-rmspe:0.194696\ttrain-rmspe:0.173055\n",
      "[267]\teval-rmse:0.175417\ttrain-rmse:0.181093\teval-rmspe:0.19457\ttrain-rmspe:0.173046\n",
      "[268]\teval-rmse:0.175422\ttrain-rmse:0.181091\teval-rmspe:0.194579\ttrain-rmspe:0.173057\n",
      "[269]\teval-rmse:0.17542\ttrain-rmse:0.181092\teval-rmspe:0.194497\ttrain-rmspe:0.173053\n",
      "[270]\teval-rmse:0.175425\ttrain-rmse:0.181084\teval-rmspe:0.194882\ttrain-rmspe:0.173048\n",
      "[271]\teval-rmse:0.175339\ttrain-rmse:0.181083\teval-rmspe:0.194871\ttrain-rmspe:0.173085\n",
      "[272]\teval-rmse:0.175318\ttrain-rmse:0.181074\teval-rmspe:0.194639\ttrain-rmspe:0.173052\n",
      "[273]\teval-rmse:0.175381\ttrain-rmse:0.181075\teval-rmspe:0.19469\ttrain-rmspe:0.173062\n",
      "[274]\teval-rmse:0.175336\ttrain-rmse:0.181067\teval-rmspe:0.194687\ttrain-rmspe:0.17302\n",
      "[275]\teval-rmse:0.17531\ttrain-rmse:0.181066\teval-rmspe:0.194624\ttrain-rmspe:0.173028\n",
      "[276]\teval-rmse:0.175323\ttrain-rmse:0.181063\teval-rmspe:0.194594\ttrain-rmspe:0.173046\n",
      "[277]\teval-rmse:0.17531\ttrain-rmse:0.181061\teval-rmspe:0.19457\ttrain-rmspe:0.173024\n",
      "[278]\teval-rmse:0.175307\ttrain-rmse:0.181061\teval-rmspe:0.194556\ttrain-rmspe:0.173046\n",
      "[279]\teval-rmse:0.175254\ttrain-rmse:0.181057\teval-rmspe:0.194495\ttrain-rmspe:0.173046\n",
      "[280]\teval-rmse:0.175283\ttrain-rmse:0.181056\teval-rmspe:0.194498\ttrain-rmspe:0.173053\n",
      "[281]\teval-rmse:0.175267\ttrain-rmse:0.181055\teval-rmspe:0.194504\ttrain-rmspe:0.173063\n",
      "[282]\teval-rmse:0.175199\ttrain-rmse:0.181052\teval-rmspe:0.194456\ttrain-rmspe:0.17305\n",
      "[283]\teval-rmse:0.175224\ttrain-rmse:0.181047\teval-rmspe:0.194525\ttrain-rmspe:0.173046\n",
      "[284]\teval-rmse:0.175222\ttrain-rmse:0.181041\teval-rmspe:0.194582\ttrain-rmspe:0.17303\n",
      "[285]\teval-rmse:0.175251\ttrain-rmse:0.181041\teval-rmspe:0.194601\ttrain-rmspe:0.173055\n",
      "[286]\teval-rmse:0.175233\ttrain-rmse:0.181042\teval-rmspe:0.19455\ttrain-rmspe:0.173029\n",
      "[287]\teval-rmse:0.175226\ttrain-rmse:0.181027\teval-rmspe:0.194441\ttrain-rmspe:0.172973\n"
     ]
    },
    {
     "name": "stdout",
     "output_type": "stream",
     "text": [
      "[288]\teval-rmse:0.175261\ttrain-rmse:0.181027\teval-rmspe:0.194455\ttrain-rmspe:0.172992\n",
      "[289]\teval-rmse:0.175311\ttrain-rmse:0.181028\teval-rmspe:0.19445\ttrain-rmspe:0.173031\n",
      "[290]\teval-rmse:0.175263\ttrain-rmse:0.181026\teval-rmspe:0.194407\ttrain-rmspe:0.173017\n",
      "[291]\teval-rmse:0.17527\ttrain-rmse:0.181026\teval-rmspe:0.194387\ttrain-rmspe:0.173011\n",
      "[292]\teval-rmse:0.175215\ttrain-rmse:0.18102\teval-rmspe:0.19425\ttrain-rmspe:0.172966\n",
      "[293]\teval-rmse:0.175188\ttrain-rmse:0.181019\teval-rmspe:0.194264\ttrain-rmspe:0.172958\n",
      "[294]\teval-rmse:0.175229\ttrain-rmse:0.181019\teval-rmspe:0.194376\ttrain-rmspe:0.173001\n",
      "[295]\teval-rmse:0.175247\ttrain-rmse:0.181019\teval-rmspe:0.194361\ttrain-rmspe:0.173013\n",
      "[296]\teval-rmse:0.17528\ttrain-rmse:0.18102\teval-rmspe:0.194368\ttrain-rmspe:0.173017\n",
      "[297]\teval-rmse:0.175281\ttrain-rmse:0.181015\teval-rmspe:0.1946\ttrain-rmspe:0.172993\n",
      "[298]\teval-rmse:0.175263\ttrain-rmse:0.181014\teval-rmspe:0.194569\ttrain-rmspe:0.173017\n",
      "[299]\teval-rmse:0.175235\ttrain-rmse:0.181014\teval-rmspe:0.194541\ttrain-rmspe:0.173012\n"
     ]
    }
   ],
   "source": [
    "params = {\"objective\": \"reg:linear\",\n",
    "          \"eta\": 0.3,\n",
    "          \"max_depth\": 8,\n",
    "          \"subsample\": 0.7,\n",
    "          \"colsample_bytree\": 0.7,\n",
    "          \"silent\": 1\n",
    "          }\n",
    "num_trees = 300\n",
    "\n",
    "dtrain = xgb.DMatrix(X_train, Y_train)\n",
    "dvalid = xgb.DMatrix(X_valid, Y_valid)\n",
    "#dtest = xgb.DMatrix(test)\n",
    "watchlist = [(dvalid, 'eval'), (dtrain, 'train')]\n",
    "gbm = xgb.train(params, dtrain, num_trees, evals=watchlist, early_stopping_rounds=50, feval=rmspe_xg, verbose_eval=True)\n",
    "\n",
    "# params = {'n_estimators': 300, 'max_depth': 8, 'min_samples_split': 0.7,\n",
    "#           'learning_rate': 0.3, 'loss': 'ls'}\n",
    "# optimzer = GradientBoostingRegressor(**params)\n",
    "# optimzer.fit(X_train,Y_train)\n"
   ]
  },
  {
   "cell_type": "code",
   "execution_count": null,
   "metadata": {},
   "outputs": [],
   "source": [
    "train_mse = rmspe_xg(optimzer.predict(X_train),Y_train)\n",
    "mse = rmspe_xg(optimzer.predict(X_valid),Y_valid)\n",
    "print(\"train Mse is \",train_mse)\n",
    "print(\"valild Mse is \",mse)"
   ]
  },
  {
   "cell_type": "code",
   "execution_count": null,
   "metadata": {},
   "outputs": [],
   "source": []
  },
  {
   "cell_type": "code",
   "execution_count": null,
   "metadata": {},
   "outputs": [],
   "source": []
  },
  {
   "cell_type": "code",
   "execution_count": null,
   "metadata": {},
   "outputs": [],
   "source": []
  }
 ],
 "metadata": {
  "kernelspec": {
   "display_name": "Python 3",
   "language": "python",
   "name": "python3"
  },
  "language_info": {
   "codemirror_mode": {
    "name": "ipython",
    "version": 3
   },
   "file_extension": ".py",
   "mimetype": "text/x-python",
   "name": "python",
   "nbconvert_exporter": "python",
   "pygments_lexer": "ipython3",
   "version": "3.7.1"
  }
 },
 "nbformat": 4,
 "nbformat_minor": 2
}
