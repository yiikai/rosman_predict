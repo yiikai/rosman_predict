{
 "cells": [
  {
   "cell_type": "code",
   "execution_count": 184,
   "metadata": {},
   "outputs": [],
   "source": [
    "import numpy as np\n",
    "import pandas as pd\n",
    "import matplotlib.pyplot as plt\n",
    "from sklearn.preprocessing import OneHotEncoder,LabelEncoder,MinMaxScaler\n",
    "import xgboost as xgb\n",
    "import os\n",
    "os.environ['KMP_DUPLICATE_LIB_OK']='True'"
   ]
  },
  {
   "cell_type": "code",
   "execution_count": 185,
   "metadata": {},
   "outputs": [],
   "source": [
    "Dataset_dir = [\"./train.csv\", \"./store.csv\",\"./test.csv\"]\n",
    "pd.options.display.max_columns = None"
   ]
  },
  {
   "cell_type": "code",
   "execution_count": 186,
   "metadata": {},
   "outputs": [],
   "source": [
    "def load_data(dir):\n",
    "    data = pd.read_csv(dir[0],parse_dates=[2])\n",
    "    store = pd.read_csv(dir[1])\n",
    "    test = pd.read_csv(dir[2],parse_dates=[3])\n",
    "    return data,store,test"
   ]
  },
  {
   "cell_type": "code",
   "execution_count": 187,
   "metadata": {},
   "outputs": [
    {
     "name": "stdout",
     "output_type": "stream",
     "text": [
      "Index(['Store', 'DayOfWeek', 'Date', 'Sales', 'Customers', 'Open', 'Promo',\n",
      "       'StateHoliday', 'SchoolHoliday', 'StoreType', 'Assortment',\n",
      "       'CompetitionDistance', 'CompetitionOpenSinceMonth',\n",
      "       'CompetitionOpenSinceYear', 'Promo2', 'Promo2SinceWeek',\n",
      "       'Promo2SinceYear', 'PromoInterval'],\n",
      "      dtype='object')\n",
      "Index(['Id', 'Store', 'DayOfWeek', 'Date', 'Open', 'Promo', 'StateHoliday',\n",
      "       'SchoolHoliday', 'StoreType', 'Assortment', 'CompetitionDistance',\n",
      "       'CompetitionOpenSinceMonth', 'CompetitionOpenSinceYear', 'Promo2',\n",
      "       'Promo2SinceWeek', 'Promo2SinceYear', 'PromoInterval'],\n",
      "      dtype='object')\n"
     ]
    }
   ],
   "source": [
    "train,store,test = load_data(Dataset_dir)\n",
    "train = train[train['Open'] != 0]\n",
    "train = pd.merge(train, store, on='Store')\n",
    "test = pd.merge(test, store, on='Store')\n",
    "print(train.columns)\n",
    "print(test.columns)"
   ]
  },
  {
   "cell_type": "code",
   "execution_count": 188,
   "metadata": {},
   "outputs": [],
   "source": [
    "TESTID = test['Id']"
   ]
  },
  {
   "cell_type": "code",
   "execution_count": 189,
   "metadata": {},
   "outputs": [
    {
     "data": {
      "text/html": [
       "<div>\n",
       "<style scoped>\n",
       "    .dataframe tbody tr th:only-of-type {\n",
       "        vertical-align: middle;\n",
       "    }\n",
       "\n",
       "    .dataframe tbody tr th {\n",
       "        vertical-align: top;\n",
       "    }\n",
       "\n",
       "    .dataframe thead th {\n",
       "        text-align: right;\n",
       "    }\n",
       "</style>\n",
       "<table border=\"1\" class=\"dataframe\">\n",
       "  <thead>\n",
       "    <tr style=\"text-align: right;\">\n",
       "      <th></th>\n",
       "      <th>Store</th>\n",
       "      <th>DayOfWeek</th>\n",
       "      <th>Sales</th>\n",
       "      <th>Customers</th>\n",
       "      <th>Open</th>\n",
       "      <th>Promo</th>\n",
       "      <th>SchoolHoliday</th>\n",
       "      <th>CompetitionDistance</th>\n",
       "      <th>CompetitionOpenSinceMonth</th>\n",
       "      <th>CompetitionOpenSinceYear</th>\n",
       "      <th>Promo2</th>\n",
       "      <th>Promo2SinceWeek</th>\n",
       "      <th>Promo2SinceYear</th>\n",
       "    </tr>\n",
       "  </thead>\n",
       "  <tbody>\n",
       "    <tr>\n",
       "      <th>count</th>\n",
       "      <td>844392.000000</td>\n",
       "      <td>844392.000000</td>\n",
       "      <td>844392.000000</td>\n",
       "      <td>844392.000000</td>\n",
       "      <td>844392.0</td>\n",
       "      <td>844392.000000</td>\n",
       "      <td>844392.000000</td>\n",
       "      <td>842206.000000</td>\n",
       "      <td>575773.000000</td>\n",
       "      <td>575773.000000</td>\n",
       "      <td>844392.000000</td>\n",
       "      <td>421085.000000</td>\n",
       "      <td>421085.000000</td>\n",
       "    </tr>\n",
       "    <tr>\n",
       "      <th>mean</th>\n",
       "      <td>558.422920</td>\n",
       "      <td>3.520361</td>\n",
       "      <td>6955.514291</td>\n",
       "      <td>762.728395</td>\n",
       "      <td>1.0</td>\n",
       "      <td>0.446352</td>\n",
       "      <td>0.193580</td>\n",
       "      <td>5457.979627</td>\n",
       "      <td>7.224879</td>\n",
       "      <td>2008.697747</td>\n",
       "      <td>0.498684</td>\n",
       "      <td>23.253426</td>\n",
       "      <td>2011.754019</td>\n",
       "    </tr>\n",
       "    <tr>\n",
       "      <th>std</th>\n",
       "      <td>321.731914</td>\n",
       "      <td>1.723689</td>\n",
       "      <td>3104.214680</td>\n",
       "      <td>401.227674</td>\n",
       "      <td>0.0</td>\n",
       "      <td>0.497114</td>\n",
       "      <td>0.395103</td>\n",
       "      <td>7809.437311</td>\n",
       "      <td>3.210144</td>\n",
       "      <td>5.978048</td>\n",
       "      <td>0.499999</td>\n",
       "      <td>14.100569</td>\n",
       "      <td>1.660962</td>\n",
       "    </tr>\n",
       "    <tr>\n",
       "      <th>min</th>\n",
       "      <td>1.000000</td>\n",
       "      <td>1.000000</td>\n",
       "      <td>0.000000</td>\n",
       "      <td>0.000000</td>\n",
       "      <td>1.0</td>\n",
       "      <td>0.000000</td>\n",
       "      <td>0.000000</td>\n",
       "      <td>20.000000</td>\n",
       "      <td>1.000000</td>\n",
       "      <td>1900.000000</td>\n",
       "      <td>0.000000</td>\n",
       "      <td>1.000000</td>\n",
       "      <td>2009.000000</td>\n",
       "    </tr>\n",
       "    <tr>\n",
       "      <th>25%</th>\n",
       "      <td>280.000000</td>\n",
       "      <td>2.000000</td>\n",
       "      <td>4859.000000</td>\n",
       "      <td>519.000000</td>\n",
       "      <td>1.0</td>\n",
       "      <td>0.000000</td>\n",
       "      <td>0.000000</td>\n",
       "      <td>710.000000</td>\n",
       "      <td>4.000000</td>\n",
       "      <td>2006.000000</td>\n",
       "      <td>0.000000</td>\n",
       "      <td>13.000000</td>\n",
       "      <td>2011.000000</td>\n",
       "    </tr>\n",
       "    <tr>\n",
       "      <th>50%</th>\n",
       "      <td>558.000000</td>\n",
       "      <td>3.000000</td>\n",
       "      <td>6369.000000</td>\n",
       "      <td>676.000000</td>\n",
       "      <td>1.0</td>\n",
       "      <td>0.000000</td>\n",
       "      <td>0.000000</td>\n",
       "      <td>2320.000000</td>\n",
       "      <td>8.000000</td>\n",
       "      <td>2010.000000</td>\n",
       "      <td>0.000000</td>\n",
       "      <td>22.000000</td>\n",
       "      <td>2012.000000</td>\n",
       "    </tr>\n",
       "    <tr>\n",
       "      <th>75%</th>\n",
       "      <td>837.000000</td>\n",
       "      <td>5.000000</td>\n",
       "      <td>8360.000000</td>\n",
       "      <td>893.000000</td>\n",
       "      <td>1.0</td>\n",
       "      <td>1.000000</td>\n",
       "      <td>0.000000</td>\n",
       "      <td>6890.000000</td>\n",
       "      <td>10.000000</td>\n",
       "      <td>2013.000000</td>\n",
       "      <td>1.000000</td>\n",
       "      <td>37.000000</td>\n",
       "      <td>2013.000000</td>\n",
       "    </tr>\n",
       "    <tr>\n",
       "      <th>max</th>\n",
       "      <td>1115.000000</td>\n",
       "      <td>7.000000</td>\n",
       "      <td>41551.000000</td>\n",
       "      <td>7388.000000</td>\n",
       "      <td>1.0</td>\n",
       "      <td>1.000000</td>\n",
       "      <td>1.000000</td>\n",
       "      <td>75860.000000</td>\n",
       "      <td>12.000000</td>\n",
       "      <td>2015.000000</td>\n",
       "      <td>1.000000</td>\n",
       "      <td>50.000000</td>\n",
       "      <td>2015.000000</td>\n",
       "    </tr>\n",
       "  </tbody>\n",
       "</table>\n",
       "</div>"
      ],
      "text/plain": [
       "               Store      DayOfWeek          Sales      Customers      Open  \\\n",
       "count  844392.000000  844392.000000  844392.000000  844392.000000  844392.0   \n",
       "mean      558.422920       3.520361    6955.514291     762.728395       1.0   \n",
       "std       321.731914       1.723689    3104.214680     401.227674       0.0   \n",
       "min         1.000000       1.000000       0.000000       0.000000       1.0   \n",
       "25%       280.000000       2.000000    4859.000000     519.000000       1.0   \n",
       "50%       558.000000       3.000000    6369.000000     676.000000       1.0   \n",
       "75%       837.000000       5.000000    8360.000000     893.000000       1.0   \n",
       "max      1115.000000       7.000000   41551.000000    7388.000000       1.0   \n",
       "\n",
       "               Promo  SchoolHoliday  CompetitionDistance  \\\n",
       "count  844392.000000  844392.000000        842206.000000   \n",
       "mean        0.446352       0.193580          5457.979627   \n",
       "std         0.497114       0.395103          7809.437311   \n",
       "min         0.000000       0.000000            20.000000   \n",
       "25%         0.000000       0.000000           710.000000   \n",
       "50%         0.000000       0.000000          2320.000000   \n",
       "75%         1.000000       0.000000          6890.000000   \n",
       "max         1.000000       1.000000         75860.000000   \n",
       "\n",
       "       CompetitionOpenSinceMonth  CompetitionOpenSinceYear         Promo2  \\\n",
       "count              575773.000000             575773.000000  844392.000000   \n",
       "mean                    7.224879               2008.697747       0.498684   \n",
       "std                     3.210144                  5.978048       0.499999   \n",
       "min                     1.000000               1900.000000       0.000000   \n",
       "25%                     4.000000               2006.000000       0.000000   \n",
       "50%                     8.000000               2010.000000       0.000000   \n",
       "75%                    10.000000               2013.000000       1.000000   \n",
       "max                    12.000000               2015.000000       1.000000   \n",
       "\n",
       "       Promo2SinceWeek  Promo2SinceYear  \n",
       "count    421085.000000    421085.000000  \n",
       "mean         23.253426      2011.754019  \n",
       "std          14.100569         1.660962  \n",
       "min           1.000000      2009.000000  \n",
       "25%          13.000000      2011.000000  \n",
       "50%          22.000000      2012.000000  \n",
       "75%          37.000000      2013.000000  \n",
       "max          50.000000      2015.000000  "
      ]
     },
     "execution_count": 189,
     "metadata": {},
     "output_type": "execute_result"
    }
   ],
   "source": [
    "train.describe()"
   ]
  },
  {
   "cell_type": "code",
   "execution_count": 190,
   "metadata": {},
   "outputs": [
    {
     "data": {
      "image/png": "[encoded data removed]",
      "text/plain": [
       "<Figure size 432x288 with 1 Axes>"
      ]
     },
     "metadata": {
      "needs_background": "light"
     },
     "output_type": "display_data"
    },
    {
     "data": {
      "image/png": "[encoded data removed]",
      "text/plain": [
       "<Figure size 432x288 with 1 Axes>"
      ]
     },
     "metadata": {
      "needs_background": "light"
     },
     "output_type": "display_data"
    }
   ],
   "source": [
    "sales_mean = train.groupby('Store')['Sales'].mean()\n",
    "plt.hist(sales_mean)\n",
    "plt.show()\n",
    "plt.hist(np.log1p(sales_mean))\n",
    "plt.show()"
   ]
  },
  {
   "cell_type": "code",
   "execution_count": 191,
   "metadata": {},
   "outputs": [],
   "source": [
    "Store_DaysWeek = train.groupby(['Store','DayOfWeek'])\n",
    "sw_mean = Store_DaysWeek[\"Sales\"].mean()"
   ]
  },
  {
   "cell_type": "code",
   "execution_count": 192,
   "metadata": {},
   "outputs": [],
   "source": [
    "def build_feature(data,istrain):\n",
    "    mappings = {'0':0, 'a':1, 'b':2, 'c':3, 'd':4}\n",
    "    data.StoreType.replace(mappings, inplace=True)\n",
    "    data.Assortment.replace(mappings, inplace=True)\n",
    "    data.StateHoliday.replace(mappings, inplace=True)\n",
    "    \n",
    "    #CART回归树不需要预处理数据和NAn值\n",
    "#     distance_max = max(data.CompetitionDistance)\n",
    "#     data.CompetitionDistance.mask(data.CompetitionDistance.isna(),other=distance_max,inplace=True)\n",
    "#     print(data.CompetitionDistance.isnull().any())\n",
    "#     min_max_scaler = MinMaxScaler()\n",
    "#     scaledata = min_max_scaler.fit_transform(data[['CompetitionDistance']])\n",
    "#     data.drop(\"CompetitionDistance\",axis=1)\n",
    "#     data['CompetitionDistance'] = scaledata\n",
    "    #时间序列问题 需要考虑进时间的因素\n",
    "    data['Year'] = data.Date.dt.year\n",
    "    data['Month'] = data.Date.dt.month\n",
    "    data['Day'] = data.Date.dt.day\n",
    "    \n",
    "    if istrain:\n",
    "        #data.drop(['Store','Open','Date','Customers','PromoInterval',],axis=1,inplace=True)\n",
    "        data.drop(['Store','Open','Date','Customers','PromoInterval','SchoolHoliday','Promo2','StateHoliday','Promo2SinceWeek'],axis=1,inplace=True)\n",
    "    else:\n",
    "        #data.drop(['Id','Store','Open','Date','PromoInterval',],axis=1,inplace=True)\n",
    "        data.drop(['Id','Store','Open','Date','PromoInterval','SchoolHoliday','Promo2','StateHoliday','Promo2SinceWeek'],axis=1,inplace=True)\n",
    "    print(data.columns)"
   ]
  },
  {
   "cell_type": "code",
   "execution_count": 193,
   "metadata": {},
   "outputs": [
    {
     "name": "stdout",
     "output_type": "stream",
     "text": [
      "Index(['DayOfWeek', 'Sales', 'Promo', 'StoreType', 'Assortment',\n",
      "       'CompetitionDistance', 'CompetitionOpenSinceMonth',\n",
      "       'CompetitionOpenSinceYear', 'Promo2SinceYear', 'Year', 'Month', 'Day'],\n",
      "      dtype='object')\n",
      "Index(['DayOfWeek', 'Promo', 'StoreType', 'Assortment', 'CompetitionDistance',\n",
      "       'CompetitionOpenSinceMonth', 'CompetitionOpenSinceYear',\n",
      "       'Promo2SinceYear', 'Year', 'Month', 'Day'],\n",
      "      dtype='object')\n"
     ]
    }
   ],
   "source": [
    "#build train data\n",
    "build_feature(train,True)\n",
    "#build test data\n",
    "build_feature(test,False)"
   ]
  },
  {
   "cell_type": "code",
   "execution_count": 194,
   "metadata": {},
   "outputs": [],
   "source": [
    "# ST_gp = train.groupby('StoreType')['Sales'].agg('mean')\n",
    "# import seaborn as sns\n",
    "# sns.barplot(ST_gp.index,ST_gp.values)\n",
    "# plt.show()\n",
    "# StateOPen_gp = train.groupby(['StateHoliday','SchoolHoliday'])['Sales'].agg('mean')\n",
    "# sns.barplot(StateOPen_gp.index,StateOPen_gp.values)\n",
    "# plt.show()\n",
    "# As_gp = train.groupby('Assortment')['Sales'].agg('mean')\n",
    "# sns.barplot(As_gp.index,As_gp.values)\n",
    "# plt.show()\n",
    "# Dayweek_gp = train.groupby(['StoreType','DayOfWeek'])['Sales'].agg('mean')\n",
    "# ax = sns.barplot(Dayweek_gp.index,Dayweek_gp.values)\n",
    "# ax.set_xticklabels(ax.get_xticklabels(), rotation=90, ha=\"right\")\n",
    "# plt.tight_layout()\n",
    "# plt.show()\n",
    "\n",
    "# #每年销售额的趋势\n",
    "# YearS_gp = train.groupby(['Year'])['Sales'].agg(\"mean\")\n",
    "# ax2 = sns.lineplot(YearS_gp.index,YearS_gp.values)\n",
    "# plt.tight_layout()\n",
    "# plt.show()"
   ]
  },
  {
   "cell_type": "code",
   "execution_count": 195,
   "metadata": {},
   "outputs": [],
   "source": [
    "# from sklearn.ensemble import GradientBoostingRegressor\n",
    "# print(train.size)\n",
    "# train.dropna(axis=0,how='any',inplace=True)\n",
    "# print(train.size)"
   ]
  },
  {
   "cell_type": "code",
   "execution_count": 196,
   "metadata": {},
   "outputs": [],
   "source": [
    "#split train vaild data\n",
    "from sklearn.model_selection import train_test_split\n",
    "X_train, X_valid = train_test_split(train, test_size=0.012, random_state=10)\n",
    "Y_train = X_train[\"Sales\"]\n",
    "Y_valid = X_valid[\"Sales\"]\n",
    "X_train.drop(\"Sales\",axis=1,inplace=True)\n",
    "X_valid.drop(\"Sales\",axis=1,inplace=True)"
   ]
  },
  {
   "cell_type": "code",
   "execution_count": 197,
   "metadata": {},
   "outputs": [
    {
     "data": {
      "image/png": "[encoded data removed]",
      "text/plain": [
       "<Figure size 432x288 with 1 Axes>"
      ]
     },
     "metadata": {
      "needs_background": "light"
     },
     "output_type": "display_data"
    }
   ],
   "source": [
    "plt.boxplot([Y_train,Y_valid])\n",
    "plt.show()"
   ]
  },
  {
   "cell_type": "code",
   "execution_count": 198,
   "metadata": {},
   "outputs": [
    {
     "data": {
      "image/png": "[encoded data removed]",
      "text/plain": [
       "<Figure size 432x288 with 1 Axes>"
      ]
     },
     "metadata": {
      "needs_background": "light"
     },
     "output_type": "display_data"
    }
   ],
   "source": [
    "Y_train = np.log1p(Y_train)\n",
    "Y_valid = np.log1p(Y_valid)\n",
    "plt.boxplot([Y_train,Y_valid])\n",
    "plt.show()"
   ]
  },
  {
   "cell_type": "code",
   "execution_count": 199,
   "metadata": {},
   "outputs": [],
   "source": [
    "def ToWeight(y):\n",
    "    w = np.zeros(y.shape, dtype=float)\n",
    "    ind = y != 0\n",
    "    w[ind] = 1./(y[ind]**2)\n",
    "    return w\n",
    "\n",
    "def rmspe(yhat, y):\n",
    "    w = ToWeight(y)\n",
    "    rmspe = np.sqrt(np.mean( w * (y - yhat)**2 ))\n",
    "    return rmspe\n",
    "\n",
    "def rmspe_xg(yhat, y):\n",
    "    # y = y.values\n",
    "    y = y.get_label()\n",
    "    y = np.exp(y) - 1\n",
    "    yhat = np.exp(yhat) - 1\n",
    "    w = ToWeight(y)\n",
    "    rmspe = np.sqrt(np.mean(w * (y - yhat)**2))\n",
    "    return \"rmspe\", rmspe\n",
    "\n",
    "epohs = 20"
   ]
  },
  {
   "cell_type": "code",
   "execution_count": 200,
   "metadata": {},
   "outputs": [
    {
     "name": "stdout",
     "output_type": "stream",
     "text": [
      "[0]\teval-rmse:7.02672\ttrain-rmse:7.03115\teval-rmspe:0.999145\ttrain-rmspe:0.999166\n",
      "Multiple eval metrics have been passed: 'train-rmspe' will be used for early stopping.\n",
      "\n",
      "Will train until train-rmspe hasn't improved in 50 rounds.\n",
      "[1]\teval-rmse:5.97551\ttrain-rmse:5.97944\teval-rmspe:0.99734\ttrain-rmspe:0.997367\n",
      "[2]\teval-rmse:5.08254\ttrain-rmse:5.08593\teval-rmspe:0.993355\ttrain-rmspe:0.993393\n",
      "[3]\teval-rmse:4.32332\ttrain-rmse:4.32632\teval-rmspe:0.985788\ttrain-rmspe:0.98584\n",
      "[4]\teval-rmse:3.67899\ttrain-rmse:3.68144\teval-rmspe:0.972914\ttrain-rmspe:0.97298\n",
      "[5]\teval-rmse:3.13112\ttrain-rmse:3.13355\teval-rmspe:0.953295\ttrain-rmspe:0.953399\n",
      "[6]\teval-rmse:2.66612\ttrain-rmse:2.66825\teval-rmspe:0.925861\ttrain-rmspe:0.926002\n",
      "[7]\teval-rmse:2.27184\ttrain-rmse:2.27372\teval-rmspe:0.890154\ttrain-rmspe:0.890378\n",
      "[8]\teval-rmse:1.93766\ttrain-rmse:1.93917\teval-rmspe:0.846786\ttrain-rmspe:0.847144\n",
      "[9]\teval-rmse:1.65322\ttrain-rmse:1.65429\teval-rmspe:0.797322\ttrain-rmspe:0.7979\n",
      "[10]\teval-rmse:1.4122\ttrain-rmse:1.41281\teval-rmspe:0.743197\ttrain-rmspe:0.744033\n",
      "[11]\teval-rmse:1.20856\ttrain-rmse:1.20899\teval-rmspe:0.685906\ttrain-rmspe:0.687291\n",
      "[12]\teval-rmse:1.03606\ttrain-rmse:1.03617\teval-rmspe:0.62787\ttrain-rmspe:0.629907\n",
      "[13]\teval-rmse:0.889283\ttrain-rmse:0.889176\teval-rmspe:0.570687\ttrain-rmspe:0.573783\n",
      "[14]\teval-rmse:0.766928\ttrain-rmse:0.766488\teval-rmspe:0.515851\ttrain-rmspe:0.520231\n",
      "[15]\teval-rmse:0.66438\ttrain-rmse:0.6633\teval-rmspe:0.464687\ttrain-rmspe:0.470651\n",
      "[16]\teval-rmse:0.578919\ttrain-rmse:0.577625\teval-rmspe:0.417961\ttrain-rmspe:0.42615\n",
      "[17]\teval-rmse:0.507838\ttrain-rmse:0.506071\teval-rmspe:0.376425\ttrain-rmspe:0.38727\n",
      "[18]\teval-rmse:0.449362\ttrain-rmse:0.447125\teval-rmspe:0.34043\ttrain-rmspe:0.353991\n",
      "[19]\teval-rmse:0.401829\ttrain-rmse:0.399003\teval-rmspe:0.310014\ttrain-rmspe:0.326555\n",
      "[20]\teval-rmse:0.360958\ttrain-rmse:0.357773\teval-rmspe:0.28361\ttrain-rmspe:0.30346\n",
      "[21]\teval-rmse:0.326423\ttrain-rmse:0.323005\teval-rmspe:0.26069\ttrain-rmspe:0.283706\n",
      "[22]\teval-rmse:0.299326\ttrain-rmse:0.295279\teval-rmspe:0.242932\ttrain-rmspe:0.268733\n",
      "[23]\teval-rmse:0.279195\ttrain-rmse:0.274747\teval-rmspe:0.23006\ttrain-rmspe:0.258394\n",
      "[24]\teval-rmse:0.263728\ttrain-rmse:0.258686\teval-rmspe:0.220653\ttrain-rmspe:0.250043\n",
      "[25]\teval-rmse:0.250971\ttrain-rmse:0.245702\teval-rmspe:0.213239\ttrain-rmspe:0.244823\n",
      "[26]\teval-rmse:0.241323\ttrain-rmse:0.235459\teval-rmspe:0.208255\ttrain-rmspe:0.240398\n",
      "[27]\teval-rmse:0.234242\ttrain-rmse:0.227875\teval-rmspe:0.205114\ttrain-rmspe:0.238488\n",
      "[28]\teval-rmse:0.225548\ttrain-rmse:0.218602\teval-rmspe:0.199617\ttrain-rmspe:0.234431\n",
      "[29]\teval-rmse:0.220958\ttrain-rmse:0.213683\teval-rmspe:0.197865\ttrain-rmspe:0.233942\n",
      "[30]\teval-rmse:0.214496\ttrain-rmse:0.207147\teval-rmspe:0.193957\ttrain-rmspe:0.231252\n",
      "[31]\teval-rmse:0.209778\ttrain-rmse:0.20235\teval-rmspe:0.191093\ttrain-rmspe:0.229607\n",
      "[32]\teval-rmse:0.206435\ttrain-rmse:0.198534\teval-rmspe:0.189581\ttrain-rmspe:0.228145\n",
      "[33]\teval-rmse:0.204347\ttrain-rmse:0.196324\teval-rmspe:0.188854\ttrain-rmspe:0.227593\n",
      "[34]\teval-rmse:0.200172\ttrain-rmse:0.191906\teval-rmspe:0.185649\ttrain-rmspe:0.225079\n",
      "[35]\teval-rmse:0.199019\ttrain-rmse:0.190451\teval-rmspe:0.185487\ttrain-rmspe:0.225057\n",
      "[36]\teval-rmse:0.197201\ttrain-rmse:0.188544\teval-rmspe:0.184497\ttrain-rmspe:0.224426\n",
      "[37]\teval-rmse:0.193844\ttrain-rmse:0.185011\teval-rmspe:0.181502\ttrain-rmspe:0.221392\n",
      "[38]\teval-rmse:0.191615\ttrain-rmse:0.182544\teval-rmspe:0.18007\ttrain-rmspe:0.219818\n",
      "[39]\teval-rmse:0.189088\ttrain-rmse:0.179822\teval-rmspe:0.177745\ttrain-rmspe:0.217901\n",
      "[40]\teval-rmse:0.188077\ttrain-rmse:0.178593\teval-rmspe:0.177103\ttrain-rmspe:0.217348\n",
      "[41]\teval-rmse:0.186493\ttrain-rmse:0.176712\teval-rmspe:0.175805\ttrain-rmspe:0.215877\n",
      "[42]\teval-rmse:0.182678\ttrain-rmse:0.172569\teval-rmspe:0.171678\ttrain-rmspe:0.212333\n",
      "[43]\teval-rmse:0.181421\ttrain-rmse:0.170997\teval-rmspe:0.170525\ttrain-rmspe:0.211426\n",
      "[44]\teval-rmse:0.181032\ttrain-rmse:0.170466\teval-rmspe:0.170312\ttrain-rmspe:0.211723\n",
      "[45]\teval-rmse:0.179712\ttrain-rmse:0.169073\teval-rmspe:0.169042\ttrain-rmspe:0.210636\n",
      "[46]\teval-rmse:0.176895\ttrain-rmse:0.165982\teval-rmspe:0.165915\ttrain-rmspe:0.207772\n",
      "[47]\teval-rmse:0.176645\ttrain-rmse:0.165685\teval-rmspe:0.165776\ttrain-rmspe:0.207732\n",
      "[48]\teval-rmse:0.17607\ttrain-rmse:0.164898\teval-rmspe:0.165168\ttrain-rmspe:0.206552\n",
      "[49]\teval-rmse:0.175816\ttrain-rmse:0.16406\teval-rmspe:0.164635\ttrain-rmspe:0.206017\n",
      "[50]\teval-rmse:0.175465\ttrain-rmse:0.163465\teval-rmspe:0.164294\ttrain-rmspe:0.204854\n",
      "[51]\teval-rmse:0.173399\ttrain-rmse:0.161193\teval-rmspe:0.161993\ttrain-rmspe:0.202753\n",
      "[52]\teval-rmse:0.171351\ttrain-rmse:0.158917\teval-rmspe:0.159482\ttrain-rmspe:0.20075\n",
      "[53]\teval-rmse:0.171261\ttrain-rmse:0.158815\teval-rmspe:0.15943\ttrain-rmspe:0.200787\n",
      "[54]\teval-rmse:0.169403\ttrain-rmse:0.156722\teval-rmspe:0.157256\ttrain-rmspe:0.199017\n",
      "[55]\teval-rmse:0.168922\ttrain-rmse:0.156109\teval-rmspe:0.156683\ttrain-rmspe:0.18584\n",
      "[56]\teval-rmse:0.168312\ttrain-rmse:0.155238\teval-rmspe:0.156011\ttrain-rmspe:0.181486\n",
      "[57]\teval-rmse:0.167493\ttrain-rmse:0.154143\teval-rmspe:0.15507\ttrain-rmspe:0.180425\n",
      "[58]\teval-rmse:0.166226\ttrain-rmse:0.152668\teval-rmspe:0.153714\ttrain-rmspe:0.178975\n",
      "[59]\teval-rmse:0.165819\ttrain-rmse:0.152074\teval-rmspe:0.153255\ttrain-rmspe:0.178224\n",
      "[60]\teval-rmse:0.164676\ttrain-rmse:0.150558\teval-rmspe:0.152055\ttrain-rmspe:0.17695\n",
      "[61]\teval-rmse:0.164424\ttrain-rmse:0.150179\teval-rmspe:0.15178\ttrain-rmspe:0.176606\n",
      "[62]\teval-rmse:0.164233\ttrain-rmse:0.150014\teval-rmspe:0.151612\ttrain-rmspe:0.176432\n",
      "[63]\teval-rmse:0.163696\ttrain-rmse:0.149275\teval-rmspe:0.15098\ttrain-rmspe:0.175582\n",
      "[64]\teval-rmse:0.163181\ttrain-rmse:0.148694\teval-rmspe:0.150409\ttrain-rmspe:0.174995\n",
      "[65]\teval-rmse:0.162976\ttrain-rmse:0.148228\teval-rmspe:0.150153\ttrain-rmspe:0.174498\n",
      "[66]\teval-rmse:0.162138\ttrain-rmse:0.147275\teval-rmspe:0.149146\ttrain-rmspe:0.173555\n",
      "[67]\teval-rmse:0.161686\ttrain-rmse:0.14676\teval-rmspe:0.148725\ttrain-rmspe:0.1733\n",
      "[68]\teval-rmse:0.160751\ttrain-rmse:0.14564\teval-rmspe:0.147889\ttrain-rmspe:0.172507\n",
      "[69]\teval-rmse:0.159757\ttrain-rmse:0.144412\teval-rmspe:0.146671\ttrain-rmspe:0.171326\n",
      "[70]\teval-rmse:0.159487\ttrain-rmse:0.144077\teval-rmspe:0.146275\ttrain-rmspe:0.170964\n",
      "[71]\teval-rmse:0.159038\ttrain-rmse:0.143162\teval-rmspe:0.1456\ttrain-rmspe:0.169447\n",
      "[72]\teval-rmse:0.158749\ttrain-rmse:0.142815\teval-rmspe:0.145262\ttrain-rmspe:0.16909\n",
      "[73]\teval-rmse:0.158168\ttrain-rmse:0.142093\teval-rmspe:0.144659\ttrain-rmspe:0.168408\n",
      "[74]\teval-rmse:0.15729\ttrain-rmse:0.141069\teval-rmspe:0.143656\ttrain-rmspe:0.167448\n",
      "[75]\teval-rmse:0.156907\ttrain-rmse:0.140578\teval-rmspe:0.143122\ttrain-rmspe:0.165192\n",
      "[76]\teval-rmse:0.156206\ttrain-rmse:0.139718\teval-rmspe:0.142487\ttrain-rmspe:0.164449\n",
      "[77]\teval-rmse:0.15601\ttrain-rmse:0.139416\teval-rmspe:0.142219\ttrain-rmspe:0.164248\n",
      "[78]\teval-rmse:0.154699\ttrain-rmse:0.137965\teval-rmspe:0.140673\ttrain-rmspe:0.162892\n",
      "[79]\teval-rmse:0.154086\ttrain-rmse:0.137176\teval-rmspe:0.139927\ttrain-rmspe:0.162002\n",
      "[80]\teval-rmse:0.153897\ttrain-rmse:0.136888\teval-rmspe:0.139673\ttrain-rmspe:0.161799\n",
      "[81]\teval-rmse:0.153711\ttrain-rmse:0.136503\teval-rmspe:0.139474\ttrain-rmspe:0.158996\n",
      "[82]\teval-rmse:0.153538\ttrain-rmse:0.136223\teval-rmspe:0.139266\ttrain-rmspe:0.158608\n",
      "[83]\teval-rmse:0.153487\ttrain-rmse:0.136024\teval-rmspe:0.139207\ttrain-rmspe:0.15848\n",
      "[84]\teval-rmse:0.152561\ttrain-rmse:0.135113\teval-rmspe:0.138048\ttrain-rmspe:0.15753\n",
      "[85]\teval-rmse:0.15235\ttrain-rmse:0.13475\teval-rmspe:0.137859\ttrain-rmspe:0.1519\n",
      "[86]\teval-rmse:0.152003\ttrain-rmse:0.134255\teval-rmspe:0.137495\ttrain-rmspe:0.151351\n",
      "[87]\teval-rmse:0.151538\ttrain-rmse:0.133673\teval-rmspe:0.137061\ttrain-rmspe:0.150779\n",
      "[88]\teval-rmse:0.151339\ttrain-rmse:0.133328\teval-rmspe:0.136737\ttrain-rmspe:0.149605\n",
      "[89]\teval-rmse:0.151061\ttrain-rmse:0.132524\teval-rmspe:0.136459\ttrain-rmspe:0.148538\n",
      "[90]\teval-rmse:0.150298\ttrain-rmse:0.131575\teval-rmspe:0.135513\ttrain-rmspe:0.14763\n",
      "[91]\teval-rmse:0.149824\ttrain-rmse:0.13094\teval-rmspe:0.134887\ttrain-rmspe:0.146412\n",
      "[92]\teval-rmse:0.149432\ttrain-rmse:0.130361\teval-rmspe:0.134384\ttrain-rmspe:0.145825\n",
      "[93]\teval-rmse:0.148798\ttrain-rmse:0.129648\teval-rmspe:0.133608\ttrain-rmspe:0.145136\n",
      "[94]\teval-rmse:0.148194\ttrain-rmse:0.128838\teval-rmspe:0.132886\ttrain-rmspe:0.144313\n",
      "[95]\teval-rmse:0.147842\ttrain-rmse:0.12834\teval-rmspe:0.132472\ttrain-rmspe:0.143799\n"
     ]
    },
    {
     "name": "stdout",
     "output_type": "stream",
     "text": [
      "[96]\teval-rmse:0.147707\ttrain-rmse:0.128033\teval-rmspe:0.132306\ttrain-rmspe:0.143471\n",
      "[97]\teval-rmse:0.14709\ttrain-rmse:0.12733\teval-rmspe:0.131473\ttrain-rmspe:0.142812\n",
      "[98]\teval-rmse:0.146995\ttrain-rmse:0.127202\teval-rmspe:0.131363\ttrain-rmspe:0.14268\n",
      "[99]\teval-rmse:0.146827\ttrain-rmse:0.126749\teval-rmspe:0.131036\ttrain-rmspe:0.142019\n",
      "[100]\teval-rmse:0.146258\ttrain-rmse:0.126062\teval-rmspe:0.130403\ttrain-rmspe:0.141304\n",
      "[101]\teval-rmse:0.146086\ttrain-rmse:0.125597\teval-rmspe:0.130268\ttrain-rmspe:0.140785\n",
      "[102]\teval-rmse:0.14579\ttrain-rmse:0.125209\teval-rmspe:0.129929\ttrain-rmspe:0.140151\n",
      "[103]\teval-rmse:0.145523\ttrain-rmse:0.124799\teval-rmspe:0.129582\ttrain-rmspe:0.13974\n",
      "[104]\teval-rmse:0.145251\ttrain-rmse:0.124399\teval-rmspe:0.129318\ttrain-rmspe:0.139366\n",
      "[105]\teval-rmse:0.144953\ttrain-rmse:0.123959\teval-rmspe:0.128878\ttrain-rmspe:0.138944\n",
      "[106]\teval-rmse:0.144639\ttrain-rmse:0.123625\teval-rmspe:0.128473\ttrain-rmspe:0.138614\n",
      "[107]\teval-rmse:0.144565\ttrain-rmse:0.12342\teval-rmspe:0.128351\ttrain-rmspe:0.138339\n",
      "[108]\teval-rmse:0.144274\ttrain-rmse:0.123122\teval-rmspe:0.127977\ttrain-rmspe:0.137996\n",
      "[109]\teval-rmse:0.144121\ttrain-rmse:0.122839\teval-rmspe:0.12777\ttrain-rmspe:0.137712\n",
      "[110]\teval-rmse:0.144085\ttrain-rmse:0.122783\teval-rmspe:0.127739\ttrain-rmspe:0.137646\n",
      "[111]\teval-rmse:0.143931\ttrain-rmse:0.122476\teval-rmspe:0.127648\ttrain-rmspe:0.137243\n",
      "[112]\teval-rmse:0.14385\ttrain-rmse:0.12212\teval-rmspe:0.127637\ttrain-rmspe:0.13701\n",
      "[113]\teval-rmse:0.143597\ttrain-rmse:0.121828\teval-rmspe:0.127375\ttrain-rmspe:0.136712\n",
      "[114]\teval-rmse:0.143324\ttrain-rmse:0.121411\teval-rmspe:0.127036\ttrain-rmspe:0.136183\n",
      "[115]\teval-rmse:0.143199\ttrain-rmse:0.121206\teval-rmspe:0.126871\ttrain-rmspe:0.135896\n",
      "[116]\teval-rmse:0.143074\ttrain-rmse:0.120994\teval-rmspe:0.126709\ttrain-rmspe:0.135649\n",
      "[117]\teval-rmse:0.142907\ttrain-rmse:0.120704\teval-rmspe:0.126529\ttrain-rmspe:0.13528\n",
      "[118]\teval-rmse:0.142744\ttrain-rmse:0.120362\teval-rmspe:0.126331\ttrain-rmspe:0.134839\n",
      "[119]\teval-rmse:0.142626\ttrain-rmse:0.120016\teval-rmspe:0.126249\ttrain-rmspe:0.134615\n",
      "[120]\teval-rmse:0.142539\ttrain-rmse:0.119724\teval-rmspe:0.126146\ttrain-rmspe:0.134088\n",
      "[121]\teval-rmse:0.142537\ttrain-rmse:0.119419\teval-rmspe:0.125983\ttrain-rmspe:0.13387\n",
      "[122]\teval-rmse:0.142508\ttrain-rmse:0.119259\teval-rmspe:0.125926\ttrain-rmspe:0.13334\n",
      "[123]\teval-rmse:0.142291\ttrain-rmse:0.119005\teval-rmspe:0.125712\ttrain-rmspe:0.133141\n",
      "[124]\teval-rmse:0.142001\ttrain-rmse:0.118591\teval-rmspe:0.125313\ttrain-rmspe:0.132735\n",
      "[125]\teval-rmse:0.141823\ttrain-rmse:0.118321\teval-rmspe:0.125107\ttrain-rmspe:0.132412\n",
      "[126]\teval-rmse:0.141608\ttrain-rmse:0.118052\teval-rmspe:0.125033\ttrain-rmspe:0.132134\n",
      "[127]\teval-rmse:0.141297\ttrain-rmse:0.117542\teval-rmspe:0.124645\ttrain-rmspe:0.131683\n",
      "[128]\teval-rmse:0.141198\ttrain-rmse:0.117385\teval-rmspe:0.124584\ttrain-rmspe:0.131493\n",
      "[129]\teval-rmse:0.140955\ttrain-rmse:0.117073\teval-rmspe:0.12437\ttrain-rmspe:0.131185\n",
      "[130]\teval-rmse:0.140876\ttrain-rmse:0.116681\teval-rmspe:0.124288\ttrain-rmspe:0.130946\n",
      "[131]\teval-rmse:0.140781\ttrain-rmse:0.116414\teval-rmspe:0.124136\ttrain-rmspe:0.130653\n",
      "[132]\teval-rmse:0.140647\ttrain-rmse:0.116242\teval-rmspe:0.123983\ttrain-rmspe:0.13049\n",
      "[133]\teval-rmse:0.14063\ttrain-rmse:0.116175\teval-rmspe:0.123972\ttrain-rmspe:0.1302\n",
      "[134]\teval-rmse:0.140634\ttrain-rmse:0.115834\teval-rmspe:0.123916\ttrain-rmspe:0.130001\n",
      "[135]\teval-rmse:0.140546\ttrain-rmse:0.115526\teval-rmspe:0.123772\ttrain-rmspe:0.12959\n",
      "[136]\teval-rmse:0.140424\ttrain-rmse:0.115339\teval-rmspe:0.123567\ttrain-rmspe:0.129137\n",
      "[137]\teval-rmse:0.140317\ttrain-rmse:0.115162\teval-rmspe:0.123385\ttrain-rmspe:0.128961\n",
      "[138]\teval-rmse:0.1402\ttrain-rmse:0.114897\teval-rmspe:0.123227\ttrain-rmspe:0.128788\n",
      "[139]\teval-rmse:0.140172\ttrain-rmse:0.114719\teval-rmspe:0.123251\ttrain-rmspe:0.128553\n",
      "[140]\teval-rmse:0.140057\ttrain-rmse:0.114582\teval-rmspe:0.123058\ttrain-rmspe:0.128352\n",
      "[141]\teval-rmse:0.139916\ttrain-rmse:0.114401\teval-rmspe:0.122841\ttrain-rmspe:0.128167\n",
      "[142]\teval-rmse:0.139842\ttrain-rmse:0.114196\teval-rmspe:0.122784\ttrain-rmspe:0.127433\n",
      "[143]\teval-rmse:0.139792\ttrain-rmse:0.1141\teval-rmspe:0.122684\ttrain-rmspe:0.127312\n",
      "[144]\teval-rmse:0.1397\ttrain-rmse:0.113833\teval-rmspe:0.122658\ttrain-rmspe:0.126994\n",
      "[145]\teval-rmse:0.139541\ttrain-rmse:0.113675\teval-rmspe:0.122475\ttrain-rmspe:0.126831\n",
      "[146]\teval-rmse:0.139602\ttrain-rmse:0.113544\teval-rmspe:0.122429\ttrain-rmspe:0.126731\n",
      "[147]\teval-rmse:0.13953\ttrain-rmse:0.113398\teval-rmspe:0.122324\ttrain-rmspe:0.126361\n",
      "[148]\teval-rmse:0.139419\ttrain-rmse:0.113141\teval-rmspe:0.122218\ttrain-rmspe:0.126149\n",
      "[149]\teval-rmse:0.139188\ttrain-rmse:0.112773\teval-rmspe:0.121877\ttrain-rmspe:0.125771\n",
      "[150]\teval-rmse:0.139037\ttrain-rmse:0.112472\teval-rmspe:0.121661\ttrain-rmspe:0.125422\n",
      "[151]\teval-rmse:0.13894\ttrain-rmse:0.112113\teval-rmspe:0.121544\ttrain-rmspe:0.124868\n",
      "[152]\teval-rmse:0.13889\ttrain-rmse:0.111979\teval-rmspe:0.121574\ttrain-rmspe:0.124673\n",
      "[153]\teval-rmse:0.138844\ttrain-rmse:0.111885\teval-rmspe:0.121511\ttrain-rmspe:0.124487\n",
      "[154]\teval-rmse:0.138687\ttrain-rmse:0.111657\teval-rmspe:0.121342\ttrain-rmspe:0.124267\n",
      "[155]\teval-rmse:0.138581\ttrain-rmse:0.111454\teval-rmspe:0.121189\ttrain-rmspe:0.124237\n",
      "[156]\teval-rmse:0.138564\ttrain-rmse:0.11136\teval-rmspe:0.121162\ttrain-rmspe:0.124141\n",
      "[157]\teval-rmse:0.138547\ttrain-rmse:0.111051\teval-rmspe:0.121138\ttrain-rmspe:0.123886\n",
      "[158]\teval-rmse:0.138469\ttrain-rmse:0.110775\teval-rmspe:0.120969\ttrain-rmspe:0.12369\n",
      "[159]\teval-rmse:0.13833\ttrain-rmse:0.110557\teval-rmspe:0.120795\ttrain-rmspe:0.123447\n",
      "[160]\teval-rmse:0.138248\ttrain-rmse:0.110396\teval-rmspe:0.120715\ttrain-rmspe:0.123294\n",
      "[161]\teval-rmse:0.138048\ttrain-rmse:0.110072\teval-rmspe:0.12045\ttrain-rmspe:0.122362\n",
      "[162]\teval-rmse:0.13796\ttrain-rmse:0.109721\teval-rmspe:0.120289\ttrain-rmspe:0.122119\n",
      "[163]\teval-rmse:0.137929\ttrain-rmse:0.109611\teval-rmspe:0.1203\ttrain-rmspe:0.122001\n",
      "[164]\teval-rmse:0.137842\ttrain-rmse:0.109397\teval-rmspe:0.120204\ttrain-rmspe:0.118926\n",
      "[165]\teval-rmse:0.137834\ttrain-rmse:0.109295\teval-rmspe:0.1202\ttrain-rmspe:0.118812\n",
      "[166]\teval-rmse:0.137792\ttrain-rmse:0.109244\teval-rmspe:0.120142\ttrain-rmspe:0.118726\n",
      "[167]\teval-rmse:0.137703\ttrain-rmse:0.10907\teval-rmspe:0.120111\ttrain-rmspe:0.118555\n",
      "[168]\teval-rmse:0.13766\ttrain-rmse:0.108805\teval-rmspe:0.120116\ttrain-rmspe:0.118205\n",
      "[169]\teval-rmse:0.137485\ttrain-rmse:0.108627\teval-rmspe:0.119894\ttrain-rmspe:0.118014\n",
      "[170]\teval-rmse:0.137477\ttrain-rmse:0.108576\teval-rmspe:0.119862\ttrain-rmspe:0.117971\n",
      "[171]\teval-rmse:0.137546\ttrain-rmse:0.108418\teval-rmspe:0.119783\ttrain-rmspe:0.117792\n",
      "[172]\teval-rmse:0.137493\ttrain-rmse:0.108325\teval-rmspe:0.119719\ttrain-rmspe:0.117692\n",
      "[173]\teval-rmse:0.137497\ttrain-rmse:0.108106\teval-rmspe:0.11974\ttrain-rmspe:0.117509\n",
      "[174]\teval-rmse:0.137401\ttrain-rmse:0.10779\teval-rmspe:0.11973\ttrain-rmspe:0.117246\n",
      "[175]\teval-rmse:0.137327\ttrain-rmse:0.107546\teval-rmspe:0.119663\ttrain-rmspe:0.117087\n",
      "[176]\teval-rmse:0.137305\ttrain-rmse:0.107177\teval-rmspe:0.119613\ttrain-rmspe:0.116879\n",
      "[177]\teval-rmse:0.137202\ttrain-rmse:0.107018\teval-rmspe:0.119495\ttrain-rmspe:0.116716\n",
      "[178]\teval-rmse:0.136977\ttrain-rmse:0.106676\teval-rmspe:0.119248\ttrain-rmspe:0.1163\n",
      "[179]\teval-rmse:0.136977\ttrain-rmse:0.10654\teval-rmspe:0.119189\ttrain-rmspe:0.11612\n",
      "[180]\teval-rmse:0.136985\ttrain-rmse:0.106392\teval-rmspe:0.119185\ttrain-rmspe:0.11586\n",
      "[181]\teval-rmse:0.136843\ttrain-rmse:0.106293\teval-rmspe:0.119118\ttrain-rmspe:0.115764\n",
      "[182]\teval-rmse:0.136885\ttrain-rmse:0.106099\teval-rmspe:0.119136\ttrain-rmspe:0.115616\n",
      "[183]\teval-rmse:0.136823\ttrain-rmse:0.10599\teval-rmspe:0.119037\ttrain-rmspe:0.11547\n",
      "[184]\teval-rmse:0.136781\ttrain-rmse:0.105938\teval-rmspe:0.118985\ttrain-rmspe:0.115421\n",
      "[185]\teval-rmse:0.136695\ttrain-rmse:0.105771\teval-rmspe:0.118863\ttrain-rmspe:0.115277\n",
      "[186]\teval-rmse:0.136581\ttrain-rmse:0.105505\teval-rmspe:0.118737\ttrain-rmspe:0.114873\n",
      "[187]\teval-rmse:0.13646\ttrain-rmse:0.105045\teval-rmspe:0.118595\ttrain-rmspe:0.114624\n",
      "[188]\teval-rmse:0.136483\ttrain-rmse:0.104956\teval-rmspe:0.118644\ttrain-rmspe:0.114538\n",
      "[189]\teval-rmse:0.136443\ttrain-rmse:0.104826\teval-rmspe:0.118585\ttrain-rmspe:0.114486\n",
      "[190]\teval-rmse:0.136372\ttrain-rmse:0.104506\teval-rmspe:0.118614\ttrain-rmspe:0.114275\n",
      "[191]\teval-rmse:0.136321\ttrain-rmse:0.104349\teval-rmspe:0.118599\ttrain-rmspe:0.114071\n"
     ]
    },
    {
     "name": "stdout",
     "output_type": "stream",
     "text": [
      "[192]\teval-rmse:0.136266\ttrain-rmse:0.104289\teval-rmspe:0.118542\ttrain-rmspe:0.114015\n",
      "[193]\teval-rmse:0.136242\ttrain-rmse:0.104097\teval-rmspe:0.118492\ttrain-rmspe:0.113693\n",
      "[194]\teval-rmse:0.136161\ttrain-rmse:0.103939\teval-rmspe:0.118401\ttrain-rmspe:0.113571\n",
      "[195]\teval-rmse:0.136153\ttrain-rmse:0.103835\teval-rmspe:0.118348\ttrain-rmspe:0.113447\n",
      "[196]\teval-rmse:0.136047\ttrain-rmse:0.103622\teval-rmspe:0.118208\ttrain-rmspe:0.113146\n",
      "[197]\teval-rmse:0.135996\ttrain-rmse:0.103446\teval-rmspe:0.118107\ttrain-rmspe:0.112976\n",
      "[198]\teval-rmse:0.136005\ttrain-rmse:0.103269\teval-rmspe:0.118056\ttrain-rmspe:0.112774\n",
      "[199]\teval-rmse:0.135971\ttrain-rmse:0.103161\teval-rmspe:0.118026\ttrain-rmspe:0.112688\n",
      "[200]\teval-rmse:0.135946\ttrain-rmse:0.103028\teval-rmspe:0.117848\ttrain-rmspe:0.112541\n",
      "[201]\teval-rmse:0.135923\ttrain-rmse:0.102913\teval-rmspe:0.117773\ttrain-rmspe:0.112395\n",
      "[202]\teval-rmse:0.135875\ttrain-rmse:0.102776\teval-rmspe:0.117741\ttrain-rmspe:0.112223\n",
      "[203]\teval-rmse:0.135798\ttrain-rmse:0.102663\teval-rmspe:0.11761\ttrain-rmspe:0.112111\n",
      "[204]\teval-rmse:0.13578\ttrain-rmse:0.102613\teval-rmspe:0.117598\ttrain-rmspe:0.112035\n",
      "[205]\teval-rmse:0.135761\ttrain-rmse:0.102595\teval-rmspe:0.117595\ttrain-rmspe:0.112012\n",
      "[206]\teval-rmse:0.135716\ttrain-rmse:0.102509\teval-rmspe:0.117546\ttrain-rmspe:0.111956\n",
      "[207]\teval-rmse:0.135614\ttrain-rmse:0.102322\teval-rmspe:0.117263\ttrain-rmspe:0.111772\n",
      "[208]\teval-rmse:0.135593\ttrain-rmse:0.102043\teval-rmspe:0.117184\ttrain-rmspe:0.109537\n",
      "[209]\teval-rmse:0.135601\ttrain-rmse:0.10188\teval-rmspe:0.117337\ttrain-rmspe:0.109378\n",
      "[210]\teval-rmse:0.135577\ttrain-rmse:0.101784\teval-rmspe:0.117296\ttrain-rmspe:0.109271\n",
      "[211]\teval-rmse:0.13553\ttrain-rmse:0.101681\teval-rmspe:0.117296\ttrain-rmspe:0.109164\n",
      "[212]\teval-rmse:0.135517\ttrain-rmse:0.101586\teval-rmspe:0.117269\ttrain-rmspe:0.10911\n",
      "[213]\teval-rmse:0.135373\ttrain-rmse:0.101251\teval-rmspe:0.117089\ttrain-rmspe:0.10883\n",
      "[214]\teval-rmse:0.135324\ttrain-rmse:0.101163\teval-rmspe:0.117031\ttrain-rmspe:0.108689\n",
      "[215]\teval-rmse:0.135317\ttrain-rmse:0.10108\teval-rmspe:0.116985\ttrain-rmspe:0.108596\n",
      "[216]\teval-rmse:0.135313\ttrain-rmse:0.100927\teval-rmspe:0.116987\ttrain-rmspe:0.108522\n",
      "[217]\teval-rmse:0.135262\ttrain-rmse:0.100788\teval-rmspe:0.116949\ttrain-rmspe:0.108408\n",
      "[218]\teval-rmse:0.13519\ttrain-rmse:0.100694\teval-rmspe:0.11687\ttrain-rmspe:0.108419\n",
      "[219]\teval-rmse:0.135124\ttrain-rmse:0.100613\teval-rmspe:0.116798\ttrain-rmspe:0.108365\n",
      "[220]\teval-rmse:0.13511\ttrain-rmse:0.100548\teval-rmspe:0.116818\ttrain-rmspe:0.108283\n",
      "[221]\teval-rmse:0.135057\ttrain-rmse:0.100387\teval-rmspe:0.116769\ttrain-rmspe:0.10779\n",
      "[222]\teval-rmse:0.134995\ttrain-rmse:0.100306\teval-rmspe:0.116658\ttrain-rmspe:0.107696\n",
      "[223]\teval-rmse:0.134973\ttrain-rmse:0.100216\teval-rmspe:0.116631\ttrain-rmspe:0.107601\n",
      "[224]\teval-rmse:0.134863\ttrain-rmse:0.100087\teval-rmspe:0.116463\ttrain-rmspe:0.107472\n",
      "[225]\teval-rmse:0.134844\ttrain-rmse:0.099779\teval-rmspe:0.116392\ttrain-rmspe:0.107362\n",
      "[226]\teval-rmse:0.134861\ttrain-rmse:0.099746\teval-rmspe:0.116436\ttrain-rmspe:0.107337\n",
      "[227]\teval-rmse:0.134819\ttrain-rmse:0.099639\teval-rmspe:0.116208\ttrain-rmspe:0.107246\n",
      "[228]\teval-rmse:0.134756\ttrain-rmse:0.099461\teval-rmspe:0.116101\ttrain-rmspe:0.107086\n",
      "[229]\teval-rmse:0.134687\ttrain-rmse:0.099285\teval-rmspe:0.115898\ttrain-rmspe:0.106937\n",
      "[230]\teval-rmse:0.134663\ttrain-rmse:0.09926\teval-rmspe:0.115863\ttrain-rmspe:0.106903\n",
      "[231]\teval-rmse:0.134511\ttrain-rmse:0.09909\teval-rmspe:0.115691\ttrain-rmspe:0.106763\n",
      "[232]\teval-rmse:0.134493\ttrain-rmse:0.098746\teval-rmspe:0.115649\ttrain-rmspe:0.106537\n",
      "[233]\teval-rmse:0.134484\ttrain-rmse:0.098573\teval-rmspe:0.115638\ttrain-rmspe:0.106412\n",
      "[234]\teval-rmse:0.134473\ttrain-rmse:0.09837\teval-rmspe:0.115534\ttrain-rmspe:0.106225\n",
      "[235]\teval-rmse:0.134397\ttrain-rmse:0.098191\teval-rmspe:0.11543\ttrain-rmspe:0.105714\n",
      "[236]\teval-rmse:0.134347\ttrain-rmse:0.098104\teval-rmspe:0.115391\ttrain-rmspe:0.105661\n",
      "[237]\teval-rmse:0.134338\ttrain-rmse:0.097985\teval-rmspe:0.115419\ttrain-rmspe:0.105562\n",
      "[238]\teval-rmse:0.134314\ttrain-rmse:0.097876\teval-rmspe:0.115371\ttrain-rmspe:0.105456\n",
      "[239]\teval-rmse:0.13429\ttrain-rmse:0.097802\teval-rmspe:0.115339\ttrain-rmspe:0.105399\n",
      "[240]\teval-rmse:0.13423\ttrain-rmse:0.097445\teval-rmspe:0.115117\ttrain-rmspe:0.105141\n",
      "[241]\teval-rmse:0.134201\ttrain-rmse:0.097411\teval-rmspe:0.115108\ttrain-rmspe:0.105108\n",
      "[242]\teval-rmse:0.134198\ttrain-rmse:0.097343\teval-rmspe:0.115096\ttrain-rmspe:0.104996\n",
      "[243]\teval-rmse:0.134184\ttrain-rmse:0.097249\teval-rmspe:0.115081\ttrain-rmspe:0.104842\n",
      "[244]\teval-rmse:0.134146\ttrain-rmse:0.097096\teval-rmspe:0.114935\ttrain-rmspe:0.104725\n",
      "[245]\teval-rmse:0.134163\ttrain-rmse:0.097032\teval-rmspe:0.114912\ttrain-rmspe:0.104669\n",
      "[246]\teval-rmse:0.134113\ttrain-rmse:0.096971\teval-rmspe:0.11485\ttrain-rmspe:0.104611\n",
      "[247]\teval-rmse:0.13408\ttrain-rmse:0.096696\teval-rmspe:0.114812\ttrain-rmspe:0.104404\n",
      "[248]\teval-rmse:0.134089\ttrain-rmse:0.09664\teval-rmspe:0.114836\ttrain-rmspe:0.104225\n",
      "[249]\teval-rmse:0.13412\ttrain-rmse:0.096494\teval-rmspe:0.114927\ttrain-rmspe:0.104095\n",
      "[250]\teval-rmse:0.134102\ttrain-rmse:0.096453\teval-rmspe:0.114896\ttrain-rmspe:0.104042\n",
      "[251]\teval-rmse:0.134218\ttrain-rmse:0.09618\teval-rmspe:0.115084\ttrain-rmspe:0.103797\n",
      "[252]\teval-rmse:0.134206\ttrain-rmse:0.09594\teval-rmspe:0.114955\ttrain-rmspe:0.103691\n",
      "[253]\teval-rmse:0.134224\ttrain-rmse:0.095767\teval-rmspe:0.115041\ttrain-rmspe:0.10326\n",
      "[254]\teval-rmse:0.134168\ttrain-rmse:0.095592\teval-rmspe:0.114898\ttrain-rmspe:0.103163\n",
      "[255]\teval-rmse:0.134145\ttrain-rmse:0.095484\teval-rmspe:0.114804\ttrain-rmspe:0.103081\n",
      "[256]\teval-rmse:0.134166\ttrain-rmse:0.095386\teval-rmspe:0.114826\ttrain-rmspe:0.103018\n",
      "[257]\teval-rmse:0.134179\ttrain-rmse:0.095307\teval-rmspe:0.114902\ttrain-rmspe:0.102977\n",
      "[258]\teval-rmse:0.134186\ttrain-rmse:0.095258\teval-rmspe:0.114935\ttrain-rmspe:0.102944\n",
      "[259]\teval-rmse:0.134122\ttrain-rmse:0.095184\teval-rmspe:0.114866\ttrain-rmspe:0.102847\n",
      "[260]\teval-rmse:0.134087\ttrain-rmse:0.095063\teval-rmspe:0.114772\ttrain-rmspe:0.102639\n",
      "[261]\teval-rmse:0.134025\ttrain-rmse:0.094981\teval-rmspe:0.114733\ttrain-rmspe:0.102577\n",
      "[262]\teval-rmse:0.13402\ttrain-rmse:0.094885\teval-rmspe:0.114826\ttrain-rmspe:0.102485\n",
      "[263]\teval-rmse:0.133997\ttrain-rmse:0.09475\teval-rmspe:0.114782\ttrain-rmspe:0.102364\n",
      "[264]\teval-rmse:0.133961\ttrain-rmse:0.094675\teval-rmspe:0.114709\ttrain-rmspe:0.102262\n",
      "[265]\teval-rmse:0.133963\ttrain-rmse:0.094599\teval-rmspe:0.114737\ttrain-rmspe:0.101898\n",
      "[266]\teval-rmse:0.133986\ttrain-rmse:0.094513\teval-rmspe:0.114733\ttrain-rmspe:0.10182\n",
      "[267]\teval-rmse:0.133964\ttrain-rmse:0.094425\teval-rmspe:0.114695\ttrain-rmspe:0.101753\n",
      "[268]\teval-rmse:0.133875\ttrain-rmse:0.094341\teval-rmspe:0.114552\ttrain-rmspe:0.101621\n",
      "[269]\teval-rmse:0.133873\ttrain-rmse:0.094301\teval-rmspe:0.114532\ttrain-rmspe:0.101562\n",
      "[270]\teval-rmse:0.13387\ttrain-rmse:0.094228\teval-rmspe:0.114533\ttrain-rmspe:0.101349\n",
      "[271]\teval-rmse:0.134004\ttrain-rmse:0.094113\teval-rmspe:0.114592\ttrain-rmspe:0.101239\n",
      "[272]\teval-rmse:0.134086\ttrain-rmse:0.093926\teval-rmspe:0.114631\ttrain-rmspe:0.101118\n",
      "[273]\teval-rmse:0.134099\ttrain-rmse:0.093906\teval-rmspe:0.114652\ttrain-rmspe:0.101106\n",
      "[274]\teval-rmse:0.134061\ttrain-rmse:0.093831\teval-rmspe:0.114616\ttrain-rmspe:0.101031\n",
      "[275]\teval-rmse:0.134098\ttrain-rmse:0.093686\teval-rmspe:0.114667\ttrain-rmspe:0.10096\n",
      "[276]\teval-rmse:0.133983\ttrain-rmse:0.093516\teval-rmspe:0.114601\ttrain-rmspe:0.100986\n",
      "[277]\teval-rmse:0.134029\ttrain-rmse:0.093451\teval-rmspe:0.114601\ttrain-rmspe:0.10092\n",
      "[278]\teval-rmse:0.134023\ttrain-rmse:0.093322\teval-rmspe:0.11455\ttrain-rmspe:0.100903\n",
      "[279]\teval-rmse:0.13403\ttrain-rmse:0.093225\teval-rmspe:0.114541\ttrain-rmspe:0.100825\n",
      "[280]\teval-rmse:0.134015\ttrain-rmse:0.093189\teval-rmspe:0.114519\ttrain-rmspe:0.100767\n",
      "[281]\teval-rmse:0.134011\ttrain-rmse:0.093149\teval-rmspe:0.114524\ttrain-rmspe:0.10071\n",
      "[282]\teval-rmse:0.13402\ttrain-rmse:0.093017\teval-rmspe:0.114602\ttrain-rmspe:0.100602\n",
      "[283]\teval-rmse:0.134009\ttrain-rmse:0.092945\teval-rmspe:0.114579\ttrain-rmspe:0.100539\n",
      "[284]\teval-rmse:0.134035\ttrain-rmse:0.092885\teval-rmspe:0.114562\ttrain-rmspe:0.100435\n",
      "[285]\teval-rmse:0.134005\ttrain-rmse:0.092764\teval-rmspe:0.11455\ttrain-rmspe:0.100332\n",
      "[286]\teval-rmse:0.133999\ttrain-rmse:0.092681\teval-rmspe:0.114562\ttrain-rmspe:0.100303\n",
      "[287]\teval-rmse:0.133991\ttrain-rmse:0.092622\teval-rmspe:0.114575\ttrain-rmspe:0.10042\n"
     ]
    },
    {
     "name": "stdout",
     "output_type": "stream",
     "text": [
      "[288]\teval-rmse:0.133964\ttrain-rmse:0.092567\teval-rmspe:0.114521\ttrain-rmspe:0.100313\n",
      "[289]\teval-rmse:0.133966\ttrain-rmse:0.092494\teval-rmspe:0.114532\ttrain-rmspe:0.10025\n",
      "[290]\teval-rmse:0.133908\ttrain-rmse:0.092456\teval-rmspe:0.114512\ttrain-rmspe:0.100237\n",
      "[291]\teval-rmse:0.133884\ttrain-rmse:0.092378\teval-rmspe:0.11449\ttrain-rmspe:0.100175\n",
      "[292]\teval-rmse:0.13386\ttrain-rmse:0.092318\teval-rmspe:0.114417\ttrain-rmspe:0.09995\n",
      "[293]\teval-rmse:0.133827\ttrain-rmse:0.092165\teval-rmspe:0.114354\ttrain-rmspe:0.099624\n",
      "[294]\teval-rmse:0.133791\ttrain-rmse:0.092057\teval-rmspe:0.114323\ttrain-rmspe:0.099141\n",
      "[295]\teval-rmse:0.133714\ttrain-rmse:0.091921\teval-rmspe:0.114277\ttrain-rmspe:0.09896\n",
      "[296]\teval-rmse:0.133724\ttrain-rmse:0.091834\teval-rmspe:0.114398\ttrain-rmspe:0.098926\n",
      "[297]\teval-rmse:0.133746\ttrain-rmse:0.09177\teval-rmspe:0.114433\ttrain-rmspe:0.098863\n",
      "[298]\teval-rmse:0.133779\ttrain-rmse:0.091662\teval-rmspe:0.114416\ttrain-rmspe:0.098987\n",
      "[299]\teval-rmse:0.133795\ttrain-rmse:0.091598\teval-rmspe:0.114427\ttrain-rmspe:0.09893\n"
     ]
    }
   ],
   "source": [
    "params = {\"objective\": \"reg:linear\",\n",
    "          \"eta\": 0.15,\n",
    "          \"max_depth\": 12,\n",
    "          \"subsample\": 0.7,\n",
    "          \"colsample_bytree\": 0.7,\n",
    "          \"silent\": 1\n",
    "          }\n",
    "num_trees = 300\n",
    "\n",
    "dtrain = xgb.DMatrix(X_train, Y_train)\n",
    "dvalid = xgb.DMatrix(X_valid, Y_valid)\n",
    "dtest = xgb.DMatrix(test)\n",
    "watchlist = [(dvalid, 'eval'), (dtrain, 'train')]\n",
    "ret = {}\n",
    "gbm = xgb.train(params, dtrain, num_trees, evals=watchlist, early_stopping_rounds=50,evals_result =ret, feval=rmspe_xg, verbose_eval=True)"
   ]
  },
  {
   "cell_type": "code",
   "execution_count": 201,
   "metadata": {},
   "outputs": [
    {
     "data": {
      "image/png": "[encoded data removed]",
      "text/plain": [
       "<Figure size 432x288 with 1 Axes>"
      ]
     },
     "metadata": {
      "needs_background": "light"
     },
     "output_type": "display_data"
    }
   ],
   "source": [
    "evaldata = ret['eval']['rmspe'][0:300:10]\n",
    "traindata = ret['train']['rmspe'][0:300:10]\n",
    "plt.plot(range(0,300,10),evaldata,color='red',label=\"eval\")\n",
    "plt.plot(range(0,300,10),traindata,color='blue',label=\"train\")\n",
    "plt.legend(loc='best')\n",
    "y_tick = np.arange(0,1,0.1)\n",
    "plt.yticks(y_tick)\n",
    "plt.show()"
   ]
  },
  {
   "cell_type": "code",
   "execution_count": 205,
   "metadata": {},
   "outputs": [
    {
     "data": {
      "text/plain": [
       "<matplotlib.axes._subplots.AxesSubplot at 0x134640f0>"
      ]
     },
     "execution_count": 205,
     "metadata": {},
     "output_type": "execute_result"
    },
    {
     "data": {
      "image/png": "[encoded data removed]",
      "text/plain": [
       "<Figure size 432x288 with 1 Axes>"
      ]
     },
     "metadata": {
      "needs_background": "light"
     },
     "output_type": "display_data"
    }
   ],
   "source": [
    "#从最终的训练importnace中看果然是时间序列影响比较大\n",
    "xgb.plot_importance(gbm)"
   ]
  },
  {
   "cell_type": "code",
   "execution_count": 206,
   "metadata": {},
   "outputs": [
    {
     "name": "stdout",
     "output_type": "stream",
     "text": [
      "[  544   677   841 ... 40230 40231 40232]\n"
     ]
    }
   ],
   "source": [
    "#预测测试数据\n",
    "regetTest = pd.read_csv(\"./test.csv\")\n",
    "replaceID = regetTest[regetTest.Open == 0.0]['Id']\n",
    "print(replaceID.values)\n",
    "test_probs = gbm.predict(dtest)\n",
    "result = pd.DataFrame({\"Id\": TESTID , 'Sales': np.exp(test_probs)})\n",
    "result.loc[result['Id'].isin(replaceID.values),'Sales'] = 0"
   ]
  },
  {
   "cell_type": "code",
   "execution_count": 207,
   "metadata": {},
   "outputs": [],
   "source": [
    "#预测测试数据输出\n",
    "result.to_csv(\"xgboost_submission.csv\", index=False)"
   ]
  },
  {
   "cell_type": "code",
   "execution_count": null,
   "metadata": {},
   "outputs": [],
   "source": []
  },
  {
   "cell_type": "code",
   "execution_count": null,
   "metadata": {},
   "outputs": [],
   "source": []
  },
  {
   "cell_type": "code",
   "execution_count": null,
   "metadata": {},
   "outputs": [],
   "source": []
  },
  {
   "cell_type": "code",
   "execution_count": null,
   "metadata": {},
   "outputs": [],
   "source": []
  },
  {
   "cell_type": "code",
   "execution_count": null,
   "metadata": {},
   "outputs": [],
   "source": []
  },
  {
   "cell_type": "code",
   "execution_count": null,
   "metadata": {},
   "outputs": [],
   "source": []
  },
  {
   "cell_type": "code",
   "execution_count": null,
   "metadata": {},
   "outputs": [],
   "source": []
  },
  {
   "cell_type": "code",
   "execution_count": null,
   "metadata": {},
   "outputs": [],
   "source": []
  },
  {
   "cell_type": "code",
   "execution_count": null,
   "metadata": {},
   "outputs": [],
   "source": []
  },
  {
   "cell_type": "code",
   "execution_count": null,
   "metadata": {},
   "outputs": [],
   "source": []
  },
  {
   "cell_type": "code",
   "execution_count": null,
   "metadata": {},
   "outputs": [],
   "source": []
  },
  {
   "cell_type": "code",
   "execution_count": null,
   "metadata": {},
   "outputs": [],
   "source": []
  },
  {
   "cell_type": "code",
   "execution_count": null,
   "metadata": {},
   "outputs": [],
   "source": []
  },
  {
   "cell_type": "code",
   "execution_count": null,
   "metadata": {},
   "outputs": [],
   "source": []
  },
  {
   "cell_type": "code",
   "execution_count": null,
   "metadata": {},
   "outputs": [],
   "source": []
  },
  {
   "cell_type": "code",
   "execution_count": null,
   "metadata": {},
   "outputs": [],
   "source": []
  },
  {
   "cell_type": "code",
   "execution_count": null,
   "metadata": {},
   "outputs": [],
   "source": []
  }
 ],
 "metadata": {
  "kernelspec": {
   "display_name": "Python 3",
   "language": "python",
   "name": "python3"
  },
  "language_info": {
   "codemirror_mode": {
    "name": "ipython",
    "version": 3
   },
   "file_extension": ".py",
   "mimetype": "text/x-python",
   "name": "python",
   "nbconvert_exporter": "python",
   "pygments_lexer": "ipython3",
   "version": "3.7.1"
  }
 },
 "nbformat": 4,
 "nbformat_minor": 2
}
