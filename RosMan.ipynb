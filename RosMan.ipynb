{
 "cells": [
  {
   "cell_type": "code",
   "execution_count": 116,
   "metadata": {},
   "outputs": [],
   "source": [
    "import numpy as np\n",
    "import pandas as pd\n",
    "import matplotlib.pyplot as plt\n",
    "from sklearn.preprocessing import OneHotEncoder,LabelEncoder"
   ]
  },
  {
   "cell_type": "code",
   "execution_count": 117,
   "metadata": {},
   "outputs": [],
   "source": [
    "Dataset_dir = [\"./train.csv\", \"./store.csv\",\"./test.csv\"]"
   ]
  },
  {
   "cell_type": "code",
   "execution_count": 118,
   "metadata": {},
   "outputs": [],
   "source": [
    "def load_data(dir):\n",
    "    data = pd.read_csv(dir[0],parse_dates=[2])\n",
    "    store = pd.read_csv(dir[1])\n",
    "    test = pd.read_csv(dir[2],parse_dates=[3])\n",
    "    return data,store,test"
   ]
  },
  {
   "cell_type": "code",
   "execution_count": 119,
   "metadata": {},
   "outputs": [
    {
     "name": "stderr",
     "output_type": "stream",
     "text": [
      "/anaconda3/lib/python3.7/site-packages/IPython/core/interactiveshell.py:3185: DtypeWarning: Columns (7) have mixed types. Specify dtype option on import or set low_memory=False.\n",
      "  if (yield from self.run_code(code, result)):\n"
     ]
    }
   ],
   "source": [
    "train,store,test = load_data(Dataset_dir)\n",
    "train = train[train['Open'] != 0]"
   ]
  },
  {
   "cell_type": "code",
   "execution_count": 120,
   "metadata": {},
   "outputs": [
    {
     "name": "stdout",
     "output_type": "stream",
     "text": [
      "Index(['Store', 'DayOfWeek', 'Date', 'Sales', 'Customers', 'Open', 'Promo',\n",
      "       'StateHoliday', 'SchoolHoliday', 'StoreType', 'Assortment',\n",
      "       'CompetitionDistance', 'CompetitionOpenSinceMonth',\n",
      "       'CompetitionOpenSinceYear', 'Promo2', 'Promo2SinceWeek',\n",
      "       'Promo2SinceYear', 'PromoInterval'],\n",
      "      dtype='object')\n"
     ]
    },
    {
     "name": "stderr",
     "output_type": "stream",
     "text": [
      "/anaconda3/lib/python3.7/site-packages/sklearn/preprocessing/_encoders.py:368: FutureWarning: The handling of integer data will change in version 0.22. Currently, the categories are determined based on the range [0, max(values)], while in the future they will be determined based on the unique values.\n",
      "If you want the future behaviour and silence this warning, you can specify \"categories='auto'\".\n",
      "In case you used a LabelEncoder before this OneHotEncoder to convert the categories to integers, then you can now use the OneHotEncoder directly.\n",
      "  warnings.warn(msg, FutureWarning)\n"
     ]
    },
    {
     "name": "stdout",
     "output_type": "stream",
     "text": [
      "0         0.0\n",
      "1         0.0\n",
      "2         1.0\n",
      "3         0.0\n",
      "4         0.0\n",
      "5         0.0\n",
      "6         1.0\n",
      "7         0.0\n",
      "8         0.0\n",
      "9         0.0\n",
      "10        1.0\n",
      "11        0.0\n",
      "12        0.0\n",
      "13        0.0\n",
      "14        1.0\n",
      "15        0.0\n",
      "16        0.0\n",
      "17        0.0\n",
      "18        1.0\n",
      "19        0.0\n",
      "20        0.0\n",
      "21        0.0\n",
      "22        1.0\n",
      "23        0.0\n",
      "24        0.0\n",
      "25        0.0\n",
      "26        1.0\n",
      "27        0.0\n",
      "28        0.0\n",
      "29        0.0\n",
      "         ... \n",
      "844362    0.0\n",
      "844363    1.0\n",
      "844364    0.0\n",
      "844365    0.0\n",
      "844366    0.0\n",
      "844367    1.0\n",
      "844368    0.0\n",
      "844369    0.0\n",
      "844370    0.0\n",
      "844371    1.0\n",
      "844372    0.0\n",
      "844373    0.0\n",
      "844374    0.0\n",
      "844375    1.0\n",
      "844376    0.0\n",
      "844377    0.0\n",
      "844378    0.0\n",
      "844379    1.0\n",
      "844380    0.0\n",
      "844381    0.0\n",
      "844382    0.0\n",
      "844383    1.0\n",
      "844384    0.0\n",
      "844385    0.0\n",
      "844386    0.0\n",
      "844387    1.0\n",
      "844388    0.0\n",
      "844389    0.0\n",
      "844390    0.0\n",
      "844391    1.0\n",
      "Name: StoreType, Length: 844392, dtype: float64\n"
     ]
    }
   ],
   "source": [
    "train = train.merge(store, on='Store')\n",
    "test = test.merge(store, on='Store')\n",
    "print(train.columns)\n",
    "mappings = {'0':0, 'a':1, 'b':2, 'c':3, 'd':4}\n",
    "train.StoreType.replace(mappings, inplace=True)\n",
    "enc = OneHotEncoder(sparse = False)\n",
    "OH = enc.fit_transform(train[[\"StoreType\"]]).flatten()\n",
    "train[\"StoreType\"] = pd.Series(OH)\n",
    "print(train[\"StoreType\"])\n"
   ]
  },
  {
   "cell_type": "code",
   "execution_count": 121,
   "metadata": {},
   "outputs": [],
   "source": [
    "def build_feature(data,feature):\n",
    "    data['Year'] = data.Date.dt.year\n",
    "    data['Month'] = data.Date.dt.month\n",
    "    data['Day'] = data.Date.dt.day\n",
    "    "
   ]
  },
  {
   "cell_type": "code",
   "execution_count": null,
   "metadata": {},
   "outputs": [],
   "source": []
  }
 ],
 "metadata": {
  "kernelspec": {
   "display_name": "Python 3",
   "language": "python",
   "name": "python3"
  },
  "language_info": {
   "codemirror_mode": {
    "name": "ipython",
    "version": 3
   },
   "file_extension": ".py",
   "mimetype": "text/x-python",
   "name": "python",
   "nbconvert_exporter": "python",
   "pygments_lexer": "ipython3",
   "version": "3.7.1"
  }
 },
 "nbformat": 4,
 "nbformat_minor": 2
}
