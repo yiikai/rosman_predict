{
 "cells": [
  {
   "cell_type": "code",
   "execution_count": 1,
   "metadata": {},
   "outputs": [],
   "source": [
    "import numpy as np\n",
    "import pandas as pd\n",
    "import matplotlib.pyplot as plt\n",
    "from sklearn.preprocessing import OneHotEncoder,LabelEncoder,MinMaxScaler\n",
    "import xgboost as xgb\n",
    "import os\n",
    "os.environ['KMP_DUPLICATE_LIB_OK']='True'"
   ]
  },
  {
   "cell_type": "code",
   "execution_count": 2,
   "metadata": {},
   "outputs": [],
   "source": [
    "Dataset_dir = [\"./train.csv\", \"./store.csv\",\"./test.csv\"]\n",
    "pd.options.display.max_columns = None"
   ]
  },
  {
   "cell_type": "code",
   "execution_count": 3,
   "metadata": {},
   "outputs": [],
   "source": [
    "def load_data(dir):\n",
    "    data = pd.read_csv(dir[0],parse_dates=[2])\n",
    "    store = pd.read_csv(dir[1])\n",
    "    test = pd.read_csv(dir[2],parse_dates=[3])\n",
    "    return data,store,test"
   ]
  },
  {
   "cell_type": "code",
   "execution_count": 4,
   "metadata": {},
   "outputs": [
    {
     "name": "stderr",
     "output_type": "stream",
     "text": [
      "/anaconda3/lib/python3.7/site-packages/IPython/core/interactiveshell.py:3185: DtypeWarning: Columns (7) have mixed types. Specify dtype option on import or set low_memory=False.\n",
      "  if (yield from self.run_code(code, result)):\n"
     ]
    },
    {
     "name": "stdout",
     "output_type": "stream",
     "text": [
      "Index(['Store', 'DayOfWeek', 'Date', 'Sales', 'Customers', 'Open', 'Promo',\n",
      "       'StateHoliday', 'SchoolHoliday', 'StoreType', 'Assortment',\n",
      "       'CompetitionDistance', 'CompetitionOpenSinceMonth',\n",
      "       'CompetitionOpenSinceYear', 'Promo2', 'Promo2SinceWeek',\n",
      "       'Promo2SinceYear', 'PromoInterval'],\n",
      "      dtype='object')\n",
      "Index(['Id', 'Store', 'DayOfWeek', 'Date', 'Open', 'Promo', 'StateHoliday',\n",
      "       'SchoolHoliday', 'StoreType', 'Assortment', 'CompetitionDistance',\n",
      "       'CompetitionOpenSinceMonth', 'CompetitionOpenSinceYear', 'Promo2',\n",
      "       'Promo2SinceWeek', 'Promo2SinceYear', 'PromoInterval'],\n",
      "      dtype='object')\n"
     ]
    }
   ],
   "source": [
    "train,store,test = load_data(Dataset_dir)\n",
    "train = train[train['Open'] != 0]\n",
    "train = pd.merge(train, store, on='Store')\n",
    "test = pd.merge(test, store, on='Store')\n",
    "print(train.columns)\n",
    "print(test.columns)"
   ]
  },
  {
   "cell_type": "code",
   "execution_count": 5,
   "metadata": {},
   "outputs": [],
   "source": [
    "#对时间序列进行分析\n",
    "#总的销售趋势2013-2015年\n",
    "# train['date'] = pd.to_datetime(train.Date)\n",
    "# data = train.loc[:,['Sales']]\n",
    "# data = data.set_index(train.date)\n",
    "# data.plot()\n",
    "\n",
    "# weekly = data.resample('W').sum()\n",
    "# weekly.plot()\n",
    "\n",
    "# dayily = data.resample('D').sum()\n",
    "# dayily.plot()"
   ]
  },
  {
   "cell_type": "code",
   "execution_count": 6,
   "metadata": {},
   "outputs": [],
   "source": [
    "TESTID = test['Id']"
   ]
  },
  {
   "cell_type": "code",
   "execution_count": 7,
   "metadata": {},
   "outputs": [
    {
     "data": {
      "image/png": "[encoded data removed]",
      "text/plain": [
       "<Figure size 432x288 with 1 Axes>"
      ]
     },
     "metadata": {
      "needs_background": "light"
     },
     "output_type": "display_data"
    },
    {
     "data": {
      "image/png": "[encoded data removed]",
      "text/plain": [
       "<Figure size 432x288 with 1 Axes>"
      ]
     },
     "metadata": {
      "needs_background": "light"
     },
     "output_type": "display_data"
    }
   ],
   "source": [
    "train.Customers.plot(kind='box')\n",
    "plt.show()\n",
    "train.CompetitionDistance.plot(kind='box')\n",
    "plt.show()"
   ]
  },
  {
   "cell_type": "code",
   "execution_count": 8,
   "metadata": {},
   "outputs": [
    {
     "data": {
      "image/png": "[encoded data removed]",
      "text/plain": [
       "<Figure size 432x288 with 1 Axes>"
      ]
     },
     "metadata": {
      "needs_background": "light"
     },
     "output_type": "display_data"
    },
    {
     "data": {
      "image/png": "[encoded data removed]",
      "text/plain": [
       "<Figure size 432x288 with 1 Axes>"
      ]
     },
     "metadata": {
      "needs_background": "light"
     },
     "output_type": "display_data"
    }
   ],
   "source": [
    "sales_mean = train.groupby('Store')['Sales'].mean()\n",
    "plt.hist(sales_mean)\n",
    "plt.show()\n",
    "plt.hist(np.log1p(sales_mean))\n",
    "plt.show()"
   ]
  },
  {
   "cell_type": "code",
   "execution_count": 9,
   "metadata": {},
   "outputs": [],
   "source": [
    "Store_DaysWeek = train.groupby(['Store','DayOfWeek'])\n",
    "sw_mean = Store_DaysWeek[\"Sales\"].mean()"
   ]
  },
  {
   "cell_type": "code",
   "execution_count": 10,
   "metadata": {},
   "outputs": [],
   "source": [
    "def build_feature(data,istrain):\n",
    "    mappings = {'0':0, 'a':1, 'b':2, 'c':3, 'd':4}\n",
    "    data.StoreType.replace(mappings, inplace=True)\n",
    "    data.Assortment.replace(mappings, inplace=True)\n",
    "    data.StateHoliday.replace(mappings, inplace=True)\n",
    "    \n",
    "    #CART回归树不需要预处理数据和NAn值\n",
    "#     distance_max = max(data.CompetitionDistance)\n",
    "#     data.CompetitionDistance.mask(data.CompetitionDistance.isna(),other=distance_max,inplace=True)\n",
    "#     print(data.CompetitionDistance.isnull().any())\n",
    "#     min_max_scaler = MinMaxScaler()\n",
    "#     scaledata = min_max_scaler.fit_transform(data[['CompetitionDistance']])\n",
    "#     data.drop(\"CompetitionDistance\",axis=1)\n",
    "#     data['CompetitionDistance'] = scaledata\n",
    "    #时间序列问题 需要考虑进时间的因素\n",
    "    data['Year'] = data.Date.dt.year\n",
    "    data['Month'] = data.Date.dt.month\n",
    "    data['Day'] = data.Date.dt.day\n",
    "    \n",
    "    if istrain:\n",
    "        #data.drop(['Store','Open','Date','Customers','PromoInterval',],axis=1,inplace=True)\n",
    "        data.drop(['Store','Open','Date','Customers','PromoInterval','SchoolHoliday','Promo2','StateHoliday','Promo2SinceWeek'],axis=1,inplace=True)\n",
    "    else:\n",
    "        #data.drop(['Id','Store','Open','Date','PromoInterval',],axis=1,inplace=True)\n",
    "        data.drop(['Id','Store','Open','Date','PromoInterval','SchoolHoliday','Promo2','StateHoliday','Promo2SinceWeek'],axis=1,inplace=True)\n",
    "    print(data.columns)"
   ]
  },
  {
   "cell_type": "code",
   "execution_count": 11,
   "metadata": {},
   "outputs": [
    {
     "name": "stdout",
     "output_type": "stream",
     "text": [
      "Index(['DayOfWeek', 'Sales', 'Promo', 'StoreType', 'Assortment',\n",
      "       'CompetitionDistance', 'CompetitionOpenSinceMonth',\n",
      "       'CompetitionOpenSinceYear', 'Promo2SinceYear', 'Year', 'Month', 'Day'],\n",
      "      dtype='object')\n",
      "Index(['DayOfWeek', 'Promo', 'StoreType', 'Assortment', 'CompetitionDistance',\n",
      "       'CompetitionOpenSinceMonth', 'CompetitionOpenSinceYear',\n",
      "       'Promo2SinceYear', 'Year', 'Month', 'Day'],\n",
      "      dtype='object')\n"
     ]
    }
   ],
   "source": [
    "#build train data\n",
    "build_feature(train,True)\n",
    "#build test data\n",
    "build_feature(test,False)"
   ]
  },
  {
   "cell_type": "code",
   "execution_count": 12,
   "metadata": {},
   "outputs": [
    {
     "data": {
      "image/png": "[encoded data removed]",
      "text/plain": [
       "<Figure size 432x288 with 1 Axes>"
      ]
     },
     "metadata": {
      "needs_background": "light"
     },
     "output_type": "display_data"
    },
    {
     "data": {
      "image/png": "[encoded data removed]",
      "text/plain": [
       "<Figure size 432x288 with 1 Axes>"
      ]
     },
     "metadata": {
      "needs_background": "light"
     },
     "output_type": "display_data"
    },
    {
     "data": {
      "image/png": "[encoded data removed]",
      "text/plain": [
       "<Figure size 432x288 with 1 Axes>"
      ]
     },
     "metadata": {
      "needs_background": "light"
     },
     "output_type": "display_data"
    },
    {
     "data": {
      "image/png": "[encoded data removed]",
      "text/plain": [
       "<Figure size 432x288 with 1 Axes>"
      ]
     },
     "metadata": {
      "needs_background": "light"
     },
     "output_type": "display_data"
    }
   ],
   "source": [
    "ST_gp = train.groupby('StoreType')['Sales'].agg('mean')\n",
    "import seaborn as sns\n",
    "sns.barplot(ST_gp.index,ST_gp.values)\n",
    "plt.show()\n",
    "\n",
    "As_gp = train.groupby('Assortment')['Sales'].agg('mean')\n",
    "sns.barplot(As_gp.index,As_gp.values)\n",
    "plt.show()\n",
    "Dayweek_gp = train.groupby(['StoreType','DayOfWeek'])['Sales'].agg('mean')\n",
    "ax = sns.barplot(Dayweek_gp.index,Dayweek_gp.values)\n",
    "ax.set_xticklabels(ax.get_xticklabels(), rotation=90, ha=\"right\")\n",
    "plt.tight_layout()\n",
    "plt.show()\n",
    "\n",
    "#每年销售额的趋势\n",
    "YearS_gp = train.groupby(['Year'])['Sales'].agg(\"mean\")\n",
    "ax2 = sns.lineplot(YearS_gp.index,YearS_gp.values)\n",
    "plt.tight_layout()\n",
    "plt.show()"
   ]
  },
  {
   "cell_type": "code",
   "execution_count": 13,
   "metadata": {},
   "outputs": [
    {
     "name": "stdout",
     "output_type": "stream",
     "text": [
      "(834259, 12)\n",
      "(10133, 12)\n"
     ]
    },
    {
     "name": "stderr",
     "output_type": "stream",
     "text": [
      "/anaconda3/lib/python3.7/site-packages/pandas/core/frame.py:3697: SettingWithCopyWarning: \n",
      "A value is trying to be set on a copy of a slice from a DataFrame\n",
      "\n",
      "See the caveats in the documentation: http://pandas.pydata.org/pandas-docs/stable/indexing.html#indexing-view-versus-copy\n",
      "  errors=errors)\n"
     ]
    }
   ],
   "source": [
    "#split train vaild data\n",
    "from sklearn.model_selection import train_test_split\n",
    "X_train, X_valid = train_test_split(train, test_size=0.012, random_state=10)\n",
    "print(X_train.shape)\n",
    "print(X_valid.shape)\n",
    "Y_train = X_train[\"Sales\"]\n",
    "Y_valid = X_valid[\"Sales\"]\n",
    "X_train.drop(\"Sales\",axis=1,inplace=True)\n",
    "X_valid.drop(\"Sales\",axis=1,inplace=True)"
   ]
  },
  {
   "cell_type": "code",
   "execution_count": 14,
   "metadata": {},
   "outputs": [
    {
     "data": {
      "image/png": "[encoded data removed]",
      "text/plain": [
       "<Figure size 432x288 with 1 Axes>"
      ]
     },
     "metadata": {
      "needs_background": "light"
     },
     "output_type": "display_data"
    }
   ],
   "source": [
    "plt.boxplot([Y_train,Y_valid])\n",
    "plt.show()"
   ]
  },
  {
   "cell_type": "code",
   "execution_count": 15,
   "metadata": {},
   "outputs": [
    {
     "data": {
      "image/png": "[encoded data removed]",
      "text/plain": [
       "<Figure size 432x288 with 1 Axes>"
      ]
     },
     "metadata": {
      "needs_background": "light"
     },
     "output_type": "display_data"
    }
   ],
   "source": [
    "Y_train = np.log1p(Y_train)\n",
    "Y_valid = np.log1p(Y_valid)\n",
    "plt.boxplot([Y_train,Y_valid])\n",
    "plt.show()"
   ]
  },
  {
   "cell_type": "code",
   "execution_count": 16,
   "metadata": {},
   "outputs": [],
   "source": [
    "def ToWeight(y):\n",
    "    w = np.zeros(y.shape, dtype=float)\n",
    "    ind = y != 0\n",
    "    w[ind] = 1./(y[ind]**2)\n",
    "    return w\n",
    "\n",
    "def rmspe(yhat, y):\n",
    "    w = ToWeight(y)\n",
    "    rmspe = np.sqrt(np.mean( w * (y - yhat)**2 ))\n",
    "    return rmspe\n",
    "\n",
    "def rmspe_xg(yhat, y):\n",
    "    # y = y.values\n",
    "    y = y.get_label()\n",
    "    y = np.exp(y) - 1\n",
    "    yhat = np.exp(yhat) - 1\n",
    "    w = ToWeight(y)\n",
    "    rmspe = np.sqrt(np.mean(w * (y - yhat)**2))\n",
    "    return \"rmspe\", rmspe"
   ]
  },
  {
   "cell_type": "code",
   "execution_count": 17,
   "metadata": {},
   "outputs": [
    {
     "name": "stdout",
     "output_type": "stream",
     "text": [
      "[0]\teval-rmse:7.43891\ttrain-rmse:7.44342\teval-rmspe:0.999474\ttrain-rmspe:0.999494\n",
      "Multiple eval metrics have been passed: 'train-rmspe' will be used for early stopping.\n",
      "\n",
      "Will train until train-rmspe hasn't improved in 50 rounds.\n",
      "[1]\teval-rmse:6.69701\ttrain-rmse:6.70128\teval-rmspe:0.998761\ttrain-rmspe:0.998784\n",
      "[2]\teval-rmse:6.02948\ttrain-rmse:6.0334\teval-rmspe:0.997473\ttrain-rmspe:0.997501\n",
      "[3]\teval-rmse:5.42889\ttrain-rmse:5.4325\teval-rmspe:0.995302\ttrain-rmspe:0.995337\n",
      "[4]\teval-rmse:4.88854\ttrain-rmse:4.89185\teval-rmspe:0.991868\ttrain-rmspe:0.991912\n",
      "[5]\teval-rmse:4.40238\ttrain-rmse:4.40569\teval-rmspe:0.986707\ttrain-rmspe:0.986769\n",
      "[6]\teval-rmse:3.96534\ttrain-rmse:3.96832\teval-rmspe:0.97938\ttrain-rmspe:0.979458\n",
      "[7]\teval-rmse:3.57219\ttrain-rmse:3.57497\teval-rmspe:0.969428\ttrain-rmspe:0.969528\n",
      "[8]\teval-rmse:3.21886\ttrain-rmse:3.22141\teval-rmspe:0.956444\ttrain-rmspe:0.956575\n",
      "[9]\teval-rmse:2.90111\ttrain-rmse:2.90349\teval-rmspe:0.940169\ttrain-rmspe:0.940338\n",
      "[10]\teval-rmse:2.61555\ttrain-rmse:2.61789\teval-rmspe:0.920368\ttrain-rmspe:0.920604\n",
      "[11]\teval-rmse:2.359\ttrain-rmse:2.36117\teval-rmspe:0.897162\ttrain-rmspe:0.89746\n",
      "[12]\teval-rmse:2.12856\ttrain-rmse:2.13077\teval-rmspe:0.870521\ttrain-rmspe:0.870949\n",
      "[13]\teval-rmse:1.92184\ttrain-rmse:1.92389\teval-rmspe:0.840898\ttrain-rmspe:0.841458\n",
      "[14]\teval-rmse:1.7364\ttrain-rmse:1.73832\teval-rmspe:0.808643\ttrain-rmspe:0.809372\n",
      "[15]\teval-rmse:1.57012\ttrain-rmse:1.57185\teval-rmspe:0.774291\ttrain-rmspe:0.775237\n",
      "[16]\teval-rmse:1.42129\ttrain-rmse:1.42291\teval-rmspe:0.73835\ttrain-rmspe:0.739591\n",
      "[17]\teval-rmse:1.28808\ttrain-rmse:1.28964\teval-rmspe:0.701446\ttrain-rmspe:0.70309\n",
      "[18]\teval-rmse:1.1692\ttrain-rmse:1.17058\teval-rmspe:0.664268\ttrain-rmspe:0.666385\n",
      "[19]\teval-rmse:1.0626\ttrain-rmse:1.06401\teval-rmspe:0.627385\ttrain-rmspe:0.630163\n",
      "[20]\teval-rmse:0.968077\ttrain-rmse:0.969349\teval-rmspe:0.591382\ttrain-rmspe:0.594837\n",
      "[21]\teval-rmse:0.884207\ttrain-rmse:0.885316\teval-rmspe:0.556801\ttrain-rmspe:0.561101\n",
      "[22]\teval-rmse:0.80989\ttrain-rmse:0.810876\teval-rmspe:0.524063\ttrain-rmspe:0.52939\n",
      "[23]\teval-rmse:0.744115\ttrain-rmse:0.744954\teval-rmspe:0.493545\ttrain-rmspe:0.500021\n",
      "[24]\teval-rmse:0.686361\ttrain-rmse:0.687075\teval-rmspe:0.465647\ttrain-rmspe:0.473447\n",
      "[25]\teval-rmse:0.635624\ttrain-rmse:0.636217\teval-rmspe:0.440526\ttrain-rmspe:0.44985\n",
      "[26]\teval-rmse:0.590996\ttrain-rmse:0.591388\teval-rmspe:0.418173\ttrain-rmspe:0.428951\n",
      "[27]\teval-rmse:0.552147\ttrain-rmse:0.552412\teval-rmspe:0.398769\ttrain-rmspe:0.41123\n",
      "[28]\teval-rmse:0.518317\ttrain-rmse:0.518439\teval-rmspe:0.38212\ttrain-rmspe:0.396084\n",
      "[29]\teval-rmse:0.489319\ttrain-rmse:0.489315\teval-rmspe:0.368497\ttrain-rmspe:0.384171\n",
      "[30]\teval-rmse:0.464451\ttrain-rmse:0.464323\teval-rmspe:0.357555\ttrain-rmspe:0.374833\n",
      "[31]\teval-rmse:0.443195\ttrain-rmse:0.443062\teval-rmspe:0.348995\ttrain-rmspe:0.367861\n",
      "[32]\teval-rmse:0.425275\ttrain-rmse:0.425026\teval-rmspe:0.342634\ttrain-rmspe:0.363034\n",
      "[33]\teval-rmse:0.410042\ttrain-rmse:0.409708\teval-rmspe:0.337792\ttrain-rmspe:0.359797\n",
      "[34]\teval-rmse:0.396924\ttrain-rmse:0.396503\teval-rmspe:0.334466\ttrain-rmspe:0.357801\n",
      "[35]\teval-rmse:0.386203\ttrain-rmse:0.385569\teval-rmspe:0.332834\ttrain-rmspe:0.357219\n",
      "[36]\teval-rmse:0.376676\ttrain-rmse:0.375978\teval-rmspe:0.330901\ttrain-rmspe:0.356403\n",
      "[37]\teval-rmse:0.369092\ttrain-rmse:0.368326\teval-rmspe:0.33094\ttrain-rmspe:0.357401\n",
      "[38]\teval-rmse:0.362323\ttrain-rmse:0.361392\teval-rmspe:0.330878\ttrain-rmspe:0.35817\n",
      "[39]\teval-rmse:0.356683\ttrain-rmse:0.355652\teval-rmspe:0.331248\ttrain-rmspe:0.359499\n",
      "[40]\teval-rmse:0.351716\ttrain-rmse:0.350762\teval-rmspe:0.331672\ttrain-rmspe:0.360398\n",
      "[41]\teval-rmse:0.346913\ttrain-rmse:0.346033\teval-rmspe:0.331932\ttrain-rmspe:0.361452\n",
      "[42]\teval-rmse:0.342635\ttrain-rmse:0.3417\teval-rmspe:0.331958\ttrain-rmspe:0.362383\n",
      "[43]\teval-rmse:0.339339\ttrain-rmse:0.33848\teval-rmspe:0.332636\ttrain-rmspe:0.363716\n",
      "[44]\teval-rmse:0.336987\ttrain-rmse:0.336061\teval-rmspe:0.333875\ttrain-rmspe:0.36541\n",
      "[45]\teval-rmse:0.335033\ttrain-rmse:0.334036\teval-rmspe:0.335235\ttrain-rmspe:0.367458\n",
      "[46]\teval-rmse:0.332478\ttrain-rmse:0.33149\teval-rmspe:0.3357\ttrain-rmspe:0.368422\n",
      "[47]\teval-rmse:0.331199\ttrain-rmse:0.330113\teval-rmspe:0.337056\ttrain-rmspe:0.370251\n",
      "[48]\teval-rmse:0.328932\ttrain-rmse:0.327715\teval-rmspe:0.337025\ttrain-rmspe:0.37056\n",
      "[49]\teval-rmse:0.327737\ttrain-rmse:0.32649\teval-rmspe:0.337692\ttrain-rmspe:0.371234\n",
      "[50]\teval-rmse:0.326779\ttrain-rmse:0.325475\teval-rmspe:0.33865\ttrain-rmspe:0.372278\n",
      "[51]\teval-rmse:0.32578\ttrain-rmse:0.324492\teval-rmspe:0.339401\ttrain-rmspe:0.373187\n",
      "[52]\teval-rmse:0.324677\ttrain-rmse:0.323371\teval-rmspe:0.33922\ttrain-rmspe:0.373676\n",
      "[53]\teval-rmse:0.323362\ttrain-rmse:0.322029\teval-rmspe:0.339125\ttrain-rmspe:0.373791\n",
      "[54]\teval-rmse:0.322416\ttrain-rmse:0.321149\teval-rmspe:0.339358\ttrain-rmspe:0.374424\n",
      "[55]\teval-rmse:0.320672\ttrain-rmse:0.319474\teval-rmspe:0.338124\ttrain-rmspe:0.373778\n",
      "[56]\teval-rmse:0.320348\ttrain-rmse:0.319123\teval-rmspe:0.33883\ttrain-rmspe:0.374533\n",
      "[57]\teval-rmse:0.319753\ttrain-rmse:0.318538\teval-rmspe:0.33897\ttrain-rmspe:0.374718\n",
      "[58]\teval-rmse:0.31915\ttrain-rmse:0.317956\teval-rmspe:0.339261\ttrain-rmspe:0.374925\n",
      "[59]\teval-rmse:0.318848\ttrain-rmse:0.317637\teval-rmspe:0.339687\ttrain-rmspe:0.375477\n",
      "[60]\teval-rmse:0.318341\ttrain-rmse:0.317094\teval-rmspe:0.339837\ttrain-rmspe:0.375595\n",
      "[61]\teval-rmse:0.31731\ttrain-rmse:0.316119\teval-rmspe:0.339371\ttrain-rmspe:0.375365\n",
      "[62]\teval-rmse:0.316895\ttrain-rmse:0.315666\teval-rmspe:0.339284\ttrain-rmspe:0.375078\n",
      "[63]\teval-rmse:0.315926\ttrain-rmse:0.314631\teval-rmspe:0.338608\ttrain-rmspe:0.37456\n",
      "[64]\teval-rmse:0.315104\ttrain-rmse:0.313816\teval-rmspe:0.338076\ttrain-rmspe:0.37419\n",
      "[65]\teval-rmse:0.314215\ttrain-rmse:0.313012\teval-rmspe:0.337324\ttrain-rmspe:0.37371\n",
      "[66]\teval-rmse:0.313689\ttrain-rmse:0.312497\teval-rmspe:0.336915\ttrain-rmspe:0.373142\n",
      "[67]\teval-rmse:0.312939\ttrain-rmse:0.311793\teval-rmspe:0.336439\ttrain-rmspe:0.372949\n",
      "[68]\teval-rmse:0.312086\ttrain-rmse:0.310936\teval-rmspe:0.3355\ttrain-rmspe:0.372263\n",
      "[69]\teval-rmse:0.311676\ttrain-rmse:0.310504\teval-rmspe:0.335382\ttrain-rmspe:0.37218\n",
      "[70]\teval-rmse:0.311176\ttrain-rmse:0.309959\teval-rmspe:0.335212\ttrain-rmspe:0.372085\n",
      "[71]\teval-rmse:0.310964\ttrain-rmse:0.309708\teval-rmspe:0.335177\ttrain-rmspe:0.372052\n",
      "[72]\teval-rmse:0.310438\ttrain-rmse:0.309247\teval-rmspe:0.334602\ttrain-rmspe:0.3717\n",
      "[73]\teval-rmse:0.30985\ttrain-rmse:0.308631\teval-rmspe:0.334077\ttrain-rmspe:0.371281\n",
      "[74]\teval-rmse:0.309644\ttrain-rmse:0.308343\teval-rmspe:0.333954\ttrain-rmspe:0.371142\n",
      "[75]\teval-rmse:0.309207\ttrain-rmse:0.30795\teval-rmspe:0.33334\ttrain-rmspe:0.37068\n",
      "[76]\teval-rmse:0.307688\ttrain-rmse:0.306378\teval-rmspe:0.331596\ttrain-rmspe:0.368909\n",
      "[77]\teval-rmse:0.307545\ttrain-rmse:0.306217\teval-rmspe:0.331518\ttrain-rmspe:0.368802\n",
      "[78]\teval-rmse:0.307358\ttrain-rmse:0.305982\teval-rmspe:0.331365\ttrain-rmspe:0.368585\n",
      "[79]\teval-rmse:0.306985\ttrain-rmse:0.305665\teval-rmspe:0.330855\ttrain-rmspe:0.368325\n",
      "[80]\teval-rmse:0.306392\ttrain-rmse:0.305039\teval-rmspe:0.330101\ttrain-rmspe:0.367675\n",
      "[81]\teval-rmse:0.30619\ttrain-rmse:0.304842\teval-rmspe:0.329931\ttrain-rmspe:0.367778\n",
      "[82]\teval-rmse:0.305526\ttrain-rmse:0.304137\teval-rmspe:0.329157\ttrain-rmspe:0.367188\n",
      "[83]\teval-rmse:0.305395\ttrain-rmse:0.303961\teval-rmspe:0.329057\ttrain-rmspe:0.36707\n",
      "[84]\teval-rmse:0.305016\ttrain-rmse:0.303582\teval-rmspe:0.328512\ttrain-rmspe:0.366565\n",
      "[85]\teval-rmse:0.303986\ttrain-rmse:0.302483\teval-rmspe:0.327179\ttrain-rmspe:0.365485\n",
      "[86]\teval-rmse:0.303367\ttrain-rmse:0.301793\teval-rmspe:0.326508\ttrain-rmspe:0.364889\n",
      "Stopping. Best iteration:\n",
      "[36]\teval-rmse:0.376676\ttrain-rmse:0.375978\teval-rmspe:0.330901\ttrain-rmspe:0.356403\n",
      "\n",
      "Train use time: 39.2021107673645\n"
     ]
    }
   ],
   "source": [
    "params = {\"objective\": \"reg:linear\",\n",
    "          \"eta\": 0.1,\n",
    "          \"max_depth\": 5,\n",
    "          \"min_child_weight\":1,\n",
    "          \"gamma\" :0,\n",
    "          \"subsample\": 0.7,\n",
    "          \"colsample_bytree\": 0.7,\n",
    "          \"silent\": 1\n",
    "          }\n",
    "num_trees = 300\n",
    "\n",
    "dtrain = xgb.DMatrix(X_train, Y_train)\n",
    "dvalid = xgb.DMatrix(X_valid, Y_valid)\n",
    "dtest = xgb.DMatrix(test)\n",
    "watchlist = [(dvalid, 'eval'), (dtrain, 'train')]\n",
    "ret = {}\n",
    "import time\n",
    "start = time.time()\n",
    "gbm = xgb.train(params, dtrain, num_trees, evals=watchlist, early_stopping_rounds=50,evals_result =ret, feval=rmspe_xg, verbose_eval=True)\n",
    "end = time.time()\n",
    "print(\"Train use time:\",end-start)"
   ]
  },
  {
   "cell_type": "code",
   "execution_count": 18,
   "metadata": {},
   "outputs": [
    {
     "data": {
      "image/png": "[encoded data removed]",
      "text/plain": [
       "<Figure size 432x288 with 1 Axes>"
      ]
     },
     "metadata": {
      "needs_background": "light"
     },
     "output_type": "display_data"
    }
   ],
   "source": [
    "evaldata = ret['eval']['rmspe'][0:37]\n",
    "traindata = ret['train']['rmspe'][0:37]\n",
    "plt.plot(range(0,37,1),evaldata,color='red',label=\"eval\")\n",
    "plt.plot(range(0,37,1),traindata,color='blue',label=\"train\")\n",
    "plt.legend(loc='best')\n",
    "y_tick = np.arange(0,1,0.1)\n",
    "plt.yticks(y_tick)\n",
    "plt.show()"
   ]
  },
  {
   "cell_type": "code",
   "execution_count": 20,
   "metadata": {},
   "outputs": [
    {
     "data": {
      "text/plain": [
       "GridSearchCV(cv=5, error_score='raise-deprecating',\n",
       "       estimator=XGBRegressor(base_score=0.5, booster='gbtree', colsample_bylevel=1,\n",
       "       colsample_bytree=0.8, gamma=0, learning_rate=0.1, max_delta_step=0,\n",
       "       max_depth=5, min_child_weight=1, missing=None, n_estimators=36,\n",
       "       n_jobs=1, nthread=4, objective='reg:linear', random_state=0,\n",
       "       reg_alpha=0, reg_lambda=1, scale_pos_weight=1, seed=None,\n",
       "       silent=True, subsample=0.8, verbose=10),\n",
       "       fit_params=None, iid='warn', n_jobs=None,\n",
       "       param_grid={'max_depth': range(3, 10, 2), 'min_child_weight': range(1, 6, 2)},\n",
       "       pre_dispatch='2*n_jobs', refit=True, return_train_score='warn',\n",
       "       scoring='neg_mean_squared_error', verbose=0)"
      ]
     },
     "execution_count": 20,
     "metadata": {},
     "output_type": "execute_result"
    }
   ],
   "source": [
    "from sklearn.model_selection import GridSearchCV\n",
    "from sklearn.metrics import mean_squared_error\n",
    "param_test1 = {\n",
    " 'max_depth':range(3,10,2),\n",
    " 'min_child_weight':range(1,6,2)\n",
    "}\n",
    "gsearch1 = GridSearchCV(estimator = xgb.XGBRegressor(max_depth=5,learning_rate =0.1, n_estimators=36,min_child_weight=1, gamma=0,verbose = 10,subsample=0.8,colsample_bytree=0.8,nthread=4,scale_pos_weight=1),\n",
    "                        param_grid = param_test1,scoring ='neg_mean_squared_error',cv=5)\n",
    "gsearch1.fit(X_train, Y_train)"
   ]
  },
  {
   "cell_type": "code",
   "execution_count": 24,
   "metadata": {},
   "outputs": [
    {
     "name": "stdout",
     "output_type": "stream",
     "text": [
      "{'max_depth': 9, 'min_child_weight': 3}\n"
     ]
    }
   ],
   "source": [
    "print(gsearch1.best_params_)"
   ]
  },
  {
   "cell_type": "code",
   "execution_count": 26,
   "metadata": {},
   "outputs": [
    {
     "data": {
      "text/plain": [
       "GridSearchCV(cv=5, error_score='raise-deprecating',\n",
       "       estimator=XGBRegressor(base_score=0.5, booster='gbtree', colsample_bylevel=1,\n",
       "       colsample_bytree=0.8, gamma=0, learning_rate=0.1, max_delta_step=0,\n",
       "       max_depth=9, min_child_weight=3, missing=None, n_estimators=36,\n",
       "       n_jobs=1, nthread=4, objective='reg:linear', random_state=0,\n",
       "       reg_alpha=0, reg_lambda=1, scale_pos_weight=1, seed=None,\n",
       "       silent=True, subsample=0.8, verbose=10),\n",
       "       fit_params=None, iid='warn', n_jobs=None,\n",
       "       param_grid={'gamma': [0.0, 0.1, 0.2, 0.3, 0.4]},\n",
       "       pre_dispatch='2*n_jobs', refit=True, return_train_score='warn',\n",
       "       scoring='neg_mean_squared_error', verbose=0)"
      ]
     },
     "execution_count": 26,
     "metadata": {},
     "output_type": "execute_result"
    }
   ],
   "source": [
    "param_test2 = {\n",
    " 'gamma':[i/10.0 for i in range(0,5)]\n",
    "}\n",
    "gsearch2 = GridSearchCV(estimator = xgb.XGBRegressor(max_depth=9,learning_rate =0.1, n_estimators=36,min_child_weight=3, gamma=0,verbose = 10,subsample=0.8,colsample_bytree=0.8,nthread=4,scale_pos_weight=1),\n",
    "                        param_grid = param_test2,scoring ='neg_mean_squared_error',cv=5)\n",
    "\n",
    "gsearch2.fit(X_train, Y_train)\n"
   ]
  },
  {
   "cell_type": "code",
   "execution_count": 27,
   "metadata": {},
   "outputs": [
    {
     "name": "stdout",
     "output_type": "stream",
     "text": [
      "{'gamma': 0.1}\n"
     ]
    }
   ],
   "source": [
    "print(gsearch2.best_params_)"
   ]
  },
  {
   "cell_type": "code",
   "execution_count": 28,
   "metadata": {},
   "outputs": [
    {
     "name": "stdout",
     "output_type": "stream",
     "text": [
      "[0]\teval-rmse:7.43895\ttrain-rmse:7.44331\teval-rmspe:0.999475\ttrain-rmspe:0.999495\n",
      "Multiple eval metrics have been passed: 'train-rmspe' will be used for early stopping.\n",
      "\n",
      "Will train until train-rmspe hasn't improved in 50 rounds.\n",
      "[1]\teval-rmse:6.69672\ttrain-rmse:6.70106\teval-rmspe:0.998765\ttrain-rmspe:0.998787\n",
      "[2]\teval-rmse:6.02929\ttrain-rmse:6.03311\teval-rmspe:0.997482\ttrain-rmspe:0.997509\n",
      "[3]\teval-rmse:5.42853\ttrain-rmse:5.43198\teval-rmspe:0.995327\ttrain-rmspe:0.99536\n",
      "[4]\teval-rmse:4.88797\ttrain-rmse:4.89106\teval-rmspe:0.991922\ttrain-rmspe:0.991961\n",
      "[5]\teval-rmse:4.40157\ttrain-rmse:4.40452\teval-rmspe:0.98682\ttrain-rmspe:0.986867\n",
      "[6]\teval-rmse:3.96423\ttrain-rmse:3.96687\teval-rmspe:0.979558\ttrain-rmspe:0.979617\n",
      "[7]\teval-rmse:3.57077\ttrain-rmse:3.57309\teval-rmspe:0.969721\ttrain-rmspe:0.969789\n",
      "[8]\teval-rmse:3.21687\ttrain-rmse:3.2191\teval-rmspe:0.95687\ttrain-rmspe:0.956965\n",
      "[9]\teval-rmse:2.8985\ttrain-rmse:2.90043\teval-rmspe:0.940834\ttrain-rmspe:0.94094\n",
      "[10]\teval-rmse:2.61229\ttrain-rmse:2.61415\teval-rmspe:0.921289\ttrain-rmspe:0.921439\n",
      "[11]\teval-rmse:2.35504\ttrain-rmse:2.35656\teval-rmspe:0.898413\ttrain-rmspe:0.89858\n",
      "[12]\teval-rmse:2.12357\ttrain-rmse:2.12498\teval-rmspe:0.872183\ttrain-rmspe:0.872425\n",
      "[13]\teval-rmse:1.91598\ttrain-rmse:1.91726\teval-rmspe:0.842824\ttrain-rmspe:0.843176\n",
      "[14]\teval-rmse:1.72953\ttrain-rmse:1.73062\teval-rmspe:0.810842\ttrain-rmspe:0.811343\n",
      "[15]\teval-rmse:1.56174\ttrain-rmse:1.56267\teval-rmspe:0.776764\ttrain-rmspe:0.777465\n",
      "[16]\teval-rmse:1.41172\ttrain-rmse:1.4125\teval-rmspe:0.740879\ttrain-rmspe:0.741855\n",
      "[17]\teval-rmse:1.27695\ttrain-rmse:1.27764\teval-rmspe:0.703902\ttrain-rmspe:0.705264\n",
      "[18]\teval-rmse:1.15646\ttrain-rmse:1.15704\teval-rmspe:0.666351\ttrain-rmspe:0.668207\n",
      "[19]\teval-rmse:1.04797\ttrain-rmse:1.04858\teval-rmspe:0.628824\ttrain-rmspe:0.631277\n",
      "[20]\teval-rmse:0.950769\ttrain-rmse:0.951225\teval-rmspe:0.591883\ttrain-rmspe:0.595107\n",
      "[21]\teval-rmse:0.864914\ttrain-rmse:0.865166\teval-rmspe:0.555886\ttrain-rmspe:0.559955\n",
      "[22]\teval-rmse:0.788434\ttrain-rmse:0.788456\teval-rmspe:0.521329\ttrain-rmspe:0.526541\n",
      "[23]\teval-rmse:0.720248\ttrain-rmse:0.720078\teval-rmspe:0.488472\ttrain-rmspe:0.494888\n",
      "[24]\teval-rmse:0.659881\ttrain-rmse:0.65956\teval-rmspe:0.457643\ttrain-rmspe:0.465591\n",
      "[25]\teval-rmse:0.606358\ttrain-rmse:0.606016\teval-rmspe:0.429047\ttrain-rmspe:0.438725\n",
      "[26]\teval-rmse:0.55886\ttrain-rmse:0.558335\teval-rmspe:0.402718\ttrain-rmspe:0.414161\n",
      "[27]\teval-rmse:0.517337\ttrain-rmse:0.516706\teval-rmspe:0.37901\ttrain-rmspe:0.392416\n",
      "[28]\teval-rmse:0.480578\ttrain-rmse:0.479792\teval-rmspe:0.357651\ttrain-rmspe:0.373216\n",
      "[29]\teval-rmse:0.448883\ttrain-rmse:0.447961\teval-rmspe:0.339018\ttrain-rmspe:0.35677\n",
      "[30]\teval-rmse:0.420889\ttrain-rmse:0.419808\teval-rmspe:0.322552\ttrain-rmspe:0.342664\n",
      "[31]\teval-rmse:0.396152\ttrain-rmse:0.394844\teval-rmspe:0.30807\ttrain-rmspe:0.330137\n",
      "[32]\teval-rmse:0.375755\ttrain-rmse:0.374268\teval-rmspe:0.296553\ttrain-rmspe:0.320692\n",
      "[33]\teval-rmse:0.358108\ttrain-rmse:0.356517\teval-rmspe:0.28696\ttrain-rmspe:0.313196\n",
      "[34]\teval-rmse:0.343268\ttrain-rmse:0.341515\teval-rmspe:0.279347\ttrain-rmspe:0.307431\n",
      "[35]\teval-rmse:0.330635\ttrain-rmse:0.328684\teval-rmspe:0.273169\ttrain-rmspe:0.302921\n",
      "[36]\teval-rmse:0.319658\ttrain-rmse:0.31763\teval-rmspe:0.268129\ttrain-rmspe:0.29953\n",
      "[37]\teval-rmse:0.310718\ttrain-rmse:0.308588\teval-rmspe:0.264623\ttrain-rmspe:0.297373\n",
      "[38]\teval-rmse:0.301926\ttrain-rmse:0.299576\teval-rmspe:0.261104\ttrain-rmspe:0.294995\n",
      "[39]\teval-rmse:0.294753\ttrain-rmse:0.292281\teval-rmspe:0.258324\ttrain-rmspe:0.294006\n",
      "[40]\teval-rmse:0.289008\ttrain-rmse:0.286468\teval-rmspe:0.256674\ttrain-rmspe:0.293435\n",
      "[41]\teval-rmse:0.282739\ttrain-rmse:0.280125\teval-rmspe:0.253916\ttrain-rmspe:0.292128\n",
      "[42]\teval-rmse:0.278456\ttrain-rmse:0.275784\teval-rmspe:0.252967\ttrain-rmspe:0.292109\n",
      "[43]\teval-rmse:0.273582\ttrain-rmse:0.270927\teval-rmspe:0.251185\ttrain-rmspe:0.291246\n",
      "[44]\teval-rmse:0.270218\ttrain-rmse:0.267512\teval-rmspe:0.250539\ttrain-rmspe:0.290958\n",
      "[45]\teval-rmse:0.264717\ttrain-rmse:0.261856\teval-rmspe:0.246894\ttrain-rmspe:0.288343\n",
      "[46]\teval-rmse:0.261495\ttrain-rmse:0.258737\teval-rmspe:0.245818\ttrain-rmspe:0.288045\n",
      "[47]\teval-rmse:0.258245\ttrain-rmse:0.255335\teval-rmspe:0.244232\ttrain-rmspe:0.287177\n",
      "[48]\teval-rmse:0.253964\ttrain-rmse:0.251005\teval-rmspe:0.241422\ttrain-rmspe:0.28532\n",
      "[49]\teval-rmse:0.252541\ttrain-rmse:0.249484\teval-rmspe:0.241536\ttrain-rmspe:0.285355\n",
      "[50]\teval-rmse:0.251504\ttrain-rmse:0.24836\teval-rmspe:0.241878\ttrain-rmspe:0.285622\n",
      "[51]\teval-rmse:0.2502\ttrain-rmse:0.246993\teval-rmspe:0.241835\ttrain-rmspe:0.285709\n",
      "[52]\teval-rmse:0.24836\ttrain-rmse:0.245029\teval-rmspe:0.240829\ttrain-rmspe:0.285322\n",
      "[53]\teval-rmse:0.246979\ttrain-rmse:0.243515\teval-rmspe:0.240248\ttrain-rmspe:0.285061\n",
      "[54]\teval-rmse:0.245911\ttrain-rmse:0.242386\teval-rmspe:0.239973\ttrain-rmspe:0.284963\n",
      "[55]\teval-rmse:0.242153\ttrain-rmse:0.238466\teval-rmspe:0.236354\ttrain-rmspe:0.281641\n",
      "[56]\teval-rmse:0.239936\ttrain-rmse:0.236142\teval-rmspe:0.234533\ttrain-rmspe:0.280282\n",
      "[57]\teval-rmse:0.238635\ttrain-rmse:0.234709\teval-rmspe:0.233662\ttrain-rmspe:0.279652\n",
      "[58]\teval-rmse:0.237179\ttrain-rmse:0.233367\teval-rmspe:0.232629\ttrain-rmspe:0.279094\n",
      "[59]\teval-rmse:0.235684\ttrain-rmse:0.231789\teval-rmspe:0.231387\ttrain-rmspe:0.278106\n",
      "[60]\teval-rmse:0.234128\ttrain-rmse:0.230163\teval-rmspe:0.229789\ttrain-rmspe:0.276709\n",
      "[61]\teval-rmse:0.233508\ttrain-rmse:0.229456\teval-rmspe:0.229569\ttrain-rmspe:0.276299\n",
      "[62]\teval-rmse:0.233082\ttrain-rmse:0.228984\teval-rmspe:0.22943\ttrain-rmspe:0.276249\n",
      "[63]\teval-rmse:0.231668\ttrain-rmse:0.227629\teval-rmspe:0.228183\ttrain-rmspe:0.275404\n",
      "[64]\teval-rmse:0.230306\ttrain-rmse:0.22625\teval-rmspe:0.226815\ttrain-rmspe:0.274776\n",
      "[65]\teval-rmse:0.2293\ttrain-rmse:0.225243\teval-rmspe:0.225939\ttrain-rmspe:0.27414\n",
      "[66]\teval-rmse:0.22859\ttrain-rmse:0.224462\teval-rmspe:0.22532\ttrain-rmspe:0.273674\n",
      "[67]\teval-rmse:0.228197\ttrain-rmse:0.224005\teval-rmspe:0.224977\ttrain-rmspe:0.273335\n",
      "[68]\teval-rmse:0.225935\ttrain-rmse:0.221763\teval-rmspe:0.222656\ttrain-rmspe:0.271792\n",
      "[69]\teval-rmse:0.224984\ttrain-rmse:0.22078\teval-rmspe:0.221799\ttrain-rmspe:0.27101\n",
      "[70]\teval-rmse:0.222571\ttrain-rmse:0.21823\teval-rmspe:0.219205\ttrain-rmspe:0.268891\n",
      "[71]\teval-rmse:0.22102\ttrain-rmse:0.216683\teval-rmspe:0.217426\ttrain-rmspe:0.267521\n",
      "[72]\teval-rmse:0.220399\ttrain-rmse:0.215966\teval-rmspe:0.216887\ttrain-rmspe:0.266892\n",
      "[73]\teval-rmse:0.219995\ttrain-rmse:0.215507\teval-rmspe:0.216498\ttrain-rmspe:0.266542\n",
      "[74]\teval-rmse:0.218707\ttrain-rmse:0.214275\teval-rmspe:0.215096\ttrain-rmspe:0.265453\n",
      "[75]\teval-rmse:0.217821\ttrain-rmse:0.213258\teval-rmspe:0.214165\ttrain-rmspe:0.264587\n",
      "[76]\teval-rmse:0.217382\ttrain-rmse:0.212793\teval-rmspe:0.213783\ttrain-rmspe:0.264208\n",
      "[77]\teval-rmse:0.216962\ttrain-rmse:0.212314\teval-rmspe:0.213409\ttrain-rmspe:0.26381\n",
      "[78]\teval-rmse:0.216538\ttrain-rmse:0.211855\teval-rmspe:0.212882\ttrain-rmspe:0.263393\n",
      "[79]\teval-rmse:0.215644\ttrain-rmse:0.210919\teval-rmspe:0.211776\ttrain-rmspe:0.262684\n",
      "[80]\teval-rmse:0.213454\ttrain-rmse:0.208557\teval-rmspe:0.20909\ttrain-rmspe:0.260414\n",
      "[81]\teval-rmse:0.212761\ttrain-rmse:0.207809\teval-rmspe:0.208244\ttrain-rmspe:0.259432\n",
      "[82]\teval-rmse:0.212455\ttrain-rmse:0.207446\teval-rmspe:0.207868\ttrain-rmspe:0.259338\n",
      "[83]\teval-rmse:0.212133\ttrain-rmse:0.207059\teval-rmspe:0.20748\ttrain-rmspe:0.259039\n",
      "[84]\teval-rmse:0.21103\ttrain-rmse:0.206029\teval-rmspe:0.206256\ttrain-rmspe:0.257945\n",
      "[85]\teval-rmse:0.210266\ttrain-rmse:0.205259\teval-rmspe:0.205349\ttrain-rmspe:0.257471\n",
      "[86]\teval-rmse:0.209176\ttrain-rmse:0.204086\teval-rmspe:0.204021\ttrain-rmspe:0.256513\n",
      "[87]\teval-rmse:0.208303\ttrain-rmse:0.203131\teval-rmspe:0.203081\ttrain-rmspe:0.255694\n",
      "[88]\teval-rmse:0.207238\ttrain-rmse:0.201968\teval-rmspe:0.201838\ttrain-rmspe:0.254798\n",
      "[89]\teval-rmse:0.206923\ttrain-rmse:0.201635\teval-rmspe:0.201418\ttrain-rmspe:0.254449\n",
      "[90]\teval-rmse:0.205619\ttrain-rmse:0.200234\teval-rmspe:0.20002\ttrain-rmspe:0.253183\n",
      "[91]\teval-rmse:0.204859\ttrain-rmse:0.199414\teval-rmspe:0.19916\ttrain-rmspe:0.252437\n",
      "[92]\teval-rmse:0.203991\ttrain-rmse:0.198497\teval-rmspe:0.198096\ttrain-rmspe:0.251561\n",
      "[93]\teval-rmse:0.203429\ttrain-rmse:0.197982\teval-rmspe:0.197473\ttrain-rmspe:0.251276\n",
      "[94]\teval-rmse:0.202117\ttrain-rmse:0.196558\teval-rmspe:0.19591\ttrain-rmspe:0.249961\n",
      "[95]\teval-rmse:0.200863\ttrain-rmse:0.195159\teval-rmspe:0.194424\ttrain-rmspe:0.248612\n"
     ]
    },
    {
     "name": "stdout",
     "output_type": "stream",
     "text": [
      "[96]\teval-rmse:0.200751\ttrain-rmse:0.195021\teval-rmspe:0.194258\ttrain-rmspe:0.248474\n",
      "[97]\teval-rmse:0.200339\ttrain-rmse:0.19455\teval-rmspe:0.193791\ttrain-rmspe:0.248069\n",
      "[98]\teval-rmse:0.200083\ttrain-rmse:0.19427\teval-rmspe:0.193456\ttrain-rmspe:0.248013\n",
      "[99]\teval-rmse:0.19911\ttrain-rmse:0.193303\teval-rmspe:0.192344\ttrain-rmspe:0.247181\n",
      "[100]\teval-rmse:0.198339\ttrain-rmse:0.19254\teval-rmspe:0.19145\ttrain-rmspe:0.246679\n",
      "[101]\teval-rmse:0.197282\ttrain-rmse:0.191415\teval-rmspe:0.190145\ttrain-rmspe:0.245514\n",
      "[102]\teval-rmse:0.195907\ttrain-rmse:0.189929\teval-rmspe:0.188572\ttrain-rmspe:0.244127\n",
      "[103]\teval-rmse:0.19564\ttrain-rmse:0.18961\teval-rmspe:0.188277\ttrain-rmspe:0.243994\n",
      "[104]\teval-rmse:0.19416\ttrain-rmse:0.188115\teval-rmspe:0.186453\ttrain-rmspe:0.242549\n",
      "[105]\teval-rmse:0.193815\ttrain-rmse:0.187635\teval-rmspe:0.185976\ttrain-rmspe:0.242049\n",
      "[106]\teval-rmse:0.193666\ttrain-rmse:0.187485\teval-rmspe:0.185805\ttrain-rmspe:0.241774\n",
      "[107]\teval-rmse:0.192994\ttrain-rmse:0.186675\teval-rmspe:0.185061\ttrain-rmspe:0.241052\n",
      "[108]\teval-rmse:0.19213\ttrain-rmse:0.185786\teval-rmspe:0.18395\ttrain-rmspe:0.240252\n",
      "[109]\teval-rmse:0.19192\ttrain-rmse:0.185497\teval-rmspe:0.183685\ttrain-rmspe:0.239796\n",
      "[110]\teval-rmse:0.191576\ttrain-rmse:0.185175\teval-rmspe:0.183337\ttrain-rmspe:0.239785\n",
      "[111]\teval-rmse:0.190978\ttrain-rmse:0.184561\teval-rmspe:0.182657\ttrain-rmspe:0.238956\n",
      "[112]\teval-rmse:0.190726\ttrain-rmse:0.184256\teval-rmspe:0.182337\ttrain-rmspe:0.238435\n",
      "[113]\teval-rmse:0.190194\ttrain-rmse:0.183704\teval-rmspe:0.181766\ttrain-rmspe:0.237946\n",
      "[114]\teval-rmse:0.189368\ttrain-rmse:0.182878\teval-rmspe:0.180794\ttrain-rmspe:0.237113\n",
      "[115]\teval-rmse:0.188675\ttrain-rmse:0.182124\teval-rmspe:0.180037\ttrain-rmspe:0.236439\n",
      "[116]\teval-rmse:0.188005\ttrain-rmse:0.181429\teval-rmspe:0.179209\ttrain-rmspe:0.235734\n",
      "[117]\teval-rmse:0.187856\ttrain-rmse:0.181301\teval-rmspe:0.179046\ttrain-rmspe:0.235625\n",
      "[118]\teval-rmse:0.187362\ttrain-rmse:0.180797\teval-rmspe:0.178497\ttrain-rmspe:0.235169\n",
      "[119]\teval-rmse:0.187159\ttrain-rmse:0.180421\teval-rmspe:0.178173\ttrain-rmspe:0.234719\n",
      "[120]\teval-rmse:0.186949\ttrain-rmse:0.180155\teval-rmspe:0.177904\ttrain-rmspe:0.234517\n",
      "[121]\teval-rmse:0.186603\ttrain-rmse:0.179769\teval-rmspe:0.177544\ttrain-rmspe:0.234202\n",
      "[122]\teval-rmse:0.186145\ttrain-rmse:0.179328\teval-rmspe:0.177058\ttrain-rmspe:0.233695\n",
      "[123]\teval-rmse:0.18609\ttrain-rmse:0.179111\teval-rmspe:0.176904\ttrain-rmspe:0.233407\n",
      "[124]\teval-rmse:0.185682\ttrain-rmse:0.178682\teval-rmspe:0.176446\ttrain-rmspe:0.233066\n",
      "[125]\teval-rmse:0.184989\ttrain-rmse:0.177907\teval-rmspe:0.17563\ttrain-rmspe:0.232348\n",
      "[126]\teval-rmse:0.184125\ttrain-rmse:0.17697\teval-rmspe:0.174656\ttrain-rmspe:0.231468\n",
      "[127]\teval-rmse:0.183262\ttrain-rmse:0.175966\teval-rmspe:0.173504\ttrain-rmspe:0.230475\n",
      "[128]\teval-rmse:0.183059\ttrain-rmse:0.175749\teval-rmspe:0.173231\ttrain-rmspe:0.230406\n",
      "[129]\teval-rmse:0.182363\ttrain-rmse:0.174951\teval-rmspe:0.172461\ttrain-rmspe:0.229714\n",
      "[130]\teval-rmse:0.182137\ttrain-rmse:0.174697\teval-rmspe:0.172166\ttrain-rmspe:0.229247\n",
      "[131]\teval-rmse:0.181556\ttrain-rmse:0.174068\teval-rmspe:0.171448\ttrain-rmspe:0.228704\n",
      "[132]\teval-rmse:0.181465\ttrain-rmse:0.173997\teval-rmspe:0.171349\ttrain-rmspe:0.228646\n",
      "[133]\teval-rmse:0.181335\ttrain-rmse:0.173824\teval-rmspe:0.171179\ttrain-rmspe:0.228517\n",
      "[134]\teval-rmse:0.180853\ttrain-rmse:0.173259\teval-rmspe:0.170702\ttrain-rmspe:0.228011\n",
      "[135]\teval-rmse:0.180339\ttrain-rmse:0.17275\teval-rmspe:0.170098\ttrain-rmspe:0.227437\n",
      "[136]\teval-rmse:0.179663\ttrain-rmse:0.172116\teval-rmspe:0.169272\ttrain-rmspe:0.226918\n",
      "[137]\teval-rmse:0.179166\ttrain-rmse:0.171557\teval-rmspe:0.168675\ttrain-rmspe:0.22652\n",
      "[138]\teval-rmse:0.178738\ttrain-rmse:0.171085\teval-rmspe:0.168187\ttrain-rmspe:0.226117\n",
      "[139]\teval-rmse:0.177934\ttrain-rmse:0.170212\teval-rmspe:0.167081\ttrain-rmspe:0.224885\n",
      "[140]\teval-rmse:0.177705\ttrain-rmse:0.169965\teval-rmspe:0.166821\ttrain-rmspe:0.224396\n",
      "[141]\teval-rmse:0.177351\ttrain-rmse:0.169584\teval-rmspe:0.166435\ttrain-rmspe:0.224249\n",
      "[142]\teval-rmse:0.176659\ttrain-rmse:0.168814\teval-rmspe:0.165411\ttrain-rmspe:0.223476\n",
      "[143]\teval-rmse:0.176431\ttrain-rmse:0.168472\teval-rmspe:0.16513\ttrain-rmspe:0.223045\n",
      "[144]\teval-rmse:0.176316\ttrain-rmse:0.168313\teval-rmspe:0.16494\ttrain-rmspe:0.222783\n",
      "[145]\teval-rmse:0.175866\ttrain-rmse:0.167856\teval-rmspe:0.164362\ttrain-rmspe:0.222313\n",
      "[146]\teval-rmse:0.174964\ttrain-rmse:0.166935\teval-rmspe:0.163385\ttrain-rmspe:0.221505\n",
      "[147]\teval-rmse:0.17446\ttrain-rmse:0.166333\teval-rmspe:0.162795\ttrain-rmspe:0.220987\n",
      "[148]\teval-rmse:0.174144\ttrain-rmse:0.165983\teval-rmspe:0.162441\ttrain-rmspe:0.220791\n",
      "[149]\teval-rmse:0.173759\ttrain-rmse:0.165591\teval-rmspe:0.162014\ttrain-rmspe:0.220453\n",
      "[150]\teval-rmse:0.173638\ttrain-rmse:0.165427\teval-rmspe:0.161888\ttrain-rmspe:0.220249\n",
      "[151]\teval-rmse:0.17356\ttrain-rmse:0.165268\teval-rmspe:0.161811\ttrain-rmspe:0.220212\n",
      "[152]\teval-rmse:0.173289\ttrain-rmse:0.164911\teval-rmspe:0.161526\ttrain-rmspe:0.219518\n",
      "[153]\teval-rmse:0.173101\ttrain-rmse:0.164681\teval-rmspe:0.161335\ttrain-rmspe:0.219301\n",
      "[154]\teval-rmse:0.172865\ttrain-rmse:0.164366\teval-rmspe:0.160993\ttrain-rmspe:0.218933\n",
      "[155]\teval-rmse:0.172383\ttrain-rmse:0.163833\teval-rmspe:0.160404\ttrain-rmspe:0.218028\n",
      "[156]\teval-rmse:0.172076\ttrain-rmse:0.163517\teval-rmspe:0.160013\ttrain-rmspe:0.217718\n",
      "[157]\teval-rmse:0.171836\ttrain-rmse:0.163251\teval-rmspe:0.159737\ttrain-rmspe:0.217464\n",
      "[158]\teval-rmse:0.171451\ttrain-rmse:0.162828\teval-rmspe:0.159201\ttrain-rmspe:0.217062\n",
      "[159]\teval-rmse:0.170911\ttrain-rmse:0.162222\teval-rmspe:0.158532\ttrain-rmspe:0.216108\n",
      "[160]\teval-rmse:0.1703\ttrain-rmse:0.16155\teval-rmspe:0.15775\ttrain-rmspe:0.215491\n",
      "[161]\teval-rmse:0.170046\ttrain-rmse:0.161311\teval-rmspe:0.157425\ttrain-rmspe:0.215223\n",
      "[162]\teval-rmse:0.169875\ttrain-rmse:0.161123\teval-rmspe:0.157231\ttrain-rmspe:0.214953\n",
      "[163]\teval-rmse:0.169656\ttrain-rmse:0.160858\teval-rmspe:0.15688\ttrain-rmspe:0.214724\n",
      "[164]\teval-rmse:0.169443\ttrain-rmse:0.160625\teval-rmspe:0.156652\ttrain-rmspe:0.214333\n",
      "[165]\teval-rmse:0.168785\ttrain-rmse:0.159917\teval-rmspe:0.155987\ttrain-rmspe:0.213772\n",
      "[166]\teval-rmse:0.168357\ttrain-rmse:0.159465\teval-rmspe:0.155534\ttrain-rmspe:0.213394\n",
      "[167]\teval-rmse:0.168198\ttrain-rmse:0.159282\teval-rmspe:0.155357\ttrain-rmspe:0.213219\n",
      "[168]\teval-rmse:0.16706\ttrain-rmse:0.158101\teval-rmspe:0.154039\ttrain-rmspe:0.212248\n",
      "[169]\teval-rmse:0.166781\ttrain-rmse:0.157738\teval-rmspe:0.153699\ttrain-rmspe:0.211923\n",
      "[170]\teval-rmse:0.166097\ttrain-rmse:0.157042\teval-rmspe:0.15292\ttrain-rmspe:0.211322\n",
      "[171]\teval-rmse:0.165883\ttrain-rmse:0.156798\teval-rmspe:0.152678\ttrain-rmspe:0.211085\n",
      "[172]\teval-rmse:0.165817\ttrain-rmse:0.156673\teval-rmspe:0.152629\ttrain-rmspe:0.211088\n",
      "[173]\teval-rmse:0.165542\ttrain-rmse:0.156381\teval-rmspe:0.152307\ttrain-rmspe:0.210855\n",
      "[174]\teval-rmse:0.165279\ttrain-rmse:0.156109\teval-rmspe:0.151974\ttrain-rmspe:0.210633\n",
      "[175]\teval-rmse:0.165111\ttrain-rmse:0.155888\teval-rmspe:0.151755\ttrain-rmspe:0.210252\n",
      "[176]\teval-rmse:0.164613\ttrain-rmse:0.155366\teval-rmspe:0.151073\ttrain-rmspe:0.209776\n",
      "[177]\teval-rmse:0.164567\ttrain-rmse:0.155279\teval-rmspe:0.151037\ttrain-rmspe:0.209687\n",
      "[178]\teval-rmse:0.164237\ttrain-rmse:0.154921\teval-rmspe:0.150765\ttrain-rmspe:0.209409\n",
      "[179]\teval-rmse:0.164142\ttrain-rmse:0.154807\teval-rmspe:0.150667\ttrain-rmspe:0.209299\n",
      "[180]\teval-rmse:0.164042\ttrain-rmse:0.154644\teval-rmspe:0.150548\ttrain-rmspe:0.209193\n",
      "[181]\teval-rmse:0.163463\ttrain-rmse:0.154038\teval-rmspe:0.149839\ttrain-rmspe:0.20859\n",
      "[182]\teval-rmse:0.163107\ttrain-rmse:0.153645\teval-rmspe:0.149385\ttrain-rmspe:0.208229\n",
      "[183]\teval-rmse:0.162902\ttrain-rmse:0.153417\teval-rmspe:0.149171\ttrain-rmspe:0.208139\n",
      "[184]\teval-rmse:0.162808\ttrain-rmse:0.153257\teval-rmspe:0.149075\ttrain-rmspe:0.208007\n",
      "[185]\teval-rmse:0.16235\ttrain-rmse:0.152759\teval-rmspe:0.148576\ttrain-rmspe:0.207671\n",
      "[186]\teval-rmse:0.161974\ttrain-rmse:0.152361\teval-rmspe:0.148026\ttrain-rmspe:0.207262\n",
      "[187]\teval-rmse:0.161703\ttrain-rmse:0.152043\teval-rmspe:0.147698\ttrain-rmspe:0.207047\n",
      "[188]\teval-rmse:0.161446\ttrain-rmse:0.151772\teval-rmspe:0.14747\ttrain-rmspe:0.206816\n",
      "[189]\teval-rmse:0.161351\ttrain-rmse:0.151668\teval-rmspe:0.147341\ttrain-rmspe:0.206606\n",
      "[190]\teval-rmse:0.161248\ttrain-rmse:0.151575\teval-rmspe:0.147195\ttrain-rmspe:0.206582\n",
      "[191]\teval-rmse:0.160877\ttrain-rmse:0.151181\teval-rmspe:0.146711\ttrain-rmspe:0.206176\n"
     ]
    },
    {
     "name": "stdout",
     "output_type": "stream",
     "text": [
      "[192]\teval-rmse:0.160748\ttrain-rmse:0.150977\teval-rmspe:0.14658\ttrain-rmspe:0.205666\n",
      "[193]\teval-rmse:0.160536\ttrain-rmse:0.150734\teval-rmspe:0.146323\ttrain-rmspe:0.204917\n",
      "[194]\teval-rmse:0.160518\ttrain-rmse:0.150717\teval-rmspe:0.146303\ttrain-rmspe:0.204905\n",
      "[195]\teval-rmse:0.16037\ttrain-rmse:0.150575\teval-rmspe:0.146128\ttrain-rmspe:0.204693\n",
      "[196]\teval-rmse:0.160296\ttrain-rmse:0.15044\teval-rmspe:0.146051\ttrain-rmspe:0.204507\n",
      "[197]\teval-rmse:0.160179\ttrain-rmse:0.150267\teval-rmspe:0.14589\ttrain-rmspe:0.204254\n",
      "[198]\teval-rmse:0.159876\ttrain-rmse:0.149916\teval-rmspe:0.145588\ttrain-rmspe:0.203988\n",
      "[199]\teval-rmse:0.159804\ttrain-rmse:0.149811\teval-rmspe:0.145538\ttrain-rmspe:0.203685\n",
      "[200]\teval-rmse:0.159559\ttrain-rmse:0.149565\teval-rmspe:0.145253\ttrain-rmspe:0.203216\n",
      "[201]\teval-rmse:0.15945\ttrain-rmse:0.149396\teval-rmspe:0.145123\ttrain-rmspe:0.203105\n",
      "[202]\teval-rmse:0.158957\ttrain-rmse:0.148908\teval-rmspe:0.144544\ttrain-rmspe:0.202712\n",
      "[203]\teval-rmse:0.158844\ttrain-rmse:0.148741\teval-rmspe:0.144405\ttrain-rmspe:0.202574\n",
      "[204]\teval-rmse:0.158597\ttrain-rmse:0.148455\teval-rmspe:0.144155\ttrain-rmspe:0.202369\n",
      "[205]\teval-rmse:0.158396\ttrain-rmse:0.148212\teval-rmspe:0.143989\ttrain-rmspe:0.202174\n",
      "[206]\teval-rmse:0.158351\ttrain-rmse:0.148169\teval-rmspe:0.143938\ttrain-rmspe:0.2023\n",
      "[207]\teval-rmse:0.158248\ttrain-rmse:0.148076\teval-rmspe:0.143817\ttrain-rmspe:0.202218\n",
      "[208]\teval-rmse:0.158037\ttrain-rmse:0.147837\teval-rmspe:0.143524\ttrain-rmspe:0.20201\n",
      "[209]\teval-rmse:0.157834\ttrain-rmse:0.147599\teval-rmspe:0.143298\ttrain-rmspe:0.201805\n",
      "[210]\teval-rmse:0.15746\ttrain-rmse:0.147157\teval-rmspe:0.142838\ttrain-rmspe:0.201414\n",
      "[211]\teval-rmse:0.15725\ttrain-rmse:0.146892\teval-rmspe:0.142559\ttrain-rmspe:0.201127\n",
      "[212]\teval-rmse:0.157215\ttrain-rmse:0.146835\teval-rmspe:0.142498\ttrain-rmspe:0.201002\n",
      "[213]\teval-rmse:0.157086\ttrain-rmse:0.14667\teval-rmspe:0.142327\ttrain-rmspe:0.200842\n",
      "[214]\teval-rmse:0.156677\ttrain-rmse:0.146225\teval-rmspe:0.14181\ttrain-rmspe:0.200486\n",
      "[215]\teval-rmse:0.156614\ttrain-rmse:0.146152\teval-rmspe:0.141747\ttrain-rmspe:0.200432\n",
      "[216]\teval-rmse:0.156446\ttrain-rmse:0.145984\teval-rmspe:0.141503\ttrain-rmspe:0.200253\n",
      "[217]\teval-rmse:0.156312\ttrain-rmse:0.145846\teval-rmspe:0.14133\ttrain-rmspe:0.200153\n",
      "[218]\teval-rmse:0.156301\ttrain-rmse:0.145642\teval-rmspe:0.141176\ttrain-rmspe:0.200002\n",
      "[219]\teval-rmse:0.156065\ttrain-rmse:0.145374\teval-rmspe:0.140815\ttrain-rmspe:0.199728\n",
      "[220]\teval-rmse:0.155897\ttrain-rmse:0.145142\teval-rmspe:0.140622\ttrain-rmspe:0.199542\n",
      "[221]\teval-rmse:0.155839\ttrain-rmse:0.145069\teval-rmspe:0.140554\ttrain-rmspe:0.199482\n",
      "[222]\teval-rmse:0.155761\ttrain-rmse:0.144973\teval-rmspe:0.140442\ttrain-rmspe:0.199385\n",
      "[223]\teval-rmse:0.155427\ttrain-rmse:0.144592\teval-rmspe:0.140039\ttrain-rmspe:0.19902\n",
      "[224]\teval-rmse:0.155329\ttrain-rmse:0.144443\teval-rmspe:0.139887\ttrain-rmspe:0.198901\n",
      "[225]\teval-rmse:0.155102\ttrain-rmse:0.144153\teval-rmspe:0.139688\ttrain-rmspe:0.198516\n",
      "[226]\teval-rmse:0.15507\ttrain-rmse:0.144089\teval-rmspe:0.139639\ttrain-rmspe:0.198425\n",
      "[227]\teval-rmse:0.154737\ttrain-rmse:0.143755\teval-rmspe:0.139198\ttrain-rmspe:0.198144\n",
      "[228]\teval-rmse:0.154523\ttrain-rmse:0.143429\teval-rmspe:0.138931\ttrain-rmspe:0.197885\n",
      "[229]\teval-rmse:0.154375\ttrain-rmse:0.143252\teval-rmspe:0.138791\ttrain-rmspe:0.197751\n",
      "[230]\teval-rmse:0.154218\ttrain-rmse:0.143078\teval-rmspe:0.138611\ttrain-rmspe:0.197644\n",
      "[231]\teval-rmse:0.154023\ttrain-rmse:0.142855\teval-rmspe:0.138371\ttrain-rmspe:0.197423\n",
      "[232]\teval-rmse:0.153982\ttrain-rmse:0.142773\teval-rmspe:0.138325\ttrain-rmspe:0.197443\n",
      "[233]\teval-rmse:0.153981\ttrain-rmse:0.142678\teval-rmspe:0.138306\ttrain-rmspe:0.197382\n",
      "[234]\teval-rmse:0.153923\ttrain-rmse:0.142592\teval-rmspe:0.13821\ttrain-rmspe:0.197303\n",
      "[235]\teval-rmse:0.153813\ttrain-rmse:0.142454\teval-rmspe:0.138084\ttrain-rmspe:0.197173\n",
      "[236]\teval-rmse:0.153606\ttrain-rmse:0.142248\teval-rmspe:0.137828\ttrain-rmspe:0.197005\n",
      "[237]\teval-rmse:0.153495\ttrain-rmse:0.142128\teval-rmspe:0.137728\ttrain-rmspe:0.196916\n",
      "[238]\teval-rmse:0.153248\ttrain-rmse:0.141832\teval-rmspe:0.137433\ttrain-rmspe:0.196567\n",
      "[239]\teval-rmse:0.153145\ttrain-rmse:0.141723\teval-rmspe:0.137312\ttrain-rmspe:0.196462\n",
      "[240]\teval-rmse:0.153113\ttrain-rmse:0.141672\teval-rmspe:0.137257\ttrain-rmspe:0.196415\n",
      "[241]\teval-rmse:0.153038\ttrain-rmse:0.141573\teval-rmspe:0.137152\ttrain-rmspe:0.196275\n",
      "[242]\teval-rmse:0.152888\ttrain-rmse:0.141371\teval-rmspe:0.136984\ttrain-rmspe:0.196057\n",
      "[243]\teval-rmse:0.152671\ttrain-rmse:0.141141\teval-rmspe:0.136678\ttrain-rmspe:0.195874\n",
      "[244]\teval-rmse:0.152449\ttrain-rmse:0.140877\teval-rmspe:0.136435\ttrain-rmspe:0.195692\n",
      "[245]\teval-rmse:0.15231\ttrain-rmse:0.14072\teval-rmspe:0.136274\ttrain-rmspe:0.195556\n",
      "[246]\teval-rmse:0.152207\ttrain-rmse:0.14059\teval-rmspe:0.136208\ttrain-rmspe:0.195468\n",
      "[247]\teval-rmse:0.151844\ttrain-rmse:0.140197\teval-rmspe:0.135743\ttrain-rmspe:0.19516\n",
      "[248]\teval-rmse:0.151739\ttrain-rmse:0.140075\teval-rmspe:0.135631\ttrain-rmspe:0.195047\n",
      "[249]\teval-rmse:0.151614\ttrain-rmse:0.13996\teval-rmspe:0.135402\ttrain-rmspe:0.194951\n",
      "[250]\teval-rmse:0.151573\ttrain-rmse:0.139913\teval-rmspe:0.135351\ttrain-rmspe:0.194906\n",
      "[251]\teval-rmse:0.151446\ttrain-rmse:0.139792\teval-rmspe:0.135179\ttrain-rmspe:0.194854\n",
      "[252]\teval-rmse:0.151322\ttrain-rmse:0.139643\teval-rmspe:0.13504\ttrain-rmspe:0.194745\n",
      "[253]\teval-rmse:0.151262\ttrain-rmse:0.139499\teval-rmspe:0.134981\ttrain-rmspe:0.194612\n",
      "[254]\teval-rmse:0.151188\ttrain-rmse:0.13943\teval-rmspe:0.134903\ttrain-rmspe:0.194568\n",
      "[255]\teval-rmse:0.15097\ttrain-rmse:0.139185\teval-rmspe:0.13465\ttrain-rmspe:0.194334\n",
      "[256]\teval-rmse:0.150837\ttrain-rmse:0.139003\teval-rmspe:0.134436\ttrain-rmspe:0.194093\n",
      "[257]\teval-rmse:0.150611\ttrain-rmse:0.138771\teval-rmspe:0.134134\ttrain-rmspe:0.193909\n",
      "[258]\teval-rmse:0.150496\ttrain-rmse:0.138666\teval-rmspe:0.133996\ttrain-rmspe:0.193825\n",
      "[259]\teval-rmse:0.150413\ttrain-rmse:0.138553\teval-rmspe:0.133885\ttrain-rmspe:0.19369\n",
      "[260]\teval-rmse:0.15033\ttrain-rmse:0.138448\teval-rmspe:0.133774\ttrain-rmspe:0.193647\n",
      "[261]\teval-rmse:0.150303\ttrain-rmse:0.138382\teval-rmspe:0.13376\ttrain-rmspe:0.193661\n",
      "[262]\teval-rmse:0.150235\ttrain-rmse:0.138313\teval-rmspe:0.133698\ttrain-rmspe:0.193634\n",
      "[263]\teval-rmse:0.15014\ttrain-rmse:0.138181\teval-rmspe:0.133579\ttrain-rmspe:0.193498\n",
      "[264]\teval-rmse:0.150107\ttrain-rmse:0.138159\teval-rmspe:0.133542\ttrain-rmspe:0.193481\n",
      "[265]\teval-rmse:0.149943\ttrain-rmse:0.13797\teval-rmspe:0.133332\ttrain-rmspe:0.192958\n",
      "[266]\teval-rmse:0.14978\ttrain-rmse:0.137786\teval-rmspe:0.133153\ttrain-rmspe:0.192795\n",
      "[267]\teval-rmse:0.149695\ttrain-rmse:0.137669\teval-rmspe:0.133041\ttrain-rmspe:0.192483\n",
      "[268]\teval-rmse:0.149597\ttrain-rmse:0.137567\teval-rmspe:0.132922\ttrain-rmspe:0.192392\n",
      "[269]\teval-rmse:0.149578\ttrain-rmse:0.137554\teval-rmspe:0.132898\ttrain-rmspe:0.192382\n",
      "[270]\teval-rmse:0.149493\ttrain-rmse:0.137462\teval-rmspe:0.132802\ttrain-rmspe:0.192301\n",
      "[271]\teval-rmse:0.149345\ttrain-rmse:0.137316\teval-rmspe:0.132619\ttrain-rmspe:0.192206\n",
      "[272]\teval-rmse:0.14928\ttrain-rmse:0.137174\teval-rmspe:0.132432\ttrain-rmspe:0.192003\n",
      "[273]\teval-rmse:0.149202\ttrain-rmse:0.137106\teval-rmspe:0.132323\ttrain-rmspe:0.191881\n",
      "[274]\teval-rmse:0.149147\ttrain-rmse:0.13702\teval-rmspe:0.132279\ttrain-rmspe:0.191777\n",
      "[275]\teval-rmse:0.149095\ttrain-rmse:0.136964\teval-rmspe:0.132195\ttrain-rmspe:0.191717\n",
      "[276]\teval-rmse:0.149019\ttrain-rmse:0.136878\teval-rmspe:0.132085\ttrain-rmspe:0.191623\n",
      "[277]\teval-rmse:0.148956\ttrain-rmse:0.136792\teval-rmspe:0.132008\ttrain-rmspe:0.191606\n",
      "[278]\teval-rmse:0.148919\ttrain-rmse:0.136748\teval-rmspe:0.131965\ttrain-rmspe:0.191583\n",
      "[279]\teval-rmse:0.148767\ttrain-rmse:0.136557\teval-rmspe:0.131762\ttrain-rmspe:0.191386\n",
      "[280]\teval-rmse:0.148634\ttrain-rmse:0.136395\teval-rmspe:0.131609\ttrain-rmspe:0.191266\n",
      "[281]\teval-rmse:0.148529\ttrain-rmse:0.136239\teval-rmspe:0.131476\ttrain-rmspe:0.191149\n",
      "[282]\teval-rmse:0.148456\ttrain-rmse:0.136079\teval-rmspe:0.131365\ttrain-rmspe:0.190941\n",
      "[283]\teval-rmse:0.148386\ttrain-rmse:0.136023\teval-rmspe:0.131299\ttrain-rmspe:0.190914\n",
      "[284]\teval-rmse:0.148245\ttrain-rmse:0.135898\teval-rmspe:0.13112\ttrain-rmspe:0.190815\n",
      "[285]\teval-rmse:0.148148\ttrain-rmse:0.135791\teval-rmspe:0.130991\ttrain-rmspe:0.190721\n",
      "[286]\teval-rmse:0.148107\ttrain-rmse:0.135744\teval-rmspe:0.130947\ttrain-rmspe:0.189088\n",
      "[287]\teval-rmse:0.147986\ttrain-rmse:0.13561\teval-rmspe:0.13079\ttrain-rmspe:0.188912\n"
     ]
    },
    {
     "name": "stdout",
     "output_type": "stream",
     "text": [
      "[288]\teval-rmse:0.147928\ttrain-rmse:0.135508\teval-rmspe:0.130726\ttrain-rmspe:0.188008\n",
      "[289]\teval-rmse:0.147904\ttrain-rmse:0.135464\teval-rmspe:0.130675\ttrain-rmspe:0.187962\n",
      "[290]\teval-rmse:0.147795\ttrain-rmse:0.135359\teval-rmspe:0.130561\ttrain-rmspe:0.18781\n",
      "[291]\teval-rmse:0.147784\ttrain-rmse:0.135345\teval-rmspe:0.130548\ttrain-rmspe:0.187799\n",
      "[292]\teval-rmse:0.147772\ttrain-rmse:0.135279\teval-rmspe:0.130519\ttrain-rmspe:0.187754\n",
      "[293]\teval-rmse:0.147672\ttrain-rmse:0.135136\teval-rmspe:0.130406\ttrain-rmspe:0.187507\n",
      "[294]\teval-rmse:0.147631\ttrain-rmse:0.135036\teval-rmspe:0.130351\ttrain-rmspe:0.187456\n",
      "[295]\teval-rmse:0.147561\ttrain-rmse:0.13494\teval-rmspe:0.130262\ttrain-rmspe:0.187384\n",
      "[296]\teval-rmse:0.147265\ttrain-rmse:0.134669\teval-rmspe:0.129833\ttrain-rmspe:0.187156\n",
      "[297]\teval-rmse:0.14724\ttrain-rmse:0.134576\teval-rmspe:0.129789\ttrain-rmspe:0.187081\n",
      "[298]\teval-rmse:0.147194\ttrain-rmse:0.134512\teval-rmspe:0.129769\ttrain-rmspe:0.186986\n",
      "[299]\teval-rmse:0.147057\ttrain-rmse:0.134328\teval-rmspe:0.129566\ttrain-rmspe:0.186489\n"
     ]
    }
   ],
   "source": [
    "params2 = {\"objective\": \"reg:linear\",\n",
    "          \"eta\": 0.1,\n",
    "          \"max_depth\": 9,\n",
    "          \"min_child_weight\":3,\n",
    "          \"gamma\" :0.1,\n",
    "          \"subsample\": 0.7,\n",
    "          \"colsample_bytree\": 0.7,\n",
    "          \"silent\": 1\n",
    "          }\n",
    "\n",
    "start = time.time()\n",
    "gbm2 = xgb.train(params2, dtrain, num_trees, evals=watchlist, early_stopping_rounds=50,evals_result =ret, feval=rmspe_xg, verbose_eval=True)\n",
    "end = time.time()"
   ]
  },
  {
   "cell_type": "code",
   "execution_count": 33,
   "metadata": {},
   "outputs": [
    {
     "data": {
      "image/png": "[encoded data removed]",
      "text/plain": [
       "<Figure size 432x288 with 1 Axes>"
      ]
     },
     "metadata": {
      "needs_background": "light"
     },
     "output_type": "display_data"
    },
    {
     "data": {
      "text/plain": [
       "<matplotlib.axes._subplots.AxesSubplot at 0x1a1b0ab860>"
      ]
     },
     "execution_count": 33,
     "metadata": {},
     "output_type": "execute_result"
    },
    {
     "data": {
      "image/png": "[encoded data removed]",
      "text/plain": [
       "<Figure size 432x288 with 1 Axes>"
      ]
     },
     "metadata": {
      "needs_background": "light"
     },
     "output_type": "display_data"
    }
   ],
   "source": [
    "#从最终的训练importnace中看果然是时间序列影响比较大\n",
    "evaldata = ret['eval']['rmspe'][0:num_trees:10]\n",
    "traindata = ret['train']['rmspe'][0:num_trees:10]\n",
    "plt.plot(range(0,num_trees,10),evaldata,color='red',label=\"eval\")\n",
    "plt.plot(range(0,num_trees,10),traindata,color='blue',label=\"train\")\n",
    "plt.legend(loc='best')\n",
    "y_tick = np.arange(0,1,0.1)\n",
    "plt.yticks(y_tick)\n",
    "plt.show()\n",
    "xgb.plot_importance(gbm2)"
   ]
  },
  {
   "cell_type": "code",
   "execution_count": 30,
   "metadata": {},
   "outputs": [
    {
     "name": "stdout",
     "output_type": "stream",
     "text": [
      "[  544   677   841 ... 40230 40231 40232]\n"
     ]
    }
   ],
   "source": [
    "#预测测试数据\n",
    "regetTest = pd.read_csv(\"./test.csv\")\n",
    "replaceID = regetTest[regetTest.Open == 0.0]['Id']\n",
    "print(replaceID.values)\n",
    "test_probs = gbm2.predict(dtest)\n",
    "result = pd.DataFrame({\"Id\": TESTID , 'Sales': np.exp(test_probs)})\n",
    "result.loc[result['Id'].isin(replaceID.values),'Sales'] = 0"
   ]
  },
  {
   "cell_type": "code",
   "execution_count": 31,
   "metadata": {},
   "outputs": [],
   "source": [
    "#预测测试数据输出\n",
    "result.to_csv(\"xgboost_submission.csv\", index=False)"
   ]
  },
  {
   "cell_type": "code",
   "execution_count": null,
   "metadata": {},
   "outputs": [],
   "source": []
  },
  {
   "cell_type": "code",
   "execution_count": null,
   "metadata": {},
   "outputs": [],
   "source": []
  },
  {
   "cell_type": "code",
   "execution_count": null,
   "metadata": {},
   "outputs": [],
   "source": []
  },
  {
   "cell_type": "code",
   "execution_count": null,
   "metadata": {},
   "outputs": [],
   "source": []
  },
  {
   "cell_type": "code",
   "execution_count": null,
   "metadata": {},
   "outputs": [],
   "source": []
  },
  {
   "cell_type": "code",
   "execution_count": null,
   "metadata": {},
   "outputs": [],
   "source": []
  },
  {
   "cell_type": "code",
   "execution_count": null,
   "metadata": {},
   "outputs": [],
   "source": []
  },
  {
   "cell_type": "code",
   "execution_count": null,
   "metadata": {},
   "outputs": [],
   "source": []
  },
  {
   "cell_type": "code",
   "execution_count": null,
   "metadata": {},
   "outputs": [],
   "source": []
  },
  {
   "cell_type": "code",
   "execution_count": null,
   "metadata": {},
   "outputs": [],
   "source": []
  },
  {
   "cell_type": "code",
   "execution_count": null,
   "metadata": {},
   "outputs": [],
   "source": []
  },
  {
   "cell_type": "code",
   "execution_count": null,
   "metadata": {},
   "outputs": [],
   "source": []
  },
  {
   "cell_type": "code",
   "execution_count": null,
   "metadata": {},
   "outputs": [],
   "source": []
  },
  {
   "cell_type": "code",
   "execution_count": null,
   "metadata": {},
   "outputs": [],
   "source": []
  },
  {
   "cell_type": "code",
   "execution_count": null,
   "metadata": {},
   "outputs": [],
   "source": []
  },
  {
   "cell_type": "code",
   "execution_count": null,
   "metadata": {},
   "outputs": [],
   "source": []
  },
  {
   "cell_type": "code",
   "execution_count": null,
   "metadata": {},
   "outputs": [],
   "source": []
  }
 ],
 "metadata": {
  "kernelspec": {
   "display_name": "Python 3",
   "language": "python",
   "name": "python3"
  },
  "language_info": {
   "codemirror_mode": {
    "name": "ipython",
    "version": 3
   },
   "file_extension": ".py",
   "mimetype": "text/x-python",
   "name": "python",
   "nbconvert_exporter": "python",
   "pygments_lexer": "ipython3",
   "version": "3.7.1"
  }
 },
 "nbformat": 4,
 "nbformat_minor": 2
}
